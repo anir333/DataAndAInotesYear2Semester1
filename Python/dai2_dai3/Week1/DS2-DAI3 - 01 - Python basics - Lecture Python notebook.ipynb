{
 "nbformat": 4,
 "nbformat_minor": 0,
 "metadata": {
  "kernelspec": {
   "display_name": "Python 3",
   "language": "python",
   "name": "python3"
  },
  "language_info": {
   "codemirror_mode": {
    "name": "ipython",
    "version": 2
   },
   "file_extension": ".py",
   "mimetype": "text/x-python",
   "name": "python",
   "nbconvert_exporter": "python",
   "pygments_lexer": "ipython2",
   "version": "2.7.6"
  },
  "colab": {
   "provenance": []
  }
 },
 "cells": [
  {
   "cell_type": "markdown",
   "metadata": {
    "collapsed": false,
    "id": "vwYphyGpXy_C"
   },
   "source": [
    "\n",
    "# Learning the Python Basics\n",
    "\n",
    "The book \"Python Data Science handbook\" expects basic knowledge of Python. This notebook introduces all the important Python basics needed for this Data Science course."
   ]
  },
  {
   "cell_type": "markdown",
   "metadata": {
    "collapsed": false,
    "id": "vda2HWQbXy_I"
   },
   "source": [
    "## Exercise 1 - Basic Python"
   ]
  },
  {
   "cell_type": "markdown",
   "metadata": {
    "collapsed": false,
    "id": "lVX7m2f0Xy_I"
   },
   "source": [
    "Print *Hello World* with the `print()`-function.\n",
    ""
   ]
  },
  {
   "cell_type": "code",
   "metadata": {
    "id": "HapN8zXWRUch",
    "ExecuteTime": {
     "end_time": "2024-09-25T15:36:13.619217Z",
     "start_time": "2024-09-25T15:36:13.610485Z"
    }
   },
   "source": [
    "print('Hello World')"
   ],
   "outputs": [
    {
     "name": "stdout",
     "output_type": "stream",
     "text": [
      "Hello World\n"
     ]
    }
   ],
   "execution_count": 2
  },
  {
   "cell_type": "markdown",
   "metadata": {
    "collapsed": false,
    "id": "YTeZ6DUrRUci"
   },
   "source": [
    "Now, create a variable `name` with your own name and print *Hello your_name*. Use a formatted string (`f'blaba {variable} blabla`) to create it, like `String.format()` in Java does.\n",
    "\n",
    "Here is an example of using an `f` string.\n",
    "```\n",
    "aantal = 3\n",
    "string_een = 'format'\n",
    "string_twee = 'specifiers'\n",
    "print(f'Dit is een string met {aantal} {'string_een'} {'string_twee'} erin')\n",
    "```"
   ]
  },
  {
   "cell_type": "code",
   "metadata": {
    "id": "3HtFcQyQXy_J",
    "ExecuteTime": {
     "end_time": "2024-09-25T15:36:13.898726Z",
     "start_time": "2024-09-25T15:36:13.882312Z"
    }
   },
   "source": [
    "naam = 'Wouter'\n",
    "print(f'Hello {naam}')"
   ],
   "outputs": [
    {
     "name": "stdout",
     "output_type": "stream",
     "text": [
      "Hello Wouter\n"
     ]
    }
   ],
   "execution_count": 3
  },
  {
   "cell_type": "markdown",
   "source": [
    "In Python, you work with modules. A module is similar to a package in Java.\n",
    "To use a module, you perform an import\n",
    "```\n",
    "import math\n",
    "```\n",
    "You then have a namespace 'math' with all the functionalities available in the module. You access them by prefixing your expression with the namespace (e.g., .math.)\n",
    "```\n",
    "print(f'{math.pi}')\n",
    "```\n",
    "You can also give an alias to a namespace. This is done to make your code more readable.\n",
    "```\n",
    "import math as m\n",
    "print(f'{m.ones()}')\n",
    "```\n",
    "Finally, you can also import names directly into the main namespace\n",
    "```\n",
    "from math import sin\n",
    "print(f'{sin(1)}')\n",
    "```"
   ],
   "metadata": {
    "collapsed": false,
    "id": "LAb8jT5dW1a_"
   }
  },
  {
   "cell_type": "markdown",
   "metadata": {
    "collapsed": false,
    "id": "uYeGUu0EXy_L"
   },
   "source": [
    "Calculate the following and print them out.\n",
    "Print them also once using `f` where you print only 2 decimal places.\n",
    "* $25 \\cdot 10$\n",
    "* $e^4$\n",
    "* $3 \\cdot \\pi$\n",
    "* $sin(\\pi)$\n",
    "\n",
    "By placing `:.2f` between the format specifiers (e.g., {25*10:.2f}), you can limit the output to 2 decimal places. This can be useful for nicer formatting. The [formatting options](https://docs.python.org/3/library/string.html#format-examples) are quite extensive. We do not expect you to apply them yourself, but we often use it in the notebooks to present the output of code nicely."
   ]
  },
  {
   "cell_type": "code",
   "metadata": {
    "id": "BBzBL6C0Xy_M",
    "ExecuteTime": {
     "end_time": "2024-09-25T15:36:13.932631Z",
     "start_time": "2024-09-25T15:36:13.898726Z"
    }
   },
   "source": [
    "import math\n",
    "print(f'{25 * 10:.2f}')\n",
    "print(f'{math.exp(4):.2f}')\n",
    "print(f'{3 * math.pi:.2f}')\n",
    "print(f'{math.sin(math.pi):.2f}')"
   ],
   "outputs": [
    {
     "name": "stdout",
     "output_type": "stream",
     "text": [
      "250.00\n",
      "54.60\n",
      "9.42\n",
      "0.00\n"
     ]
    }
   ],
   "execution_count": 4
  },
  {
   "cell_type": "markdown",
   "metadata": {
    "collapsed": false,
    "id": "VRwTWVfDXy_N"
   },
   "source": [
    "Create separate variables for the following data. Then use the `type` function (e.g., type(a)) to print the data types of all variables.\n",
    "\n",
    "* 1\n",
    "* 1.23456\n",
    "* 'Hello World'\n",
    "* \"Hello World\"\n",
    "* 2 > 5\n",
    "* True\n",
    "* NaN (Not a Number)\n",
    "* infinity\n"
   ]
  },
  {
   "cell_type": "code",
   "metadata": {
    "id": "UH8gFYp-Xy_O",
    "ExecuteTime": {
     "end_time": "2024-09-25T15:36:13.973705Z",
     "start_time": "2024-09-25T15:36:13.961288Z"
    }
   },
   "source": [
    "a = 1\n",
    "b = 1.23456\n",
    "c = 'Hello World'\n",
    "d = \"Hello World\"\n",
    "e = 2 > 5\n",
    "f = True\n",
    "g = math.nan\n",
    "h = math.inf\n",
    "print(type(a), type(b), type(c), type(d), type(e), type(f), type(g), type(h), sep='\\n')"
   ],
   "outputs": [
    {
     "name": "stdout",
     "output_type": "stream",
     "text": [
      "<class 'int'>\n",
      "<class 'float'>\n",
      "<class 'str'>\n",
      "<class 'str'>\n",
      "<class 'bool'>\n",
      "<class 'bool'>\n",
      "<class 'float'>\n",
      "<class 'float'>\n"
     ]
    }
   ],
   "execution_count": 5
  },
  {
   "cell_type": "markdown",
   "metadata": {
    "collapsed": false,
    "id": "so4UKFowRUck"
   },
   "source": [
    "Try the following basic operations on strings:\n",
    "* concatenation: with the `+` operator: `'Hello' + ' World'`\n",
    "* `.upper()`\n",
    "* `.replace( , )`\n",
    "* `in` operator: `'He' in 'Hello'`\n",
    "* `str(28)`: create a string object from `int`"
   ]
  },
  {
   "cell_type": "code",
   "metadata": {
    "id": "LnkM4I1vRUck",
    "ExecuteTime": {
     "end_time": "2024-09-25T15:36:14.076173Z",
     "start_time": "2024-09-25T15:36:14.057896Z"
    }
   },
   "source": [
    "s = 'Hello' + ' World'\n",
    "print(s.upper())\n",
    "s.replace('e', 'a')\n",
    "'He' in s\n",
    "str(28)"
   ],
   "outputs": [
    {
     "name": "stdout",
     "output_type": "stream",
     "text": [
      "HELLO WORLD\n"
     ]
    },
    {
     "data": {
      "text/plain": [
       "'28'"
      ]
     },
     "execution_count": 6,
     "metadata": {},
     "output_type": "execute_result"
    }
   ],
   "execution_count": 6
  },
  {
   "cell_type": "markdown",
   "metadata": {
    "collapsed": false,
    "id": "gmoD7ByjRUck"
   },
   "source": [
    "## Exercise 2 - Data Structures in Python\n",
    "### List"
   ]
  },
  {
   "cell_type": "markdown",
   "metadata": {
    "collapsed": false,
    "id": "nKurA73XXy_P"
   },
   "source": [
    "First, create an empty Python **list** `a`.\n",
    "\n",
    "You can create an empty list with the `[]` operator, like this:\n",
    "\n",
    "```python\n",
    "a=[]\n",
    "```\n",
    "You can also create a list with the list() function, but usually, you use the square brackets where possible (see further for an example of using the list() function). Create your empty list below. Try both methods."
   ]
  },
  {
   "cell_type": "code",
   "metadata": {
    "id": "2UoFuQ2uXy_Q",
    "ExecuteTime": {
     "end_time": "2024-09-25T15:36:14.113030Z",
     "start_time": "2024-09-25T15:36:14.105822Z"
    }
   },
   "source": [
    "a = list()\n",
    "a = []"
   ],
   "outputs": [],
   "execution_count": 7
  },
  {
   "cell_type": "markdown",
   "metadata": {
    "collapsed": false,
    "id": "bQpNgC7FXy_Q"
   },
   "source": [
    "Now expand list a with the elements True and 10. Does this work? Could this also be done in Java? Use the append() method."
   ]
  },
  {
   "cell_type": "code",
   "metadata": {
    "id": "q8T35VeyXy_R",
    "ExecuteTime": {
     "end_time": "2024-09-25T15:36:14.226383Z",
     "start_time": "2024-09-25T15:36:14.215049Z"
    }
   },
   "source": [
    "a.append(True)\n",
    "a.append(10)\n",
    "a\n",
    "# In Java, the elements must be of the same type. So only if they have a common supertype can this be done.\n",
    "# Since all classes inherit from Object, this can be done as List<object> a = new ArrayList<>(); but this has serious limitations in terms of using the elements. Unless you use instanceof and casts."
   ],
   "outputs": [
    {
     "data": {
      "text/plain": [
       "[True, 10]"
      ]
     },
     "execution_count": 8,
     "metadata": {},
     "output_type": "execute_result"
    }
   ],
   "execution_count": 8
  },
  {
   "cell_type": "markdown",
   "metadata": {
    "collapsed": false,
    "id": "4nHLgsVDXy_R"
   },
   "source": [
    "Insert the following list ['Hello', 10.3] between True and 10 using the insert method. Thus, you are going to add a list to a list."
   ]
  },
  {
   "cell_type": "code",
   "metadata": {
    "id": "KEzBQRl_Xy_R",
    "ExecuteTime": {
     "end_time": "2024-09-25T15:36:14.311738Z",
     "start_time": "2024-09-25T15:36:14.303246Z"
    }
   },
   "source": [
    "a.insert(1, ['Hello', 10.3])\n",
    "a"
   ],
   "outputs": [
    {
     "data": {
      "text/plain": [
       "[True, ['Hello', 10.3], 10]"
      ]
     },
     "execution_count": 9,
     "metadata": {},
     "output_type": "execute_result"
    }
   ],
   "execution_count": 9
  },
  {
   "cell_type": "markdown",
   "source": [
    "The range function is handy. It allows you to quickly create a list with consecutive numbers rl = list(range(3)\n",
    "```\n",
    "l_range1 = list(range(3))  # [0,1,2]\n",
    "l_range2 = list(range(3,6))  # start, stop [3,4,5] (6 not included)\n",
    "l_range3 = list(range(10,20,2)) # start, stop, step [10,12,14,16,18] (6 not included)\n",
    "```\n",
    "\n",
    "Create a range from 0 to 100.\n",
    "Create a second range from 101 to 1000 with steps of 10.\n",
    "Create a list where the two previous ranges are stored in one list. (Tip: Use the list method extend)"
   ],
   "metadata": {
    "collapsed": false,
    "id": "0VCU8zEIW1bF"
   }
  },
  {
   "cell_type": "code",
   "source": [
    "l_appended = list(range(0,101)) # start, stop, step [10,12,14,16,18] (6 not included)\n",
    "l_appended.extend(range(101,1001,10))\n",
    "print(l_appended)"
   ],
   "metadata": {
    "id": "lLYxf_BUW1bF",
    "ExecuteTime": {
     "end_time": "2024-09-25T15:36:14.364425Z",
     "start_time": "2024-09-25T15:36:14.352387Z"
    }
   },
   "outputs": [
    {
     "name": "stdout",
     "output_type": "stream",
     "text": [
      "[0, 1, 2, 3, 4, 5, 6, 7, 8, 9, 10, 11, 12, 13, 14, 15, 16, 17, 18, 19, 20, 21, 22, 23, 24, 25, 26, 27, 28, 29, 30, 31, 32, 33, 34, 35, 36, 37, 38, 39, 40, 41, 42, 43, 44, 45, 46, 47, 48, 49, 50, 51, 52, 53, 54, 55, 56, 57, 58, 59, 60, 61, 62, 63, 64, 65, 66, 67, 68, 69, 70, 71, 72, 73, 74, 75, 76, 77, 78, 79, 80, 81, 82, 83, 84, 85, 86, 87, 88, 89, 90, 91, 92, 93, 94, 95, 96, 97, 98, 99, 100, 101, 111, 121, 131, 141, 151, 161, 171, 181, 191, 201, 211, 221, 231, 241, 251, 261, 271, 281, 291, 301, 311, 321, 331, 341, 351, 361, 371, 381, 391, 401, 411, 421, 431, 441, 451, 461, 471, 481, 491, 501, 511, 521, 531, 541, 551, 561, 571, 581, 591, 601, 611, 621, 631, 641, 651, 661, 671, 681, 691, 701, 711, 721, 731, 741, 751, 761, 771, 781, 791, 801, 811, 821, 831, 841, 851, 861, 871, 881, 891, 901, 911, 921, 931, 941, 951, 961, 971, 981, 991]\n"
     ]
    }
   ],
   "execution_count": 10
  },
  {
   "cell_type": "markdown",
   "metadata": {
    "collapsed": false,
    "id": "xAAJSP8uXy_R"
   },
   "source": [
    "### Dictionary\n",
    "A dictionary can be created with the {} operator. It works the same as a Map in Java.\n",
    "```python\n",
    "d = {\n",
    "    # here come the key : value pairs.\n",
    "    # keys are often strings\n",
    "}\n",
    "```\n",
    "Now create a dictionary d with two keys:\n",
    "* 'a' : ['e','f']\n",
    "* 'b' : ['a','b']\n",
    "\n",
    "and print it out."
   ]
  },
  {
   "cell_type": "code",
   "source": [
    "d = {\n",
    "'a': ['e','f'],\n",
    "'b': ['a', 'b']\n",
    "}\n",
    "d"
   ],
   "metadata": {
    "id": "nwIscY5qW1bF",
    "ExecuteTime": {
     "end_time": "2024-09-25T15:36:14.473889Z",
     "start_time": "2024-09-25T15:36:14.461377Z"
    }
   },
   "outputs": [
    {
     "data": {
      "text/plain": [
       "{'a': ['e', 'f'], 'b': ['a', 'b']}"
      ]
     },
     "execution_count": 11,
     "metadata": {},
     "output_type": "execute_result"
    }
   ],
   "execution_count": 11
  },
  {
   "cell_type": "markdown",
   "source": [
    "Try the methods .keys() and .values() on dictionary d. What does .items() do? Do you see a connection with the Map interface from Java? What does .items() do? Do you see a connection with the Map interface from Java?"
   ],
   "metadata": {
    "collapsed": false,
    "id": "bGdSI0VvW1bF"
   }
  },
  {
   "cell_type": "code",
   "source": [
    "d.keys()\n",
    "d.values()\n",
    "d.items()\n",
    "#Yes, the keys and values are the keys and values of the map. The items are the entries of the map.\n",
    "#In Java, you can also get the keys with map.keySet() and the values with map.values()\n",
    "#In Java, you can also get the entries with map.entrySet(). This is the same as the items of the dictionary."
   ],
   "metadata": {
    "id": "zlPYigkiW1bG",
    "ExecuteTime": {
     "end_time": "2024-09-25T15:36:14.522490Z",
     "start_time": "2024-09-25T15:36:14.511190Z"
    }
   },
   "outputs": [
    {
     "data": {
      "text/plain": [
       "dict_items([('a', ['e', 'f']), ('b', ['a', 'b'])])"
      ]
     },
     "execution_count": 12,
     "metadata": {},
     "output_type": "execute_result"
    }
   ],
   "execution_count": 12
  },
  {
   "cell_type": "markdown",
   "source": [
    "Add the dictionary to the list a. Now look at list a. What do you see?"
   ],
   "metadata": {
    "collapsed": false,
    "id": "Z9dsrDdmW1bG"
   }
  },
  {
   "cell_type": "code",
   "metadata": {
    "id": "j6R2Tn_eXy_S",
    "ExecuteTime": {
     "end_time": "2024-09-25T15:36:14.633226Z",
     "start_time": "2024-09-25T15:36:14.620892Z"
    }
   },
   "source": [
    "a.append(d)\n",
    "a"
   ],
   "outputs": [
    {
     "data": {
      "text/plain": [
       "[True, ['Hello', 10.3], 10, {'a': ['e', 'f'], 'b': ['a', 'b']}]"
      ]
     },
     "execution_count": 13,
     "metadata": {},
     "output_type": "execute_result"
    }
   ],
   "execution_count": 13
  },
  {
   "cell_type": "markdown",
   "metadata": {
    "collapsed": false,
    "id": "XIw9hPikRUcm"
   },
   "source": [
    "Print the length of the list with the len() function."
   ]
  },
  {
   "cell_type": "code",
   "metadata": {
    "id": "VexcDl4oRUcn",
    "ExecuteTime": {
     "end_time": "2024-09-25T15:36:14.682595Z",
     "start_time": "2024-09-25T15:36:14.667212Z"
    }
   },
   "source": [
    "len(a)"
   ],
   "outputs": [
    {
     "data": {
      "text/plain": [
       "4"
      ]
     },
     "execution_count": 14,
     "metadata": {},
     "output_type": "execute_result"
    }
   ],
   "execution_count": 14
  },
  {
   "cell_type": "markdown",
   "metadata": {
    "collapsed": false,
    "id": "xBXaCMrnRUcn"
   },
   "source": [
    "Check if an element is in a list with the in operator: e in [...] Test this on list a."
   ]
  },
  {
   "cell_type": "code",
   "metadata": {
    "id": "euxDiB7PRUcn",
    "ExecuteTime": {
     "end_time": "2024-09-25T15:36:14.739865Z",
     "start_time": "2024-09-25T15:36:14.731546Z"
    }
   },
   "source": [
    "[1, 2, 3, 4] in a"
   ],
   "outputs": [
    {
     "data": {
      "text/plain": [
       "False"
      ]
     },
     "execution_count": 15,
     "metadata": {},
     "output_type": "execute_result"
    }
   ],
   "execution_count": 15
  },
  {
   "cell_type": "markdown",
   "metadata": {
    "collapsed": false,
    "id": "EUm_CEYpRUcn"
   },
   "source": [
    "Create a list b with the statement b=a. Change the first element of b to 10. Now print a. What do you notice?"
   ]
  },
  {
   "cell_type": "code",
   "metadata": {
    "id": "IYesP4FcRUco",
    "ExecuteTime": {
     "end_time": "2024-09-25T15:36:14.799484Z",
     "start_time": "2024-09-25T15:36:14.783552Z"
    }
   },
   "source": [
    "b = a\n",
    "b[0] = 10\n",
    "a\n",
    "#a is also changed. b is therefore a reference to a and not a copy."
   ],
   "outputs": [
    {
     "data": {
      "text/plain": [
       "[10, ['Hello', 10.3], 10, {'a': ['e', 'f'], 'b': ['a', 'b']}]"
      ]
     },
     "execution_count": 16,
     "metadata": {},
     "output_type": "execute_result"
    }
   ],
   "execution_count": 16
  },
  {
   "cell_type": "markdown",
   "metadata": {
    "collapsed": false,
    "id": "3hTNOovMRUco"
   },
   "source": [
    "Test the following methods on list a:\n",
    "* `.copy()`\n",
    "* `.remove()`\n",
    "* `.pop()`"
   ]
  },
  {
   "cell_type": "code",
   "metadata": {
    "id": "P2H6j-ToRUco",
    "ExecuteTime": {
     "end_time": "2024-09-25T15:36:14.905181Z",
     "start_time": "2024-09-25T15:36:14.890381Z"
    }
   },
   "source": [
    "b = a.copy()\n",
    "b.remove(10)\n",
    "b.pop()\n",
    "b"
   ],
   "outputs": [
    {
     "data": {
      "text/plain": [
       "[['Hello', 10.3], 10]"
      ]
     },
     "execution_count": 17,
     "metadata": {},
     "output_type": "execute_result"
    }
   ],
   "execution_count": 17
  },
  {
   "cell_type": "markdown",
   "source": [
    "### If-else\n",
    "In Pyhon if structures are written as follows:\n",
    "```python\n",
    "if condition:\n",
    "    a = 1\n",
    "elif condition:\n",
    "    a =2     \n",
    "else:\n",
    "    a = 3\n",
    "```\n",
    "Python uses indentation to indicate the code block. This is different from Java, where you use curly braces {}.\n",
    "Now write an if-else structure that prints 'True' if n1 is greater than n2, 'False' if n1 is less than n2, and 'Equal' if they are equal. Create two variables n1 and n2 and test your if-else structure.\n"
   ],
   "metadata": {
    "collapsed": false,
    "id": "cAD6kMppW1bH"
   }
  },
  {
   "cell_type": "code",
   "source": [
    "n1 = 0\n",
    "n2 = 10\n",
    "if n1 > n2:\n",
    "    print('True')\n",
    "elif n1 < n2:\n",
    "    print('False')\n",
    "else:\n",
    "    print('Equal')"
   ],
   "metadata": {
    "id": "NJ3FC2e8W1bH",
    "ExecuteTime": {
     "end_time": "2024-09-25T15:36:14.946900Z",
     "start_time": "2024-09-25T15:36:14.937540Z"
    }
   },
   "outputs": [
    {
     "name": "stdout",
     "output_type": "stream",
     "text": [
      "False\n"
     ]
    }
   ],
   "execution_count": 18
  },
  {
   "cell_type": "markdown",
   "source": [
    "Now adjust the if-else structure so that the first if also prints 'True' if n1 is 0. Use the `or` operator and use == for comparison."
   ],
   "metadata": {
    "collapsed": false,
    "id": "jdwrqKUsW1bH"
   }
  },
  {
   "cell_type": "code",
   "source": [
    "if (n1 > n2) or n1==0 :\n",
    "    print('True')\n",
    "elif n1 < n2:\n",
    "    print('False')\n",
    "else:\n",
    "    print('Equal')"
   ],
   "metadata": {
    "id": "mtMeCPPhW1bM",
    "ExecuteTime": {
     "end_time": "2024-09-25T15:36:15.046386Z",
     "start_time": "2024-09-25T15:36:15.031951Z"
    }
   },
   "outputs": [
    {
     "name": "stdout",
     "output_type": "stream",
     "text": [
      "True\n"
     ]
    }
   ],
   "execution_count": 19
  },
  {
   "cell_type": "markdown",
   "metadata": {
    "collapsed": false,
    "id": "vqgFSU5mXy_S"
   },
   "source": [
    "### Iterating over data\n",
    "#### for-loop\n",
    "Create a new list and iterate over it with a for-loop. You can do this as follows:\n",
    "```python\n",
    "a = je_lijst\n",
    "\n",
    "for element in a:\n",
    "    # doe iets met het element\n",
    "```\n",
    "\n",
    "\n",
    "Iterate over the list of letters of the alphabet and print them with their index. The list of letters of the alphabet is available in the string library.\n",
    "\n",
    "```python\n",
    "import string\n",
    "string.ascii_letters  # dit is de lijst van lettters.\n",
    "```"
   ]
  },
  {
   "cell_type": "code",
   "metadata": {
    "id": "7qBtQ26sXy_T",
    "ExecuteTime": {
     "end_time": "2024-09-25T15:36:15.075214Z",
     "start_time": "2024-09-25T15:36:15.063574Z"
    }
   },
   "source": [
    "import string\n",
    "\n",
    "for letter in string.ascii_letters:\n",
    "    print(letter)"
   ],
   "outputs": [
    {
     "name": "stdout",
     "output_type": "stream",
     "text": [
      "a\n",
      "b\n",
      "c\n",
      "d\n",
      "e\n",
      "f\n",
      "g\n",
      "h\n",
      "i\n",
      "j\n",
      "k\n",
      "l\n",
      "m\n",
      "n\n",
      "o\n",
      "p\n",
      "q\n",
      "r\n",
      "s\n",
      "t\n",
      "u\n",
      "v\n",
      "w\n",
      "x\n",
      "y\n",
      "z\n",
      "A\n",
      "B\n",
      "C\n",
      "D\n",
      "E\n",
      "F\n",
      "G\n",
      "H\n",
      "I\n",
      "J\n",
      "K\n",
      "L\n",
      "M\n",
      "N\n",
      "O\n",
      "P\n",
      "Q\n",
      "R\n",
      "S\n",
      "T\n",
      "U\n",
      "V\n",
      "W\n",
      "X\n",
      "Y\n",
      "Z\n"
     ]
    }
   ],
   "execution_count": 20
  },
  {
   "cell_type": "markdown",
   "metadata": {
    "collapsed": false,
    "id": "fL5tlfUmXy_T"
   },
   "source": [
    "#### List comprehension\n",
    "\n",
    "A handy way to create a list is by using a list comprehension. A simple list comprehension is shown below. It is nothing more than a for-loop within square brackets ([]) where the function to be applied to the element comes before the for. List comprehensions provide compact code.\n",
    "\n",
    "```python\n",
    "[do_something_with(x) for x in list]\n",
    "```\n",
    "The example below creates a list of strings with a sequence number. It uses a formatted string.\n",
    "\n",
    "```python\n",
    "['column {i}' for i in range(1,21)]\n",
    "```\n",
    "\n",
    "\n",
    "Now create a list of squares, called squares, of all even numbers between 0 and 50 (inclusive)."
   ]
  },
  {
   "cell_type": "code",
   "metadata": {
    "id": "Y4atNpxkXy_U",
    "ExecuteTime": {
     "end_time": "2024-09-25T15:36:15.174952Z",
     "start_time": "2024-09-25T15:36:15.157929Z"
    }
   },
   "source": [
    "kwadraten = [math.pow(i, 2) for i in range(0, 51, 2)]\n",
    "for e in enumerate(string.ascii_letters):\n",
    "    print(e)\n"
   ],
   "outputs": [
    {
     "name": "stdout",
     "output_type": "stream",
     "text": [
      "(0, 'a')\n",
      "(1, 'b')\n",
      "(2, 'c')\n",
      "(3, 'd')\n",
      "(4, 'e')\n",
      "(5, 'f')\n",
      "(6, 'g')\n",
      "(7, 'h')\n",
      "(8, 'i')\n",
      "(9, 'j')\n",
      "(10, 'k')\n",
      "(11, 'l')\n",
      "(12, 'm')\n",
      "(13, 'n')\n",
      "(14, 'o')\n",
      "(15, 'p')\n",
      "(16, 'q')\n",
      "(17, 'r')\n",
      "(18, 's')\n",
      "(19, 't')\n",
      "(20, 'u')\n",
      "(21, 'v')\n",
      "(22, 'w')\n",
      "(23, 'x')\n",
      "(24, 'y')\n",
      "(25, 'z')\n",
      "(26, 'A')\n",
      "(27, 'B')\n",
      "(28, 'C')\n",
      "(29, 'D')\n",
      "(30, 'E')\n",
      "(31, 'F')\n",
      "(32, 'G')\n",
      "(33, 'H')\n",
      "(34, 'I')\n",
      "(35, 'J')\n",
      "(36, 'K')\n",
      "(37, 'L')\n",
      "(38, 'M')\n",
      "(39, 'N')\n",
      "(40, 'O')\n",
      "(41, 'P')\n",
      "(42, 'Q')\n",
      "(43, 'R')\n",
      "(44, 'S')\n",
      "(45, 'T')\n",
      "(46, 'U')\n",
      "(47, 'V')\n",
      "(48, 'W')\n",
      "(49, 'X')\n",
      "(50, 'Y')\n",
      "(51, 'Z')\n"
     ]
    }
   ],
   "execution_count": 21
  },
  {
   "cell_type": "code",
   "source": [],
   "metadata": {
    "id": "8lZd0dBpW1bN",
    "ExecuteTime": {
     "end_time": "2024-09-25T15:36:15.213512Z",
     "start_time": "2024-09-25T15:36:15.205300Z"
    }
   },
   "outputs": [],
   "execution_count": 21
  },
  {
   "cell_type": "markdown",
   "metadata": {
    "collapsed": false,
    "id": "NzB9CKihRUcq"
   },
   "source": [
    "## Exercise 3 - Multi-dimensional lists"
   ]
  },
  {
   "cell_type": "markdown",
   "metadata": {
    "collapsed": false,
    "id": "VKUCgJYJRUcq"
   },
   "source": [
    "Create a new Python list a that consists of two lists. You can do this by using square brackets twice.\n",
    "\n",
    "```python\n",
    "a = [\n",
    "        [1,2,3],\n",
    "        [4,5,6],\n",
    "        ...\n",
    "    ]\n",
    "```\n",
    "Create a two-dimensional list with 3 rows and 4 columns with the numbers 1 to 12. Do this in three ways:  \n",
    "by writing out all the values yourself\n",
    "by using the range() function\n",
    "by using a double list comprehension (this is more difficult). [[func(e) for e in l1] for i in l2]"
   ]
  },
  {
   "cell_type": "code",
   "metadata": {
    "id": "ecvABmFaRUcq",
    "ExecuteTime": {
     "end_time": "2024-09-25T15:36:15.329728Z",
     "start_time": "2024-09-25T15:36:15.321067Z"
    }
   },
   "source": [
    "a = [[1, 2, 3, 4], [5, 6, 7, 8], [9, 10, 11, 12]]\n",
    "a = [list(range(1, 5)), list(range(5, 9)), list(range(9, 13))]\n",
    "a = [[e + i for e in range(0, 4)] for i in range(1, 10, 4)]\n",
    "\n",
    "print(a)"
   ],
   "outputs": [
    {
     "name": "stdout",
     "output_type": "stream",
     "text": [
      "[[1, 2, 3, 4], [5, 6, 7, 8], [9, 10, 11, 12]]\n"
     ]
    }
   ],
   "execution_count": 22
  },
  {
   "cell_type": "markdown",
   "metadata": {
    "collapsed": false,
    "id": "oIAerhtURUcq"
   },
   "source": [
    "Print the lengths of the different dimensions of your two-dimensional list. Apply the len() function to your entire list and to the rows of your list. Can you determine the dimensions (3 x 4)?"
   ]
  },
  {
   "cell_type": "code",
   "metadata": {
    "id": "W1ovPHhWRUcr",
    "ExecuteTime": {
     "end_time": "2024-09-25T15:36:15.376671Z",
     "start_time": "2024-09-25T15:36:15.369465Z"
    }
   },
   "source": [
    "print(len(a))\n",
    "print(len(a[0]))\n"
   ],
   "outputs": [
    {
     "name": "stdout",
     "output_type": "stream",
     "text": [
      "3\n",
      "4\n"
     ]
    }
   ],
   "execution_count": 23
  },
  {
   "cell_type": "markdown",
   "metadata": {
    "collapsed": false,
    "id": "b5pvzs_MXy_V"
   },
   "source": [
    "## Exercise 4 - Python functions\n"
   ]
  },
  {
   "cell_type": "markdown",
   "metadata": {
    "collapsed": false,
    "id": "t49--hSMXy_V"
   },
   "source": [
    "As you probably know by now, Python is a complete object-oriented programming language, and of course, that includes user-defined functions. Here is an example of a function definition:\n",
    "\n",
    "```python\n",
    "def my_function(arg1, arg2, ..., argn):\n",
    "    # here you can calculate anything\n",
    "    # and possibly return one or more values with\n",
    "    return a,b,c,d      # we return 4 values at once (this is actually a 4-tuple)\n",
    "\n",
    "a,b,c,d = my_function(1, 2,..., 3)        # example of a call\n",
    "```\n",
    "Python is a dynamically typed language, which means that the data type of variables is only known during the execution of the program. This makes programming a bit more difficult because you are more likely to write errors (unlike Java). You can improve this somewhat by writing type hints yourself. You do this as follows, applied to the above example:\n",
    "\n",
    "```python\n",
    "def my_function(arg1 : int,arg2 : bool, ... ,argn: float):\n",
    "    # here you can calculate anything\n",
    "    # and possibly return one or more values with\n",
    "    return a,b,c,d      # we return 4 values\n",
    "\n",
    "a,b,c,d = my_function(1, True,..., 3.3)       # example of a call     # voorbeeld van een aanroep\n",
    "```\n",
    "PyCharm can take this into account and provide you with better code completion.\n",
    "Now write a function that calculates the BMI of a person based on their height (in meters, float), and their weight (in kg, float). and then execute it"
   ]
  },
  {
   "cell_type": "code",
   "metadata": {
    "id": "Szh_b-5vW1bO",
    "ExecuteTime": {
     "end_time": "2024-09-25T15:36:15.489462Z",
     "start_time": "2024-09-25T15:36:15.477399Z"
    }
   },
   "source": [
    "def bmi(height: float, weight: float):\n",
    "    return weight / math.pow(height, 2)\n",
    "\n",
    "bmi(1.73, 70)"
   ],
   "outputs": [
    {
     "data": {
      "text/plain": [
       "23.38868655818771"
      ]
     },
     "execution_count": 24,
     "metadata": {},
     "output_type": "execute_result"
    }
   ],
   "execution_count": 24
  },
  {
   "cell_type": "markdown",
   "source": [
    "You do not have to pass the parameters in order, but then you name the parameters```\n",
    "my_function(arg2=False, arg1=1)\n",
    "```\n",
    "\n",
    "You can also provide defaults for the parameters in the function. If you do not provide the parameter when executing, the function will use the default value. The parameters with defaults must always be placed after the non-default parameters\n",
    "\n",
    "```\n",
    "def my_function(arg2 :bool, arg1 : int = 1): ...\n",
    "\n",
    "my_function(arg2 = True)\n",
    "```\n",
    "\n",
    "Modify your bmi function so that the height defaults to 1.75"
   ],
   "metadata": {
    "collapsed": false,
    "id": "a2VqtqW7W1bO"
   }
  },
  {
   "cell_type": "code",
   "source": [
    "def bmi(weight: float, height: float = 1.75, ):\n",
    "    return weight / math.pow(height, 2)\n",
    "\n",
    "bmi(weight =  80)"
   ],
   "metadata": {
    "id": "dIAUx4QnXy_V",
    "ExecuteTime": {
     "end_time": "2024-09-25T15:36:15.521759Z",
     "start_time": "2024-09-25T15:36:15.512765Z"
    }
   },
   "outputs": [
    {
     "data": {
      "text/plain": [
       "26.122448979591837"
      ]
     },
     "execution_count": 25,
     "metadata": {},
     "output_type": "execute_result"
    }
   ],
   "execution_count": 25
  },
  {
   "cell_type": "markdown",
   "metadata": {
    "collapsed": false,
    "id": "GqJpFAlJXy_Y"
   },
   "source": []
  }
 ]
}
