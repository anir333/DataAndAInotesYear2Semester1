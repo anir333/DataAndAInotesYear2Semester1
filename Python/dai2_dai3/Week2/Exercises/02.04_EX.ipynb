{
 "cells": [
  {
   "cell_type": "code",
   "id": "initial_id",
   "metadata": {
    "collapsed": true,
    "ExecuteTime": {
     "end_time": "2024-10-02T21:56:38.959530Z",
     "start_time": "2024-10-02T21:56:38.560748Z"
    }
   },
   "source": [
    "import numpy as np\n",
    "import sklearn.datasets as ds\n",
    "import numpy as np\n",
    "large_array, _ = ds.make_gaussian_quantiles(n_samples=10000, n_features=1, random_state=42)\n",
    "large_array= large_array.reshape((10000,))\n",
    "a = np.array(ds.load_iris().data)\n"
   ],
   "outputs": [],
   "execution_count": 2
  },
  {
   "metadata": {},
   "cell_type": "markdown",
   "source": [
    "## 2. Aggregations\n",
    "a. Calculate the mean of array a.\n",
    "b. Calculate the sum of all the columns in a.\n",
    "c. Calculate the product of all the rows in a.\n",
    "\n"
   ],
   "id": "adae51bffadde368"
  },
  {
   "cell_type": "code",
   "source": [
    "print(np.mean(a))\n",
    "print(np.sum(a, axis=0))\n",
    "print(np.prod(a, axis=1))"
   ],
   "metadata": {
    "collapsed": false,
    "ExecuteTime": {
     "end_time": "2024-10-02T21:56:40.967305Z",
     "start_time": "2024-10-02T21:56:40.951143Z"
    }
   },
   "id": "3e4c1bb4c1aa1a4b",
   "outputs": [
    {
     "name": "stdout",
     "output_type": "stream",
     "text": [
      "3.4644999999999997\n",
      "[876.5 458.6 563.7 179.9]\n",
      "[  4.998    4.116    3.9104   4.278    5.04    14.3208   6.5688   5.1\n",
      "   3.5728   2.2785   5.994    5.2224   2.016    1.419    5.568   15.048\n",
      "  10.9512   7.497   11.0466   8.721    6.2424  11.322    3.312   14.3055\n",
      "   6.2016   4.8     10.88     5.46     4.9504   4.8128   4.7616  11.016\n",
      "   3.198    6.468    4.557    3.84     5.005    2.4696   3.432    5.202\n",
      "   6.825    4.0365   3.6608  16.8     14.7288   6.048    6.2016   4.1216\n",
      "   5.883    4.62   147.392  138.24   157.2165  65.78   125.58    93.366\n",
      " 156.3408  38.808  114.4572  76.6584  35.     111.51    52.8    116.4002\n",
      "  76.0032 127.9432 113.4     64.206   92.07    60.06   163.1232  88.816\n",
      " 115.7625  96.3312 103.7504 121.968  127.9488 170.85   117.45    51.87\n",
      "  55.176   48.84    73.2888 132.192  109.35   146.88   146.4285  82.8828\n",
      "  89.544   71.5     75.504  117.852   72.384   37.95    82.5552  86.184\n",
      "  90.2538 100.5082  42.075   85.0668 311.85   151.7454 263.907  184.1616\n",
      " 248.82   316.008   93.7125 240.0678 174.87   395.28   212.16   174.0096\n",
      " 235.62   142.5    198.7776 249.6512 193.05   431.2924 317.7174  99.\n",
      " 289.4688 153.664  288.904  150.0282 264.6567 248.832  149.9904 161.406\n",
      " 210.7392 200.448  240.1448 384.256  220.7744 134.946  124.3424 324.093\n",
      " 287.8848 196.416  155.52   242.5626 279.1488 250.9047 151.7454 295.2832\n",
      " 315.0675 240.396  149.625  202.8    261.8136 162.486 ]\n"
     ]
    }
   ],
   "execution_count": 3
  },
  {
   "metadata": {},
   "cell_type": "markdown",
   "source": "d. Calculate the standard deviation of the first column in a by calculation the standard deviation of every column of array a and then selecting the first element of the resulting array.",
   "id": "aa12de36838d0f42"
  },
  {
   "cell_type": "code",
   "source": "print(np.std(a, axis=0)[0])",
   "metadata": {
    "collapsed": false,
    "ExecuteTime": {
     "end_time": "2024-10-02T21:57:34.905168Z",
     "start_time": "2024-10-02T21:57:34.896167Z"
    }
   },
   "id": "8e05d131730b06d",
   "outputs": [
    {
     "name": "stdout",
     "output_type": "stream",
     "text": [
      "0.8253012917851409\n"
     ]
    }
   ],
   "execution_count": 4
  },
  {
   "metadata": {},
   "cell_type": "markdown",
   "source": [
    "\n",
    "e. Calculate the standard deviation of the first column in a by selecting the first column and then calculating the standard deviation."
   ],
   "id": "b1a4e69b64e9b9c"
  },
  {
   "cell_type": "code",
   "source": "print(np.std(a[:, 0]))",
   "metadata": {
    "collapsed": false,
    "ExecuteTime": {
     "end_time": "2024-10-02T21:59:55.685406Z",
     "start_time": "2024-10-02T21:59:55.671905Z"
    }
   },
   "id": "66e5746bca89efa9",
   "outputs": [
    {
     "name": "stdout",
     "output_type": "stream",
     "text": [
      "0.8253012917851409\n"
     ]
    }
   ],
   "execution_count": 6
  },
  {
   "cell_type": "markdown",
   "source": [
    "f. Compare the time it takes to calculate the standard deviation of the first column in a using the two methods above. Which method is faster? Why"
   ],
   "metadata": {
    "collapsed": false
   },
   "id": "f06ee6d2ff271a49"
  },
  {
   "cell_type": "code",
   "source": [
    "%timeit np.std(a, axis=0)\n",
    "%timeit np.std(a[:, 0])\n",
    "%time a.std(axis=0)[0]\n",
    "%time a[:, 0].std()"
   ],
   "metadata": {
    "collapsed": false,
    "ExecuteTime": {
     "end_time": "2024-10-02T22:06:08.559559Z",
     "start_time": "2024-10-02T22:06:02.221886Z"
    }
   },
   "id": "dd9325c76be23450",
   "outputs": [
    {
     "name": "stdout",
     "output_type": "stream",
     "text": [
      "43.7 μs ± 5.48 μs per loop (mean ± std. dev. of 7 runs, 10,000 loops each)\n",
      "28.7 μs ± 1 μs per loop (mean ± std. dev. of 7 runs, 10,000 loops each)\n",
      "CPU times: user 323 μs, sys: 0 ns, total: 323 μs\n",
      "Wall time: 299 μs\n",
      "CPU times: user 61 μs, sys: 0 ns, total: 61 μs\n",
      "Wall time: 64.1 μs\n"
     ]
    },
    {
     "data": {
      "text/plain": [
       "0.8253012917851409"
      ]
     },
     "execution_count": 17,
     "metadata": {},
     "output_type": "execute_result"
    }
   ],
   "execution_count": 17
  },
  {
   "cell_type": "markdown",
   "source": [
    "This is another example where chosing the right method can make a big difference in performance. Chosing an efficient solution will be taken into account when evaluating. "
   ],
   "metadata": {
    "collapsed": false
   },
   "id": "7a0cf5080120dc37"
  }
 ],
 "metadata": {
  "kernelspec": {
   "display_name": "Python 3",
   "language": "python",
   "name": "python3"
  },
  "language_info": {
   "codemirror_mode": {
    "name": "ipython",
    "version": 2
   },
   "file_extension": ".py",
   "mimetype": "text/x-python",
   "name": "python",
   "nbconvert_exporter": "python",
   "pygments_lexer": "ipython2",
   "version": "2.7.6"
  }
 },
 "nbformat": 4,
 "nbformat_minor": 5
}
