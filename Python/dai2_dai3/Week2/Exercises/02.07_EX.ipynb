{
 "cells": [
  {
   "cell_type": "code",
   "id": "initial_id",
   "metadata": {
    "collapsed": true,
    "ExecuteTime": {
     "end_time": "2024-10-03T14:59:57.652370Z",
     "start_time": "2024-10-03T14:59:57.531347Z"
    }
   },
   "source": [
    "import numpy as np\n",
    "import sklearn.datasets as ds\n",
    "import numpy as np\n",
    "from pandas.conftest import axis_1\n",
    "\n",
    "wine_x= np.array(ds.load_wine().data)\n",
    "wine_y= np.array(ds.load_wine().target)\n",
    "descr= ds.load_wine().DESCR\n",
    "print(descr)"
   ],
   "outputs": [
    {
     "name": "stdout",
     "output_type": "stream",
     "text": [
      ".. _wine_dataset:\n",
      "\n",
      "Wine recognition dataset\n",
      "------------------------\n",
      "\n",
      "**Data Set Characteristics:**\n",
      "\n",
      ":Number of Instances: 178\n",
      ":Number of Attributes: 13 numeric, predictive attributes and the class\n",
      ":Attribute Information:\n",
      "    - Alcohol\n",
      "    - Malic acid\n",
      "    - Ash\n",
      "    - Alcalinity of ash\n",
      "    - Magnesium\n",
      "    - Total phenols\n",
      "    - Flavanoids\n",
      "    - Nonflavanoid phenols\n",
      "    - Proanthocyanins\n",
      "    - Color intensity\n",
      "    - Hue\n",
      "    - OD280/OD315 of diluted wines\n",
      "    - Proline\n",
      "    - class:\n",
      "        - class_0\n",
      "        - class_1\n",
      "        - class_2\n",
      "\n",
      ":Summary Statistics:\n",
      "\n",
      "============================= ==== ===== ======= =====\n",
      "                                Min   Max   Mean     SD\n",
      "============================= ==== ===== ======= =====\n",
      "Alcohol:                      11.0  14.8    13.0   0.8\n",
      "Malic Acid:                   0.74  5.80    2.34  1.12\n",
      "Ash:                          1.36  3.23    2.36  0.27\n",
      "Alcalinity of Ash:            10.6  30.0    19.5   3.3\n",
      "Magnesium:                    70.0 162.0    99.7  14.3\n",
      "Total Phenols:                0.98  3.88    2.29  0.63\n",
      "Flavanoids:                   0.34  5.08    2.03  1.00\n",
      "Nonflavanoid Phenols:         0.13  0.66    0.36  0.12\n",
      "Proanthocyanins:              0.41  3.58    1.59  0.57\n",
      "Colour Intensity:              1.3  13.0     5.1   2.3\n",
      "Hue:                          0.48  1.71    0.96  0.23\n",
      "OD280/OD315 of diluted wines: 1.27  4.00    2.61  0.71\n",
      "Proline:                       278  1680     746   315\n",
      "============================= ==== ===== ======= =====\n",
      "\n",
      ":Missing Attribute Values: None\n",
      ":Class Distribution: class_0 (59), class_1 (71), class_2 (48)\n",
      ":Creator: R.A. Fisher\n",
      ":Donor: Michael Marshall (MARSHALL%PLU@io.arc.nasa.gov)\n",
      ":Date: July, 1988\n",
      "\n",
      "This is a copy of UCI ML Wine recognition datasets.\n",
      "https://archive.ics.uci.edu/ml/machine-learning-databases/wine/wine.data\n",
      "\n",
      "The data is the results of a chemical analysis of wines grown in the same\n",
      "region in Italy by three different cultivators. There are thirteen different\n",
      "measurements taken for different constituents found in the three types of\n",
      "wine.\n",
      "\n",
      "Original Owners:\n",
      "\n",
      "Forina, M. et al, PARVUS -\n",
      "An Extendible Package for Data Exploration, Classification and Correlation.\n",
      "Institute of Pharmaceutical and Food Analysis and Technologies,\n",
      "Via Brigata Salerno, 16147 Genoa, Italy.\n",
      "\n",
      "Citation:\n",
      "\n",
      "Lichman, M. (2013). UCI Machine Learning Repository\n",
      "[https://archive.ics.uci.edu/ml]. Irvine, CA: University of California,\n",
      "School of Information and Computer Science.\n",
      "\n",
      ".. dropdown:: References\n",
      "\n",
      "    (1) S. Aeberhard, D. Coomans and O. de Vel,\n",
      "    Comparison of Classifiers in High Dimensional Settings,\n",
      "    Tech. Rep. no. 92-02, (1992), Dept. of Computer Science and Dept. of\n",
      "    Mathematics and Statistics, James Cook University of North Queensland.\n",
      "    (Also submitted to Technometrics).\n",
      "\n",
      "    The data was used with many others for comparing various\n",
      "    classifiers. The classes are separable, though only RDA\n",
      "    has achieved 100% correct classification.\n",
      "    (RDA : 100%, QDA 99.4%, LDA 98.9%, 1NN 96.1% (z-transformed data))\n",
      "    (All results using the leave-one-out technique)\n",
      "\n",
      "    (2) S. Aeberhard, D. Coomans and O. de Vel,\n",
      "    \"THE CLASSIFICATION PERFORMANCE OF RDA\"\n",
      "    Tech. Rep. no. 92-01, (1992), Dept. of Computer Science and Dept. of\n",
      "    Mathematics and Statistics, James Cook University of North Queensland.\n",
      "    (Also submitted to Journal of Chemometrics).\n",
      "\n"
     ]
    }
   ],
   "execution_count": 1
  },
  {
   "cell_type": "markdown",
   "source": [
    "## 1. Fancy Indexing\n",
    "a. Select the 1st, 5th and 10th row of wine_x. Do it with one statement.\n",
    "b. Pick a sample of 5 rows of wine_x. Use the random module of numpy.\n",
    "c. Pick a sample of 20 rows of wine_x. Show only columns 1 to 3. Use combined indexing.\n",
    "d. In column 0 of wine_x change the values of row 5,20,38,45,60 to 0."
   ],
   "metadata": {
    "collapsed": false
   },
   "id": "b9f9f114befe26a4"
  },
  {
   "cell_type": "code",
   "source": [
    "rows = [0, 4, 9]\n",
    "print(\"a=\", wine_x[rows]) \n",
    "print()\n",
    "random_rows = np.random.randint(wine_x.shape[0]-1, size=5)\n",
    "print(\"b=\", wine_x[random_rows])\n",
    "print()\n",
    "print(\"c=\", wine_x[np.random.randint(wine_x.shape[0]-1, size=20), :3])\n",
    "wine_x[[5, 20, 38, 45, 60], 0] = 0\n",
    "# print(wine_x[5])"
   ],
   "metadata": {
    "collapsed": false,
    "ExecuteTime": {
     "end_time": "2024-10-03T15:28:01.527314Z",
     "start_time": "2024-10-03T15:28:01.500136Z"
    }
   },
   "id": "6cc5ef6201a553de",
   "outputs": [
    {
     "name": "stdout",
     "output_type": "stream",
     "text": [
      "a= [[1.423e+01 1.710e+00 2.430e+00 1.560e+01 1.270e+02 2.800e+00 3.060e+00\n",
      "  2.800e-01 2.290e+00 5.640e+00 1.040e+00 3.920e+00 1.065e+03]\n",
      " [1.324e+01 2.590e+00 2.870e+00 2.100e+01 1.180e+02 2.800e+00 2.690e+00\n",
      "  3.900e-01 1.820e+00 4.320e+00 1.040e+00 2.930e+00 7.350e+02]\n",
      " [1.386e+01 1.350e+00 2.270e+00 1.600e+01 9.800e+01 2.980e+00 3.150e+00\n",
      "  2.200e-01 1.850e+00 7.220e+00 1.010e+00 3.550e+00 1.045e+03]]\n",
      "\n",
      "b= [[1.372e+01 1.430e+00 2.500e+00 1.670e+01 1.080e+02 3.400e+00 3.670e+00\n",
      "  1.900e-01 2.040e+00 6.800e+00 8.900e-01 2.870e+00 1.285e+03]\n",
      " [1.438e+01 1.870e+00 2.380e+00 1.200e+01 1.020e+02 3.300e+00 3.640e+00\n",
      "  2.900e-01 2.960e+00 7.500e+00 1.200e+00 3.000e+00 1.547e+03]\n",
      " [1.336e+01 2.560e+00 2.350e+00 2.000e+01 8.900e+01 1.400e+00 5.000e-01\n",
      "  3.700e-01 6.400e-01 5.600e+00 7.000e-01 2.470e+00 7.800e+02]\n",
      " [1.434e+01 1.680e+00 2.700e+00 2.500e+01 9.800e+01 2.800e+00 1.310e+00\n",
      "  5.300e-01 2.700e+00 1.300e+01 5.700e-01 1.960e+00 6.600e+02]\n",
      " [1.394e+01 1.730e+00 2.270e+00 1.740e+01 1.080e+02 2.880e+00 3.540e+00\n",
      "  3.200e-01 2.080e+00 8.900e+00 1.120e+00 3.100e+00 1.260e+03]]\n",
      "\n",
      "c= [[13.05  1.73  2.04]\n",
      " [14.12  1.48  2.32]\n",
      " [11.61  1.35  2.7 ]\n",
      " [12.6   2.46  2.2 ]\n",
      " [13.32  3.24  2.38]\n",
      " [14.23  1.71  2.43]\n",
      " [13.05  5.8   2.13]\n",
      " [11.96  1.09  2.3 ]\n",
      " [14.1   2.16  2.3 ]\n",
      " [13.88  1.89  2.59]\n",
      " [14.75  1.73  2.39]\n",
      " [12.2   3.03  2.32]\n",
      " [13.58  1.66  2.36]\n",
      " [12.08  1.39  2.5 ]\n",
      " [13.05  5.8   2.13]\n",
      " [13.62  4.95  2.35]\n",
      " [13.05  5.8   2.13]\n",
      " [14.83  1.64  2.17]\n",
      " [14.38  1.87  2.38]\n",
      " [12.77  3.43  1.98]]\n"
     ]
    }
   ],
   "execution_count": 58
  },
  {
   "cell_type": "code",
   "outputs": [],
   "source": [],
   "metadata": {
    "collapsed": false
   },
   "id": "92697487ef1be5f3",
   "execution_count": null
  }
 ],
 "metadata": {
  "kernelspec": {
   "display_name": "Python 3",
   "language": "python",
   "name": "python3"
  },
  "language_info": {
   "codemirror_mode": {
    "name": "ipython",
    "version": 2
   },
   "file_extension": ".py",
   "mimetype": "text/x-python",
   "name": "python",
   "nbconvert_exporter": "python",
   "pygments_lexer": "ipython2",
   "version": "2.7.6"
  }
 },
 "nbformat": 4,
 "nbformat_minor": 5
}
