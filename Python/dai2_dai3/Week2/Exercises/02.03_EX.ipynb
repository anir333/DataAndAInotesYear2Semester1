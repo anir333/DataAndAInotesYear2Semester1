{
 "cells": [
  {
   "cell_type": "code",
   "id": "initial_id",
   "metadata": {
    "collapsed": true,
    "ExecuteTime": {
     "end_time": "2024-10-02T20:28:39.554644Z",
     "start_time": "2024-10-02T20:28:38.633559Z"
    }
   },
   "source": [
    "import numpy as np\n",
    "import sklearn.datasets as ds\n",
    "import numpy as np\n",
    "large_array, _ = ds.make_gaussian_quantiles(n_samples=10000, n_features=1, random_state=42)\n",
    "large_array= large_array.reshape((10000,))\n",
    "a = np.array(ds.load_iris().data)\n"
   ],
   "outputs": [],
   "execution_count": 1
  },
  {
   "cell_type": "markdown",
   "source": [
    "## 1. Efficiency of numpy operations\n",
    "a. Check the dtype and shape of `large_array`"
   ],
   "metadata": {
    "collapsed": false
   },
   "id": "448639467c360c94"
  },
  {
   "cell_type": "code",
   "source": "print(large_array.dtype)",
   "metadata": {
    "collapsed": false,
    "ExecuteTime": {
     "end_time": "2024-10-02T20:28:53.470218Z",
     "start_time": "2024-10-02T20:28:53.457649Z"
    }
   },
   "id": "fcc8a3e835c29d34",
   "outputs": [
    {
     "name": "stdout",
     "output_type": "stream",
     "text": [
      "float64\n"
     ]
    }
   ],
   "execution_count": 2
  },
  {
   "cell_type": "markdown",
   "source": [
    "b. Create a for-loop in which you calculate the power of 2 for each element. Place `%%timeit` at the beginning of the cell. By doing this, Jupiter will do several runs and measure the speed of the operation. The result is shown below the cell. Run the cell and wait for the result. Look how long running the for-loop takes."
   ],
   "metadata": {
    "collapsed": false
   },
   "id": "f8246d99c681926c"
  },
  {
   "cell_type": "code",
   "source": [
    "%%timeit \n",
    "for i in large_array:\n",
    "    i ** 2"
   ],
   "metadata": {
    "collapsed": false,
    "ExecuteTime": {
     "end_time": "2024-10-02T20:31:56.520288Z",
     "start_time": "2024-10-02T20:31:54.963095Z"
    }
   },
   "id": "1a3d1ecaa69acfe0",
   "outputs": [
    {
     "name": "stdout",
     "output_type": "stream",
     "text": [
      "1.72 ms ± 417 μs per loop (mean ± std. dev. of 7 runs, 100 loops each)\n"
     ]
    }
   ],
   "execution_count": 6
  },
  {
   "cell_type": "markdown",
   "source": [
    "c. In the cell below, do the same with the Ufuncs functionality instead of a for-loop. Use %%timeit again. Compare the duration. How big is the difference?"
   ],
   "metadata": {
    "collapsed": false
   },
   "id": "51adf63a6fc0e8dd"
  },
  {
   "cell_type": "code",
   "source": [
    "%%timeit\n",
    "large_array**2\n",
    "# np.power(2, large_array)"
   ],
   "metadata": {
    "collapsed": false,
    "ExecuteTime": {
     "end_time": "2024-10-02T20:33:45.408006Z",
     "start_time": "2024-10-02T20:33:41.914054Z"
    }
   },
   "id": "2fcaa1e7c1ebdc52",
   "outputs": [
    {
     "name": "stdout",
     "output_type": "stream",
     "text": [
      "3.92 μs ± 126 ns per loop (mean ± std. dev. of 7 runs, 100,000 loops each)\n"
     ]
    }
   ],
   "execution_count": 8
  },
  {
   "cell_type": "markdown",
   "source": [
    "As you can see for yourself there is a big differce. From now on, where possible, you have to use UFuncs instead of for-loops. The code is more lean and will be excecuted more efficiently. During evaluations for-loops will influence your score negatively and are even not allowed in most cases."
   ],
   "metadata": {
    "collapsed": false
   },
   "id": "537a1c1d67f47038"
  },
  {
   "cell_type": "markdown",
   "source": [
    "## 2. Using UFuncs\n",
    "Us UFuncs to perform the following operations on array a.\n",
    "a. From array a, calculate the square root of each element.\n",
    "b. From array a, round the first column to the nearest integer.\n",
    "c. From array a, add 1 to every value of the first row.\n"
   ],
   "metadata": {
    "collapsed": false
   },
   "id": "adae51bffadde368"
  },
  {
   "cell_type": "code",
   "source": [
    "np.sqrt(a)\n",
    "# print(a**2)\n",
    "np.round(a[:, 0])\n",
    "# a[:, 0].round()\n",
    "print(a[0]+1)\n",
    "print(a[:, 0].mean())\n",
    "print(np.mean(a[:, 0]))\n",
    "print(np.sum(a, axis=1))"
   ],
   "metadata": {
    "collapsed": false,
    "ExecuteTime": {
     "end_time": "2024-10-02T20:44:58.404123Z",
     "start_time": "2024-10-02T20:44:58.381708Z"
    }
   },
   "id": "3e4c1bb4c1aa1a4b",
   "outputs": [
    {
     "name": "stdout",
     "output_type": "stream",
     "text": [
      "[6.1 4.5 2.4 1.2]\n",
      "5.843333333333334\n",
      "5.843333333333334\n",
      "[10.2  9.5  9.4  9.4 10.2 11.4  9.7 10.1  8.9  9.6 10.8 10.   9.3  8.5\n",
      " 11.2 12.  11.  10.3 11.5 10.7 10.7 10.7  9.4 10.6 10.3  9.8 10.4 10.4\n",
      " 10.2  9.7  9.7 10.7 10.9 11.3  9.7  9.6 10.5 10.   8.9 10.2 10.1  8.4\n",
      "  9.1 10.7 11.2  9.5 10.7  9.4 10.7  9.9 16.3 15.6 16.4 13.1 15.4 14.3\n",
      " 15.9 11.6 15.4 13.2 11.5 14.6 13.2 15.1 13.4 15.6 14.6 13.6 14.4 13.1\n",
      " 15.7 14.2 15.2 14.8 14.9 15.4 15.8 16.4 14.9 12.8 12.8 12.6 13.6 15.4\n",
      " 14.4 15.5 16.  14.3 14.  13.3 13.7 15.1 13.6 11.6 13.8 14.1 14.1 14.7\n",
      " 11.7 13.9 18.1 15.5 18.1 16.6 17.5 19.3 13.6 18.3 16.8 19.4 16.8 16.3\n",
      " 17.4 15.2 16.1 17.2 16.8 20.4 19.5 14.7 18.1 15.3 19.2 15.7 17.8 18.2\n",
      " 15.6 15.8 16.9 17.6 18.2 20.1 17.  15.7 15.7 19.1 17.7 16.8 15.6 17.5\n",
      " 17.8 17.4 15.5 18.2 18.2 17.2 15.7 16.7 17.3 15.8]\n"
     ]
    }
   ],
   "execution_count": 20
  }
 ],
 "metadata": {
  "kernelspec": {
   "display_name": "Python 3",
   "language": "python",
   "name": "python3"
  },
  "language_info": {
   "codemirror_mode": {
    "name": "ipython",
    "version": 2
   },
   "file_extension": ".py",
   "mimetype": "text/x-python",
   "name": "python",
   "nbconvert_exporter": "python",
   "pygments_lexer": "ipython2",
   "version": "2.7.6"
  }
 },
 "nbformat": 4,
 "nbformat_minor": 5
}
