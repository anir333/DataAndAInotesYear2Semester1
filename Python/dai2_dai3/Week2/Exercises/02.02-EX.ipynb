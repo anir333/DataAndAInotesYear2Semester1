{
 "cells": [
  {
   "cell_type": "code",
   "id": "initial_id",
   "metadata": {
    "collapsed": true,
    "id": "initial_id",
    "ExecuteTime": {
     "end_time": "2024-10-02T18:28:21.898173Z",
     "start_time": "2024-10-02T18:28:20.703985Z"
    }
   },
   "source": [
    "import numpy as np\n",
    "import sklearn.datasets as ds\n",
    "\n",
    "a = np.array(ds.load_iris().data)\n",
    "b= a[:,1]"
   ],
   "outputs": [],
   "execution_count": 1
  },
  {
   "metadata": {},
   "cell_type": "markdown",
   "source": [
    "# 1. Numpy Array Attributes\n",
    " a. Get the number of dimensions of array a. Use the correct attribute\n",
    " b. Get the shape of the array. How many rows and columns does the array have.\n",
    " c. What datatype is used in the array?"
   ],
   "id": "28e021eafc04c078"
  },
  {
   "cell_type": "code",
   "source": [
    "print(a.ndim)\n",
    "print(a.shape) # has 150 rows and 4 columns (4 elements each row)\n",
    "print(a.size)\n",
    "print(a.dtype)"
   ],
   "metadata": {
    "id": "973cb3606c20de7d",
    "outputId": "ed2af434-549a-4879-d43c-a83bb1e0858d",
    "ExecuteTime": {
     "end_time": "2024-10-02T18:33:11.370681Z",
     "start_time": "2024-10-02T18:33:11.353351Z"
    }
   },
   "id": "973cb3606c20de7d",
   "outputs": [
    {
     "name": "stdout",
     "output_type": "stream",
     "text": [
      "2\n",
      "(150, 4)\n",
      "600\n",
      "float64\n"
     ]
    }
   ],
   "execution_count": 5
  },
  {
   "cell_type": "markdown",
   "source": [
    "# 2. Indexing\n",
    "a. From array b, get the 3th value (should be 3.2)\n",
    "b. From array b, get the 3th last value  (should be 3.0)\n",
    "c. From array a, get the value of the 3th column of the 91st row of array a (should be 4.4)\n",
    "d. From array a, from the last row get the first column (should be 5.9)"
   ],
   "metadata": {
    "collapsed": false,
    "id": "fc6ea28d15355f81"
   },
   "id": "fc6ea28d15355f81"
  },
  {
   "cell_type": "code",
   "source": [
    "print(b[2])\n",
    "print(b[-3])\n",
    "print(a[90, 2])\n",
    "print(a[-1, 0])"
   ],
   "metadata": {
    "id": "bc2d4d0124abf621",
    "outputId": "942ef322-6aae-4277-fa50-144ac2b8a018",
    "ExecuteTime": {
     "end_time": "2024-10-02T18:35:14.674785Z",
     "start_time": "2024-10-02T18:35:14.660547Z"
    }
   },
   "id": "bc2d4d0124abf621",
   "outputs": [
    {
     "name": "stdout",
     "output_type": "stream",
     "text": [
      "3.2\n",
      "3.0\n",
      "4.4\n",
      "5.9\n"
     ]
    }
   ],
   "execution_count": 10
  },
  {
   "cell_type": "markdown",
   "source": [
    "## 3. Slicing\n",
    "a. From array b, get the first 10 elements\n",
    "b. From array b, get elements starting from the 10th element until the 20th element (including the 20th elemement)\n",
    "b. From array b, get all the elements after the 50th element\n",
    "d. From array b, display the last 5 elements\n",
    "e. From array b, display only every 3th element\n",
    "f. From array b, display each 5th element from the first 100 elements\n",
    "g. From array a, display the rows of the first 10 elements\n",
    "h. From array a, display the last two columns of the rows with index 10 to 20 (20 not included)\n",
    "i. From array a, display the second column of each second element.\n",
    "j. Based on array a, make a new array c with the 20 first rows with column 1 and 2. Make sure changes in the new array are not applied on the original aray.\n",
    "k. change element c[0,0] to 1. Check if a[0,0] is not changed\n",
    "l. Based on array a, make a new array l with 100 by 6 instead of 150 by 4.\n",
    "The outputs should look like this:\n",
    "```\n",
    "a=[3.5 3.  3.2 3.1 3.6 3.9 3.4 3.4 2.9 3.1]\n",
    "b=[3.1 3.7 3.4 3.  3.  4.  4.4 3.9 3.5 3.8 3.8]\n",
    "c=[3.2 3.2 3.1 2.3 2.8 2.8 3.3 2.4 2.9 2.7 2.  3.  2.2 2.9 2.9 3.1 3.  2.7\n",
    " 2.2 2.5 3.2 2.8 2.5 2.8 2.9 3.  2.8 3.  2.9 2.6 2.4 2.4 2.7 2.7 3.  3.4\n",
    " 3.1 2.3 3.  2.5 2.6 3.  2.6 2.3 2.7 3.  2.9 2.9 2.5 2.8 3.3 2.7 3.  2.9\n",
    " 3.  3.  2.5 2.9 2.5 3.6 3.2 2.7 3.  2.5 2.8 3.2 3.  3.8 2.6 2.2 3.2 2.8\n",
    " 2.8 2.7 3.3 3.2 2.8 3.  2.8 3.  2.8 3.8 2.8 2.8 2.6 3.  3.4 3.1 3.  3.1\n",
    " 3.1 3.1 2.7 3.2 3.3 3.  2.5 3.  3.4 3. ]\n",
    "d=[3.  2.5 3.  3.4 3. ]\n",
    "e=[3.5 3.1 3.4 3.1 3.  4.4 3.8 3.7 3.4 3.5 3.1 4.2 3.5 3.4 3.2 3.  3.7 3.2\n",
    " 2.8 2.4 2.  2.9 3.  2.5 2.5 3.  2.9 2.4 3.  2.3 2.6 2.3 2.9 2.8 3.  3.\n",
    " 2.5 2.7 2.8 3.8 3.2 2.7 2.8 3.  2.8 3.  3.  3.1 3.3 3. ]\n",
    "f=[3.6 3.1 4.  3.8 3.4 3.2 3.1 3.4 3.8 3.3 2.8 2.7 2.9 2.5 2.9 2.6 3.  2.5\n",
    " 2.7 2.8]\n",
    "g1=[[5.1 3.5 1.4 0.2]\n",
    " [4.9 3.  1.4 0.2]\n",
    " [4.7 3.2 1.3 0.2]\n",
    " [4.6 3.1 1.5 0.2]\n",
    " [5.  3.6 1.4 0.2]\n",
    " [5.4 3.9 1.7 0.4]\n",
    " [4.6 3.4 1.4 0.3]\n",
    " [5.  3.4 1.5 0.2]\n",
    " [4.4 2.9 1.4 0.2]\n",
    " [4.9 3.1 1.5 0.1]]\n",
    "g2=[[5.1 3.5 1.4 0.2]\n",
    " [4.9 3.  1.4 0.2]\n",
    " [4.7 3.2 1.3 0.2]\n",
    " [4.6 3.1 1.5 0.2]\n",
    " [5.  3.6 1.4 0.2]\n",
    " [5.4 3.9 1.7 0.4]\n",
    " [4.6 3.4 1.4 0.3]\n",
    " [5.  3.4 1.5 0.2]\n",
    " [4.4 2.9 1.4 0.2]\n",
    " [4.9 3.1 1.5 0.1]]\n",
    "h=[[1.5 0.2]\n",
    " [1.6 0.2]\n",
    " [1.4 0.1]\n",
    " [1.1 0.1]\n",
    " [1.2 0.2]\n",
    " [1.5 0.4]\n",
    " [1.3 0.4]\n",
    " [1.4 0.3]\n",
    " [1.7 0.3]\n",
    " [1.5 0.3]]\n",
    "i=[3.5 3.2 3.6 3.4 2.9 3.7 3.  4.  3.9 3.8 3.4 3.6 3.4 3.4 3.4 3.1 4.1 3.1\n",
    " 3.5 3.  3.5 3.2 3.8 3.8 3.7 3.2 3.1 2.8 3.3 2.9 2.  2.2 2.9 3.  2.2 3.2\n",
    " 2.5 2.9 2.8 2.9 2.4 2.7 3.  3.1 3.  2.6 2.6 2.7 2.9 2.5 3.3 3.  3.  2.5\n",
    " 2.5 3.2 3.  2.8 3.  2.6 3.2 2.8 3.3 2.8 2.8 2.8 2.8 2.6 3.4 3.  3.1 2.7\n",
    " 3.3 2.5 3.4]\n",
    "c[0,0]=1.0, a[0,0]=5.1\n",
    "l. The shape of array l is (100, 6)\n",
    "```\n"
   ],
   "metadata": {
    "collapsed": false,
    "id": "3c837e7bec6956ad"
   },
   "id": "3c837e7bec6956ad"
  },
  {
   "cell_type": "code",
   "source": [
    "print(b[:10])\n",
    "print(b[9:20])\n",
    "print(b[50:])\n",
    "print(b[-5:])\n",
    "print(b[::3])\n",
    "print(\"f=\", b[4:100:5])\n",
    "print(\"g= \", a[:10])\n",
    "print(\"h= \", a[10:20, -2:])\n",
    "print(\"i=\", a[::2, 1])\n",
    "c = a[:20, :2].copy()\n",
    "print(\"j=\", c)\n",
    "c[0, 0] = 1\n",
    "print(a[0, 0])\n",
    "print(c[0, 0])\n",
    "l = a.reshape(100, 6)\n",
    "print(l.shape)"
   ],
   "metadata": {
    "id": "c0bb63c59f6b93",
    "outputId": "8db65784-acb8-4a97-d760-a9b2fc9b000f",
    "ExecuteTime": {
     "end_time": "2024-10-02T19:08:34.623554Z",
     "start_time": "2024-10-02T19:08:34.590772Z"
    }
   },
   "id": "c0bb63c59f6b93",
   "outputs": [
    {
     "name": "stdout",
     "output_type": "stream",
     "text": [
      "[3.5 3.  3.2 3.1 3.6 3.9 3.4 3.4 2.9 3.1]\n",
      "[3.1 3.7 3.4 3.  3.  4.  4.4 3.9 3.5 3.8 3.8]\n",
      "[3.2 3.2 3.1 2.3 2.8 2.8 3.3 2.4 2.9 2.7 2.  3.  2.2 2.9 2.9 3.1 3.  2.7\n",
      " 2.2 2.5 3.2 2.8 2.5 2.8 2.9 3.  2.8 3.  2.9 2.6 2.4 2.4 2.7 2.7 3.  3.4\n",
      " 3.1 2.3 3.  2.5 2.6 3.  2.6 2.3 2.7 3.  2.9 2.9 2.5 2.8 3.3 2.7 3.  2.9\n",
      " 3.  3.  2.5 2.9 2.5 3.6 3.2 2.7 3.  2.5 2.8 3.2 3.  3.8 2.6 2.2 3.2 2.8\n",
      " 2.8 2.7 3.3 3.2 2.8 3.  2.8 3.  2.8 3.8 2.8 2.8 2.6 3.  3.4 3.1 3.  3.1\n",
      " 3.1 3.1 2.7 3.2 3.3 3.  2.5 3.  3.4 3. ]\n",
      "[3.  2.5 3.  3.4 3. ]\n",
      "[3.5 3.1 3.4 3.1 3.  4.4 3.8 3.7 3.4 3.5 3.1 4.2 3.5 3.4 3.2 3.  3.7 3.2\n",
      " 2.8 2.4 2.  2.9 3.  2.5 2.5 3.  2.9 2.4 3.  2.3 2.6 2.3 2.9 2.8 3.  3.\n",
      " 2.5 2.7 2.8 3.8 3.2 2.7 2.8 3.  2.8 3.  3.  3.1 3.3 3. ]\n",
      "f= [3.6 3.1 4.  3.8 3.4 3.2 3.1 3.4 3.8 3.3 2.8 2.7 2.9 2.5 2.9 2.6 3.  2.5\n",
      " 2.7 2.8]\n",
      "g=  [[5.1 3.5 1.4 0.2 4.9 3. ]\n",
      " [1.4 0.2 4.7 3.2 1.3 0.2]\n",
      " [4.6 3.1 1.5 0.2 5.  3.6]\n",
      " [1.4 0.2 5.4 3.9 1.7 0.4]\n",
      " [4.6 3.4 1.4 0.3 5.  3.4]\n",
      " [1.5 0.2 4.4 2.9 1.4 0.2]\n",
      " [4.9 3.1 1.5 0.1 5.4 3.7]\n",
      " [1.5 0.2 4.8 3.4 1.6 0.2]\n",
      " [4.8 3.  1.4 0.1 4.3 3. ]\n",
      " [1.1 0.1 5.8 4.  1.2 0.2]]\n",
      "h=  [[5.4 3.9]\n",
      " [1.4 0.3]\n",
      " [5.1 3.8]\n",
      " [1.7 0.2]\n",
      " [4.6 3.6]\n",
      " [1.7 0.5]\n",
      " [5.  3. ]\n",
      " [1.6 0.4]\n",
      " [5.2 3.4]\n",
      " [1.6 0.2]]\n",
      "i= [3.5 3.1 3.4 3.1 3.  4.4 3.8 3.7 3.4 3.5 3.1 4.2 3.5 3.4 3.2 3.  3.7 3.2\n",
      " 2.8 2.4 2.  2.9 3.  2.5 2.5 3.  2.9 2.4 3.  2.3 2.6 2.3 2.9 2.8 3.  3.\n",
      " 2.5 2.7 2.8 3.8 3.2 2.7 2.8 3.  2.8 3.  3.  3.1 3.3 3. ]\n",
      "j= [[5.1 3.5]\n",
      " [1.4 0.2]\n",
      " [4.6 3.1]\n",
      " [1.4 0.2]\n",
      " [4.6 3.4]\n",
      " [1.5 0.2]\n",
      " [4.9 3.1]\n",
      " [1.5 0.2]\n",
      " [4.8 3. ]\n",
      " [1.1 0.1]\n",
      " [5.7 4.4]\n",
      " [1.3 0.4]\n",
      " [5.7 3.8]\n",
      " [1.5 0.3]\n",
      " [5.1 3.7]\n",
      " [1.  0.2]\n",
      " [4.8 3.4]\n",
      " [1.6 0.2]\n",
      " [5.2 3.5]\n",
      " [1.4 0.2]]\n",
      "5.1\n",
      "1.0\n",
      "(100, 6)\n"
     ]
    }
   ],
   "execution_count": 34
  },
  {
   "cell_type": "markdown",
   "source": [
    "## 4. Concatenation\n",
    "a. Create a new array ca that concatenates the second column of array a with array b\n",
    "b. Create a new array cb that concatenates the first 10 and last then rows of array a\n",
    "\n"
   ],
   "metadata": {
    "collapsed": false,
    "id": "22784b6baeb0d3f0"
   },
   "id": "22784b6baeb0d3f0"
  },
  {
   "cell_type": "code",
   "source": [
    "a.dtype\n",
    "b.dtype\n",
    "    # a and b gotta be the same type to concatenate\n",
    "\n",
    "ca = np.concatenate([a[:, 1], b])\n",
    "print(ca)\n",
    "\n",
    "cb = np.concatenate([a[:10], a[-10:]])\n",
    "print(cb)"
   ],
   "metadata": {
    "id": "6e20f37efcefc3c2",
    "outputId": "07b4c1d0-e880-48fe-8eda-bd47538ed2a9",
    "ExecuteTime": {
     "end_time": "2024-10-02T19:12:58.407137Z",
     "start_time": "2024-10-02T19:12:58.395623Z"
    }
   },
   "id": "6e20f37efcefc3c2",
   "outputs": [
    {
     "name": "stdout",
     "output_type": "stream",
     "text": [
      "[3.5 0.2 3.1 0.2 3.4 0.2 3.1 0.2 3.  0.1 4.4 0.4 3.8 0.3 3.7 0.2 3.4 0.2\n",
      " 3.5 0.2 3.1 0.4 4.2 0.2 3.5 0.1 3.4 0.3 3.2 0.6 3.  0.2 3.7 0.2 3.2 1.5\n",
      " 2.8 1.3 2.4 1.3 2.  1.5 2.9 1.3 3.  1.  2.5 1.8 2.5 1.2 3.  1.4 2.9 1.\n",
      " 2.4 1.2 3.  1.6 2.3 1.3 2.6 1.4 2.3 1.3 2.9 1.3 2.8 2.5 3.  1.8 3.  1.7\n",
      " 2.5 2.5 2.7 2.1 2.8 2.3 3.8 2.3 3.2 2.  2.7 2.1 2.8 1.8 3.  1.9 2.8 1.5\n",
      " 3.  2.4 3.  2.1 3.1 1.9 3.3 2.3 3.  2.3 3.5 3.  3.2 3.1 3.6 3.9 3.4 3.4\n",
      " 2.9 3.1 3.7 3.4 3.  3.  4.  4.4 3.9 3.5 3.8 3.8 3.4 3.7 3.6 3.3 3.4 3.\n",
      " 3.4 3.5 3.4 3.2 3.1 3.4 4.1 4.2 3.1 3.2 3.5 3.6 3.  3.4 3.5 2.3 3.2 3.5\n",
      " 3.8 3.  3.8 3.2 3.7 3.3 3.2 3.2 3.1 2.3 2.8 2.8 3.3 2.4 2.9 2.7 2.  3.\n",
      " 2.2 2.9 2.9 3.1 3.  2.7 2.2 2.5 3.2 2.8 2.5 2.8 2.9 3.  2.8 3.  2.9 2.6\n",
      " 2.4 2.4 2.7 2.7 3.  3.4 3.1 2.3 3.  2.5 2.6 3.  2.6 2.3 2.7 3.  2.9 2.9\n",
      " 2.5 2.8 3.3 2.7 3.  2.9 3.  3.  2.5 2.9 2.5 3.6 3.2 2.7 3.  2.5 2.8 3.2\n",
      " 3.  3.8 2.6 2.2 3.2 2.8 2.8 2.7 3.3 3.2 2.8 3.  2.8 3.  2.8 3.8 2.8 2.8\n",
      " 2.6 3.  3.4 3.1 3.  3.1 3.1 3.1 2.7 3.2 3.3 3.  2.5 3.  3.4 3. ]\n",
      "[[5.1 3.5 1.4 0.2 4.9 3. ]\n",
      " [1.4 0.2 4.7 3.2 1.3 0.2]\n",
      " [4.6 3.1 1.5 0.2 5.  3.6]\n",
      " [1.4 0.2 5.4 3.9 1.7 0.4]\n",
      " [4.6 3.4 1.4 0.3 5.  3.4]\n",
      " [1.5 0.2 4.4 2.9 1.4 0.2]\n",
      " [4.9 3.1 1.5 0.1 5.4 3.7]\n",
      " [1.5 0.2 4.8 3.4 1.6 0.2]\n",
      " [4.8 3.  1.4 0.1 4.3 3. ]\n",
      " [1.1 0.1 5.8 4.  1.2 0.2]\n",
      " [7.7 3.  6.1 2.3 6.3 3.4]\n",
      " [5.6 2.4 6.4 3.1 5.5 1.8]\n",
      " [6.  3.  4.8 1.8 6.9 3.1]\n",
      " [5.4 2.1 6.7 3.1 5.6 2.4]\n",
      " [6.9 3.1 5.1 2.3 5.8 2.7]\n",
      " [5.1 1.9 6.8 3.2 5.9 2.3]\n",
      " [6.7 3.3 5.7 2.5 6.7 3. ]\n",
      " [5.2 2.3 6.3 2.5 5.  1.9]\n",
      " [6.5 3.  5.2 2.  6.2 3.4]\n",
      " [5.4 2.3 5.9 3.  5.1 1.8]]\n"
     ]
    }
   ],
   "execution_count": 39
  }
 ],
 "metadata": {
  "kernelspec": {
   "display_name": "Python 3",
   "language": "python",
   "name": "python3"
  },
  "language_info": {
   "codemirror_mode": {
    "name": "ipython",
    "version": 2
   },
   "file_extension": ".py",
   "mimetype": "text/x-python",
   "name": "python",
   "nbconvert_exporter": "python",
   "pygments_lexer": "ipython2",
   "version": "2.7.6"
  },
  "colab": {
   "provenance": []
  }
 },
 "nbformat": 4,
 "nbformat_minor": 5
}
