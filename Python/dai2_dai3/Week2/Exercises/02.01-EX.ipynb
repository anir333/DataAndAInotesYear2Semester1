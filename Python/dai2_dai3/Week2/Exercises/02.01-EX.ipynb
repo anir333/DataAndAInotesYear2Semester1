{
 "cells": [
  {
   "cell_type": "markdown",
   "source": [
    "# 1. Understanding how integers and other datatypes are stored in Python\n",
    "a. Create an integer with value 1.\n",
    "b. Check how many bytes the variable occupies in memory (use getsizeof() of the sys module)\n",
    "c. Can you explain the difference with an integer in C which occupies 2 or 4 bytes in memory?"
   ],
   "metadata": {
    "collapsed": false
   },
   "id": "96bcea7e4909a41e"
  },
  {
   "cell_type": "code",
   "id": "initial_id",
   "metadata": {
    "collapsed": true,
    "ExecuteTime": {
     "end_time": "2024-10-02T17:11:32.559188Z",
     "start_time": "2024-10-02T17:11:32.393371Z"
    }
   },
   "source": [
    "from sys import getsizeof\n",
    "\n",
    "from flatbuffers.packer import float32\n",
    "\n",
    "b =  100000\n",
    "print(getsizeof(b))"
   ],
   "outputs": [
    {
     "name": "stdout",
     "output_type": "stream",
     "text": [
      "28\n"
     ]
    }
   ],
   "execution_count": 7
  },
  {
   "cell_type": "markdown",
   "source": [
    "# 2. Understanding the difference between lists and np arrays\n",
    "a. Create a Python list with 3 one-digit integers. \n",
    "b. Append one item to the list with string value \"X\".\n",
    "c. Check how many bytes the list occupies in memory. \n",
    "_In case of a list, the total size is the sum of the list-object + the size of each seperate object in the list (as the list object only contain references to the list objects). You can use a __[list-comprehension](https://www.w3schools.com/python/python_lists_comprehension.asp)__ to loop through all the items_\n",
    "d. Now create a Numpy ndarray with the same 3 integers. Check the objectsize with getsizeof(). How many bytes does the ndarray occupy\n",
    "e. Also check the size of an indivdual element in the array with the 'itemsize' property of the ndarray object. How many bytes does one integer occupy? Explain the difference with a list object. _Using the list-comprehension as done with the list object will give confusing results as Python will convert the stored integer to a fully fledged \"int\" python object and will show the 28 byes of that object).\n",
    "f. Now 'append' an extra item with value 4 to the ndarray. Check the size of the ndarray again. How many bytes where added? Why?"
   ],
   "metadata": {
    "collapsed": false
   },
   "id": "aa7124780778bfaf"
  },
  {
   "cell_type": "code",
   "source": [
    "my_list = [1, 2, 3]\n",
    "my_list.append(\"X\")\n",
    "\n",
    "import sys\n",
    "\n",
    "# Size of the list object itself\n",
    "list_size = sys.getsizeof(my_list)\n",
    "\n",
    "# Size of each individual object in the list\n",
    "individual_sizes = sum(sys.getsizeof(item) for item in my_list)\n",
    "\n",
    "# Total size\n",
    "total_list_size = list_size + individual_sizes\n",
    "\n",
    "print(f\"Size of the list object: {list_size} bytes\")\n",
    "print(f\"Size of individual elements: {individual_sizes} bytes\")\n",
    "print(f\"Total size of the list: {total_list_size} bytes\")\n",
    "\n",
    "import numpy as np\n",
    "\n",
    "my_array = np.array([1, 2, 3])\n",
    "array_size = sys.getsizeof(my_array)\n",
    "\n",
    "print(f\"Size of the ndarray: {array_size} bytes\")\n",
    "element_size = my_array.itemsize\n",
    "print(f\"Size of one integer in the ndarray: {element_size} bytes\")\n",
    "my_array = np.append(my_array, 4)\n",
    "new_array_size = sys.getsizeof(my_array)\n",
    "\n",
    "print(f\"Size of the new ndarray: {new_array_size} bytes\")\n",
    "size_increase = new_array_size - array_size\n",
    "print(f\"Bytes added: {size_increase} bytes\")\n"
   ],
   "metadata": {
    "collapsed": false,
    "ExecuteTime": {
     "end_time": "2024-10-02T17:13:10.767701Z",
     "start_time": "2024-10-02T17:13:10.749076Z"
    }
   },
   "id": "be0fd641d5e34b05",
   "outputs": [
    {
     "name": "stdout",
     "output_type": "stream",
     "text": [
      "Size of the list object: 88 bytes\n",
      "Size of individual elements: 126 bytes\n",
      "Total size of the list: 214 bytes\n",
      "Size of the ndarray: 136 bytes\n",
      "Size of one integer in the ndarray: 8 bytes\n",
      "Size of the new ndarray: 144 bytes\n",
      "Bytes added: 8 bytes\n"
     ]
    }
   ],
   "execution_count": 8
  },
  {
   "cell_type": "markdown",
   "source": [
    "my_list.append(\"X\")\n",
    "# 3. Creating Numpy arrays\n",
    "a. Array a1 has 10 ones of type float\n",
    "b. Array a2 has a range of numbers from 50 to (and including) 100 with steps of 2\n",
    "c. Array a3 has 10 random integers between 0 and 100. To do so, first create a random number generator with the default seed, then use the 'integers' method to create the array. _The seed makes sure that the random numbers are the same each time the code is executed._\n",
    "d. Array a4 has to contain the values of list 'l_ex3' \n",
    "e. Array a5 is a compact copy a2. Look for a dtype with a smaller size knowing that the values will never be higher then 100. _As you will be working with big datasets, reducing the size of the arrays will have a big impact on processing the data._\n",
    "f. Array a6 is an array of ones with 2 dimensions of 2 by 4.  \n"
   ],
   "metadata": {
    "collapsed": false
   },
   "id": "e5f61b68aebf329f"
  },
  {
   "cell_type": "code",
   "source": [
    "import numpy as np\n",
    "a1 = np.ones(10, dtype=float)\n",
    "print(a1)\n",
    "print(\"a1 = \", a1)\n",
    "\n",
    "a2 = np.arange(50, 101, 2)\n",
    "print(a2)\n",
    "print(\"a2 = \", a2)\n",
    "\n",
    "random = np.random.default_rng(303)\n",
    "a3 = random.integers(0, 101, 10)\n",
    "print(\"a3 = \", a3)\n",
    "\n",
    "l_oef3= [1,2,3.14,4]\n",
    "a4 = np.array(l_oef3, dtype=np.float16)\n",
    "print(\"a4 = \", a4)\n",
    "\n",
    "a5 = np.array(a2, dtype=np.int8)\n",
    "print(\"a5 = \", a5)\n",
    "\n",
    "a6 = np.ones((2, 4))\n",
    "print(a6)"
   ],
   "metadata": {
    "collapsed": false,
    "ExecuteTime": {
     "end_time": "2024-10-02T17:28:30.548135Z",
     "start_time": "2024-10-02T17:28:30.525017Z"
    }
   },
   "id": "bec2b9e375d10a63",
   "outputs": [
    {
     "name": "stdout",
     "output_type": "stream",
     "text": [
      "[1. 1. 1. 1. 1. 1. 1. 1. 1. 1.]\n",
      "a1 =  [1. 1. 1. 1. 1. 1. 1. 1. 1. 1.]\n",
      "[ 50  52  54  56  58  60  62  64  66  68  70  72  74  76  78  80  82  84\n",
      "  86  88  90  92  94  96  98 100]\n",
      "a2 =  [ 50  52  54  56  58  60  62  64  66  68  70  72  74  76  78  80  82  84\n",
      "  86  88  90  92  94  96  98 100]\n",
      "a3 =  [41 21 88 42 48 81 27 27 78 82]\n",
      "a4 =  [1.   2.   3.14 4.  ]\n",
      "a5 =  [ 50  52  54  56  58  60  62  64  66  68  70  72  74  76  78  80  82  84\n",
      "  86  88  90  92  94  96  98 100]\n",
      "[[1. 1. 1. 1.]\n",
      " [1. 1. 1. 1.]]\n"
     ]
    }
   ],
   "execution_count": 2
  }
 ],
 "metadata": {
  "kernelspec": {
   "display_name": "Python 3",
   "language": "python",
   "name": "python3"
  },
  "language_info": {
   "codemirror_mode": {
    "name": "ipython",
    "version": 2
   },
   "file_extension": ".py",
   "mimetype": "text/x-python",
   "name": "python",
   "nbconvert_exporter": "python",
   "pygments_lexer": "ipython2",
   "version": "2.7.6"
  }
 },
 "nbformat": 4,
 "nbformat_minor": 5
}
