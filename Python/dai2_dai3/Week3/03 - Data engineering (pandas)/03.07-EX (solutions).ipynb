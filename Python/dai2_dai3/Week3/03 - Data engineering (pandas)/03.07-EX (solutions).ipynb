{
 "cells": [
  {
   "cell_type": "code",
   "execution_count": 3,
   "outputs": [],
   "source": [
    "import pandas as pd\n",
    "import numpy as np\n",
    "\n",
    "df_customer = pd.read_csv('data/customer.csv')\n",
    "df_sales = pd.read_csv('data/sales.csv')\n",
    "df_product = pd.read_csv('data/products.csv')\n",
    "df_prod_supplier=pd.read_csv('data/prod_suppliers.csv')\n",
    "df_supplier=pd.read_csv('data/suppliers.csv')\n",
    "df_prod_supplier2=pd.read_csv('data/prod_suppliers2.csv')\n",
    "df_product1=pd.read_csv('data/products.csv')\n",
    "df_product2=pd.read_csv('data/products2.csv')\n",
    "df_product3=pd.read_csv('data/products3.csv')\n"
   ],
   "metadata": {
    "collapsed": false,
    "ExecuteTime": {
     "end_time": "2024-09-12T10:52:41.741144500Z",
     "start_time": "2024-09-12T10:52:41.635312800Z"
    }
   },
   "id": "47cb13143eec58f1"
  },
  {
   "cell_type": "markdown",
   "source": [
    "## Merge and joins\n",
    "Four dataframes are given: customer, sales, products and prod_supplier. Investigate the dataframes.\n"
   ],
   "metadata": {
    "collapsed": false
   },
   "id": "93bbd0114c707ad7"
  },
  {
   "cell_type": "code",
   "execution_count": 48,
   "outputs": [
    {
     "data": {
      "text/plain": "   c_id Customer\n0     1     Rabi\n1     2     Raju\n2     3     Alex\n3     4     Rani\n4     5     King",
      "text/html": "<div>\n<style scoped>\n    .dataframe tbody tr th:only-of-type {\n        vertical-align: middle;\n    }\n\n    .dataframe tbody tr th {\n        vertical-align: top;\n    }\n\n    .dataframe thead th {\n        text-align: right;\n    }\n</style>\n<table border=\"1\" class=\"dataframe\">\n  <thead>\n    <tr style=\"text-align: right;\">\n      <th></th>\n      <th>c_id</th>\n      <th>Customer</th>\n    </tr>\n  </thead>\n  <tbody>\n    <tr>\n      <th>0</th>\n      <td>1</td>\n      <td>Rabi</td>\n    </tr>\n    <tr>\n      <th>1</th>\n      <td>2</td>\n      <td>Raju</td>\n    </tr>\n    <tr>\n      <th>2</th>\n      <td>3</td>\n      <td>Alex</td>\n    </tr>\n    <tr>\n      <th>3</th>\n      <td>4</td>\n      <td>Rani</td>\n    </tr>\n    <tr>\n      <th>4</th>\n      <td>5</td>\n      <td>King</td>\n    </tr>\n  </tbody>\n</table>\n</div>"
     },
     "execution_count": 48,
     "metadata": {},
     "output_type": "execute_result"
    }
   ],
   "source": [
    "df_customer.head()"
   ],
   "metadata": {
    "collapsed": false
   },
   "id": "33a3e806d23cfc72"
  },
  {
   "cell_type": "code",
   "execution_count": 49,
   "outputs": [
    {
     "data": {
      "text/plain": "   sale_id  c_id  p_id  product  qty store\n0        1     2     3  Monitor    2   ABC\n1        2     2     4      CPU    1   DEF\n2        3     1     3  Monitor    3   ABC\n3        4     4     2      RAM    2   DEF\n4        5     2     3  Monitor    3   ABC",
      "text/html": "<div>\n<style scoped>\n    .dataframe tbody tr th:only-of-type {\n        vertical-align: middle;\n    }\n\n    .dataframe tbody tr th {\n        vertical-align: top;\n    }\n\n    .dataframe thead th {\n        text-align: right;\n    }\n</style>\n<table border=\"1\" class=\"dataframe\">\n  <thead>\n    <tr style=\"text-align: right;\">\n      <th></th>\n      <th>sale_id</th>\n      <th>c_id</th>\n      <th>p_id</th>\n      <th>product</th>\n      <th>qty</th>\n      <th>store</th>\n    </tr>\n  </thead>\n  <tbody>\n    <tr>\n      <th>0</th>\n      <td>1</td>\n      <td>2</td>\n      <td>3</td>\n      <td>Monitor</td>\n      <td>2</td>\n      <td>ABC</td>\n    </tr>\n    <tr>\n      <th>1</th>\n      <td>2</td>\n      <td>2</td>\n      <td>4</td>\n      <td>CPU</td>\n      <td>1</td>\n      <td>DEF</td>\n    </tr>\n    <tr>\n      <th>2</th>\n      <td>3</td>\n      <td>1</td>\n      <td>3</td>\n      <td>Monitor</td>\n      <td>3</td>\n      <td>ABC</td>\n    </tr>\n    <tr>\n      <th>3</th>\n      <td>4</td>\n      <td>4</td>\n      <td>2</td>\n      <td>RAM</td>\n      <td>2</td>\n      <td>DEF</td>\n    </tr>\n    <tr>\n      <th>4</th>\n      <td>5</td>\n      <td>2</td>\n      <td>3</td>\n      <td>Monitor</td>\n      <td>3</td>\n      <td>ABC</td>\n    </tr>\n  </tbody>\n</table>\n</div>"
     },
     "execution_count": 49,
     "metadata": {},
     "output_type": "execute_result"
    }
   ],
   "source": [
    "df_sales.head()"
   ],
   "metadata": {
    "collapsed": false
   },
   "id": "3ad5f23a4b98fbf"
  },
  {
   "cell_type": "code",
   "execution_count": 50,
   "outputs": [
    {
     "data": {
      "text/plain": "   p_id       product  price\n0     1     Hard Disk     80\n1     2           RAM     90\n2     3       Monitor     75\n3     4           CPU     55\n4     5      Keyboard     20\n5     6         Mouse     10\n6     7   Motherboard     50\n7     8  Power supply     20",
      "text/html": "<div>\n<style scoped>\n    .dataframe tbody tr th:only-of-type {\n        vertical-align: middle;\n    }\n\n    .dataframe tbody tr th {\n        vertical-align: top;\n    }\n\n    .dataframe thead th {\n        text-align: right;\n    }\n</style>\n<table border=\"1\" class=\"dataframe\">\n  <thead>\n    <tr style=\"text-align: right;\">\n      <th></th>\n      <th>p_id</th>\n      <th>product</th>\n      <th>price</th>\n    </tr>\n  </thead>\n  <tbody>\n    <tr>\n      <th>0</th>\n      <td>1</td>\n      <td>Hard Disk</td>\n      <td>80</td>\n    </tr>\n    <tr>\n      <th>1</th>\n      <td>2</td>\n      <td>RAM</td>\n      <td>90</td>\n    </tr>\n    <tr>\n      <th>2</th>\n      <td>3</td>\n      <td>Monitor</td>\n      <td>75</td>\n    </tr>\n    <tr>\n      <th>3</th>\n      <td>4</td>\n      <td>CPU</td>\n      <td>55</td>\n    </tr>\n    <tr>\n      <th>4</th>\n      <td>5</td>\n      <td>Keyboard</td>\n      <td>20</td>\n    </tr>\n    <tr>\n      <th>5</th>\n      <td>6</td>\n      <td>Mouse</td>\n      <td>10</td>\n    </tr>\n    <tr>\n      <th>6</th>\n      <td>7</td>\n      <td>Motherboard</td>\n      <td>50</td>\n    </tr>\n    <tr>\n      <th>7</th>\n      <td>8</td>\n      <td>Power supply</td>\n      <td>20</td>\n    </tr>\n  </tbody>\n</table>\n</div>"
     },
     "execution_count": 50,
     "metadata": {},
     "output_type": "execute_result"
    }
   ],
   "source": [
    "df_product"
   ],
   "metadata": {
    "collapsed": false
   },
   "id": "95b25398743b8dee"
  },
  {
   "cell_type": "code",
   "execution_count": 52,
   "outputs": [
    {
     "data": {
      "text/plain": "   p_id  supp_id      suppliername\n0     1        1  Hypertek Systems\n1     2        1  Hypertek Systems\n2     3        2   informatique.nl\n3     8        1  Hypertek Systems\n4     4        3    centurytech.sg\n5     5        3    centurytech.sg\n6     6        2   informatique.nl\n7     7        3    centurytech.sg",
      "text/html": "<div>\n<style scoped>\n    .dataframe tbody tr th:only-of-type {\n        vertical-align: middle;\n    }\n\n    .dataframe tbody tr th {\n        vertical-align: top;\n    }\n\n    .dataframe thead th {\n        text-align: right;\n    }\n</style>\n<table border=\"1\" class=\"dataframe\">\n  <thead>\n    <tr style=\"text-align: right;\">\n      <th></th>\n      <th>p_id</th>\n      <th>supp_id</th>\n      <th>suppliername</th>\n    </tr>\n  </thead>\n  <tbody>\n    <tr>\n      <th>0</th>\n      <td>1</td>\n      <td>1</td>\n      <td>Hypertek Systems</td>\n    </tr>\n    <tr>\n      <th>1</th>\n      <td>2</td>\n      <td>1</td>\n      <td>Hypertek Systems</td>\n    </tr>\n    <tr>\n      <th>2</th>\n      <td>3</td>\n      <td>2</td>\n      <td>informatique.nl</td>\n    </tr>\n    <tr>\n      <th>3</th>\n      <td>8</td>\n      <td>1</td>\n      <td>Hypertek Systems</td>\n    </tr>\n    <tr>\n      <th>4</th>\n      <td>4</td>\n      <td>3</td>\n      <td>centurytech.sg</td>\n    </tr>\n    <tr>\n      <th>5</th>\n      <td>5</td>\n      <td>3</td>\n      <td>centurytech.sg</td>\n    </tr>\n    <tr>\n      <th>6</th>\n      <td>6</td>\n      <td>2</td>\n      <td>informatique.nl</td>\n    </tr>\n    <tr>\n      <th>7</th>\n      <td>7</td>\n      <td>3</td>\n      <td>centurytech.sg</td>\n    </tr>\n  </tbody>\n</table>\n</div>"
     },
     "execution_count": 52,
     "metadata": {},
     "output_type": "execute_result"
    }
   ],
   "source": [
    "df_prod_supplier\n"
   ],
   "metadata": {
    "collapsed": false
   },
   "id": "4ed2a236a559e95c"
  },
  {
   "cell_type": "markdown",
   "source": [
    "### One -to-one joins"
   ],
   "metadata": {
    "collapsed": false
   },
   "id": "f32a632f7f8ca95b"
  },
  {
   "cell_type": "markdown",
   "source": [
    "2. Construct a new dataframe df_product_extended which adds the columns supp_id and suppliername from df_prod_supplier to df_products.Verify if the operation is ok."
   ],
   "metadata": {
    "collapsed": false
   },
   "id": "22523aac0f59a0e7"
  },
  {
   "cell_type": "code",
   "execution_count": 53,
   "outputs": [],
   "source": [
    "df_product_extended=pd.merge(df_product,df_prod_supplier)\n"
   ],
   "metadata": {
    "collapsed": false
   },
   "id": "294992b235a90258"
  },
  {
   "cell_type": "code",
   "execution_count": 54,
   "outputs": [
    {
     "data": {
      "text/plain": "   p_id       product  price  supp_id      suppliername\n0     1     Hard Disk     80        1  Hypertek Systems\n1     2           RAM     90        1  Hypertek Systems\n2     3       Monitor     75        2   informatique.nl\n3     4           CPU     55        3    centurytech.sg\n4     5      Keyboard     20        3    centurytech.sg\n5     6         Mouse     10        2   informatique.nl\n6     7   Motherboard     50        3    centurytech.sg\n7     8  Power supply     20        1  Hypertek Systems",
      "text/html": "<div>\n<style scoped>\n    .dataframe tbody tr th:only-of-type {\n        vertical-align: middle;\n    }\n\n    .dataframe tbody tr th {\n        vertical-align: top;\n    }\n\n    .dataframe thead th {\n        text-align: right;\n    }\n</style>\n<table border=\"1\" class=\"dataframe\">\n  <thead>\n    <tr style=\"text-align: right;\">\n      <th></th>\n      <th>p_id</th>\n      <th>product</th>\n      <th>price</th>\n      <th>supp_id</th>\n      <th>suppliername</th>\n    </tr>\n  </thead>\n  <tbody>\n    <tr>\n      <th>0</th>\n      <td>1</td>\n      <td>Hard Disk</td>\n      <td>80</td>\n      <td>1</td>\n      <td>Hypertek Systems</td>\n    </tr>\n    <tr>\n      <th>1</th>\n      <td>2</td>\n      <td>RAM</td>\n      <td>90</td>\n      <td>1</td>\n      <td>Hypertek Systems</td>\n    </tr>\n    <tr>\n      <th>2</th>\n      <td>3</td>\n      <td>Monitor</td>\n      <td>75</td>\n      <td>2</td>\n      <td>informatique.nl</td>\n    </tr>\n    <tr>\n      <th>3</th>\n      <td>4</td>\n      <td>CPU</td>\n      <td>55</td>\n      <td>3</td>\n      <td>centurytech.sg</td>\n    </tr>\n    <tr>\n      <th>4</th>\n      <td>5</td>\n      <td>Keyboard</td>\n      <td>20</td>\n      <td>3</td>\n      <td>centurytech.sg</td>\n    </tr>\n    <tr>\n      <th>5</th>\n      <td>6</td>\n      <td>Mouse</td>\n      <td>10</td>\n      <td>2</td>\n      <td>informatique.nl</td>\n    </tr>\n    <tr>\n      <th>6</th>\n      <td>7</td>\n      <td>Motherboard</td>\n      <td>50</td>\n      <td>3</td>\n      <td>centurytech.sg</td>\n    </tr>\n    <tr>\n      <th>7</th>\n      <td>8</td>\n      <td>Power supply</td>\n      <td>20</td>\n      <td>1</td>\n      <td>Hypertek Systems</td>\n    </tr>\n  </tbody>\n</table>\n</div>"
     },
     "execution_count": 54,
     "metadata": {},
     "output_type": "execute_result"
    }
   ],
   "source": [
    "df_product_extended"
   ],
   "metadata": {
    "collapsed": false
   },
   "id": "594e3bc5aea54555"
  },
  {
   "cell_type": "raw",
   "source": [
    "3. What did you notice about the merge?"
   ],
   "metadata": {
    "collapsed": false
   },
   "id": "6656ee83012a3b5b"
  },
  {
   "cell_type": "markdown",
   "source": [
    "A. It \"knows\" that p_id is the join key (in SQL we needed to specify the join key)\n",
    "B. The rows do not need to appear in the same order (e.g. Power supply p_id 8 was in row 4 for the prod_supplier table) )"
   ],
   "metadata": {
    "collapsed": false
   },
   "id": "148e3dd227e61215"
  },
  {
   "cell_type": "markdown",
   "source": [
    "### Many-to-one joins (similar to SQL INNER JOIN)"
   ],
   "metadata": {
    "collapsed": false
   },
   "id": "d4ee4e1fc0be9a20"
  },
  {
   "cell_type": "markdown",
   "source": [
    " How can we create a table with the prod_supplier information and also the emails, phone numbers and address of the suppliers? Identify the new dataframe as df_prod_extended_supplier\n"
   ],
   "metadata": {
    "collapsed": false
   },
   "id": "e0ab9b0cdde1c31"
  },
  {
   "cell_type": "code",
   "execution_count": 56,
   "outputs": [],
   "source": [
    "df_prod_extended_supplier=pd.merge(df_prod_supplier,df_supplier)"
   ],
   "metadata": {
    "collapsed": false
   },
   "id": "d9528a7587f0d5bd"
  },
  {
   "cell_type": "code",
   "execution_count": 57,
   "outputs": [
    {
     "data": {
      "text/plain": "   p_id  supp_id      suppliername                 email       phone  \\\n0     1        1  Hypertek Systems     sales@hypertek.be  3256894514   \n1     2        1  Hypertek Systems     sales@hypertek.be  3256894514   \n2     3        2   informatique.nl  info@informatique.nl   312335679   \n3     8        1  Hypertek Systems     sales@hypertek.be  3256894514   \n4     4        3    centurytech.sg   info@centurytech.sg   657754637   \n5     5        3    centurytech.sg   info@centurytech.sg   657754637   \n6     6        2   informatique.nl  info@informatique.nl   312335679   \n7     7        3    centurytech.sg   info@centurytech.sg   657754637   \n\n                    address  \n0   Groenplaats 4 Antwerpen  \n1   Groenplaats 4 Antwerpen  \n2  Willem2plein 3 Rotterdam  \n3   Groenplaats 4 Antwerpen  \n4   China Tower 3 Singapore  \n5   China Tower 3 Singapore  \n6  Willem2plein 3 Rotterdam  \n7   China Tower 3 Singapore  ",
      "text/html": "<div>\n<style scoped>\n    .dataframe tbody tr th:only-of-type {\n        vertical-align: middle;\n    }\n\n    .dataframe tbody tr th {\n        vertical-align: top;\n    }\n\n    .dataframe thead th {\n        text-align: right;\n    }\n</style>\n<table border=\"1\" class=\"dataframe\">\n  <thead>\n    <tr style=\"text-align: right;\">\n      <th></th>\n      <th>p_id</th>\n      <th>supp_id</th>\n      <th>suppliername</th>\n      <th>email</th>\n      <th>phone</th>\n      <th>address</th>\n    </tr>\n  </thead>\n  <tbody>\n    <tr>\n      <th>0</th>\n      <td>1</td>\n      <td>1</td>\n      <td>Hypertek Systems</td>\n      <td>sales@hypertek.be</td>\n      <td>3256894514</td>\n      <td>Groenplaats 4 Antwerpen</td>\n    </tr>\n    <tr>\n      <th>1</th>\n      <td>2</td>\n      <td>1</td>\n      <td>Hypertek Systems</td>\n      <td>sales@hypertek.be</td>\n      <td>3256894514</td>\n      <td>Groenplaats 4 Antwerpen</td>\n    </tr>\n    <tr>\n      <th>2</th>\n      <td>3</td>\n      <td>2</td>\n      <td>informatique.nl</td>\n      <td>info@informatique.nl</td>\n      <td>312335679</td>\n      <td>Willem2plein 3 Rotterdam</td>\n    </tr>\n    <tr>\n      <th>3</th>\n      <td>8</td>\n      <td>1</td>\n      <td>Hypertek Systems</td>\n      <td>sales@hypertek.be</td>\n      <td>3256894514</td>\n      <td>Groenplaats 4 Antwerpen</td>\n    </tr>\n    <tr>\n      <th>4</th>\n      <td>4</td>\n      <td>3</td>\n      <td>centurytech.sg</td>\n      <td>info@centurytech.sg</td>\n      <td>657754637</td>\n      <td>China Tower 3 Singapore</td>\n    </tr>\n    <tr>\n      <th>5</th>\n      <td>5</td>\n      <td>3</td>\n      <td>centurytech.sg</td>\n      <td>info@centurytech.sg</td>\n      <td>657754637</td>\n      <td>China Tower 3 Singapore</td>\n    </tr>\n    <tr>\n      <th>6</th>\n      <td>6</td>\n      <td>2</td>\n      <td>informatique.nl</td>\n      <td>info@informatique.nl</td>\n      <td>312335679</td>\n      <td>Willem2plein 3 Rotterdam</td>\n    </tr>\n    <tr>\n      <th>7</th>\n      <td>7</td>\n      <td>3</td>\n      <td>centurytech.sg</td>\n      <td>info@centurytech.sg</td>\n      <td>657754637</td>\n      <td>China Tower 3 Singapore</td>\n    </tr>\n  </tbody>\n</table>\n</div>"
     },
     "execution_count": 57,
     "metadata": {},
     "output_type": "execute_result"
    }
   ],
   "source": [
    "df_prod_extended_supplier"
   ],
   "metadata": {
    "collapsed": false
   },
   "id": "27701887fae7c2b0"
  },
  {
   "cell_type": "markdown",
   "source": [
    "5. What happens when in one of the files you have supplier_name instead of suppliername?\n"
   ],
   "metadata": {
    "collapsed": false
   },
   "id": "b44f5c8de57d37dc"
  },
  {
   "cell_type": "markdown",
   "source": [
    "We see the column suppliername and the column supplier_name!"
   ],
   "metadata": {
    "collapsed": false
   },
   "id": "ee9c412fbbb30960"
  },
  {
   "cell_type": "markdown",
   "source": [
    "### Many-to-many joins (compare it with cartesian join or cross join in SQL)\n",
    "\n"
   ],
   "metadata": {
    "collapsed": false
   },
   "id": "392b02054e6b9454"
  },
  {
   "cell_type": "markdown",
   "source": [
    "Consider a dataframe which for every major contains a list of courses."
   ],
   "metadata": {
    "collapsed": false
   },
   "id": "baa3d6b64c59491f"
  },
  {
   "cell_type": "code",
   "execution_count": 10,
   "outputs": [],
   "source": [
    "df_courses = pd.DataFrame({\n",
    "    'major': ['AI', 'AI','AI','Infrastructure & System Engineering','Infrastructure & System Engineering', 'Infrastructure & System Engineering','Application Development','Application Development','Application Development','Application Development','Application Development','Application Development'],\n",
    "    'courses': [\n",
    "        'Machine Learning', 'Deep Learning', 'Natural Language Processing',\n",
    "        'Network Security', 'Cloud Computing', 'Database Management',\n",
    "        'Software Engineering', 'Systems Design', 'Embedded Systems',\n",
    "        'Web Development', 'Mobile App Development', 'Software Testing'\n",
    "    ]\n",
    "})"
   ],
   "metadata": {
    "collapsed": false,
    "ExecuteTime": {
     "end_time": "2024-09-12T10:54:51.698778100Z",
     "start_time": "2024-09-12T10:54:51.550313900Z"
    }
   },
   "id": "70a79954a2c85fe9"
  },
  {
   "cell_type": "code",
   "execution_count": 11,
   "outputs": [
    {
     "data": {
      "text/plain": "                                  major                      courses\n0                                    AI             Machine Learning\n1                                    AI                Deep Learning\n2                                    AI  Natural Language Processing\n3   Infrastructure & System Engineering             Network Security\n4   Infrastructure & System Engineering              Cloud Computing\n5   Infrastructure & System Engineering          Database Management\n6               Application Development         Software Engineering\n7               Application Development               Systems Design\n8               Application Development             Embedded Systems\n9               Application Development              Web Development\n10              Application Development       Mobile App Development\n11              Application Development             Software Testing",
      "text/html": "<div>\n<style scoped>\n    .dataframe tbody tr th:only-of-type {\n        vertical-align: middle;\n    }\n\n    .dataframe tbody tr th {\n        vertical-align: top;\n    }\n\n    .dataframe thead th {\n        text-align: right;\n    }\n</style>\n<table border=\"1\" class=\"dataframe\">\n  <thead>\n    <tr style=\"text-align: right;\">\n      <th></th>\n      <th>major</th>\n      <th>courses</th>\n    </tr>\n  </thead>\n  <tbody>\n    <tr>\n      <th>0</th>\n      <td>AI</td>\n      <td>Machine Learning</td>\n    </tr>\n    <tr>\n      <th>1</th>\n      <td>AI</td>\n      <td>Deep Learning</td>\n    </tr>\n    <tr>\n      <th>2</th>\n      <td>AI</td>\n      <td>Natural Language Processing</td>\n    </tr>\n    <tr>\n      <th>3</th>\n      <td>Infrastructure &amp; System Engineering</td>\n      <td>Network Security</td>\n    </tr>\n    <tr>\n      <th>4</th>\n      <td>Infrastructure &amp; System Engineering</td>\n      <td>Cloud Computing</td>\n    </tr>\n    <tr>\n      <th>5</th>\n      <td>Infrastructure &amp; System Engineering</td>\n      <td>Database Management</td>\n    </tr>\n    <tr>\n      <th>6</th>\n      <td>Application Development</td>\n      <td>Software Engineering</td>\n    </tr>\n    <tr>\n      <th>7</th>\n      <td>Application Development</td>\n      <td>Systems Design</td>\n    </tr>\n    <tr>\n      <th>8</th>\n      <td>Application Development</td>\n      <td>Embedded Systems</td>\n    </tr>\n    <tr>\n      <th>9</th>\n      <td>Application Development</td>\n      <td>Web Development</td>\n    </tr>\n    <tr>\n      <th>10</th>\n      <td>Application Development</td>\n      <td>Mobile App Development</td>\n    </tr>\n    <tr>\n      <th>11</th>\n      <td>Application Development</td>\n      <td>Software Testing</td>\n    </tr>\n  </tbody>\n</table>\n</div>"
     },
     "execution_count": 11,
     "metadata": {},
     "output_type": "execute_result"
    }
   ],
   "source": [
    "df_courses"
   ],
   "metadata": {
    "collapsed": false,
    "ExecuteTime": {
     "end_time": "2024-09-12T10:54:52.390972900Z",
     "start_time": "2024-09-12T10:54:52.228798400Z"
    }
   },
   "id": "f1e73dde1f1a9545"
  },
  {
   "cell_type": "markdown",
   "source": [
    "Next we consider students who participate in one of the majors."
   ],
   "metadata": {
    "collapsed": false
   },
   "id": "f30c999b71642af5"
  },
  {
   "cell_type": "code",
   "execution_count": 12,
   "outputs": [
    {
     "name": "stdout",
     "output_type": "stream",
     "text": [
      "  student_name                                major\n",
      "0        Alice                                   AI\n",
      "1          Bob  Infrastructure & System Engineering\n",
      "2      Charlie  Infrastructure & System Engineering\n",
      "3        David              Application Development\n",
      "4          Eva                                   AI\n",
      "5        Frank              Application Development\n"
     ]
    }
   ],
   "source": [
    "df_students= pd.DataFrame({\n",
    "    'student_name': ['Alice', 'Bob', 'Charlie', 'David', 'Eva', 'Frank'],\n",
    "    'major': ['AI', 'Infrastructure & System Engineering', 'Infrastructure & System Engineering', 'Application Development', 'AI', 'Application Development']\n",
    "})\n",
    "\n",
    "\n",
    "# Display the DataFrame\n",
    "print(df_students)\n"
   ],
   "metadata": {
    "collapsed": false,
    "ExecuteTime": {
     "end_time": "2024-09-12T10:55:17.277642900Z",
     "start_time": "2024-09-12T10:55:17.113621700Z"
    }
   },
   "id": "53d4d5a7f91694ca"
  },
  {
   "cell_type": "markdown",
   "source": [
    "8. Construct a list of all the courses a student needs to follow."
   ],
   "metadata": {
    "collapsed": false
   },
   "id": "68370a0208818f3c"
  },
  {
   "cell_type": "markdown",
   "source": [],
   "metadata": {
    "collapsed": false
   },
   "id": "26fe3e14735ade82"
  },
  {
   "cell_type": "code",
   "execution_count": 13,
   "outputs": [],
   "source": [
    "df_listcourses=pd.merge(df_students,df_courses)"
   ],
   "metadata": {
    "collapsed": false,
    "ExecuteTime": {
     "end_time": "2024-09-12T10:55:24.714197500Z",
     "start_time": "2024-09-12T10:55:24.675173500Z"
    }
   },
   "id": "3b58a3012b564ec7"
  },
  {
   "cell_type": "code",
   "execution_count": 169,
   "outputs": [
    {
     "data": {
      "text/plain": "   student_name                                major  \\\n0         Alice                                   AI   \n1         Alice                                   AI   \n2         Alice                                   AI   \n3           Bob  Infrastructure & System Engineering   \n4           Bob  Infrastructure & System Engineering   \n5           Bob  Infrastructure & System Engineering   \n6       Charlie  Infrastructure & System Engineering   \n7       Charlie  Infrastructure & System Engineering   \n8       Charlie  Infrastructure & System Engineering   \n9         David              Application Development   \n10        David              Application Development   \n11        David              Application Development   \n12        David              Application Development   \n13        David              Application Development   \n14        David              Application Development   \n15          Eva                                   AI   \n16          Eva                                   AI   \n17          Eva                                   AI   \n18        Frank              Application Development   \n19        Frank              Application Development   \n20        Frank              Application Development   \n21        Frank              Application Development   \n22        Frank              Application Development   \n23        Frank              Application Development   \n\n                        courses  \n0              Machine Learning  \n1                 Deep Learning  \n2   Natural Language Processing  \n3              Network Security  \n4               Cloud Computing  \n5           Database Management  \n6              Network Security  \n7               Cloud Computing  \n8           Database Management  \n9          Software Engineering  \n10               Systems Design  \n11             Embedded Systems  \n12              Web Development  \n13       Mobile App Development  \n14             Software Testing  \n15             Machine Learning  \n16                Deep Learning  \n17  Natural Language Processing  \n18         Software Engineering  \n19               Systems Design  \n20             Embedded Systems  \n21              Web Development  \n22       Mobile App Development  \n23             Software Testing  ",
      "text/html": "<div>\n<style scoped>\n    .dataframe tbody tr th:only-of-type {\n        vertical-align: middle;\n    }\n\n    .dataframe tbody tr th {\n        vertical-align: top;\n    }\n\n    .dataframe thead th {\n        text-align: right;\n    }\n</style>\n<table border=\"1\" class=\"dataframe\">\n  <thead>\n    <tr style=\"text-align: right;\">\n      <th></th>\n      <th>student_name</th>\n      <th>major</th>\n      <th>courses</th>\n    </tr>\n  </thead>\n  <tbody>\n    <tr>\n      <th>0</th>\n      <td>Alice</td>\n      <td>AI</td>\n      <td>Machine Learning</td>\n    </tr>\n    <tr>\n      <th>1</th>\n      <td>Alice</td>\n      <td>AI</td>\n      <td>Deep Learning</td>\n    </tr>\n    <tr>\n      <th>2</th>\n      <td>Alice</td>\n      <td>AI</td>\n      <td>Natural Language Processing</td>\n    </tr>\n    <tr>\n      <th>3</th>\n      <td>Bob</td>\n      <td>Infrastructure &amp; System Engineering</td>\n      <td>Network Security</td>\n    </tr>\n    <tr>\n      <th>4</th>\n      <td>Bob</td>\n      <td>Infrastructure &amp; System Engineering</td>\n      <td>Cloud Computing</td>\n    </tr>\n    <tr>\n      <th>5</th>\n      <td>Bob</td>\n      <td>Infrastructure &amp; System Engineering</td>\n      <td>Database Management</td>\n    </tr>\n    <tr>\n      <th>6</th>\n      <td>Charlie</td>\n      <td>Infrastructure &amp; System Engineering</td>\n      <td>Network Security</td>\n    </tr>\n    <tr>\n      <th>7</th>\n      <td>Charlie</td>\n      <td>Infrastructure &amp; System Engineering</td>\n      <td>Cloud Computing</td>\n    </tr>\n    <tr>\n      <th>8</th>\n      <td>Charlie</td>\n      <td>Infrastructure &amp; System Engineering</td>\n      <td>Database Management</td>\n    </tr>\n    <tr>\n      <th>9</th>\n      <td>David</td>\n      <td>Application Development</td>\n      <td>Software Engineering</td>\n    </tr>\n    <tr>\n      <th>10</th>\n      <td>David</td>\n      <td>Application Development</td>\n      <td>Systems Design</td>\n    </tr>\n    <tr>\n      <th>11</th>\n      <td>David</td>\n      <td>Application Development</td>\n      <td>Embedded Systems</td>\n    </tr>\n    <tr>\n      <th>12</th>\n      <td>David</td>\n      <td>Application Development</td>\n      <td>Web Development</td>\n    </tr>\n    <tr>\n      <th>13</th>\n      <td>David</td>\n      <td>Application Development</td>\n      <td>Mobile App Development</td>\n    </tr>\n    <tr>\n      <th>14</th>\n      <td>David</td>\n      <td>Application Development</td>\n      <td>Software Testing</td>\n    </tr>\n    <tr>\n      <th>15</th>\n      <td>Eva</td>\n      <td>AI</td>\n      <td>Machine Learning</td>\n    </tr>\n    <tr>\n      <th>16</th>\n      <td>Eva</td>\n      <td>AI</td>\n      <td>Deep Learning</td>\n    </tr>\n    <tr>\n      <th>17</th>\n      <td>Eva</td>\n      <td>AI</td>\n      <td>Natural Language Processing</td>\n    </tr>\n    <tr>\n      <th>18</th>\n      <td>Frank</td>\n      <td>Application Development</td>\n      <td>Software Engineering</td>\n    </tr>\n    <tr>\n      <th>19</th>\n      <td>Frank</td>\n      <td>Application Development</td>\n      <td>Systems Design</td>\n    </tr>\n    <tr>\n      <th>20</th>\n      <td>Frank</td>\n      <td>Application Development</td>\n      <td>Embedded Systems</td>\n    </tr>\n    <tr>\n      <th>21</th>\n      <td>Frank</td>\n      <td>Application Development</td>\n      <td>Web Development</td>\n    </tr>\n    <tr>\n      <th>22</th>\n      <td>Frank</td>\n      <td>Application Development</td>\n      <td>Mobile App Development</td>\n    </tr>\n    <tr>\n      <th>23</th>\n      <td>Frank</td>\n      <td>Application Development</td>\n      <td>Software Testing</td>\n    </tr>\n  </tbody>\n</table>\n</div>"
     },
     "execution_count": 169,
     "metadata": {},
     "output_type": "execute_result"
    }
   ],
   "source": [
    "df_listcourses"
   ],
   "metadata": {
    "collapsed": false,
    "ExecuteTime": {
     "start_time": "2024-09-04T20:43:44.851086Z",
     "end_time": "2024-09-04T20:43:44.869047Z"
    }
   },
   "id": "ed21106dc64fc3fc"
  },
  {
   "cell_type": "markdown",
   "source": [
    "### Merge keys"
   ],
   "metadata": {
    "collapsed": false
   },
   "id": "b496b42a977eb4d6"
  },
  {
   "cell_type": "markdown",
   "source": [
    "In SQL we have the option to specify the join-key, in Pandas we can do the same and avoid problems that columns have different labels but the same content.\n",
    "\n",
    "9. Read the file prod_suppliers2.csv next in Suppliers.csv we still have suppliersname but in prod_suppliers we call this column supplier (also supp_id is omitted). How do you join the two tables without changing the columns names and in the end you keep suppliername in the table?"
   ],
   "metadata": {
    "collapsed": false
   },
   "id": "110644dbd6fdc2f5"
  },
  {
   "cell_type": "code",
   "execution_count": 76,
   "outputs": [],
   "source": [
    "df=pd.merge(df_prod_supplier2,df_supplier, left_on='supplier',right_on=\"suppliername\").drop('supplier',axis=1)"
   ],
   "metadata": {
    "collapsed": false
   },
   "id": "86a2fba6bc405ff6"
  },
  {
   "cell_type": "code",
   "execution_count": 77,
   "outputs": [
    {
     "data": {
      "text/plain": "   p_id  supp_id      suppliername                 email       phone  \\\n0     1        1  Hypertek Systems     sales@hypertek.be  3256894514   \n1     2        1  Hypertek Systems     sales@hypertek.be  3256894514   \n2     3        2   informatique.nl  info@informatique.nl   312335679   \n3     8        1  Hypertek Systems     sales@hypertek.be  3256894514   \n4     4        3    centurytech.sg   info@centurytech.sg   657754637   \n\n                    address  \n0   Groenplaats 4 Antwerpen  \n1   Groenplaats 4 Antwerpen  \n2  Willem2plein 3 Rotterdam  \n3   Groenplaats 4 Antwerpen  \n4   China Tower 3 Singapore  ",
      "text/html": "<div>\n<style scoped>\n    .dataframe tbody tr th:only-of-type {\n        vertical-align: middle;\n    }\n\n    .dataframe tbody tr th {\n        vertical-align: top;\n    }\n\n    .dataframe thead th {\n        text-align: right;\n    }\n</style>\n<table border=\"1\" class=\"dataframe\">\n  <thead>\n    <tr style=\"text-align: right;\">\n      <th></th>\n      <th>p_id</th>\n      <th>supp_id</th>\n      <th>suppliername</th>\n      <th>email</th>\n      <th>phone</th>\n      <th>address</th>\n    </tr>\n  </thead>\n  <tbody>\n    <tr>\n      <th>0</th>\n      <td>1</td>\n      <td>1</td>\n      <td>Hypertek Systems</td>\n      <td>sales@hypertek.be</td>\n      <td>3256894514</td>\n      <td>Groenplaats 4 Antwerpen</td>\n    </tr>\n    <tr>\n      <th>1</th>\n      <td>2</td>\n      <td>1</td>\n      <td>Hypertek Systems</td>\n      <td>sales@hypertek.be</td>\n      <td>3256894514</td>\n      <td>Groenplaats 4 Antwerpen</td>\n    </tr>\n    <tr>\n      <th>2</th>\n      <td>3</td>\n      <td>2</td>\n      <td>informatique.nl</td>\n      <td>info@informatique.nl</td>\n      <td>312335679</td>\n      <td>Willem2plein 3 Rotterdam</td>\n    </tr>\n    <tr>\n      <th>3</th>\n      <td>8</td>\n      <td>1</td>\n      <td>Hypertek Systems</td>\n      <td>sales@hypertek.be</td>\n      <td>3256894514</td>\n      <td>Groenplaats 4 Antwerpen</td>\n    </tr>\n    <tr>\n      <th>4</th>\n      <td>4</td>\n      <td>3</td>\n      <td>centurytech.sg</td>\n      <td>info@centurytech.sg</td>\n      <td>657754637</td>\n      <td>China Tower 3 Singapore</td>\n    </tr>\n  </tbody>\n</table>\n</div>"
     },
     "execution_count": 77,
     "metadata": {},
     "output_type": "execute_result"
    }
   ],
   "source": [
    "df.head()\n"
   ],
   "metadata": {
    "collapsed": false
   },
   "id": "4ecde6400f6345e2"
  },
  {
   "cell_type": "markdown",
   "source": [
    "10. a. Take df_product and df_prod_supplier2 transform the p_id in an index\n",
    "    b. Merge the two tables on the index\n",
    "    c. Do the same but use the join method of Pandas\n",
    "    d. Verify that both are the same"
   ],
   "metadata": {
    "collapsed": false
   },
   "id": "fe93a6ad5cd55690"
  },
  {
   "cell_type": "code",
   "execution_count": 78,
   "outputs": [],
   "source": [
    "df_product=df_product.set_index('p_id')\n",
    "df_prod_supplier2=df_prod_supplier2.set_index('p_id')"
   ],
   "metadata": {
    "collapsed": false
   },
   "id": "3a509979b815a088"
  },
  {
   "cell_type": "code",
   "execution_count": 79,
   "outputs": [
    {
     "name": "stdout",
     "output_type": "stream",
     "text": [
      "           product  price          supplier\n",
      "p_id                                       \n",
      "1        Hard Disk     80  Hypertek Systems\n",
      "2              RAM     90  Hypertek Systems\n",
      "3          Monitor     75   informatique.nl\n",
      "4              CPU     55    centurytech.sg\n",
      "5         Keyboard     20    centurytech.sg\n",
      "6            Mouse     10   informatique.nl\n",
      "7      Motherboard     50    centurytech.sg\n",
      "8     Power supply     20  Hypertek Systems\n"
     ]
    }
   ],
   "source": [
    "df=pd.merge(df_product,df_prod_supplier2,left_index=True,right_index=True)\n",
    "print(df)"
   ],
   "metadata": {
    "collapsed": false
   },
   "id": "b665658d0e998594"
  },
  {
   "cell_type": "code",
   "execution_count": 80,
   "outputs": [
    {
     "name": "stdout",
     "output_type": "stream",
     "text": [
      "           product  price          supplier\n",
      "p_id                                       \n",
      "1        Hard Disk     80  Hypertek Systems\n",
      "2              RAM     90  Hypertek Systems\n",
      "3          Monitor     75   informatique.nl\n",
      "4              CPU     55    centurytech.sg\n",
      "5         Keyboard     20    centurytech.sg\n",
      "6            Mouse     10   informatique.nl\n",
      "7      Motherboard     50    centurytech.sg\n",
      "8     Power supply     20  Hypertek Systems\n"
     ]
    }
   ],
   "source": [
    "dfj=df_product.join(df_prod_supplier2)\n",
    "print(dfj)"
   ],
   "metadata": {
    "collapsed": false
   },
   "id": "955ac6bd6c3dcbdc"
  },
  {
   "cell_type": "markdown",
   "source": [
    "11. a.Merge the sales, prod_suppliers and products into one dataframe. What wil you merge first\n",
    "    b.How do you avoid having double columns?"
   ],
   "metadata": {
    "collapsed": false
   },
   "id": "85c7fed5377b2a9e"
  },
  {
   "cell_type": "code",
   "execution_count": 89,
   "outputs": [],
   "source": [
    "df_temp=pd.merge(df_sales,df_product,left_on=['p_id','product'],right_on=['p_id','product'])"
   ],
   "metadata": {
    "collapsed": false
   },
   "id": "7d855f046a0f8580"
  },
  {
   "cell_type": "code",
   "execution_count": 90,
   "outputs": [
    {
     "name": "stdout",
     "output_type": "stream",
     "text": [
      "   sale_id  c_id  p_id  product  qty store  price\n",
      "0        1     2     3  Monitor    2   ABC     75\n",
      "1        2     2     4      CPU    1   DEF     55\n",
      "2        3     1     3  Monitor    3   ABC     75\n",
      "3        4     4     2      RAM    2   DEF     90\n",
      "4        5     2     3  Monitor    3   ABC     75\n",
      "5        6     3     3  Monitor    2   DEF     75\n",
      "6        7     2     2      RAM    3   ABC     90\n",
      "7        8     3     2      RAM    2   DEF     90\n",
      "8        9     2     3  Monitor    2   ABC     75\n"
     ]
    }
   ],
   "source": [
    "print(df_temp)\n"
   ],
   "metadata": {
    "collapsed": false
   },
   "id": "df9bd851ff6489f8"
  },
  {
   "cell_type": "code",
   "execution_count": 92,
   "outputs": [],
   "source": [
    "df_final=pd.merge(df_temp,df_prod_supplier,left_on='p_id',right_on='p_id')"
   ],
   "metadata": {
    "collapsed": false
   },
   "id": "332e6aba0e5c8716"
  },
  {
   "cell_type": "code",
   "execution_count": 93,
   "outputs": [
    {
     "data": {
      "text/plain": "   sale_id  c_id  p_id  product  qty store  price  supp_id      suppliername\n0        1     2     3  Monitor    2   ABC     75        2   informatique.nl\n1        2     2     4      CPU    1   DEF     55        3    centurytech.sg\n2        3     1     3  Monitor    3   ABC     75        2   informatique.nl\n3        4     4     2      RAM    2   DEF     90        1  Hypertek Systems\n4        5     2     3  Monitor    3   ABC     75        2   informatique.nl\n5        6     3     3  Monitor    2   DEF     75        2   informatique.nl\n6        7     2     2      RAM    3   ABC     90        1  Hypertek Systems\n7        8     3     2      RAM    2   DEF     90        1  Hypertek Systems\n8        9     2     3  Monitor    2   ABC     75        2   informatique.nl",
      "text/html": "<div>\n<style scoped>\n    .dataframe tbody tr th:only-of-type {\n        vertical-align: middle;\n    }\n\n    .dataframe tbody tr th {\n        vertical-align: top;\n    }\n\n    .dataframe thead th {\n        text-align: right;\n    }\n</style>\n<table border=\"1\" class=\"dataframe\">\n  <thead>\n    <tr style=\"text-align: right;\">\n      <th></th>\n      <th>sale_id</th>\n      <th>c_id</th>\n      <th>p_id</th>\n      <th>product</th>\n      <th>qty</th>\n      <th>store</th>\n      <th>price</th>\n      <th>supp_id</th>\n      <th>suppliername</th>\n    </tr>\n  </thead>\n  <tbody>\n    <tr>\n      <th>0</th>\n      <td>1</td>\n      <td>2</td>\n      <td>3</td>\n      <td>Monitor</td>\n      <td>2</td>\n      <td>ABC</td>\n      <td>75</td>\n      <td>2</td>\n      <td>informatique.nl</td>\n    </tr>\n    <tr>\n      <th>1</th>\n      <td>2</td>\n      <td>2</td>\n      <td>4</td>\n      <td>CPU</td>\n      <td>1</td>\n      <td>DEF</td>\n      <td>55</td>\n      <td>3</td>\n      <td>centurytech.sg</td>\n    </tr>\n    <tr>\n      <th>2</th>\n      <td>3</td>\n      <td>1</td>\n      <td>3</td>\n      <td>Monitor</td>\n      <td>3</td>\n      <td>ABC</td>\n      <td>75</td>\n      <td>2</td>\n      <td>informatique.nl</td>\n    </tr>\n    <tr>\n      <th>3</th>\n      <td>4</td>\n      <td>4</td>\n      <td>2</td>\n      <td>RAM</td>\n      <td>2</td>\n      <td>DEF</td>\n      <td>90</td>\n      <td>1</td>\n      <td>Hypertek Systems</td>\n    </tr>\n    <tr>\n      <th>4</th>\n      <td>5</td>\n      <td>2</td>\n      <td>3</td>\n      <td>Monitor</td>\n      <td>3</td>\n      <td>ABC</td>\n      <td>75</td>\n      <td>2</td>\n      <td>informatique.nl</td>\n    </tr>\n    <tr>\n      <th>5</th>\n      <td>6</td>\n      <td>3</td>\n      <td>3</td>\n      <td>Monitor</td>\n      <td>2</td>\n      <td>DEF</td>\n      <td>75</td>\n      <td>2</td>\n      <td>informatique.nl</td>\n    </tr>\n    <tr>\n      <th>6</th>\n      <td>7</td>\n      <td>2</td>\n      <td>2</td>\n      <td>RAM</td>\n      <td>3</td>\n      <td>ABC</td>\n      <td>90</td>\n      <td>1</td>\n      <td>Hypertek Systems</td>\n    </tr>\n    <tr>\n      <th>7</th>\n      <td>8</td>\n      <td>3</td>\n      <td>2</td>\n      <td>RAM</td>\n      <td>2</td>\n      <td>DEF</td>\n      <td>90</td>\n      <td>1</td>\n      <td>Hypertek Systems</td>\n    </tr>\n    <tr>\n      <th>8</th>\n      <td>9</td>\n      <td>2</td>\n      <td>3</td>\n      <td>Monitor</td>\n      <td>2</td>\n      <td>ABC</td>\n      <td>75</td>\n      <td>2</td>\n      <td>informatique.nl</td>\n    </tr>\n  </tbody>\n</table>\n</div>"
     },
     "execution_count": 93,
     "metadata": {},
     "output_type": "execute_result"
    }
   ],
   "source": [
    "df_final"
   ],
   "metadata": {
    "collapsed": false
   },
   "id": "a138988e53537216"
  },
  {
   "cell_type": "markdown",
   "source": [
    "### What about left, right and outer joins?\n"
   ],
   "metadata": {
    "collapsed": false
   },
   "id": "e7ad4f1a41b27af5"
  },
  {
   "cell_type": "markdown",
   "source": [
    "In SQL we have the notion of a left and right join and an outer join. What are the pandas counterparts?\n",
    "Let's review our student example"
   ],
   "metadata": {
    "collapsed": false
   },
   "id": "8367230fe5fb87f3"
  },
  {
   "cell_type": "code",
   "execution_count": 170,
   "outputs": [
    {
     "name": "stdout",
     "output_type": "stream",
     "text": [
      "  student_name                                major\n",
      "0        Alice                                   AI\n",
      "1          Bob  Infrastructure & System Engineering\n",
      "2      Charlie  Infrastructure & System Engineering\n",
      "3        David              Application Development\n",
      "4          Eva                                   AI\n",
      "5        Frank              Application Development\n"
     ]
    }
   ],
   "source": [
    "print(df_students)"
   ],
   "metadata": {
    "collapsed": false,
    "ExecuteTime": {
     "start_time": "2024-09-04T20:44:03.554836Z",
     "end_time": "2024-09-04T20:44:03.561981Z"
    }
   },
   "id": "354ca875eca11659"
  },
  {
   "cell_type": "markdown",
   "source": [
    "12. Suppose that our students also have the option to have a minor:\n",
    "a. Make a Dataframe with a column student_name and a column minor\n",
    "Alice takes the minor French communication and Frank chooses LLM. Ali finished the major but still wants to add a minor in Cybersecurity on his CV label this Dataframe as df_minor\n",
    "b. Merge the df_students with df_minor. What happens?\n",
    "c. Do we have duplicate columns? How do we drop them?\n",
    "d Construct a dataframe with all the information of all the students\n",
    "e. Construct a dataframe with all the information of the majors and optional that of the minors\n",
    "f. Construct a dataframe with all the info about the minors and optional that of the majors\n"
   ],
   "metadata": {
    "collapsed": false
   },
   "id": "7584f3c7bc11ed90"
  },
  {
   "cell_type": "code",
   "execution_count": 171,
   "outputs": [],
   "source": [
    "data={'Student_name':['Alice','Frank','Ali'],'Minor':['French communication','LLM','Cybersecurity']}\n",
    "df_minor=pd.DataFrame(data)"
   ],
   "metadata": {
    "collapsed": false,
    "ExecuteTime": {
     "start_time": "2024-09-04T20:44:11.230671Z",
     "end_time": "2024-09-04T20:44:11.240423Z"
    }
   },
   "id": "98d6633a19764d05"
  },
  {
   "cell_type": "code",
   "execution_count": 172,
   "outputs": [
    {
     "data": {
      "text/plain": "  Student_name                 Minor\n0        Alice  French communication\n1        Frank                   LLM\n2          Ali         Cybersecurity",
      "text/html": "<div>\n<style scoped>\n    .dataframe tbody tr th:only-of-type {\n        vertical-align: middle;\n    }\n\n    .dataframe tbody tr th {\n        vertical-align: top;\n    }\n\n    .dataframe thead th {\n        text-align: right;\n    }\n</style>\n<table border=\"1\" class=\"dataframe\">\n  <thead>\n    <tr style=\"text-align: right;\">\n      <th></th>\n      <th>Student_name</th>\n      <th>Minor</th>\n    </tr>\n  </thead>\n  <tbody>\n    <tr>\n      <th>0</th>\n      <td>Alice</td>\n      <td>French communication</td>\n    </tr>\n    <tr>\n      <th>1</th>\n      <td>Frank</td>\n      <td>LLM</td>\n    </tr>\n    <tr>\n      <th>2</th>\n      <td>Ali</td>\n      <td>Cybersecurity</td>\n    </tr>\n  </tbody>\n</table>\n</div>"
     },
     "execution_count": 172,
     "metadata": {},
     "output_type": "execute_result"
    }
   ],
   "source": [
    "df_minor"
   ],
   "metadata": {
    "collapsed": false,
    "ExecuteTime": {
     "start_time": "2024-09-04T20:44:11.978820Z",
     "end_time": "2024-09-04T20:44:11.986407Z"
    }
   },
   "id": "c962fbce2fdb95f5"
  },
  {
   "cell_type": "code",
   "execution_count": 176,
   "outputs": [],
   "source": [
    "#b\n",
    "df=pd.merge(df_students,df_minor,left_on='student_name',right_on='Student_name')\n",
    "#c\n",
    "df=df.drop('Student_name',axis=1)"
   ],
   "metadata": {
    "collapsed": false,
    "ExecuteTime": {
     "start_time": "2024-09-04T20:46:25.569264Z",
     "end_time": "2024-09-04T20:46:25.587927Z"
    }
   },
   "id": "91045fa2b9ce54ca"
  },
  {
   "cell_type": "code",
   "execution_count": 177,
   "outputs": [
    {
     "data": {
      "text/plain": "  student_name                    major                 Minor\n0        Alice                       AI  French communication\n1        Frank  Application Development                   LLM",
      "text/html": "<div>\n<style scoped>\n    .dataframe tbody tr th:only-of-type {\n        vertical-align: middle;\n    }\n\n    .dataframe tbody tr th {\n        vertical-align: top;\n    }\n\n    .dataframe thead th {\n        text-align: right;\n    }\n</style>\n<table border=\"1\" class=\"dataframe\">\n  <thead>\n    <tr style=\"text-align: right;\">\n      <th></th>\n      <th>student_name</th>\n      <th>major</th>\n      <th>Minor</th>\n    </tr>\n  </thead>\n  <tbody>\n    <tr>\n      <th>0</th>\n      <td>Alice</td>\n      <td>AI</td>\n      <td>French communication</td>\n    </tr>\n    <tr>\n      <th>1</th>\n      <td>Frank</td>\n      <td>Application Development</td>\n      <td>LLM</td>\n    </tr>\n  </tbody>\n</table>\n</div>"
     },
     "execution_count": 177,
     "metadata": {},
     "output_type": "execute_result"
    }
   ],
   "source": [
    "df"
   ],
   "metadata": {
    "collapsed": false,
    "ExecuteTime": {
     "start_time": "2024-09-04T20:46:28.731822Z",
     "end_time": "2024-09-04T20:46:28.740752Z"
    }
   },
   "id": "d9528ba350b42a82"
  },
  {
   "cell_type": "markdown",
   "source": [
    "b. We see only the information for Alice and Frank because they are the only ones with a minor and a major\n"
   ],
   "metadata": {
    "collapsed": false
   },
   "id": "971fb547d11519dc"
  },
  {
   "cell_type": "code",
   "execution_count": 105,
   "outputs": [],
   "source": [
    "#d\n",
    "df_outer=pd.merge(df_students,df_minor,left_on='student_name',right_on='Student_name',how='outer')"
   ],
   "metadata": {
    "collapsed": false
   },
   "id": "8ee9af803f1904bb"
  },
  {
   "cell_type": "code",
   "execution_count": 106,
   "outputs": [
    {
     "data": {
      "text/plain": "  student_name                                major Student_name  \\\n0          NaN                                  NaN          Ali   \n1        Alice                                   AI        Alice   \n2          Bob  Infrastructure & System Engineering          NaN   \n3      Charlie  Infrastructure & System Engineering          NaN   \n4        David              Application Development          NaN   \n5          Eva                                   AI          NaN   \n6        Frank              Application Development        Frank   \n\n                  Minor  \n0         Cybersecurity  \n1  French communication  \n2                   NaN  \n3                   NaN  \n4                   NaN  \n5                   NaN  \n6                   LLM  ",
      "text/html": "<div>\n<style scoped>\n    .dataframe tbody tr th:only-of-type {\n        vertical-align: middle;\n    }\n\n    .dataframe tbody tr th {\n        vertical-align: top;\n    }\n\n    .dataframe thead th {\n        text-align: right;\n    }\n</style>\n<table border=\"1\" class=\"dataframe\">\n  <thead>\n    <tr style=\"text-align: right;\">\n      <th></th>\n      <th>student_name</th>\n      <th>major</th>\n      <th>Student_name</th>\n      <th>Minor</th>\n    </tr>\n  </thead>\n  <tbody>\n    <tr>\n      <th>0</th>\n      <td>NaN</td>\n      <td>NaN</td>\n      <td>Ali</td>\n      <td>Cybersecurity</td>\n    </tr>\n    <tr>\n      <th>1</th>\n      <td>Alice</td>\n      <td>AI</td>\n      <td>Alice</td>\n      <td>French communication</td>\n    </tr>\n    <tr>\n      <th>2</th>\n      <td>Bob</td>\n      <td>Infrastructure &amp; System Engineering</td>\n      <td>NaN</td>\n      <td>NaN</td>\n    </tr>\n    <tr>\n      <th>3</th>\n      <td>Charlie</td>\n      <td>Infrastructure &amp; System Engineering</td>\n      <td>NaN</td>\n      <td>NaN</td>\n    </tr>\n    <tr>\n      <th>4</th>\n      <td>David</td>\n      <td>Application Development</td>\n      <td>NaN</td>\n      <td>NaN</td>\n    </tr>\n    <tr>\n      <th>5</th>\n      <td>Eva</td>\n      <td>AI</td>\n      <td>NaN</td>\n      <td>NaN</td>\n    </tr>\n    <tr>\n      <th>6</th>\n      <td>Frank</td>\n      <td>Application Development</td>\n      <td>Frank</td>\n      <td>LLM</td>\n    </tr>\n  </tbody>\n</table>\n</div>"
     },
     "execution_count": 106,
     "metadata": {},
     "output_type": "execute_result"
    }
   ],
   "source": [
    "df_outer"
   ],
   "metadata": {
    "collapsed": false
   },
   "id": "aaa544268f39d933"
  },
  {
   "cell_type": "code",
   "execution_count": 107,
   "outputs": [],
   "source": [
    "#e\n",
    "df_left=pd.merge(df_students,df_minor,left_on='student_name',right_on='Student_name',how='left')"
   ],
   "metadata": {
    "collapsed": false
   },
   "id": "2f2037cc2d5ee54"
  },
  {
   "cell_type": "code",
   "execution_count": 108,
   "outputs": [
    {
     "data": {
      "text/plain": "  student_name                                major Student_name  \\\n0        Alice                                   AI        Alice   \n1          Bob  Infrastructure & System Engineering          NaN   \n2      Charlie  Infrastructure & System Engineering          NaN   \n3        David              Application Development          NaN   \n4          Eva                                   AI          NaN   \n5        Frank              Application Development        Frank   \n\n                  Minor  \n0  French communication  \n1                   NaN  \n2                   NaN  \n3                   NaN  \n4                   NaN  \n5                   LLM  ",
      "text/html": "<div>\n<style scoped>\n    .dataframe tbody tr th:only-of-type {\n        vertical-align: middle;\n    }\n\n    .dataframe tbody tr th {\n        vertical-align: top;\n    }\n\n    .dataframe thead th {\n        text-align: right;\n    }\n</style>\n<table border=\"1\" class=\"dataframe\">\n  <thead>\n    <tr style=\"text-align: right;\">\n      <th></th>\n      <th>student_name</th>\n      <th>major</th>\n      <th>Student_name</th>\n      <th>Minor</th>\n    </tr>\n  </thead>\n  <tbody>\n    <tr>\n      <th>0</th>\n      <td>Alice</td>\n      <td>AI</td>\n      <td>Alice</td>\n      <td>French communication</td>\n    </tr>\n    <tr>\n      <th>1</th>\n      <td>Bob</td>\n      <td>Infrastructure &amp; System Engineering</td>\n      <td>NaN</td>\n      <td>NaN</td>\n    </tr>\n    <tr>\n      <th>2</th>\n      <td>Charlie</td>\n      <td>Infrastructure &amp; System Engineering</td>\n      <td>NaN</td>\n      <td>NaN</td>\n    </tr>\n    <tr>\n      <th>3</th>\n      <td>David</td>\n      <td>Application Development</td>\n      <td>NaN</td>\n      <td>NaN</td>\n    </tr>\n    <tr>\n      <th>4</th>\n      <td>Eva</td>\n      <td>AI</td>\n      <td>NaN</td>\n      <td>NaN</td>\n    </tr>\n    <tr>\n      <th>5</th>\n      <td>Frank</td>\n      <td>Application Development</td>\n      <td>Frank</td>\n      <td>LLM</td>\n    </tr>\n  </tbody>\n</table>\n</div>"
     },
     "execution_count": 108,
     "metadata": {},
     "output_type": "execute_result"
    }
   ],
   "source": [
    "df_left"
   ],
   "metadata": {
    "collapsed": false
   },
   "id": "2e09628e1aef960f"
  },
  {
   "cell_type": "code",
   "execution_count": 109,
   "outputs": [
    {
     "data": {
      "text/plain": "  student_name                    major Student_name                 Minor\n0        Alice                       AI        Alice  French communication\n1        Frank  Application Development        Frank                   LLM\n2          NaN                      NaN          Ali         Cybersecurity",
      "text/html": "<div>\n<style scoped>\n    .dataframe tbody tr th:only-of-type {\n        vertical-align: middle;\n    }\n\n    .dataframe tbody tr th {\n        vertical-align: top;\n    }\n\n    .dataframe thead th {\n        text-align: right;\n    }\n</style>\n<table border=\"1\" class=\"dataframe\">\n  <thead>\n    <tr style=\"text-align: right;\">\n      <th></th>\n      <th>student_name</th>\n      <th>major</th>\n      <th>Student_name</th>\n      <th>Minor</th>\n    </tr>\n  </thead>\n  <tbody>\n    <tr>\n      <th>0</th>\n      <td>Alice</td>\n      <td>AI</td>\n      <td>Alice</td>\n      <td>French communication</td>\n    </tr>\n    <tr>\n      <th>1</th>\n      <td>Frank</td>\n      <td>Application Development</td>\n      <td>Frank</td>\n      <td>LLM</td>\n    </tr>\n    <tr>\n      <th>2</th>\n      <td>NaN</td>\n      <td>NaN</td>\n      <td>Ali</td>\n      <td>Cybersecurity</td>\n    </tr>\n  </tbody>\n</table>\n</div>"
     },
     "execution_count": 109,
     "metadata": {},
     "output_type": "execute_result"
    }
   ],
   "source": [
    "#f\n",
    "df_right=pd.merge(df_students,df_minor,left_on='student_name',right_on='Student_name',how='right')\n",
    "df_right"
   ],
   "metadata": {
    "collapsed": false
   },
   "id": "52e247a78b980004"
  },
  {
   "cell_type": "markdown",
   "source": [],
   "metadata": {
    "collapsed": false
   },
   "id": "fcecb868652941b7"
  },
  {
   "cell_type": "markdown",
   "source": [],
   "metadata": {
    "collapsed": false
   },
   "id": "1a6604ba67eabe26"
  }
 ],
 "metadata": {
  "kernelspec": {
   "display_name": "Python 3",
   "language": "python",
   "name": "python3"
  },
  "language_info": {
   "codemirror_mode": {
    "name": "ipython",
    "version": 2
   },
   "file_extension": ".py",
   "mimetype": "text/x-python",
   "name": "python",
   "nbconvert_exporter": "python",
   "pygments_lexer": "ipython2",
   "version": "2.7.6"
  }
 },
 "nbformat": 4,
 "nbformat_minor": 5
}
