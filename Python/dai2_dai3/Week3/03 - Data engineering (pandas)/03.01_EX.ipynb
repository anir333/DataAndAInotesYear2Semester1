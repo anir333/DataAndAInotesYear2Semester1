{
 "cells": [
  {
   "cell_type": "code",
   "id": "initial_id",
   "metadata": {
    "collapsed": true,
    "jupyter": {
     "outputs_hidden": true
    },
    "id": "initial_id",
    "ExecuteTime": {
     "end_time": "2024-10-09T17:26:56.313588Z",
     "start_time": "2024-10-09T17:26:55.881108Z"
    }
   },
   "source": [
    "import numpy as np\n",
    "import pandas as pd\n",
    "from pandas import DataFrame\n",
    "\n",
    "s_a = pd.Series([1, 2, 3, 4], index=['a', 'b', 'c', 'd'])\n",
    "s_a2 = pd.Series([0.1, 0.2, 0.3, 0.4], index=['a', 'b', 'c', 'd'])\n",
    "s_a3 = pd.Series([0.1, 0.2, 0.3, 0.4], index=['d', 'c', 'b', 'a'])"
   ],
   "outputs": [],
   "execution_count": 1
  },
  {
   "cell_type": "markdown",
   "id": "a8f982f2eeccae3a",
   "metadata": {
    "collapsed": false,
    "jupyter": {
     "outputs_hidden": false
    },
    "id": "a8f982f2eeccae3a"
   },
   "source": [
    "## 1. Series basics\n",
    "\n",
    "a. print the values of s_a\n",
    "\n",
    "b. print the index of s_a\n",
    "\n",
    "c. print the data type of s_a\n",
    "\n",
    "d. print the shape of s_a\n",
    "\n",
    "e. print the number of dimensions of s_a\n",
    "\n",
    "f. print the size of s_a\n",
    "\n",
    "g. print the memory usage of s_a\n",
    "\n",
    "h. create a Series s_b with the same values as s_a but with an index of [1,2,3,4].\n",
    "\n",
    "i. create a Series s_c with the same values as s_b, but with a data type of int8 instead of int64. Check the difference in memory usage between s_b and s_c.\n"
   ]
  },
  {
   "cell_type": "code",
   "id": "7bd051dc74d4cbd9",
   "metadata": {
    "jupyter": {
     "outputs_hidden": false
    },
    "id": "7bd051dc74d4cbd9",
    "ExecuteTime": {
     "end_time": "2024-10-09T17:32:02.049865Z",
     "start_time": "2024-10-09T17:32:02.025278Z"
    }
   },
   "source": [
    "print(s_a.values)\n",
    "print(s_a.index)\n",
    "print(s_a.shape)\n",
    "print(s_a.size)\n",
    "print(s_a.memory_usage())\n",
    "s_b = pd.Series(s_a.values, index=[1, 2, 3, 4])\n",
    "print(\"s_b= \", s_b)\n",
    "s_c = pd.Series(s_b.values, dtype='int8')\n",
    "print(\"s_c = \", s_c)\n",
    "print(\"s_b memory usage = \", s_b.memory_usage(), \" s_c memory usage = \", s_c.memory_usage())"
   ],
   "outputs": [
    {
     "name": "stdout",
     "output_type": "stream",
     "text": [
      "[1 2 3 4]\n",
      "Index(['a', 'b', 'c', 'd'], dtype='object')\n",
      "(4,)\n",
      "4\n",
      "236\n",
      "s_b=  1    1\n",
      "2    2\n",
      "3    3\n",
      "4    4\n",
      "dtype: int64\n",
      "s_c =  0    1\n",
      "1    2\n",
      "2    3\n",
      "3    4\n",
      "dtype: int8\n",
      "s_b memory usage =  64  s_c memory usage =  136\n"
     ]
    }
   ],
   "execution_count": 8
  },
  {
   "cell_type": "markdown",
   "id": "9eea872d89197627",
   "metadata": {
    "collapsed": false,
    "jupyter": {
     "outputs_hidden": false
    },
    "id": "9eea872d89197627"
   },
   "source": [
    "## 2. Creating Series\n",
    "\n",
    "a. create a Series s_b with the same values as s_a but with an index of [1,2,3,4].\n",
    "\n",
    "b. create a Series s_c with the same values as s_b, but with a data type of int8 instead of int64. Check the difference in memory usage between s_b and s_c.\n",
    "\n",
    "c. create a Series s_d with the same values as s_b, but use np.arange() to define the index. The range should start at 1 and end at the number of elements in s_d.\n",
    "\n",
    "d. create a Series s_e with the same values, but use a dictionary to define the Series.\n",
    "\n",
    "e. create a Series s_f with the index the numbers written out as strings (e.g. 'one', 'two', 'three', 'four')."
   ]
  },
  {
   "cell_type": "code",
   "id": "868cef7de0d2f13e",
   "metadata": {
    "jupyter": {
     "outputs_hidden": false
    },
    "id": "868cef7de0d2f13e",
    "ExecuteTime": {
     "end_time": "2024-10-10T12:01:10.914348Z",
     "start_time": "2024-10-10T12:01:10.900976Z"
    }
   },
   "source": [
    "# a\n",
    "s_b = pd.Series(s_a.values, index=[1, 2, 3, 4])\n",
    "print(s_b)\n",
    "# b\n",
    "s_c = pd.Series(s_b.values, index=pd.Index([1, 2, 3, 4],dtype='int8'), dtype='int8') # gotta specify the index type too to make it all 'int8' dtype\n",
    "print(f'Memory usage s_b: {s_b.memory_usage()} - Memory usage s_c: {s_c.memory_usage()}')\n",
    "#c\n",
    "s_d = pd.Series(s_b.values, index=np.arange(len(s_b.values)))\n",
    "print(\"s_b = \")\n",
    "print(s_b)\n",
    "#d\n",
    "s_e = pd.Series({1:1, 2:2, 3:3, 4:4})\n",
    "print(\"s_e = \\n\", s_e)\n",
    "#e\n",
    "s_f = pd.Series(s_e.values, index=['one', 'two', 'three', 'four'])\n",
    "print(\"s_Fe = \\n\", s_f)"
   ],
   "outputs": [
    {
     "name": "stdout",
     "output_type": "stream",
     "text": [
      "1    1\n",
      "2    2\n",
      "3    3\n",
      "4    4\n",
      "dtype: int64\n",
      "Memory usage s_b: 64 - Memory usage s_c: 8\n",
      "s_b = \n",
      "1    1\n",
      "2    2\n",
      "3    3\n",
      "4    4\n",
      "dtype: int64\n",
      "s_e = \n",
      " 1    1\n",
      "2    2\n",
      "3    3\n",
      "4    4\n",
      "dtype: int64\n",
      "s_Fe = \n",
      " one      1\n",
      "two      2\n",
      "three    3\n",
      "four     4\n",
      "dtype: int64\n"
     ]
    }
   ],
   "execution_count": 46
  },
  {
   "cell_type": "markdown",
   "id": "d0d4019ad65acd93",
   "metadata": {
    "collapsed": false,
    "jupyter": {
     "outputs_hidden": false
    },
    "id": "d0d4019ad65acd93"
   },
   "source": [
    "### 3. Dataframes basics and creation\n",
    "\n",
    "a. create a DataFrame df_a with the values of s_a and s_b as columns.\n",
    "\n",
    "b. create a DataFrame df_b with the values of s_a2 and s_a3 as columns. Did you expact this result? Can you explain why the values are not aligned? _Tip: check the index of the Series._\n",
    "\n",
    "c. create a Dataframe df_c based on a two-dimensional numpy array created with np.arange().\n",
    "\n",
    "d. create a Dataframe df_d like df_c. The index should be ['a', 'b', 'c'] and the columns should be ['x', 'y', 'z', 'w'].\n",
    "\n",
    "e.  Try to change te first indexvalue of df_c. What happens? Can you explain why this happens?"
   ]
  },
  {
   "cell_type": "code",
   "id": "7c5010a0ca9ac9db",
   "metadata": {
    "jupyter": {
     "outputs_hidden": false
    },
    "id": "7c5010a0ca9ac9db",
    "ExecuteTime": {
     "end_time": "2024-10-09T18:03:21.076165Z",
     "start_time": "2024-10-09T18:03:20.902366Z"
    }
   },
   "source": [
    "df_a = pd.DataFrame({'s_a':s_a, 's_b':s_a2})\n",
    "print(df_a)\n",
    "print()\n",
    "\n",
    "df_b = pd.DataFrame({'s_a2': s_a2, 's_a3': s_a3})\n",
    "print(df_b)\n",
    "print()\n",
    "\n",
    "df_c = pd.DataFrame(np.arange(4).reshape(2, 2))\n",
    "print(df_c)\n",
    "print()\n",
    "\n",
    "df_d = pd.DataFrame(np.arange(12).reshape(3, 4), index=['a', 'b', 'c'], columns=['x', 'y', 'z', 'w'])\n",
    "print(df_d)\n",
    "print()\n",
    "\n",
    "df_c.index[0] = 'd' # error cause it's trying to change the index but indexer are immutable"
   ],
   "outputs": [
    {
     "name": "stdout",
     "output_type": "stream",
     "text": [
      "   s_a  s_b\n",
      "a    1  0.1\n",
      "b    2  0.2\n",
      "c    3  0.3\n",
      "d    4  0.4\n",
      "\n",
      "   s_a2  s_a3\n",
      "a   0.1   0.4\n",
      "b   0.2   0.3\n",
      "c   0.3   0.2\n",
      "d   0.4   0.1\n",
      "\n",
      "   0  1\n",
      "0  0  1\n",
      "1  2  3\n",
      "\n",
      "   x  y   z   w\n",
      "a  0  1   2   3\n",
      "b  4  5   6   7\n",
      "c  8  9  10  11\n",
      "\n"
     ]
    },
    {
     "ename": "TypeError",
     "evalue": "Index does not support mutable operations",
     "output_type": "error",
     "traceback": [
      "\u001B[0;31m---------------------------------------------------------------------------\u001B[0m",
      "\u001B[0;31mTypeError\u001B[0m                                 Traceback (most recent call last)",
      "Cell \u001B[0;32mIn[39], line 17\u001B[0m\n\u001B[1;32m     14\u001B[0m \u001B[38;5;28mprint\u001B[39m(df_d)\n\u001B[1;32m     15\u001B[0m \u001B[38;5;28mprint\u001B[39m()\n\u001B[0;32m---> 17\u001B[0m \u001B[43mdf_c\u001B[49m\u001B[38;5;241;43m.\u001B[39;49m\u001B[43mindex\u001B[49m\u001B[43m[\u001B[49m\u001B[38;5;241;43m0\u001B[39;49m\u001B[43m]\u001B[49m \u001B[38;5;241m=\u001B[39m \u001B[38;5;124m'\u001B[39m\u001B[38;5;124md\u001B[39m\u001B[38;5;124m'\u001B[39m\n",
      "File \u001B[0;32m~/venv/ds2_dai3/lib/python3.12/site-packages/pandas/core/indexes/base.py:5371\u001B[0m, in \u001B[0;36mIndex.__setitem__\u001B[0;34m(self, key, value)\u001B[0m\n\u001B[1;32m   5369\u001B[0m \u001B[38;5;129m@final\u001B[39m\n\u001B[1;32m   5370\u001B[0m \u001B[38;5;28;01mdef\u001B[39;00m \u001B[38;5;21m__setitem__\u001B[39m(\u001B[38;5;28mself\u001B[39m, key, value) \u001B[38;5;241m-\u001B[39m\u001B[38;5;241m>\u001B[39m \u001B[38;5;28;01mNone\u001B[39;00m:\n\u001B[0;32m-> 5371\u001B[0m     \u001B[38;5;28;01mraise\u001B[39;00m \u001B[38;5;167;01mTypeError\u001B[39;00m(\u001B[38;5;124m\"\u001B[39m\u001B[38;5;124mIndex does not support mutable operations\u001B[39m\u001B[38;5;124m\"\u001B[39m)\n",
      "\u001B[0;31mTypeError\u001B[0m: Index does not support mutable operations"
     ]
    }
   ],
   "execution_count": 39
  }
 ],
 "metadata": {
  "kernelspec": {
   "display_name": "Python 3 (ipykernel)",
   "language": "python",
   "name": "python3"
  },
  "language_info": {
   "codemirror_mode": {
    "name": "ipython",
    "version": 3
   },
   "file_extension": ".py",
   "mimetype": "text/x-python",
   "name": "python",
   "nbconvert_exporter": "python",
   "pygments_lexer": "ipython3",
   "version": "3.12.4"
  },
  "colab": {
   "provenance": []
  }
 },
 "nbformat": 4,
 "nbformat_minor": 5
}
