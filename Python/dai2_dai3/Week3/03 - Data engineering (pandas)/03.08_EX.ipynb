{
 "cells": [
  {
   "cell_type": "markdown",
   "source": [
    "## Exercices : Aggregation and grouping\n",
    "\n",
    "### Aggregation"
   ],
   "metadata": {
    "collapsed": false
   }
  },
  {
   "cell_type": "code",
   "source": [
    "#  Aggregation Functions in Pandas with Realistic Product Data\n",
    "\n",
    "# Import necessary libraries\n",
    "import pandas as pd\n",
    "import numpy as np\n",
    "\n",
    "# Consider Weekly sales of different products\n",
    "data = {\n",
    "    'Earphones':  [150, 200, 190, 250, 300],\n",
    "    'Laptop':     [50,  60,  55,  65,  80 ],\n",
    "    'Cell Phone': [300, 320, 310, 305, 315],\n",
    "    'Power Bank': [400, 420, 410, 430, 450]\n",
    "}\n",
    "\n",
    "# Index represents the week numbers (Week 1 to Week 5)\n",
    "index = ['Week 1', 'Week 2', 'Week 3', 'Week 4', 'Week 5']\n",
    "\n",
    "# Create DataFrame\n",
    "df = pd.DataFrame(data, index=index)\n",
    "df\n"
   ],
   "metadata": {
    "collapsed": false,
    "ExecuteTime": {
     "end_time": "2024-10-13T13:11:17.052513Z",
     "start_time": "2024-10-13T13:11:17.016599Z"
    }
   },
   "outputs": [
    {
     "data": {
      "text/plain": [
       "        Earphones  Laptop  Cell Phone  Power Bank\n",
       "Week 1        150      50         300         400\n",
       "Week 2        200      60         320         420\n",
       "Week 3        190      55         310         410\n",
       "Week 4        250      65         305         430\n",
       "Week 5        300      80         315         450"
      ],
      "text/html": [
       "<div>\n",
       "<style scoped>\n",
       "    .dataframe tbody tr th:only-of-type {\n",
       "        vertical-align: middle;\n",
       "    }\n",
       "\n",
       "    .dataframe tbody tr th {\n",
       "        vertical-align: top;\n",
       "    }\n",
       "\n",
       "    .dataframe thead th {\n",
       "        text-align: right;\n",
       "    }\n",
       "</style>\n",
       "<table border=\"1\" class=\"dataframe\">\n",
       "  <thead>\n",
       "    <tr style=\"text-align: right;\">\n",
       "      <th></th>\n",
       "      <th>Earphones</th>\n",
       "      <th>Laptop</th>\n",
       "      <th>Cell Phone</th>\n",
       "      <th>Power Bank</th>\n",
       "    </tr>\n",
       "  </thead>\n",
       "  <tbody>\n",
       "    <tr>\n",
       "      <th>Week 1</th>\n",
       "      <td>150</td>\n",
       "      <td>50</td>\n",
       "      <td>300</td>\n",
       "      <td>400</td>\n",
       "    </tr>\n",
       "    <tr>\n",
       "      <th>Week 2</th>\n",
       "      <td>200</td>\n",
       "      <td>60</td>\n",
       "      <td>320</td>\n",
       "      <td>420</td>\n",
       "    </tr>\n",
       "    <tr>\n",
       "      <th>Week 3</th>\n",
       "      <td>190</td>\n",
       "      <td>55</td>\n",
       "      <td>310</td>\n",
       "      <td>410</td>\n",
       "    </tr>\n",
       "    <tr>\n",
       "      <th>Week 4</th>\n",
       "      <td>250</td>\n",
       "      <td>65</td>\n",
       "      <td>305</td>\n",
       "      <td>430</td>\n",
       "    </tr>\n",
       "    <tr>\n",
       "      <th>Week 5</th>\n",
       "      <td>300</td>\n",
       "      <td>80</td>\n",
       "      <td>315</td>\n",
       "      <td>450</td>\n",
       "    </tr>\n",
       "  </tbody>\n",
       "</table>\n",
       "</div>"
      ]
     },
     "execution_count": 15,
     "metadata": {},
     "output_type": "execute_result"
    }
   ],
   "execution_count": 15
  },
  {
   "cell_type": "markdown",
   "source": [
    "For the following problems it is possible to answer the questions without writing code, but we want to see the correct code!\n",
    "3) a) Get the total amount of products sold for each week\n",
    "   b) Get the total amount of products sold for each category\n",
    "   c) Get the total amount of sold products\n"
   ],
   "metadata": {
    "collapsed": false
   }
  },
  {
   "cell_type": "code",
   "source": [
    "# a) Get the total amount of products sold for each week\n",
    "df.sum(axis=1)"
   ],
   "metadata": {
    "collapsed": false,
    "ExecuteTime": {
     "end_time": "2024-10-13T13:16:27.041784Z",
     "start_time": "2024-10-13T13:16:27.026285Z"
    }
   },
   "outputs": [
    {
     "data": {
      "text/plain": [
       "Week 1     900\n",
       "Week 2    1000\n",
       "Week 3     965\n",
       "Week 4    1050\n",
       "Week 5    1145\n",
       "dtype: int64"
      ]
     },
     "execution_count": 32,
     "metadata": {},
     "output_type": "execute_result"
    }
   ],
   "execution_count": 32
  },
  {
   "metadata": {
    "ExecuteTime": {
     "end_time": "2024-10-13T13:17:16.316443Z",
     "start_time": "2024-10-13T13:17:16.297017Z"
    }
   },
   "cell_type": "code",
   "source": [
    "#    b) Get the total amount of products sold for each category\n",
    "df.sum()\n"
   ],
   "outputs": [
    {
     "data": {
      "text/plain": [
       "Earphones     1090\n",
       "Laptop         310\n",
       "Cell Phone    1550\n",
       "Power Bank    2110\n",
       "dtype: int64"
      ]
     },
     "execution_count": 33,
     "metadata": {},
     "output_type": "execute_result"
    }
   ],
   "execution_count": 33
  },
  {
   "metadata": {
    "ExecuteTime": {
     "end_time": "2024-10-13T13:18:46.990386Z",
     "start_time": "2024-10-13T13:18:46.981348Z"
    }
   },
   "cell_type": "code",
   "source": [
    "#    c) Get the total amount of sold products\n",
    "weekly_sum = df.sum(axis=1).sum()\n",
    "weekly_sum.sum()"
   ],
   "outputs": [
    {
     "data": {
      "text/plain": [
       "5060"
      ]
     },
     "execution_count": 38,
     "metadata": {},
     "output_type": "execute_result"
    }
   ],
   "execution_count": 38
  },
  {
   "cell_type": "markdown",
   "source": [
    "2) a) Calculate the mean of sold products across weeks\n",
    "   b) Calculate the median for each week\n",
    "   c) Calculate the overall mean of products sold per week"
   ],
   "metadata": {
    "collapsed": false
   }
  },
  {
   "cell_type": "code",
   "source": [
    "# a) Calculate the mean of sold products across weeks\n",
    "df.mean(axis=1)"
   ],
   "metadata": {
    "collapsed": false,
    "ExecuteTime": {
     "end_time": "2024-10-13T13:19:56.862213Z",
     "start_time": "2024-10-13T13:19:56.842698Z"
    }
   },
   "outputs": [
    {
     "data": {
      "text/plain": [
       "Week 1    225.00\n",
       "Week 2    250.00\n",
       "Week 3    241.25\n",
       "Week 4    262.50\n",
       "Week 5    286.25\n",
       "dtype: float64"
      ]
     },
     "execution_count": 40,
     "metadata": {},
     "output_type": "execute_result"
    }
   ],
   "execution_count": 40
  },
  {
   "metadata": {
    "ExecuteTime": {
     "end_time": "2024-10-13T13:20:49.128366Z",
     "start_time": "2024-10-13T13:20:49.110250Z"
    }
   },
   "cell_type": "code",
   "source": [
    "# b) Calculate the median for each week\n",
    "df.median(axis=1)"
   ],
   "outputs": [
    {
     "data": {
      "text/plain": [
       "Week 1    225.0\n",
       "Week 2    260.0\n",
       "Week 3    250.0\n",
       "Week 4    277.5\n",
       "Week 5    307.5\n",
       "dtype: float64"
      ]
     },
     "execution_count": 43,
     "metadata": {},
     "output_type": "execute_result"
    }
   ],
   "execution_count": 43
  },
  {
   "metadata": {
    "ExecuteTime": {
     "end_time": "2024-10-13T13:21:22.238660Z",
     "start_time": "2024-10-13T13:21:22.221805Z"
    }
   },
   "cell_type": "code",
   "source": [
    "#    c) Calculate the overall mean of products sold per week\n",
    "df.mean().mean()"
   ],
   "outputs": [
    {
     "data": {
      "text/plain": [
       "253.0"
      ]
     },
     "execution_count": 45,
     "metadata": {},
     "output_type": "execute_result"
    }
   ],
   "execution_count": 45
  },
  {
   "cell_type": "markdown",
   "source": [
    "3) a) What was the maximum number of items sold in one week for Cell Phone's\n",
    "   b) What is the minimum number of items sold in week 3?\n",
    "   c) What are the minimum sales for each week across products\n",
    "   3) What are the maximum sales for each product across weeks"
   ],
   "metadata": {
    "collapsed": false
   }
  },
  {
   "cell_type": "code",
   "source": [
    "# a) What was the maximum number of items sold in one week for Cell Phone's\n",
    "df.loc[:, 'Cell Phone'].max()"
   ],
   "metadata": {
    "collapsed": false,
    "ExecuteTime": {
     "end_time": "2024-10-13T13:26:12.561337Z",
     "start_time": "2024-10-13T13:26:12.550857Z"
    }
   },
   "outputs": [
    {
     "data": {
      "text/plain": [
       "320"
      ]
     },
     "execution_count": 62,
     "metadata": {},
     "output_type": "execute_result"
    }
   ],
   "execution_count": 62
  },
  {
   "metadata": {
    "ExecuteTime": {
     "end_time": "2024-10-13T13:26:29.738043Z",
     "start_time": "2024-10-13T13:26:29.728888Z"
    }
   },
   "cell_type": "code",
   "source": [
    "# b) What is the minimum number of items sold in week 3?\n",
    "df.loc['Week 3'].min()"
   ],
   "outputs": [
    {
     "data": {
      "text/plain": [
       "55"
      ]
     },
     "execution_count": 63,
     "metadata": {},
     "output_type": "execute_result"
    }
   ],
   "execution_count": 63
  },
  {
   "metadata": {
    "ExecuteTime": {
     "end_time": "2024-10-13T13:29:04.542735Z",
     "start_time": "2024-10-13T13:29:04.526901Z"
    }
   },
   "cell_type": "code",
   "source": [
    "# c) What are the minimum sales for each week across products\n",
    "df.min(axis=1)"
   ],
   "outputs": [
    {
     "data": {
      "text/plain": [
       "Week 1    50\n",
       "Week 2    60\n",
       "Week 3    55\n",
       "Week 4    65\n",
       "Week 5    80\n",
       "dtype: int64"
      ]
     },
     "execution_count": 69,
     "metadata": {},
     "output_type": "execute_result"
    }
   ],
   "execution_count": 69
  },
  {
   "metadata": {
    "ExecuteTime": {
     "end_time": "2024-10-13T13:28:04.142300Z",
     "start_time": "2024-10-13T13:28:04.120835Z"
    }
   },
   "cell_type": "code",
   "source": [
    "# 3) What are the maximum sales for each product across weeks\n",
    "df.max()"
   ],
   "outputs": [
    {
     "data": {
      "text/plain": [
       "Earphones     300\n",
       "Laptop         80\n",
       "Cell Phone    320\n",
       "Power Bank    450\n",
       "dtype: int64"
      ]
     },
     "execution_count": 67,
     "metadata": {},
     "output_type": "execute_result"
    }
   ],
   "execution_count": 67
  },
  {
   "cell_type": "markdown",
   "source": [
    "4) Provide an overview of all the statistics, mean, median, standard deviation, min, max with one command"
   ],
   "metadata": {
    "collapsed": false
   }
  },
  {
   "cell_type": "code",
   "source": "df.describe()",
   "metadata": {
    "collapsed": false,
    "ExecuteTime": {
     "end_time": "2024-10-13T13:29:30.457155Z",
     "start_time": "2024-10-13T13:29:30.425504Z"
    }
   },
   "outputs": [
    {
     "data": {
      "text/plain": [
       "        Earphones     Laptop  Cell Phone  Power Bank\n",
       "count    5.000000   5.000000    5.000000    5.000000\n",
       "mean   218.000000  62.000000  310.000000  422.000000\n",
       "std     58.051701  11.510864    7.905694   19.235384\n",
       "min    150.000000  50.000000  300.000000  400.000000\n",
       "25%    190.000000  55.000000  305.000000  410.000000\n",
       "50%    200.000000  60.000000  310.000000  420.000000\n",
       "75%    250.000000  65.000000  315.000000  430.000000\n",
       "max    300.000000  80.000000  320.000000  450.000000"
      ],
      "text/html": [
       "<div>\n",
       "<style scoped>\n",
       "    .dataframe tbody tr th:only-of-type {\n",
       "        vertical-align: middle;\n",
       "    }\n",
       "\n",
       "    .dataframe tbody tr th {\n",
       "        vertical-align: top;\n",
       "    }\n",
       "\n",
       "    .dataframe thead th {\n",
       "        text-align: right;\n",
       "    }\n",
       "</style>\n",
       "<table border=\"1\" class=\"dataframe\">\n",
       "  <thead>\n",
       "    <tr style=\"text-align: right;\">\n",
       "      <th></th>\n",
       "      <th>Earphones</th>\n",
       "      <th>Laptop</th>\n",
       "      <th>Cell Phone</th>\n",
       "      <th>Power Bank</th>\n",
       "    </tr>\n",
       "  </thead>\n",
       "  <tbody>\n",
       "    <tr>\n",
       "      <th>count</th>\n",
       "      <td>5.000000</td>\n",
       "      <td>5.000000</td>\n",
       "      <td>5.000000</td>\n",
       "      <td>5.000000</td>\n",
       "    </tr>\n",
       "    <tr>\n",
       "      <th>mean</th>\n",
       "      <td>218.000000</td>\n",
       "      <td>62.000000</td>\n",
       "      <td>310.000000</td>\n",
       "      <td>422.000000</td>\n",
       "    </tr>\n",
       "    <tr>\n",
       "      <th>std</th>\n",
       "      <td>58.051701</td>\n",
       "      <td>11.510864</td>\n",
       "      <td>7.905694</td>\n",
       "      <td>19.235384</td>\n",
       "    </tr>\n",
       "    <tr>\n",
       "      <th>min</th>\n",
       "      <td>150.000000</td>\n",
       "      <td>50.000000</td>\n",
       "      <td>300.000000</td>\n",
       "      <td>400.000000</td>\n",
       "    </tr>\n",
       "    <tr>\n",
       "      <th>25%</th>\n",
       "      <td>190.000000</td>\n",
       "      <td>55.000000</td>\n",
       "      <td>305.000000</td>\n",
       "      <td>410.000000</td>\n",
       "    </tr>\n",
       "    <tr>\n",
       "      <th>50%</th>\n",
       "      <td>200.000000</td>\n",
       "      <td>60.000000</td>\n",
       "      <td>310.000000</td>\n",
       "      <td>420.000000</td>\n",
       "    </tr>\n",
       "    <tr>\n",
       "      <th>75%</th>\n",
       "      <td>250.000000</td>\n",
       "      <td>65.000000</td>\n",
       "      <td>315.000000</td>\n",
       "      <td>430.000000</td>\n",
       "    </tr>\n",
       "    <tr>\n",
       "      <th>max</th>\n",
       "      <td>300.000000</td>\n",
       "      <td>80.000000</td>\n",
       "      <td>320.000000</td>\n",
       "      <td>450.000000</td>\n",
       "    </tr>\n",
       "  </tbody>\n",
       "</table>\n",
       "</div>"
      ]
     },
     "execution_count": 70,
     "metadata": {},
     "output_type": "execute_result"
    }
   ],
   "execution_count": 70
  },
  {
   "cell_type": "markdown",
   "source": [
    "5) a) Count the number of items in a row\n",
    "   b) Count the number of items in a column\n"
   ],
   "metadata": {
    "collapsed": false
   }
  },
  {
   "cell_type": "code",
   "source": [
    "# a) Count the number of items in a row\n",
    "df.count(axis=0)"
   ],
   "metadata": {
    "collapsed": false,
    "ExecuteTime": {
     "end_time": "2024-10-13T13:32:53.851796Z",
     "start_time": "2024-10-13T13:32:53.843487Z"
    }
   },
   "outputs": [
    {
     "data": {
      "text/plain": [
       "Earphones     5\n",
       "Laptop        5\n",
       "Cell Phone    5\n",
       "Power Bank    5\n",
       "dtype: int64"
      ]
     },
     "execution_count": 80,
     "metadata": {},
     "output_type": "execute_result"
    }
   ],
   "execution_count": 80
  },
  {
   "metadata": {
    "ExecuteTime": {
     "end_time": "2024-10-13T13:33:02.277767Z",
     "start_time": "2024-10-13T13:33:02.269424Z"
    }
   },
   "cell_type": "code",
   "source": [
    "# b) Count the number of items in a column\n",
    "df.count(axis=1)"
   ],
   "outputs": [
    {
     "data": {
      "text/plain": [
       "Week 1    4\n",
       "Week 2    4\n",
       "Week 3    4\n",
       "Week 4    4\n",
       "Week 5    4\n",
       "dtype: int64"
      ]
     },
     "execution_count": 81,
     "metadata": {},
     "output_type": "execute_result"
    }
   ],
   "execution_count": 81
  },
  {
   "cell_type": "markdown",
   "source": [
    "### Grouping\n",
    "\n",
    "First consider the dataframe df"
   ],
   "metadata": {
    "collapsed": false
   }
  },
  {
   "cell_type": "code",
   "source": [
    "import pandas as pd\n",
    "import numpy as np\n",
    "\n",
    "# Original data with computer-related products\n",
    "data = {\n",
    "    'productName': ['Laptop', 'Monitor', 'Mouse', 'Keyboard', 'External Hard Drive'] * 4,\n",
    "    'week': [1, 1, 1, 1, 1, 2, 2, 2, 2, 2, 3, 3, 3, 3, 3, 4, 4, 4, 4, 4],\n",
    "    'amount_sold': [120, 80, 50, 40, 90, 130, 85, 60, 55, 95, 125, 90, 70, 45, 100, 140, 100, 65, 50, 110],\n",
    "    'price': [999.99, 199.99, 25.99, 49.99, 79.99, 999.99, 199.99, 25.99, 49.99, 79.99, 999.99, 199.99, 25.99, 49.99, 79.99, 999.99, 199.99, 25.99, 49.99, 79.99]\n",
    "}\n",
    "\n",
    "# Additional data\n",
    "additional_data = {\n",
    "    'productName': ['Graphics Card', 'Gaming Chair', 'Headset', 'Webcam', 'Router'] * 4,\n",
    "    'week': [1, 1, 1, 1, 1, 2, 2, 2, 2, 2, 3, 3, 3, 3, 3, 4, 4, 4, 4, 4],\n",
    "    'amount_sold': [30, 15, 60, 25, 45, 50, 20, 75, 35, 40, 60, 25, 80, 30, 50, 65, 35, 85, 40, 55],\n",
    "    'price': [599.99, 150.99, 49.99, 89.99, 129.99, 599.99, 150.99, 49.99, 89.99, 129.99, 599.99, 150.99, 49.99, 89.99, 129.99, 599.99, 150.99, 49.99, 89.99, 129.99]\n",
    "}\n",
    "\n",
    "# Creating DataFrames\n",
    "df_computer = pd.DataFrame(data)\n",
    "df_additional = pd.DataFrame(additional_data)\n",
    "\n",
    "# Concatenating the new data with the existing DataFrame\n",
    "df_combined = pd.concat([df_computer, df_additional], ignore_index=True)\n",
    "\n",
    "# Shuffling the rows of the combined DataFrame\n",
    "df = df_combined.sample(frac=1).reset_index(drop=True)\n",
    "\n",
    "# Displaying the shuffled DataFrame\n",
    "df.count(axis=0)\n",
    "# df\n"
   ],
   "metadata": {
    "collapsed": false,
    "ExecuteTime": {
     "end_time": "2024-10-13T18:30:53.553413Z",
     "start_time": "2024-10-13T18:30:53.516772Z"
    }
   },
   "outputs": [
    {
     "data": {
      "text/plain": [
       "productName    40\n",
       "week           40\n",
       "amount_sold    40\n",
       "price          40\n",
       "dtype: int64"
      ]
     },
     "execution_count": 298,
     "metadata": {},
     "output_type": "execute_result"
    }
   ],
   "execution_count": 298
  },
  {
   "cell_type": "markdown",
   "source": [
    "6) a) Calculate the total number of units sold for each product across all weeks.\n",
    "   b) Calculate the average price for each product.\n",
    "   c) Calculate the total revenue for each week."
   ],
   "metadata": {
    "collapsed": false
   }
  },
  {
   "cell_type": "code",
   "source": [
    "# a) Calculate the total number of units sold for each product across all weeks.\n",
    "# print(df)\n",
    "df.groupby('week')['amount_sold'].sum()"
   ],
   "metadata": {
    "collapsed": false,
    "ExecuteTime": {
     "end_time": "2024-10-13T13:54:23.360786Z",
     "start_time": "2024-10-13T13:54:23.343659Z"
    }
   },
   "outputs": [
    {
     "data": {
      "text/plain": [
       "week\n",
       "1    555\n",
       "2    645\n",
       "3    675\n",
       "4    745\n",
       "Name: amount_sold, dtype: int64"
      ]
     },
     "execution_count": 89,
     "metadata": {},
     "output_type": "execute_result"
    }
   ],
   "execution_count": 89
  },
  {
   "metadata": {
    "ExecuteTime": {
     "end_time": "2024-10-13T14:03:34.094471Z",
     "start_time": "2024-10-13T14:03:34.080953Z"
    }
   },
   "cell_type": "code",
   "source": [
    "# b) Calculate the average price for each product.\n",
    "df.groupby('productName')['price'].mean()"
   ],
   "outputs": [
    {
     "data": {
      "text/plain": [
       "productName\n",
       "External Hard Drive     79.99\n",
       "Gaming Chair           150.99\n",
       "Graphics Card          599.99\n",
       "Headset                 49.99\n",
       "Keyboard                49.99\n",
       "Laptop                 999.99\n",
       "Monitor                199.99\n",
       "Mouse                   25.99\n",
       "Router                 129.99\n",
       "Webcam                  89.99\n",
       "Name: price, dtype: float64"
      ]
     },
     "execution_count": 93,
     "metadata": {},
     "output_type": "execute_result"
    }
   ],
   "execution_count": 93
  },
  {
   "metadata": {
    "ExecuteTime": {
     "end_time": "2024-10-13T14:24:17.611066Z",
     "start_time": "2024-10-13T14:24:17.599010Z"
    }
   },
   "cell_type": "code",
   "source": [
    "# c) Calculate the total revenue for each week.\n",
    "df.groupby('week')['revenu'].sum()"
   ],
   "outputs": [
    {
     "data": {
      "text/plain": [
       "week\n",
       "1    177859.45\n",
       "2    204023.55\n",
       "3    208038.25\n",
       "4    232267.55\n",
       "Name: revenu, dtype: float64"
      ]
     },
     "execution_count": 113,
     "metadata": {},
     "output_type": "execute_result"
    }
   ],
   "execution_count": 113
  },
  {
   "cell_type": "markdown",
   "source": "7) Find the product that sold the most units in each week.\n",
   "metadata": {
    "collapsed": false
   }
  },
  {
   "cell_type": "code",
   "source": [
    "df_max_sold_per_week = df.loc[df.groupby('week')['amount_sold'].idxmax()]\n",
    "df_max_sold_per_week[['week', 'amount_sold', 'productName']]"
   ],
   "metadata": {
    "collapsed": false,
    "ExecuteTime": {
     "end_time": "2024-10-13T15:20:08.236195Z",
     "start_time": "2024-10-13T15:20:08.176226Z"
    }
   },
   "outputs": [
    {
     "data": {
      "text/plain": [
       "    week  amount_sold productName\n",
       "17     1          120      Laptop\n",
       "39     2          130      Laptop\n",
       "35     3          125      Laptop\n",
       "11     4          140      Laptop"
      ],
      "text/html": [
       "<div>\n",
       "<style scoped>\n",
       "    .dataframe tbody tr th:only-of-type {\n",
       "        vertical-align: middle;\n",
       "    }\n",
       "\n",
       "    .dataframe tbody tr th {\n",
       "        vertical-align: top;\n",
       "    }\n",
       "\n",
       "    .dataframe thead th {\n",
       "        text-align: right;\n",
       "    }\n",
       "</style>\n",
       "<table border=\"1\" class=\"dataframe\">\n",
       "  <thead>\n",
       "    <tr style=\"text-align: right;\">\n",
       "      <th></th>\n",
       "      <th>week</th>\n",
       "      <th>amount_sold</th>\n",
       "      <th>productName</th>\n",
       "    </tr>\n",
       "  </thead>\n",
       "  <tbody>\n",
       "    <tr>\n",
       "      <th>17</th>\n",
       "      <td>1</td>\n",
       "      <td>120</td>\n",
       "      <td>Laptop</td>\n",
       "    </tr>\n",
       "    <tr>\n",
       "      <th>39</th>\n",
       "      <td>2</td>\n",
       "      <td>130</td>\n",
       "      <td>Laptop</td>\n",
       "    </tr>\n",
       "    <tr>\n",
       "      <th>35</th>\n",
       "      <td>3</td>\n",
       "      <td>125</td>\n",
       "      <td>Laptop</td>\n",
       "    </tr>\n",
       "    <tr>\n",
       "      <th>11</th>\n",
       "      <td>4</td>\n",
       "      <td>140</td>\n",
       "      <td>Laptop</td>\n",
       "    </tr>\n",
       "  </tbody>\n",
       "</table>\n",
       "</div>"
      ]
     },
     "execution_count": 214,
     "metadata": {},
     "output_type": "execute_result"
    }
   ],
   "execution_count": 214
  },
  {
   "cell_type": "markdown",
   "source": [
    "8) Calculate the average number of units sold per product."
   ],
   "metadata": {
    "collapsed": false
   }
  },
  {
   "cell_type": "code",
   "source": "print(df.groupby('productName')['amount_sold'].mean())",
   "metadata": {
    "collapsed": false,
    "ExecuteTime": {
     "end_time": "2024-10-13T15:46:02.786426Z",
     "start_time": "2024-10-13T15:46:02.769503Z"
    }
   },
   "outputs": [
    {
     "name": "stdout",
     "output_type": "stream",
     "text": [
      "productName\n",
      "External Hard Drive     98.75\n",
      "Gaming Chair            23.75\n",
      "Graphics Card           51.25\n",
      "Headset                 75.00\n",
      "Keyboard                47.50\n",
      "Laptop                 128.75\n",
      "Monitor                 88.75\n",
      "Mouse                   61.25\n",
      "Router                  47.50\n",
      "Webcam                  32.50\n",
      "Name: amount_sold, dtype: float64\n"
     ]
    }
   ],
   "execution_count": 217
  },
  {
   "metadata": {},
   "cell_type": "markdown",
   "source": [
    "9) For each product provide a list of the minimum amount sold, the average and the maximum amount sold\n",
    "\n"
   ]
  },
  {
   "cell_type": "code",
   "source": "df.groupby('productName')['amount_sold'].aggregate(['min', 'mean', 'max'])",
   "metadata": {
    "collapsed": false,
    "ExecuteTime": {
     "end_time": "2024-10-13T16:08:03.818800Z",
     "start_time": "2024-10-13T16:08:03.791624Z"
    }
   },
   "outputs": [
    {
     "data": {
      "text/plain": [
       "                     min    mean  max\n",
       "productName                          \n",
       "External Hard Drive   90   98.75  110\n",
       "Gaming Chair          15   23.75   35\n",
       "Graphics Card         30   51.25   65\n",
       "Headset               60   75.00   85\n",
       "Keyboard              40   47.50   55\n",
       "Laptop               120  128.75  140\n",
       "Monitor               80   88.75  100\n",
       "Mouse                 50   61.25   70\n",
       "Router                40   47.50   55\n",
       "Webcam                25   32.50   40"
      ],
      "text/html": [
       "<div>\n",
       "<style scoped>\n",
       "    .dataframe tbody tr th:only-of-type {\n",
       "        vertical-align: middle;\n",
       "    }\n",
       "\n",
       "    .dataframe tbody tr th {\n",
       "        vertical-align: top;\n",
       "    }\n",
       "\n",
       "    .dataframe thead th {\n",
       "        text-align: right;\n",
       "    }\n",
       "</style>\n",
       "<table border=\"1\" class=\"dataframe\">\n",
       "  <thead>\n",
       "    <tr style=\"text-align: right;\">\n",
       "      <th></th>\n",
       "      <th>min</th>\n",
       "      <th>mean</th>\n",
       "      <th>max</th>\n",
       "    </tr>\n",
       "    <tr>\n",
       "      <th>productName</th>\n",
       "      <th></th>\n",
       "      <th></th>\n",
       "      <th></th>\n",
       "    </tr>\n",
       "  </thead>\n",
       "  <tbody>\n",
       "    <tr>\n",
       "      <th>External Hard Drive</th>\n",
       "      <td>90</td>\n",
       "      <td>98.75</td>\n",
       "      <td>110</td>\n",
       "    </tr>\n",
       "    <tr>\n",
       "      <th>Gaming Chair</th>\n",
       "      <td>15</td>\n",
       "      <td>23.75</td>\n",
       "      <td>35</td>\n",
       "    </tr>\n",
       "    <tr>\n",
       "      <th>Graphics Card</th>\n",
       "      <td>30</td>\n",
       "      <td>51.25</td>\n",
       "      <td>65</td>\n",
       "    </tr>\n",
       "    <tr>\n",
       "      <th>Headset</th>\n",
       "      <td>60</td>\n",
       "      <td>75.00</td>\n",
       "      <td>85</td>\n",
       "    </tr>\n",
       "    <tr>\n",
       "      <th>Keyboard</th>\n",
       "      <td>40</td>\n",
       "      <td>47.50</td>\n",
       "      <td>55</td>\n",
       "    </tr>\n",
       "    <tr>\n",
       "      <th>Laptop</th>\n",
       "      <td>120</td>\n",
       "      <td>128.75</td>\n",
       "      <td>140</td>\n",
       "    </tr>\n",
       "    <tr>\n",
       "      <th>Monitor</th>\n",
       "      <td>80</td>\n",
       "      <td>88.75</td>\n",
       "      <td>100</td>\n",
       "    </tr>\n",
       "    <tr>\n",
       "      <th>Mouse</th>\n",
       "      <td>50</td>\n",
       "      <td>61.25</td>\n",
       "      <td>70</td>\n",
       "    </tr>\n",
       "    <tr>\n",
       "      <th>Router</th>\n",
       "      <td>40</td>\n",
       "      <td>47.50</td>\n",
       "      <td>55</td>\n",
       "    </tr>\n",
       "    <tr>\n",
       "      <th>Webcam</th>\n",
       "      <td>25</td>\n",
       "      <td>32.50</td>\n",
       "      <td>40</td>\n",
       "    </tr>\n",
       "  </tbody>\n",
       "</table>\n",
       "</div>"
      ]
     },
     "execution_count": 218,
     "metadata": {},
     "output_type": "execute_result"
    }
   ],
   "execution_count": 218
  },
  {
   "cell_type": "markdown",
   "source": [
    "10) Provide a table with the productnames and the minimum price for that product the total amount sold and the total revenue for that product"
   ],
   "metadata": {
    "collapsed": false
   }
  },
  {
   "cell_type": "code",
   "source": [
    "# pd.merge(pd.merge(df.groupby('productName')['price'].min(), df.groupby('productName')['amount_sold'].sum(), left_on='productName', right_on='productName'), df.groupby('productName')['revenu'].sum(), left_on='productName', right_on='productName')\n",
    "df.groupby('productName').aggregate({'price':'min', \n",
    "                                     'amount_sold':'sum',\n",
    "                                     'revenu':'sum'})\n",
    "# df"
   ],
   "metadata": {
    "collapsed": false,
    "ExecuteTime": {
     "end_time": "2024-10-13T16:15:47.473200Z",
     "start_time": "2024-10-13T16:15:47.450419Z"
    }
   },
   "outputs": [
    {
     "data": {
      "text/plain": [
       "                      price  amount_sold     revenu\n",
       "productName                                        \n",
       "External Hard Drive   79.99          395   31596.05\n",
       "Gaming Chair         150.99           95   14344.05\n",
       "Graphics Card        599.99          205  122997.95\n",
       "Headset               49.99          300   14997.00\n",
       "Keyboard              49.99          190    9498.10\n",
       "Laptop               999.99          515  514994.85\n",
       "Monitor              199.99          355   70996.45\n",
       "Mouse                 25.99          245    6367.55\n",
       "Router               129.99          190   24698.10\n",
       "Webcam                89.99          130   11698.70"
      ],
      "text/html": [
       "<div>\n",
       "<style scoped>\n",
       "    .dataframe tbody tr th:only-of-type {\n",
       "        vertical-align: middle;\n",
       "    }\n",
       "\n",
       "    .dataframe tbody tr th {\n",
       "        vertical-align: top;\n",
       "    }\n",
       "\n",
       "    .dataframe thead th {\n",
       "        text-align: right;\n",
       "    }\n",
       "</style>\n",
       "<table border=\"1\" class=\"dataframe\">\n",
       "  <thead>\n",
       "    <tr style=\"text-align: right;\">\n",
       "      <th></th>\n",
       "      <th>price</th>\n",
       "      <th>amount_sold</th>\n",
       "      <th>revenu</th>\n",
       "    </tr>\n",
       "    <tr>\n",
       "      <th>productName</th>\n",
       "      <th></th>\n",
       "      <th></th>\n",
       "      <th></th>\n",
       "    </tr>\n",
       "  </thead>\n",
       "  <tbody>\n",
       "    <tr>\n",
       "      <th>External Hard Drive</th>\n",
       "      <td>79.99</td>\n",
       "      <td>395</td>\n",
       "      <td>31596.05</td>\n",
       "    </tr>\n",
       "    <tr>\n",
       "      <th>Gaming Chair</th>\n",
       "      <td>150.99</td>\n",
       "      <td>95</td>\n",
       "      <td>14344.05</td>\n",
       "    </tr>\n",
       "    <tr>\n",
       "      <th>Graphics Card</th>\n",
       "      <td>599.99</td>\n",
       "      <td>205</td>\n",
       "      <td>122997.95</td>\n",
       "    </tr>\n",
       "    <tr>\n",
       "      <th>Headset</th>\n",
       "      <td>49.99</td>\n",
       "      <td>300</td>\n",
       "      <td>14997.00</td>\n",
       "    </tr>\n",
       "    <tr>\n",
       "      <th>Keyboard</th>\n",
       "      <td>49.99</td>\n",
       "      <td>190</td>\n",
       "      <td>9498.10</td>\n",
       "    </tr>\n",
       "    <tr>\n",
       "      <th>Laptop</th>\n",
       "      <td>999.99</td>\n",
       "      <td>515</td>\n",
       "      <td>514994.85</td>\n",
       "    </tr>\n",
       "    <tr>\n",
       "      <th>Monitor</th>\n",
       "      <td>199.99</td>\n",
       "      <td>355</td>\n",
       "      <td>70996.45</td>\n",
       "    </tr>\n",
       "    <tr>\n",
       "      <th>Mouse</th>\n",
       "      <td>25.99</td>\n",
       "      <td>245</td>\n",
       "      <td>6367.55</td>\n",
       "    </tr>\n",
       "    <tr>\n",
       "      <th>Router</th>\n",
       "      <td>129.99</td>\n",
       "      <td>190</td>\n",
       "      <td>24698.10</td>\n",
       "    </tr>\n",
       "    <tr>\n",
       "      <th>Webcam</th>\n",
       "      <td>89.99</td>\n",
       "      <td>130</td>\n",
       "      <td>11698.70</td>\n",
       "    </tr>\n",
       "  </tbody>\n",
       "</table>\n",
       "</div>"
      ]
     },
     "execution_count": 227,
     "metadata": {},
     "output_type": "execute_result"
    }
   ],
   "execution_count": 227
  },
  {
   "cell_type": "markdown",
   "source": [
    "11) Only show the productnames which have  sold less than 150 in total over all the dataset and show also the amount_sold in total"
   ],
   "metadata": {
    "collapsed": false
   }
  },
  {
   "cell_type": "code",
   "source": [
    "def filter_by_sold(x):\n",
    "    return x['amount_sold'].sum() < 150\n",
    "\n",
    "less_150 = df.groupby('productName').filter(filter_by_sold)\n",
    "less_150.groupby('productName')['amount_sold'].sum()\n",
    "\n",
    "\n",
    "# less_150 = df.groupby('productName')['amount_sold'].sum() < 150\n",
    "# # less_150[:, 'amount_sold']\n",
    "# df_less = pd.DataFrame(less_150)\n",
    "# df_less['productName'] = df_less.index\n",
    "# df_less.index = range(10)\n",
    "# df_less_shortened = df_less.loc[df_less['amount_sold'] == True, 'productName']\n",
    "# final_df = pd.DataFrame({'productName':df_less_shortened})\n",
    "# df.groupby('productName')\n",
    "# print(final_df)\n",
    "\n",
    "# df[df.groupby('productName')['amount_sold'].sum() < 150]\n",
    "# df[df['amount_sold'] > 150]"
   ],
   "metadata": {
    "collapsed": false,
    "ExecuteTime": {
     "end_time": "2024-10-13T16:48:44.091214Z",
     "start_time": "2024-10-13T16:48:44.051933Z"
    }
   },
   "outputs": [
    {
     "data": {
      "text/plain": [
       "productName\n",
       "Gaming Chair     95\n",
       "Webcam          130\n",
       "Name: amount_sold, dtype: int64"
      ]
     },
     "execution_count": 271,
     "metadata": {},
     "output_type": "execute_result"
    }
   ],
   "execution_count": 271
  },
  {
   "cell_type": "markdown",
   "source": [
    "12) For each product calculate the total revenue, based on the price of the product and the total_amount sold.\n"
   ],
   "metadata": {
    "collapsed": false
   }
  },
  {
   "cell_type": "code",
   "source": [
    "def total_revenue(x):\n",
    "    x['total_revenue'] = sum(x['price']*x['amount_sold'])\n",
    "    return x\n",
    "    \n",
    "total_revenue_product = df.groupby('productName').apply(total_revenue, include_groups=False)\n",
    "print(total_revenue_product[['total_revenue']])"
   ],
   "metadata": {
    "collapsed": false,
    "ExecuteTime": {
     "end_time": "2024-10-13T18:37:23.656402Z",
     "start_time": "2024-10-13T18:37:23.623779Z"
    }
   },
   "outputs": [
    {
     "name": "stdout",
     "output_type": "stream",
     "text": [
      "                        total_revenue\n",
      "productName                          \n",
      "External Hard Drive 29       31596.05\n",
      "                    30       31596.05\n",
      "                    35       31596.05\n",
      "                    36       31596.05\n",
      "Gaming Chair        27       14344.05\n",
      "                    34       14344.05\n",
      "                    38       14344.05\n",
      "                    39       14344.05\n",
      "Graphics Card       5       122997.95\n",
      "                    7       122997.95\n",
      "                    10      122997.95\n",
      "                    24      122997.95\n",
      "Headset             11       14997.00\n",
      "                    19       14997.00\n",
      "                    21       14997.00\n",
      "                    33       14997.00\n",
      "Keyboard            6         9498.10\n",
      "                    8         9498.10\n",
      "                    14        9498.10\n",
      "                    25        9498.10\n",
      "Laptop              9       514994.85\n",
      "                    13      514994.85\n",
      "                    16      514994.85\n",
      "                    31      514994.85\n",
      "Monitor             12       70996.45\n",
      "                    20       70996.45\n",
      "                    23       70996.45\n",
      "                    26       70996.45\n",
      "Mouse               0         6367.55\n",
      "                    17        6367.55\n",
      "                    18        6367.55\n",
      "                    22        6367.55\n",
      "Router              1        24698.10\n",
      "                    4        24698.10\n",
      "                    15       24698.10\n",
      "                    32       24698.10\n",
      "Webcam              2        11698.70\n",
      "                    3        11698.70\n",
      "                    28       11698.70\n",
      "                    37       11698.70\n"
     ]
    }
   ],
   "execution_count": 317
  }
 ],
 "metadata": {
  "kernelspec": {
   "display_name": "Python 3",
   "language": "python",
   "name": "python3"
  },
  "language_info": {
   "codemirror_mode": {
    "name": "ipython",
    "version": 2
   },
   "file_extension": ".py",
   "mimetype": "text/x-python",
   "name": "python",
   "nbconvert_exporter": "python",
   "pygments_lexer": "ipython2",
   "version": "2.7.6"
  }
 },
 "nbformat": 4,
 "nbformat_minor": 0
}
