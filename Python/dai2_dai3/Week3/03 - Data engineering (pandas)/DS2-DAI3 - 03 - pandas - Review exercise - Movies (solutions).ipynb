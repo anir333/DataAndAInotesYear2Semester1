{
 "cells": [
  {
   "cell_type": "markdown",
   "id": "238a8aab-53ff-4425-9fcb-62465f88d961",
   "metadata": {},
   "source": [
    "## Review Pandas 🐼"
   ]
  },
  {
   "cell_type": "code",
   "execution_count": 91,
   "id": "097ced87-8fba-4f86-97e5-399f595a3f3d",
   "metadata": {},
   "outputs": [],
   "source": [
    "import pandas as pd"
   ]
  },
  {
   "cell_type": "code",
   "execution_count": 92,
   "id": "3b772923-b1df-4682-92b1-266ee13e066f",
   "metadata": {},
   "outputs": [
    {
     "data": {
      "application/vnd.jupyter.widget-view+json": {
       "model_id": "5c078012900e401e929c978f345409eb",
       "version_major": 2,
       "version_minor": 0
      },
      "text/plain": [
       "interactive(children=(Dropdown(description='answer', options=('True', 'False'), value='True'), Output()), _dom…"
      ]
     },
     "metadata": {},
     "output_type": "display_data"
    }
   ],
   "source": [
    "from ipywidgets import interact\n",
    "# Define the question and check function\n",
    "def quiz(answer):\n",
    "    # Print the question\n",
    "    print(\"A pandas Series is a multi-dimensional array holding data of a single type. (True/False):\")\n",
    "    # Check the answer\n",
    "    if answer == \"False\":\n",
    "        return \"Correct! A Pandas Series is like a column in a table. It is a one-dimensional array holding data of any type.\"\n",
    "    else:\n",
    "        return \"Incorrect.\"\n",
    "# Use interact to create a dropdown for True/False\n",
    "interact(quiz, answer=[\"True\", \"False\"]);"
   ]
  },
  {
   "cell_type": "code",
   "execution_count": 93,
   "id": "90b6f918-9912-4623-8595-41348780c6e7",
   "metadata": {},
   "outputs": [
    {
     "name": "stdout",
     "output_type": "stream",
     "text": [
      "         date weather  temperature  humidity\n",
      "0  2018-03-04  cloudy           12        80\n",
      "1  2018-03-05   sunny           15        40\n",
      "2  2018-03-06    rain            8        90\n",
      "3  2018-04-01    snow           -2        60\n",
      "4  2018-04-02   sunny           10        50\n"
     ]
    }
   ],
   "source": [
    "'''\n",
    "Given a Pandas DataFrame, how would you get the weekday names\n",
    "'''\n",
    "data = {\n",
    "    'date': ['2018-03-04', '2018-03-05', '2018-03-06', '2018-04-01', '2018-04-02'],\n",
    "    'weather': ['cloudy', 'sunny', 'rain', 'snow', 'sunny'],\n",
    "    'temperature': [12, 15, 8, -2, 10],\n",
    "    'humidity': [80, 40, 90, 60, 50]\n",
    "}\n",
    "# Convert dictionary to DataFrame\n",
    "df = pd.DataFrame(data)\n",
    "print(df)"
   ]
  },
  {
   "cell_type": "code",
   "execution_count": 94,
   "id": "18346e0f-fdf9-4010-bf55-e008c913b128",
   "metadata": {},
   "outputs": [
    {
     "data": {
      "text/plain": [
       "(5, 4)"
      ]
     },
     "execution_count": 94,
     "metadata": {},
     "output_type": "execute_result"
    }
   ],
   "source": [
    "#The dataframe has the following shape (a tuple (rows,columns))\n",
    "df.shape"
   ]
  },
  {
   "cell_type": "code",
   "execution_count": 5,
   "id": "3479a9d8-81dc-44a3-869e-9fef2e68146a",
   "metadata": {},
   "outputs": [
    {
     "data": {
      "text/html": [
       "<div>\n",
       "<style scoped>\n",
       "    .dataframe tbody tr th:only-of-type {\n",
       "        vertical-align: middle;\n",
       "    }\n",
       "\n",
       "    .dataframe tbody tr th {\n",
       "        vertical-align: top;\n",
       "    }\n",
       "\n",
       "    .dataframe thead th {\n",
       "        text-align: right;\n",
       "    }\n",
       "</style>\n",
       "<table border=\"1\" class=\"dataframe\">\n",
       "  <thead>\n",
       "    <tr style=\"text-align: right;\">\n",
       "      <th></th>\n",
       "      <th>temperature</th>\n",
       "      <th>humidity</th>\n",
       "    </tr>\n",
       "  </thead>\n",
       "  <tbody>\n",
       "    <tr>\n",
       "      <th>count</th>\n",
       "      <td>5.000000</td>\n",
       "      <td>5.000000</td>\n",
       "    </tr>\n",
       "    <tr>\n",
       "      <th>mean</th>\n",
       "      <td>8.600000</td>\n",
       "      <td>64.000000</td>\n",
       "    </tr>\n",
       "    <tr>\n",
       "      <th>std</th>\n",
       "      <td>6.465292</td>\n",
       "      <td>20.736441</td>\n",
       "    </tr>\n",
       "    <tr>\n",
       "      <th>min</th>\n",
       "      <td>-2.000000</td>\n",
       "      <td>40.000000</td>\n",
       "    </tr>\n",
       "    <tr>\n",
       "      <th>25%</th>\n",
       "      <td>8.000000</td>\n",
       "      <td>50.000000</td>\n",
       "    </tr>\n",
       "    <tr>\n",
       "      <th>50%</th>\n",
       "      <td>10.000000</td>\n",
       "      <td>60.000000</td>\n",
       "    </tr>\n",
       "    <tr>\n",
       "      <th>75%</th>\n",
       "      <td>12.000000</td>\n",
       "      <td>80.000000</td>\n",
       "    </tr>\n",
       "    <tr>\n",
       "      <th>max</th>\n",
       "      <td>15.000000</td>\n",
       "      <td>90.000000</td>\n",
       "    </tr>\n",
       "  </tbody>\n",
       "</table>\n",
       "</div>"
      ],
      "text/plain": [
       "       temperature   humidity\n",
       "count     5.000000   5.000000\n",
       "mean      8.600000  64.000000\n",
       "std       6.465292  20.736441\n",
       "min      -2.000000  40.000000\n",
       "25%       8.000000  50.000000\n",
       "50%      10.000000  60.000000\n",
       "75%      12.000000  80.000000\n",
       "max      15.000000  90.000000"
      ]
     },
     "execution_count": 5,
     "metadata": {},
     "output_type": "execute_result"
    }
   ],
   "source": [
    "df.describe()"
   ]
  },
  {
   "cell_type": "code",
   "execution_count": 6,
   "id": "97be6dc1-dd57-439b-bd96-d8aaea34584d",
   "metadata": {},
   "outputs": [
    {
     "data": {
      "text/html": [
       "<div>\n",
       "<style scoped>\n",
       "    .dataframe tbody tr th:only-of-type {\n",
       "        vertical-align: middle;\n",
       "    }\n",
       "\n",
       "    .dataframe tbody tr th {\n",
       "        vertical-align: top;\n",
       "    }\n",
       "\n",
       "    .dataframe thead th {\n",
       "        text-align: right;\n",
       "    }\n",
       "</style>\n",
       "<table border=\"1\" class=\"dataframe\">\n",
       "  <thead>\n",
       "    <tr style=\"text-align: right;\">\n",
       "      <th></th>\n",
       "      <th>weather</th>\n",
       "      <th>humidity</th>\n",
       "    </tr>\n",
       "  </thead>\n",
       "  <tbody>\n",
       "    <tr>\n",
       "      <th>0</th>\n",
       "      <td>cloudy</td>\n",
       "      <td>80</td>\n",
       "    </tr>\n",
       "    <tr>\n",
       "      <th>1</th>\n",
       "      <td>sunny</td>\n",
       "      <td>40</td>\n",
       "    </tr>\n",
       "  </tbody>\n",
       "</table>\n",
       "</div>"
      ],
      "text/plain": [
       "  weather  humidity\n",
       "0  cloudy        80\n",
       "1   sunny        40"
      ]
     },
     "execution_count": 6,
     "metadata": {},
     "output_type": "execute_result"
    }
   ],
   "source": [
    "#How would you return the weather and humidity columns \n",
    "#for rows where the temperature is greater than 10?\n",
    "df.loc[df['temperature'] > 10, ['weather', 'humidity']]"
   ]
  },
  {
   "cell_type": "code",
   "execution_count": 7,
   "id": "971db856-c95d-4ac5-baa0-b7c75ec45dad",
   "metadata": {},
   "outputs": [
    {
     "data": {
      "text/html": [
       "<div>\n",
       "<style scoped>\n",
       "    .dataframe tbody tr th:only-of-type {\n",
       "        vertical-align: middle;\n",
       "    }\n",
       "\n",
       "    .dataframe tbody tr th {\n",
       "        vertical-align: top;\n",
       "    }\n",
       "\n",
       "    .dataframe thead th {\n",
       "        text-align: right;\n",
       "    }\n",
       "</style>\n",
       "<table border=\"1\" class=\"dataframe\">\n",
       "  <thead>\n",
       "    <tr style=\"text-align: right;\">\n",
       "      <th></th>\n",
       "      <th>date</th>\n",
       "      <th>temperature</th>\n",
       "    </tr>\n",
       "  </thead>\n",
       "  <tbody>\n",
       "    <tr>\n",
       "      <th>3</th>\n",
       "      <td>2018-04-01</td>\n",
       "      <td>-2</td>\n",
       "    </tr>\n",
       "    <tr>\n",
       "      <th>4</th>\n",
       "      <td>2018-04-02</td>\n",
       "      <td>10</td>\n",
       "    </tr>\n",
       "  </tbody>\n",
       "</table>\n",
       "</div>"
      ],
      "text/plain": [
       "         date  temperature\n",
       "3  2018-04-01           -2\n",
       "4  2018-04-02           10"
      ]
     },
     "execution_count": 7,
     "metadata": {},
     "output_type": "execute_result"
    }
   ],
   "source": [
    "#How would you select the last two rows and the date and temperature columns using negative indexing?\n",
    "df.iloc[-2:, [0, 2]]"
   ]
  },
  {
   "cell_type": "code",
   "execution_count": 8,
   "id": "1d9b575b-43ec-4c6c-92ce-4f9c18a9bc47",
   "metadata": {},
   "outputs": [
    {
     "data": {
      "text/html": [
       "<div>\n",
       "<style scoped>\n",
       "    .dataframe tbody tr th:only-of-type {\n",
       "        vertical-align: middle;\n",
       "    }\n",
       "\n",
       "    .dataframe tbody tr th {\n",
       "        vertical-align: top;\n",
       "    }\n",
       "\n",
       "    .dataframe thead th {\n",
       "        text-align: right;\n",
       "    }\n",
       "</style>\n",
       "<table border=\"1\" class=\"dataframe\">\n",
       "  <thead>\n",
       "    <tr style=\"text-align: right;\">\n",
       "      <th></th>\n",
       "      <th>date</th>\n",
       "      <th>weather</th>\n",
       "      <th>temperature</th>\n",
       "      <th>humidity</th>\n",
       "    </tr>\n",
       "  </thead>\n",
       "  <tbody>\n",
       "    <tr>\n",
       "      <th>0</th>\n",
       "      <td>2018-03-04</td>\n",
       "      <td>cloudy</td>\n",
       "      <td>12</td>\n",
       "      <td>80</td>\n",
       "    </tr>\n",
       "    <tr>\n",
       "      <th>1</th>\n",
       "      <td>2018-03-05</td>\n",
       "      <td>sunny</td>\n",
       "      <td>15</td>\n",
       "      <td>40</td>\n",
       "    </tr>\n",
       "    <tr>\n",
       "      <th>2</th>\n",
       "      <td>2018-03-06</td>\n",
       "      <td>rain</td>\n",
       "      <td>8</td>\n",
       "      <td>100</td>\n",
       "    </tr>\n",
       "    <tr>\n",
       "      <th>3</th>\n",
       "      <td>2018-04-01</td>\n",
       "      <td>snow</td>\n",
       "      <td>-2</td>\n",
       "      <td>60</td>\n",
       "    </tr>\n",
       "    <tr>\n",
       "      <th>4</th>\n",
       "      <td>2018-04-02</td>\n",
       "      <td>sunny</td>\n",
       "      <td>10</td>\n",
       "      <td>50</td>\n",
       "    </tr>\n",
       "  </tbody>\n",
       "</table>\n",
       "</div>"
      ],
      "text/plain": [
       "         date weather  temperature  humidity\n",
       "0  2018-03-04  cloudy           12        80\n",
       "1  2018-03-05   sunny           15        40\n",
       "2  2018-03-06    rain            8       100\n",
       "3  2018-04-01    snow           -2        60\n",
       "4  2018-04-02   sunny           10        50"
      ]
     },
     "execution_count": 8,
     "metadata": {},
     "output_type": "execute_result"
    }
   ],
   "source": [
    "#How would you set the humidity value to 100 for all rows where the weather is \"rain\"?\n",
    "df.loc[df['weather'] == 'rain', 'humidity'] = 100\n",
    "df"
   ]
  },
  {
   "cell_type": "code",
   "execution_count": 9,
   "id": "0b6e76f3-11d4-4cd1-a918-4a48519b3366",
   "metadata": {},
   "outputs": [
    {
     "data": {
      "text/html": [
       "<div>\n",
       "<style scoped>\n",
       "    .dataframe tbody tr th:only-of-type {\n",
       "        vertical-align: middle;\n",
       "    }\n",
       "\n",
       "    .dataframe tbody tr th {\n",
       "        vertical-align: top;\n",
       "    }\n",
       "\n",
       "    .dataframe thead th {\n",
       "        text-align: right;\n",
       "    }\n",
       "</style>\n",
       "<table border=\"1\" class=\"dataframe\">\n",
       "  <thead>\n",
       "    <tr style=\"text-align: right;\">\n",
       "      <th></th>\n",
       "      <th>date</th>\n",
       "      <th>weather</th>\n",
       "      <th>temperature</th>\n",
       "      <th>humidity</th>\n",
       "    </tr>\n",
       "  </thead>\n",
       "  <tbody>\n",
       "    <tr>\n",
       "      <th>1</th>\n",
       "      <td>2018-03-05</td>\n",
       "      <td>sunny</td>\n",
       "      <td>15</td>\n",
       "      <td>40</td>\n",
       "    </tr>\n",
       "    <tr>\n",
       "      <th>3</th>\n",
       "      <td>2018-04-01</td>\n",
       "      <td>snow</td>\n",
       "      <td>-2</td>\n",
       "      <td>60</td>\n",
       "    </tr>\n",
       "  </tbody>\n",
       "</table>\n",
       "</div>"
      ],
      "text/plain": [
       "         date weather  temperature  humidity\n",
       "1  2018-03-05   sunny           15        40\n",
       "3  2018-04-01    snow           -2        60"
      ]
     },
     "execution_count": 9,
     "metadata": {},
     "output_type": "execute_result"
    }
   ],
   "source": [
    "#How would you select every other row starting from the second row and display all columns?\n",
    "df.iloc[1::2]"
   ]
  },
  {
   "cell_type": "code",
   "execution_count": 10,
   "id": "9e4f0805-37b7-4996-952c-15229c078c0e",
   "metadata": {},
   "outputs": [
    {
     "data": {
      "text/html": [
       "<div>\n",
       "<style scoped>\n",
       "    .dataframe tbody tr th:only-of-type {\n",
       "        vertical-align: middle;\n",
       "    }\n",
       "\n",
       "    .dataframe tbody tr th {\n",
       "        vertical-align: top;\n",
       "    }\n",
       "\n",
       "    .dataframe thead th {\n",
       "        text-align: right;\n",
       "    }\n",
       "</style>\n",
       "<table border=\"1\" class=\"dataframe\">\n",
       "  <thead>\n",
       "    <tr style=\"text-align: right;\">\n",
       "      <th></th>\n",
       "      <th>humidity</th>\n",
       "      <th>temperature</th>\n",
       "      <th>weather</th>\n",
       "      <th>date</th>\n",
       "    </tr>\n",
       "  </thead>\n",
       "  <tbody>\n",
       "    <tr>\n",
       "      <th>4</th>\n",
       "      <td>50</td>\n",
       "      <td>10</td>\n",
       "      <td>sunny</td>\n",
       "      <td>2018-04-02</td>\n",
       "    </tr>\n",
       "    <tr>\n",
       "      <th>3</th>\n",
       "      <td>60</td>\n",
       "      <td>-2</td>\n",
       "      <td>snow</td>\n",
       "      <td>2018-04-01</td>\n",
       "    </tr>\n",
       "    <tr>\n",
       "      <th>2</th>\n",
       "      <td>100</td>\n",
       "      <td>8</td>\n",
       "      <td>rain</td>\n",
       "      <td>2018-03-06</td>\n",
       "    </tr>\n",
       "    <tr>\n",
       "      <th>1</th>\n",
       "      <td>40</td>\n",
       "      <td>15</td>\n",
       "      <td>sunny</td>\n",
       "      <td>2018-03-05</td>\n",
       "    </tr>\n",
       "    <tr>\n",
       "      <th>0</th>\n",
       "      <td>80</td>\n",
       "      <td>12</td>\n",
       "      <td>cloudy</td>\n",
       "      <td>2018-03-04</td>\n",
       "    </tr>\n",
       "  </tbody>\n",
       "</table>\n",
       "</div>"
      ],
      "text/plain": [
       "   humidity  temperature weather        date\n",
       "4        50           10   sunny  2018-04-02\n",
       "3        60           -2    snow  2018-04-01\n",
       "2       100            8    rain  2018-03-06\n",
       "1        40           15   sunny  2018-03-05\n",
       "0        80           12  cloudy  2018-03-04"
      ]
     },
     "execution_count": 10,
     "metadata": {},
     "output_type": "execute_result"
    }
   ],
   "source": [
    "#How would you reverse both the rows and columns of the DataFrame?\n",
    "df.iloc[::-1, ::-1]"
   ]
  },
  {
   "cell_type": "code",
   "execution_count": 11,
   "id": "22685546-f30c-43b6-828c-57adf1c2835a",
   "metadata": {},
   "outputs": [
    {
     "data": {
      "text/html": [
       "<div>\n",
       "<style scoped>\n",
       "    .dataframe tbody tr th:only-of-type {\n",
       "        vertical-align: middle;\n",
       "    }\n",
       "\n",
       "    .dataframe tbody tr th {\n",
       "        vertical-align: top;\n",
       "    }\n",
       "\n",
       "    .dataframe thead th {\n",
       "        text-align: right;\n",
       "    }\n",
       "</style>\n",
       "<table border=\"1\" class=\"dataframe\">\n",
       "  <thead>\n",
       "    <tr style=\"text-align: right;\">\n",
       "      <th></th>\n",
       "      <th>date</th>\n",
       "      <th>weather</th>\n",
       "      <th>temperature</th>\n",
       "      <th>humidity</th>\n",
       "    </tr>\n",
       "  </thead>\n",
       "  <tbody>\n",
       "    <tr>\n",
       "      <th>0</th>\n",
       "      <td>2018-03-04</td>\n",
       "      <td>cloudy</td>\n",
       "      <td>0</td>\n",
       "      <td>80</td>\n",
       "    </tr>\n",
       "    <tr>\n",
       "      <th>1</th>\n",
       "      <td>2018-03-05</td>\n",
       "      <td>sunny</td>\n",
       "      <td>15</td>\n",
       "      <td>40</td>\n",
       "    </tr>\n",
       "    <tr>\n",
       "      <th>2</th>\n",
       "      <td>2018-03-06</td>\n",
       "      <td>rain</td>\n",
       "      <td>8</td>\n",
       "      <td>100</td>\n",
       "    </tr>\n",
       "    <tr>\n",
       "      <th>3</th>\n",
       "      <td>2018-04-01</td>\n",
       "      <td>snow</td>\n",
       "      <td>0</td>\n",
       "      <td>60</td>\n",
       "    </tr>\n",
       "    <tr>\n",
       "      <th>4</th>\n",
       "      <td>2018-04-02</td>\n",
       "      <td>sunny</td>\n",
       "      <td>10</td>\n",
       "      <td>50</td>\n",
       "    </tr>\n",
       "  </tbody>\n",
       "</table>\n",
       "</div>"
      ],
      "text/plain": [
       "         date weather  temperature  humidity\n",
       "0  2018-03-04  cloudy            0        80\n",
       "1  2018-03-05   sunny           15        40\n",
       "2  2018-03-06    rain            8       100\n",
       "3  2018-04-01    snow            0        60\n",
       "4  2018-04-02   sunny           10        50"
      ]
     },
     "execution_count": 11,
     "metadata": {},
     "output_type": "execute_result"
    }
   ],
   "source": [
    "#How would you set the temperature to 0 for all rows where the humidity is above 50 and the weather is \"cloudy\" or \"snow\"?\n",
    "df.loc[(df['humidity'] > 50) & (df['weather'].isin(['cloudy', 'snow'])), 'temperature'] = 0\n",
    "df"
   ]
  },
  {
   "cell_type": "code",
   "execution_count": 12,
   "id": "97d13188-01c6-4265-8b1e-a1e2fcb4d316",
   "metadata": {},
   "outputs": [
    {
     "name": "stdout",
     "output_type": "stream",
     "text": [
      "         date weather  temperature  humidity\n",
      "0  2018-03-04  cloudy            0        80\n",
      "2  2018-03-06    rain            8       100\n",
      "3  2018-04-01    snow            0        60\n"
     ]
    }
   ],
   "source": [
    "#This will return rows where the temperature is less than 10.\n",
    "df_sliced = df.loc[lambda x: x['temperature'] < 10]\n",
    "print(df_sliced)"
   ]
  },
  {
   "cell_type": "code",
   "execution_count": 13,
   "id": "88ee0a18-c185-4e65-8c05-ee05eb01b9ca",
   "metadata": {},
   "outputs": [
    {
     "data": {
      "text/html": [
       "<div>\n",
       "<style scoped>\n",
       "    .dataframe tbody tr th:only-of-type {\n",
       "        vertical-align: middle;\n",
       "    }\n",
       "\n",
       "    .dataframe tbody tr th {\n",
       "        vertical-align: top;\n",
       "    }\n",
       "\n",
       "    .dataframe thead th {\n",
       "        text-align: right;\n",
       "    }\n",
       "</style>\n",
       "<table border=\"1\" class=\"dataframe\">\n",
       "  <thead>\n",
       "    <tr style=\"text-align: right;\">\n",
       "      <th></th>\n",
       "      <th>date</th>\n",
       "      <th>weather</th>\n",
       "      <th>temperature</th>\n",
       "      <th>humidity</th>\n",
       "      <th>weekday</th>\n",
       "    </tr>\n",
       "  </thead>\n",
       "  <tbody>\n",
       "    <tr>\n",
       "      <th>0</th>\n",
       "      <td>2018-03-04</td>\n",
       "      <td>cloudy</td>\n",
       "      <td>0</td>\n",
       "      <td>80</td>\n",
       "      <td>Sunday</td>\n",
       "    </tr>\n",
       "    <tr>\n",
       "      <th>1</th>\n",
       "      <td>2018-03-05</td>\n",
       "      <td>sunny</td>\n",
       "      <td>15</td>\n",
       "      <td>40</td>\n",
       "      <td>Monday</td>\n",
       "    </tr>\n",
       "    <tr>\n",
       "      <th>2</th>\n",
       "      <td>2018-03-06</td>\n",
       "      <td>rain</td>\n",
       "      <td>8</td>\n",
       "      <td>100</td>\n",
       "      <td>Tuesday</td>\n",
       "    </tr>\n",
       "    <tr>\n",
       "      <th>3</th>\n",
       "      <td>2018-04-01</td>\n",
       "      <td>snow</td>\n",
       "      <td>0</td>\n",
       "      <td>60</td>\n",
       "      <td>Sunday</td>\n",
       "    </tr>\n",
       "    <tr>\n",
       "      <th>4</th>\n",
       "      <td>2018-04-02</td>\n",
       "      <td>sunny</td>\n",
       "      <td>10</td>\n",
       "      <td>50</td>\n",
       "      <td>Monday</td>\n",
       "    </tr>\n",
       "  </tbody>\n",
       "</table>\n",
       "</div>"
      ],
      "text/plain": [
       "        date weather  temperature  humidity  weekday\n",
       "0 2018-03-04  cloudy            0        80   Sunday\n",
       "1 2018-03-05   sunny           15        40   Monday\n",
       "2 2018-03-06    rain            8       100  Tuesday\n",
       "3 2018-04-01    snow            0        60   Sunday\n",
       "4 2018-04-02   sunny           10        50   Monday"
      ]
     },
     "execution_count": 13,
     "metadata": {},
     "output_type": "execute_result"
    }
   ],
   "source": [
    "# Convert 'date' column to datetime\n",
    "#Converts the date column (which is in string format) into a Pandas datetime object.\n",
    "df['date'] = pd.to_datetime(df['date'])\n",
    "\n",
    "# Extract the full weekday name\n",
    "#This accesses the datetime properties of the date column\n",
    "#This method returns the full name of the day (e.g., \"Sunday\", \"Monday\") for each date in the date column.\n",
    "df['weekday'] = df['date'].dt.day_name()\n",
    "df"
   ]
  },
  {
   "cell_type": "markdown",
   "id": "6dca69b5-4e1e-4161-8e5d-eea0c1c0cdbb",
   "metadata": {},
   "source": [
    "## MOVIE Rating with Pandas\n"
   ]
  },
  {
   "cell_type": "code",
   "execution_count": 48,
   "id": "f7e88c76-3cd8-48a1-9c95-b7a7341d2f35",
   "metadata": {},
   "outputs": [],
   "source": [
    "import numpy as np\n",
    "import pandas as pd"
   ]
  },
  {
   "cell_type": "code",
   "execution_count": 49,
   "id": "3cc7a319-927a-4921-922c-dd0b4af44917",
   "metadata": {},
   "outputs": [
    {
     "data": {
      "text/html": [
       "<div>\n",
       "<style scoped>\n",
       "    .dataframe tbody tr th:only-of-type {\n",
       "        vertical-align: middle;\n",
       "    }\n",
       "\n",
       "    .dataframe tbody tr th {\n",
       "        vertical-align: top;\n",
       "    }\n",
       "\n",
       "    .dataframe thead th {\n",
       "        text-align: right;\n",
       "    }\n",
       "</style>\n",
       "<table border=\"1\" class=\"dataframe\">\n",
       "  <thead>\n",
       "    <tr style=\"text-align: right;\">\n",
       "      <th></th>\n",
       "      <th>Name</th>\n",
       "      <th>Year</th>\n",
       "      <th>Duration</th>\n",
       "      <th>Genre</th>\n",
       "      <th>Rating</th>\n",
       "      <th>Votes</th>\n",
       "      <th>Director</th>\n",
       "      <th>Actor 1</th>\n",
       "      <th>Actor 2</th>\n",
       "      <th>Actor 3</th>\n",
       "    </tr>\n",
       "  </thead>\n",
       "  <tbody>\n",
       "    <tr>\n",
       "      <th>0</th>\n",
       "      <td></td>\n",
       "      <td>NaN</td>\n",
       "      <td>NaN</td>\n",
       "      <td>Drama</td>\n",
       "      <td>NaN</td>\n",
       "      <td>NaN</td>\n",
       "      <td>J.S. Randhawa</td>\n",
       "      <td>Manmauji</td>\n",
       "      <td>Birbal</td>\n",
       "      <td>Rajendra Bhatia</td>\n",
       "    </tr>\n",
       "    <tr>\n",
       "      <th>1</th>\n",
       "      <td>#Gadhvi (He thought he was Gandhi)</td>\n",
       "      <td>(2019)</td>\n",
       "      <td>109 min</td>\n",
       "      <td>Drama</td>\n",
       "      <td>7.0</td>\n",
       "      <td>8</td>\n",
       "      <td>Gaurav Bakshi</td>\n",
       "      <td>Rasika Dugal</td>\n",
       "      <td>Vivek Ghamande</td>\n",
       "      <td>Arvind Jangid</td>\n",
       "    </tr>\n",
       "    <tr>\n",
       "      <th>2</th>\n",
       "      <td>#Homecoming</td>\n",
       "      <td>(2021)</td>\n",
       "      <td>90 min</td>\n",
       "      <td>Drama, Musical</td>\n",
       "      <td>NaN</td>\n",
       "      <td>NaN</td>\n",
       "      <td>Soumyajit Majumdar</td>\n",
       "      <td>Sayani Gupta</td>\n",
       "      <td>Plabita Borthakur</td>\n",
       "      <td>Roy Angana</td>\n",
       "    </tr>\n",
       "  </tbody>\n",
       "</table>\n",
       "</div>"
      ],
      "text/plain": [
       "                                 Name    Year Duration           Genre  \\\n",
       "0                                         NaN      NaN           Drama   \n",
       "1  #Gadhvi (He thought he was Gandhi)  (2019)  109 min           Drama   \n",
       "2                         #Homecoming  (2021)   90 min  Drama, Musical   \n",
       "\n",
       "   Rating Votes            Director       Actor 1            Actor 2  \\\n",
       "0     NaN   NaN       J.S. Randhawa      Manmauji             Birbal   \n",
       "1     7.0     8       Gaurav Bakshi  Rasika Dugal     Vivek Ghamande   \n",
       "2     NaN   NaN  Soumyajit Majumdar  Sayani Gupta  Plabita Borthakur   \n",
       "\n",
       "           Actor 3  \n",
       "0  Rajendra Bhatia  \n",
       "1    Arvind Jangid  \n",
       "2       Roy Angana  "
      ]
     },
     "execution_count": 49,
     "metadata": {},
     "output_type": "execute_result"
    }
   ],
   "source": [
    "df = pd.read_csv('/3.0-Review-Pandas-IMDb Movies India.csv', encoding='latin-1')\n",
    "df.head(3)"
   ]
  },
  {
   "cell_type": "markdown",
   "id": "5befd562-39ff-4375-ba73-5a72cf951743",
   "metadata": {},
   "source": [
    "# Returns size of dataframe? (equivalent to total number of elements/ That is rows x columns)"
   ]
  },
  {
   "cell_type": "code",
   "execution_count": 50,
   "id": "32158378-c32f-4f53-add2-fb78a6fd64ad",
   "metadata": {},
   "outputs": [
    {
     "data": {
      "text/plain": [
       "155090"
      ]
     },
     "execution_count": 50,
     "metadata": {},
     "output_type": "execute_result"
    }
   ],
   "source": [
    "# You can think of it as multiplying the rows * columns\n",
    "df.size"
   ]
  },
  {
   "cell_type": "markdown",
   "id": "8d4a1931-2081-4190-b344-e2314ce18757",
   "metadata": {},
   "source": [
    "# Returns shape of dataframe? (tuple of shape (Rows, columns) of dataframe)"
   ]
  },
  {
   "cell_type": "code",
   "execution_count": 51,
   "id": "3bda9a15-540a-4a31-adfb-5637dfa37a22",
   "metadata": {},
   "outputs": [
    {
     "data": {
      "text/plain": [
       "(15509, 10)"
      ]
     },
     "execution_count": 51,
     "metadata": {},
     "output_type": "execute_result"
    }
   ],
   "source": [
    "df.shape"
   ]
  },
  {
   "cell_type": "markdown",
   "id": "defac999-5498-472a-bde5-aa9a48e3de2e",
   "metadata": {},
   "source": [
    "# YOU noticed that there are NaN values\n",
    "\n",
    "We have to remove them before we start our analyses"
   ]
  },
  {
   "cell_type": "code",
   "execution_count": 52,
   "id": "b1ae20a3-2bf5-44c3-9f5e-a143f2940b9f",
   "metadata": {},
   "outputs": [
    {
     "data": {
      "text/plain": [
       "Name           0\n",
       "Year         528\n",
       "Duration    8269\n",
       "Genre       1877\n",
       "Rating      7590\n",
       "Votes       7589\n",
       "Director     525\n",
       "Actor 1     1617\n",
       "Actor 2     2384\n",
       "Actor 3     3144\n",
       "dtype: int64"
      ]
     },
     "execution_count": 52,
     "metadata": {},
     "output_type": "execute_result"
    }
   ],
   "source": [
    "df.isnull().sum()"
   ]
  },
  {
   "cell_type": "code",
   "execution_count": 54,
   "id": "d402ead4-d254-4132-88dd-e2d5ae3332f6",
   "metadata": {},
   "outputs": [
    {
     "data": {
      "text/html": [
       "<div>\n",
       "<style scoped>\n",
       "    .dataframe tbody tr th:only-of-type {\n",
       "        vertical-align: middle;\n",
       "    }\n",
       "\n",
       "    .dataframe tbody tr th {\n",
       "        vertical-align: top;\n",
       "    }\n",
       "\n",
       "    .dataframe thead th {\n",
       "        text-align: right;\n",
       "    }\n",
       "</style>\n",
       "<table border=\"1\" class=\"dataframe\">\n",
       "  <thead>\n",
       "    <tr style=\"text-align: right;\">\n",
       "      <th></th>\n",
       "      <th>Name</th>\n",
       "      <th>Year</th>\n",
       "      <th>Duration</th>\n",
       "      <th>Genre</th>\n",
       "      <th>Rating</th>\n",
       "      <th>Votes</th>\n",
       "      <th>Director</th>\n",
       "      <th>Actor 1</th>\n",
       "      <th>Actor 2</th>\n",
       "      <th>Actor 3</th>\n",
       "    </tr>\n",
       "  </thead>\n",
       "  <tbody>\n",
       "    <tr>\n",
       "      <th>1</th>\n",
       "      <td>#Gadhvi (He thought he was Gandhi)</td>\n",
       "      <td>(2019)</td>\n",
       "      <td>109 min</td>\n",
       "      <td>Drama</td>\n",
       "      <td>7.0</td>\n",
       "      <td>8</td>\n",
       "      <td>Gaurav Bakshi</td>\n",
       "      <td>Rasika Dugal</td>\n",
       "      <td>Vivek Ghamande</td>\n",
       "      <td>Arvind Jangid</td>\n",
       "    </tr>\n",
       "    <tr>\n",
       "      <th>3</th>\n",
       "      <td>#Yaaram</td>\n",
       "      <td>(2019)</td>\n",
       "      <td>110 min</td>\n",
       "      <td>Comedy, Romance</td>\n",
       "      <td>4.4</td>\n",
       "      <td>35</td>\n",
       "      <td>Ovais Khan</td>\n",
       "      <td>Prateik</td>\n",
       "      <td>Ishita Raj</td>\n",
       "      <td>Siddhant Kapoor</td>\n",
       "    </tr>\n",
       "    <tr>\n",
       "      <th>5</th>\n",
       "      <td>...Aur Pyaar Ho Gaya</td>\n",
       "      <td>(1997)</td>\n",
       "      <td>147 min</td>\n",
       "      <td>Comedy, Drama, Musical</td>\n",
       "      <td>4.7</td>\n",
       "      <td>827</td>\n",
       "      <td>Rahul Rawail</td>\n",
       "      <td>Bobby Deol</td>\n",
       "      <td>Aishwarya Rai Bachchan</td>\n",
       "      <td>Shammi Kapoor</td>\n",
       "    </tr>\n",
       "    <tr>\n",
       "      <th>6</th>\n",
       "      <td>...Yahaan</td>\n",
       "      <td>(2005)</td>\n",
       "      <td>142 min</td>\n",
       "      <td>Drama, Romance, War</td>\n",
       "      <td>7.4</td>\n",
       "      <td>1,086</td>\n",
       "      <td>Shoojit Sircar</td>\n",
       "      <td>Jimmy Sheirgill</td>\n",
       "      <td>Minissha Lamba</td>\n",
       "      <td>Yashpal Sharma</td>\n",
       "    </tr>\n",
       "    <tr>\n",
       "      <th>8</th>\n",
       "      <td>?: A Question Mark</td>\n",
       "      <td>(2012)</td>\n",
       "      <td>82 min</td>\n",
       "      <td>Horror, Mystery, Thriller</td>\n",
       "      <td>5.6</td>\n",
       "      <td>326</td>\n",
       "      <td>Allyson Patel</td>\n",
       "      <td>Yash Dave</td>\n",
       "      <td>Muntazir Ahmad</td>\n",
       "      <td>Kiran Bhatia</td>\n",
       "    </tr>\n",
       "  </tbody>\n",
       "</table>\n",
       "</div>"
      ],
      "text/plain": [
       "                                 Name    Year Duration  \\\n",
       "1  #Gadhvi (He thought he was Gandhi)  (2019)  109 min   \n",
       "3                             #Yaaram  (2019)  110 min   \n",
       "5                ...Aur Pyaar Ho Gaya  (1997)  147 min   \n",
       "6                           ...Yahaan  (2005)  142 min   \n",
       "8                  ?: A Question Mark  (2012)   82 min   \n",
       "\n",
       "                       Genre  Rating  Votes        Director          Actor 1  \\\n",
       "1                      Drama     7.0      8   Gaurav Bakshi     Rasika Dugal   \n",
       "3            Comedy, Romance     4.4     35      Ovais Khan          Prateik   \n",
       "5     Comedy, Drama, Musical     4.7    827    Rahul Rawail       Bobby Deol   \n",
       "6        Drama, Romance, War     7.4  1,086  Shoojit Sircar  Jimmy Sheirgill   \n",
       "8  Horror, Mystery, Thriller     5.6    326   Allyson Patel        Yash Dave   \n",
       "\n",
       "                  Actor 2          Actor 3  \n",
       "1          Vivek Ghamande    Arvind Jangid  \n",
       "3              Ishita Raj  Siddhant Kapoor  \n",
       "5  Aishwarya Rai Bachchan    Shammi Kapoor  \n",
       "6          Minissha Lamba   Yashpal Sharma  \n",
       "8          Muntazir Ahmad     Kiran Bhatia  "
      ]
     },
     "execution_count": 54,
     "metadata": {},
     "output_type": "execute_result"
    }
   ],
   "source": [
    "# We want to keep the only rows that have no missing values\n",
    "# This mean all the rows has NaN values will be removed\n",
    "df.dropna(inplace=True)\n",
    "df.head(5)"
   ]
  },
  {
   "cell_type": "code",
   "execution_count": 58,
   "id": "ff4fe7d4-0484-4b19-ab06-eeda4c2ddce3",
   "metadata": {},
   "outputs": [
    {
     "data": {
      "text/plain": [
       "Name        0\n",
       "Year        0\n",
       "Duration    0\n",
       "Genre       0\n",
       "Rating      0\n",
       "Votes       0\n",
       "Director    0\n",
       "Actor 1     0\n",
       "Actor 2     0\n",
       "Actor 3     0\n",
       "dtype: int64"
      ]
     },
     "execution_count": 58,
     "metadata": {},
     "output_type": "execute_result"
    }
   ],
   "source": [
    "# WE checked the number of missing values again\n",
    "# we notice that we have 0 Nan at this stage\n",
    "df.isnull().sum()"
   ]
  },
  {
   "cell_type": "markdown",
   "id": "eaf682f0-8012-4e4a-a454-d5c9c1e8566c",
   "metadata": {},
   "source": [
    "# We want to compute the annual movie release counts over time based on the Year column in the dataset"
   ]
  },
  {
   "cell_type": "code",
   "execution_count": 64,
   "id": "6236e8da-b786-4918-8faf-4c2c5393c513",
   "metadata": {},
   "outputs": [
    {
     "data": {
      "text/plain": [
       "Year\n",
       "1931      2\n",
       "1932      1\n",
       "1933      1\n",
       "1934      2\n",
       "1935      5\n",
       "       ... \n",
       "2017    211\n",
       "2018    202\n",
       "2019    227\n",
       "2020    140\n",
       "2021     63\n",
       "Length: 91, dtype: int64"
      ]
     },
     "execution_count": 64,
     "metadata": {},
     "output_type": "execute_result"
    }
   ],
   "source": [
    "# Step 1: Group by 'Year' and count the number of movies released each year\n",
    "annual_movie_counts = df.groupby('Year').size()\n",
    "annual_movie_counts"
   ]
  },
  {
   "cell_type": "code",
   "execution_count": 65,
   "id": "292e515c-89d3-4a18-ba9b-b580169eac79",
   "metadata": {},
   "outputs": [
    {
     "data": {
      "text/plain": [
       "array([  2,   1,   1,   2,   5,   7,   6,   5,   2,   8,   5,   6,   8,\n",
       "         4,   3,   6,   6,  10,  13,  18,  15,  16,  20,  19,  25,  21,\n",
       "        31,  31,  27,  26,  25,  29,  29,  36,  36,  42,  41,  50,  46,\n",
       "        46,  54,  52,  46,  56,  52,  45,  61,  51,  54,  70,  67,  67,\n",
       "        61,  67,  83,  73,  51,  67,  88,  73,  72,  86,  85,  78,  64,\n",
       "        70,  75,  76,  80,  83,  90,  90, 114, 109, 141, 112, 117, 111,\n",
       "       118, 131, 125, 140, 167, 165, 177, 173, 211, 202, 227, 140,  63])"
      ]
     },
     "execution_count": 65,
     "metadata": {},
     "output_type": "execute_result"
    }
   ],
   "source": [
    "annual_movie_counts.values"
   ]
  },
  {
   "cell_type": "code",
   "execution_count": 66,
   "id": "ae68cadb-a466-47c4-b3a1-97b30b4fa672",
   "metadata": {},
   "outputs": [
    {
     "data": {
      "text/plain": [
       "Index([1931, 1932, 1933, 1934, 1935, 1936, 1937, 1938, 1939, 1940, 1941, 1942,\n",
       "       1943, 1944, 1945, 1946, 1947, 1948, 1949, 1950, 1951, 1952, 1953, 1954,\n",
       "       1955, 1956, 1957, 1958, 1959, 1960, 1961, 1962, 1963, 1964, 1965, 1966,\n",
       "       1967, 1968, 1969, 1970, 1971, 1972, 1973, 1974, 1975, 1976, 1977, 1978,\n",
       "       1979, 1980, 1981, 1982, 1983, 1984, 1985, 1986, 1987, 1988, 1989, 1990,\n",
       "       1991, 1992, 1993, 1994, 1995, 1996, 1997, 1998, 1999, 2000, 2001, 2002,\n",
       "       2003, 2004, 2005, 2006, 2007, 2008, 2009, 2010, 2011, 2012, 2013, 2014,\n",
       "       2015, 2016, 2017, 2018, 2019, 2020, 2021],\n",
       "      dtype='int64', name='Year')"
      ]
     },
     "execution_count": 66,
     "metadata": {},
     "output_type": "execute_result"
    }
   ],
   "source": [
    "annual_movie_counts.index"
   ]
  },
  {
   "cell_type": "code",
   "execution_count": 74,
   "id": "6329089b-c9f6-4d1b-8a16-c3c6af807318",
   "metadata": {},
   "outputs": [
    {
     "name": "stdout",
     "output_type": "stream",
     "text": [
      "The year with the most movie releases is 2019 with 227 movies.\n"
     ]
    }
   ],
   "source": [
    "# We want to find the year with the maximum number of movie releases\n",
    "max_year = annual_movie_counts.idxmax()  # Year with the maximum movie releases\n",
    "max_count = annual_movie_counts.max()    # Maximum number of movie releases\n",
    "print(f\"The year with the most movie releases is {max_year} with {max_count} movies.\")"
   ]
  },
  {
   "cell_type": "markdown",
   "id": "982c73dd-57a7-4873-aaa6-a6590d97b6b6",
   "metadata": {},
   "source": [
    "# Plot the Annual Movie Release Counts across years"
   ]
  },
  {
   "cell_type": "code",
   "execution_count": 69,
   "id": "57c0e2f5-5aa3-42f7-af4d-ae113cf816aa",
   "metadata": {},
   "outputs": [
    {
     "data": {
      "image/png": "[encoded data removed]",
      "text/plain": [
       "<Figure size 1000x600 with 1 Axes>"
      ]
     },
     "metadata": {},
     "output_type": "display_data"
    }
   ],
   "source": [
    "import matplotlib.pyplot as plt\n",
    "plt.figure(figsize=(10,6))\n",
    "plt.plot(annual_movie_counts.index, annual_movie_counts.values, marker='o', linestyle='-', color='b')\n",
    "plt.title('Annual Movie Release Counts Over Time')\n",
    "plt.xlabel('Year')\n",
    "plt.ylabel('Number of Movies Released')\n",
    "plt.grid(True)\n",
    "plt.xticks(rotation=45)\n",
    "plt.show()"
   ]
  },
  {
   "cell_type": "markdown",
   "id": "7ff5cc4c-081f-4528-b27a-ef6220263fa9",
   "metadata": {},
   "source": [
    "# Finding the actor who appears most frequently in the movies from the dataset and identifying the titles of those movies (the top five movies)"
   ]
  },
  {
   "cell_type": "code",
   "execution_count": 78,
   "id": "b6ce9b14-b4a9-4592-9b81-cd3d2097fb51",
   "metadata": {},
   "outputs": [],
   "source": [
    "# Combine all actor columns into a single Series\n",
    "all_actors = pd.concat([df['Actor 1'], df['Actor 2'], df['Actor 3']])\n",
    "\n",
    "# Count occurrences of each actor\n",
    "actor_counts = all_actors.value_counts()"
   ]
  },
  {
   "cell_type": "code",
   "execution_count": 85,
   "id": "1faa6e82-bb25-4ec4-913c-25b39890f19f",
   "metadata": {},
   "outputs": [],
   "source": [
    "# Find the actor with the maximum appearances\n",
    "max_actor = actor_counts.idxmax()\n",
    "max_count = actor_counts.max()\n",
    "\n",
    "# Find the movies this actor appeared in (All the movies for this actor)\n",
    "movies = df[df.isin([max_actor]).any(axis=1)]['Name'].tolist()\n",
    "\n",
    "movies_for_actor = df[(df['Actor 1'] == max_actor) | (df['Actor 2'] == max_actor) | (df['Actor 3'] == max_actor)]\n",
    "top_movies = movies_for_actor['Name'].head(5)"
   ]
  },
  {
   "cell_type": "code",
   "execution_count": 86,
   "id": "87473207-ef17-4bf8-b852-e1352eca49ef",
   "metadata": {},
   "outputs": [
    {
     "name": "stdout",
     "output_type": "stream",
     "text": [
      "The actor who appears the most is 'Mithun Chakraborty' with 160 appearances.\n"
     ]
    }
   ],
   "source": [
    "# Output the results\n",
    "print(f\"The actor who appears the most is '{max_actor}' with {max_count} appearances.\")"
   ]
  },
  {
   "cell_type": "code",
   "execution_count": 87,
   "id": "9d0b774f-9be4-414a-b894-5bfb721d1ddd",
   "metadata": {},
   "outputs": [
    {
     "name": "stdout",
     "output_type": "stream",
     "text": [
      "The actor has appeared in the following top movies:\n",
      "- 12 O'Clock\n",
      "- Aadat Se Majboor\n",
      "- Aaj Ka Ravan\n",
      "- Aakhri Ghulam\n",
      "- Aamne Samne\n"
     ]
    }
   ],
   "source": [
    "print(\"The actor has appeared in the following top movies:\")\n",
    "for movie in top_movies:\n",
    "    print(f\"- {movie}\")"
   ]
  },
  {
   "cell_type": "code",
   "execution_count": null,
   "id": "b620a522-5425-4032-9b04-1649c584f6cc",
   "metadata": {},
   "outputs": [],
   "source": []
  }
 ],
 "metadata": {
  "kernelspec": {
   "display_name": "Python 3 (ipykernel)",
   "language": "python",
   "name": "python3"
  },
  "language_info": {
   "codemirror_mode": {
    "name": "ipython",
    "version": 3
   },
   "file_extension": ".py",
   "mimetype": "text/x-python",
   "name": "python",
   "nbconvert_exporter": "python",
   "pygments_lexer": "ipython3",
   "version": "3.12.4"
  }
 },
 "nbformat": 4,
 "nbformat_minor": 5
}
