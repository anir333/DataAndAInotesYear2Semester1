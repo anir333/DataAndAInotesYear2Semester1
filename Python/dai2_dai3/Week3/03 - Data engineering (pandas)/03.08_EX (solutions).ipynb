{
 "cells": [
  {
   "cell_type": "markdown",
   "source": [
    "## Exercices : Aggregation and grouping\n",
    "\n",
    "### Aggregation"
   ],
   "metadata": {
    "collapsed": false
   }
  },
  {
   "cell_type": "code",
   "execution_count": 2,
   "outputs": [
    {
     "data": {
      "text/plain": "        Earphones  Laptop  Cell Phone  Power Bank\nWeek 1        150      50         300         400\nWeek 2        200      60         320         420\nWeek 3        190      55         310         410\nWeek 4        250      65         305         430\nWeek 5        300      80         315         450",
      "text/html": "<div>\n<style scoped>\n    .dataframe tbody tr th:only-of-type {\n        vertical-align: middle;\n    }\n\n    .dataframe tbody tr th {\n        vertical-align: top;\n    }\n\n    .dataframe thead th {\n        text-align: right;\n    }\n</style>\n<table border=\"1\" class=\"dataframe\">\n  <thead>\n    <tr style=\"text-align: right;\">\n      <th></th>\n      <th>Earphones</th>\n      <th>Laptop</th>\n      <th>Cell Phone</th>\n      <th>Power Bank</th>\n    </tr>\n  </thead>\n  <tbody>\n    <tr>\n      <th>Week 1</th>\n      <td>150</td>\n      <td>50</td>\n      <td>300</td>\n      <td>400</td>\n    </tr>\n    <tr>\n      <th>Week 2</th>\n      <td>200</td>\n      <td>60</td>\n      <td>320</td>\n      <td>420</td>\n    </tr>\n    <tr>\n      <th>Week 3</th>\n      <td>190</td>\n      <td>55</td>\n      <td>310</td>\n      <td>410</td>\n    </tr>\n    <tr>\n      <th>Week 4</th>\n      <td>250</td>\n      <td>65</td>\n      <td>305</td>\n      <td>430</td>\n    </tr>\n    <tr>\n      <th>Week 5</th>\n      <td>300</td>\n      <td>80</td>\n      <td>315</td>\n      <td>450</td>\n    </tr>\n  </tbody>\n</table>\n</div>"
     },
     "execution_count": 2,
     "metadata": {},
     "output_type": "execute_result"
    }
   ],
   "source": [
    "#  Aggregation Functions in Pandas with Realistic Product Data\n",
    "\n",
    "# Import necessary libraries\n",
    "import pandas as pd\n",
    "import numpy as np\n",
    "\n",
    "# Consider Weekly sales of different products\n",
    "data = {\n",
    "    'Earphones': [150, 200, 190, 250, 300],\n",
    "    'Laptop': [50, 60, 55, 65, 80],\n",
    "    'Cell Phone': [300, 320, 310, 305, 315],\n",
    "    'Power Bank': [400, 420, 410, 430, 450]\n",
    "}\n",
    "\n",
    "# Index represents the week numbers (Week 1 to Week 5)\n",
    "index = ['Week 1', 'Week 2', 'Week 3', 'Week 4', 'Week 5']\n",
    "\n",
    "# Create DataFrame\n",
    "df = pd.DataFrame(data, index=index)\n",
    "df\n"
   ],
   "metadata": {
    "collapsed": false,
    "ExecuteTime": {
     "start_time": "2024-09-20T18:55:33.390599Z",
     "end_time": "2024-09-20T18:55:43.672419Z"
    }
   }
  },
  {
   "cell_type": "markdown",
   "source": [
    "For the following problems it is possible to answer the questions without writing code, but we want to see the correct code!\n",
    "3) a) Get the total amount of products sold for each week\n",
    "   b) Get the total amount of products sold for each category\n",
    "   c) Get the total amount of sold products\n"
   ],
   "metadata": {
    "collapsed": false
   }
  },
  {
   "cell_type": "code",
   "execution_count": 15,
   "outputs": [
    {
     "name": "stdout",
     "output_type": "stream",
     "text": [
      "Count of sales data along products:\n",
      "Earphones     1090\n",
      "Laptop         310\n",
      "Cell Phone    1550\n",
      "Power Bank    2110\n",
      "dtype: int64\n",
      "\n",
      "Count of sales data along weeks:\n",
      "Week 1     900\n",
      "Week 2    1000\n",
      "Week 3     965\n",
      "Week 4    1050\n",
      "Week 5    1145\n",
      "dtype: int64\n",
      "\n",
      "Total number of products sold: 5060\n"
     ]
    }
   ],
   "source": [
    "# Hint: Use df.sum() with axis=0 and axis=1.\n",
    "\n",
    "# Solution:\n",
    "# Count along the columns (axis=0)\n",
    "df_count_axis0 = df.sum(axis=0)\n",
    "print(\"Count of sales data along products:\")\n",
    "print(df_count_axis0)\n",
    "\n",
    "# Count along the rows (axis=1)\n",
    "df_count_axis1 = df.sum(axis=1)\n",
    "print(\"\\nCount of sales data along weeks:\")\n",
    "print(df_count_axis1)\n",
    "\n",
    "df_total = df.sum(axis=1).sum()\n",
    "print(\"\\nTotal number of products sold:\",df_total)"
   ],
   "metadata": {
    "collapsed": false,
    "ExecuteTime": {
     "start_time": "2024-09-20T19:07:55.480160Z",
     "end_time": "2024-09-20T19:07:55.502401Z"
    }
   }
  },
  {
   "cell_type": "markdown",
   "source": [
    "2) a) Calculate the mean of sold products across weeks\n",
    "   b) Calculate the median for each week\n",
    "   c) Calculate the overall mean of products sold per week"
   ],
   "metadata": {
    "collapsed": false
   }
  },
  {
   "cell_type": "code",
   "execution_count": 17,
   "outputs": [
    {
     "name": "stdout",
     "output_type": "stream",
     "text": [
      "Mean sales for each product across weeks:\n",
      "Earphones     218.0\n",
      "Laptop         62.0\n",
      "Cell Phone    310.0\n",
      "Power Bank    422.0\n",
      "dtype: float64\n",
      "\n",
      "Median sales for each week across products:\n",
      "Week 1    225.0\n",
      "Week 2    260.0\n",
      "Week 3    250.0\n",
      "Week 4    277.5\n",
      "Week 5    307.5\n",
      "dtype: float64\n",
      "Mean sales overall: 253.0\n"
     ]
    }
   ],
   "source": [
    "# Exercise: Use mean() and median() to compute the mean and median of sales\n",
    "# Hint: Use df.mean() and df.median() with axis=0 and axis=1\n",
    "\n",
    "# Solution:\n",
    "# Mean sales for each product across weeks\n",
    "mean_sales = df.mean(axis=0)\n",
    "print(\"Mean sales for each product across weeks:\")\n",
    "print(mean_sales)\n",
    "\n",
    "\n",
    "# Median sales for each week across products\n",
    "median_weekly_sales = df.median(axis=1)\n",
    "print(\"\\nMedian sales for each week across products:\")\n",
    "print(median_weekly_sales)\n",
    "\n",
    "#Overall median\n",
    "total_mean_sales = df.mean(axis=0).mean()\n",
    "print(\"Mean sales overall:\",total_mean_sales )"
   ],
   "metadata": {
    "collapsed": false,
    "ExecuteTime": {
     "start_time": "2024-09-20T19:14:04.676591Z",
     "end_time": "2024-09-20T19:14:04.678482Z"
    }
   }
  },
  {
   "cell_type": "markdown",
   "source": [
    "3) a) What was the maximum number of items sold in one week for Cell Phone's\n",
    "   b) What is the minimum number of items sold in week 3?\n",
    "   c) What are the minimum sales for each week across products\n",
    "   3) What are the maximum sales for each product across weeks"
   ],
   "metadata": {
    "collapsed": false
   }
  },
  {
   "cell_type": "code",
   "execution_count": 27,
   "outputs": [
    {
     "name": "stdout",
     "output_type": "stream",
     "text": [
      "Maximum sales for cell phones across weeks:\n",
      "320\n",
      "\n",
      "Min sales for week 3:\n",
      "55\n",
      "\n",
      "Minimum sales for each week across products:\n",
      "Week 1    50\n",
      "Week 2    60\n",
      "Week 3    55\n",
      "Week 4    65\n",
      "Week 5    80\n",
      "dtype: int64\n",
      "\n",
      "Maximum sales for each week across products:\n",
      "Earphones     300\n",
      "Laptop         80\n",
      "Cell Phone    320\n",
      "Power Bank    450\n",
      "dtype: int64\n"
     ]
    }
   ],
   "source": [
    "# Exercise: Use min() and max() to find the minimum and maximum sales\n",
    "# Hint: Use df.min() and df.max() with axis=0 and axis=1\n",
    "\n",
    "# Solution:\n",
    "# Max sales for each product across weeks\n",
    "max_sales = df['Cell Phone'].max()\n",
    "print(\"Maximum sales for cell phones across weeks:\")\n",
    "print(max_sales)\n",
    "\n",
    "# Min sales for week 3\n",
    "min_sales = df.loc[\"Week 3\"].min()\n",
    "print(\"\\nMin sales for week 3:\")\n",
    "print(min_sales)\n",
    "\n",
    "# Minimum sales for each week across products\n",
    "min_weekly_sales = df.min(axis=1)\n",
    "print(\"\\nMinimum sales for each week across products:\")\n",
    "print(min_weekly_sales)\n",
    "\n",
    "# maximum sales for each product across weeks\n",
    "max_product_sales = df.max(axis=0)\n",
    "print(\"\\nMaximum sales for each week across products:\")\n",
    "print(max_product_sales)\n"
   ],
   "metadata": {
    "collapsed": false,
    "ExecuteTime": {
     "start_time": "2024-09-20T20:14:46.271279Z",
     "end_time": "2024-09-20T20:14:46.366746Z"
    }
   }
  },
  {
   "cell_type": "markdown",
   "source": [
    "4) Provide an overview of all the statistics, mean, median, standard deviation, min, max with one command"
   ],
   "metadata": {
    "collapsed": false
   }
  },
  {
   "cell_type": "code",
   "execution_count": 28,
   "outputs": [
    {
     "data": {
      "text/plain": "        Earphones     Laptop  Cell Phone  Power Bank\ncount    5.000000   5.000000    5.000000    5.000000\nmean   218.000000  62.000000  310.000000  422.000000\nstd     58.051701  11.510864    7.905694   19.235384\nmin    150.000000  50.000000  300.000000  400.000000\n25%    190.000000  55.000000  305.000000  410.000000\n50%    200.000000  60.000000  310.000000  420.000000\n75%    250.000000  65.000000  315.000000  430.000000\nmax    300.000000  80.000000  320.000000  450.000000",
      "text/html": "<div>\n<style scoped>\n    .dataframe tbody tr th:only-of-type {\n        vertical-align: middle;\n    }\n\n    .dataframe tbody tr th {\n        vertical-align: top;\n    }\n\n    .dataframe thead th {\n        text-align: right;\n    }\n</style>\n<table border=\"1\" class=\"dataframe\">\n  <thead>\n    <tr style=\"text-align: right;\">\n      <th></th>\n      <th>Earphones</th>\n      <th>Laptop</th>\n      <th>Cell Phone</th>\n      <th>Power Bank</th>\n    </tr>\n  </thead>\n  <tbody>\n    <tr>\n      <th>count</th>\n      <td>5.000000</td>\n      <td>5.000000</td>\n      <td>5.000000</td>\n      <td>5.000000</td>\n    </tr>\n    <tr>\n      <th>mean</th>\n      <td>218.000000</td>\n      <td>62.000000</td>\n      <td>310.000000</td>\n      <td>422.000000</td>\n    </tr>\n    <tr>\n      <th>std</th>\n      <td>58.051701</td>\n      <td>11.510864</td>\n      <td>7.905694</td>\n      <td>19.235384</td>\n    </tr>\n    <tr>\n      <th>min</th>\n      <td>150.000000</td>\n      <td>50.000000</td>\n      <td>300.000000</td>\n      <td>400.000000</td>\n    </tr>\n    <tr>\n      <th>25%</th>\n      <td>190.000000</td>\n      <td>55.000000</td>\n      <td>305.000000</td>\n      <td>410.000000</td>\n    </tr>\n    <tr>\n      <th>50%</th>\n      <td>200.000000</td>\n      <td>60.000000</td>\n      <td>310.000000</td>\n      <td>420.000000</td>\n    </tr>\n    <tr>\n      <th>75%</th>\n      <td>250.000000</td>\n      <td>65.000000</td>\n      <td>315.000000</td>\n      <td>430.000000</td>\n    </tr>\n    <tr>\n      <th>max</th>\n      <td>300.000000</td>\n      <td>80.000000</td>\n      <td>320.000000</td>\n      <td>450.000000</td>\n    </tr>\n  </tbody>\n</table>\n</div>"
     },
     "execution_count": 28,
     "metadata": {},
     "output_type": "execute_result"
    }
   ],
   "source": [
    "df.describe()"
   ],
   "metadata": {
    "collapsed": false,
    "ExecuteTime": {
     "start_time": "2024-09-20T20:17:52.463803Z",
     "end_time": "2024-09-20T20:17:52.744096Z"
    }
   }
  },
  {
   "cell_type": "markdown",
   "source": [
    "5) a) Count the number of items in a row\n",
    "   b) Count the number of itams in a column\n"
   ],
   "metadata": {
    "collapsed": false
   }
  },
  {
   "cell_type": "code",
   "execution_count": 32,
   "outputs": [
    {
     "name": "stdout",
     "output_type": "stream",
     "text": [
      "Count of sales data along products (axis=0):\n",
      "Earphones     5\n",
      "Laptop        5\n",
      "Cell Phone    5\n",
      "Power Bank    5\n",
      "dtype: int64\n",
      "\n",
      "Count of sales data along weeks (axis=1):\n",
      "Week 1    4\n",
      "Week 2    4\n",
      "Week 3    4\n",
      "Week 4    4\n",
      "Week 5    4\n",
      "dtype: int64\n"
     ]
    }
   ],
   "source": [
    "# Count along the columns (axis=0)\n",
    "df_count_axis0 = df.count(axis=0)\n",
    "print(\"Count of sales data along products (axis=0):\")\n",
    "print(df_count_axis0)\n",
    "\n",
    "# Count along the rows (axis=1)\n",
    "df_count_axis1 = df.count(axis=1)\n",
    "print(\"\\nCount of sales data along weeks (axis=1):\")\n",
    "print(df_count_axis1)"
   ],
   "metadata": {
    "collapsed": false,
    "ExecuteTime": {
     "start_time": "2024-09-20T20:24:20.105660Z",
     "end_time": "2024-09-20T20:24:20.154747Z"
    }
   }
  },
  {
   "cell_type": "markdown",
   "source": [
    "### Grouping\n",
    "\n",
    "First consider the dataframe df"
   ],
   "metadata": {
    "collapsed": false
   }
  },
  {
   "cell_type": "code",
   "source": [
    "import pandas as pd\n",
    "import numpy as np\n",
    "\n",
    "# Original data with computer-related products\n",
    "data = {\n",
    "    'productName': ['Laptop', 'Monitor', 'Mouse', 'Keyboard', 'External Hard Drive'] * 4,\n",
    "    'week': [1, 1, 1, 1, 1, 2, 2, 2, 2, 2, 3, 3, 3, 3, 3, 4, 4, 4, 4, 4],\n",
    "    'amount_sold': [120, 80, 50, 40, 90, 130, 85, 60, 55, 95, 125, 90, 70, 45, 100, 140, 100, 65, 50, 110],\n",
    "    'price': [999.99, 199.99, 25.99, 49.99, 79.99, 999.99, 199.99, 25.99, 49.99, 79.99, 999.99, 199.99, 25.99, 49.99, 79.99, 999.99, 199.99, 25.99, 49.99, 79.99]\n",
    "}\n",
    "\n",
    "# Additional data\n",
    "additional_data = {\n",
    "    'productName': ['Graphics Card', 'Gaming Chair', 'Headset', 'Webcam', 'Router'] * 4,\n",
    "    'week': [1, 1, 1, 1, 1, 2, 2, 2, 2, 2, 3, 3, 3, 3, 3, 4, 4, 4, 4, 4],\n",
    "    'amount_sold': [30, 15, 60, 25, 45, 50, 20, 75, 35, 40, 60, 25, 80, 30, 50, 65, 35, 85, 40, 55],\n",
    "    'price': [599.99, 150.99, 49.99, 89.99, 129.99, 599.99, 150.99, 49.99, 89.99, 129.99, 599.99, 150.99, 49.99, 89.99, 129.99, 599.99, 150.99, 49.99, 89.99, 129.99]\n",
    "}\n",
    "\n",
    "# Creating DataFrames\n",
    "df_computer = pd.DataFrame(data)\n",
    "df_additional = pd.DataFrame(additional_data)\n",
    "\n",
    "# Concatenating the new data with the existing DataFrame\n",
    "df_combined = pd.concat([df_computer, df_additional], ignore_index=True)\n",
    "\n",
    "# Shuffling the rows of the combined DataFrame\n",
    "df = df_combined.sample(frac=1).reset_index(drop=True)\n",
    "\n",
    "# Displaying the shuffled DataFrame\n",
    "df.count(axis=0)\n",
    "\n"
   ],
   "metadata": {
    "collapsed": false,
    "ExecuteTime": {
     "end_time": "2024-10-13T18:29:13.073366Z",
     "start_time": "2024-10-13T18:29:13.017312Z"
    }
   },
   "outputs": [
    {
     "data": {
      "text/plain": [
       "productName    40\n",
       "week           40\n",
       "amount_sold    40\n",
       "price          40\n",
       "dtype: int64"
      ]
     },
     "execution_count": 2,
     "metadata": {},
     "output_type": "execute_result"
    }
   ],
   "execution_count": 2
  },
  {
   "cell_type": "markdown",
   "source": [
    "6) a) Calculate the total number of units sold for each product across all weeks.\n",
    "   b) Calculate the average price for each product.\n",
    "   c) Calculate the total revenue for each week."
   ],
   "metadata": {
    "collapsed": false
   }
  },
  {
   "cell_type": "code",
   "execution_count": 55,
   "outputs": [
    {
     "name": "stdout",
     "output_type": "stream",
     "text": [
      "productName\n",
      "External Hard Drive    395\n",
      "Gaming Chair            95\n",
      "Graphics Card          205\n",
      "Headset                300\n",
      "Keyboard               190\n",
      "Laptop                 515\n",
      "Monitor                355\n",
      "Mouse                  245\n",
      "Router                 190\n",
      "Webcam                 130\n",
      "Name: amount_sold, dtype: int64\n",
      "productName\n",
      "External Hard Drive     79.99\n",
      "Gaming Chair           150.99\n",
      "Graphics Card          599.99\n",
      "Headset                 49.99\n",
      "Keyboard                49.99\n",
      "Laptop                 999.99\n",
      "Monitor                199.99\n",
      "Mouse                   25.99\n",
      "Router                 129.99\n",
      "Webcam                  89.99\n",
      "Name: price, dtype: float64\n",
      "week\n",
      "1    177859.45\n",
      "2    204023.55\n",
      "3    208038.25\n",
      "4    232267.55\n",
      "Name: revenue, dtype: float64\n"
     ]
    }
   ],
   "source": [
    "# Grouping by productName to calculate total units sold per product\n",
    "df_total_units_sold = df.groupby('productName')['amount_sold'].sum()\n",
    "print(df_total_units_sold)\n",
    "# Grouping by productName to calculate average price\n",
    "df_avg_price = df.groupby('productName')['price'].mean()\n",
    "print(df_avg_price)\n",
    "# Creating a new column for revenue\n",
    "df['revenue'] = df['amount_sold'] * df['price']\n",
    "\n",
    "# Grouping by week to calculate total revenue per week\n",
    "df_weekly_revenue = df.groupby('week')['revenue'].sum()\n",
    "print(df_weekly_revenue)\n"
   ],
   "metadata": {
    "collapsed": false,
    "ExecuteTime": {
     "start_time": "2024-09-20T22:14:54.792504Z",
     "end_time": "2024-09-20T22:14:54.796806Z"
    }
   }
  },
  {
   "cell_type": "markdown",
   "source": [
    "7) Find the product that sold the most units in each week.\n",
    "--> stopped here"
   ],
   "metadata": {
    "collapsed": false
   }
  },
  {
   "cell_type": "code",
   "execution_count": 56,
   "outputs": [
    {
     "name": "stdout",
     "output_type": "stream",
     "text": [
      "    week productName  amount_sold\n",
      "6      1      Laptop          120\n",
      "31     2      Laptop          130\n",
      "4      3      Laptop          125\n",
      "26     4      Laptop          140\n"
     ]
    }
   ],
   "source": [
    "# Grouping by week to find the product with the maximum amount sold\n",
    "df_max_sold_per_week = df.loc[df.groupby('week')['amount_sold'].idxmax()]\n",
    "print(df_max_sold_per_week[['week', 'productName', 'amount_sold']])\n"
   ],
   "metadata": {
    "collapsed": false,
    "ExecuteTime": {
     "start_time": "2024-09-20T22:14:56.164183Z",
     "end_time": "2024-09-20T22:14:56.170037Z"
    }
   }
  },
  {
   "cell_type": "markdown",
   "source": [
    "8) Calculate the average number of units sold per product."
   ],
   "metadata": {
    "collapsed": false
   }
  },
  {
   "cell_type": "code",
   "execution_count": 57,
   "outputs": [
    {
     "name": "stdout",
     "output_type": "stream",
     "text": [
      "productName\n",
      "External Hard Drive     98.75\n",
      "Gaming Chair            23.75\n",
      "Graphics Card           51.25\n",
      "Headset                 75.00\n",
      "Keyboard                47.50\n",
      "Laptop                 128.75\n",
      "Monitor                 88.75\n",
      "Mouse                   61.25\n",
      "Router                  47.50\n",
      "Webcam                  32.50\n",
      "Name: amount_sold, dtype: float64\n"
     ]
    }
   ],
   "source": [
    "# Grouping by productName to calculate average amount sold per product p\n",
    "df_avg_sold_per_product = df.groupby(['productName'])['amount_sold'].mean()\n",
    "print(df_avg_sold_per_product)\n"
   ],
   "metadata": {
    "collapsed": false,
    "ExecuteTime": {
     "start_time": "2024-09-20T22:14:57.395588Z",
     "end_time": "2024-09-20T22:14:58.199445Z"
    }
   }
  },
  {
   "cell_type": "markdown",
   "source": [
    "9) For each product provide a list of the minimum amount sold, the average and the maximum amount sold\n",
    "\n"
   ],
   "metadata": {
    "collapsed": false
   }
  },
  {
   "cell_type": "code",
   "execution_count": 58,
   "outputs": [
    {
     "name": "stderr",
     "output_type": "stream",
     "text": [
      "/var/folders/2y/4q624pwd7wn36n4jgtmmz8l80000gn/T/ipykernel_50493/3597232771.py:1: FutureWarning: The provided callable <function mean at 0x118fd72e0> is currently using SeriesGroupBy.mean. In a future version of pandas, the provided callable will be used directly. To keep current behavior pass the string \"mean\" instead.\n",
      "  df[['productName','amount_sold']].groupby('productName').aggregate(['min', np.mean, 'max'])\n"
     ]
    },
    {
     "data": {
      "text/plain": "                    amount_sold             \n                            min    mean  max\nproductName                                 \nExternal Hard Drive          90   98.75  110\nGaming Chair                 15   23.75   35\nGraphics Card                30   51.25   65\nHeadset                      60   75.00   85\nKeyboard                     40   47.50   55\nLaptop                      120  128.75  140\nMonitor                      80   88.75  100\nMouse                        50   61.25   70\nRouter                       40   47.50   55\nWebcam                       25   32.50   40",
      "text/html": "<div>\n<style scoped>\n    .dataframe tbody tr th:only-of-type {\n        vertical-align: middle;\n    }\n\n    .dataframe tbody tr th {\n        vertical-align: top;\n    }\n\n    .dataframe thead tr th {\n        text-align: left;\n    }\n\n    .dataframe thead tr:last-of-type th {\n        text-align: right;\n    }\n</style>\n<table border=\"1\" class=\"dataframe\">\n  <thead>\n    <tr>\n      <th></th>\n      <th colspan=\"3\" halign=\"left\">amount_sold</th>\n    </tr>\n    <tr>\n      <th></th>\n      <th>min</th>\n      <th>mean</th>\n      <th>max</th>\n    </tr>\n    <tr>\n      <th>productName</th>\n      <th></th>\n      <th></th>\n      <th></th>\n    </tr>\n  </thead>\n  <tbody>\n    <tr>\n      <th>External Hard Drive</th>\n      <td>90</td>\n      <td>98.75</td>\n      <td>110</td>\n    </tr>\n    <tr>\n      <th>Gaming Chair</th>\n      <td>15</td>\n      <td>23.75</td>\n      <td>35</td>\n    </tr>\n    <tr>\n      <th>Graphics Card</th>\n      <td>30</td>\n      <td>51.25</td>\n      <td>65</td>\n    </tr>\n    <tr>\n      <th>Headset</th>\n      <td>60</td>\n      <td>75.00</td>\n      <td>85</td>\n    </tr>\n    <tr>\n      <th>Keyboard</th>\n      <td>40</td>\n      <td>47.50</td>\n      <td>55</td>\n    </tr>\n    <tr>\n      <th>Laptop</th>\n      <td>120</td>\n      <td>128.75</td>\n      <td>140</td>\n    </tr>\n    <tr>\n      <th>Monitor</th>\n      <td>80</td>\n      <td>88.75</td>\n      <td>100</td>\n    </tr>\n    <tr>\n      <th>Mouse</th>\n      <td>50</td>\n      <td>61.25</td>\n      <td>70</td>\n    </tr>\n    <tr>\n      <th>Router</th>\n      <td>40</td>\n      <td>47.50</td>\n      <td>55</td>\n    </tr>\n    <tr>\n      <th>Webcam</th>\n      <td>25</td>\n      <td>32.50</td>\n      <td>40</td>\n    </tr>\n  </tbody>\n</table>\n</div>"
     },
     "execution_count": 58,
     "metadata": {},
     "output_type": "execute_result"
    }
   ],
   "source": [
    "df[['productName','amount_sold']].groupby('productName').aggregate(['min', np.mean, 'max'])"
   ],
   "metadata": {
    "collapsed": false,
    "ExecuteTime": {
     "start_time": "2024-09-20T22:14:59.596079Z",
     "end_time": "2024-09-20T22:14:59.658669Z"
    }
   }
  },
  {
   "cell_type": "markdown",
   "source": [
    "10) Provide a table with the productnames and the minimum price for that product the total amount sold and the total revenue for that product"
   ],
   "metadata": {
    "collapsed": false
   }
  },
  {
   "cell_type": "code",
   "execution_count": 63,
   "outputs": [
    {
     "data": {
      "text/plain": "                      price  amount_sold    revenue\nproductName                                        \nExternal Hard Drive   79.99          395   31596.05\nGaming Chair         150.99           95   14344.05\nGraphics Card        599.99          205  122997.95\nHeadset               49.99          300   14997.00\nKeyboard              49.99          190    9498.10\nLaptop               999.99          515  514994.85\nMonitor              199.99          355   70996.45\nMouse                 25.99          245    6367.55\nRouter               129.99          190   24698.10\nWebcam                89.99          130   11698.70",
      "text/html": "<div>\n<style scoped>\n    .dataframe tbody tr th:only-of-type {\n        vertical-align: middle;\n    }\n\n    .dataframe tbody tr th {\n        vertical-align: top;\n    }\n\n    .dataframe thead th {\n        text-align: right;\n    }\n</style>\n<table border=\"1\" class=\"dataframe\">\n  <thead>\n    <tr style=\"text-align: right;\">\n      <th></th>\n      <th>price</th>\n      <th>amount_sold</th>\n      <th>revenue</th>\n    </tr>\n    <tr>\n      <th>productName</th>\n      <th></th>\n      <th></th>\n      <th></th>\n    </tr>\n  </thead>\n  <tbody>\n    <tr>\n      <th>External Hard Drive</th>\n      <td>79.99</td>\n      <td>395</td>\n      <td>31596.05</td>\n    </tr>\n    <tr>\n      <th>Gaming Chair</th>\n      <td>150.99</td>\n      <td>95</td>\n      <td>14344.05</td>\n    </tr>\n    <tr>\n      <th>Graphics Card</th>\n      <td>599.99</td>\n      <td>205</td>\n      <td>122997.95</td>\n    </tr>\n    <tr>\n      <th>Headset</th>\n      <td>49.99</td>\n      <td>300</td>\n      <td>14997.00</td>\n    </tr>\n    <tr>\n      <th>Keyboard</th>\n      <td>49.99</td>\n      <td>190</td>\n      <td>9498.10</td>\n    </tr>\n    <tr>\n      <th>Laptop</th>\n      <td>999.99</td>\n      <td>515</td>\n      <td>514994.85</td>\n    </tr>\n    <tr>\n      <th>Monitor</th>\n      <td>199.99</td>\n      <td>355</td>\n      <td>70996.45</td>\n    </tr>\n    <tr>\n      <th>Mouse</th>\n      <td>25.99</td>\n      <td>245</td>\n      <td>6367.55</td>\n    </tr>\n    <tr>\n      <th>Router</th>\n      <td>129.99</td>\n      <td>190</td>\n      <td>24698.10</td>\n    </tr>\n    <tr>\n      <th>Webcam</th>\n      <td>89.99</td>\n      <td>130</td>\n      <td>11698.70</td>\n    </tr>\n  </tbody>\n</table>\n</div>"
     },
     "execution_count": 63,
     "metadata": {},
     "output_type": "execute_result"
    }
   ],
   "source": [
    "df.groupby('productName').aggregate({'price':'min',\n",
    "                                     'amount_sold':'sum',\n",
    "                                     'revenue':'sum'}\n",
    "                                     )"
   ],
   "metadata": {
    "collapsed": false,
    "ExecuteTime": {
     "start_time": "2024-09-20T22:17:34.870317Z",
     "end_time": "2024-09-20T22:17:34.879237Z"
    }
   }
  },
  {
   "cell_type": "markdown",
   "source": [
    "11) Only show the productnames which have  sold less than 150 in total over all the dataset and show also the amount_sold in total"
   ],
   "metadata": {
    "collapsed": false
   }
  },
  {
   "cell_type": "code",
   "execution_count": 90,
   "outputs": [
    {
     "data": {
      "text/plain": "              amount_sold\nproductName              \nGaming Chair           95\nWebcam                130",
      "text/html": "<div>\n<style scoped>\n    .dataframe tbody tr th:only-of-type {\n        vertical-align: middle;\n    }\n\n    .dataframe tbody tr th {\n        vertical-align: top;\n    }\n\n    .dataframe thead th {\n        text-align: right;\n    }\n</style>\n<table border=\"1\" class=\"dataframe\">\n  <thead>\n    <tr style=\"text-align: right;\">\n      <th></th>\n      <th>amount_sold</th>\n    </tr>\n    <tr>\n      <th>productName</th>\n      <th></th>\n    </tr>\n  </thead>\n  <tbody>\n    <tr>\n      <th>Gaming Chair</th>\n      <td>95</td>\n    </tr>\n    <tr>\n      <th>Webcam</th>\n      <td>130</td>\n    </tr>\n  </tbody>\n</table>\n</div>"
     },
     "metadata": {},
     "output_type": "display_data"
    }
   ],
   "source": [
    "\n",
    "  def filter_func(x):\n",
    "    return x['amount_sold'].sum() < 150\n",
    "\n",
    "display(df.groupby('productName').filter(filter_func).groupby('productName').aggregate({'amount_sold':'sum'}))"
   ],
   "metadata": {
    "collapsed": false,
    "ExecuteTime": {
     "start_time": "2024-09-20T22:40:17.474224Z",
     "end_time": "2024-09-20T22:40:17.487134Z"
    }
   }
  },
  {
   "cell_type": "markdown",
   "source": [
    "12) For each product calculate the total revenue, based on the price of the product and the total_amount sold.\n"
   ],
   "metadata": {
    "collapsed": false
   }
  },
  {
   "cell_type": "code",
   "source": [
    "\n",
    "def f_revenue(x):\n",
    "    # x is a DataFrame of group values\n",
    "    x['revenue'] = sum(x['price']*x['amount_sold'])\n",
    "    return x\n",
    "\n",
    "display(df.groupby('productName').apply(f_revenue).drop(columns=['week','amount_sold','price','productName']))\n",
    "# df"
   ],
   "metadata": {
    "collapsed": false,
    "ExecuteTime": {
     "end_time": "2024-10-13T18:30:21.893783Z",
     "start_time": "2024-10-13T18:30:21.851365Z"
    }
   },
   "outputs": [
    {
     "name": "stderr",
     "output_type": "stream",
     "text": [
      "/tmp/ipykernel_48323/2704165168.py:6: DeprecationWarning: DataFrameGroupBy.apply operated on the grouping columns. This behavior is deprecated, and in a future version of pandas the grouping columns will be excluded from the operation. Either pass `include_groups=False` to exclude the groupings or explicitly select the grouping columns after groupby to silence this warning.\n",
      "  display(df.groupby('productName').apply(f_revenue).drop(columns=['week','amount_sold','price','productName']))\n"
     ]
    },
    {
     "data": {
      "text/plain": [
       "                          revenue\n",
       "productName                      \n",
       "External Hard Drive 9    31596.05\n",
       "                    24   31596.05\n",
       "                    25   31596.05\n",
       "                    35   31596.05\n",
       "Gaming Chair        15   14344.05\n",
       "                    28   14344.05\n",
       "                    31   14344.05\n",
       "                    36   14344.05\n",
       "Graphics Card       2   122997.95\n",
       "                    13  122997.95\n",
       "                    18  122997.95\n",
       "                    37  122997.95\n",
       "Headset             4    14997.00\n",
       "                    23   14997.00\n",
       "                    27   14997.00\n",
       "                    30   14997.00\n",
       "Keyboard            6     9498.10\n",
       "                    7     9498.10\n",
       "                    20    9498.10\n",
       "                    32    9498.10\n",
       "Laptop              0   514994.85\n",
       "                    10  514994.85\n",
       "                    29  514994.85\n",
       "                    34  514994.85\n",
       "Monitor             5    70996.45\n",
       "                    12   70996.45\n",
       "                    16   70996.45\n",
       "                    17   70996.45\n",
       "Mouse               19    6367.55\n",
       "                    21    6367.55\n",
       "                    22    6367.55\n",
       "                    33    6367.55\n",
       "Router              1    24698.10\n",
       "                    8    24698.10\n",
       "                    14   24698.10\n",
       "                    26   24698.10\n",
       "Webcam              3    11698.70\n",
       "                    11   11698.70\n",
       "                    38   11698.70\n",
       "                    39   11698.70"
      ],
      "text/html": [
       "<div>\n",
       "<style scoped>\n",
       "    .dataframe tbody tr th:only-of-type {\n",
       "        vertical-align: middle;\n",
       "    }\n",
       "\n",
       "    .dataframe tbody tr th {\n",
       "        vertical-align: top;\n",
       "    }\n",
       "\n",
       "    .dataframe thead th {\n",
       "        text-align: right;\n",
       "    }\n",
       "</style>\n",
       "<table border=\"1\" class=\"dataframe\">\n",
       "  <thead>\n",
       "    <tr style=\"text-align: right;\">\n",
       "      <th></th>\n",
       "      <th></th>\n",
       "      <th>revenue</th>\n",
       "    </tr>\n",
       "    <tr>\n",
       "      <th>productName</th>\n",
       "      <th></th>\n",
       "      <th></th>\n",
       "    </tr>\n",
       "  </thead>\n",
       "  <tbody>\n",
       "    <tr>\n",
       "      <th rowspan=\"4\" valign=\"top\">External Hard Drive</th>\n",
       "      <th>9</th>\n",
       "      <td>31596.05</td>\n",
       "    </tr>\n",
       "    <tr>\n",
       "      <th>24</th>\n",
       "      <td>31596.05</td>\n",
       "    </tr>\n",
       "    <tr>\n",
       "      <th>25</th>\n",
       "      <td>31596.05</td>\n",
       "    </tr>\n",
       "    <tr>\n",
       "      <th>35</th>\n",
       "      <td>31596.05</td>\n",
       "    </tr>\n",
       "    <tr>\n",
       "      <th rowspan=\"4\" valign=\"top\">Gaming Chair</th>\n",
       "      <th>15</th>\n",
       "      <td>14344.05</td>\n",
       "    </tr>\n",
       "    <tr>\n",
       "      <th>28</th>\n",
       "      <td>14344.05</td>\n",
       "    </tr>\n",
       "    <tr>\n",
       "      <th>31</th>\n",
       "      <td>14344.05</td>\n",
       "    </tr>\n",
       "    <tr>\n",
       "      <th>36</th>\n",
       "      <td>14344.05</td>\n",
       "    </tr>\n",
       "    <tr>\n",
       "      <th rowspan=\"4\" valign=\"top\">Graphics Card</th>\n",
       "      <th>2</th>\n",
       "      <td>122997.95</td>\n",
       "    </tr>\n",
       "    <tr>\n",
       "      <th>13</th>\n",
       "      <td>122997.95</td>\n",
       "    </tr>\n",
       "    <tr>\n",
       "      <th>18</th>\n",
       "      <td>122997.95</td>\n",
       "    </tr>\n",
       "    <tr>\n",
       "      <th>37</th>\n",
       "      <td>122997.95</td>\n",
       "    </tr>\n",
       "    <tr>\n",
       "      <th rowspan=\"4\" valign=\"top\">Headset</th>\n",
       "      <th>4</th>\n",
       "      <td>14997.00</td>\n",
       "    </tr>\n",
       "    <tr>\n",
       "      <th>23</th>\n",
       "      <td>14997.00</td>\n",
       "    </tr>\n",
       "    <tr>\n",
       "      <th>27</th>\n",
       "      <td>14997.00</td>\n",
       "    </tr>\n",
       "    <tr>\n",
       "      <th>30</th>\n",
       "      <td>14997.00</td>\n",
       "    </tr>\n",
       "    <tr>\n",
       "      <th rowspan=\"4\" valign=\"top\">Keyboard</th>\n",
       "      <th>6</th>\n",
       "      <td>9498.10</td>\n",
       "    </tr>\n",
       "    <tr>\n",
       "      <th>7</th>\n",
       "      <td>9498.10</td>\n",
       "    </tr>\n",
       "    <tr>\n",
       "      <th>20</th>\n",
       "      <td>9498.10</td>\n",
       "    </tr>\n",
       "    <tr>\n",
       "      <th>32</th>\n",
       "      <td>9498.10</td>\n",
       "    </tr>\n",
       "    <tr>\n",
       "      <th rowspan=\"4\" valign=\"top\">Laptop</th>\n",
       "      <th>0</th>\n",
       "      <td>514994.85</td>\n",
       "    </tr>\n",
       "    <tr>\n",
       "      <th>10</th>\n",
       "      <td>514994.85</td>\n",
       "    </tr>\n",
       "    <tr>\n",
       "      <th>29</th>\n",
       "      <td>514994.85</td>\n",
       "    </tr>\n",
       "    <tr>\n",
       "      <th>34</th>\n",
       "      <td>514994.85</td>\n",
       "    </tr>\n",
       "    <tr>\n",
       "      <th rowspan=\"4\" valign=\"top\">Monitor</th>\n",
       "      <th>5</th>\n",
       "      <td>70996.45</td>\n",
       "    </tr>\n",
       "    <tr>\n",
       "      <th>12</th>\n",
       "      <td>70996.45</td>\n",
       "    </tr>\n",
       "    <tr>\n",
       "      <th>16</th>\n",
       "      <td>70996.45</td>\n",
       "    </tr>\n",
       "    <tr>\n",
       "      <th>17</th>\n",
       "      <td>70996.45</td>\n",
       "    </tr>\n",
       "    <tr>\n",
       "      <th rowspan=\"4\" valign=\"top\">Mouse</th>\n",
       "      <th>19</th>\n",
       "      <td>6367.55</td>\n",
       "    </tr>\n",
       "    <tr>\n",
       "      <th>21</th>\n",
       "      <td>6367.55</td>\n",
       "    </tr>\n",
       "    <tr>\n",
       "      <th>22</th>\n",
       "      <td>6367.55</td>\n",
       "    </tr>\n",
       "    <tr>\n",
       "      <th>33</th>\n",
       "      <td>6367.55</td>\n",
       "    </tr>\n",
       "    <tr>\n",
       "      <th rowspan=\"4\" valign=\"top\">Router</th>\n",
       "      <th>1</th>\n",
       "      <td>24698.10</td>\n",
       "    </tr>\n",
       "    <tr>\n",
       "      <th>8</th>\n",
       "      <td>24698.10</td>\n",
       "    </tr>\n",
       "    <tr>\n",
       "      <th>14</th>\n",
       "      <td>24698.10</td>\n",
       "    </tr>\n",
       "    <tr>\n",
       "      <th>26</th>\n",
       "      <td>24698.10</td>\n",
       "    </tr>\n",
       "    <tr>\n",
       "      <th rowspan=\"4\" valign=\"top\">Webcam</th>\n",
       "      <th>3</th>\n",
       "      <td>11698.70</td>\n",
       "    </tr>\n",
       "    <tr>\n",
       "      <th>11</th>\n",
       "      <td>11698.70</td>\n",
       "    </tr>\n",
       "    <tr>\n",
       "      <th>38</th>\n",
       "      <td>11698.70</td>\n",
       "    </tr>\n",
       "    <tr>\n",
       "      <th>39</th>\n",
       "      <td>11698.70</td>\n",
       "    </tr>\n",
       "  </tbody>\n",
       "</table>\n",
       "</div>"
      ]
     },
     "metadata": {},
     "output_type": "display_data"
    }
   ],
   "execution_count": 8
  },
  {
   "cell_type": "code",
   "execution_count": null,
   "outputs": [],
   "source": [],
   "metadata": {
    "collapsed": false
   }
  }
 ],
 "metadata": {
  "kernelspec": {
   "display_name": "Python 3",
   "language": "python",
   "name": "python3"
  },
  "language_info": {
   "codemirror_mode": {
    "name": "ipython",
    "version": 2
   },
   "file_extension": ".py",
   "mimetype": "text/x-python",
   "name": "python",
   "nbconvert_exporter": "python",
   "pygments_lexer": "ipython2",
   "version": "2.7.6"
  }
 },
 "nbformat": 4,
 "nbformat_minor": 0
}
