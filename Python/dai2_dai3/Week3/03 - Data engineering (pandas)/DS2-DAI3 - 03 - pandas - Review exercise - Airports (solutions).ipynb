{
 "cells": [
  {
   "cell_type": "markdown",
   "source": [
    "# Oplossingen Airports"
   ],
   "metadata": {
    "collapsed": false
   }
  },
  {
   "cell_type": "markdown",
   "source": [
    "Import all necessary libraries here:"
   ],
   "metadata": {
    "collapsed": false
   }
  },
  {
   "cell_type": "code",
   "execution_count": 1,
   "metadata": {
    "ExecuteTime": {
     "end_time": "2024-09-27T12:20:31.608439500Z",
     "start_time": "2024-09-27T12:20:31.584964900Z"
    }
   },
   "outputs": [],
   "source": [
    "#SOLUTION_START\n",
    "import pandas as pd\n",
    "#SOLUTION_END"
   ]
  },
  {
   "cell_type": "markdown",
   "metadata": {},
   "source": [
    "Read the following CSV files with the delay data of American airlines into two DataFrames. You can find this data at the following URLs:\n",
    "\n",
    "- https://raw.githubusercontent.com/nickdcox/learn-airline-delays/main/delays_2018.csv (name this dataframe `delays2018`)\n",
    "- https://raw.githubusercontent.com/nickdcox/learn-airline-delays/main/delays_2019.csv (name this dataframe `delays2019`)\n",
    "\n",
    "You will find the following data:\n"
   ]
  },
  {
   "cell_type": "markdown",
   "source": [
    "```{text}\n",
    "            Column Name                                                                                           Description\n",
    "0                  date                                                   Year and month, in the format YYYY-M (e.g., 2018-1)\n",
    "1               carrier                                                 The two character designator for the carrier/airline.\n",
    "2          carrier_name                                                                 The full name of the carrier/airline.\n",
    "3               airport                                               The three character designator for the arrival airport.\n",
    "4          airport_name                                                                 The full name of the arrival airport.\n",
    "5           arr_flights            The total number of arriving flights for the carrier-airport pair for the month specified.\n",
    "6             arr_del15   The number of arriving flights that were delayed. Delayed is when a flight arrives more than 15 ...\n",
    "7            carrier_ct                                        The number of arriving flights delayed due to a carrier issue.\n",
    "8            weather_ct                                        The number of arriving flights delayed due to a weather issue.\n",
    "9                nas_ct                            The number of arriving flights delayed due to a national air system issue.\n",
    "10          security_ct                                      The number of arriving flights delayed due to a security issue.\n",
    "11     late_aircraft_ct                The number of arriving flights delayed due to an earlier late arrival of an aircraft.\n",
    "12        arr_cancelled                                                                     The number of cancelled flights.\n",
    "13         arr_diverted                                                                      The number of diverted flights.\n",
    "14            arr_delay                                                   The total number of delayed minutes due to delays.\n",
    "15        carrier_delay                                           The total number of delayed minutes due to carrier issues.\n",
    "16        weather_delay                                           The total number of delayed minutes due to weather issues.\n",
    "17            nas_delay                               The total number of delayed minutes due to national air system issues.\n",
    "18       security_delay                                          The total number of delayed minutes due to security issues.\n",
    "19  late_aircraft_delay                        The total number of delayed minutes due to earlier later arrival of aircraft.\n",
    "```"
   ],
   "metadata": {
    "collapsed": false
   }
  },
  {
   "cell_type": "code",
   "execution_count": 2,
   "metadata": {
    "ExecuteTime": {
     "end_time": "2024-09-27T12:20:31.808375800Z",
     "start_time": "2024-09-27T12:20:31.592729Z"
    }
   },
   "outputs": [
    {
     "name": "stdout",
     "output_type": "stream",
     "text": [
      "<class 'pandas.core.frame.DataFrame'>\n",
      "RangeIndex: 20231 entries, 0 to 20230\n",
      "Data columns (total 20 columns):\n",
      " #   Column               Non-Null Count  Dtype  \n",
      "---  ------               --------------  -----  \n",
      " 0   date                 20231 non-null  object \n",
      " 1   carrier              20201 non-null  object \n",
      " 2   carrier_name         20201 non-null  object \n",
      " 3   airport              20212 non-null  object \n",
      " 4   airport_name         20212 non-null  object \n",
      " 5   arr_flights          20214 non-null  float64\n",
      " 6   arr_del15            20211 non-null  float64\n",
      " 7   carrier_ct           20214 non-null  float64\n",
      " 8   weather_ct           20214 non-null  float64\n",
      " 9   nas_ct               20214 non-null  float64\n",
      " 10  security_ct          20214 non-null  float64\n",
      " 11  late_aircraft_ct     20214 non-null  float64\n",
      " 12  arr_cancelled        20214 non-null  float64\n",
      " 13  arr_diverted         20214 non-null  float64\n",
      " 14  arr_delay            20214 non-null  float64\n",
      " 15  carrier_delay        20214 non-null  float64\n",
      " 16  weather_delay        20214 non-null  float64\n",
      " 17  nas_delay            20214 non-null  float64\n",
      " 18  security_delay       20214 non-null  float64\n",
      " 19  late_aircraft_delay  20214 non-null  float64\n",
      "dtypes: float64(15), object(5)\n",
      "memory usage: 3.1+ MB\n"
     ]
    }
   ],
   "source": [
    "#SOLUTION_START\n",
    "delays2018 = pd.read_csv(\"delays_2018.csv\", sep=\",\", decimal=\".\", header=0)\n",
    "delays2019 = pd.read_csv(\"delays_2019.csv\", sep=\",\", decimal=\".\", header=0)\n",
    "delays2018.info()\n",
    "#SOLUTION_END"
   ]
  },
  {
   "cell_type": "markdown",
   "metadata": {},
   "source": [
    "Concatenate the two dataframes into one dataframe named delays and then display the total number of rows. You can concatenate dataframes with the function pd.concat(). Create a new index when concatenating, which can be done with a specific parameter. In total, you should get 41177 rows. Verify that."
   ]
  },
  {
   "cell_type": "code",
   "execution_count": 3,
   "metadata": {
    "ExecuteTime": {
     "end_time": "2024-09-27T12:20:31.835706200Z",
     "start_time": "2024-09-27T12:20:31.789845Z"
    }
   },
   "outputs": [
    {
     "name": "stdout",
     "output_type": "stream",
     "text": [
      "         date carrier carrier_name airport  \\\n",
      "41172  2019-1      MQ    Envoy Air     RIC   \n",
      "41173  2019-1      MQ    Envoy Air     ROA   \n",
      "41174  2019-1      MQ    Envoy Air     ROC   \n",
      "41175  2019-1      MQ    Envoy Air     RST   \n",
      "41176  2019-1      MQ    Envoy Air     SAT   \n",
      "\n",
      "                                            airport_name  arr_flights  \\\n",
      "41172               Richmond, VA: Richmond International        195.0   \n",
      "41173  Roanoke, VA: Roanoke Blacksburg Regional Woodr...         52.0   \n",
      "41174     Rochester, NY: Greater Rochester International        106.0   \n",
      "41175             Rochester, MN: Rochester International        116.0   \n",
      "41176         San Antonio, TX: San Antonio International         26.0   \n",
      "\n",
      "       arr_del15  carrier_ct  weather_ct  nas_ct  security_ct  \\\n",
      "41172       68.0       12.12        1.87   17.97          0.0   \n",
      "41173       14.0        2.74        0.69    2.46          0.0   \n",
      "41174       26.0        4.67        2.26   11.81          0.0   \n",
      "41175       35.0        6.83        6.92   11.50          0.0   \n",
      "41176        4.0        1.16        0.64    1.92          0.0   \n",
      "\n",
      "       late_aircraft_ct  arr_cancelled  arr_diverted  arr_delay  \\\n",
      "41172             36.04           22.0           0.0     4138.0   \n",
      "41173              8.11            2.0           1.0      726.0   \n",
      "41174              7.26           17.0           0.0     1259.0   \n",
      "41175              9.75           22.0           0.0     2307.0   \n",
      "41176              0.29            5.0           0.0      120.0   \n",
      "\n",
      "       carrier_delay  weather_delay  nas_delay  security_delay  \\\n",
      "41172          603.0          196.0      780.0             0.0   \n",
      "41173          323.0           31.0      112.0             0.0   \n",
      "41174          313.0           99.0      484.0             0.0   \n",
      "41175          474.0          633.0      523.0             0.0   \n",
      "41176           50.0           14.0       41.0             0.0   \n",
      "\n",
      "       late_aircraft_delay  \n",
      "41172               2559.0  \n",
      "41173                260.0  \n",
      "41174                363.0  \n",
      "41175                677.0  \n",
      "41176                 15.0  \n",
      "41177\n"
     ]
    }
   ],
   "source": [
    "#SOLUTION_START\n",
    "delays = pd.concat([delays2018, delays2019], ignore_index=True)\n",
    "print(delays.tail())\n",
    "print(len(delays))\n",
    "#SOLUTION_END"
   ]
  },
  {
   "cell_type": "markdown",
   "metadata": {},
   "source": [
    "Remove all rows where one of the following conditions is met:\n",
    "* the airport has no arriving flights (missing value for arr_flights)\n",
    "* empty carrier or empty airports\n",
    "In total, you should now have 41097 rows left. Verify that."
   ]
  },
  {
   "cell_type": "code",
   "execution_count": 4,
   "metadata": {
    "ExecuteTime": {
     "end_time": "2024-09-27T12:20:31.890628700Z",
     "start_time": "2024-09-27T12:20:31.816394600Z"
    }
   },
   "outputs": [
    {
     "name": "stdout",
     "output_type": "stream",
     "text": [
      "Index([   27,    51,   119,   828,   829,   830,   831,   832,   833,   834,\n",
      "         835,   836,   837,  1102,  1103,  1104,  1105,  1106,  1107,  1428,\n",
      "        1676,  3332,  3359,  3372,  4033,  4034,  4035,  4036,  4037,  4038,\n",
      "        4039,  5395,  7126,  7127,  7771, 10681, 12341, 13840, 15086, 15101,\n",
      "       15189, 15734, 15735, 15736, 15737, 15738, 15739, 15740, 15741, 15742,\n",
      "       15743, 15744, 15745, 15746, 15747, 15748, 15749, 15750, 15751, 15752,\n",
      "       15753, 16181, 16254, 16263, 16319, 19073, 20411, 20694, 20881, 24524,\n",
      "       24965, 26086, 27338, 27381, 30019, 35458, 35467, 35491, 37165, 40325],\n",
      "      dtype='int64')\n"
     ]
    },
    {
     "data": {
      "text/plain": "41097"
     },
     "execution_count": 4,
     "metadata": {},
     "output_type": "execute_result"
    }
   ],
   "source": [
    "#SOLUTION_START\n",
    "lijnen = delays.arr_flights.isna() | delays.carrier.isna() | delays.airport.isna()\n",
    "lijn_nummers = lijnen.index[lijnen]\n",
    "print(lijn_nummers)\n",
    "delays.drop(lijn_nummers, inplace=True)\n",
    "len(delays)\n",
    "#SOLUTION_END"
   ]
  },
  {
   "cell_type": "markdown",
   "metadata": {},
   "source": [
    "Print a list of all airports located in \"Tennessee\". These airports have the letters \"TN:\" in their \"airport_name\". There should be 5 of them. Do not use a for loop but use a .str method."
   ]
  },
  {
   "cell_type": "code",
   "execution_count": 5,
   "metadata": {
    "ExecuteTime": {
     "end_time": "2024-09-27T12:20:31.892820900Z",
     "start_time": "2024-09-27T12:20:31.851219500Z"
    }
   },
   "outputs": [
    {
     "data": {
      "text/plain": "array(['BNA', 'MEM', 'CHA', 'TYS', 'TRI'], dtype=object)"
     },
     "execution_count": 5,
     "metadata": {},
     "output_type": "execute_result"
    }
   ],
   "source": [
    "#SOLUTION_START\n",
    "rijen = delays['airport_name'].str.contains(\"TN:\")\n",
    "delays['airport'][rijen].unique()\n",
    "#SOLUTION_END"
   ]
  },
  {
   "cell_type": "markdown",
   "metadata": {},
   "source": [
    "Import the coordinates file airport_coordinates.csv. This file contains the latitude and longitude of various American airports as well as their airport code."
   ]
  },
  {
   "cell_type": "code",
   "execution_count": 6,
   "metadata": {
    "ExecuteTime": {
     "end_time": "2024-09-27T12:20:31.975918400Z",
     "start_time": "2024-09-27T12:20:31.878944100Z"
    }
   },
   "outputs": [
    {
     "data": {
      "text/plain": "  airport        lat        long\n0     01A  58.109444 -152.906667\n1     03A  65.548056 -161.071667\n2     04A  68.083333 -163.166667\n3     05A  67.570000 -148.183889\n4     06A  57.745278 -152.882778",
      "text/html": "<div>\n<style scoped>\n    .dataframe tbody tr th:only-of-type {\n        vertical-align: middle;\n    }\n\n    .dataframe tbody tr th {\n        vertical-align: top;\n    }\n\n    .dataframe thead th {\n        text-align: right;\n    }\n</style>\n<table border=\"1\" class=\"dataframe\">\n  <thead>\n    <tr style=\"text-align: right;\">\n      <th></th>\n      <th>airport</th>\n      <th>lat</th>\n      <th>long</th>\n    </tr>\n  </thead>\n  <tbody>\n    <tr>\n      <th>0</th>\n      <td>01A</td>\n      <td>58.109444</td>\n      <td>-152.906667</td>\n    </tr>\n    <tr>\n      <th>1</th>\n      <td>03A</td>\n      <td>65.548056</td>\n      <td>-161.071667</td>\n    </tr>\n    <tr>\n      <th>2</th>\n      <td>04A</td>\n      <td>68.083333</td>\n      <td>-163.166667</td>\n    </tr>\n    <tr>\n      <th>3</th>\n      <td>05A</td>\n      <td>67.570000</td>\n      <td>-148.183889</td>\n    </tr>\n    <tr>\n      <th>4</th>\n      <td>06A</td>\n      <td>57.745278</td>\n      <td>-152.882778</td>\n    </tr>\n  </tbody>\n</table>\n</div>"
     },
     "execution_count": 6,
     "metadata": {},
     "output_type": "execute_result"
    }
   ],
   "source": [
    "#SOLUTION_START\n",
    "airports_coord = pd.read_csv(\"airport_coordinates.csv\", sep=\",\", decimal=\".\", header=0)\n",
    "airports_coord.head()\n",
    "#SOLUTION_END"
   ]
  },
  {
   "cell_type": "markdown",
   "metadata": {},
   "source": [
    "The following code is already provided. It creates a new dataframe named \"airports\" with a list of airports and their code (\"airport\" and \"airport_name\"). In this new dataframe, duplicates are removed. Then, the two dataframes are merged on the airport key using the \"merge\" method. The result is a table with \"airport\", \"airport_name\", \"lat\", and \"long\" as columns."
   ]
  },
  {
   "cell_type": "code",
   "execution_count": 7,
   "metadata": {
    "ExecuteTime": {
     "end_time": "2024-09-27T12:20:32.051577200Z",
     "start_time": "2024-09-27T12:20:31.916492Z"
    }
   },
   "outputs": [],
   "source": [
    "# keep\n",
    "airports = delays[['airport', 'airport_name']]\n",
    "airports = airports.drop_duplicates()\n",
    "result = airports.merge(airports_coord)"
   ]
  },
  {
   "cell_type": "markdown",
   "metadata": {},
   "source": [
    "Calculate the average latitude and longitude of all airports whose name starts with the letter 'B'. You can use the \"startswith()\" method of Series for this."
   ]
  },
  {
   "cell_type": "code",
   "execution_count": 8,
   "metadata": {
    "ExecuteTime": {
     "end_time": "2024-09-27T12:20:32.052683600Z",
     "start_time": "2024-09-27T12:20:31.950275500Z"
    }
   },
   "outputs": [
    {
     "name": "stdout",
     "output_type": "stream",
     "text": [
      "meanLat= 41.75543103413793\n",
      "leanLong= -100.07142720172413\n"
     ]
    }
   ],
   "source": [
    "#SOLUTION_START\n",
    "meanLat = result[result.airport_name.str.startswith('B')].lat.mean()\n",
    "print(\"meanLat=\", meanLat)\n",
    "meanLong = result[result.airport_name.str.startswith('B')].long.mean()\n",
    "print(\"leanLong=\", meanLong)\n",
    "#SOLUTION_END"
   ]
  },
  {
   "cell_type": "markdown",
   "source": [
    "Calculate the minimum and maximum values for latitude and longitude. Where are the airports located?"
   ],
   "metadata": {
    "collapsed": false
   }
  },
  {
   "cell_type": "code",
   "execution_count": 9,
   "outputs": [
    {
     "name": "stdout",
     "output_type": "stream",
     "text": [
      "17.70388889\n",
      "71.28555556\n",
      "-176.6447222\n",
      "-64.79888889\n"
     ]
    }
   ],
   "source": [
    "#SOLUTION_START\n",
    "minLat = result.lat.min()\n",
    "print(minLat)\n",
    "maxLat = result.lat.max()\n",
    "print(maxLat)\n",
    "minLong = result.long.min()\n",
    "print(minLong)\n",
    "maxLong = result.long.max()\n",
    "print(maxLong)\n",
    "# all airports are located in the USA\n",
    "#SOLUTION_END"
   ],
   "metadata": {
    "collapsed": false,
    "ExecuteTime": {
     "end_time": "2024-09-27T12:20:32.053687400Z",
     "start_time": "2024-09-27T12:20:31.962585600Z"
    }
   }
  },
  {
   "cell_type": "markdown",
   "source": [
    "Add a new column \"zone\" that indicates where the airport is located. There are four zones:  \n",
    "\"SW\": South-Western (lat < 44.48, long < -120.72)\n",
    "\"SE\": South-Eastern (lat < 44.48, long > -120.72)\n",
    "\"NW\": North-Western (lat > 44.48, long < -120.72)\n",
    "\"NE\": North-Eastern (lat > 44.48, long > -120.72) Use the abbreviations SW, SE, NW, and NE as values for the new column."
   ],
   "metadata": {
    "collapsed": false
   }
  },
  {
   "cell_type": "code",
   "outputs": [
    {
     "data": {
      "text/plain": "    airport                                    airport_name        lat  \\\n0       BIS         Bismarck/Mandan, ND: Bismarck Municipal  46.778889   \n1       BNA          Nashville, TN: Nashville International  36.126667   \n2       BOI                   Boise, ID: Boise Air Terminal  43.565278   \n3       BPT  Beaumont/Port Arthur, TX: Jack Brooks Regional  29.950833   \n4       BUF      Buffalo, NY: Buffalo Niagara International  42.941111   \n..      ...                                             ...        ...   \n355     PAE                   Everett, WA: Snohomish County  47.908333   \n356     ATY               Watertown, SD: Watertown Regional  44.908889   \n357     PIR                     Pierre, SD: Pierre Regional  44.383611   \n358     BFM                     Mobile, AL: Mobile Downtown  30.626389   \n359     XWA    Williston, ND: Williston Basin International  48.260833   \n\n           long zone  \n0   -100.752500   NE  \n1    -86.681944   SE  \n2   -116.225000   SE  \n3    -94.020000   SE  \n4    -78.736389   SE  \n..          ...  ...  \n355 -122.281389   NW  \n356  -97.154167   NE  \n357 -100.284167   SE  \n358  -88.068056   SE  \n359 -103.751111   NE  \n\n[360 rows x 5 columns]",
      "text/html": "<div>\n<style scoped>\n    .dataframe tbody tr th:only-of-type {\n        vertical-align: middle;\n    }\n\n    .dataframe tbody tr th {\n        vertical-align: top;\n    }\n\n    .dataframe thead th {\n        text-align: right;\n    }\n</style>\n<table border=\"1\" class=\"dataframe\">\n  <thead>\n    <tr style=\"text-align: right;\">\n      <th></th>\n      <th>airport</th>\n      <th>airport_name</th>\n      <th>lat</th>\n      <th>long</th>\n      <th>zone</th>\n    </tr>\n  </thead>\n  <tbody>\n    <tr>\n      <th>0</th>\n      <td>BIS</td>\n      <td>Bismarck/Mandan, ND: Bismarck Municipal</td>\n      <td>46.778889</td>\n      <td>-100.752500</td>\n      <td>NE</td>\n    </tr>\n    <tr>\n      <th>1</th>\n      <td>BNA</td>\n      <td>Nashville, TN: Nashville International</td>\n      <td>36.126667</td>\n      <td>-86.681944</td>\n      <td>SE</td>\n    </tr>\n    <tr>\n      <th>2</th>\n      <td>BOI</td>\n      <td>Boise, ID: Boise Air Terminal</td>\n      <td>43.565278</td>\n      <td>-116.225000</td>\n      <td>SE</td>\n    </tr>\n    <tr>\n      <th>3</th>\n      <td>BPT</td>\n      <td>Beaumont/Port Arthur, TX: Jack Brooks Regional</td>\n      <td>29.950833</td>\n      <td>-94.020000</td>\n      <td>SE</td>\n    </tr>\n    <tr>\n      <th>4</th>\n      <td>BUF</td>\n      <td>Buffalo, NY: Buffalo Niagara International</td>\n      <td>42.941111</td>\n      <td>-78.736389</td>\n      <td>SE</td>\n    </tr>\n    <tr>\n      <th>...</th>\n      <td>...</td>\n      <td>...</td>\n      <td>...</td>\n      <td>...</td>\n      <td>...</td>\n    </tr>\n    <tr>\n      <th>355</th>\n      <td>PAE</td>\n      <td>Everett, WA: Snohomish County</td>\n      <td>47.908333</td>\n      <td>-122.281389</td>\n      <td>NW</td>\n    </tr>\n    <tr>\n      <th>356</th>\n      <td>ATY</td>\n      <td>Watertown, SD: Watertown Regional</td>\n      <td>44.908889</td>\n      <td>-97.154167</td>\n      <td>NE</td>\n    </tr>\n    <tr>\n      <th>357</th>\n      <td>PIR</td>\n      <td>Pierre, SD: Pierre Regional</td>\n      <td>44.383611</td>\n      <td>-100.284167</td>\n      <td>SE</td>\n    </tr>\n    <tr>\n      <th>358</th>\n      <td>BFM</td>\n      <td>Mobile, AL: Mobile Downtown</td>\n      <td>30.626389</td>\n      <td>-88.068056</td>\n      <td>SE</td>\n    </tr>\n    <tr>\n      <th>359</th>\n      <td>XWA</td>\n      <td>Williston, ND: Williston Basin International</td>\n      <td>48.260833</td>\n      <td>-103.751111</td>\n      <td>NE</td>\n    </tr>\n  </tbody>\n</table>\n<p>360 rows × 5 columns</p>\n</div>"
     },
     "execution_count": 14,
     "metadata": {},
     "output_type": "execute_result"
    }
   ],
   "source": [
    "#SOLUTION_START\n",
    "result[\"zone\"] = \"NE\"\n",
    "result.loc[(result.lat < 44.48) & (result.long < -120.72), \"zone\"] = \"SW\"\n",
    "result.loc[(result.lat < 44.48) & (result.long > -120.72), \"zone\"] = \"SE\"\n",
    "result.loc[(result.lat > 44.48) & (result.long < -120.72), \"zone\"] = \"NW\"\n",
    "result\n",
    "#SOLUTION_END"
   ],
   "metadata": {
    "collapsed": false,
    "ExecuteTime": {
     "end_time": "2024-09-27T12:25:52.272193900Z",
     "start_time": "2024-09-27T12:25:52.237711100Z"
    }
   },
   "execution_count": 14
  },
  {
   "cell_type": "markdown",
   "source": [
    "Now calculate the average latitude and longitude per zone by using aggregation functions."
   ],
   "metadata": {
    "collapsed": false
   }
  },
  {
   "cell_type": "code",
   "execution_count": 13,
   "outputs": [
    {
     "data": {
      "text/plain": "            lat        long\nzone                       \nNE    46.268081  -97.159407\nNW    58.226944 -144.120507\nSE    36.603494  -90.931049\nSW    35.434575 -130.516993",
      "text/html": "<div>\n<style scoped>\n    .dataframe tbody tr th:only-of-type {\n        vertical-align: middle;\n    }\n\n    .dataframe tbody tr th {\n        vertical-align: top;\n    }\n\n    .dataframe thead th {\n        text-align: right;\n    }\n</style>\n<table border=\"1\" class=\"dataframe\">\n  <thead>\n    <tr style=\"text-align: right;\">\n      <th></th>\n      <th>lat</th>\n      <th>long</th>\n    </tr>\n    <tr>\n      <th>zone</th>\n      <th></th>\n      <th></th>\n    </tr>\n  </thead>\n  <tbody>\n    <tr>\n      <th>NE</th>\n      <td>46.268081</td>\n      <td>-97.159407</td>\n    </tr>\n    <tr>\n      <th>NW</th>\n      <td>58.226944</td>\n      <td>-144.120507</td>\n    </tr>\n    <tr>\n      <th>SE</th>\n      <td>36.603494</td>\n      <td>-90.931049</td>\n    </tr>\n    <tr>\n      <th>SW</th>\n      <td>35.434575</td>\n      <td>-130.516993</td>\n    </tr>\n  </tbody>\n</table>\n</div>"
     },
     "execution_count": 13,
     "metadata": {},
     "output_type": "execute_result"
    }
   ],
   "source": [
    "#SOLUTION_START\n",
    "result.groupby(\"zone\").aggregate({\"lat\": \"mean\", \"long\": \"mean\"})\n",
    "#SOLUTION_END"
   ],
   "metadata": {
    "collapsed": false,
    "ExecuteTime": {
     "end_time": "2024-09-27T12:23:56.146830100Z",
     "start_time": "2024-09-27T12:23:56.093561500Z"
    }
   }
  },
  {
   "cell_type": "code",
   "outputs": [],
   "source": [],
   "metadata": {
    "collapsed": false
   }
  }
 ],
 "metadata": {
  "kernelspec": {
   "display_name": "Python 3",
   "language": "python",
   "name": "python3"
  },
  "language_info": {
   "codemirror_mode": {
    "name": "ipython",
    "version": 3
   },
   "file_extension": ".py",
   "mimetype": "text/x-python",
   "name": "python",
   "nbconvert_exporter": "python",
   "pygments_lexer": "ipython3",
   "version": "3.8.7"
  },
  "toc": {
   "base_numbering": 1,
   "nav_menu": {},
   "number_sections": true,
   "sideBar": true,
   "skip_h1_title": false,
   "title_cell": "Table of Contents",
   "title_sidebar": "Contents",
   "toc_cell": false,
   "toc_position": {},
   "toc_section_display": true,
   "toc_window_display": false
  },
  "varInspector": {
   "cols": {
    "lenName": 16,
    "lenType": 16,
    "lenVar": 40
   },
   "kernels_config": {
    "python": {
     "delete_cmd_postfix": "",
     "delete_cmd_prefix": "del ",
     "library": "var_list.py",
     "varRefreshCmd": "print(var_dic_list())"
    },
    "r": {
     "delete_cmd_postfix": ") ",
     "delete_cmd_prefix": "rm(",
     "library": "var_list.r",
     "varRefreshCmd": "cat(var_dic_list()) "
    }
   },
   "types_to_exclude": [
    "module",
    "function",
    "builtin_function_or_method",
    "instance",
    "_Feature"
   ],
   "window_display": false
  }
 },
 "nbformat": 4,
 "nbformat_minor": 1
}
