{
 "cells": [
  {
   "cell_type": "markdown",
   "metadata": {
    "collapsed": false,
    "jupyter": {
     "outputs_hidden": false
    }
   },
   "source": [
    "## Strings methods and strings methods with regular expressions\n",
    "\n",
    "### Strings methods\n",
    "\n",
    "Besides the book also look at\n",
    "https://www.w3schools.com/python/python_strings_exercises.asp\n",
    "and for regular expressions\n",
    "https://www.w3schools.com/python/python_regex.asp\n",
    "\n",
    "First let's create a dataframe."
   ]
  },
  {
   "cell_type": "code",
   "metadata": {
    "collapsed": false,
    "jupyter": {
     "outputs_hidden": false
    },
    "ExecuteTime": {
     "end_time": "2024-10-14T18:53:50.317932Z",
     "start_time": "2024-10-14T18:53:49.538342Z"
    }
   },
   "source": [
    "import pandas as pd\n",
    "import re\n",
    "\n",
    "\n",
    "df=pd.Series(['Leonardo DiCaprio',\n",
    "'Meryl Streep',\n",
    "'Denzel Washington',\n",
    "'Scarlett Johansson',\n",
    "'  Kevin De Bruyne',\n",
    "'Natalie Portman',\n",
    "'Leonel Messi',\n",
    "' Tom Hanks ',\n",
    "'Angelina Jolie',\n",
    "'Christian Bale',\n",
    "' Kevin Bacon '              ],name=\"famous\")"
   ],
   "outputs": [],
   "execution_count": 2
  },
  {
   "cell_type": "markdown",
   "metadata": {
    "collapsed": false,
    "jupyter": {
     "outputs_hidden": false
    }
   },
   "source": [
    "1) In the list we have some blanks in the beginning and the end. Remove them. Call the Series df."
   ]
  },
  {
   "cell_type": "code",
   "metadata": {
    "collapsed": false,
    "jupyter": {
     "outputs_hidden": false
    },
    "ExecuteTime": {
     "end_time": "2024-10-14T18:53:50.977090Z",
     "start_time": "2024-10-14T18:53:50.970964Z"
    }
   },
   "source": "df = df.str.strip() # to remove blank spaces",
   "outputs": [],
   "execution_count": 3
  },
  {
   "cell_type": "markdown",
   "metadata": {
    "collapsed": false,
    "jupyter": {
     "outputs_hidden": false
    }
   },
   "source": [
    "2) Make a series with the len of all the actor names in it."
   ]
  },
  {
   "cell_type": "code",
   "metadata": {
    "collapsed": false,
    "jupyter": {
     "outputs_hidden": false
    },
    "ExecuteTime": {
     "end_time": "2024-10-14T19:17:14.280149Z",
     "start_time": "2024-10-14T19:17:14.271586Z"
    }
   },
   "source": [
    "# ser_length_names = pd.Series(df.str.split(' ')).iloc[:][0]\n",
    "# ser_length_names\n",
    "ser_length_names = pd.Series(df.str.len())\n",
    "ser_length_names"
   ],
   "outputs": [
    {
     "data": {
      "text/plain": [
       "0     17\n",
       "1     12\n",
       "2     17\n",
       "3     18\n",
       "4     15\n",
       "5     15\n",
       "6     12\n",
       "7      9\n",
       "8     14\n",
       "9     14\n",
       "10    11\n",
       "Name: famous, dtype: int64"
      ]
     },
     "execution_count": 18,
     "metadata": {},
     "output_type": "execute_result"
    }
   ],
   "execution_count": 18
  },
  {
   "cell_type": "markdown",
   "metadata": {
    "collapsed": false,
    "jupyter": {
     "outputs_hidden": false
    }
   },
   "source": [
    "3) Make a list which will transform all the actors name in lower case"
   ]
  },
  {
   "cell_type": "code",
   "metadata": {
    "collapsed": false,
    "jupyter": {
     "outputs_hidden": false
    },
    "ExecuteTime": {
     "end_time": "2024-10-14T19:19:57.636719Z",
     "start_time": "2024-10-14T19:19:57.624696Z"
    }
   },
   "source": [
    "lower_case_names = df.str.lower()\n",
    "lower_case_names"
   ],
   "outputs": [
    {
     "data": {
      "text/plain": [
       "0      leonardo dicaprio\n",
       "1           meryl streep\n",
       "2      denzel washington\n",
       "3     scarlett johansson\n",
       "4        kevin de bruyne\n",
       "5        natalie portman\n",
       "6           leonel messi\n",
       "7              tom hanks\n",
       "8         angelina jolie\n",
       "9         christian bale\n",
       "10           kevin bacon\n",
       "Name: famous, dtype: object"
      ]
     },
     "execution_count": 20,
     "metadata": {},
     "output_type": "execute_result"
    }
   ],
   "execution_count": 20
  },
  {
   "cell_type": "raw",
   "metadata": {
    "collapsed": false,
    "jupyter": {
     "outputs_hidden": false
    }
   },
   "source": [
    "4) a) Make a list which will transform all the actors names in upper case\n",
    "\n",
    "b) Create a dataframe withone column the names in uppercase and a second column with the length of the names and change also the column names\n"
   ]
  },
  {
   "cell_type": "code",
   "metadata": {
    "collapsed": false,
    "jupyter": {
     "outputs_hidden": false
    },
    "ExecuteTime": {
     "end_time": "2024-10-14T19:23:10.901078Z",
     "start_time": "2024-10-14T19:23:10.889163Z"
    }
   },
   "source": [
    "# uppercase_names = df.str.upper()\n",
    "# print(uppercase_names)\n",
    "\n",
    "df_uppercase_lengthNames = pd.DataFrame({'uppercaseName':df.str.upper(), 'lengthName':df.str.len()})\n",
    "df_uppercase_lengthNames"
   ],
   "outputs": [
    {
     "data": {
      "text/plain": [
       "         uppercaseName  lengthName\n",
       "0    LEONARDO DICAPRIO          17\n",
       "1         MERYL STREEP          12\n",
       "2    DENZEL WASHINGTON          17\n",
       "3   SCARLETT JOHANSSON          18\n",
       "4      KEVIN DE BRUYNE          15\n",
       "5      NATALIE PORTMAN          15\n",
       "6         LEONEL MESSI          12\n",
       "7            TOM HANKS           9\n",
       "8       ANGELINA JOLIE          14\n",
       "9       CHRISTIAN BALE          14\n",
       "10         KEVIN BACON          11"
      ],
      "text/html": [
       "<div>\n",
       "<style scoped>\n",
       "    .dataframe tbody tr th:only-of-type {\n",
       "        vertical-align: middle;\n",
       "    }\n",
       "\n",
       "    .dataframe tbody tr th {\n",
       "        vertical-align: top;\n",
       "    }\n",
       "\n",
       "    .dataframe thead th {\n",
       "        text-align: right;\n",
       "    }\n",
       "</style>\n",
       "<table border=\"1\" class=\"dataframe\">\n",
       "  <thead>\n",
       "    <tr style=\"text-align: right;\">\n",
       "      <th></th>\n",
       "      <th>uppercaseName</th>\n",
       "      <th>lengthName</th>\n",
       "    </tr>\n",
       "  </thead>\n",
       "  <tbody>\n",
       "    <tr>\n",
       "      <th>0</th>\n",
       "      <td>LEONARDO DICAPRIO</td>\n",
       "      <td>17</td>\n",
       "    </tr>\n",
       "    <tr>\n",
       "      <th>1</th>\n",
       "      <td>MERYL STREEP</td>\n",
       "      <td>12</td>\n",
       "    </tr>\n",
       "    <tr>\n",
       "      <th>2</th>\n",
       "      <td>DENZEL WASHINGTON</td>\n",
       "      <td>17</td>\n",
       "    </tr>\n",
       "    <tr>\n",
       "      <th>3</th>\n",
       "      <td>SCARLETT JOHANSSON</td>\n",
       "      <td>18</td>\n",
       "    </tr>\n",
       "    <tr>\n",
       "      <th>4</th>\n",
       "      <td>KEVIN DE BRUYNE</td>\n",
       "      <td>15</td>\n",
       "    </tr>\n",
       "    <tr>\n",
       "      <th>5</th>\n",
       "      <td>NATALIE PORTMAN</td>\n",
       "      <td>15</td>\n",
       "    </tr>\n",
       "    <tr>\n",
       "      <th>6</th>\n",
       "      <td>LEONEL MESSI</td>\n",
       "      <td>12</td>\n",
       "    </tr>\n",
       "    <tr>\n",
       "      <th>7</th>\n",
       "      <td>TOM HANKS</td>\n",
       "      <td>9</td>\n",
       "    </tr>\n",
       "    <tr>\n",
       "      <th>8</th>\n",
       "      <td>ANGELINA JOLIE</td>\n",
       "      <td>14</td>\n",
       "    </tr>\n",
       "    <tr>\n",
       "      <th>9</th>\n",
       "      <td>CHRISTIAN BALE</td>\n",
       "      <td>14</td>\n",
       "    </tr>\n",
       "    <tr>\n",
       "      <th>10</th>\n",
       "      <td>KEVIN BACON</td>\n",
       "      <td>11</td>\n",
       "    </tr>\n",
       "  </tbody>\n",
       "</table>\n",
       "</div>"
      ]
     },
     "execution_count": 24,
     "metadata": {},
     "output_type": "execute_result"
    }
   ],
   "execution_count": 24
  },
  {
   "cell_type": "markdown",
   "metadata": {
    "collapsed": false,
    "jupyter": {
     "outputs_hidden": false
    }
   },
   "source": [
    "5) a)Make a list with only the first 5 characters of each string in the Series.\n",
    "\n",
    "   b)Make a list which will show the string except the last 6 characters of each string of df\n",
    "\n",
    "   c)Make a list with only the last 7 characters in each string"
   ]
  },
  {
   "cell_type": "code",
   "metadata": {
    "collapsed": false,
    "jupyter": {
     "outputs_hidden": false
    },
    "ExecuteTime": {
     "end_time": "2024-10-15T11:14:47.317804Z",
     "start_time": "2024-10-15T11:14:47.296467Z"
    }
   },
   "source": [
    "# df_half = [name[:5] for name in df]\n",
    "# df_half\n",
    "df_first5 = df.str[:5]\n",
    "df_first5"
   ],
   "outputs": [
    {
     "data": {
      "text/plain": [
       "0     Leona\n",
       "1     Meryl\n",
       "2     Denze\n",
       "3     Scarl\n",
       "4     Kevin\n",
       "5     Natal\n",
       "6     Leone\n",
       "7     Tom H\n",
       "8     Angel\n",
       "9     Chris\n",
       "10    Kevin\n",
       "Name: famous, dtype: object"
      ]
     },
     "execution_count": 38,
     "metadata": {},
     "output_type": "execute_result"
    }
   ],
   "execution_count": 38
  },
  {
   "metadata": {
    "ExecuteTime": {
     "end_time": "2024-10-15T11:17:22.766015Z",
     "start_time": "2024-10-15T11:17:22.756841Z"
    }
   },
   "cell_type": "code",
   "source": [
    "# b)Make a list which will show the string except the last 6 characters of each string of df\n",
    "df_not_last6 = df.str[0:-6]\n",
    "df_not_last6"
   ],
   "outputs": [
    {
     "data": {
      "text/plain": [
       "0      Leonardo Di\n",
       "1           Meryl \n",
       "2      Denzel Wash\n",
       "3     Scarlett Joh\n",
       "4        Kevin De \n",
       "5        Natalie P\n",
       "6           Leonel\n",
       "7              Tom\n",
       "8         Angelina\n",
       "9         Christia\n",
       "10           Kevin\n",
       "Name: famous, dtype: object"
      ]
     },
     "execution_count": 39,
     "metadata": {},
     "output_type": "execute_result"
    }
   ],
   "execution_count": 39
  },
  {
   "metadata": {
    "ExecuteTime": {
     "end_time": "2024-10-15T11:20:29.586983Z",
     "start_time": "2024-10-15T11:20:29.566538Z"
    }
   },
   "cell_type": "code",
   "source": [
    "# c)Make a list with only the last 7 characters in each string\n",
    "df.str[-7:]"
   ],
   "outputs": [
    {
     "data": {
      "text/plain": [
       "0     iCaprio\n",
       "1      Streep\n",
       "2     hington\n",
       "3     hansson\n",
       "4      Bruyne\n",
       "5     Portman\n",
       "6     l Messi\n",
       "7     m Hanks\n",
       "8     a Jolie\n",
       "9     an Bale\n",
       "10    n Bacon\n",
       "Name: famous, dtype: object"
      ]
     },
     "execution_count": 40,
     "metadata": {},
     "output_type": "execute_result"
    }
   ],
   "execution_count": 40
  },
  {
   "cell_type": "markdown",
   "metadata": {
    "collapsed": false,
    "jupyter": {
     "outputs_hidden": false
    }
   },
   "source": [
    "6) a) Take the string \"This string needs to be cut in pieces\" make a list of all the words in this string [\"This\" ,\"string\", \"needs\",\"to\", \"be\" ,\"cut\" ,\"in\" ,\"pieces\"].\n",
    "   b)Create from this list a pandas Series\n",
    "\n",
    "   c) Take the complete string again and look for the place where we first see the letter 'n'\n",
    "\n",
    "   d) The letter n is the 10th character in the string, is this also the 10 index in the string? Why not?\n",
    "\n",
    "   e) Take the complete string again and print the place of the last appearance of 'n'\n",
    "\n",
    "   f) Split the string in three parts with 'cut' in the middle and print  the 3 parts.\n"
   ]
  },
  {
   "cell_type": "code",
   "metadata": {
    "collapsed": false,
    "jupyter": {
     "outputs_hidden": false
    },
    "ExecuteTime": {
     "end_time": "2024-10-15T11:22:11.852187Z",
     "start_time": "2024-10-15T11:22:11.838216Z"
    }
   },
   "source": [
    "# a) Take the string \"This string needs to be cut in pieces\" make a list of all the words in this string [\"This\" ,\"string\", \"needs\",\"to\", \"be\" ,\"cut\" ,\"in\" ,\"pieces\"].\n",
    "string = \"This string needs to be cut in pieces\"\n",
    "words = string.split()\n",
    "words"
   ],
   "outputs": [
    {
     "data": {
      "text/plain": [
       "['This', 'string', 'needs', 'to', 'be', 'cut', 'in', 'pieces']"
      ]
     },
     "execution_count": 42,
     "metadata": {},
     "output_type": "execute_result"
    }
   ],
   "execution_count": 42
  },
  {
   "metadata": {
    "ExecuteTime": {
     "end_time": "2024-10-15T11:22:51.541964Z",
     "start_time": "2024-10-15T11:22:51.521170Z"
    }
   },
   "cell_type": "code",
   "source": [
    " # b)Create from this list a pandas Series\n",
    "words_series = pd.Series(words)\n",
    "words_series"
   ],
   "outputs": [
    {
     "data": {
      "text/plain": [
       "0      This\n",
       "1    string\n",
       "2     needs\n",
       "3        to\n",
       "4        be\n",
       "5       cut\n",
       "6        in\n",
       "7    pieces\n",
       "dtype: object"
      ]
     },
     "execution_count": 45,
     "metadata": {},
     "output_type": "execute_result"
    }
   ],
   "execution_count": 45
  },
  {
   "metadata": {
    "ExecuteTime": {
     "end_time": "2024-10-15T11:24:04.697636Z",
     "start_time": "2024-10-15T11:24:04.686319Z"
    }
   },
   "cell_type": "code",
   "source": [
    "# c) Take the complete string again and look for the place where we first see the letter 'n'\n",
    "string.find('n')"
   ],
   "outputs": [
    {
     "data": {
      "text/plain": [
       "9"
      ]
     },
     "execution_count": 49,
     "metadata": {},
     "output_type": "execute_result"
    }
   ],
   "execution_count": 49
  },
  {
   "metadata": {},
   "cell_type": "code",
   "outputs": [],
   "execution_count": null,
   "source": "   # d) The letter n is the 10th character in the string, is this also the 10 index in the string? Why not? cause indexes -1 start at 0 in python, 0 based language"
  },
  {
   "metadata": {
    "ExecuteTime": {
     "end_time": "2024-10-15T11:25:38.270481Z",
     "start_time": "2024-10-15T11:25:38.263969Z"
    }
   },
   "cell_type": "code",
   "source": [
    "# e) Take the complete string again and print the place of the last appearance of 'n'\n",
    "string.rfind('n')"
   ],
   "outputs": [
    {
     "data": {
      "text/plain": [
       "29"
      ]
     },
     "execution_count": 50,
     "metadata": {},
     "output_type": "execute_result"
    }
   ],
   "execution_count": 50
  },
  {
   "metadata": {
    "ExecuteTime": {
     "end_time": "2024-10-15T11:26:59.773704Z",
     "start_time": "2024-10-15T11:26:59.758169Z"
    }
   },
   "cell_type": "code",
   "source": [
    "# f) Split the string in three parts with 'cut' in the middle and print the 3 parts.\n",
    "string.partition('cut')"
   ],
   "outputs": [
    {
     "data": {
      "text/plain": [
       "('This string needs to be ', 'cut', ' in pieces')"
      ]
     },
     "execution_count": 54,
     "metadata": {},
     "output_type": "execute_result"
    }
   ],
   "execution_count": 54
  },
  {
   "cell_type": "markdown",
   "metadata": {
    "collapsed": false,
    "jupyter": {
     "outputs_hidden": false
    }
   },
   "source": [
    "7  a) Print the first names of every person in a Pandas Series\n",
    "   \n",
    "   b) Print the second name in a Pandas Series\n"
   ]
  },
  {
   "cell_type": "code",
   "execution_count": null,
   "metadata": {
    "ExecuteTime": {
     "end_time": "2024-09-21T17:15:46.630514Z",
     "start_time": "2024-09-21T17:15:46.624410Z"
    },
    "collapsed": false,
    "jupyter": {
     "outputs_hidden": false
    }
   },
   "outputs": [],
   "source": "#  ==> continue here"
  },
  {
   "cell_type": "markdown",
   "metadata": {
    "collapsed": false,
    "jupyter": {
     "outputs_hidden": false
    }
   },
   "source": [
    "6) a) Replace all the white spaces with $ in the list of famous people.\n",
    "   \n",
    "   b) Continue with this Serie object and provide a list of the index in each name where we encounter the $ sign"
   ]
  },
  {
   "cell_type": "code",
   "execution_count": null,
   "metadata": {
    "ExecuteTime": {
     "end_time": "2024-09-21T15:57:29.616238Z",
     "start_time": "2024-09-21T15:57:29.604042Z"
    },
    "collapsed": false,
    "jupyter": {
     "outputs_hidden": false
    }
   },
   "outputs": [],
   "source": []
  },
  {
   "cell_type": "code",
   "execution_count": null,
   "metadata": {
    "ExecuteTime": {
     "end_time": "2024-09-21T15:57:45.189698Z",
     "start_time": "2024-09-21T15:57:45.188505Z"
    },
    "collapsed": false,
    "jupyter": {
     "outputs_hidden": false
    }
   },
   "outputs": [],
   "source": []
  },
  {
   "cell_type": "code",
   "execution_count": null,
   "metadata": {
    "ExecuteTime": {
     "end_time": "2024-09-21T16:04:09.659869Z",
     "start_time": "2024-09-21T16:04:09.657707Z"
    },
    "collapsed": false,
    "jupyter": {
     "outputs_hidden": false
    }
   },
   "outputs": [],
   "source": []
  },
  {
   "cell_type": "markdown",
   "metadata": {
    "collapsed": false,
    "jupyter": {
     "outputs_hidden": false
    }
   },
   "source": [
    "We need another Series for the next exercise:"
   ]
  },
  {
   "cell_type": "code",
   "execution_count": 3,
   "metadata": {
    "ExecuteTime": {
     "end_time": "2024-09-21T16:23:25.640738Z",
     "start_time": "2024-09-21T16:23:25.630948Z"
    },
    "collapsed": false,
    "jupyter": {
     "outputs_hidden": false
    }
   },
   "outputs": [],
   "source": [
    "rubbish=pd.Series(['just a phrase',\n",
    "\"123\",\n",
    "'45,56',\n",
    "'HI',\n",
    "\"\\u0030\",\n",
    "'Natalie Portman',\n",
    "\"\\u00B2\",\n",
    "'22.23',\n",
    "'Angelina Jolie',\n",
    "'Christian Bale',\n",
    "' Kevin Bacon '              ],name=\"rubbish\")"
   ]
  },
  {
   "cell_type": "markdown",
   "metadata": {
    "collapsed": false,
    "jupyter": {
     "outputs_hidden": false
    }
   },
   "source": [
    "7) a) Create a new series which will indicate if the string in rubbish has only numeric characters\n",
    "\n",
    "   b) Create a new series which will indicate if the string is a decimal\n",
    "\n",
    "   c) Create a new Series which will indicate is all the characters in the string are numbers or letters\n",
    "\n",
    "   d) Create a new Series which will indicate if all characters in the string ae letters."
   ]
  },
  {
   "cell_type": "code",
   "execution_count": null,
   "metadata": {
    "ExecuteTime": {
     "end_time": "2024-09-21T16:23:27.449284Z",
     "start_time": "2024-09-21T16:23:27.438130Z"
    },
    "collapsed": false,
    "jupyter": {
     "outputs_hidden": false
    }
   },
   "outputs": [],
   "source": []
  },
  {
   "cell_type": "code",
   "execution_count": null,
   "metadata": {
    "ExecuteTime": {
     "end_time": "2024-09-21T16:24:45.734817Z",
     "start_time": "2024-09-21T16:24:45.730797Z"
    },
    "collapsed": false,
    "jupyter": {
     "outputs_hidden": false
    }
   },
   "outputs": [],
   "source": []
  },
  {
   "cell_type": "code",
   "execution_count": null,
   "metadata": {
    "ExecuteTime": {
     "end_time": "2024-09-21T16:25:28.639791Z",
     "start_time": "2024-09-21T16:25:28.630164Z"
    },
    "collapsed": false,
    "jupyter": {
     "outputs_hidden": false
    }
   },
   "outputs": [],
   "source": []
  },
  {
   "cell_type": "code",
   "execution_count": null,
   "metadata": {
    "ExecuteTime": {
     "end_time": "2024-09-21T16:57:40.075529Z",
     "start_time": "2024-09-21T16:57:40.032195Z"
    },
    "collapsed": false,
    "jupyter": {
     "outputs_hidden": false
    }
   },
   "outputs": [],
   "source": []
  },
  {
   "cell_type": "code",
   "execution_count": null,
   "metadata": {
    "ExecuteTime": {
     "end_time": "2024-09-21T17:17:21.904147Z",
     "start_time": "2024-09-21T17:17:21.895318Z"
    },
    "collapsed": false,
    "jupyter": {
     "outputs_hidden": false
    }
   },
   "outputs": [],
   "source": []
  },
  {
   "cell_type": "markdown",
   "metadata": {
    "collapsed": false,
    "jupyter": {
     "outputs_hidden": false
    }
   },
   "source": [
    "## Regular expressions\n",
    "\n",
    "We start with a string:"
   ]
  },
  {
   "cell_type": "code",
   "execution_count": 157,
   "metadata": {
    "ExecuteTime": {
     "end_time": "2024-09-21T19:56:50.804551Z",
     "start_time": "2024-09-21T19:56:50.768275Z"
    },
    "collapsed": false,
    "jupyter": {
     "outputs_hidden": false
    }
   },
   "outputs": [],
   "source": [
    "Tesla_story=\"The Tesla company was incorporated as Tesla Motors, Inc. on 1-7-2003, by Martin Eberhard and Marc Tarpenning. Eberhard and Tarpenning served as CEO and CFO, respectively. Eberhard said he wanted to build a car manufacturer that is also a technology company, with its core technologies as the battery, the computer software, and the proprietary motor. Ian Wright was thr third employee, joining a few months later.In February 2004, the company raised $7.5 million in series A funding, including $6.5 million from Elon Musk, who had received $100 million from the sale of his interest in PayPal two years earlier. Musk became the chairman of the board of directors and the largest shareholder of Tesla. J. B. Straubel joined Tesla in May 2004 as chief technical officer. A lawsuit settlement agreed to by Eberhard and Tesla in September 2009 allows all five – Eberhard, Tarpenning, Wright, Musk, and Straubel – to call themselves co-founders.On 29-06-2010, the company became a public company via an initial public offering (IPO) on NASDAQ, the first American car company to do so since the Ford Motor Company had its IPO in 1956. The company issued 13.3 million shares of common stock at a price of $17.00 per share, raising $226 million.\""
   ]
  },
  {
   "cell_type": "markdown",
   "metadata": {
    "collapsed": false,
    "jupyter": {
     "outputs_hidden": false
    }
   },
   "source": [
    "1) Look for the name Eberhard in the Tesla_story using the re method search. How do we know the first starting position of the string 'Eberhard'? What is the last character? Was Donald Trump involved in the build uo of Tesla (look if you find Donald Trump)"
   ]
  },
  {
   "cell_type": "code",
   "execution_count": null,
   "metadata": {
    "ExecuteTime": {
     "end_time": "2024-09-21T19:59:15.266012Z",
     "start_time": "2024-09-21T19:59:15.247209Z"
    },
    "collapsed": false,
    "jupyter": {
     "outputs_hidden": false
    }
   },
   "outputs": [],
   "source": []
  },
  {
   "cell_type": "code",
   "execution_count": null,
   "metadata": {
    "ExecuteTime": {
     "end_time": "2024-09-21T20:04:31.208120Z",
     "start_time": "2024-09-21T20:04:31.187907Z"
    },
    "collapsed": false,
    "jupyter": {
     "outputs_hidden": false
    }
   },
   "outputs": [],
   "source": []
  },
  {
   "cell_type": "code",
   "execution_count": null,
   "metadata": {
    "ExecuteTime": {
     "end_time": "2024-09-21T20:05:22.680064Z",
     "start_time": "2024-09-21T20:05:22.636048Z"
    },
    "collapsed": false,
    "jupyter": {
     "outputs_hidden": false
    }
   },
   "outputs": [],
   "source": []
  },
  {
   "cell_type": "code",
   "execution_count": null,
   "metadata": {
    "ExecuteTime": {
     "end_time": "2024-09-21T20:06:47.247409Z",
     "start_time": "2024-09-21T20:06:47.198042Z"
    },
    "collapsed": false,
    "jupyter": {
     "outputs_hidden": false
    }
   },
   "outputs": [],
   "source": []
  },
  {
   "cell_type": "code",
   "execution_count": null,
   "metadata": {
    "ExecuteTime": {
     "end_time": "2024-09-21T20:07:06.881994Z",
     "start_time": "2024-09-21T20:07:06.865239Z"
    },
    "collapsed": false,
    "jupyter": {
     "outputs_hidden": false
    }
   },
   "outputs": [],
   "source": []
  },
  {
   "cell_type": "markdown",
   "metadata": {
    "collapsed": false,
    "jupyter": {
     "outputs_hidden": false
    }
   },
   "source": [
    "2) a) But we see that the name Eberhard appears several times in the string, how can we find all the appearances?\n",
    "\n",
    "   b) How many occurances do we see?\n",
    "\n",
    "   c) Remember with the usual find method we could find the first or the last but not all the occurances. How do you find all the places where we have 'Eberhard'?\n",
    "\n",
    "   d) What if we only want to show the start positions?"
   ]
  },
  {
   "cell_type": "code",
   "execution_count": null,
   "metadata": {
    "ExecuteTime": {
     "end_time": "2024-09-21T20:08:27.611821Z",
     "start_time": "2024-09-21T20:08:27.609347Z"
    },
    "collapsed": false,
    "jupyter": {
     "outputs_hidden": false
    }
   },
   "outputs": [],
   "source": []
  },
  {
   "cell_type": "code",
   "execution_count": null,
   "metadata": {
    "collapsed": false,
    "jupyter": {
     "outputs_hidden": false
    }
   },
   "outputs": [],
   "source": []
  },
  {
   "cell_type": "code",
   "execution_count": null,
   "metadata": {
    "ExecuteTime": {
     "end_time": "2024-09-21T20:11:58.095297Z",
     "start_time": "2024-09-21T20:11:58.082713Z"
    },
    "collapsed": false,
    "jupyter": {
     "outputs_hidden": false
    }
   },
   "outputs": [],
   "source": []
  },
  {
   "cell_type": "code",
   "execution_count": null,
   "metadata": {
    "ExecuteTime": {
     "end_time": "2024-09-21T20:13:44.231640Z",
     "start_time": "2024-09-21T20:13:44.194024Z"
    },
    "collapsed": false,
    "jupyter": {
     "outputs_hidden": false
    }
   },
   "outputs": [],
   "source": []
  },
  {
   "cell_type": "markdown",
   "metadata": {
    "collapsed": false,
    "jupyter": {
     "outputs_hidden": false
    }
   },
   "source": [
    "##### More complex patterns\n",
    "Recap:\n",
    "##### Identifiers for Characters in Patterns\n",
    "<table ><tr><th>Character</th><th>Description</th><th>Example Pattern Code</th><th >Example Match</th></tr>\n",
    "\n",
    "<tr ><td><span >\\d</span></td><td>A digit</td><td>file_\\d\\d</td><td>file_25</td></tr>\n",
    "\n",
    "<tr ><td><span >\\w</span></td><td>Alphanumeric</td><td>\\w-\\w\\w\\w</td><td>A-b_1</td></tr>\n",
    "\n",
    "\n",
    "\n",
    "<tr ><td><span >\\s</span></td><td>White space</td><td>x\\sy\\sz</td><td>x y z</td></tr>\n",
    "\n",
    "\n",
    "\n",
    "<tr ><td><span >\\D</span></td><td>A non digit</td><td>\\D\\D\\D</td><td>AB?</td></tr>\n",
    "\n",
    "<tr ><td><span >\\W</span></td><td>Non-alphanumeric</td><td>\\W\\W\\W\\W\\W</td><td>*-+=)</td></tr>\n",
    "\n",
    "<tr ><td><span >\\S</span></td><td>Non-whitespace</td><td>\\S\\S\\S\\S</td><td>Ext?</td></tr></table>\n",
    "\n",
    "##### Quantifiers in Patterns\n",
    "\n",
    "<table ><tr><th>Character</th><th>Description</th><th>Example Pattern Code</th><th >Example Match</th></tr>\n",
    "\n",
    "<tr ><td><span >+</span></td><td>Occurs one or more times</td><td>\tVersion \\w-\\w+</td><td>Version A-b1_1</td></tr>\n",
    "\n",
    "<tr ><td><span >{5}</span></td><td>Occurs exactly 5 times</td><td>\\D{5}</td><td>abcT!</td></tr>\n",
    "\n",
    "\n",
    "\n",
    "<tr ><td><span >{2,6}</span></td><td>Occurs 2 to 6 times</td><td>\\d{2,6}</td><td>123</td></tr>\n",
    "\n",
    "\n",
    "\n",
    "<tr ><td><span >{2,}</span></td><td>Occurs 2 or more times </td><td>\\w{2,}</td><td>anycharacters</td></tr>\n",
    "\n",
    "<tr ><td><span >*</span></td><td>Occurs zero or more times</td><td>A*B*C*</td><td>AAACC</td></tr>\n",
    "\n",
    "<tr ><td><span >?</span></td><td>Once or none</td><td>plurals?</td><td>plural</td></tr></table>"
   ]
  },
  {
   "cell_type": "markdown",
   "metadata": {
    "collapsed": false,
    "jupyter": {
     "outputs_hidden": false
    }
   },
   "source": [
    "3) Search for just a date in the following format: 15-12-1969\n"
   ]
  },
  {
   "cell_type": "code",
   "execution_count": null,
   "metadata": {
    "ExecuteTime": {
     "end_time": "2024-09-21T20:21:24.299511Z",
     "start_time": "2024-09-21T20:21:24.158708Z"
    },
    "collapsed": false,
    "jupyter": {
     "outputs_hidden": false
    }
   },
   "outputs": [],
   "source": []
  },
  {
   "cell_type": "code",
   "execution_count": null,
   "metadata": {
    "ExecuteTime": {
     "end_time": "2024-09-21T20:22:07.926630Z",
     "start_time": "2024-09-21T20:22:07.789656Z"
    },
    "collapsed": false,
    "jupyter": {
     "outputs_hidden": false
    }
   },
   "outputs": [],
   "source": []
  },
  {
   "cell_type": "markdown",
   "metadata": {
    "collapsed": false,
    "jupyter": {
     "outputs_hidden": false
    }
   },
   "source": [
    "##### Groups\n",
    "\n",
    "4) Extract from the dates only the years and the months and finally print the full dates."
   ]
  },
  {
   "cell_type": "code",
   "execution_count": null,
   "metadata": {
    "collapsed": false,
    "jupyter": {
     "outputs_hidden": false
    }
   },
   "outputs": [],
   "source": []
  },
  {
   "cell_type": "markdown",
   "metadata": {
    "collapsed": false,
    "jupyter": {
     "outputs_hidden": false
    }
   },
   "source": [
    "\n",
    "5) Use the pipe operator to have an **or** statement. For example if we want to know where in the string we come across aname of a co-founder. Use the pipe symbol: Musk|Eberhard|Wright|Tarpenning|Straubel"
   ]
  },
  {
   "cell_type": "code",
   "execution_count": null,
   "metadata": {
    "ExecuteTime": {
     "end_time": "2024-09-21T20:35:05.721777Z",
     "start_time": "2024-09-21T20:35:05.717052Z"
    },
    "collapsed": false,
    "jupyter": {
     "outputs_hidden": false
    }
   },
   "outputs": [],
   "source": []
  },
  {
   "cell_type": "raw",
   "metadata": {
    "collapsed": false,
    "jupyter": {
     "outputs_hidden": false
    }
   },
   "source": [
    "6) a) Look for all appearances of the string \"al\" at the end of a word\n",
    "   \n",
    "b) Find two consecutive digitals in the string 'We have 1 apple and 12 pears'\n",
    "\n",
    "c) Find the last non-punctuation character of the Tesla_story"
   ]
  },
  {
   "cell_type": "code",
   "execution_count": null,
   "metadata": {
    "ExecuteTime": {
     "end_time": "2024-09-21T20:48:40.080458Z",
     "start_time": "2024-09-21T20:48:40.075755Z"
    },
    "collapsed": false,
    "jupyter": {
     "outputs_hidden": false
    }
   },
   "outputs": [],
   "source": []
  },
  {
   "cell_type": "code",
   "execution_count": null,
   "metadata": {
    "ExecuteTime": {
     "end_time": "2024-09-21T21:02:55.505764Z",
     "start_time": "2024-09-21T21:02:55.500366Z"
    },
    "collapsed": false,
    "jupyter": {
     "outputs_hidden": false
    }
   },
   "outputs": [],
   "source": []
  },
  {
   "cell_type": "code",
   "execution_count": null,
   "metadata": {
    "collapsed": false,
    "jupyter": {
     "outputs_hidden": false
    }
   },
   "outputs": [],
   "source": []
  }
 ],
 "metadata": {
  "kernelspec": {
   "display_name": "Python 3 (ipykernel)",
   "language": "python",
   "name": "python3"
  },
  "language_info": {
   "codemirror_mode": {
    "name": "ipython",
    "version": 3
   },
   "file_extension": ".py",
   "mimetype": "text/x-python",
   "name": "python",
   "nbconvert_exporter": "python",
   "pygments_lexer": "ipython3",
   "version": "3.12.4"
  }
 },
 "nbformat": 4,
 "nbformat_minor": 4
}
