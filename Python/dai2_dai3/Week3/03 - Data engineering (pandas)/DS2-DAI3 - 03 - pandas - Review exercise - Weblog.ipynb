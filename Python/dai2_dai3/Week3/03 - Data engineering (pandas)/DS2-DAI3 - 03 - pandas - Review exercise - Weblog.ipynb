{
 "cells": [
  {
   "cell_type": "markdown",
   "metadata": {
    "id": "XX7WxJhL50UM"
   },
   "source": [
    "# Weblog Exercise\n",
    "\n",
    "We want to be able to perform analyses on the logs of a web server (\"UofS_access_log.small\"). To do this, you need to get the relevant data into a dataframe. This should be an automated process so that other log files can also be loaded.\n",
    "\n",
    "The following tasks need to be done. The original dataframe should be reworked so that only these columns remain:\n",
    "\n",
    "- domain: contains the addresses of the clients that sent a request\n",
    "- timestamp: is a datetime field (POSIXct) that shows the time of the request\n",
    "- resource: shows the resource that was requested\n",
    "- response_code: gives the HTTP response code returned by the server\n",
    "- response_length: indicates the length of the HTTP response\n"
   ]
  },
  {
   "cell_type": "markdown",
   "source": [
    "Import all necessary libraries here:"
   ],
   "metadata": {
    "collapsed": false
   }
  },
  {
   "cell_type": "code",
   "execution_count": 2,
   "outputs": [],
   "source": [
    "#SOLUTION_START\n",
    "import pandas as pd\n",
    "#SOLUTION_END"
   ],
   "metadata": {
    "collapsed": false,
    "ExecuteTime": {
     "end_time": "2024-09-27T11:07:40.118335800Z",
     "start_time": "2024-09-27T11:07:40.096098600Z"
    }
   }
  },
  {
   "cell_type": "markdown",
   "metadata": {
    "id": "DiLdG3sF50U3"
   },
   "source": [
    "## Inlezen van de gegevens\n",
    "Read the dataframe. Check for yourself what the separator is. Incorrect rows can be skipped. There is no header! The file uses the \"latin\" encoding (consult the docs to learn how to set the encoding) for characters."
   ]
  },
  {
   "cell_type": "code",
   "execution_count": 3,
   "metadata": {
    "ExecuteTime": {
     "end_time": "2024-09-27T11:07:43.316109500Z",
     "start_time": "2024-09-27T11:07:43.107965800Z"
    }
   },
   "outputs": [
    {
     "data": {
      "text/plain": "                             0  1  2                      3       4  \\\n0          cad49.cadvision.com  -  -  [01/Jun/1995:00:53:19  -0600]   \n1                130.89.250.24  -  -  [01/Jun/1995:02:45:12  -0600]   \n2                130.54.25.198  -  -  [01/Jun/1995:03:29:56  -0600]   \n3                 148.81.17.41  -  -  [01/Jun/1995:04:02:17  -0600]   \n4  anumsun6.univ-st-etienne.fr  -  -  [01/Jun/1995:04:40:30  -0600]   \n\n                                               5    6     7  \n0        GET /~lowey/webville/icons/blank_32.gif  200   167  \n1        GET /~lowey/webville/icons/south_32.gif  200   210  \n2  GET /~macphed/finite/fe_resources/node92.html  200  1668  \n3           GET /~friesend/tolkien/rootpage.html  200   461  \n4  GET /~macphed/finite/fe_resources/node58.html  200  1707  ",
      "text/html": "<div>\n<style scoped>\n    .dataframe tbody tr th:only-of-type {\n        vertical-align: middle;\n    }\n\n    .dataframe tbody tr th {\n        vertical-align: top;\n    }\n\n    .dataframe thead th {\n        text-align: right;\n    }\n</style>\n<table border=\"1\" class=\"dataframe\">\n  <thead>\n    <tr style=\"text-align: right;\">\n      <th></th>\n      <th>0</th>\n      <th>1</th>\n      <th>2</th>\n      <th>3</th>\n      <th>4</th>\n      <th>5</th>\n      <th>6</th>\n      <th>7</th>\n    </tr>\n  </thead>\n  <tbody>\n    <tr>\n      <th>0</th>\n      <td>cad49.cadvision.com</td>\n      <td>-</td>\n      <td>-</td>\n      <td>[01/Jun/1995:00:53:19</td>\n      <td>-0600]</td>\n      <td>GET /~lowey/webville/icons/blank_32.gif</td>\n      <td>200</td>\n      <td>167</td>\n    </tr>\n    <tr>\n      <th>1</th>\n      <td>130.89.250.24</td>\n      <td>-</td>\n      <td>-</td>\n      <td>[01/Jun/1995:02:45:12</td>\n      <td>-0600]</td>\n      <td>GET /~lowey/webville/icons/south_32.gif</td>\n      <td>200</td>\n      <td>210</td>\n    </tr>\n    <tr>\n      <th>2</th>\n      <td>130.54.25.198</td>\n      <td>-</td>\n      <td>-</td>\n      <td>[01/Jun/1995:03:29:56</td>\n      <td>-0600]</td>\n      <td>GET /~macphed/finite/fe_resources/node92.html</td>\n      <td>200</td>\n      <td>1668</td>\n    </tr>\n    <tr>\n      <th>3</th>\n      <td>148.81.17.41</td>\n      <td>-</td>\n      <td>-</td>\n      <td>[01/Jun/1995:04:02:17</td>\n      <td>-0600]</td>\n      <td>GET /~friesend/tolkien/rootpage.html</td>\n      <td>200</td>\n      <td>461</td>\n    </tr>\n    <tr>\n      <th>4</th>\n      <td>anumsun6.univ-st-etienne.fr</td>\n      <td>-</td>\n      <td>-</td>\n      <td>[01/Jun/1995:04:40:30</td>\n      <td>-0600]</td>\n      <td>GET /~macphed/finite/fe_resources/node58.html</td>\n      <td>200</td>\n      <td>1707</td>\n    </tr>\n  </tbody>\n</table>\n</div>"
     },
     "execution_count": 3,
     "metadata": {},
     "output_type": "execute_result"
    }
   ],
   "source": [
    "#SOLUTION_START\n",
    "log = pd.read_csv(\"UofS_access_log.small\", sep=\" \", encoding=\"latin\", header=None, on_bad_lines='skip')\n",
    "log.head()\n",
    "#SOLUTION_END"
   ]
  },
  {
   "cell_type": "markdown",
   "source": [
    "How many lines are in this data frame?"
   ],
   "metadata": {
    "collapsed": false
   }
  },
  {
   "cell_type": "code",
   "execution_count": 4,
   "outputs": [
    {
     "data": {
      "text/plain": "48171"
     },
     "execution_count": 4,
     "metadata": {},
     "output_type": "execute_result"
    }
   ],
   "source": [
    "#SOLUTION_START\n",
    "len(log)\n",
    "#SOLUTION_END"
   ],
   "metadata": {
    "collapsed": false,
    "ExecuteTime": {
     "end_time": "2024-09-27T11:07:49.577613Z",
     "start_time": "2024-09-27T11:07:49.545897200Z"
    }
   }
  },
  {
   "cell_type": "markdown",
   "source": [
    "Copy all values from the first column into a variable \"domain\".\n",
    "Copy all values from the seventh column into a variable \"response_code\".\n",
    "Copy all values from the eighth column into a variable \"response_length\".\n"
   ],
   "metadata": {
    "collapsed": false
   }
  },
  {
   "cell_type": "code",
   "execution_count": 5,
   "outputs": [],
   "source": [
    "#SOLUTION_START\n",
    "domain = log[0]\n",
    "response_code = log[6]\n",
    "response_length = log[7]\n",
    "#SOLUTION_END"
   ],
   "metadata": {
    "collapsed": false,
    "ExecuteTime": {
     "end_time": "2024-09-27T11:08:02.194718Z",
     "start_time": "2024-09-27T11:08:02.151584900Z"
    }
   }
  },
  {
   "cell_type": "markdown",
   "source": [
    "Check if \"response_length\" has the correct type. We expect it to be numbers. Convert the variables if necessary. (Look for an appropriate pandas functions starting with 'to_') If there are invalid values, they should be converted to NaN (tip: errors)."
   ],
   "metadata": {
    "collapsed": false
   }
  },
  {
   "cell_type": "code",
   "execution_count": 9,
   "outputs": [
    {
     "name": "stdout",
     "output_type": "stream",
     "text": [
      "<class 'pandas.core.series.Series'>\n",
      "RangeIndex: 48171 entries, 0 to 48170\n",
      "Series name: 7\n",
      "Non-Null Count  Dtype \n",
      "--------------  ----- \n",
      "48171 non-null  object\n",
      "dtypes: object(1)\n",
      "memory usage: 376.5+ KB\n"
     ]
    }
   ],
   "source": [
    "#SOLUTION_START\n",
    "\n",
    "response_length.info()\n",
    "response_length = pd.to_numeric(response_length, errors='coerce')\n",
    "#SOLUTION_END"
   ],
   "metadata": {
    "collapsed": false,
    "ExecuteTime": {
     "end_time": "2024-09-27T11:27:03.098628700Z",
     "start_time": "2024-09-27T11:27:02.985392600Z"
    }
   }
  },
  {
   "cell_type": "markdown",
   "source": [
    "How many NaN values are in response_length?"
   ],
   "metadata": {
    "collapsed": false
   }
  },
  {
   "cell_type": "code",
   "execution_count": 10,
   "outputs": [
    {
     "data": {
      "text/plain": "897"
     },
     "execution_count": 10,
     "metadata": {},
     "output_type": "execute_result"
    }
   ],
   "source": [
    "#SOLUTION_START\n",
    "response_length.isna().sum()\n",
    "#SOLUTION_END"
   ],
   "metadata": {
    "collapsed": false,
    "ExecuteTime": {
     "end_time": "2024-09-27T11:27:44.237276400Z",
     "start_time": "2024-09-27T11:27:44.167266200Z"
    }
   }
  },
  {
   "cell_type": "markdown",
   "source": [
    "What percentage is that of all rows?"
   ],
   "metadata": {
    "collapsed": false
   }
  },
  {
   "cell_type": "code",
   "execution_count": null,
   "outputs": [],
   "source": [
    "#SOLUTION_START\n",
    "response_length.isna().sum() / len(response_length) * 100\n",
    "#SOLUTION_END"
   ],
   "metadata": {
    "collapsed": false
   }
  },
  {
   "cell_type": "markdown",
   "source": [
    "The timestamp is spread across columns 3 (date and time) and 4 (timezone). Combine these into one string. Place the result in a variable \"timestamp\"."
   ],
   "metadata": {
    "collapsed": false
   }
  },
  {
   "cell_type": "code",
   "execution_count": null,
   "outputs": [],
   "source": [
    "#SOLUTION_START\n",
    "timestamp = log[3] + log[4]\n",
    "timestamp.head()\n",
    "#SOLUTION_END"
   ],
   "metadata": {
    "collapsed": false
   }
  },
  {
   "cell_type": "markdown",
   "source": [
    "\n",
    "Create a variable \"resource\" that contains all resources (in the 6th column). Remove the 'GET' and 'HTTP/1.0' that sometimes appear at the beginning and end."
   ],
   "metadata": {
    "collapsed": false
   }
  },
  {
   "cell_type": "code",
   "execution_count": null,
   "metadata": {},
   "outputs": [],
   "source": [
    "#SOLUTION_START\n",
    "resource = log[5].str.replace(\"GET \", \"\", regex=False).str.replace(\"HTTP/1.0\", \"\", regex=False)\n",
    "resource\n",
    "#SOLUTION_END"
   ]
  },
  {
   "cell_type": "markdown",
   "source": [
    "Now create a dataframe named \"log\" with the columns \"domain\", \"timestamp\", \"resource\", \"response_code\", and \"response_length\". You can get the values from the created variables."
   ],
   "metadata": {
    "collapsed": false
   }
  },
  {
   "cell_type": "code",
   "execution_count": null,
   "outputs": [],
   "source": [
    "#SOLUTION_START\n",
    "log = pd.DataFrame({'domain':domain, 'timestamp':timestamp, 'resource':resource, 'response_code':response_code, 'response_length':response_length})\n",
    "log.info()\n",
    "#SOLUTION_END"
   ],
   "metadata": {
    "collapsed": false
   }
  },
  {
   "cell_type": "markdown",
   "source": [
    "Remove all rows from your dataframe where a missing value occurs."
   ],
   "metadata": {
    "collapsed": false
   }
  },
  {
   "cell_type": "code",
   "execution_count": null,
   "outputs": [],
   "source": [
    "#SOLUTION_START\n",
    "log.dropna(inplace=True)\n",
    "log.head()\n",
    "#SOLUTION_END"
   ],
   "metadata": {
    "collapsed": false
   }
  },
  {
   "cell_type": "markdown",
   "source": [
    "Find the row(s) with the largest response_length."
   ],
   "metadata": {
    "collapsed": false
   }
  },
  {
   "cell_type": "code",
   "execution_count": null,
   "outputs": [],
   "source": [
    "#SOLUTION_START\n",
    "rows = log.response_length == log.response_length.max()\n",
    "log.loc[rows]\n",
    "#SOLUTION_END"
   ],
   "metadata": {
    "collapsed": false
   }
  },
  {
   "cell_type": "markdown",
   "source": [
    "Save the result in a CSV file \"log_result.csv\". Use ',' as the separator and \".\" for decimal numbers."
   ],
   "metadata": {
    "collapsed": false
   }
  },
  {
   "cell_type": "code",
   "execution_count": null,
   "outputs": [],
   "source": [
    "#SOLUTION_START\n",
    "log.to_csv(\"log_result.csv\", sep=\",\", decimal=\".\", index=False)\n",
    "#SOLUTION_END"
   ],
   "metadata": {
    "collapsed": false
   }
  },
  {
   "cell_type": "markdown",
   "source": [
    "Try to import the file into a spreadsheet."
   ],
   "metadata": {
    "collapsed": false
   }
  }
 ],
 "metadata": {
  "colab": {
   "name": "Opgaveboek - weblog - oplossingen.ipynb",
   "provenance": []
  },
  "kernelspec": {
   "display_name": "Python 3",
   "language": "python",
   "name": "python3"
  },
  "language_info": {
   "codemirror_mode": {
    "name": "ipython",
    "version": 3
   },
   "file_extension": ".py",
   "mimetype": "text/x-python",
   "name": "python",
   "nbconvert_exporter": "python",
   "pygments_lexer": "ipython3",
   "version": "3.8.7-final"
  }
 },
 "nbformat": 4,
 "nbformat_minor": 0
}
