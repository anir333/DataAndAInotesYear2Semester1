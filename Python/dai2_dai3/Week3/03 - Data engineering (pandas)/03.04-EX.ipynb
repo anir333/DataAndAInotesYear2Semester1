{
 "cells": [
  {
   "cell_type": "code",
   "id": "initial_id",
   "metadata": {
    "collapsed": true,
    "jupyter": {
     "outputs_hidden": true
    },
    "ExecuteTime": {
     "end_time": "2024-10-10T18:05:02.288173Z",
     "start_time": "2024-10-10T18:05:02.263167Z"
    }
   },
   "source": [
    "import numpy as np\n",
    "import pandas as pd\n",
    "\n",
    "#Data preparation\n",
    "countries = ['France', 'Germany', 'Italy', 'Spain', 'Portugal', 'Greece', 'Belgium', 'Netherlands', 'Luxembourg', 'Austria', 'Switzerland', 'Denmark', 'Sweden', 'Norway', 'Finland', 'Iceland', 'Ireland', 'United Kingdom']\n",
    "population = [67, 83, 60, 47, 10, 11, 11, 17, 0.6, 9, 8, 6, 10, 5, 5, 0.3, 5, 67]\n",
    "GDP = [2.78, 4.42, 2.08, 1.39, 0.23, 0.18, 0.53, 0.91, 0.06, 0.45, 0.70, 0.35, 0.53, 0.40, 0.27, 0.02, 0.33, 2.83]\n",
    "national_dept = pd.Series([2.36, 2.09, 2.34, 1.18, 2.32], index=['France', 'Belgium', 'Italy', 'Austria', 'Monaco'])\n",
    "europe = pd.DataFrame({'population': population, 'GDP': GDP}, index=countries)\n",
    "europe['national_dept'] = national_dept\n",
    "europe = europe.astype('Float32')\n",
    "europe.loc['Switzerland','GDP'] = pd.NA\n",
    "europe.info()\n",
    "# europe\n",
    "print(europe)"
   ],
   "outputs": [
    {
     "name": "stdout",
     "output_type": "stream",
     "text": [
      "<class 'pandas.core.frame.DataFrame'>\n",
      "Index: 18 entries, France to United Kingdom\n",
      "Data columns (total 3 columns):\n",
      " #   Column         Non-Null Count  Dtype  \n",
      "---  ------         --------------  -----  \n",
      " 0   population     18 non-null     Float32\n",
      " 1   GDP            17 non-null     Float32\n",
      " 2   national_dept  4 non-null      Float32\n",
      "dtypes: Float32(3)\n",
      "memory usage: 970.0+ bytes\n",
      "                population   GDP  national_dept\n",
      "France                67.0  2.78           2.36\n",
      "Germany               83.0  4.42           <NA>\n",
      "Italy                 60.0  2.08           2.34\n",
      "Spain                 47.0  1.39           <NA>\n",
      "Portugal              10.0  0.23           <NA>\n",
      "Greece                11.0  0.18           <NA>\n",
      "Belgium               11.0  0.53           2.09\n",
      "Netherlands           17.0  0.91           <NA>\n",
      "Luxembourg             0.6  0.06           <NA>\n",
      "Austria                9.0  0.45           1.18\n",
      "Switzerland            8.0  <NA>           <NA>\n",
      "Denmark                6.0  0.35           <NA>\n",
      "Sweden                10.0  0.53           <NA>\n",
      "Norway                 5.0   0.4           <NA>\n",
      "Finland                5.0  0.27           <NA>\n",
      "Iceland                0.3  0.02           <NA>\n",
      "Ireland                5.0  0.33           <NA>\n",
      "United Kingdom        67.0  2.83           <NA>\n"
     ]
    }
   ],
   "execution_count": 4
  },
  {
   "cell_type": "markdown",
   "id": "a554da550d1daeda",
   "metadata": {
    "collapsed": false,
    "jupyter": {
     "outputs_hidden": false
    }
   },
   "source": [
    "## Missing values in Pandas\n",
    "a. Create a ndarray with boolean values that is True when a specific value of the europe dataset is Null.\n",
    "b. Create a copy europe_b of the europe dataset. Drop all rows where at least one element is missing.\n",
    "c. The data of the europe_b dataset has become very small. We are going to use another strategy:\n",
    "- Create a copy europe_c of the europe dataset.\n",
    "- For GDP replace the missing values by the mean of the GDP values.\n",
    "- After that delete the columns that still have missing values.\n",
    "- Check the results"
   ]
  },
  {
   "cell_type": "code",
   "id": "40f53bd07066082c",
   "metadata": {
    "collapsed": false,
    "jupyter": {
     "outputs_hidden": false
    },
    "ExecuteTime": {
     "end_time": "2024-10-10T18:21:09.288232Z",
     "start_time": "2024-10-10T18:21:09.232279Z"
    }
   },
   "source": [
    "# a. Create a ndarray with boolean values that is True when a specific value of the europe dataset is Null.\n",
    "is_null_array = europe.isnull()\n",
    "print(is_null_array)\n",
    "print(\"---------------------------\")\n",
    "\n",
    "# b. Create a copy europe_b of the europe dataset. Drop all rows where at least one element is missing.\n",
    "europe_b = europe.dropna()\n",
    "print(europe_b)\n",
    "print(\"---------------------------\")\n",
    "\n",
    "# c. The data of the europe_b dataset has become very small. We are going to use another strategy:\n",
    "# - Create a copy europe_c of the europe dataset.\n",
    "europe_c = europe.copy()\n",
    "# - For GDP replace the missing values by the mean of the GDP values.\n",
    "# print(europe['GDP'].stack())\n",
    "mean_GDP = europe['GDP'].mean()\n",
    "print(mean_GDP)\n",
    "europe_c['GDP'] = round(europe_c['GDP'].fillna(mean_GDP), 2)\n",
    "# - After that delete the columns that still have missing values.\n",
    "europe_c = europe_c.dropna(axis='columns')\n",
    "# - Check the results\n",
    "print(europe_c)"
   ],
   "outputs": [
    {
     "name": "stdout",
     "output_type": "stream",
     "text": [
      "                population    GDP  national_dept\n",
      "France               False  False          False\n",
      "Germany              False  False           True\n",
      "Italy                False  False          False\n",
      "Spain                False  False           True\n",
      "Portugal             False  False           True\n",
      "Greece               False  False           True\n",
      "Belgium              False  False          False\n",
      "Netherlands          False  False           True\n",
      "Luxembourg           False  False           True\n",
      "Austria              False  False          False\n",
      "Switzerland          False  False           True\n",
      "Denmark              False  False           True\n",
      "Sweden               False  False           True\n",
      "Norway               False  False           True\n",
      "Finland              False  False           True\n",
      "Iceland              False  False           True\n",
      "Ireland              False  False           True\n",
      "United Kingdom       False  False           True\n",
      "---------------------------\n",
      "         population   GDP  national_dept\n",
      "France         67.0  2.78           2.36\n",
      "Italy          60.0  2.08           2.34\n",
      "Belgium        11.0  0.53           2.09\n",
      "Austria         9.0  0.45           1.18\n",
      "---------------------------\n",
      "1.0444444\n",
      "                population   GDP\n",
      "France                67.0  2.78\n",
      "Germany               83.0  4.42\n",
      "Italy                 60.0  2.08\n",
      "Spain                 47.0  1.39\n",
      "Portugal              10.0  0.23\n",
      "Greece                11.0  0.18\n",
      "Belgium               11.0  0.53\n",
      "Netherlands           17.0  0.91\n",
      "Luxembourg             0.6  0.06\n",
      "Austria                9.0  0.45\n",
      "Switzerland            8.0  1.04\n",
      "Denmark                6.0  0.35\n",
      "Sweden                10.0  0.53\n",
      "Norway                 5.0   0.4\n",
      "Finland                5.0  0.27\n",
      "Iceland                0.3  0.02\n",
      "Ireland                5.0  0.33\n",
      "United Kingdom        67.0  2.83\n"
     ]
    }
   ],
   "execution_count": 28
  }
 ],
 "metadata": {
  "kernelspec": {
   "display_name": "Python 3 (ipykernel)",
   "language": "python",
   "name": "python3"
  },
  "language_info": {
   "codemirror_mode": {
    "name": "ipython",
    "version": 3
   },
   "file_extension": ".py",
   "mimetype": "text/x-python",
   "name": "python",
   "nbconvert_exporter": "python",
   "pygments_lexer": "ipython3",
   "version": "3.12.4"
  }
 },
 "nbformat": 4,
 "nbformat_minor": 5
}
