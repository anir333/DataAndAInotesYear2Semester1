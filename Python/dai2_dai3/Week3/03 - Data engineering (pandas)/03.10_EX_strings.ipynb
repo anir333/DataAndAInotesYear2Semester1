{
 "cells": [
  {
   "cell_type": "markdown",
   "source": [
    "## Strings methods and strings methods with regular expressions\n",
    "\n",
    "### Strings methods\n",
    "\n",
    "Besides the book also look at\n",
    "https://www.w3schools.com/python/python_strings_exercises.asp\n",
    "and for regular expressions\n",
    "https://www.w3schools.com/python/python_regex.asp\n",
    "\n",
    "First let's create a dataframe."
   ],
   "metadata": {
    "collapsed": false
   }
  },
  {
   "cell_type": "code",
   "source": [
    "import pandas as pd\n",
    "import re\n",
    "\n",
    "\n",
    "df=pd.Series(['Leonardo DiCaprio',\n",
    "'Meryl Streep',\n",
    "'Denzel Washington',\n",
    "'Scarlett Johansson',\n",
    "'  Kevin De Bruyne',\n",
    "'Natalie Portman',\n",
    "'Leonel Messi',\n",
    "' Tom Hanks ',\n",
    "'Angelina Jolie',\n",
    "'Christian Bale',\n",
    "' Kevin Bacon '              ],name=\"famous\")"
   ],
   "metadata": {
    "collapsed": false,
    "ExecuteTime": {
     "end_time": "2024-10-14T18:52:07.044285Z",
     "start_time": "2024-10-14T18:52:06.407663Z"
    }
   },
   "outputs": [],
   "execution_count": 1
  },
  {
   "cell_type": "markdown",
   "source": [
    "1) In the list we have some blanks in the beginning and the end. Remove them. Call the Series df."
   ],
   "metadata": {
    "collapsed": false
   }
  },
  {
   "cell_type": "code",
   "execution_count": 137,
   "outputs": [
    {
     "name": "stdout",
     "output_type": "stream",
     "text": [
      "0      Leonardo DiCaprio\n",
      "1           Meryl Streep\n",
      "2      Denzel Washington\n",
      "3     Scarlett Johansson\n",
      "4        Kevin De Bruyne\n",
      "5        Natalie Portman\n",
      "6           Leonel Messi\n",
      "7             Tom Hanks \n",
      "8         Angelina Jolie\n",
      "9         Christian Bale\n",
      "10          Kevin Bacon \n",
      "Name: famous, dtype: object\n",
      "0      Leonardo DiCaprio\n",
      "1           Meryl Streep\n",
      "2      Denzel Washington\n",
      "3     Scarlett Johansson\n",
      "4        Kevin De Bruyne\n",
      "5        Natalie Portman\n",
      "6           Leonel Messi\n",
      "7              Tom Hanks\n",
      "8         Angelina Jolie\n",
      "9         Christian Bale\n",
      "10           Kevin Bacon\n",
      "Name: famous, dtype: object\n"
     ]
    }
   ],
   "source": [
    "print(df)\n",
    "# first name\n",
    "stripped=df.str.strip()\n",
    "print(stripped)\n",
    "df=stripped"
   ],
   "metadata": {
    "collapsed": false,
    "ExecuteTime": {
     "start_time": "2024-09-21T17:34:22.709382Z",
     "end_time": "2024-09-21T17:34:22.848115Z"
    }
   }
  },
  {
   "cell_type": "code",
   "execution_count": 138,
   "outputs": [
    {
     "data": {
      "text/plain": "0      Leonardo DiCaprio\n1           Meryl Streep\n2      Denzel Washington\n3     Scarlett Johansson\n4        Kevin De Bruyne\n5        Natalie Portman\n6           Leonel Messi\n7              Tom Hanks\n8         Angelina Jolie\n9         Christian Bale\n10           Kevin Bacon\nName: famous, dtype: object"
     },
     "execution_count": 138,
     "metadata": {},
     "output_type": "execute_result"
    }
   ],
   "source": [
    "df\n"
   ],
   "metadata": {
    "collapsed": false,
    "ExecuteTime": {
     "start_time": "2024-09-21T17:34:23.465768Z",
     "end_time": "2024-09-21T17:34:23.625224Z"
    }
   }
  },
  {
   "cell_type": "markdown",
   "source": [
    "2) Make a series with the len of all the actor names in it."
   ],
   "metadata": {
    "collapsed": false
   }
  },
  {
   "cell_type": "code",
   "execution_count": 144,
   "outputs": [
    {
     "name": "stdout",
     "output_type": "stream",
     "text": [
      "0     17\n",
      "1     12\n",
      "2     17\n",
      "3     18\n",
      "4     15\n",
      "5     15\n",
      "6     12\n",
      "7      9\n",
      "8     14\n",
      "9     14\n",
      "10    11\n",
      "Name: famous, dtype: int64\n"
     ]
    }
   ],
   "source": [
    "df_len=df.str.len()\n",
    "print(df_len)"
   ],
   "metadata": {
    "collapsed": false,
    "ExecuteTime": {
     "start_time": "2024-09-21T17:36:23.109559Z",
     "end_time": "2024-09-21T17:36:23.119832Z"
    }
   }
  },
  {
   "cell_type": "markdown",
   "source": [
    "3) Make a list which will transform all the actors name in lower case"
   ],
   "metadata": {
    "collapsed": false
   }
  },
  {
   "cell_type": "code",
   "execution_count": 145,
   "outputs": [],
   "source": [
    "df_lower=df.str.lower()"
   ],
   "metadata": {
    "collapsed": false,
    "ExecuteTime": {
     "start_time": "2024-09-21T17:36:31.598009Z",
     "end_time": "2024-09-21T17:36:31.610999Z"
    }
   }
  },
  {
   "cell_type": "raw",
   "source": [
    "4) a) Make a list which will transform all the actors names in upper case\n",
    "   b) Create a dataframe withone column the names in uppercase and a second column with the length of the names and change also the column names\n"
   ],
   "metadata": {
    "collapsed": false
   }
  },
  {
   "cell_type": "code",
   "execution_count": 156,
   "outputs": [
    {
     "name": "stdout",
     "output_type": "stream",
     "text": [
      "                famous  length\n",
      "0    LEONARDO DICAPRIO      17\n",
      "1         MERYL STREEP      12\n",
      "2    DENZEL WASHINGTON      17\n",
      "3   SCARLETT JOHANSSON      18\n",
      "4      KEVIN DE BRUYNE      15\n",
      "5      NATALIE PORTMAN      15\n",
      "6         LEONEL MESSI      12\n",
      "7            TOM HANKS       9\n",
      "8       ANGELINA JOLIE      14\n",
      "9       CHRISTIAN BALE      14\n",
      "10         KEVIN BACON      11\n"
     ]
    }
   ],
   "source": [
    "df_upper=df.str.upper()\n",
    "df_len=df.str.len()\n",
    "data=pd.concat([df_upper,df_len],axis=1,)\n",
    "data.columns=['famous','length']\n",
    "print(data)"
   ],
   "metadata": {
    "collapsed": false,
    "ExecuteTime": {
     "start_time": "2024-09-21T17:45:24.076604Z",
     "end_time": "2024-09-21T17:45:24.112082Z"
    }
   }
  },
  {
   "cell_type": "markdown",
   "source": [
    "5) a)Make a list with only the first 5 characters of each string in the Series.\n",
    "   b)Make a list which will show the string except the last 6 characters of each string of df\n",
    "   c)Make a list with only the last 7 characters in each string"
   ],
   "metadata": {
    "collapsed": false
   }
  },
  {
   "cell_type": "code",
   "execution_count": 82,
   "outputs": [
    {
     "name": "stdout",
     "output_type": "stream",
     "text": [
      "0     Leona\n",
      "1     Meryl\n",
      "2     Denze\n",
      "3     Scarl\n",
      "4     Kevin\n",
      "5     Natal\n",
      "6     Leone\n",
      "7     Tom H\n",
      "8     Angel\n",
      "9     Chris\n",
      "10    Kevin\n",
      "Name: famous, dtype: object\n",
      "0      Leonardo Di\n",
      "1           Meryl \n",
      "2      Denzel Wash\n",
      "3     Scarlett Joh\n",
      "4        Kevin De \n",
      "5        Natalie P\n",
      "6           Leonel\n",
      "7              Tom\n",
      "8         Angelina\n",
      "9         Christia\n",
      "10           Kevin\n",
      "Name: famous, dtype: object\n",
      "0     iCaprio\n",
      "1      Streep\n",
      "2     hington\n",
      "3     hansson\n",
      "4      Bruyne\n",
      "5     Portman\n",
      "6     l Messi\n",
      "7     m Hanks\n",
      "8     a Jolie\n",
      "9     an Bale\n",
      "10    n Bacon\n",
      "Name: famous, dtype: object\n"
     ]
    }
   ],
   "source": [
    "df_first5=df.str[0:5]\n",
    "print(df_first5)\n",
    "df_all_except_last6=df.str[:-6]\n",
    "print(df_all_except_last6)\n",
    "df_last7=df.str[-7:]\n",
    "print(df_last7)\n",
    "\n"
   ],
   "metadata": {
    "collapsed": false,
    "ExecuteTime": {
     "start_time": "2024-09-21T15:43:09.192508Z",
     "end_time": "2024-09-21T15:43:09.196377Z"
    }
   }
  },
  {
   "cell_type": "markdown",
   "source": [
    "6) a) Take the string \"This string needs to be cut in pieces\" make a list of all the words in this string [\"This\" ,\"string\", \"needs\",\"to\", \"be\" ,\"cut\" ,\"in\" ,\"pieces\"].\n",
    "   b)Create from this list a pandas Series\n",
    "   c) Take the complete string again and look for the place where we first see the letter 'n'\n",
    "   d) The letter n is the 10th character in the string, is this also the 10 index in the string? Why not?\n",
    "   e) Take the complete string again and print the place of the last appearance of 'n'\n",
    "   f) Split the string in three parts with 'cut' in the middle and print  the 3 parts.\n"
   ],
   "metadata": {
    "collapsed": false
   }
  },
  {
   "cell_type": "code",
   "execution_count": 130,
   "outputs": [
    {
     "name": "stdout",
     "output_type": "stream",
     "text": [
      "0      This\n",
      "1    string\n",
      "2     needs\n",
      "3        to\n",
      "4        be\n",
      "5       cut\n",
      "6        in\n",
      "7    pieces\n",
      "dtype: object\n",
      "9\n",
      "29\n",
      "0    This string needs to be \n",
      "1                         cut\n",
      "2                   in pieces\n",
      "dtype: object\n"
     ]
    }
   ],
   "source": [
    "string_to_be_cut=\"This string needs to be cut in pieces\"\n",
    "#a\n",
    "List_string_cut=string_to_be_cut.split()\n",
    "#b\n",
    "Series_string_cut=pd.Series(List_string_cut)\n",
    "print (Series_string_cut)\n",
    "#c\n",
    "first_place=string_to_be_cut.find('n')\n",
    "print(first_place)\n",
    "#d  first_place is 9 because strings start counting from 0!\n",
    "#e last appearance of 'n'\n",
    "last_place=string_to_be_cut.rfind('n')\n",
    "print(last_place)\n",
    "#f use partition\n",
    "three_parts=string_to_be_cut.partition(\"cut\")\n",
    "print(pd.Series([three_parts[0],three_parts[1],three_parts[2]]))"
   ],
   "metadata": {
    "collapsed": false,
    "ExecuteTime": {
     "start_time": "2024-09-21T17:11:05.357338Z",
     "end_time": "2024-09-21T17:11:05.362829Z"
    }
   }
  },
  {
   "cell_type": "markdown",
   "source": [
    "7  a) Print the first names of every person in a Pandas Series\n",
    "   b) Print the second name in a Pandas Series\n"
   ],
   "metadata": {
    "collapsed": false
   }
  },
  {
   "cell_type": "code",
   "execution_count": 133,
   "outputs": [
    {
     "name": "stdout",
     "output_type": "stream",
     "text": [
      "0      Leonardo\n",
      "1         Meryl\n",
      "2        Denzel\n",
      "3      Scarlett\n",
      "4         Kevin\n",
      "5       Natalie\n",
      "6        Leonel\n",
      "7           Tom\n",
      "8      Angelina\n",
      "9     Christian\n",
      "10        Kevin\n",
      "dtype: object\n",
      "0        DiCaprio\n",
      "1          Streep\n",
      "2      Washington\n",
      "3       Johansson\n",
      "4       De Bruyne\n",
      "5         Portman\n",
      "6           Messi\n",
      "7           Hanks\n",
      "8           Jolie\n",
      "9            Bale\n",
      "10          Bacon\n",
      "dtype: object\n",
      "0       DiCaprio\n",
      "1         Streep\n",
      "2     Washington\n",
      "3      Johansson\n",
      "4      De Bruyne\n",
      "5        Portman\n",
      "6          Messi\n",
      "7          Hanks\n",
      "8          Jolie\n",
      "9           Bale\n",
      "10         Bacon\n",
      "dtype: object\n"
     ]
    }
   ],
   "source": [
    "# first name\n",
    "df_split=df.str.split()\n",
    "first_names=pd.Series([x[0] for x in df_split])\n",
    "print(first_names)\n",
    "#b\n",
    "last_names= pd.Series([x[x.find(\" \"):] for x in df ])\n",
    "print(last_names)\n",
    "#b alternative\n",
    "last_names= pd.Series([x.partition(\" \")[2] for x in df ])\n",
    "print(last_names)"
   ],
   "metadata": {
    "collapsed": false,
    "ExecuteTime": {
     "start_time": "2024-09-21T17:15:46.624410Z",
     "end_time": "2024-09-21T17:15:46.630514Z"
    }
   }
  },
  {
   "cell_type": "markdown",
   "source": [
    "6) a) Replace all the white spaces with $ in the list of famous people.\n",
    "   b) Continue with this Serie object and provide a list of the index in each name where we encounter the $ sign"
   ],
   "metadata": {
    "collapsed": false
   }
  },
  {
   "cell_type": "code",
   "execution_count": 86,
   "outputs": [],
   "source": [
    "df2 = df.str.replace(\" \",\"$\")"
   ],
   "metadata": {
    "collapsed": false,
    "ExecuteTime": {
     "start_time": "2024-09-21T15:57:29.604042Z",
     "end_time": "2024-09-21T15:57:29.616238Z"
    }
   }
  },
  {
   "cell_type": "code",
   "execution_count": 87,
   "outputs": [
    {
     "name": "stdout",
     "output_type": "stream",
     "text": [
      "0      Leonardo$DiCaprio\n",
      "1           Meryl$Streep\n",
      "2      Denzel$Washington\n",
      "3     Scarlett$Johansson\n",
      "4        Kevin$De$Bruyne\n",
      "5        Natalie$Portman\n",
      "6           Leonel$Messi\n",
      "7              Tom$Hanks\n",
      "8         Angelina$Jolie\n",
      "9         Christian$Bale\n",
      "10           Kevin$Bacon\n",
      "Name: famous, dtype: object\n"
     ]
    }
   ],
   "source": [
    "print(df2)"
   ],
   "metadata": {
    "collapsed": false,
    "ExecuteTime": {
     "start_time": "2024-09-21T15:57:45.188505Z",
     "end_time": "2024-09-21T15:57:45.189698Z"
    }
   }
  },
  {
   "cell_type": "code",
   "execution_count": 90,
   "outputs": [
    {
     "name": "stdout",
     "output_type": "stream",
     "text": [
      "0     8\n",
      "1     5\n",
      "2     6\n",
      "3     8\n",
      "4     5\n",
      "5     7\n",
      "6     6\n",
      "7     3\n",
      "8     8\n",
      "9     9\n",
      "10    5\n",
      "Name: famous, dtype: int64\n"
     ]
    }
   ],
   "source": [
    "df3=df2.str.index(\"$\")\n",
    "print(df3)"
   ],
   "metadata": {
    "collapsed": false,
    "ExecuteTime": {
     "start_time": "2024-09-21T16:04:09.657707Z",
     "end_time": "2024-09-21T16:04:09.659869Z"
    }
   }
  },
  {
   "cell_type": "markdown",
   "source": [
    "We need another Series for the next exercise:"
   ],
   "metadata": {
    "collapsed": false
   }
  },
  {
   "cell_type": "code",
   "execution_count": 115,
   "outputs": [],
   "source": [
    "rubbish=pd.Series(['just a phrase',\n",
    "\"123\",\n",
    "'45,56',\n",
    "'HI',\n",
    "\"\\u0030\",\n",
    "'Natalie Portman',\n",
    "\"\\u00B2\",\n",
    "'22.23',\n",
    "'Angelina Jolie',\n",
    "'Christian Bale',\n",
    "' Kevin Bacon '              ],name=\"rubbish\")"
   ],
   "metadata": {
    "collapsed": false,
    "ExecuteTime": {
     "start_time": "2024-09-21T16:23:25.630948Z",
     "end_time": "2024-09-21T16:23:25.640738Z"
    }
   }
  },
  {
   "cell_type": "markdown",
   "source": [
    "7) a) Create a new series which will indicate if the string in rubbish has only numeric characters\n",
    "   b) Create a new series which will indicate if the string is a decimal\n",
    "   c) Create a new Series which will indicate is all the characters in the string are numbers or letters\n",
    "   d) Create a new Series which will indicate if all characters in the string ae letters."
   ],
   "metadata": {
    "collapsed": false
   }
  },
  {
   "cell_type": "code",
   "execution_count": 116,
   "outputs": [],
   "source": [
    "#a\n",
    "R_isnumber=rubbish.str.isnumeric()"
   ],
   "metadata": {
    "collapsed": false,
    "ExecuteTime": {
     "start_time": "2024-09-21T16:23:27.438130Z",
     "end_time": "2024-09-21T16:23:27.449284Z"
    }
   }
  },
  {
   "cell_type": "code",
   "execution_count": 118,
   "outputs": [
    {
     "name": "stdout",
     "output_type": "stream",
     "text": [
      "0     False\n",
      "1      True\n",
      "2     False\n",
      "3     False\n",
      "4      True\n",
      "5     False\n",
      "6      True\n",
      "7     False\n",
      "8     False\n",
      "9     False\n",
      "10    False\n",
      "Name: rubbish, dtype: bool\n"
     ]
    }
   ],
   "source": [
    "print(R_isnumber)\n",
    "# why is entry 4 and 6 considered as True?  \"\\u0030\" #unicode for 0 and \"\\u00B2\" #unicode for ²"
   ],
   "metadata": {
    "collapsed": false,
    "ExecuteTime": {
     "start_time": "2024-09-21T16:24:45.730797Z",
     "end_time": "2024-09-21T16:24:45.734817Z"
    }
   }
  },
  {
   "cell_type": "code",
   "execution_count": 119,
   "outputs": [
    {
     "data": {
      "text/plain": "0     False\n1      True\n2     False\n3     False\n4      True\n5     False\n6     False\n7     False\n8     False\n9     False\n10    False\nName: rubbish, dtype: bool"
     },
     "execution_count": 119,
     "metadata": {},
     "output_type": "execute_result"
    }
   ],
   "source": [
    "#b\n",
    "R_isdecimal=rubbish.str.isdecimal()\n",
    "R_isdecimal\n",
    "#why is entry 6 now false? \"\\u00B2\" #unicode for ² is not a decimal!!"
   ],
   "metadata": {
    "collapsed": false,
    "ExecuteTime": {
     "start_time": "2024-09-21T16:25:28.630164Z",
     "end_time": "2024-09-21T16:25:28.639791Z"
    }
   }
  },
  {
   "cell_type": "code",
   "execution_count": 121,
   "outputs": [
    {
     "name": "stdout",
     "output_type": "stream",
     "text": [
      "0       just a phrase\n",
      "1                 123\n",
      "2               45,56\n",
      "3                  HI\n",
      "4                   0\n",
      "5     Natalie Portman\n",
      "6                   ²\n",
      "7               22.23\n",
      "8      Angelina Jolie\n",
      "9      Christian Bale\n",
      "10       Kevin Bacon \n",
      "Name: rubbish, dtype: object\n",
      "0     False\n",
      "1      True\n",
      "2     False\n",
      "3      True\n",
      "4      True\n",
      "5     False\n",
      "6      True\n",
      "7     False\n",
      "8     False\n",
      "9     False\n",
      "10    False\n",
      "Name: rubbish, dtype: bool\n"
     ]
    }
   ],
   "source": [
    "#c\n",
    "R_isalnum=rubbish.str.isalnum()\n",
    "print(rubbish)\n",
    "print(R_isalnum)"
   ],
   "metadata": {
    "collapsed": false,
    "ExecuteTime": {
     "start_time": "2024-09-21T16:57:40.032195Z",
     "end_time": "2024-09-21T16:57:40.075529Z"
    }
   }
  },
  {
   "cell_type": "code",
   "execution_count": 135,
   "outputs": [
    {
     "name": "stdout",
     "output_type": "stream",
     "text": [
      "0       just a phrase\n",
      "1                 123\n",
      "2               45,56\n",
      "3                  HI\n",
      "4                   0\n",
      "5     Natalie Portman\n",
      "6                   ²\n",
      "7               22.23\n",
      "8      Angelina Jolie\n",
      "9      Christian Bale\n",
      "10       Kevin Bacon \n",
      "Name: rubbish, dtype: object\n",
      "0     False\n",
      "1     False\n",
      "2     False\n",
      "3      True\n",
      "4     False\n",
      "5     False\n",
      "6     False\n",
      "7     False\n",
      "8     False\n",
      "9     False\n",
      "10    False\n",
      "Name: rubbish, dtype: bool\n"
     ]
    }
   ],
   "source": [
    "#d\n",
    "R_isalpha=rubbish.str.isalpha()\n",
    "print(rubbish)\n",
    "print(R_isalpha)"
   ],
   "metadata": {
    "collapsed": false,
    "ExecuteTime": {
     "start_time": "2024-09-21T17:17:21.895318Z",
     "end_time": "2024-09-21T17:17:21.904147Z"
    }
   }
  },
  {
   "cell_type": "markdown",
   "source": [
    "## Regular expressions\n",
    "\n",
    "We start with a string:"
   ],
   "metadata": {
    "collapsed": false
   }
  },
  {
   "cell_type": "code",
   "execution_count": 157,
   "outputs": [],
   "source": [
    "Tesla_story=\"The Tesla company was incorporated as Tesla Motors, Inc. on 1-7-2003, by Martin Eberhard and Marc Tarpenning. Eberhard and Tarpenning served as CEO and CFO, respectively. Eberhard said he wanted to build a car manufacturer that is also a technology company, with its core technologies as the battery, the computer software, and the proprietary motor. Ian Wright was thr third employee, joining a few months later.In February 2004, the company raised $7.5 million in series A funding, including $6.5 million from Elon Musk, who had received $100 million from the sale of his interest in PayPal two years earlier. Musk became the chairman of the board of directors and the largest shareholder of Tesla. J. B. Straubel joined Tesla in May 2004 as chief technical officer. A lawsuit settlement agreed to by Eberhard and Tesla in September 2009 allows all five – Eberhard, Tarpenning, Wright, Musk, and Straubel – to call themselves co-founders.On 29-06-2010, the company became a public company via an initial public offering (IPO) on NASDAQ, the first American car company to do so since the Ford Motor Company had its IPO in 1956. The company issued 13.3 million shares of common stock at a price of $17.00 per share, raising $226 million.\""
   ],
   "metadata": {
    "collapsed": false,
    "ExecuteTime": {
     "start_time": "2024-09-21T19:56:50.768275Z",
     "end_time": "2024-09-21T19:56:50.804551Z"
    }
   }
  },
  {
   "cell_type": "markdown",
   "source": [
    "1) Look for the name Eberhard in the Tesla_story using the re method search. How do we know the first starting position of the string 'Eberhard'? What is the last character? Was Donald Trump involved in the build uo of Tesla (look if you find Donald Trump)"
   ],
   "metadata": {
    "collapsed": false
   }
  },
  {
   "cell_type": "code",
   "execution_count": 159,
   "outputs": [],
   "source": [
    "pattern='Eberhard'\n",
    "matchE=re.search(pattern,Tesla_story)"
   ],
   "metadata": {
    "collapsed": false,
    "ExecuteTime": {
     "start_time": "2024-09-21T19:59:15.247209Z",
     "end_time": "2024-09-21T19:59:15.266012Z"
    }
   }
  },
  {
   "cell_type": "code",
   "execution_count": 160,
   "outputs": [
    {
     "name": "stdout",
     "output_type": "stream",
     "text": [
      "80\n"
     ]
    }
   ],
   "source": [
    "print(matchE.start())"
   ],
   "metadata": {
    "collapsed": false,
    "ExecuteTime": {
     "start_time": "2024-09-21T20:04:31.187907Z",
     "end_time": "2024-09-21T20:04:31.208120Z"
    }
   }
  },
  {
   "cell_type": "code",
   "execution_count": 161,
   "outputs": [
    {
     "name": "stdout",
     "output_type": "stream",
     "text": [
      "88\n"
     ]
    }
   ],
   "source": [
    "print(matchE.end())"
   ],
   "metadata": {
    "collapsed": false,
    "ExecuteTime": {
     "start_time": "2024-09-21T20:05:22.636048Z",
     "end_time": "2024-09-21T20:05:22.680064Z"
    }
   }
  },
  {
   "cell_type": "code",
   "execution_count": 162,
   "outputs": [],
   "source": [
    "pattern='Donald Trump'\n",
    "matchDT=re.search(pattern,Tesla_story)"
   ],
   "metadata": {
    "collapsed": false,
    "ExecuteTime": {
     "start_time": "2024-09-21T20:06:47.198042Z",
     "end_time": "2024-09-21T20:06:47.247409Z"
    }
   }
  },
  {
   "cell_type": "code",
   "execution_count": 164,
   "outputs": [
    {
     "name": "stdout",
     "output_type": "stream",
     "text": [
      "None\n"
     ]
    }
   ],
   "source": [
    "print(matchDT)"
   ],
   "metadata": {
    "collapsed": false,
    "ExecuteTime": {
     "start_time": "2024-09-21T20:07:06.865239Z",
     "end_time": "2024-09-21T20:07:06.881994Z"
    }
   }
  },
  {
   "cell_type": "markdown",
   "source": [
    "2) a) But we see that the name Eberhard appears several times in the string, how can we find all the appearances?\n",
    "   b) How many occurances do we see?\n",
    "   c) Remember with the usual find method we could find the first or the last but not all the occurances. How do you find all the places where we have 'Eberhard'?\n",
    "   d) What if we only want to show the start positions?"
   ],
   "metadata": {
    "collapsed": false
   }
  },
  {
   "cell_type": "code",
   "execution_count": 166,
   "outputs": [
    {
     "name": "stdout",
     "output_type": "stream",
     "text": [
      "['Eberhard', 'Eberhard', 'Eberhard', 'Eberhard', 'Eberhard']\n"
     ]
    }
   ],
   "source": [
    "#a\n",
    "pattern = 'Eberhard'\n",
    "matchall = re.findall(pattern, Tesla_story)\n",
    "print(matchall)"
   ],
   "metadata": {
    "collapsed": false,
    "ExecuteTime": {
     "start_time": "2024-09-21T20:08:27.609347Z",
     "end_time": "2024-09-21T20:08:27.611821Z"
    }
   }
  },
  {
   "cell_type": "code",
   "execution_count": null,
   "outputs": [],
   "source": [
    "##b\n",
    "len(matchall) # list the total number of appearances"
   ],
   "metadata": {
    "collapsed": false
   }
  },
  {
   "cell_type": "code",
   "execution_count": 168,
   "outputs": [
    {
     "name": "stdout",
     "output_type": "stream",
     "text": [
      "(80, 88)\n",
      "(110, 118)\n",
      "(171, 179)\n",
      "(803, 811)\n",
      "(858, 866)\n"
     ]
    }
   ],
   "source": [
    "#c\n",
    "matches=re.finditer(pattern,Tesla_story)\n",
    "for i in matches:\n",
    "    print(i.span())"
   ],
   "metadata": {
    "collapsed": false,
    "ExecuteTime": {
     "start_time": "2024-09-21T20:11:58.082713Z",
     "end_time": "2024-09-21T20:11:58.095297Z"
    }
   }
  },
  {
   "cell_type": "code",
   "execution_count": 170,
   "outputs": [
    {
     "name": "stdout",
     "output_type": "stream",
     "text": [
      "Pattern Eberhard starts at position 80\n",
      "Pattern Eberhard starts at position 110\n",
      "Pattern Eberhard starts at position 171\n",
      "Pattern Eberhard starts at position 803\n",
      "Pattern Eberhard starts at position 858\n"
     ]
    }
   ],
   "source": [
    "#d if we only are interested in the start positions:\n",
    "matches=re.finditer(pattern,Tesla_story)\n",
    "for i in matches:\n",
    "    print(f'Pattern {i.group()} starts at position {i.start()}')"
   ],
   "metadata": {
    "collapsed": false,
    "ExecuteTime": {
     "start_time": "2024-09-21T20:13:44.194024Z",
     "end_time": "2024-09-21T20:13:44.231640Z"
    }
   }
  },
  {
   "cell_type": "markdown",
   "source": [
    "##### More complex patterns\n",
    "Recap:\n",
    "##### Identifiers for Characters in Patterns\n",
    "<table ><tr><th>Character</th><th>Description</th><th>Example Pattern Code</th><th >Example Match</th></tr>\n",
    "\n",
    "<tr ><td><span >\\d</span></td><td>A digit</td><td>file_\\d\\d</td><td>file_25</td></tr>\n",
    "\n",
    "<tr ><td><span >\\w</span></td><td>Alphanumeric</td><td>\\w-\\w\\w\\w</td><td>A-b_1</td></tr>\n",
    "\n",
    "\n",
    "\n",
    "<tr ><td><span >\\s</span></td><td>White space</td><td>x\\sy\\sz</td><td>x y z</td></tr>\n",
    "\n",
    "\n",
    "\n",
    "<tr ><td><span >\\D</span></td><td>A non digit</td><td>\\D\\D\\D</td><td>AB?</td></tr>\n",
    "\n",
    "<tr ><td><span >\\W</span></td><td>Non-alphanumeric</td><td>\\W\\W\\W\\W\\W</td><td>*-+=)</td></tr>\n",
    "\n",
    "<tr ><td><span >\\S</span></td><td>Non-whitespace</td><td>\\S\\S\\S\\S</td><td>Ext?</td></tr></table>\n",
    "\n",
    "##### Quantifiers in Patterns\n",
    "\n",
    "<table ><tr><th>Character</th><th>Description</th><th>Example Pattern Code</th><th >Example Match</th></tr>\n",
    "\n",
    "<tr ><td><span >+</span></td><td>Occurs one or more times</td><td>\tVersion \\w-\\w+</td><td>Version A-b1_1</td></tr>\n",
    "\n",
    "<tr ><td><span >{5}</span></td><td>Occurs exactly 5 times</td><td>\\D{5}</td><td>abcT!</td></tr>\n",
    "\n",
    "\n",
    "\n",
    "<tr ><td><span >{2,6}</span></td><td>Occurs 2 to 6 times</td><td>\\d{2,6}</td><td>123</td></tr>\n",
    "\n",
    "\n",
    "\n",
    "<tr ><td><span >{2,}</span></td><td>Occurs 2 or more times </td><td>\\w{2,}</td><td>anycharacters</td></tr>\n",
    "\n",
    "<tr ><td><span >*</span></td><td>Occurs zero or more times</td><td>A*B*C*</td><td>AAACC</td></tr>\n",
    "\n",
    "<tr ><td><span >?</span></td><td>Once or none</td><td>plurals?</td><td>plural</td></tr></table>"
   ],
   "metadata": {
    "collapsed": false
   }
  },
  {
   "cell_type": "markdown",
   "source": [
    "3) Search for just a date in the following format: 15-12-1969\n"
   ],
   "metadata": {
    "collapsed": false
   }
  },
  {
   "cell_type": "code",
   "execution_count": 171,
   "outputs": [
    {
     "data": {
      "text/plain": "<re.Match object; span=(60, 68), match='1-7-2003'>"
     },
     "execution_count": 171,
     "metadata": {},
     "output_type": "execute_result"
    }
   ],
   "source": [
    "#construct the date pattern and search the first date\n",
    "patterndate='\\d\\d?-\\d\\d?-\\d{4}'\n",
    "re.search(patterndate,Tesla_story)"
   ],
   "metadata": {
    "collapsed": false,
    "ExecuteTime": {
     "start_time": "2024-09-21T20:21:24.158708Z",
     "end_time": "2024-09-21T20:21:24.299511Z"
    }
   }
  },
  {
   "cell_type": "code",
   "execution_count": 172,
   "outputs": [
    {
     "name": "stdout",
     "output_type": "stream",
     "text": [
      "<re.Match object; span=(60, 68), match='1-7-2003'>\n",
      "<re.Match object; span=(943, 953), match='29-06-2010'>\n"
     ]
    }
   ],
   "source": [
    "#construct the date pattern and search foe all the dates\n",
    "matches = re.finditer(patterndate, Tesla_story)\n",
    "for i in matches:\n",
    "    print(i)"
   ],
   "metadata": {
    "collapsed": false,
    "ExecuteTime": {
     "start_time": "2024-09-21T20:22:07.789656Z",
     "end_time": "2024-09-21T20:22:07.926630Z"
    }
   }
  },
  {
   "cell_type": "markdown",
   "source": [
    "##### Groups\n",
    "\n",
    "4) Extract from the dates only the years and the months and finally print the full dates."
   ],
   "metadata": {
    "collapsed": false
   }
  },
  {
   "cell_type": "code",
   "execution_count": null,
   "outputs": [],
   "source": [
    "datepattern = re.compile('(\\d\\d?)-(\\d\\d?)-(\\d{4})')\n",
    "matches = re.finditer(datepattern,Tesla_story)\n",
    "# for example we print the years of the dates in the string\n",
    "for i in matches:\n",
    "    print(f'the year {i.group(3)} is important for Tesla')\n",
    "# for example we print the years of the dates in the string\n",
    "matches = re.finditer(datepattern, Tesla_story)\n",
    "for i in matches:\n",
    "    print(f'the month {i.group(2)} is important for Tesla')\n",
    "# we also can print the entire match\n",
    "matches = re.finditer(datepattern, Tesla_story)\n",
    "for i in matches:\n",
    "    print(f'the date {i.group()} is important for Tesla')"
   ],
   "metadata": {
    "collapsed": false
   }
  },
  {
   "cell_type": "markdown",
   "source": [
    "\n",
    "5) Use the pipe operator to have an **or** statement. For example if we want to know where in the string we come across aname of a co-founder. Use the pipe symbol: Musk|Eberhard|Wright|Tarpenning|Straubel"
   ],
   "metadata": {
    "collapsed": false
   }
  },
  {
   "cell_type": "code",
   "execution_count": 173,
   "outputs": [
    {
     "name": "stdout",
     "output_type": "stream",
     "text": [
      "<re.Match object; span=(80, 88), match='Eberhard'>\n",
      "<re.Match object; span=(98, 108), match='Tarpenning'>\n",
      "<re.Match object; span=(110, 118), match='Eberhard'>\n",
      "<re.Match object; span=(123, 133), match='Tarpenning'>\n",
      "<re.Match object; span=(171, 179), match='Eberhard'>\n",
      "<re.Match object; span=(355, 361), match='Wright'>\n",
      "<re.Match object; span=(517, 521), match='Musk'>\n",
      "<re.Match object; span=(612, 616), match='Musk'>\n",
      "<re.Match object; span=(707, 715), match='Straubel'>\n",
      "<re.Match object; span=(803, 811), match='Eberhard'>\n",
      "<re.Match object; span=(858, 866), match='Eberhard'>\n",
      "<re.Match object; span=(868, 878), match='Tarpenning'>\n",
      "<re.Match object; span=(880, 886), match='Wright'>\n",
      "<re.Match object; span=(888, 892), match='Musk'>\n",
      "<re.Match object; span=(898, 906), match='Straubel'>\n"
     ]
    }
   ],
   "source": [
    "cofounderpattern = re.compile(\"Musk|Eberhard|Wright|Tarpenning|Straubel\")\n",
    "matches = re.finditer(cofounderpattern,Tesla_story)\n",
    "for match in matches:\n",
    "    print(match)"
   ],
   "metadata": {
    "collapsed": false,
    "ExecuteTime": {
     "start_time": "2024-09-21T20:35:05.717052Z",
     "end_time": "2024-09-21T20:35:05.721777Z"
    }
   }
  },
  {
   "cell_type": "raw",
   "source": [
    "6) a) Look for all appearances of the string \"al\" at the end of a word\n",
    "   b) Find two consecutive digitals in the string 'We have 1 apple and 12 pears'\n",
    "   c) Find the last non-punctuation character of the Tesla_story"
   ],
   "metadata": {
    "collapsed": false
   }
  },
  {
   "cell_type": "code",
   "execution_count": 185,
   "outputs": [
    {
     "name": "stdout",
     "output_type": "stream",
     "text": [
      "PayPal \n",
      "technical \n",
      "initial \n"
     ]
    }
   ],
   "source": [
    "#a\n",
    "matches=re.finditer(r'\\S+al\\s|\\Sal\\.',Tesla_story);\n",
    "for match in matches:\n",
    "    print(match.group())"
   ],
   "metadata": {
    "collapsed": false,
    "ExecuteTime": {
     "start_time": "2024-09-21T20:48:40.075755Z",
     "end_time": "2024-09-21T20:48:40.080458Z"
    }
   }
  },
  {
   "cell_type": "code",
   "execution_count": 198,
   "outputs": [
    {
     "name": "stdout",
     "output_type": "stream",
     "text": [
      "['12']\n",
      "n\n"
     ]
    }
   ],
   "source": [
    "#b Find all digital characters\n",
    "Easy='We have 1 apple and 12 pears'\n",
    "match = re.findall(r'\\d{2}', Easy)\n",
    "print(match)\n",
    "#c find the last non-punctuation character of the file\n",
    "match = re.search(r'(\\w)(\\W$)', Tesla_story)\n",
    "print(match.group(1))"
   ],
   "metadata": {
    "collapsed": false,
    "ExecuteTime": {
     "start_time": "2024-09-21T21:02:55.500366Z",
     "end_time": "2024-09-21T21:02:55.505764Z"
    }
   }
  },
  {
   "cell_type": "code",
   "execution_count": null,
   "outputs": [],
   "source": [],
   "metadata": {
    "collapsed": false
   }
  }
 ],
 "metadata": {
  "kernelspec": {
   "display_name": "Python 3",
   "language": "python",
   "name": "python3"
  },
  "language_info": {
   "codemirror_mode": {
    "name": "ipython",
    "version": 2
   },
   "file_extension": ".py",
   "mimetype": "text/x-python",
   "name": "python",
   "nbconvert_exporter": "python",
   "pygments_lexer": "ipython2",
   "version": "2.7.6"
  }
 },
 "nbformat": 4,
 "nbformat_minor": 0
}
