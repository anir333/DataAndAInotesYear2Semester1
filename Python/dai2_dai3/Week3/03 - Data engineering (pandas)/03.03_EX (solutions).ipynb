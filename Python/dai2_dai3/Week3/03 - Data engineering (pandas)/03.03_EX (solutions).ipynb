{
 "cells": [
  {
   "cell_type": "code",
   "execution_count": 19,
   "id": "initial_id",
   "metadata": {
    "collapsed": true,
    "ExecuteTime": {
     "end_time": "2024-08-23T09:32:16.884017700Z",
     "start_time": "2024-08-23T09:32:16.838360300Z"
    }
   },
   "outputs": [],
   "source": [
    "import numpy as np\n",
    "import pandas as pd\n",
    "import sklearn.datasets as ds\n",
    "\n",
    "#Data preperation\n",
    "rng = np.random.default_rng(42)\n",
    "\n",
    "iris_bunch = ds.load_iris(as_frame=True)\n",
    "iris = pd.DataFrame(iris_bunch.data.to_numpy(), index=np.arange(1, 151), columns=iris_bunch.data.columns)\n",
    "iris_sepal_length = iris['sepal length (cm)']\n",
    "iris_sepal_length_b = pd.Series(iris['sepal length (cm)'], index=np.arange(1, 151))\n",
    "#@copilot: create a dataframe with the countries of europe as the index, with a column population and gbp\n",
    "countries = ['France', 'Germany', 'Italy', 'Spain', 'Portugal', 'Greece', 'Belgium', 'Netherlands', 'Luxembourg', 'Austria', 'Switzerland', 'Denmark', 'Sweden', 'Norway', 'Finland', 'Iceland', 'Ireland', 'United Kingdom']\n",
    "population = [67, 83, 60, 47, 10, 11, 11, 17, 0.6, 9, 8, 6, 10, 5, 5, 0.3, 5, 67]\n",
    "GDP = [2.78, 4.42, 2.08, 1.39, 0.23, 0.18, 0.53, 0.91, 0.06, 0.45, 0.70, 0.35, 0.53, 0.40, 0.27, 0.02, 0.33, 2.83]\n",
    "\n",
    "national_dept = pd.Series([2.36, 2.09, 2.34, 1.18, 2.32], index=['France', 'Belgium', 'Italy', 'Austria', 'Monaco'])\n",
    "europe = pd.DataFrame({'population': population, 'GDP': GDP}, index=countries)\n",
    "europe.sort_index(inplace=True)\n",
    "europe_correction= rng.choice([0.99, 0.98,1.01,1], size=18)"
   ]
  },
  {
   "cell_type": "markdown",
   "source": [
    "\n",
    "a. Add a column to the dataframe GDP_per_capita which is the GDP divided by the population. Check the result.\n",
    "b. Create a series national_dept_per_capita with the same index as the dataframe europe, which is the national_dept divided by the population. Check the result.\n",
    "c. Create a series national_dept_per_capita_b with the same index as the dataframe europe, which is the national_dept divided by the population. When indexes don't align, the result should be set to 0. Check the result.\n",
    "d. add national_dept and national_dept_per_capita_b to the dataframe europe\n",
    "e. All numbers in the dataframe have to corrected, by multiplying every row with the corresponding value in europe_correction.\n",
    "f. population, GDP and national_dept are in billions.Create a new dataframe europe_c with these columns adjusted. Check the result."
   ],
   "metadata": {
    "collapsed": false
   },
   "id": "f880b1c5f98431c2"
  },
  {
   "cell_type": "code",
   "outputs": [
    {
     "name": "stdout",
     "output_type": "stream",
     "text": [
      "Austria           1.337732e-10\n",
      "Belgium           1.900000e-10\n",
      "Denmark                    NaN\n",
      "Finland                    NaN\n",
      "France            3.667626e-11\n",
      "Germany                    NaN\n",
      "Greece                     NaN\n",
      "Iceland                    NaN\n",
      "Ireland                    NaN\n",
      "Italy             3.979186e-11\n",
      "Luxembourg                 NaN\n",
      "Monaco                     NaN\n",
      "Netherlands                NaN\n",
      "Norway                     NaN\n",
      "Portugal                   NaN\n",
      "Spain                      NaN\n",
      "Sweden                     NaN\n",
      "Switzerland                NaN\n",
      "United Kingdom             NaN\n",
      "dtype: float64\n",
      "Austria           1.337732e-10\n",
      "Belgium           1.900000e-10\n",
      "Denmark           0.000000e+00\n",
      "Finland           0.000000e+00\n",
      "France            3.667626e-11\n",
      "Germany           0.000000e+00\n",
      "Greece            0.000000e+00\n",
      "Iceland           0.000000e+00\n",
      "Ireland           0.000000e+00\n",
      "Italy             3.979186e-11\n",
      "Luxembourg        0.000000e+00\n",
      "Monaco                     inf\n",
      "Netherlands       0.000000e+00\n",
      "Norway            0.000000e+00\n",
      "Portugal          0.000000e+00\n",
      "Spain             0.000000e+00\n",
      "Sweden            0.000000e+00\n",
      "Switzerland       0.000000e+00\n",
      "United Kingdom    0.000000e+00\n",
      "dtype: float64\n",
      "                  population           GDP  GDP_per_capita  national_dept  \\\n",
      "Austria         8.732691e+18  4.366346e+17        0.049500   1.168200e+09   \n",
      "Belgium         1.100000e+19  5.300000e+17        0.048182   2.090000e+09   \n",
      "Denmark         6.181806e+18  3.606054e+17        0.058917            NaN   \n",
      "Finland         4.705960e+18  2.541218e+17        0.052920            NaN   \n",
      "France          6.305986e+19  2.616514e+18        0.040663   2.312800e+09   \n",
      "Germany         8.300000e+19  4.420000e+18        0.053253            NaN   \n",
      "Greece          1.067329e+19  1.746538e+17        0.016200            NaN   \n",
      "Iceland         3.090903e+17  2.060602e+16        0.067333            NaN   \n",
      "Ireland         4.851495e+18  3.201987e+17        0.065340            NaN   \n",
      "Italy           5.821794e+19  2.018222e+18        0.034320   2.316600e+09   \n",
      "Luxembourg      6.181806e+17  6.181806e+16        0.101000            NaN   \n",
      "Netherlands     1.700000e+19  9.100000e+17        0.053529            NaN   \n",
      "Norway          5.151505e+18  4.121204e+17        0.080800            NaN   \n",
      "Portugal        1.000000e+19  2.300000e+17        0.023000            NaN   \n",
      "Spain           4.842415e+19  1.432118e+18        0.029870            NaN   \n",
      "Sweden          1.000000e+19  5.300000e+17        0.053000            NaN   \n",
      "Switzerland     8.242408e+18  7.212107e+17        0.088375            NaN   \n",
      "United Kingdom  6.501003e+19  2.745946e+18        0.041816            NaN   \n",
      "\n",
      "                national_dept_per_capita  \n",
      "Austria                     1.324355e-10  \n",
      "Belgium                     1.900000e-10  \n",
      "Denmark                     0.000000e+00  \n",
      "Finland                     0.000000e+00  \n",
      "France                      3.594274e-11  \n",
      "Germany                     0.000000e+00  \n",
      "Greece                      0.000000e+00  \n",
      "Iceland                     0.000000e+00  \n",
      "Ireland                     0.000000e+00  \n",
      "Italy                       3.939394e-11  \n",
      "Luxembourg                  0.000000e+00  \n",
      "Netherlands                 0.000000e+00  \n",
      "Norway                      0.000000e+00  \n",
      "Portugal                    0.000000e+00  \n",
      "Spain                       0.000000e+00  \n",
      "Sweden                      0.000000e+00  \n",
      "Switzerland                 0.000000e+00  \n",
      "United Kingdom              0.000000e+00  \n"
     ]
    }
   ],
   "source": [
    "#a\n",
    "europe['GDP_per_capita'] = europe['GDP'] / europe['population']\n",
    "#b\n",
    "national_dept_per_capita = national_dept / europe['population']\n",
    "print(national_dept_per_capita)\n",
    "#c\n",
    "national_dept_per_capita_b = national_dept.div(europe['population'], fill_value=0)\n",
    "print(national_dept_per_capita_b)\n",
    "#d \n",
    "europe['national_dept'] = national_dept\n",
    "europe['national_dept_per_capita'] = national_dept_per_capita_b\n",
    "# e\n",
    "europe = europe.multiply(europe_correction, axis=0)\n",
    "#Perhaps you tried 'europe2= europe * europe_correction'. This does not work because broadcasting works row-wise in Pandas by default. If you want to multiply column-wise, you need to use the 'multiply' method.\n",
    "# f\n",
    "europe[['population', 'GDP', 'national_dept']] *= 1e9\n",
    "print(europe)"
   ],
   "metadata": {
    "collapsed": false,
    "ExecuteTime": {
     "end_time": "2024-08-23T09:42:07.283787Z",
     "start_time": "2024-08-23T09:42:07.202760500Z"
    }
   },
   "id": "b1934291f4c0a242",
   "execution_count": 22
  }
 ],
 "metadata": {
  "kernelspec": {
   "display_name": "Python 3",
   "language": "python",
   "name": "python3"
  },
  "language_info": {
   "codemirror_mode": {
    "name": "ipython",
    "version": 2
   },
   "file_extension": ".py",
   "mimetype": "text/x-python",
   "name": "python",
   "nbconvert_exporter": "python",
   "pygments_lexer": "ipython2",
   "version": "2.7.6"
  }
 },
 "nbformat": 4,
 "nbformat_minor": 5
}
