{
 "cells": [
  {
   "cell_type": "code",
   "id": "initial_id",
   "metadata": {
    "collapsed": true,
    "jupyter": {
     "outputs_hidden": true
    },
    "ExecuteTime": {
     "end_time": "2024-10-10T10:24:24.316004Z",
     "start_time": "2024-10-10T10:24:24.276591Z"
    }
   },
   "source": [
    "import numpy as np\n",
    "import pandas as pd\n",
    "import sklearn.datasets as ds\n",
    "\n",
    "#Data preparation\n",
    "iris_bunch = ds.load_iris(as_frame=True)\n",
    "iris = pd.DataFrame(iris_bunch.data.to_numpy(), index=np.arange(1, 151), columns=iris_bunch.data.columns)\n",
    "iris_sepal_length = iris['sepal length (cm)']\n",
    "iris_sepal_length_b = pd.Series(iris['sepal length (cm)'], index=np.arange(1, 151))\n",
    "# create a dataframe with the countries of europe as the index, with a column population and gdp\n",
    "countries = ['France', 'Germany', 'Italy', 'Spain', 'Portugal', 'Greece', 'Belgium', 'Netherlands', 'Luxembourg', 'Austria', 'Switzerland', 'Denmark', 'Sweden', 'Norway', 'Finland', 'Iceland', 'Ireland', 'United Kingdom']\n",
    "population = [67, 83, 60, 47, 10, 11, 11, 17, 0.6, 9, 8, 6, 10, 5, 5, 0.3, 5, 67]\n",
    "GDP = [2.78, 4.42, 2.08, 1.39, 0.23, 0.18, 0.53, 0.91, 0.06, 0.45, 0.70, 0.35, 0.53, 0.40, 0.27, 0.02, 0.33, 2.83]\n",
    "europe = pd.DataFrame({'population': population, 'GDP': GDP}, index=countries)\n",
    "europe.sort_index(inplace=True)"
   ],
   "outputs": [],
   "execution_count": 2
  },
  {
   "cell_type": "markdown",
   "id": "f880b1c5f98431c2",
   "metadata": {
    "collapsed": false,
    "jupyter": {
     "outputs_hidden": false
    }
   },
   "source": [
    "# Selection slicing and dicing\n",
    "### Series objects\n",
    "\n"
   ]
  },
  {
   "cell_type": "markdown",
   "id": "5a4b3fd9d39045c6",
   "metadata": {
    "collapsed": false,
    "jupyter": {
     "outputs_hidden": false
    }
   },
   "source": [
    "\n",
    "The iris dataframe is a 150x4 dataframe with properties of iris flowers. In the cel above, we also extracted one column of the dataframe.\n",
    "\n",
    "```\n",
    "iris = pd.DataFrame(iris, index=np.arange(1, 151)) #creates a dataframe with an explicit index from 1 to 150\n",
    "iris_sepal_length = iris['sepal length (cm)'] #creates a series with the sepal length of the flowers\n",
    "```\n",
    "a. Excecute iris_sepal_length[0]. What do you get? Why?\n",
    "b. Execute iris_sepal_length[1]. What do you get? Why?\n",
    "c. Execute iris_sepal_length[1:3]. What do you get? Why?"
   ]
  },
  {
   "cell_type": "code",
   "id": "59d10586741af830",
   "metadata": {
    "collapsed": false,
    "jupyter": {
     "outputs_hidden": false
    },
    "ExecuteTime": {
     "end_time": "2024-10-10T10:34:56.874640Z",
     "start_time": "2024-10-10T10:34:56.853860Z"
    }
   },
   "source": "iris_sepal_length[1:3]",
   "outputs": [
    {
     "data": {
      "text/plain": [
       "2    4.9\n",
       "3    4.7\n",
       "Name: sepal length (cm), dtype: float64"
      ]
     },
     "execution_count": 6,
     "metadata": {},
     "output_type": "execute_result"
    }
   ],
   "execution_count": 6
  },
  {
   "cell_type": "markdown",
   "id": "8d8eb55418075815",
   "metadata": {
    "collapsed": false,
    "jupyter": {
     "outputs_hidden": false
    }
   },
   "source": [
    "Because of the confusion the explicit index can cause with the bracket notation, it is better to use the loc and iloc attributes. You are always sure of what you are getting.\n",
    "\n",
    "d. Use the explicit index to get the first row\n",
    "e. Use the implicit index to get the first row\n",
    "f. Use the explicit index to get the first 10 rows\n",
    "g. Use the implicit index to get the first 10 rows"
   ]
  },
  {
   "cell_type": "code",
   "id": "2b09001a55b1f4d6",
   "metadata": {
    "collapsed": false,
    "jupyter": {
     "outputs_hidden": false
    },
    "ExecuteTime": {
     "end_time": "2024-10-10T10:40:05.109832Z",
     "start_time": "2024-10-10T10:40:05.085934Z"
    }
   },
   "source": [
    "# iris_sepal_length\n",
    "# with loc you specify the actual index of the row you want to select, with iloc you use the python implicit convention index to select the rows you want\n",
    "print(iris_sepal_length.loc[1]) # explicit cause direct\n",
    "print(iris_sepal_length.iloc[0]) # implicit cause indirect\n",
    "print(iris_sepal_length.loc[1:10])\n",
    "print(iris_sepal_length.iloc[0:10])"
   ],
   "outputs": [
    {
     "name": "stdout",
     "output_type": "stream",
     "text": [
      "5.1\n",
      "5.1\n",
      "1     5.1\n",
      "2     4.9\n",
      "3     4.7\n",
      "4     4.6\n",
      "5     5.0\n",
      "6     5.4\n",
      "7     4.6\n",
      "8     5.0\n",
      "9     4.4\n",
      "10    4.9\n",
      "Name: sepal length (cm), dtype: float64\n",
      "1     5.1\n",
      "2     4.9\n",
      "3     4.7\n",
      "4     4.6\n",
      "5     5.0\n",
      "6     5.4\n",
      "7     4.6\n",
      "8     5.0\n",
      "9     4.4\n",
      "10    4.9\n",
      "Name: sepal length (cm), dtype: float64\n"
     ]
    }
   ],
   "execution_count": 14
  },
  {
   "metadata": {},
   "cell_type": "markdown",
   "source": [
    "### DataFrame objects\n",
    "\n",
    "a. Print the europe dataframe. What is the index of the dataframe? Wich columns does it have?\n",
    "b. From the europe dataframe, get the data for France using the loc attribute\n",
    "c. From the europe dataframe, get the population for all countries. Try do to this using 4 different ways to select data."
   ],
   "id": "efbe793422e7cd6a"
  },
  {
   "cell_type": "code",
   "id": "f9960b55c6dc2cec",
   "metadata": {
    "collapsed": false,
    "jupyter": {
     "outputs_hidden": false
    },
    "ExecuteTime": {
     "end_time": "2024-10-10T10:47:44.171644Z",
     "start_time": "2024-10-10T10:47:44.149423Z"
    }
   },
   "source": [
    "print(europe)\n",
    "print(europe.loc['France'])\n",
    "print(\"----------------------\")\n",
    "print(europe['population'])\n",
    "print(\"----------------------\")\n",
    "print(europe.population)\n",
    "print(\"----------------------\")\n",
    "print(europe.loc[:, 'population'])\n",
    "print(\"----------------------\")\n",
    "print(europe.iloc[:, 0])"
   ],
   "outputs": [
    {
     "name": "stdout",
     "output_type": "stream",
     "text": [
      "                population   GDP\n",
      "Austria                9.0  0.45\n",
      "Belgium               11.0  0.53\n",
      "Denmark                6.0  0.35\n",
      "Finland                5.0  0.27\n",
      "France                67.0  2.78\n",
      "Germany               83.0  4.42\n",
      "Greece                11.0  0.18\n",
      "Iceland                0.3  0.02\n",
      "Ireland                5.0  0.33\n",
      "Italy                 60.0  2.08\n",
      "Luxembourg             0.6  0.06\n",
      "Netherlands           17.0  0.91\n",
      "Norway                 5.0  0.40\n",
      "Portugal              10.0  0.23\n",
      "Spain                 47.0  1.39\n",
      "Sweden                10.0  0.53\n",
      "Switzerland            8.0  0.70\n",
      "United Kingdom        67.0  2.83\n",
      "population    67.00\n",
      "GDP            2.78\n",
      "Name: France, dtype: float64\n",
      "----------------------\n",
      "Austria            9.0\n",
      "Belgium           11.0\n",
      "Denmark            6.0\n",
      "Finland            5.0\n",
      "France            67.0\n",
      "Germany           83.0\n",
      "Greece            11.0\n",
      "Iceland            0.3\n",
      "Ireland            5.0\n",
      "Italy             60.0\n",
      "Luxembourg         0.6\n",
      "Netherlands       17.0\n",
      "Norway             5.0\n",
      "Portugal          10.0\n",
      "Spain             47.0\n",
      "Sweden            10.0\n",
      "Switzerland        8.0\n",
      "United Kingdom    67.0\n",
      "Name: population, dtype: float64\n",
      "----------------------\n",
      "Austria            9.0\n",
      "Belgium           11.0\n",
      "Denmark            6.0\n",
      "Finland            5.0\n",
      "France            67.0\n",
      "Germany           83.0\n",
      "Greece            11.0\n",
      "Iceland            0.3\n",
      "Ireland            5.0\n",
      "Italy             60.0\n",
      "Luxembourg         0.6\n",
      "Netherlands       17.0\n",
      "Norway             5.0\n",
      "Portugal          10.0\n",
      "Spain             47.0\n",
      "Sweden            10.0\n",
      "Switzerland        8.0\n",
      "United Kingdom    67.0\n",
      "Name: population, dtype: float64\n",
      "----------------------\n",
      "Austria            9.0\n",
      "Belgium           11.0\n",
      "Denmark            6.0\n",
      "Finland            5.0\n",
      "France            67.0\n",
      "Germany           83.0\n",
      "Greece            11.0\n",
      "Iceland            0.3\n",
      "Ireland            5.0\n",
      "Italy             60.0\n",
      "Luxembourg         0.6\n",
      "Netherlands       17.0\n",
      "Norway             5.0\n",
      "Portugal          10.0\n",
      "Spain             47.0\n",
      "Sweden            10.0\n",
      "Switzerland        8.0\n",
      "United Kingdom    67.0\n",
      "Name: population, dtype: float64\n",
      "----------------------\n",
      "Austria            9.0\n",
      "Belgium           11.0\n",
      "Denmark            6.0\n",
      "Finland            5.0\n",
      "France            67.0\n",
      "Germany           83.0\n",
      "Greece            11.0\n",
      "Iceland            0.3\n",
      "Ireland            5.0\n",
      "Italy             60.0\n",
      "Luxembourg         0.6\n",
      "Netherlands       17.0\n",
      "Norway             5.0\n",
      "Portugal          10.0\n",
      "Spain             47.0\n",
      "Sweden            10.0\n",
      "Switzerland        8.0\n",
      "United Kingdom    67.0\n",
      "Name: population, dtype: float64\n"
     ]
    }
   ],
   "execution_count": 30
  },
  {
   "cell_type": "markdown",
   "id": "f04c5fbee0c7334d",
   "metadata": {
    "collapsed": false,
    "jupyter": {
     "outputs_hidden": false
    }
   },
   "source": [
    "d. Try to get one insight in the data. Print the iris dataframe. Use the functions describe() and info() to get a summary of the data. __From now on, you are always supposed to use these functions to get an insight in the data. Investigate every dataframe you use and is unfamiliar with these three steps.__ \n",
    "e. Get the last 10 rows of the iris dataframe. Choose correctly between using the explicit and implicit index.\n",
    "f. Get the rows with the dataframe indexvalues from 100 to and including 110."
   ]
  },
  {
   "cell_type": "code",
   "id": "afa8e7de58b2f7f1",
   "metadata": {
    "collapsed": false,
    "jupyter": {
     "outputs_hidden": false
    },
    "ExecuteTime": {
     "end_time": "2024-10-10T10:54:12.782229Z",
     "start_time": "2024-10-10T10:54:12.740480Z"
    }
   },
   "source": [
    "# print(iris)\n",
    "# print(iris.describe())\n",
    "# print(iris.info)\n",
    "# print(iris.tail(10))\n",
    "# print(iris.loc[141:])\n",
    "print(iris.iloc[-10:])\n",
    "print(\"----------------------\")\n",
    "print(iris.loc[100:110])"
   ],
   "outputs": [
    {
     "name": "stdout",
     "output_type": "stream",
     "text": [
      "     sepal length (cm)  sepal width (cm)  petal length (cm)  petal width (cm)\n",
      "141                6.7               3.1                5.6               2.4\n",
      "142                6.9               3.1                5.1               2.3\n",
      "143                5.8               2.7                5.1               1.9\n",
      "144                6.8               3.2                5.9               2.3\n",
      "145                6.7               3.3                5.7               2.5\n",
      "146                6.7               3.0                5.2               2.3\n",
      "147                6.3               2.5                5.0               1.9\n",
      "148                6.5               3.0                5.2               2.0\n",
      "149                6.2               3.4                5.4               2.3\n",
      "150                5.9               3.0                5.1               1.8\n",
      "----------------------\n",
      "     sepal length (cm)  sepal width (cm)  petal length (cm)  petal width (cm)\n",
      "100                5.7               2.8                4.1               1.3\n",
      "101                6.3               3.3                6.0               2.5\n",
      "102                5.8               2.7                5.1               1.9\n",
      "103                7.1               3.0                5.9               2.1\n",
      "104                6.3               2.9                5.6               1.8\n",
      "105                6.5               3.0                5.8               2.2\n",
      "106                7.6               3.0                6.6               2.1\n",
      "107                4.9               2.5                4.5               1.7\n",
      "108                7.3               2.9                6.3               1.8\n",
      "109                6.7               2.5                5.8               1.8\n",
      "110                7.2               3.6                6.1               2.5\n"
     ]
    }
   ],
   "execution_count": 48
  }
 ],
 "metadata": {
  "kernelspec": {
   "display_name": "Python 3 (ipykernel)",
   "language": "python",
   "name": "python3"
  },
  "language_info": {
   "codemirror_mode": {
    "name": "ipython",
    "version": 3
   },
   "file_extension": ".py",
   "mimetype": "text/x-python",
   "name": "python",
   "nbconvert_exporter": "python",
   "pygments_lexer": "ipython3",
   "version": "3.12.4"
  }
 },
 "nbformat": 4,
 "nbformat_minor": 5
}
