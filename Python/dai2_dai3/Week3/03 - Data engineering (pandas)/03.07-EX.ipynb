{
 "cells": [
  {
   "cell_type": "markdown",
   "id": "c0d9fb9b",
   "metadata": {
    "collapsed": false,
    "jupyter": {
     "outputs_hidden": false
    }
   },
   "source": [
    "## Merge and joins\n",
    "In SQL we know how to join tables. In Pandas we can do the same. We take a look at the pd.merge and pd.join methods.\n",
    "\n"
   ]
  },
  {
   "cell_type": "markdown",
   "id": "f5d4a4c1",
   "metadata": {
    "collapsed": false,
    "jupyter": {
     "outputs_hidden": false
    }
   },
   "source": [
    "1. Read the files customer.csv, products.csv, sales.csv, prod_suppliers.csv into 4 different dataframes. Let's use the names  df_customer, df_product,df_sales, df_prod_supplier and take a look at the content of the different tables."
   ]
  },
  {
   "cell_type": "code",
   "id": "49bdc940",
   "metadata": {
    "collapsed": false,
    "jupyter": {
     "outputs_hidden": false
    },
    "ExecuteTime": {
     "end_time": "2024-10-12T14:24:23.096917Z",
     "start_time": "2024-10-12T14:24:23.094022Z"
    }
   },
   "source": [
    "import numpy as np\n",
    "import pandas as pd "
   ],
   "outputs": [],
   "execution_count": 1
  },
  {
   "cell_type": "code",
   "id": "36e1b970",
   "metadata": {
    "collapsed": false,
    "jupyter": {
     "outputs_hidden": false
    },
    "ExecuteTime": {
     "end_time": "2024-10-12T14:55:09.991218Z",
     "start_time": "2024-10-12T14:55:09.975128Z"
    }
   },
   "source": [
    "df_customer = pd.read_csv('data/customer.csv')\n",
    "df_sales = pd.read_csv('data/sales.csv')\n",
    "df_product = pd.read_csv('data/products.csv')\n",
    "df_prod_supplier=pd.read_csv('data/prod_suppliers.csv')\n",
    "df_supplier=pd.read_csv('data/suppliers.csv')\n",
    "df_prod_supplier2=pd.read_csv('data/prod_suppliers2.csv')\n",
    "df_product1=pd.read_csv('data/products.csv')\n",
    "df_product2=pd.read_csv('data/products2.csv')\n",
    "df_product3=pd.read_csv('data/products3.csv')"
   ],
   "outputs": [],
   "execution_count": 55
  },
  {
   "cell_type": "code",
   "id": "41c2e14f",
   "metadata": {
    "collapsed": false,
    "jupyter": {
     "outputs_hidden": false
    },
    "ExecuteTime": {
     "end_time": "2024-10-12T14:30:20.046180Z",
     "start_time": "2024-10-12T14:30:20.032921Z"
    }
   },
   "source": [
    "print(df_customer)\n",
    "print(df_product)\n",
    "print(df_sales)\n",
    "print(df_prod_supplier)"
   ],
   "outputs": [
    {
     "name": "stdout",
     "output_type": "stream",
     "text": [
      "   c_id Customer\n",
      "0     1     Rabi\n",
      "1     2     Raju\n",
      "2     3     Alex\n",
      "3     4     Rani\n",
      "4     5     King\n",
      "5     7     Ronn\n",
      "6     8      Jem\n",
      "7     9      Tom\n",
      "   p_id       product  price\n",
      "0     1     Hard Disk     80\n",
      "1     2           RAM     90\n",
      "2     3       Monitor     75\n",
      "3     4           CPU     55\n",
      "4     5      Keyboard     20\n",
      "5     6         Mouse     10\n",
      "6     7   Motherboard     50\n",
      "7     8  Power supply     20\n",
      "   sale_id  c_id  p_id  product  qty store\n",
      "0        1     2     3  Monitor    2   ABC\n",
      "1        2     2     4      CPU    1   DEF\n",
      "2        3     1     3  Monitor    3   ABC\n",
      "3        4     4     2      RAM    2   DEF\n",
      "4        5     2     3  Monitor    3   ABC\n",
      "5        6     3     3  Monitor    2   DEF\n",
      "6        7     2     2      RAM    3   ABC\n",
      "7        8     3     2      RAM    2   DEF\n",
      "8        9     2     3  Monitor    2   ABC\n",
      "   p_id  supp_id      suppliername\n",
      "0     1        1  Hypertek Systems\n",
      "1     2        1  Hypertek Systems\n",
      "2     3        2   informatique.nl\n",
      "3     8        1  Hypertek Systems\n",
      "4     4        3    centurytech.sg\n",
      "5     5        3    centurytech.sg\n",
      "6     6        2   informatique.nl\n",
      "7     7        3    centurytech.sg\n"
     ]
    }
   ],
   "execution_count": 10
  },
  {
   "cell_type": "markdown",
   "id": "1e7943a9",
   "metadata": {
    "collapsed": false,
    "jupyter": {
     "outputs_hidden": false
    }
   },
   "source": "### One -to-one joins"
  },
  {
   "cell_type": "markdown",
   "id": "c85d9ff3",
   "metadata": {
    "collapsed": false,
    "jupyter": {
     "outputs_hidden": false
    }
   },
   "source": [
    "2. Construct a new dataframe df_product_extended which adds the columns supp_id and suppliername to df_products.Verify if the operation is ok."
   ]
  },
  {
   "cell_type": "code",
   "id": "842e1453",
   "metadata": {
    "collapsed": false,
    "jupyter": {
     "outputs_hidden": false
    },
    "ExecuteTime": {
     "end_time": "2024-10-12T14:32:07.629420Z",
     "start_time": "2024-10-12T14:32:07.621446Z"
    }
   },
   "source": [
    "df_product_extended = pd.merge(df_product, df_prod_supplier)\n",
    "print(df_product)\n",
    "print(df_prod_supplier)\n"
   ],
   "outputs": [
    {
     "name": "stdout",
     "output_type": "stream",
     "text": [
      "   p_id       product  price\n",
      "0     1     Hard Disk     80\n",
      "1     2           RAM     90\n",
      "2     3       Monitor     75\n",
      "3     4           CPU     55\n",
      "4     5      Keyboard     20\n",
      "5     6         Mouse     10\n",
      "6     7   Motherboard     50\n",
      "7     8  Power supply     20\n",
      "   p_id  supp_id      suppliername\n",
      "0     1        1  Hypertek Systems\n",
      "1     2        1  Hypertek Systems\n",
      "2     3        2   informatique.nl\n",
      "3     8        1  Hypertek Systems\n",
      "4     4        3    centurytech.sg\n",
      "5     5        3    centurytech.sg\n",
      "6     6        2   informatique.nl\n",
      "7     7        3    centurytech.sg\n"
     ]
    }
   ],
   "execution_count": 14
  },
  {
   "cell_type": "code",
   "id": "54473bc3",
   "metadata": {
    "collapsed": false,
    "jupyter": {
     "outputs_hidden": false
    },
    "ExecuteTime": {
     "end_time": "2024-10-12T14:32:06.338935Z",
     "start_time": "2024-10-12T14:32:06.332765Z"
    }
   },
   "source": "print(df_product_extended)",
   "outputs": [
    {
     "name": "stdout",
     "output_type": "stream",
     "text": [
      "   p_id       product  price  supp_id      suppliername\n",
      "0     1     Hard Disk     80        1  Hypertek Systems\n",
      "1     2           RAM     90        1  Hypertek Systems\n",
      "2     3       Monitor     75        2   informatique.nl\n",
      "3     4           CPU     55        3    centurytech.sg\n",
      "4     5      Keyboard     20        3    centurytech.sg\n",
      "5     6         Mouse     10        2   informatique.nl\n",
      "6     7   Motherboard     50        3    centurytech.sg\n",
      "7     8  Power supply     20        1  Hypertek Systems\n"
     ]
    }
   ],
   "execution_count": 13
  },
  {
   "cell_type": "raw",
   "id": "9d516af0",
   "metadata": {
    "collapsed": false,
    "jupyter": {
     "outputs_hidden": false
    }
   },
   "source": [
    "3. What did you notice about the merge?"
   ]
  },
  {
   "cell_type": "markdown",
   "id": "7885eefe",
   "metadata": {
    "collapsed": false,
    "jupyter": {
     "outputs_hidden": false
    }
   },
   "source": [
    "A. It \"knows\" that p_id is the join key (in SQL we needed to specify the join key)\n",
    "B. The rows do not need to appear in the same order (e.g. Power supply p_id 8 was in row 4 for the prod_supplier table) )"
   ]
  },
  {
   "cell_type": "markdown",
   "id": "2ad2efee",
   "metadata": {
    "collapsed": false,
    "jupyter": {
     "outputs_hidden": false
    }
   },
   "source": [
    "### Many-to-one joins (similar to SQL INNER JOIN)"
   ]
  },
  {
   "cell_type": "markdown",
   "id": "c8c269ef",
   "metadata": {
    "collapsed": false,
    "jupyter": {
     "outputs_hidden": false
    }
   },
   "source": [
    "4. We also have a file suppliers.csv. Create a dataframe df_supplier which contains extended information of our suppliers (in prod_supplier we only see the supp_id and suppliername). How can we create a table with the prod_supplier information and also the emails, phone numbers and address of the suppliers? Identify the new dataframe as df_prod_extended_supplier\n",
    "\n",
    " df_supplier=read_csv(\"data/suppliers.csv\")\n",
    " df_supplier.head()"
   ]
  },
  {
   "cell_type": "code",
   "id": "92445c84",
   "metadata": {
    "collapsed": false,
    "jupyter": {
     "outputs_hidden": false
    },
    "ExecuteTime": {
     "end_time": "2024-10-12T14:37:02.192669Z",
     "start_time": "2024-10-12T14:37:02.183141Z"
    }
   },
   "source": [
    "df_supplier = pd.read_csv('data/suppliers.csv')\n",
    "df_supplier"
   ],
   "outputs": [
    {
     "data": {
      "text/plain": [
       "   supp_id      suppliername                 email       phone  \\\n",
       "0        1  Hypertek Systems     sales@hypertek.be  3256894514   \n",
       "1        2   informatique.nl  info@informatique.nl   312335679   \n",
       "2        3    centurytech.sg   info@centurytech.sg   657754637   \n",
       "\n",
       "                    address  \n",
       "0   Groenplaats 4 Antwerpen  \n",
       "1  Willem2plein 3 Rotterdam  \n",
       "2   China Tower 3 Singapore  "
      ],
      "text/html": [
       "<div>\n",
       "<style scoped>\n",
       "    .dataframe tbody tr th:only-of-type {\n",
       "        vertical-align: middle;\n",
       "    }\n",
       "\n",
       "    .dataframe tbody tr th {\n",
       "        vertical-align: top;\n",
       "    }\n",
       "\n",
       "    .dataframe thead th {\n",
       "        text-align: right;\n",
       "    }\n",
       "</style>\n",
       "<table border=\"1\" class=\"dataframe\">\n",
       "  <thead>\n",
       "    <tr style=\"text-align: right;\">\n",
       "      <th></th>\n",
       "      <th>supp_id</th>\n",
       "      <th>suppliername</th>\n",
       "      <th>email</th>\n",
       "      <th>phone</th>\n",
       "      <th>address</th>\n",
       "    </tr>\n",
       "  </thead>\n",
       "  <tbody>\n",
       "    <tr>\n",
       "      <th>0</th>\n",
       "      <td>1</td>\n",
       "      <td>Hypertek Systems</td>\n",
       "      <td>sales@hypertek.be</td>\n",
       "      <td>3256894514</td>\n",
       "      <td>Groenplaats 4 Antwerpen</td>\n",
       "    </tr>\n",
       "    <tr>\n",
       "      <th>1</th>\n",
       "      <td>2</td>\n",
       "      <td>informatique.nl</td>\n",
       "      <td>info@informatique.nl</td>\n",
       "      <td>312335679</td>\n",
       "      <td>Willem2plein 3 Rotterdam</td>\n",
       "    </tr>\n",
       "    <tr>\n",
       "      <th>2</th>\n",
       "      <td>3</td>\n",
       "      <td>centurytech.sg</td>\n",
       "      <td>info@centurytech.sg</td>\n",
       "      <td>657754637</td>\n",
       "      <td>China Tower 3 Singapore</td>\n",
       "    </tr>\n",
       "  </tbody>\n",
       "</table>\n",
       "</div>"
      ]
     },
     "execution_count": 21,
     "metadata": {},
     "output_type": "execute_result"
    }
   ],
   "execution_count": 21
  },
  {
   "cell_type": "code",
   "id": "df7d4e1c",
   "metadata": {
    "collapsed": false,
    "jupyter": {
     "outputs_hidden": false
    },
    "ExecuteTime": {
     "end_time": "2024-10-12T14:42:25.960246Z",
     "start_time": "2024-10-12T14:42:25.949219Z"
    }
   },
   "source": [
    "df_prod_extended_supplier = pd.merge(df_prod_supplier, df_supplier)\n",
    "df_prod_extended_supplier"
   ],
   "outputs": [
    {
     "data": {
      "text/plain": [
       "   p_id  supp_id      suppliername                 email       phone  \\\n",
       "0     1        1  Hypertek Systems     sales@hypertek.be  3256894514   \n",
       "1     2        1  Hypertek Systems     sales@hypertek.be  3256894514   \n",
       "2     3        2   informatique.nl  info@informatique.nl   312335679   \n",
       "3     8        1  Hypertek Systems     sales@hypertek.be  3256894514   \n",
       "4     4        3    centurytech.sg   info@centurytech.sg   657754637   \n",
       "5     5        3    centurytech.sg   info@centurytech.sg   657754637   \n",
       "6     6        2   informatique.nl  info@informatique.nl   312335679   \n",
       "7     7        3    centurytech.sg   info@centurytech.sg   657754637   \n",
       "\n",
       "                    address  \n",
       "0   Groenplaats 4 Antwerpen  \n",
       "1   Groenplaats 4 Antwerpen  \n",
       "2  Willem2plein 3 Rotterdam  \n",
       "3   Groenplaats 4 Antwerpen  \n",
       "4   China Tower 3 Singapore  \n",
       "5   China Tower 3 Singapore  \n",
       "6  Willem2plein 3 Rotterdam  \n",
       "7   China Tower 3 Singapore  "
      ],
      "text/html": [
       "<div>\n",
       "<style scoped>\n",
       "    .dataframe tbody tr th:only-of-type {\n",
       "        vertical-align: middle;\n",
       "    }\n",
       "\n",
       "    .dataframe tbody tr th {\n",
       "        vertical-align: top;\n",
       "    }\n",
       "\n",
       "    .dataframe thead th {\n",
       "        text-align: right;\n",
       "    }\n",
       "</style>\n",
       "<table border=\"1\" class=\"dataframe\">\n",
       "  <thead>\n",
       "    <tr style=\"text-align: right;\">\n",
       "      <th></th>\n",
       "      <th>p_id</th>\n",
       "      <th>supp_id</th>\n",
       "      <th>suppliername</th>\n",
       "      <th>email</th>\n",
       "      <th>phone</th>\n",
       "      <th>address</th>\n",
       "    </tr>\n",
       "  </thead>\n",
       "  <tbody>\n",
       "    <tr>\n",
       "      <th>0</th>\n",
       "      <td>1</td>\n",
       "      <td>1</td>\n",
       "      <td>Hypertek Systems</td>\n",
       "      <td>sales@hypertek.be</td>\n",
       "      <td>3256894514</td>\n",
       "      <td>Groenplaats 4 Antwerpen</td>\n",
       "    </tr>\n",
       "    <tr>\n",
       "      <th>1</th>\n",
       "      <td>2</td>\n",
       "      <td>1</td>\n",
       "      <td>Hypertek Systems</td>\n",
       "      <td>sales@hypertek.be</td>\n",
       "      <td>3256894514</td>\n",
       "      <td>Groenplaats 4 Antwerpen</td>\n",
       "    </tr>\n",
       "    <tr>\n",
       "      <th>2</th>\n",
       "      <td>3</td>\n",
       "      <td>2</td>\n",
       "      <td>informatique.nl</td>\n",
       "      <td>info@informatique.nl</td>\n",
       "      <td>312335679</td>\n",
       "      <td>Willem2plein 3 Rotterdam</td>\n",
       "    </tr>\n",
       "    <tr>\n",
       "      <th>3</th>\n",
       "      <td>8</td>\n",
       "      <td>1</td>\n",
       "      <td>Hypertek Systems</td>\n",
       "      <td>sales@hypertek.be</td>\n",
       "      <td>3256894514</td>\n",
       "      <td>Groenplaats 4 Antwerpen</td>\n",
       "    </tr>\n",
       "    <tr>\n",
       "      <th>4</th>\n",
       "      <td>4</td>\n",
       "      <td>3</td>\n",
       "      <td>centurytech.sg</td>\n",
       "      <td>info@centurytech.sg</td>\n",
       "      <td>657754637</td>\n",
       "      <td>China Tower 3 Singapore</td>\n",
       "    </tr>\n",
       "    <tr>\n",
       "      <th>5</th>\n",
       "      <td>5</td>\n",
       "      <td>3</td>\n",
       "      <td>centurytech.sg</td>\n",
       "      <td>info@centurytech.sg</td>\n",
       "      <td>657754637</td>\n",
       "      <td>China Tower 3 Singapore</td>\n",
       "    </tr>\n",
       "    <tr>\n",
       "      <th>6</th>\n",
       "      <td>6</td>\n",
       "      <td>2</td>\n",
       "      <td>informatique.nl</td>\n",
       "      <td>info@informatique.nl</td>\n",
       "      <td>312335679</td>\n",
       "      <td>Willem2plein 3 Rotterdam</td>\n",
       "    </tr>\n",
       "    <tr>\n",
       "      <th>7</th>\n",
       "      <td>7</td>\n",
       "      <td>3</td>\n",
       "      <td>centurytech.sg</td>\n",
       "      <td>info@centurytech.sg</td>\n",
       "      <td>657754637</td>\n",
       "      <td>China Tower 3 Singapore</td>\n",
       "    </tr>\n",
       "  </tbody>\n",
       "</table>\n",
       "</div>"
      ]
     },
     "execution_count": 29,
     "metadata": {},
     "output_type": "execute_result"
    }
   ],
   "execution_count": 29
  },
  {
   "cell_type": "markdown",
   "id": "5d3bdea8",
   "metadata": {
    "collapsed": false,
    "jupyter": {
     "outputs_hidden": false
    }
   },
   "source": [
    "5. What happens when in one of the files you have supplier_name instead of suppliername?\n"
   ]
  },
  {
   "cell_type": "markdown",
   "id": "bec30cf3",
   "metadata": {
    "collapsed": false,
    "jupyter": {
     "outputs_hidden": false
    }
   },
   "source": [
    "We see the column suppliername and the column supplier_name!"
   ]
  },
  {
   "cell_type": "markdown",
   "id": "c8922085",
   "metadata": {
    "collapsed": false,
    "jupyter": {
     "outputs_hidden": false
    }
   },
   "source": [
    "### Many-to-many joins (compare it with cartesian join or cross join in SQL)\n",
    "\n"
   ]
  },
  {
   "cell_type": "markdown",
   "id": "3bd0284d",
   "metadata": {
    "collapsed": false,
    "jupyter": {
     "outputs_hidden": false
    }
   },
   "source": [
    "Consider a dataframe which for every major contains a list of courses."
   ]
  },
  {
   "cell_type": "code",
   "id": "d229bedb",
   "metadata": {
    "collapsed": false,
    "jupyter": {
     "outputs_hidden": false
    },
    "ExecuteTime": {
     "end_time": "2024-10-12T14:43:11.712508Z",
     "start_time": "2024-10-12T14:43:11.708374Z"
    }
   },
   "source": [
    "data_courses = {\n",
    "    'major': ['AI', 'AI','AI','Infrastructure & System Engineering','Infrastructure & System Engineering', 'Infrastructure & System Engineering','Application Development','Application Development','Application Development','Application Development','Application Development','Application Development'],\n",
    "    'courses': [\n",
    "        'Machine Learning', 'Deep Learning', 'Natural Language Processing',\n",
    "        'Network Security', 'Cloud Computing', 'Database Management',\n",
    "        'Software Engineering', 'Systems Design', 'Embedded Systems',\n",
    "        'Web Development', 'Mobile App Development', 'Software Testing'\n",
    "    ]\n",
    "}"
   ],
   "outputs": [],
   "execution_count": 30
  },
  {
   "cell_type": "code",
   "id": "ae2b56f0",
   "metadata": {
    "collapsed": false,
    "jupyter": {
     "outputs_hidden": false
    },
    "ExecuteTime": {
     "end_time": "2024-10-12T14:43:12.917319Z",
     "start_time": "2024-10-12T14:43:12.913824Z"
    }
   },
   "source": [
    "df_courses=pd.DataFrame(data_courses)\n"
   ],
   "outputs": [],
   "execution_count": 31
  },
  {
   "cell_type": "code",
   "id": "d6f82bcd",
   "metadata": {
    "collapsed": false,
    "jupyter": {
     "outputs_hidden": false
    },
    "ExecuteTime": {
     "end_time": "2024-10-12T14:43:18.496761Z",
     "start_time": "2024-10-12T14:43:18.489277Z"
    }
   },
   "source": "df_courses",
   "outputs": [
    {
     "data": {
      "text/plain": [
       "                                  major                      courses\n",
       "0                                    AI             Machine Learning\n",
       "1                                    AI                Deep Learning\n",
       "2                                    AI  Natural Language Processing\n",
       "3   Infrastructure & System Engineering             Network Security\n",
       "4   Infrastructure & System Engineering              Cloud Computing\n",
       "5   Infrastructure & System Engineering          Database Management\n",
       "6               Application Development         Software Engineering\n",
       "7               Application Development               Systems Design\n",
       "8               Application Development             Embedded Systems\n",
       "9               Application Development              Web Development\n",
       "10              Application Development       Mobile App Development\n",
       "11              Application Development             Software Testing"
      ],
      "text/html": [
       "<div>\n",
       "<style scoped>\n",
       "    .dataframe tbody tr th:only-of-type {\n",
       "        vertical-align: middle;\n",
       "    }\n",
       "\n",
       "    .dataframe tbody tr th {\n",
       "        vertical-align: top;\n",
       "    }\n",
       "\n",
       "    .dataframe thead th {\n",
       "        text-align: right;\n",
       "    }\n",
       "</style>\n",
       "<table border=\"1\" class=\"dataframe\">\n",
       "  <thead>\n",
       "    <tr style=\"text-align: right;\">\n",
       "      <th></th>\n",
       "      <th>major</th>\n",
       "      <th>courses</th>\n",
       "    </tr>\n",
       "  </thead>\n",
       "  <tbody>\n",
       "    <tr>\n",
       "      <th>0</th>\n",
       "      <td>AI</td>\n",
       "      <td>Machine Learning</td>\n",
       "    </tr>\n",
       "    <tr>\n",
       "      <th>1</th>\n",
       "      <td>AI</td>\n",
       "      <td>Deep Learning</td>\n",
       "    </tr>\n",
       "    <tr>\n",
       "      <th>2</th>\n",
       "      <td>AI</td>\n",
       "      <td>Natural Language Processing</td>\n",
       "    </tr>\n",
       "    <tr>\n",
       "      <th>3</th>\n",
       "      <td>Infrastructure &amp; System Engineering</td>\n",
       "      <td>Network Security</td>\n",
       "    </tr>\n",
       "    <tr>\n",
       "      <th>4</th>\n",
       "      <td>Infrastructure &amp; System Engineering</td>\n",
       "      <td>Cloud Computing</td>\n",
       "    </tr>\n",
       "    <tr>\n",
       "      <th>5</th>\n",
       "      <td>Infrastructure &amp; System Engineering</td>\n",
       "      <td>Database Management</td>\n",
       "    </tr>\n",
       "    <tr>\n",
       "      <th>6</th>\n",
       "      <td>Application Development</td>\n",
       "      <td>Software Engineering</td>\n",
       "    </tr>\n",
       "    <tr>\n",
       "      <th>7</th>\n",
       "      <td>Application Development</td>\n",
       "      <td>Systems Design</td>\n",
       "    </tr>\n",
       "    <tr>\n",
       "      <th>8</th>\n",
       "      <td>Application Development</td>\n",
       "      <td>Embedded Systems</td>\n",
       "    </tr>\n",
       "    <tr>\n",
       "      <th>9</th>\n",
       "      <td>Application Development</td>\n",
       "      <td>Web Development</td>\n",
       "    </tr>\n",
       "    <tr>\n",
       "      <th>10</th>\n",
       "      <td>Application Development</td>\n",
       "      <td>Mobile App Development</td>\n",
       "    </tr>\n",
       "    <tr>\n",
       "      <th>11</th>\n",
       "      <td>Application Development</td>\n",
       "      <td>Software Testing</td>\n",
       "    </tr>\n",
       "  </tbody>\n",
       "</table>\n",
       "</div>"
      ]
     },
     "execution_count": 32,
     "metadata": {},
     "output_type": "execute_result"
    }
   ],
   "execution_count": 32
  },
  {
   "cell_type": "markdown",
   "id": "a149e14c",
   "metadata": {
    "collapsed": false,
    "jupyter": {
     "outputs_hidden": false
    }
   },
   "source": [
    "Next we consider students who participate in one of the majors."
   ]
  },
  {
   "cell_type": "code",
   "id": "ad7c81e3",
   "metadata": {
    "collapsed": false,
    "jupyter": {
     "outputs_hidden": false
    },
    "ExecuteTime": {
     "end_time": "2024-10-12T14:43:59.891775Z",
     "start_time": "2024-10-12T14:43:59.885646Z"
    }
   },
   "source": [
    "data = {\n",
    "    'student_name': ['Alice', 'Bob', 'Charlie', 'David', 'Eva', 'Frank'],\n",
    "    'major': ['AI', 'Infrastructure & System Engineering', 'Infrastructure & System Engineering', 'Application Development', 'AI', 'Application Development']\n",
    "}\n",
    "\n",
    "# Create the DataFrame\n",
    "df_students= pd.DataFrame(data)\n",
    "\n",
    "# Display the DataFrame\n",
    "print(df_students)\n"
   ],
   "outputs": [
    {
     "name": "stdout",
     "output_type": "stream",
     "text": [
      "  student_name                                major\n",
      "0        Alice                                   AI\n",
      "1          Bob  Infrastructure & System Engineering\n",
      "2      Charlie  Infrastructure & System Engineering\n",
      "3        David              Application Development\n",
      "4          Eva                                   AI\n",
      "5        Frank              Application Development\n"
     ]
    }
   ],
   "execution_count": 33
  },
  {
   "cell_type": "markdown",
   "id": "3d9954bc",
   "metadata": {
    "collapsed": false,
    "jupyter": {
     "outputs_hidden": false
    }
   },
   "source": [
    "8. Construct a list of all the courses a student needs to follow."
   ]
  },
  {
   "cell_type": "code",
   "id": "f0f69be8",
   "metadata": {
    "collapsed": false,
    "jupyter": {
     "outputs_hidden": false
    },
    "ExecuteTime": {
     "end_time": "2024-10-12T14:46:35.140097Z",
     "start_time": "2024-10-12T14:46:35.133318Z"
    }
   },
   "source": "df_list_courses_students = pd.merge(df_courses, df_students)",
   "outputs": [],
   "execution_count": 37
  },
  {
   "cell_type": "code",
   "id": "267793ef",
   "metadata": {
    "collapsed": false,
    "jupyter": {
     "outputs_hidden": false
    },
    "ExecuteTime": {
     "end_time": "2024-10-12T14:46:35.993194Z",
     "start_time": "2024-10-12T14:46:35.984752Z"
    }
   },
   "source": "df_list_courses_students",
   "outputs": [
    {
     "data": {
      "text/plain": [
       "                                  major                      courses  \\\n",
       "0                                    AI             Machine Learning   \n",
       "1                                    AI             Machine Learning   \n",
       "2                                    AI                Deep Learning   \n",
       "3                                    AI                Deep Learning   \n",
       "4                                    AI  Natural Language Processing   \n",
       "5                                    AI  Natural Language Processing   \n",
       "6   Infrastructure & System Engineering             Network Security   \n",
       "7   Infrastructure & System Engineering             Network Security   \n",
       "8   Infrastructure & System Engineering              Cloud Computing   \n",
       "9   Infrastructure & System Engineering              Cloud Computing   \n",
       "10  Infrastructure & System Engineering          Database Management   \n",
       "11  Infrastructure & System Engineering          Database Management   \n",
       "12              Application Development         Software Engineering   \n",
       "13              Application Development         Software Engineering   \n",
       "14              Application Development               Systems Design   \n",
       "15              Application Development               Systems Design   \n",
       "16              Application Development             Embedded Systems   \n",
       "17              Application Development             Embedded Systems   \n",
       "18              Application Development              Web Development   \n",
       "19              Application Development              Web Development   \n",
       "20              Application Development       Mobile App Development   \n",
       "21              Application Development       Mobile App Development   \n",
       "22              Application Development             Software Testing   \n",
       "23              Application Development             Software Testing   \n",
       "\n",
       "   student_name  \n",
       "0         Alice  \n",
       "1           Eva  \n",
       "2         Alice  \n",
       "3           Eva  \n",
       "4         Alice  \n",
       "5           Eva  \n",
       "6           Bob  \n",
       "7       Charlie  \n",
       "8           Bob  \n",
       "9       Charlie  \n",
       "10          Bob  \n",
       "11      Charlie  \n",
       "12        David  \n",
       "13        Frank  \n",
       "14        David  \n",
       "15        Frank  \n",
       "16        David  \n",
       "17        Frank  \n",
       "18        David  \n",
       "19        Frank  \n",
       "20        David  \n",
       "21        Frank  \n",
       "22        David  \n",
       "23        Frank  "
      ],
      "text/html": [
       "<div>\n",
       "<style scoped>\n",
       "    .dataframe tbody tr th:only-of-type {\n",
       "        vertical-align: middle;\n",
       "    }\n",
       "\n",
       "    .dataframe tbody tr th {\n",
       "        vertical-align: top;\n",
       "    }\n",
       "\n",
       "    .dataframe thead th {\n",
       "        text-align: right;\n",
       "    }\n",
       "</style>\n",
       "<table border=\"1\" class=\"dataframe\">\n",
       "  <thead>\n",
       "    <tr style=\"text-align: right;\">\n",
       "      <th></th>\n",
       "      <th>major</th>\n",
       "      <th>courses</th>\n",
       "      <th>student_name</th>\n",
       "    </tr>\n",
       "  </thead>\n",
       "  <tbody>\n",
       "    <tr>\n",
       "      <th>0</th>\n",
       "      <td>AI</td>\n",
       "      <td>Machine Learning</td>\n",
       "      <td>Alice</td>\n",
       "    </tr>\n",
       "    <tr>\n",
       "      <th>1</th>\n",
       "      <td>AI</td>\n",
       "      <td>Machine Learning</td>\n",
       "      <td>Eva</td>\n",
       "    </tr>\n",
       "    <tr>\n",
       "      <th>2</th>\n",
       "      <td>AI</td>\n",
       "      <td>Deep Learning</td>\n",
       "      <td>Alice</td>\n",
       "    </tr>\n",
       "    <tr>\n",
       "      <th>3</th>\n",
       "      <td>AI</td>\n",
       "      <td>Deep Learning</td>\n",
       "      <td>Eva</td>\n",
       "    </tr>\n",
       "    <tr>\n",
       "      <th>4</th>\n",
       "      <td>AI</td>\n",
       "      <td>Natural Language Processing</td>\n",
       "      <td>Alice</td>\n",
       "    </tr>\n",
       "    <tr>\n",
       "      <th>5</th>\n",
       "      <td>AI</td>\n",
       "      <td>Natural Language Processing</td>\n",
       "      <td>Eva</td>\n",
       "    </tr>\n",
       "    <tr>\n",
       "      <th>6</th>\n",
       "      <td>Infrastructure &amp; System Engineering</td>\n",
       "      <td>Network Security</td>\n",
       "      <td>Bob</td>\n",
       "    </tr>\n",
       "    <tr>\n",
       "      <th>7</th>\n",
       "      <td>Infrastructure &amp; System Engineering</td>\n",
       "      <td>Network Security</td>\n",
       "      <td>Charlie</td>\n",
       "    </tr>\n",
       "    <tr>\n",
       "      <th>8</th>\n",
       "      <td>Infrastructure &amp; System Engineering</td>\n",
       "      <td>Cloud Computing</td>\n",
       "      <td>Bob</td>\n",
       "    </tr>\n",
       "    <tr>\n",
       "      <th>9</th>\n",
       "      <td>Infrastructure &amp; System Engineering</td>\n",
       "      <td>Cloud Computing</td>\n",
       "      <td>Charlie</td>\n",
       "    </tr>\n",
       "    <tr>\n",
       "      <th>10</th>\n",
       "      <td>Infrastructure &amp; System Engineering</td>\n",
       "      <td>Database Management</td>\n",
       "      <td>Bob</td>\n",
       "    </tr>\n",
       "    <tr>\n",
       "      <th>11</th>\n",
       "      <td>Infrastructure &amp; System Engineering</td>\n",
       "      <td>Database Management</td>\n",
       "      <td>Charlie</td>\n",
       "    </tr>\n",
       "    <tr>\n",
       "      <th>12</th>\n",
       "      <td>Application Development</td>\n",
       "      <td>Software Engineering</td>\n",
       "      <td>David</td>\n",
       "    </tr>\n",
       "    <tr>\n",
       "      <th>13</th>\n",
       "      <td>Application Development</td>\n",
       "      <td>Software Engineering</td>\n",
       "      <td>Frank</td>\n",
       "    </tr>\n",
       "    <tr>\n",
       "      <th>14</th>\n",
       "      <td>Application Development</td>\n",
       "      <td>Systems Design</td>\n",
       "      <td>David</td>\n",
       "    </tr>\n",
       "    <tr>\n",
       "      <th>15</th>\n",
       "      <td>Application Development</td>\n",
       "      <td>Systems Design</td>\n",
       "      <td>Frank</td>\n",
       "    </tr>\n",
       "    <tr>\n",
       "      <th>16</th>\n",
       "      <td>Application Development</td>\n",
       "      <td>Embedded Systems</td>\n",
       "      <td>David</td>\n",
       "    </tr>\n",
       "    <tr>\n",
       "      <th>17</th>\n",
       "      <td>Application Development</td>\n",
       "      <td>Embedded Systems</td>\n",
       "      <td>Frank</td>\n",
       "    </tr>\n",
       "    <tr>\n",
       "      <th>18</th>\n",
       "      <td>Application Development</td>\n",
       "      <td>Web Development</td>\n",
       "      <td>David</td>\n",
       "    </tr>\n",
       "    <tr>\n",
       "      <th>19</th>\n",
       "      <td>Application Development</td>\n",
       "      <td>Web Development</td>\n",
       "      <td>Frank</td>\n",
       "    </tr>\n",
       "    <tr>\n",
       "      <th>20</th>\n",
       "      <td>Application Development</td>\n",
       "      <td>Mobile App Development</td>\n",
       "      <td>David</td>\n",
       "    </tr>\n",
       "    <tr>\n",
       "      <th>21</th>\n",
       "      <td>Application Development</td>\n",
       "      <td>Mobile App Development</td>\n",
       "      <td>Frank</td>\n",
       "    </tr>\n",
       "    <tr>\n",
       "      <th>22</th>\n",
       "      <td>Application Development</td>\n",
       "      <td>Software Testing</td>\n",
       "      <td>David</td>\n",
       "    </tr>\n",
       "    <tr>\n",
       "      <th>23</th>\n",
       "      <td>Application Development</td>\n",
       "      <td>Software Testing</td>\n",
       "      <td>Frank</td>\n",
       "    </tr>\n",
       "  </tbody>\n",
       "</table>\n",
       "</div>"
      ]
     },
     "execution_count": 38,
     "metadata": {},
     "output_type": "execute_result"
    }
   ],
   "execution_count": 38
  },
  {
   "cell_type": "markdown",
   "id": "f44b4703",
   "metadata": {
    "collapsed": false,
    "jupyter": {
     "outputs_hidden": false
    }
   },
   "source": [
    "### Merge keys"
   ]
  },
  {
   "cell_type": "markdown",
   "id": "53ff9b3b",
   "metadata": {
    "collapsed": false,
    "jupyter": {
     "outputs_hidden": false
    }
   },
   "source": [
    "In SQL we have the option to specify the join-key, in Pandas we can do the same and avoid problems that columns have different labels but the same content.\n",
    "\n",
    "9. Read the file prod_suppliers2.csv next in Suppliers.csv we still have suppliersname but in prod_suppliers we call this column supplier (also supp_id is omitted). How do you join the two tables without changing the columns names and in the end you keep suppliername in the table?"
   ]
  },
  {
   "cell_type": "code",
   "id": "40344b07",
   "metadata": {
    "collapsed": false,
    "jupyter": {
     "outputs_hidden": false
    },
    "ExecuteTime": {
     "end_time": "2024-10-12T14:47:43.658929Z",
     "start_time": "2024-10-12T14:47:43.652040Z"
    }
   },
   "source": "df_prod_supplier2",
   "outputs": [
    {
     "data": {
      "text/plain": [
       "   p_id          supplier\n",
       "0     1  Hypertek Systems\n",
       "1     2  Hypertek Systems\n",
       "2     3   informatique.nl\n",
       "3     8  Hypertek Systems\n",
       "4     4    centurytech.sg\n",
       "5     5    centurytech.sg\n",
       "6     6   informatique.nl\n",
       "7     7    centurytech.sg"
      ],
      "text/html": [
       "<div>\n",
       "<style scoped>\n",
       "    .dataframe tbody tr th:only-of-type {\n",
       "        vertical-align: middle;\n",
       "    }\n",
       "\n",
       "    .dataframe tbody tr th {\n",
       "        vertical-align: top;\n",
       "    }\n",
       "\n",
       "    .dataframe thead th {\n",
       "        text-align: right;\n",
       "    }\n",
       "</style>\n",
       "<table border=\"1\" class=\"dataframe\">\n",
       "  <thead>\n",
       "    <tr style=\"text-align: right;\">\n",
       "      <th></th>\n",
       "      <th>p_id</th>\n",
       "      <th>supplier</th>\n",
       "    </tr>\n",
       "  </thead>\n",
       "  <tbody>\n",
       "    <tr>\n",
       "      <th>0</th>\n",
       "      <td>1</td>\n",
       "      <td>Hypertek Systems</td>\n",
       "    </tr>\n",
       "    <tr>\n",
       "      <th>1</th>\n",
       "      <td>2</td>\n",
       "      <td>Hypertek Systems</td>\n",
       "    </tr>\n",
       "    <tr>\n",
       "      <th>2</th>\n",
       "      <td>3</td>\n",
       "      <td>informatique.nl</td>\n",
       "    </tr>\n",
       "    <tr>\n",
       "      <th>3</th>\n",
       "      <td>8</td>\n",
       "      <td>Hypertek Systems</td>\n",
       "    </tr>\n",
       "    <tr>\n",
       "      <th>4</th>\n",
       "      <td>4</td>\n",
       "      <td>centurytech.sg</td>\n",
       "    </tr>\n",
       "    <tr>\n",
       "      <th>5</th>\n",
       "      <td>5</td>\n",
       "      <td>centurytech.sg</td>\n",
       "    </tr>\n",
       "    <tr>\n",
       "      <th>6</th>\n",
       "      <td>6</td>\n",
       "      <td>informatique.nl</td>\n",
       "    </tr>\n",
       "    <tr>\n",
       "      <th>7</th>\n",
       "      <td>7</td>\n",
       "      <td>centurytech.sg</td>\n",
       "    </tr>\n",
       "  </tbody>\n",
       "</table>\n",
       "</div>"
      ]
     },
     "execution_count": 39,
     "metadata": {},
     "output_type": "execute_result"
    }
   ],
   "execution_count": 39
  },
  {
   "cell_type": "code",
   "id": "27fba7e7",
   "metadata": {
    "collapsed": false,
    "jupyter": {
     "outputs_hidden": false
    },
    "ExecuteTime": {
     "end_time": "2024-10-12T14:52:02.641959Z",
     "start_time": "2024-10-12T14:52:02.631506Z"
    }
   },
   "source": [
    "df_prod_supplier_name = pd.merge(df_prod_supplier, df_prod_supplier2, left_on=\"suppliername\", right_on=\"supplier\")\n",
    "df_prod_supplier_name.drop('supplier', axis=1, inplace=True)\n",
    "df_prod_supplier_name"
   ],
   "outputs": [
    {
     "data": {
      "text/plain": [
       "    p_id_x  supp_id      suppliername  p_id_y\n",
       "0        1        1  Hypertek Systems       1\n",
       "1        1        1  Hypertek Systems       2\n",
       "2        1        1  Hypertek Systems       8\n",
       "3        2        1  Hypertek Systems       1\n",
       "4        2        1  Hypertek Systems       2\n",
       "5        2        1  Hypertek Systems       8\n",
       "6        3        2   informatique.nl       3\n",
       "7        3        2   informatique.nl       6\n",
       "8        8        1  Hypertek Systems       1\n",
       "9        8        1  Hypertek Systems       2\n",
       "10       8        1  Hypertek Systems       8\n",
       "11       4        3    centurytech.sg       4\n",
       "12       4        3    centurytech.sg       5\n",
       "13       4        3    centurytech.sg       7\n",
       "14       5        3    centurytech.sg       4\n",
       "15       5        3    centurytech.sg       5\n",
       "16       5        3    centurytech.sg       7\n",
       "17       6        2   informatique.nl       3\n",
       "18       6        2   informatique.nl       6\n",
       "19       7        3    centurytech.sg       4\n",
       "20       7        3    centurytech.sg       5\n",
       "21       7        3    centurytech.sg       7"
      ],
      "text/html": [
       "<div>\n",
       "<style scoped>\n",
       "    .dataframe tbody tr th:only-of-type {\n",
       "        vertical-align: middle;\n",
       "    }\n",
       "\n",
       "    .dataframe tbody tr th {\n",
       "        vertical-align: top;\n",
       "    }\n",
       "\n",
       "    .dataframe thead th {\n",
       "        text-align: right;\n",
       "    }\n",
       "</style>\n",
       "<table border=\"1\" class=\"dataframe\">\n",
       "  <thead>\n",
       "    <tr style=\"text-align: right;\">\n",
       "      <th></th>\n",
       "      <th>p_id_x</th>\n",
       "      <th>supp_id</th>\n",
       "      <th>suppliername</th>\n",
       "      <th>p_id_y</th>\n",
       "    </tr>\n",
       "  </thead>\n",
       "  <tbody>\n",
       "    <tr>\n",
       "      <th>0</th>\n",
       "      <td>1</td>\n",
       "      <td>1</td>\n",
       "      <td>Hypertek Systems</td>\n",
       "      <td>1</td>\n",
       "    </tr>\n",
       "    <tr>\n",
       "      <th>1</th>\n",
       "      <td>1</td>\n",
       "      <td>1</td>\n",
       "      <td>Hypertek Systems</td>\n",
       "      <td>2</td>\n",
       "    </tr>\n",
       "    <tr>\n",
       "      <th>2</th>\n",
       "      <td>1</td>\n",
       "      <td>1</td>\n",
       "      <td>Hypertek Systems</td>\n",
       "      <td>8</td>\n",
       "    </tr>\n",
       "    <tr>\n",
       "      <th>3</th>\n",
       "      <td>2</td>\n",
       "      <td>1</td>\n",
       "      <td>Hypertek Systems</td>\n",
       "      <td>1</td>\n",
       "    </tr>\n",
       "    <tr>\n",
       "      <th>4</th>\n",
       "      <td>2</td>\n",
       "      <td>1</td>\n",
       "      <td>Hypertek Systems</td>\n",
       "      <td>2</td>\n",
       "    </tr>\n",
       "    <tr>\n",
       "      <th>5</th>\n",
       "      <td>2</td>\n",
       "      <td>1</td>\n",
       "      <td>Hypertek Systems</td>\n",
       "      <td>8</td>\n",
       "    </tr>\n",
       "    <tr>\n",
       "      <th>6</th>\n",
       "      <td>3</td>\n",
       "      <td>2</td>\n",
       "      <td>informatique.nl</td>\n",
       "      <td>3</td>\n",
       "    </tr>\n",
       "    <tr>\n",
       "      <th>7</th>\n",
       "      <td>3</td>\n",
       "      <td>2</td>\n",
       "      <td>informatique.nl</td>\n",
       "      <td>6</td>\n",
       "    </tr>\n",
       "    <tr>\n",
       "      <th>8</th>\n",
       "      <td>8</td>\n",
       "      <td>1</td>\n",
       "      <td>Hypertek Systems</td>\n",
       "      <td>1</td>\n",
       "    </tr>\n",
       "    <tr>\n",
       "      <th>9</th>\n",
       "      <td>8</td>\n",
       "      <td>1</td>\n",
       "      <td>Hypertek Systems</td>\n",
       "      <td>2</td>\n",
       "    </tr>\n",
       "    <tr>\n",
       "      <th>10</th>\n",
       "      <td>8</td>\n",
       "      <td>1</td>\n",
       "      <td>Hypertek Systems</td>\n",
       "      <td>8</td>\n",
       "    </tr>\n",
       "    <tr>\n",
       "      <th>11</th>\n",
       "      <td>4</td>\n",
       "      <td>3</td>\n",
       "      <td>centurytech.sg</td>\n",
       "      <td>4</td>\n",
       "    </tr>\n",
       "    <tr>\n",
       "      <th>12</th>\n",
       "      <td>4</td>\n",
       "      <td>3</td>\n",
       "      <td>centurytech.sg</td>\n",
       "      <td>5</td>\n",
       "    </tr>\n",
       "    <tr>\n",
       "      <th>13</th>\n",
       "      <td>4</td>\n",
       "      <td>3</td>\n",
       "      <td>centurytech.sg</td>\n",
       "      <td>7</td>\n",
       "    </tr>\n",
       "    <tr>\n",
       "      <th>14</th>\n",
       "      <td>5</td>\n",
       "      <td>3</td>\n",
       "      <td>centurytech.sg</td>\n",
       "      <td>4</td>\n",
       "    </tr>\n",
       "    <tr>\n",
       "      <th>15</th>\n",
       "      <td>5</td>\n",
       "      <td>3</td>\n",
       "      <td>centurytech.sg</td>\n",
       "      <td>5</td>\n",
       "    </tr>\n",
       "    <tr>\n",
       "      <th>16</th>\n",
       "      <td>5</td>\n",
       "      <td>3</td>\n",
       "      <td>centurytech.sg</td>\n",
       "      <td>7</td>\n",
       "    </tr>\n",
       "    <tr>\n",
       "      <th>17</th>\n",
       "      <td>6</td>\n",
       "      <td>2</td>\n",
       "      <td>informatique.nl</td>\n",
       "      <td>3</td>\n",
       "    </tr>\n",
       "    <tr>\n",
       "      <th>18</th>\n",
       "      <td>6</td>\n",
       "      <td>2</td>\n",
       "      <td>informatique.nl</td>\n",
       "      <td>6</td>\n",
       "    </tr>\n",
       "    <tr>\n",
       "      <th>19</th>\n",
       "      <td>7</td>\n",
       "      <td>3</td>\n",
       "      <td>centurytech.sg</td>\n",
       "      <td>4</td>\n",
       "    </tr>\n",
       "    <tr>\n",
       "      <th>20</th>\n",
       "      <td>7</td>\n",
       "      <td>3</td>\n",
       "      <td>centurytech.sg</td>\n",
       "      <td>5</td>\n",
       "    </tr>\n",
       "    <tr>\n",
       "      <th>21</th>\n",
       "      <td>7</td>\n",
       "      <td>3</td>\n",
       "      <td>centurytech.sg</td>\n",
       "      <td>7</td>\n",
       "    </tr>\n",
       "  </tbody>\n",
       "</table>\n",
       "</div>"
      ]
     },
     "execution_count": 46,
     "metadata": {},
     "output_type": "execute_result"
    }
   ],
   "execution_count": 46
  },
  {
   "cell_type": "markdown",
   "id": "e2f9c530",
   "metadata": {
    "collapsed": false,
    "jupyter": {
     "outputs_hidden": false
    }
   },
   "source": [
    "10. a. Take df_product and df_prod_supplier2 transform the p_id in an index\n",
    "\n",
    "    b. Merge the two tables on the index\n",
    "\n",
    "    c. Do the same but use the join method of Pandas\n",
    "\n",
    "    d. Verify that both are the same"
   ]
  },
  {
   "cell_type": "code",
   "id": "fe809691",
   "metadata": {
    "collapsed": false,
    "jupyter": {
     "outputs_hidden": false
    },
    "ExecuteTime": {
     "end_time": "2024-10-12T14:55:22.990344Z",
     "start_time": "2024-10-12T14:55:22.978290Z"
    }
   },
   "source": [
    "df_product.set_index('p_id', inplace=True)\n",
    "df_prod_supplier2.set_index('p_id', inplace=True)\n",
    "print(df_product)\n",
    "print(df_prod_supplier2)"
   ],
   "outputs": [
    {
     "name": "stdout",
     "output_type": "stream",
     "text": [
      "           product  price\n",
      "p_id                     \n",
      "1        Hard Disk     80\n",
      "2              RAM     90\n",
      "3          Monitor     75\n",
      "4              CPU     55\n",
      "5         Keyboard     20\n",
      "6            Mouse     10\n",
      "7      Motherboard     50\n",
      "8     Power supply     20\n",
      "              supplier\n",
      "p_id                  \n",
      "1     Hypertek Systems\n",
      "2     Hypertek Systems\n",
      "3      informatique.nl\n",
      "8     Hypertek Systems\n",
      "4       centurytech.sg\n",
      "5       centurytech.sg\n",
      "6      informatique.nl\n",
      "7       centurytech.sg\n"
     ]
    }
   ],
   "execution_count": 56
  },
  {
   "cell_type": "code",
   "id": "d65065c5",
   "metadata": {
    "collapsed": false,
    "jupyter": {
     "outputs_hidden": false
    },
    "ExecuteTime": {
     "end_time": "2024-10-12T15:01:51.968949Z",
     "start_time": "2024-10-12T15:01:51.959952Z"
    }
   },
   "source": [
    "df_product_supplier_merged = pd.merge(df_product, df_prod_supplier2, left_index=True, right_index=True)\n",
    "df_product_supplier_merged_join = df_product.join(df_prod_supplier2)\n",
    "print(df_product_supplier_merged) \n",
    "print()\n",
    "print(df_product_supplier_merged_join)"
   ],
   "outputs": [
    {
     "name": "stdout",
     "output_type": "stream",
     "text": [
      "           product  price          supplier\n",
      "p_id                                       \n",
      "1        Hard Disk     80  Hypertek Systems\n",
      "2              RAM     90  Hypertek Systems\n",
      "3          Monitor     75   informatique.nl\n",
      "4              CPU     55    centurytech.sg\n",
      "5         Keyboard     20    centurytech.sg\n",
      "6            Mouse     10   informatique.nl\n",
      "7      Motherboard     50    centurytech.sg\n",
      "8     Power supply     20  Hypertek Systems\n",
      "\n",
      "           product  price          supplier\n",
      "p_id                                       \n",
      "1        Hard Disk     80  Hypertek Systems\n",
      "2              RAM     90  Hypertek Systems\n",
      "3          Monitor     75   informatique.nl\n",
      "4              CPU     55    centurytech.sg\n",
      "5         Keyboard     20    centurytech.sg\n",
      "6            Mouse     10   informatique.nl\n",
      "7      Motherboard     50    centurytech.sg\n",
      "8     Power supply     20  Hypertek Systems\n"
     ]
    }
   ],
   "execution_count": 68
  },
  {
   "cell_type": "markdown",
   "id": "aa574ca2",
   "metadata": {
    "collapsed": false,
    "jupyter": {
     "outputs_hidden": false
    }
   },
   "source": [
    "11. a.Merge the sales, prod_suppliers and products into one dataframe. What wil you merge first\n",
    "\n",
    "    b.How do you avoid having double columns?"
   ]
  },
  {
   "cell_type": "code",
   "id": "fbedc2a8",
   "metadata": {
    "collapsed": false,
    "jupyter": {
     "outputs_hidden": false
    },
    "ExecuteTime": {
     "end_time": "2024-10-12T15:09:51.384313Z",
     "start_time": "2024-10-12T15:09:51.368157Z"
    }
   },
   "source": [
    "# best way to do it lol\n",
    "dfs = pd.merge(df_product, df_prod_supplier, left_index=True, right_on='p_id')\n",
    "dfs = pd.merge(dfs, df_sales)\n",
    "dfs.set_index('p_id', inplace=True)\n",
    "dfs"
   ],
   "outputs": [
    {
     "data": {
      "text/plain": [
       "      product  price  supp_id      suppliername  sale_id  c_id  qty store\n",
       "p_id                                                                     \n",
       "2         RAM     90        1  Hypertek Systems        4     4    2   DEF\n",
       "2         RAM     90        1  Hypertek Systems        7     2    3   ABC\n",
       "2         RAM     90        1  Hypertek Systems        8     3    2   DEF\n",
       "3     Monitor     75        2   informatique.nl        1     2    2   ABC\n",
       "3     Monitor     75        2   informatique.nl        3     1    3   ABC\n",
       "3     Monitor     75        2   informatique.nl        5     2    3   ABC\n",
       "3     Monitor     75        2   informatique.nl        6     3    2   DEF\n",
       "3     Monitor     75        2   informatique.nl        9     2    2   ABC\n",
       "4         CPU     55        3    centurytech.sg        2     2    1   DEF"
      ],
      "text/html": [
       "<div>\n",
       "<style scoped>\n",
       "    .dataframe tbody tr th:only-of-type {\n",
       "        vertical-align: middle;\n",
       "    }\n",
       "\n",
       "    .dataframe tbody tr th {\n",
       "        vertical-align: top;\n",
       "    }\n",
       "\n",
       "    .dataframe thead th {\n",
       "        text-align: right;\n",
       "    }\n",
       "</style>\n",
       "<table border=\"1\" class=\"dataframe\">\n",
       "  <thead>\n",
       "    <tr style=\"text-align: right;\">\n",
       "      <th></th>\n",
       "      <th>product</th>\n",
       "      <th>price</th>\n",
       "      <th>supp_id</th>\n",
       "      <th>suppliername</th>\n",
       "      <th>sale_id</th>\n",
       "      <th>c_id</th>\n",
       "      <th>qty</th>\n",
       "      <th>store</th>\n",
       "    </tr>\n",
       "    <tr>\n",
       "      <th>p_id</th>\n",
       "      <th></th>\n",
       "      <th></th>\n",
       "      <th></th>\n",
       "      <th></th>\n",
       "      <th></th>\n",
       "      <th></th>\n",
       "      <th></th>\n",
       "      <th></th>\n",
       "    </tr>\n",
       "  </thead>\n",
       "  <tbody>\n",
       "    <tr>\n",
       "      <th>2</th>\n",
       "      <td>RAM</td>\n",
       "      <td>90</td>\n",
       "      <td>1</td>\n",
       "      <td>Hypertek Systems</td>\n",
       "      <td>4</td>\n",
       "      <td>4</td>\n",
       "      <td>2</td>\n",
       "      <td>DEF</td>\n",
       "    </tr>\n",
       "    <tr>\n",
       "      <th>2</th>\n",
       "      <td>RAM</td>\n",
       "      <td>90</td>\n",
       "      <td>1</td>\n",
       "      <td>Hypertek Systems</td>\n",
       "      <td>7</td>\n",
       "      <td>2</td>\n",
       "      <td>3</td>\n",
       "      <td>ABC</td>\n",
       "    </tr>\n",
       "    <tr>\n",
       "      <th>2</th>\n",
       "      <td>RAM</td>\n",
       "      <td>90</td>\n",
       "      <td>1</td>\n",
       "      <td>Hypertek Systems</td>\n",
       "      <td>8</td>\n",
       "      <td>3</td>\n",
       "      <td>2</td>\n",
       "      <td>DEF</td>\n",
       "    </tr>\n",
       "    <tr>\n",
       "      <th>3</th>\n",
       "      <td>Monitor</td>\n",
       "      <td>75</td>\n",
       "      <td>2</td>\n",
       "      <td>informatique.nl</td>\n",
       "      <td>1</td>\n",
       "      <td>2</td>\n",
       "      <td>2</td>\n",
       "      <td>ABC</td>\n",
       "    </tr>\n",
       "    <tr>\n",
       "      <th>3</th>\n",
       "      <td>Monitor</td>\n",
       "      <td>75</td>\n",
       "      <td>2</td>\n",
       "      <td>informatique.nl</td>\n",
       "      <td>3</td>\n",
       "      <td>1</td>\n",
       "      <td>3</td>\n",
       "      <td>ABC</td>\n",
       "    </tr>\n",
       "    <tr>\n",
       "      <th>3</th>\n",
       "      <td>Monitor</td>\n",
       "      <td>75</td>\n",
       "      <td>2</td>\n",
       "      <td>informatique.nl</td>\n",
       "      <td>5</td>\n",
       "      <td>2</td>\n",
       "      <td>3</td>\n",
       "      <td>ABC</td>\n",
       "    </tr>\n",
       "    <tr>\n",
       "      <th>3</th>\n",
       "      <td>Monitor</td>\n",
       "      <td>75</td>\n",
       "      <td>2</td>\n",
       "      <td>informatique.nl</td>\n",
       "      <td>6</td>\n",
       "      <td>3</td>\n",
       "      <td>2</td>\n",
       "      <td>DEF</td>\n",
       "    </tr>\n",
       "    <tr>\n",
       "      <th>3</th>\n",
       "      <td>Monitor</td>\n",
       "      <td>75</td>\n",
       "      <td>2</td>\n",
       "      <td>informatique.nl</td>\n",
       "      <td>9</td>\n",
       "      <td>2</td>\n",
       "      <td>2</td>\n",
       "      <td>ABC</td>\n",
       "    </tr>\n",
       "    <tr>\n",
       "      <th>4</th>\n",
       "      <td>CPU</td>\n",
       "      <td>55</td>\n",
       "      <td>3</td>\n",
       "      <td>centurytech.sg</td>\n",
       "      <td>2</td>\n",
       "      <td>2</td>\n",
       "      <td>1</td>\n",
       "      <td>DEF</td>\n",
       "    </tr>\n",
       "  </tbody>\n",
       "</table>\n",
       "</div>"
      ]
     },
     "execution_count": 84,
     "metadata": {},
     "output_type": "execute_result"
    }
   ],
   "execution_count": 84
  },
  {
   "cell_type": "code",
   "id": "f607f3ff",
   "metadata": {
    "collapsed": false,
    "jupyter": {
     "outputs_hidden": false
    },
    "ExecuteTime": {
     "end_time": "2024-10-12T15:22:45.414309Z",
     "start_time": "2024-10-12T15:22:45.399712Z"
    }
   },
   "source": [
    "# one way to do it (by teacher) which mine is better but anyway\n",
    "df_temp = pd.merge(df_sales, df_product, left_on=['p_id', 'product'], right_on=['p_id', 'product'])\n",
    "# df_temp\n",
    "df_final = pd.merge(df_temp, df_prod_supplier)\n",
    "# df_final.drop('product_y', axis=1, inplace=True)\n",
    "# df_final.columns=['sale_id', 'c_id', 'p_id', 'product', 'B', 'C', 'A', 'D', 'F']\n",
    "# df_final.iloc[:, 3].column='product'\n",
    "df_final"
   ],
   "outputs": [
    {
     "data": {
      "text/plain": [
       "   sale_id  c_id  p_id  product  qty store  price  supp_id      suppliername\n",
       "0        1     2     3  Monitor    2   ABC     75        2   informatique.nl\n",
       "1        2     2     4      CPU    1   DEF     55        3    centurytech.sg\n",
       "2        3     1     3  Monitor    3   ABC     75        2   informatique.nl\n",
       "3        4     4     2      RAM    2   DEF     90        1  Hypertek Systems\n",
       "4        5     2     3  Monitor    3   ABC     75        2   informatique.nl\n",
       "5        6     3     3  Monitor    2   DEF     75        2   informatique.nl\n",
       "6        7     2     2      RAM    3   ABC     90        1  Hypertek Systems\n",
       "7        8     3     2      RAM    2   DEF     90        1  Hypertek Systems\n",
       "8        9     2     3  Monitor    2   ABC     75        2   informatique.nl"
      ],
      "text/html": [
       "<div>\n",
       "<style scoped>\n",
       "    .dataframe tbody tr th:only-of-type {\n",
       "        vertical-align: middle;\n",
       "    }\n",
       "\n",
       "    .dataframe tbody tr th {\n",
       "        vertical-align: top;\n",
       "    }\n",
       "\n",
       "    .dataframe thead th {\n",
       "        text-align: right;\n",
       "    }\n",
       "</style>\n",
       "<table border=\"1\" class=\"dataframe\">\n",
       "  <thead>\n",
       "    <tr style=\"text-align: right;\">\n",
       "      <th></th>\n",
       "      <th>sale_id</th>\n",
       "      <th>c_id</th>\n",
       "      <th>p_id</th>\n",
       "      <th>product</th>\n",
       "      <th>qty</th>\n",
       "      <th>store</th>\n",
       "      <th>price</th>\n",
       "      <th>supp_id</th>\n",
       "      <th>suppliername</th>\n",
       "    </tr>\n",
       "  </thead>\n",
       "  <tbody>\n",
       "    <tr>\n",
       "      <th>0</th>\n",
       "      <td>1</td>\n",
       "      <td>2</td>\n",
       "      <td>3</td>\n",
       "      <td>Monitor</td>\n",
       "      <td>2</td>\n",
       "      <td>ABC</td>\n",
       "      <td>75</td>\n",
       "      <td>2</td>\n",
       "      <td>informatique.nl</td>\n",
       "    </tr>\n",
       "    <tr>\n",
       "      <th>1</th>\n",
       "      <td>2</td>\n",
       "      <td>2</td>\n",
       "      <td>4</td>\n",
       "      <td>CPU</td>\n",
       "      <td>1</td>\n",
       "      <td>DEF</td>\n",
       "      <td>55</td>\n",
       "      <td>3</td>\n",
       "      <td>centurytech.sg</td>\n",
       "    </tr>\n",
       "    <tr>\n",
       "      <th>2</th>\n",
       "      <td>3</td>\n",
       "      <td>1</td>\n",
       "      <td>3</td>\n",
       "      <td>Monitor</td>\n",
       "      <td>3</td>\n",
       "      <td>ABC</td>\n",
       "      <td>75</td>\n",
       "      <td>2</td>\n",
       "      <td>informatique.nl</td>\n",
       "    </tr>\n",
       "    <tr>\n",
       "      <th>3</th>\n",
       "      <td>4</td>\n",
       "      <td>4</td>\n",
       "      <td>2</td>\n",
       "      <td>RAM</td>\n",
       "      <td>2</td>\n",
       "      <td>DEF</td>\n",
       "      <td>90</td>\n",
       "      <td>1</td>\n",
       "      <td>Hypertek Systems</td>\n",
       "    </tr>\n",
       "    <tr>\n",
       "      <th>4</th>\n",
       "      <td>5</td>\n",
       "      <td>2</td>\n",
       "      <td>3</td>\n",
       "      <td>Monitor</td>\n",
       "      <td>3</td>\n",
       "      <td>ABC</td>\n",
       "      <td>75</td>\n",
       "      <td>2</td>\n",
       "      <td>informatique.nl</td>\n",
       "    </tr>\n",
       "    <tr>\n",
       "      <th>5</th>\n",
       "      <td>6</td>\n",
       "      <td>3</td>\n",
       "      <td>3</td>\n",
       "      <td>Monitor</td>\n",
       "      <td>2</td>\n",
       "      <td>DEF</td>\n",
       "      <td>75</td>\n",
       "      <td>2</td>\n",
       "      <td>informatique.nl</td>\n",
       "    </tr>\n",
       "    <tr>\n",
       "      <th>6</th>\n",
       "      <td>7</td>\n",
       "      <td>2</td>\n",
       "      <td>2</td>\n",
       "      <td>RAM</td>\n",
       "      <td>3</td>\n",
       "      <td>ABC</td>\n",
       "      <td>90</td>\n",
       "      <td>1</td>\n",
       "      <td>Hypertek Systems</td>\n",
       "    </tr>\n",
       "    <tr>\n",
       "      <th>7</th>\n",
       "      <td>8</td>\n",
       "      <td>3</td>\n",
       "      <td>2</td>\n",
       "      <td>RAM</td>\n",
       "      <td>2</td>\n",
       "      <td>DEF</td>\n",
       "      <td>90</td>\n",
       "      <td>1</td>\n",
       "      <td>Hypertek Systems</td>\n",
       "    </tr>\n",
       "    <tr>\n",
       "      <th>8</th>\n",
       "      <td>9</td>\n",
       "      <td>2</td>\n",
       "      <td>3</td>\n",
       "      <td>Monitor</td>\n",
       "      <td>2</td>\n",
       "      <td>ABC</td>\n",
       "      <td>75</td>\n",
       "      <td>2</td>\n",
       "      <td>informatique.nl</td>\n",
       "    </tr>\n",
       "  </tbody>\n",
       "</table>\n",
       "</div>"
      ]
     },
     "execution_count": 104,
     "metadata": {},
     "output_type": "execute_result"
    }
   ],
   "execution_count": 104
  },
  {
   "cell_type": "markdown",
   "id": "eebc93e3",
   "metadata": {
    "collapsed": false,
    "jupyter": {
     "outputs_hidden": false
    }
   },
   "source": [
    "### What about left, right and outer joins?\n"
   ]
  },
  {
   "cell_type": "markdown",
   "id": "f67e7018",
   "metadata": {
    "collapsed": false,
    "jupyter": {
     "outputs_hidden": false
    }
   },
   "source": [
    "In SQL we have the notion of a left and right join and an outer join. What are the pandas counterparts?\n",
    "Let's review our student example"
   ]
  },
  {
   "metadata": {
    "collapsed": false,
    "jupyter": {
     "outputs_hidden": false
    },
    "ExecuteTime": {
     "end_time": "2024-10-12T15:28:33.029116Z",
     "start_time": "2024-10-12T15:28:33.024766Z"
    }
   },
   "cell_type": "code",
   "source": "print(df_students)",
   "id": "03e87e96",
   "outputs": [
    {
     "name": "stdout",
     "output_type": "stream",
     "text": [
      "  student_name                                major\n",
      "0        Alice                                   AI\n",
      "1          Bob  Infrastructure & System Engineering\n",
      "2      Charlie  Infrastructure & System Engineering\n",
      "3        David              Application Development\n",
      "4          Eva                                   AI\n",
      "5        Frank              Application Development\n"
     ]
    }
   ],
   "execution_count": 115
  },
  {
   "cell_type": "markdown",
   "id": "83690bad",
   "metadata": {
    "collapsed": false,
    "jupyter": {
     "outputs_hidden": false
    }
   },
   "source": [
    "12. Suppose that our students also have the option to have a minor:\n",
    "a. Make a Dataframe with a column student_name and a column minor\n",
    "Alice takes the minor French communication and Frank chooses LLM. Ali finished the major but still wants to add a minor in Cybersecurity on his CV label this Dataframe as df_minor\n",
    "b. Merge the df_students with df_minor. What happens?\n",
    "c. Do we have duplicate columns? How do we drop them?\n",
    "d Construct a dataframe with all the information of all the students\n",
    "e. Construct a dataframe with all the information of the majors and optional that of the minors\n",
    "f. Construct a dataframe with all the info about the minors and optional that of the majors\n"
   ]
  },
  {
   "cell_type": "code",
   "id": "b8eab00c",
   "metadata": {
    "collapsed": false,
    "jupyter": {
     "outputs_hidden": false
    },
    "ExecuteTime": {
     "end_time": "2024-10-12T15:34:30.154661Z",
     "start_time": "2024-10-12T15:34:30.151010Z"
    }
   },
   "source": [
    "data={'Student_name':['Alice','Frank','Ali'],'Minor':['French communication','LLM','Cybersecurity']}\n",
    "df_minor=pd.DataFrame(data)"
   ],
   "outputs": [],
   "execution_count": 126
  },
  {
   "cell_type": "code",
   "id": "583ebbd4",
   "metadata": {
    "collapsed": false,
    "jupyter": {
     "outputs_hidden": false
    },
    "ExecuteTime": {
     "end_time": "2024-10-12T15:32:19.731734Z",
     "start_time": "2024-10-12T15:32:19.724249Z"
    }
   },
   "source": "df_minor",
   "outputs": [
    {
     "data": {
      "text/plain": [
       "  Student_name                 Minor\n",
       "0        Alice  French communication\n",
       "1        Frank                   LLM\n",
       "2          Ali         Cybersecurity"
      ],
      "text/html": [
       "<div>\n",
       "<style scoped>\n",
       "    .dataframe tbody tr th:only-of-type {\n",
       "        vertical-align: middle;\n",
       "    }\n",
       "\n",
       "    .dataframe tbody tr th {\n",
       "        vertical-align: top;\n",
       "    }\n",
       "\n",
       "    .dataframe thead th {\n",
       "        text-align: right;\n",
       "    }\n",
       "</style>\n",
       "<table border=\"1\" class=\"dataframe\">\n",
       "  <thead>\n",
       "    <tr style=\"text-align: right;\">\n",
       "      <th></th>\n",
       "      <th>Student_name</th>\n",
       "      <th>Minor</th>\n",
       "    </tr>\n",
       "  </thead>\n",
       "  <tbody>\n",
       "    <tr>\n",
       "      <th>0</th>\n",
       "      <td>Alice</td>\n",
       "      <td>French communication</td>\n",
       "    </tr>\n",
       "    <tr>\n",
       "      <th>1</th>\n",
       "      <td>Frank</td>\n",
       "      <td>LLM</td>\n",
       "    </tr>\n",
       "    <tr>\n",
       "      <th>2</th>\n",
       "      <td>Ali</td>\n",
       "      <td>Cybersecurity</td>\n",
       "    </tr>\n",
       "  </tbody>\n",
       "</table>\n",
       "</div>"
      ]
     },
     "execution_count": 122,
     "metadata": {},
     "output_type": "execute_result"
    }
   ],
   "execution_count": 122
  },
  {
   "cell_type": "code",
   "id": "ca6bdc93",
   "metadata": {
    "collapsed": false,
    "jupyter": {
     "outputs_hidden": false
    },
    "ExecuteTime": {
     "end_time": "2024-10-12T15:34:48.792469Z",
     "start_time": "2024-10-12T15:34:48.784593Z"
    }
   },
   "source": [
    "#b\n",
    "df=pd.merge(df_students,df_minor,left_on='student_name',right_on='Student_name')\n",
    "print(df)\n",
    "#c\n",
    "df=df.drop('Student_name',axis=1)\n",
    "print(df)"
   ],
   "outputs": [
    {
     "name": "stdout",
     "output_type": "stream",
     "text": [
      "  student_name                    major Student_name                 Minor\n",
      "0        Alice                       AI        Alice  French communication\n",
      "1        Frank  Application Development        Frank                   LLM\n",
      "  student_name                    major                 Minor\n",
      "0        Alice                       AI  French communication\n",
      "1        Frank  Application Development                   LLM\n"
     ]
    }
   ],
   "execution_count": 127
  },
  {
   "cell_type": "code",
   "id": "b4041d34",
   "metadata": {
    "collapsed": false,
    "jupyter": {
     "outputs_hidden": false
    },
    "ExecuteTime": {
     "end_time": "2024-10-12T15:39:08.318159Z",
     "start_time": "2024-10-12T15:39:08.308044Z"
    }
   },
   "source": [
    "# d Construct a dataframe with all the information of all the students\n",
    "df_all = pd.merge(df_students, df_minor, left_on=\"student_name\", right_on=\"Student_name\", how=\"outer\")\n",
    "df_all"
   ],
   "outputs": [
    {
     "data": {
      "text/plain": [
       "  student_name                                major Student_name  \\\n",
       "0          NaN                                  NaN          Ali   \n",
       "1        Alice                                   AI        Alice   \n",
       "2          Bob  Infrastructure & System Engineering          NaN   \n",
       "3      Charlie  Infrastructure & System Engineering          NaN   \n",
       "4        David              Application Development          NaN   \n",
       "5          Eva                                   AI          NaN   \n",
       "6        Frank              Application Development        Frank   \n",
       "\n",
       "                  Minor  \n",
       "0         Cybersecurity  \n",
       "1  French communication  \n",
       "2                   NaN  \n",
       "3                   NaN  \n",
       "4                   NaN  \n",
       "5                   NaN  \n",
       "6                   LLM  "
      ],
      "text/html": [
       "<div>\n",
       "<style scoped>\n",
       "    .dataframe tbody tr th:only-of-type {\n",
       "        vertical-align: middle;\n",
       "    }\n",
       "\n",
       "    .dataframe tbody tr th {\n",
       "        vertical-align: top;\n",
       "    }\n",
       "\n",
       "    .dataframe thead th {\n",
       "        text-align: right;\n",
       "    }\n",
       "</style>\n",
       "<table border=\"1\" class=\"dataframe\">\n",
       "  <thead>\n",
       "    <tr style=\"text-align: right;\">\n",
       "      <th></th>\n",
       "      <th>student_name</th>\n",
       "      <th>major</th>\n",
       "      <th>Student_name</th>\n",
       "      <th>Minor</th>\n",
       "    </tr>\n",
       "  </thead>\n",
       "  <tbody>\n",
       "    <tr>\n",
       "      <th>0</th>\n",
       "      <td>NaN</td>\n",
       "      <td>NaN</td>\n",
       "      <td>Ali</td>\n",
       "      <td>Cybersecurity</td>\n",
       "    </tr>\n",
       "    <tr>\n",
       "      <th>1</th>\n",
       "      <td>Alice</td>\n",
       "      <td>AI</td>\n",
       "      <td>Alice</td>\n",
       "      <td>French communication</td>\n",
       "    </tr>\n",
       "    <tr>\n",
       "      <th>2</th>\n",
       "      <td>Bob</td>\n",
       "      <td>Infrastructure &amp; System Engineering</td>\n",
       "      <td>NaN</td>\n",
       "      <td>NaN</td>\n",
       "    </tr>\n",
       "    <tr>\n",
       "      <th>3</th>\n",
       "      <td>Charlie</td>\n",
       "      <td>Infrastructure &amp; System Engineering</td>\n",
       "      <td>NaN</td>\n",
       "      <td>NaN</td>\n",
       "    </tr>\n",
       "    <tr>\n",
       "      <th>4</th>\n",
       "      <td>David</td>\n",
       "      <td>Application Development</td>\n",
       "      <td>NaN</td>\n",
       "      <td>NaN</td>\n",
       "    </tr>\n",
       "    <tr>\n",
       "      <th>5</th>\n",
       "      <td>Eva</td>\n",
       "      <td>AI</td>\n",
       "      <td>NaN</td>\n",
       "      <td>NaN</td>\n",
       "    </tr>\n",
       "    <tr>\n",
       "      <th>6</th>\n",
       "      <td>Frank</td>\n",
       "      <td>Application Development</td>\n",
       "      <td>Frank</td>\n",
       "      <td>LLM</td>\n",
       "    </tr>\n",
       "  </tbody>\n",
       "</table>\n",
       "</div>"
      ]
     },
     "execution_count": 132,
     "metadata": {},
     "output_type": "execute_result"
    }
   ],
   "execution_count": 132
  },
  {
   "cell_type": "code",
   "id": "4c8da1bd",
   "metadata": {
    "collapsed": false,
    "jupyter": {
     "outputs_hidden": false
    },
    "ExecuteTime": {
     "end_time": "2024-10-12T15:40:25.717300Z",
     "start_time": "2024-10-12T15:40:25.707336Z"
    }
   },
   "source": [
    "# e. Construct a dataframe with all the information of the majors and optional that of the minors\n",
    "df_majors = pd.merge(df_students, df_minor, left_on=\"student_name\", right_on=\"Student_name\", how=\"left\")\n",
    "df_majors\n"
   ],
   "outputs": [
    {
     "data": {
      "text/plain": [
       "  student_name                                major Student_name  \\\n",
       "0        Alice                                   AI        Alice   \n",
       "1          Bob  Infrastructure & System Engineering          NaN   \n",
       "2      Charlie  Infrastructure & System Engineering          NaN   \n",
       "3        David              Application Development          NaN   \n",
       "4          Eva                                   AI          NaN   \n",
       "5        Frank              Application Development        Frank   \n",
       "\n",
       "                  Minor  \n",
       "0  French communication  \n",
       "1                   NaN  \n",
       "2                   NaN  \n",
       "3                   NaN  \n",
       "4                   NaN  \n",
       "5                   LLM  "
      ],
      "text/html": [
       "<div>\n",
       "<style scoped>\n",
       "    .dataframe tbody tr th:only-of-type {\n",
       "        vertical-align: middle;\n",
       "    }\n",
       "\n",
       "    .dataframe tbody tr th {\n",
       "        vertical-align: top;\n",
       "    }\n",
       "\n",
       "    .dataframe thead th {\n",
       "        text-align: right;\n",
       "    }\n",
       "</style>\n",
       "<table border=\"1\" class=\"dataframe\">\n",
       "  <thead>\n",
       "    <tr style=\"text-align: right;\">\n",
       "      <th></th>\n",
       "      <th>student_name</th>\n",
       "      <th>major</th>\n",
       "      <th>Student_name</th>\n",
       "      <th>Minor</th>\n",
       "    </tr>\n",
       "  </thead>\n",
       "  <tbody>\n",
       "    <tr>\n",
       "      <th>0</th>\n",
       "      <td>Alice</td>\n",
       "      <td>AI</td>\n",
       "      <td>Alice</td>\n",
       "      <td>French communication</td>\n",
       "    </tr>\n",
       "    <tr>\n",
       "      <th>1</th>\n",
       "      <td>Bob</td>\n",
       "      <td>Infrastructure &amp; System Engineering</td>\n",
       "      <td>NaN</td>\n",
       "      <td>NaN</td>\n",
       "    </tr>\n",
       "    <tr>\n",
       "      <th>2</th>\n",
       "      <td>Charlie</td>\n",
       "      <td>Infrastructure &amp; System Engineering</td>\n",
       "      <td>NaN</td>\n",
       "      <td>NaN</td>\n",
       "    </tr>\n",
       "    <tr>\n",
       "      <th>3</th>\n",
       "      <td>David</td>\n",
       "      <td>Application Development</td>\n",
       "      <td>NaN</td>\n",
       "      <td>NaN</td>\n",
       "    </tr>\n",
       "    <tr>\n",
       "      <th>4</th>\n",
       "      <td>Eva</td>\n",
       "      <td>AI</td>\n",
       "      <td>NaN</td>\n",
       "      <td>NaN</td>\n",
       "    </tr>\n",
       "    <tr>\n",
       "      <th>5</th>\n",
       "      <td>Frank</td>\n",
       "      <td>Application Development</td>\n",
       "      <td>Frank</td>\n",
       "      <td>LLM</td>\n",
       "    </tr>\n",
       "  </tbody>\n",
       "</table>\n",
       "</div>"
      ]
     },
     "execution_count": 133,
     "metadata": {},
     "output_type": "execute_result"
    }
   ],
   "execution_count": 133
  },
  {
   "cell_type": "code",
   "id": "c4c13eda",
   "metadata": {
    "collapsed": false,
    "jupyter": {
     "outputs_hidden": false
    },
    "ExecuteTime": {
     "end_time": "2024-10-12T15:41:07.388942Z",
     "start_time": "2024-10-12T15:41:07.377990Z"
    }
   },
   "source": [
    "# f. Construct a dataframe with all the info about the minors and optional that of the majors\n",
    "df_minors_all = pd.merge(df_students, df_minor, left_on=\"student_name\", right_on=\"Student_name\", how=\"right\")\n",
    "df_minors_all"
   ],
   "outputs": [
    {
     "data": {
      "text/plain": [
       "  student_name                    major Student_name                 Minor\n",
       "0        Alice                       AI        Alice  French communication\n",
       "1        Frank  Application Development        Frank                   LLM\n",
       "2          NaN                      NaN          Ali         Cybersecurity"
      ],
      "text/html": [
       "<div>\n",
       "<style scoped>\n",
       "    .dataframe tbody tr th:only-of-type {\n",
       "        vertical-align: middle;\n",
       "    }\n",
       "\n",
       "    .dataframe tbody tr th {\n",
       "        vertical-align: top;\n",
       "    }\n",
       "\n",
       "    .dataframe thead th {\n",
       "        text-align: right;\n",
       "    }\n",
       "</style>\n",
       "<table border=\"1\" class=\"dataframe\">\n",
       "  <thead>\n",
       "    <tr style=\"text-align: right;\">\n",
       "      <th></th>\n",
       "      <th>student_name</th>\n",
       "      <th>major</th>\n",
       "      <th>Student_name</th>\n",
       "      <th>Minor</th>\n",
       "    </tr>\n",
       "  </thead>\n",
       "  <tbody>\n",
       "    <tr>\n",
       "      <th>0</th>\n",
       "      <td>Alice</td>\n",
       "      <td>AI</td>\n",
       "      <td>Alice</td>\n",
       "      <td>French communication</td>\n",
       "    </tr>\n",
       "    <tr>\n",
       "      <th>1</th>\n",
       "      <td>Frank</td>\n",
       "      <td>Application Development</td>\n",
       "      <td>Frank</td>\n",
       "      <td>LLM</td>\n",
       "    </tr>\n",
       "    <tr>\n",
       "      <th>2</th>\n",
       "      <td>NaN</td>\n",
       "      <td>NaN</td>\n",
       "      <td>Ali</td>\n",
       "      <td>Cybersecurity</td>\n",
       "    </tr>\n",
       "  </tbody>\n",
       "</table>\n",
       "</div>"
      ]
     },
     "execution_count": 134,
     "metadata": {},
     "output_type": "execute_result"
    }
   ],
   "execution_count": 134
  },
  {
   "cell_type": "markdown",
   "id": "be8626c6",
   "metadata": {
    "collapsed": false,
    "jupyter": {
     "outputs_hidden": false
    }
   },
   "source": [
    "## Concatenate\n",
    "To concatenate dataframes or series in Pandas (pd.concat()) is comparable with UNION operation in SQL and of course it also in line with the numpy method np.concatenate().\n",
    "\n",
    "13. a. Read the files products.csv, products2.csv and products3.csv into the dataframes df_product1, df_product2 and df_product3.\n",
    "\n",
    "b. Look at the content and make one file of it: products_complete.csv\n",
    "(Hint: read everything in dataframes and next combine the dataframe in one big dataframe, subsequently write the file products_complete.csv)\n",
    "\n",
    "\n"
   ]
  },
  {
   "cell_type": "code",
   "id": "98477c9c",
   "metadata": {
    "collapsed": false,
    "jupyter": {
     "outputs_hidden": false
    },
    "ExecuteTime": {
     "end_time": "2024-10-12T16:16:11.075722Z",
     "start_time": "2024-10-12T16:16:11.064306Z"
    }
   },
   "source": [
    "df_product1 = pd.read_csv('data/products.csv')\n",
    "df_product2 = pd.read_csv('data/products2.csv')\n",
    "df_product3 = pd.read_csv('data/products3.csv')"
   ],
   "outputs": [],
   "execution_count": 137
  },
  {
   "cell_type": "code",
   "id": "26305e0b",
   "metadata": {
    "collapsed": false,
    "jupyter": {
     "outputs_hidden": false
    },
    "ExecuteTime": {
     "end_time": "2024-10-12T16:27:20.918736Z",
     "start_time": "2024-10-12T16:27:20.914306Z"
    }
   },
   "source": "print(df_product1)",
   "outputs": [
    {
     "name": "stdout",
     "output_type": "stream",
     "text": [
      "   p_id       product  price\n",
      "0     1     Hard Disk     80\n",
      "1     2           RAM     90\n",
      "2     3       Monitor     75\n",
      "3     4           CPU     55\n",
      "4     5      Keyboard     20\n",
      "5     6         Mouse     10\n",
      "6     7   Motherboard     50\n",
      "7     8  Power supply     20\n"
     ]
    }
   ],
   "execution_count": 153
  },
  {
   "cell_type": "code",
   "id": "445a450e",
   "metadata": {
    "collapsed": false,
    "jupyter": {
     "outputs_hidden": false
    },
    "ExecuteTime": {
     "end_time": "2024-10-12T16:28:37.967672Z",
     "start_time": "2024-10-12T16:28:37.961938Z"
    }
   },
   "source": "print(df_product2)",
   "outputs": [
    {
     "name": "stdout",
     "output_type": "stream",
     "text": [
      "   p_id        product  price\n",
      "0     9  Graphics Card    150\n",
      "1    10            SSD     60\n",
      "2    11       Speakers     30\n",
      "3    12         Webcam     25\n"
     ]
    }
   ],
   "execution_count": 154
  },
  {
   "cell_type": "code",
   "id": "7e7952b7",
   "metadata": {
    "collapsed": false,
    "jupyter": {
     "outputs_hidden": false
    },
    "ExecuteTime": {
     "end_time": "2024-10-12T16:28:47.409358Z",
     "start_time": "2024-10-12T16:28:47.402459Z"
    }
   },
   "source": "print(df_product3)",
   "outputs": [
    {
     "name": "stdout",
     "output_type": "stream",
     "text": [
      "   p_id        product  price\n",
      "0    13        USB Hub     15\n",
      "1    14    Cooling Fan     20\n",
      "2    15  Optical Drive     35\n",
      "3    16           Case     40\n",
      "4    17        Headset     45\n"
     ]
    }
   ],
   "execution_count": 155
  },
  {
   "cell_type": "code",
   "id": "671b4670",
   "metadata": {
    "collapsed": false,
    "jupyter": {
     "outputs_hidden": false
    },
    "ExecuteTime": {
     "end_time": "2024-10-12T16:30:48.442257Z",
     "start_time": "2024-10-12T16:30:48.436355Z"
    }
   },
   "source": [
    "df_products123 = pd.concat([df_product1, df_product2, df_product3], ignore_index=True)\n",
    "print(df_products123)"
   ],
   "outputs": [
    {
     "name": "stdout",
     "output_type": "stream",
     "text": [
      "    p_id        product  price\n",
      "0      1      Hard Disk     80\n",
      "1      2            RAM     90\n",
      "2      3        Monitor     75\n",
      "3      4            CPU     55\n",
      "4      5       Keyboard     20\n",
      "5      6          Mouse     10\n",
      "6      7    Motherboard     50\n",
      "7      8   Power supply     20\n",
      "8      9  Graphics Card    150\n",
      "9     10            SSD     60\n",
      "10    11       Speakers     30\n",
      "11    12         Webcam     25\n",
      "12    13        USB Hub     15\n",
      "13    14    Cooling Fan     20\n",
      "14    15  Optical Drive     35\n",
      "15    16           Case     40\n",
      "16    17        Headset     45\n"
     ]
    }
   ],
   "execution_count": 160
  },
  {
   "cell_type": "code",
   "id": "f3cb1a82",
   "metadata": {
    "collapsed": false,
    "jupyter": {
     "outputs_hidden": false
    },
    "ExecuteTime": {
     "end_time": "2024-10-12T16:32:38.161126Z",
     "start_time": "2024-10-12T16:32:38.155215Z"
    }
   },
   "source": "df_products123.to_csv('data/products_complete.csv')",
   "outputs": [],
   "execution_count": 163
  },
  {
   "cell_type": "markdown",
   "id": "056fde0d",
   "metadata": {
    "collapsed": false,
    "jupyter": {
     "outputs_hidden": false
    }
   },
   "source": [
    "Let's recall the function make_df to construct some dataframes"
   ]
  },
  {
   "cell_type": "code",
   "execution_count": 6,
   "id": "8e572680",
   "metadata": {
    "ExecuteTime": {
     "end_time": "2024-09-04T17:14:37.699161Z",
     "start_time": "2024-09-04T17:14:37.689667Z"
    },
    "collapsed": false,
    "jupyter": {
     "outputs_hidden": false
    }
   },
   "outputs": [],
   "source": [
    "def make_df(cols, ind):\n",
    "    \"\"\"Quickly make a DataFrame\"\"\"\n",
    "    data = {c: [str(c) + str(i) for i in ind]\n",
    "            for c in cols}\n",
    "    return pd.DataFrame(data, ind)\n",
    "df1=make_df(\"THIS\",[0,1,2])"
   ]
  },
  {
   "cell_type": "code",
   "execution_count": 151,
   "id": "5bad6cca",
   "metadata": {
    "ExecuteTime": {
     "end_time": "2024-09-04T17:14:38.380980Z",
     "start_time": "2024-09-04T17:14:38.364440Z"
    },
    "collapsed": false,
    "jupyter": {
     "outputs_hidden": false
    }
   },
   "outputs": [],
   "source": []
  },
  {
   "cell_type": "markdown",
   "id": "705db538",
   "metadata": {
    "collapsed": false,
    "jupyter": {
     "outputs_hidden": false
    }
   },
   "source": [
    "2. a.How do you create with concat the following dataframe?\n",
    "   b.What method will accomplish the same?\n"
   ]
  },
  {
   "cell_type": "code",
   "execution_count": 7,
   "id": "b366e583",
   "metadata": {
    "ExecuteTime": {
     "end_time": "2024-09-04T17:16:37.499761Z",
     "start_time": "2024-09-04T17:16:37.422940Z"
    },
    "collapsed": false,
    "jupyter": {
     "outputs_hidden": false
    }
   },
   "outputs": [
    {
     "ename": "FileNotFoundError",
     "evalue": "[Errno 2] No such file or directory: 'data/thisfor.csv'",
     "output_type": "error",
     "traceback": [
      "\u001B[0;31m---------------------------------------------------------------------------\u001B[0m",
      "\u001B[0;31mFileNotFoundError\u001B[0m                         Traceback (most recent call last)",
      "Cell \u001B[0;32mIn[7], line 2\u001B[0m\n\u001B[1;32m      1\u001B[0m \u001B[38;5;66;03m#this is a part of the question\u001B[39;00m\n\u001B[0;32m----> 2\u001B[0m \u001B[38;5;28mprint\u001B[39m(\u001B[43mpd\u001B[49m\u001B[38;5;241;43m.\u001B[39;49m\u001B[43mread_csv\u001B[49m\u001B[43m(\u001B[49m\u001B[38;5;124;43m'\u001B[39;49m\u001B[38;5;124;43mdata/thisfor.csv\u001B[39;49m\u001B[38;5;124;43m'\u001B[39;49m\u001B[43m)\u001B[49m)\n",
      "File \u001B[0;32m~/Desktop/dataAI3/lib/python3.12/site-packages/pandas/io/parsers/readers.py:1026\u001B[0m, in \u001B[0;36mread_csv\u001B[0;34m(filepath_or_buffer, sep, delimiter, header, names, index_col, usecols, dtype, engine, converters, true_values, false_values, skipinitialspace, skiprows, skipfooter, nrows, na_values, keep_default_na, na_filter, verbose, skip_blank_lines, parse_dates, infer_datetime_format, keep_date_col, date_parser, date_format, dayfirst, cache_dates, iterator, chunksize, compression, thousands, decimal, lineterminator, quotechar, quoting, doublequote, escapechar, comment, encoding, encoding_errors, dialect, on_bad_lines, delim_whitespace, low_memory, memory_map, float_precision, storage_options, dtype_backend)\u001B[0m\n\u001B[1;32m   1013\u001B[0m kwds_defaults \u001B[38;5;241m=\u001B[39m _refine_defaults_read(\n\u001B[1;32m   1014\u001B[0m     dialect,\n\u001B[1;32m   1015\u001B[0m     delimiter,\n\u001B[0;32m   (...)\u001B[0m\n\u001B[1;32m   1022\u001B[0m     dtype_backend\u001B[38;5;241m=\u001B[39mdtype_backend,\n\u001B[1;32m   1023\u001B[0m )\n\u001B[1;32m   1024\u001B[0m kwds\u001B[38;5;241m.\u001B[39mupdate(kwds_defaults)\n\u001B[0;32m-> 1026\u001B[0m \u001B[38;5;28;01mreturn\u001B[39;00m \u001B[43m_read\u001B[49m\u001B[43m(\u001B[49m\u001B[43mfilepath_or_buffer\u001B[49m\u001B[43m,\u001B[49m\u001B[43m \u001B[49m\u001B[43mkwds\u001B[49m\u001B[43m)\u001B[49m\n",
      "File \u001B[0;32m~/Desktop/dataAI3/lib/python3.12/site-packages/pandas/io/parsers/readers.py:620\u001B[0m, in \u001B[0;36m_read\u001B[0;34m(filepath_or_buffer, kwds)\u001B[0m\n\u001B[1;32m    617\u001B[0m _validate_names(kwds\u001B[38;5;241m.\u001B[39mget(\u001B[38;5;124m\"\u001B[39m\u001B[38;5;124mnames\u001B[39m\u001B[38;5;124m\"\u001B[39m, \u001B[38;5;28;01mNone\u001B[39;00m))\n\u001B[1;32m    619\u001B[0m \u001B[38;5;66;03m# Create the parser.\u001B[39;00m\n\u001B[0;32m--> 620\u001B[0m parser \u001B[38;5;241m=\u001B[39m \u001B[43mTextFileReader\u001B[49m\u001B[43m(\u001B[49m\u001B[43mfilepath_or_buffer\u001B[49m\u001B[43m,\u001B[49m\u001B[43m \u001B[49m\u001B[38;5;241;43m*\u001B[39;49m\u001B[38;5;241;43m*\u001B[39;49m\u001B[43mkwds\u001B[49m\u001B[43m)\u001B[49m\n\u001B[1;32m    622\u001B[0m \u001B[38;5;28;01mif\u001B[39;00m chunksize \u001B[38;5;129;01mor\u001B[39;00m iterator:\n\u001B[1;32m    623\u001B[0m     \u001B[38;5;28;01mreturn\u001B[39;00m parser\n",
      "File \u001B[0;32m~/Desktop/dataAI3/lib/python3.12/site-packages/pandas/io/parsers/readers.py:1620\u001B[0m, in \u001B[0;36mTextFileReader.__init__\u001B[0;34m(self, f, engine, **kwds)\u001B[0m\n\u001B[1;32m   1617\u001B[0m     \u001B[38;5;28mself\u001B[39m\u001B[38;5;241m.\u001B[39moptions[\u001B[38;5;124m\"\u001B[39m\u001B[38;5;124mhas_index_names\u001B[39m\u001B[38;5;124m\"\u001B[39m] \u001B[38;5;241m=\u001B[39m kwds[\u001B[38;5;124m\"\u001B[39m\u001B[38;5;124mhas_index_names\u001B[39m\u001B[38;5;124m\"\u001B[39m]\n\u001B[1;32m   1619\u001B[0m \u001B[38;5;28mself\u001B[39m\u001B[38;5;241m.\u001B[39mhandles: IOHandles \u001B[38;5;241m|\u001B[39m \u001B[38;5;28;01mNone\u001B[39;00m \u001B[38;5;241m=\u001B[39m \u001B[38;5;28;01mNone\u001B[39;00m\n\u001B[0;32m-> 1620\u001B[0m \u001B[38;5;28mself\u001B[39m\u001B[38;5;241m.\u001B[39m_engine \u001B[38;5;241m=\u001B[39m \u001B[38;5;28;43mself\u001B[39;49m\u001B[38;5;241;43m.\u001B[39;49m\u001B[43m_make_engine\u001B[49m\u001B[43m(\u001B[49m\u001B[43mf\u001B[49m\u001B[43m,\u001B[49m\u001B[43m \u001B[49m\u001B[38;5;28;43mself\u001B[39;49m\u001B[38;5;241;43m.\u001B[39;49m\u001B[43mengine\u001B[49m\u001B[43m)\u001B[49m\n",
      "File \u001B[0;32m~/Desktop/dataAI3/lib/python3.12/site-packages/pandas/io/parsers/readers.py:1880\u001B[0m, in \u001B[0;36mTextFileReader._make_engine\u001B[0;34m(self, f, engine)\u001B[0m\n\u001B[1;32m   1878\u001B[0m     \u001B[38;5;28;01mif\u001B[39;00m \u001B[38;5;124m\"\u001B[39m\u001B[38;5;124mb\u001B[39m\u001B[38;5;124m\"\u001B[39m \u001B[38;5;129;01mnot\u001B[39;00m \u001B[38;5;129;01min\u001B[39;00m mode:\n\u001B[1;32m   1879\u001B[0m         mode \u001B[38;5;241m+\u001B[39m\u001B[38;5;241m=\u001B[39m \u001B[38;5;124m\"\u001B[39m\u001B[38;5;124mb\u001B[39m\u001B[38;5;124m\"\u001B[39m\n\u001B[0;32m-> 1880\u001B[0m \u001B[38;5;28mself\u001B[39m\u001B[38;5;241m.\u001B[39mhandles \u001B[38;5;241m=\u001B[39m \u001B[43mget_handle\u001B[49m\u001B[43m(\u001B[49m\n\u001B[1;32m   1881\u001B[0m \u001B[43m    \u001B[49m\u001B[43mf\u001B[49m\u001B[43m,\u001B[49m\n\u001B[1;32m   1882\u001B[0m \u001B[43m    \u001B[49m\u001B[43mmode\u001B[49m\u001B[43m,\u001B[49m\n\u001B[1;32m   1883\u001B[0m \u001B[43m    \u001B[49m\u001B[43mencoding\u001B[49m\u001B[38;5;241;43m=\u001B[39;49m\u001B[38;5;28;43mself\u001B[39;49m\u001B[38;5;241;43m.\u001B[39;49m\u001B[43moptions\u001B[49m\u001B[38;5;241;43m.\u001B[39;49m\u001B[43mget\u001B[49m\u001B[43m(\u001B[49m\u001B[38;5;124;43m\"\u001B[39;49m\u001B[38;5;124;43mencoding\u001B[39;49m\u001B[38;5;124;43m\"\u001B[39;49m\u001B[43m,\u001B[49m\u001B[43m \u001B[49m\u001B[38;5;28;43;01mNone\u001B[39;49;00m\u001B[43m)\u001B[49m\u001B[43m,\u001B[49m\n\u001B[1;32m   1884\u001B[0m \u001B[43m    \u001B[49m\u001B[43mcompression\u001B[49m\u001B[38;5;241;43m=\u001B[39;49m\u001B[38;5;28;43mself\u001B[39;49m\u001B[38;5;241;43m.\u001B[39;49m\u001B[43moptions\u001B[49m\u001B[38;5;241;43m.\u001B[39;49m\u001B[43mget\u001B[49m\u001B[43m(\u001B[49m\u001B[38;5;124;43m\"\u001B[39;49m\u001B[38;5;124;43mcompression\u001B[39;49m\u001B[38;5;124;43m\"\u001B[39;49m\u001B[43m,\u001B[49m\u001B[43m \u001B[49m\u001B[38;5;28;43;01mNone\u001B[39;49;00m\u001B[43m)\u001B[49m\u001B[43m,\u001B[49m\n\u001B[1;32m   1885\u001B[0m \u001B[43m    \u001B[49m\u001B[43mmemory_map\u001B[49m\u001B[38;5;241;43m=\u001B[39;49m\u001B[38;5;28;43mself\u001B[39;49m\u001B[38;5;241;43m.\u001B[39;49m\u001B[43moptions\u001B[49m\u001B[38;5;241;43m.\u001B[39;49m\u001B[43mget\u001B[49m\u001B[43m(\u001B[49m\u001B[38;5;124;43m\"\u001B[39;49m\u001B[38;5;124;43mmemory_map\u001B[39;49m\u001B[38;5;124;43m\"\u001B[39;49m\u001B[43m,\u001B[49m\u001B[43m \u001B[49m\u001B[38;5;28;43;01mFalse\u001B[39;49;00m\u001B[43m)\u001B[49m\u001B[43m,\u001B[49m\n\u001B[1;32m   1886\u001B[0m \u001B[43m    \u001B[49m\u001B[43mis_text\u001B[49m\u001B[38;5;241;43m=\u001B[39;49m\u001B[43mis_text\u001B[49m\u001B[43m,\u001B[49m\n\u001B[1;32m   1887\u001B[0m \u001B[43m    \u001B[49m\u001B[43merrors\u001B[49m\u001B[38;5;241;43m=\u001B[39;49m\u001B[38;5;28;43mself\u001B[39;49m\u001B[38;5;241;43m.\u001B[39;49m\u001B[43moptions\u001B[49m\u001B[38;5;241;43m.\u001B[39;49m\u001B[43mget\u001B[49m\u001B[43m(\u001B[49m\u001B[38;5;124;43m\"\u001B[39;49m\u001B[38;5;124;43mencoding_errors\u001B[39;49m\u001B[38;5;124;43m\"\u001B[39;49m\u001B[43m,\u001B[49m\u001B[43m \u001B[49m\u001B[38;5;124;43m\"\u001B[39;49m\u001B[38;5;124;43mstrict\u001B[39;49m\u001B[38;5;124;43m\"\u001B[39;49m\u001B[43m)\u001B[49m\u001B[43m,\u001B[49m\n\u001B[1;32m   1888\u001B[0m \u001B[43m    \u001B[49m\u001B[43mstorage_options\u001B[49m\u001B[38;5;241;43m=\u001B[39;49m\u001B[38;5;28;43mself\u001B[39;49m\u001B[38;5;241;43m.\u001B[39;49m\u001B[43moptions\u001B[49m\u001B[38;5;241;43m.\u001B[39;49m\u001B[43mget\u001B[49m\u001B[43m(\u001B[49m\u001B[38;5;124;43m\"\u001B[39;49m\u001B[38;5;124;43mstorage_options\u001B[39;49m\u001B[38;5;124;43m\"\u001B[39;49m\u001B[43m,\u001B[49m\u001B[43m \u001B[49m\u001B[38;5;28;43;01mNone\u001B[39;49;00m\u001B[43m)\u001B[49m\u001B[43m,\u001B[49m\n\u001B[1;32m   1889\u001B[0m \u001B[43m\u001B[49m\u001B[43m)\u001B[49m\n\u001B[1;32m   1890\u001B[0m \u001B[38;5;28;01massert\u001B[39;00m \u001B[38;5;28mself\u001B[39m\u001B[38;5;241m.\u001B[39mhandles \u001B[38;5;129;01mis\u001B[39;00m \u001B[38;5;129;01mnot\u001B[39;00m \u001B[38;5;28;01mNone\u001B[39;00m\n\u001B[1;32m   1891\u001B[0m f \u001B[38;5;241m=\u001B[39m \u001B[38;5;28mself\u001B[39m\u001B[38;5;241m.\u001B[39mhandles\u001B[38;5;241m.\u001B[39mhandle\n",
      "File \u001B[0;32m~/Desktop/dataAI3/lib/python3.12/site-packages/pandas/io/common.py:873\u001B[0m, in \u001B[0;36mget_handle\u001B[0;34m(path_or_buf, mode, encoding, compression, memory_map, is_text, errors, storage_options)\u001B[0m\n\u001B[1;32m    868\u001B[0m \u001B[38;5;28;01melif\u001B[39;00m \u001B[38;5;28misinstance\u001B[39m(handle, \u001B[38;5;28mstr\u001B[39m):\n\u001B[1;32m    869\u001B[0m     \u001B[38;5;66;03m# Check whether the filename is to be opened in binary mode.\u001B[39;00m\n\u001B[1;32m    870\u001B[0m     \u001B[38;5;66;03m# Binary mode does not support 'encoding' and 'newline'.\u001B[39;00m\n\u001B[1;32m    871\u001B[0m     \u001B[38;5;28;01mif\u001B[39;00m ioargs\u001B[38;5;241m.\u001B[39mencoding \u001B[38;5;129;01mand\u001B[39;00m \u001B[38;5;124m\"\u001B[39m\u001B[38;5;124mb\u001B[39m\u001B[38;5;124m\"\u001B[39m \u001B[38;5;129;01mnot\u001B[39;00m \u001B[38;5;129;01min\u001B[39;00m ioargs\u001B[38;5;241m.\u001B[39mmode:\n\u001B[1;32m    872\u001B[0m         \u001B[38;5;66;03m# Encoding\u001B[39;00m\n\u001B[0;32m--> 873\u001B[0m         handle \u001B[38;5;241m=\u001B[39m \u001B[38;5;28;43mopen\u001B[39;49m\u001B[43m(\u001B[49m\n\u001B[1;32m    874\u001B[0m \u001B[43m            \u001B[49m\u001B[43mhandle\u001B[49m\u001B[43m,\u001B[49m\n\u001B[1;32m    875\u001B[0m \u001B[43m            \u001B[49m\u001B[43mioargs\u001B[49m\u001B[38;5;241;43m.\u001B[39;49m\u001B[43mmode\u001B[49m\u001B[43m,\u001B[49m\n\u001B[1;32m    876\u001B[0m \u001B[43m            \u001B[49m\u001B[43mencoding\u001B[49m\u001B[38;5;241;43m=\u001B[39;49m\u001B[43mioargs\u001B[49m\u001B[38;5;241;43m.\u001B[39;49m\u001B[43mencoding\u001B[49m\u001B[43m,\u001B[49m\n\u001B[1;32m    877\u001B[0m \u001B[43m            \u001B[49m\u001B[43merrors\u001B[49m\u001B[38;5;241;43m=\u001B[39;49m\u001B[43merrors\u001B[49m\u001B[43m,\u001B[49m\n\u001B[1;32m    878\u001B[0m \u001B[43m            \u001B[49m\u001B[43mnewline\u001B[49m\u001B[38;5;241;43m=\u001B[39;49m\u001B[38;5;124;43m\"\u001B[39;49m\u001B[38;5;124;43m\"\u001B[39;49m\u001B[43m,\u001B[49m\n\u001B[1;32m    879\u001B[0m \u001B[43m        \u001B[49m\u001B[43m)\u001B[49m\n\u001B[1;32m    880\u001B[0m     \u001B[38;5;28;01melse\u001B[39;00m:\n\u001B[1;32m    881\u001B[0m         \u001B[38;5;66;03m# Binary mode\u001B[39;00m\n\u001B[1;32m    882\u001B[0m         handle \u001B[38;5;241m=\u001B[39m \u001B[38;5;28mopen\u001B[39m(handle, ioargs\u001B[38;5;241m.\u001B[39mmode)\n",
      "\u001B[0;31mFileNotFoundError\u001B[0m: [Errno 2] No such file or directory: 'data/thisfor.csv'"
     ]
    }
   ],
   "source": [
    "#this is a part of the question\n",
    "print(pd.read_csv('data/thisfor.csv'))"
   ]
  },
  {
   "cell_type": "code",
   "execution_count": null,
   "id": "90f6d299",
   "metadata": {
    "ExecuteTime": {
     "end_time": "2024-09-04T17:25:44.517873Z",
     "start_time": "2024-09-04T17:25:44.512069Z"
    },
    "collapsed": false,
    "jupyter": {
     "outputs_hidden": false
    }
   },
   "outputs": [],
   "source": []
  },
  {
   "cell_type": "code",
   "execution_count": null,
   "id": "d7d6fe2a",
   "metadata": {
    "collapsed": false,
    "jupyter": {
     "outputs_hidden": false
    }
   },
   "outputs": [],
   "source": [
    "# in the book we also see something like df=pd.concat([df1,df2],axis='col') this is however an error!"
   ]
  },
  {
   "cell_type": "code",
   "execution_count": null,
   "id": "893bae76",
   "metadata": {
    "ExecuteTime": {
     "end_time": "2024-09-04T17:46:01.177690Z",
     "start_time": "2024-09-04T17:46:01.172805Z"
    },
    "collapsed": false,
    "jupyter": {
     "outputs_hidden": false
    }
   },
   "outputs": [],
   "source": []
  },
  {
   "cell_type": "code",
   "execution_count": null,
   "id": "099dce12",
   "metadata": {
    "collapsed": false,
    "jupyter": {
     "outputs_hidden": false
    }
   },
   "outputs": [],
   "source": []
  },
  {
   "cell_type": "markdown",
   "id": "c723f192",
   "metadata": {
    "collapsed": false,
    "jupyter": {
     "outputs_hidden": false
    }
   },
   "source": [
    "## References\n",
    "An article that explains the difference between join and merge:\n",
    "https://sparkbyexamples.com/pandas/pandas-join-vs-merge-explained-differences/#google_vi\n",
    "For merge,join and concatenate:https://pandas.pydata.org/docs/user_guide/merging.html\n",
    "For joins see: https://pandas.pydata.org/pandas-docs/stable/reference/api/pandas.DataFrame.join.html"
   ]
  }
 ],
 "metadata": {
  "kernelspec": {
   "display_name": "Python 3 (ipykernel)",
   "language": "python",
   "name": "python3"
  },
  "language_info": {
   "codemirror_mode": {
    "name": "ipython",
    "version": 3
   },
   "file_extension": ".py",
   "mimetype": "text/x-python",
   "name": "python",
   "nbconvert_exporter": "python",
   "pygments_lexer": "ipython3",
   "version": "3.12.4"
  }
 },
 "nbformat": 4,
 "nbformat_minor": 5
}
