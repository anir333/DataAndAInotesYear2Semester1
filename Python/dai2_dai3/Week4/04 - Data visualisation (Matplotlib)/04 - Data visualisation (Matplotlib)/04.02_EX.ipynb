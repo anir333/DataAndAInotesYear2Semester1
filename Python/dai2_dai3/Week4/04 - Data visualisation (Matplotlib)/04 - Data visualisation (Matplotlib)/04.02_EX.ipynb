{
 "cells": [
  {
   "cell_type": "markdown",
   "id": "54db47f1-8ce9-43af-9673-2db5af368dd6",
   "metadata": {},
   "source": [
    "# Visualization with Seaborn"
   ]
  },
  {
   "cell_type": "markdown",
   "id": "034435c2-4ca1-42cc-8ceb-315c77a5b2c1",
   "metadata": {},
   "source": [
    "### Using the following datasets \"flights.csv\" dataset contains information about the flights of an airport. Airline \"airlines.csv\" data holds immense importance as it offers insights into the functioning and efficiency of the aviation industry. It provides valuable information about flight routes, schedules, passenger demographics, and preferences, which airlines can leverage to optimize their operations and enhance customer experiences.\n",
    "\n",
    "### A) Import the relevant libraries and read the dataset files\n",
    "\n",
    "### B)Using the same dataset from the previous exercise, density Plot of All Delays Using Seaborn "
   ]
  },
  {
   "cell_type": "code",
   "execution_count": null,
   "id": "de19b82a-9bd5-4924-aa17-12049b38e949",
   "metadata": {},
   "outputs": [],
   "source": []
  },
  {
   "cell_type": "code",
   "execution_count": 137,
   "id": "926d09b8-537e-4549-95d3-708ec7425eb1",
   "metadata": {},
   "outputs": [],
   "source": [
    "flightsdf.dropna(inplace=True)\n",
    "airlinedf.dropna(inplace=True)"
   ]
  },
  {
   "cell_type": "code",
   "execution_count": 138,
   "id": "a692aef0-7224-44c9-840a-ded1d9acea74",
   "metadata": {},
   "outputs": [],
   "source": [
    "flightsdf = flightsdf.merge(airlinedf, how='left', left_on='carrier', right_on='Passenger ID')\n",
    "flights = flightsdf[['arr_delay', 'name']] "
   ]
  },
  {
   "cell_type": "markdown",
   "id": "545127ea-a611-45a1-a329-7d02cbed688b",
   "metadata": {},
   "source": [
    "A) Plot the histogram of Arrival Delays in the datasets"
   ]
  },
  {
   "cell_type": "code",
   "execution_count": null,
   "id": "4f108e4b-8db0-4c08-98e4-3078b481cf5f",
   "metadata": {},
   "outputs": [],
   "source": []
  },
  {
   "cell_type": "code",
   "execution_count": null,
   "id": "d1713722-c895-4aed-9d56-8a959559975f",
   "metadata": {},
   "outputs": [],
   "source": []
  },
  {
   "cell_type": "markdown",
   "id": "0862d999-f64a-429a-8ef5-3b1389480eb1",
   "metadata": {},
   "source": [
    "A) You should show the Density Plot with Varying Bandwidth Adjustments"
   ]
  },
  {
   "cell_type": "code",
   "execution_count": null,
   "id": "a6516fc9-2740-47f6-a469-7175e4293de7",
   "metadata": {},
   "outputs": [],
   "source": []
  },
  {
   "cell_type": "markdown",
   "id": "f6f5c045-0d3c-484e-a6bb-001039d9aa9e",
   "metadata": {},
   "source": [
    "## Titanic - Dataset ( Seaborn )\n",
    "## Visual Exploration"
   ]
  },
  {
   "cell_type": "code",
   "execution_count": 57,
   "id": "fb8738ca-fee8-4099-9b2c-743f40e9c502",
   "metadata": {},
   "outputs": [],
   "source": [
    "import seaborn as sns\n",
    "import matplotlib.pyplot as plt\n",
    "%matplotlib inline\n",
    "sns.set_style('whitegrid')"
   ]
  },
  {
   "cell_type": "code",
   "execution_count": 58,
   "id": "3150e6e6-15a5-4cdf-beeb-079bf5b65578",
   "metadata": {},
   "outputs": [
    {
     "data": {
      "text/plain": [
       "(891, 15)"
      ]
     },
     "execution_count": 58,
     "metadata": {},
     "output_type": "execute_result"
    }
   ],
   "source": [
    "titanic = sns.load_dataset('titanic')\n",
    "titanic.shape"
   ]
  },
  {
   "cell_type": "markdown",
   "id": "fe86ed21-2871-4b5a-add9-8eaea36d9c89",
   "metadata": {},
   "source": [
    "A) You should display number of Passengers by thier gender in the dataset"
   ]
  },
  {
   "cell_type": "code",
   "execution_count": null,
   "id": "02c9ea5b-7f0e-4774-89ed-4f19db469ba5",
   "metadata": {},
   "outputs": [],
   "source": []
  },
  {
   "cell_type": "markdown",
   "id": "b4dff376-579b-4e7b-9189-159e0a089054",
   "metadata": {},
   "source": [
    "A) How does the distribution of ages vary among different passenger classes on the Titanic, and what insights can we gain about the age demographics of each class based on the boxplot?"
   ]
  },
  {
   "cell_type": "code",
   "execution_count": null,
   "id": "66d92838-8ada-4afb-bf0b-8368f17a6421",
   "metadata": {},
   "outputs": [],
   "source": []
  },
  {
   "cell_type": "code",
   "execution_count": null,
   "id": "ee8c2412-f276-4261-b000-a91f0d4e59e7",
   "metadata": {},
   "outputs": [],
   "source": []
  },
  {
   "cell_type": "code",
   "execution_count": 143,
   "id": "6d8f3e17-7044-4868-b594-d4a790b70f18",
   "metadata": {},
   "outputs": [
    {
     "data": {
      "text/html": [
       "<div>\n",
       "<style scoped>\n",
       "    .dataframe tbody tr th:only-of-type {\n",
       "        vertical-align: middle;\n",
       "    }\n",
       "\n",
       "    .dataframe tbody tr th {\n",
       "        vertical-align: top;\n",
       "    }\n",
       "\n",
       "    .dataframe thead th {\n",
       "        text-align: right;\n",
       "    }\n",
       "</style>\n",
       "<table border=\"1\" class=\"dataframe\">\n",
       "  <thead>\n",
       "    <tr style=\"text-align: right;\">\n",
       "      <th></th>\n",
       "      <th>survived</th>\n",
       "      <th>pclass</th>\n",
       "      <th>sex</th>\n",
       "      <th>age</th>\n",
       "      <th>sibsp</th>\n",
       "      <th>parch</th>\n",
       "      <th>fare</th>\n",
       "      <th>embarked</th>\n",
       "      <th>class</th>\n",
       "      <th>who</th>\n",
       "      <th>adult_male</th>\n",
       "      <th>deck</th>\n",
       "      <th>embark_town</th>\n",
       "      <th>alive</th>\n",
       "      <th>alone</th>\n",
       "    </tr>\n",
       "  </thead>\n",
       "  <tbody>\n",
       "    <tr>\n",
       "      <th>0</th>\n",
       "      <td>0</td>\n",
       "      <td>3</td>\n",
       "      <td>male</td>\n",
       "      <td>22.0</td>\n",
       "      <td>1</td>\n",
       "      <td>0</td>\n",
       "      <td>7.2500</td>\n",
       "      <td>S</td>\n",
       "      <td>Third</td>\n",
       "      <td>man</td>\n",
       "      <td>True</td>\n",
       "      <td>NaN</td>\n",
       "      <td>Southampton</td>\n",
       "      <td>no</td>\n",
       "      <td>False</td>\n",
       "    </tr>\n",
       "    <tr>\n",
       "      <th>1</th>\n",
       "      <td>1</td>\n",
       "      <td>1</td>\n",
       "      <td>female</td>\n",
       "      <td>38.0</td>\n",
       "      <td>1</td>\n",
       "      <td>0</td>\n",
       "      <td>71.2833</td>\n",
       "      <td>C</td>\n",
       "      <td>First</td>\n",
       "      <td>woman</td>\n",
       "      <td>False</td>\n",
       "      <td>C</td>\n",
       "      <td>Cherbourg</td>\n",
       "      <td>yes</td>\n",
       "      <td>False</td>\n",
       "    </tr>\n",
       "    <tr>\n",
       "      <th>2</th>\n",
       "      <td>1</td>\n",
       "      <td>3</td>\n",
       "      <td>female</td>\n",
       "      <td>26.0</td>\n",
       "      <td>0</td>\n",
       "      <td>0</td>\n",
       "      <td>7.9250</td>\n",
       "      <td>S</td>\n",
       "      <td>Third</td>\n",
       "      <td>woman</td>\n",
       "      <td>False</td>\n",
       "      <td>NaN</td>\n",
       "      <td>Southampton</td>\n",
       "      <td>yes</td>\n",
       "      <td>True</td>\n",
       "    </tr>\n",
       "  </tbody>\n",
       "</table>\n",
       "</div>"
      ],
      "text/plain": [
       "   survived  pclass     sex   age  sibsp  parch     fare embarked  class  \\\n",
       "0         0       3    male  22.0      1      0   7.2500        S  Third   \n",
       "1         1       1  female  38.0      1      0  71.2833        C  First   \n",
       "2         1       3  female  26.0      0      0   7.9250        S  Third   \n",
       "\n",
       "     who  adult_male deck  embark_town alive  alone  \n",
       "0    man        True  NaN  Southampton    no  False  \n",
       "1  woman       False    C    Cherbourg   yes  False  \n",
       "2  woman       False  NaN  Southampton   yes   True  "
      ]
     },
     "execution_count": 143,
     "metadata": {},
     "output_type": "execute_result"
    }
   ],
   "source": [
    "titanic.head(3)"
   ]
  },
  {
   "cell_type": "markdown",
   "id": "e84913d2-8db4-4323-87f8-d2ca98753bc5",
   "metadata": {},
   "source": [
    "A)What does the box plot reveal about the distribution of ages for passengers who survived versus those who did not on the Titanic?"
   ]
  },
  {
   "cell_type": "code",
   "execution_count": null,
   "id": "d8dae816-c0fe-424c-8755-1c1850164247",
   "metadata": {},
   "outputs": [],
   "source": []
  },
  {
   "cell_type": "code",
   "execution_count": null,
   "id": "048d8e74-110f-4dc8-9932-cef8447cfdce",
   "metadata": {},
   "outputs": [],
   "source": []
  },
  {
   "cell_type": "markdown",
   "id": "fde1a269-5980-48ae-80a6-15c6db3a080b",
   "metadata": {},
   "source": [
    "A) How does the age distribution differ between male and female passengers on the Titanic, and what insights can be drawn regarding survival rates based on gender through the box plot"
   ]
  },
  {
   "cell_type": "code",
   "execution_count": null,
   "id": "90aa7291-d22c-4f0f-a65b-260d3eac6faa",
   "metadata": {},
   "outputs": [],
   "source": []
  },
  {
   "cell_type": "markdown",
   "id": "931e0728-4784-4cbd-9d78-a35ef686734a",
   "metadata": {},
   "source": []
  },
  {
   "cell_type": "markdown",
   "id": "888c4214-c889-463b-837f-dcd652560b34",
   "metadata": {},
   "source": [
    "Q) What does the bar plot reveal about the survival rates of different passenger classes on the Titanic, and how do these rates vary between male and female passengers"
   ]
  },
  {
   "cell_type": "code",
   "execution_count": null,
   "id": "b32a75a2-1e6b-45fc-b04d-9d38d1799b53",
   "metadata": {},
   "outputs": [],
   "source": []
  },
  {
   "cell_type": "code",
   "execution_count": null,
   "id": "274b9369-0f4d-4aec-a9c3-d24505a7ca87",
   "metadata": {},
   "outputs": [],
   "source": []
  },
  {
   "cell_type": "markdown",
   "id": "cbd1e095-124a-4f76-b669-d70c75641e40",
   "metadata": {},
   "source": [
    "Q) What does the count plot interpret about the distribution of passengers on the Titanic by demographic categories (men, women, and children)"
   ]
  },
  {
   "cell_type": "code",
   "execution_count": null,
   "id": "a9976b37-f184-48fb-b29a-bf34adda1c4b",
   "metadata": {},
   "outputs": [],
   "source": []
  },
  {
   "cell_type": "code",
   "execution_count": null,
   "id": "aefd6d82-2f31-4f03-9b8d-65f42412eac4",
   "metadata": {},
   "outputs": [],
   "source": []
  },
  {
   "cell_type": "code",
   "execution_count": null,
   "id": "bb2853d3-417d-491f-99ee-1ceab59935da",
   "metadata": {},
   "outputs": [],
   "source": []
  },
  {
   "cell_type": "markdown",
   "id": "00252dcc-bf2e-4ac3-ade5-0d3b85c0cdd3",
   "metadata": {},
   "source": [
    "Q) What does the distribution of ages for the survivors of the Titanic reveal about the age demographics of those who survived the disaster?"
   ]
  },
  {
   "cell_type": "code",
   "execution_count": null,
   "id": "dbce97d6-2710-49c4-aced-43aa10dc3085",
   "metadata": {},
   "outputs": [],
   "source": []
  },
  {
   "cell_type": "code",
   "execution_count": null,
   "id": "7608df4b-74b4-4d63-accf-098a1b3507fa",
   "metadata": {},
   "outputs": [],
   "source": []
  },
  {
   "cell_type": "code",
   "execution_count": null,
   "id": "092daabd-b61c-44eb-9442-c4f7dbdb3d4e",
   "metadata": {},
   "outputs": [],
   "source": []
  },
  {
   "cell_type": "markdown",
   "id": "70c34045-73e4-4443-ac43-e49daa430798",
   "metadata": {},
   "source": [
    "Q) What does the distribution of ages for passengers who did not survive the Titanic reveal about the age demographics of those who perished in the disaster?"
   ]
  },
  {
   "cell_type": "code",
   "execution_count": null,
   "id": "07cd99d4-d846-4c8f-932d-af11f8b2b84b",
   "metadata": {},
   "outputs": [],
   "source": []
  },
  {
   "cell_type": "code",
   "execution_count": null,
   "id": "fa83ca8a-3e8a-4d86-abfb-29b8d728a9bb",
   "metadata": {},
   "outputs": [],
   "source": []
  },
  {
   "cell_type": "code",
   "execution_count": null,
   "id": "2d2c62a2-e7d7-4518-bfe8-f1ab452a62ee",
   "metadata": {},
   "outputs": [],
   "source": []
  },
  {
   "cell_type": "markdown",
   "id": "7b7ac198-438b-4241-b608-6aa3503846ab",
   "metadata": {},
   "source": [
    "Q) How does the kernel density estimate (KDE) plot of age distribution for male and female passengers on the Titanic illustrate differences in survival based on gender?"
   ]
  },
  {
   "cell_type": "code",
   "execution_count": null,
   "id": "ed319b72-e450-4771-80a4-2c4f1d3bf152",
   "metadata": {},
   "outputs": [],
   "source": []
  },
  {
   "cell_type": "code",
   "execution_count": null,
   "id": "80dbe356-c26b-468e-9b7a-901a760984bf",
   "metadata": {},
   "outputs": [],
   "source": []
  },
  {
   "cell_type": "code",
   "execution_count": null,
   "id": "8bc5673f-98ea-430c-83d6-7d2b7c5b04c9",
   "metadata": {},
   "outputs": [],
   "source": []
  },
  {
   "cell_type": "code",
   "execution_count": 148,
   "id": "d8ebff05-49e4-472c-9bbc-d19354a5664b",
   "metadata": {},
   "outputs": [
    {
     "name": "stdout",
     "output_type": "stream",
     "text": [
      "Object `Titanic` not found.\n"
     ]
    }
   ],
   "source": [
    "Q) What does the violin plot show about the distribution of ticket fares across different passenger classes on the Titanic?"
   ]
  },
  {
   "cell_type": "code",
   "execution_count": null,
   "id": "02738370-e850-4b7e-ab0f-90607b957997",
   "metadata": {},
   "outputs": [],
   "source": []
  },
  {
   "cell_type": "code",
   "execution_count": null,
   "id": "c4b57fc3-1fbb-4531-9c10-8d144c06327c",
   "metadata": {},
   "outputs": [],
   "source": []
  },
  {
   "cell_type": "markdown",
   "id": "01d8f760-e83c-4987-94bc-04f506944910",
   "metadata": {},
   "source": [
    "Q) What does the regression plot of fare against age reveal about the relationship between these two variables among Titanic passengers?"
   ]
  },
  {
   "cell_type": "code",
   "execution_count": null,
   "id": "f2e05030-cb2c-4808-a4e4-c860b59b3eb3",
   "metadata": {},
   "outputs": [],
   "source": []
  },
  {
   "cell_type": "code",
   "execution_count": null,
   "id": "3c62d63c-b3c1-4697-a4ec-d74140fc8452",
   "metadata": {},
   "outputs": [],
   "source": []
  },
  {
   "cell_type": "markdown",
   "id": "4320bd61-b990-43cc-9467-54722a316bb5",
   "metadata": {},
   "source": [
    "Q) What insights can be drawn from the pair plot of the Titanic dataset regarding the relationships between multiple numerical features?"
   ]
  },
  {
   "cell_type": "code",
   "execution_count": null,
   "id": "421591a5-9b01-4aad-8641-fa13fd615370",
   "metadata": {},
   "outputs": [],
   "source": []
  },
  {
   "cell_type": "code",
   "execution_count": null,
   "id": "33f54409-52ed-4929-87b3-4dd8d14b8752",
   "metadata": {},
   "outputs": [],
   "source": []
  },
  {
   "cell_type": "markdown",
   "id": "d9645b64-6e79-4427-ade1-5b315eb7eea6",
   "metadata": {},
   "source": [
    "Q) You should create a pair plot for visualizing relationships between numerical variables in the Titanic dataset, with color coding based on the pclass variable (passenger class)"
   ]
  },
  {
   "cell_type": "code",
   "execution_count": null,
   "id": "0c1c1f21-afe1-4b13-af41-7828662a1f77",
   "metadata": {},
   "outputs": [],
   "source": []
  },
  {
   "cell_type": "code",
   "execution_count": null,
   "id": "f7361366-222f-4f1d-b107-d6f9238bb1df",
   "metadata": {},
   "outputs": [],
   "source": []
  },
  {
   "cell_type": "markdown",
   "id": "000bc2ac-4113-46dc-b1aa-6b8d5eedf194",
   "metadata": {},
   "source": [
    "## Customizing Colorbars"
   ]
  },
  {
   "cell_type": "markdown",
   "id": "9f3549f4-2e28-4419-973e-c846c889e575",
   "metadata": {},
   "source": [
    "Q) You should create an informative scatter plot with a customized colorbar to represent categorical data in the Titanic dataset.\n",
    "    \n",
    "    - For example you can show Scatter Plot of Age vs. Fare Colored by Passenger Class.\n",
    "    \n",
    "    - OR ( Be creative!  )"
   ]
  },
  {
   "cell_type": "code",
   "execution_count": null,
   "id": "c9b1527f-cda6-4602-b81e-7fa5f703824d",
   "metadata": {},
   "outputs": [],
   "source": []
  },
  {
   "cell_type": "code",
   "execution_count": null,
   "id": "ea705552-48f3-4f1a-ac80-c4995ed48228",
   "metadata": {},
   "outputs": [],
   "source": []
  },
  {
   "cell_type": "code",
   "execution_count": null,
   "id": "711c2562-fd0e-4d90-a635-92547647d2e1",
   "metadata": {},
   "outputs": [],
   "source": []
  }
 ],
 "metadata": {
  "kernelspec": {
   "display_name": "Python 3 (ipykernel)",
   "language": "python",
   "name": "python3"
  },
  "language_info": {
   "codemirror_mode": {
    "name": "ipython",
    "version": 3
   },
   "file_extension": ".py",
   "mimetype": "text/x-python",
   "name": "python",
   "nbconvert_exporter": "python",
   "pygments_lexer": "ipython3",
   "version": "3.12.4"
  }
 },
 "nbformat": 4,
 "nbformat_minor": 5
}
