{
 "cells": [
  {
   "cell_type": "markdown",
   "id": "f93b6984-c312-464c-9e6d-ed3064b7779c",
   "metadata": {},
   "source": [
    "# Histograms, Binnings, and Density"
   ]
  },
  {
   "cell_type": "markdown",
   "id": "034435c2-4ca1-42cc-8ceb-315c77a5b2c1",
   "metadata": {},
   "source": [
    "### Using the following datasets \"flights.csv\" dataset contains information about the flights of an airport. Airline \"airlines.csv\" data holds immense importance as it offers insights into the functioning and efficiency of the aviation industry. It provides valuable information about flight routes, schedules, passenger demographics, and preferences, which airlines can leverage to optimize their operations and enhance customer experiences.\n",
    "\n",
    "### A)You should read both datasets and import the relevant libraries first"
   ]
  },
  {
   "cell_type": "code",
   "execution_count": null,
   "id": "de19b82a-9bd5-4924-aa17-12049b38e949",
   "metadata": {},
   "outputs": [],
   "source": []
  },
  {
   "cell_type": "markdown",
   "id": "545127ea-a611-45a1-a329-7d02cbed688b",
   "metadata": {},
   "source": [
    "A) You should check the shape of the datasets\n",
    "\n",
    "B) You should find the number of NaN values in both datasets\n",
    "\n",
    "C) You should remove the NaN values\n",
    "\n",
    "D) After removing them, You should double-check the number of NaN values in both datasets. What do you notice in this case?"
   ]
  },
  {
   "cell_type": "code",
   "execution_count": null,
   "id": "4f108e4b-8db0-4c08-98e4-3078b481cf5f",
   "metadata": {},
   "outputs": [],
   "source": []
  },
  {
   "cell_type": "code",
   "execution_count": null,
   "id": "12359347-e6db-4c4c-b57f-fb1c491b189a",
   "metadata": {},
   "outputs": [],
   "source": []
  },
  {
   "cell_type": "code",
   "execution_count": null,
   "id": "f05174ba-8e55-4165-8bca-89833115bb06",
   "metadata": {},
   "outputs": [],
   "source": []
  },
  {
   "cell_type": "code",
   "execution_count": null,
   "id": "52303fc1-2be1-4fb3-86e9-5903ee3f525f",
   "metadata": {},
   "outputs": [],
   "source": []
  },
  {
   "cell_type": "code",
   "execution_count": null,
   "id": "630b65d9-4cd9-4ac6-b138-68c5e3f510e7",
   "metadata": {},
   "outputs": [],
   "source": []
  },
  {
   "cell_type": "code",
   "execution_count": null,
   "id": "974a2459-d150-4ce4-bdff-792ebd05175c",
   "metadata": {},
   "outputs": [],
   "source": []
  },
  {
   "cell_type": "markdown",
   "id": "8858db3b-bc08-44b5-a651-f84efc820d65",
   "metadata": {},
   "source": [
    "A) Now, you should combine the flights DataFrame with the airlines DataFrame to include additional information about the carriers by matching the carrier column from flights with the Passenger ID column from airlines?\n",
    "\n",
    "Hint: use merge between two dataframe"
   ]
  },
  {
   "cell_type": "code",
   "execution_count": null,
   "id": "500461f9-383e-4130-b3f8-a5f606ebb5e7",
   "metadata": {},
   "outputs": [],
   "source": []
  },
  {
   "cell_type": "code",
   "execution_count": null,
   "id": "d1713722-c895-4aed-9d56-8a959559975f",
   "metadata": {},
   "outputs": [],
   "source": []
  },
  {
   "cell_type": "markdown",
   "id": "0862d999-f64a-429a-8ef5-3b1389480eb1",
   "metadata": {},
   "source": [
    "A) You should filter flight delays between -60 and 120 minutes"
   ]
  },
  {
   "cell_type": "code",
   "execution_count": null,
   "id": "a6516fc9-2740-47f6-a469-7175e4293de7",
   "metadata": {},
   "outputs": [],
   "source": []
  },
  {
   "cell_type": "code",
   "execution_count": null,
   "id": "5f4e9a65-8a33-47b0-bf33-9489aea1b611",
   "metadata": {},
   "outputs": [],
   "source": []
  },
  {
   "cell_type": "markdown",
   "id": "f6f5c045-0d3c-484e-a6bb-001039d9aa9e",
   "metadata": {},
   "source": [
    "A) You should plot a histogram using matplotlib, bins must be integer and the figure size is (9, 7) with a blue color\n",
    "\n",
    "B) Make sure that you add a title and labels to the figure\n",
    "\n",
    "C) Show 2 other different binwidths, density, and alpha"
   ]
  },
  {
   "cell_type": "code",
   "execution_count": null,
   "id": "96038f84-38a9-47ed-8a5d-a7a937bfe86d",
   "metadata": {},
   "outputs": [],
   "source": []
  },
  {
   "cell_type": "code",
   "execution_count": null,
   "id": "fb8738ca-fee8-4099-9b2c-743f40e9c502",
   "metadata": {},
   "outputs": [],
   "source": []
  },
  {
   "cell_type": "code",
   "execution_count": null,
   "id": "6b67d1be-29db-4bb4-890a-e28ebdd61827",
   "metadata": {},
   "outputs": [],
   "source": []
  },
  {
   "cell_type": "code",
   "execution_count": null,
   "id": "499169a6-5551-4e8b-90c3-d46d34b642a0",
   "metadata": {},
   "outputs": [],
   "source": []
  },
  {
   "cell_type": "code",
   "execution_count": null,
   "id": "7a29c97a-8442-4fd5-8def-e83c7b145c83",
   "metadata": {},
   "outputs": [],
   "source": []
  },
  {
   "cell_type": "markdown",
   "id": "e6cd329b-7ebc-4da7-81e4-3d6956cb5df9",
   "metadata": {},
   "source": [
    "How do the arrival delays compare between two different carriers (AA and DL) for flights with delays ranging from 0 to 250 minutes?\n",
    "\n",
    "We want to plot a histogram of Arrival Delays for Two Carriers ((AA and DL)) (250 minutes)\n",
    "A) First, you should select delays from two different carriers\n",
    "\n",
    "B) THen, filter delays to only include those between 0 and 250 minutes\n",
    "\n",
    "C) The figure size (12, 12)\n",
    "\n",
    "D) You should define the histogram properties using a dictionary:\n",
    "    density, bins, alpha, histtype\n",
    "D"
   ]
  },
  {
   "cell_type": "code",
   "execution_count": null,
   "id": "0f51be34-18de-47d8-9d73-0efea185ceaf",
   "metadata": {},
   "outputs": [],
   "source": []
  },
  {
   "cell_type": "code",
   "execution_count": null,
   "id": "3150e6e6-15a5-4cdf-beeb-079bf5b65578",
   "metadata": {},
   "outputs": [],
   "source": []
  },
  {
   "cell_type": "code",
   "execution_count": null,
   "id": "66d92838-8ada-4afb-bf0b-8368f17a6421",
   "metadata": {},
   "outputs": [],
   "source": []
  },
  {
   "cell_type": "code",
   "execution_count": null,
   "id": "0c1c1f21-afe1-4b13-af41-7828662a1f77",
   "metadata": {},
   "outputs": [],
   "source": []
  },
  {
   "cell_type": "code",
   "execution_count": null,
   "id": "f7361366-222f-4f1d-b107-d6f9238bb1df",
   "metadata": {},
   "outputs": [],
   "source": []
  },
  {
   "cell_type": "code",
   "execution_count": null,
   "id": "bf05dbfa-8cb4-4ea4-b06d-c710cb7fce40",
   "metadata": {},
   "outputs": [],
   "source": []
  }
 ],
 "metadata": {
  "kernelspec": {
   "display_name": "Python 3 (ipykernel)",
   "language": "python",
   "name": "python3"
  },
  "language_info": {
   "codemirror_mode": {
    "name": "ipython",
    "version": 3
   },
   "file_extension": ".py",
   "mimetype": "text/x-python",
   "name": "python",
   "nbconvert_exporter": "python",
   "pygments_lexer": "ipython3",
   "version": "3.12.4"
  }
 },
 "nbformat": 4,
 "nbformat_minor": 5
}
