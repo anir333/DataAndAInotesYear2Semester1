{
 "cells": [
  {
   "cell_type": "markdown",
   "metadata": {
    "collapsed": false,
    "jupyter": {
     "outputs_hidden": false
    }
   },
   "source": [
    "### Exercises: Decision trees, random forests and K-means"
   ]
  },
  {
   "cell_type": "markdown",
   "metadata": {
    "collapsed": false,
    "jupyter": {
     "outputs_hidden": false
    }
   },
   "source": [
    "1. We load the iris dataset for you in the next code. We provide you with the X and y(=target) variable.\n",
    " a. Count the different values for y\n",
    " b. Fit a decision tree on this set. Use cross-validation and calculate the accuracy on the validation sets.\n",
    "    What other metrics are important for classification problems like this one?\n",
    " c. Makes it any difference if we use  a standard scaler?\n",
    "\n"
   ]
  },
  {
   "cell_type": "code",
   "execution_count": null,
   "metadata": {
    "ExecuteTime": {
     "end_time": "2024-10-13T20:59:13.698016Z",
     "start_time": "2024-10-13T20:59:13.674631Z"
    },
    "collapsed": false,
    "jupyter": {
     "outputs_hidden": false
    }
   },
   "outputs": [],
   "source": [
    "# Import necessary libraries\n",
    "\n",
    "\n",
    "# Load the wine dataset and take 'target' as the value you need to predict\n",
    "\n",
    "# Convert to a Pandas DataFrame for easier exploration\n",
    "\n",
    "\n"
   ]
  },
  {
   "cell_type": "markdown",
   "metadata": {
    "collapsed": false,
    "jupyter": {
     "outputs_hidden": false
    }
   },
   "source": []
  },
  {
   "cell_type": "code",
   "execution_count": null,
   "metadata": {
    "collapsed": false,
    "jupyter": {
     "outputs_hidden": false
    }
   },
   "outputs": [],
   "source": [
    "#SOLUTION_START\n",
    "\n",
    "#SOLUTION_END"
   ]
  },
  {
   "cell_type": "code",
   "execution_count": null,
   "metadata": {
    "collapsed": false,
    "jupyter": {
     "outputs_hidden": false
    }
   },
   "outputs": [],
   "source": [
    "#SOLUTION_START\n",
    "\n",
    "# Split the dataset into training and testing sets\n",
    "\n",
    "\n",
    "# Create a pipeline with scaling and Decision Tree\n",
    "\n",
    "\n",
    "\n",
    "# Perform cross-validation\n",
    "\n",
    "\n",
    "\n",
    "# Fit the model to the training set\n",
    "\n",
    "\n",
    "# Evaluate on the test set\n",
    "\n",
    "\n",
    "#other important metrics\n",
    "\n",
    "#SOLUTION_END"
   ]
  },
  {
   "cell_type": "code",
   "execution_count": null,
   "metadata": {
    "collapsed": false,
    "jupyter": {
     "outputs_hidden": false
    }
   },
   "outputs": [],
   "source": [
    "#SOLUTION_START\n",
    "\n",
    "\n",
    "# Split the dataset into training and testing sets\n",
    "\n",
    "\n",
    "# Create a pipeline with scaling and Decision Tree\n",
    "\n",
    "\n",
    "\n",
    "# Perform cross-validation\n",
    "\n",
    "\n",
    "\n",
    "\n",
    "# Fit the model to the training set\n",
    "\n",
    "\n",
    "# Evaluate on the test set\n",
    "\n",
    "\n",
    "#other important metrics\n",
    "\n",
    "#SOLUTION_END"
   ]
  },
  {
   "cell_type": "markdown",
   "metadata": {
    "collapsed": false,
    "jupyter": {
     "outputs_hidden": false
    }
   },
   "source": [
    "2. We load the same iris dataset for you in the next code. We provide you again  with the X and y(=target) variable.\n",
    " a.  Fit a random forest with 100 decision trees on this set. Use cross-validation and calculate the accuracy on the validation sets (.\n",
    "    What other metrics are important for classification problems like this one?\n",
    " b. Is the result better than for the decision tree?\n"
   ]
  },
  {
   "cell_type": "code",
   "execution_count": null,
   "metadata": {
    "ExecuteTime": {
     "end_time": "2024-10-13T21:22:31.478045Z",
     "start_time": "2024-10-13T21:22:30.504642Z"
    },
    "collapsed": false,
    "jupyter": {
     "outputs_hidden": false
    }
   },
   "outputs": [],
   "source": [
    "#SOLUTION_START\n",
    "# Import RandomForestClassifier\n",
    "\n",
    "# Create a pipeline with scaling and Random Forest\n",
    "\n",
    "# Perform cross-validation\n",
    "\n",
    "\n",
    "# Fit the model to the training set\n",
    "\n",
    "# Evaluate on the test set\n",
    "\n",
    "#SOLUTION_END"
   ]
  },
  {
   "cell_type": "markdown",
   "metadata": {
    "collapsed": false,
    "jupyter": {
     "outputs_hidden": false
    }
   },
   "source": []
  },
  {
   "cell_type": "markdown",
   "metadata": {
    "collapsed": false,
    "jupyter": {
     "outputs_hidden": false
    }
   },
   "source": [
    "3. We load the same iris dataset for you in the next code. We provide you again  with the X and y(=target) variable.\n",
    " a.  Fit a K-means with 3 values on this set. Use cross-validation and calculate the accuracy on the validation sets (.\n",
    "    What other metrics are important for classification problems like this one?\n",
    " b. Is the result better than for the decision tree? Why?\n",
    " c. Visualize the clusters (using PCA to reduce to 2 dimensions for plotting)\n"
   ]
  },
  {
   "cell_type": "code",
   "execution_count": null,
   "metadata": {
    "ExecuteTime": {
     "end_time": "2024-10-13T21:34:11.199891Z",
     "start_time": "2024-10-13T21:34:09.045748Z"
    },
    "collapsed": false,
    "jupyter": {
     "outputs_hidden": false
    }
   },
   "outputs": [],
   "source": [
    "#SOLUTION_START\n",
    "#a) Import necessary libraries\n",
    "\n",
    "\n",
    "# Load the wine dataset\n",
    "\n",
    "# Convert to a Pandas DataFrame for easier exploration\n",
    "\n",
    "\n",
    "# Standardize the features (important for KMeans since it's distance-based)\n",
    "\n",
    "\n",
    "# Perform K-Means clustering\n",
    "\n",
    "\n",
    "# Compare the K-Means clusters to the actual wine classes\n",
    "\n",
    "\n",
    "\n",
    "#b) the K-measn clustering will construct clusters which are not related to the target variable. It will construct clusters which have nothing to do with the 3 wine categories"
   ]
  },
  {
   "cell_type": "code",
   "execution_count": null,
   "metadata": {
    "collapsed": false,
    "jupyter": {
     "outputs_hidden": false
    }
   },
   "outputs": [],
   "source": [
    "#SOLUTION_START\n",
    "#3c) Visualize the clusters (using PCA to reduce to 2 dimensions for plotting)\n",
    "\n",
    "#SOLUTION_END"
   ]
  },
  {
   "cell_type": "markdown",
   "metadata": {
    "collapsed": false,
    "jupyter": {
     "outputs_hidden": false
    }
   },
   "source": [
    "4. Load the concrete_data dataset and split in a training and a  test set (20% test set). What is the result of a decissiontree regressor  on the test set?"
   ]
  },
  {
   "cell_type": "code",
   "execution_count": null,
   "metadata": {
    "ExecuteTime": {
     "end_time": "2024-10-13T22:17:02.253757Z",
     "start_time": "2024-10-13T22:17:01.951399Z"
    },
    "collapsed": false,
    "jupyter": {
     "outputs_hidden": false
    }
   },
   "outputs": [],
   "source": [
    "#SOLUTION_START\n",
    "# Import necessary libraries\n",
    "\n",
    "\n",
    "df = pd.read_csv('data/concrete_data.csv')\n",
    "# Display the first few rows to understand the structure of the dataset\n",
    "\n",
    "\n",
    "# Features (input) and target variable\n",
    "\n",
    "# Split the data into training and testing sets (80% train, 20% test)\n",
    "\n",
    "# Initialize and fit the DecisionTreeRegressor\n",
    "\n",
    "# Make predictions on the test set\n",
    "\n",
    "# Evaluate the model\n",
    "\n",
    "\n",
    "\n",
    "# Visualize actual vs predicted\n",
    "\n",
    "#SOLUTION_END"
   ]
  },
  {
   "cell_type": "markdown",
   "metadata": {
    "collapsed": false,
    "jupyter": {
     "outputs_hidden": false
    }
   },
   "source": []
  },
  {
   "cell_type": "markdown",
   "metadata": {
    "collapsed": false,
    "jupyter": {
     "outputs_hidden": false
    }
   },
   "source": [
    "4. Load the concrete_data dataset and split in a training and a  test set (20% test set). What is the result of a random forestregressor  on the test set? Do we see an improvement?"
   ]
  },
  {
   "cell_type": "code",
   "execution_count": null,
   "metadata": {
    "ExecuteTime": {
     "end_time": "2024-10-13T21:53:55.609027Z",
     "start_time": "2024-10-13T21:53:54.203920Z"
    },
    "collapsed": false,
    "jupyter": {
     "outputs_hidden": false
    }
   },
   "outputs": [],
   "source": [
    "#SOLUTION_START\n",
    "# Import necessary libraries\n",
    "\n",
    "\n",
    "\n",
    "# Features (input) and target variable\n",
    "\n",
    "\n",
    "# Split the data into training and testing sets (80% train, 20% test)\n",
    "\n",
    "# Initialize and fit the RandomForestRegressor\n",
    "\n",
    "\n",
    "# Make predictions on the test set\n",
    "\n",
    "# Evaluate the model\n",
    "\n",
    "\n",
    "\n",
    "# Visualize actual vs predicted\n",
    "\n",
    "#SOLUTION_END"
   ]
  },
  {
   "cell_type": "markdown",
   "metadata": {
    "collapsed": false,
    "jupyter": {
     "outputs_hidden": false
    }
   },
   "source": [
    "4. Load the concrete_data dataset and use random forest again. Use gridsearch to determine the optimal number of trees in our forest.(test the folowing number of trees [10, 20,40, 50, 100,150, 200,250, 300, 350,450,500])"
   ]
  },
  {
   "cell_type": "code",
   "execution_count": null,
   "metadata": {
    "ExecuteTime": {
     "end_time": "2024-10-13T21:58:48.892119Z",
     "start_time": "2024-10-13T21:58:30.977967Z"
    },
    "collapsed": false,
    "jupyter": {
     "outputs_hidden": false
    }
   },
   "outputs": [],
   "source": [
    "#SOLUTION_START\n",
    "# Import necessary libraries\n",
    "\n",
    "# Features (input) and target variable\n",
    "\n",
    "\n",
    "# Split the data into training and testing sets (80% train, 20% test)\n",
    "\n",
    "# Define the RandomForestRegressor model\n",
    "\n",
    "# Define the grid of parameters to search (different numbers of trees)\n",
    "\n",
    "\n",
    "# Set up the GridSearchCV with cross-validation\n",
    "\n",
    "# Fit GridSearchCV to the training data\n",
    "\n",
    "# Get the best parameters and best score\n",
    "\n",
    "# Train the RandomForestRegressor using the optimal number of trees\n",
    "\n",
    "# Make predictions on the test set\n",
    "\n",
    "# Evaluate the model\n",
    "\n",
    "\n",
    "\n",
    "\n",
    "# Visualize actual vs predicted\n",
    "\n",
    "#SOLUTION_END"
   ]
  },
  {
   "cell_type": "code",
   "execution_count": null,
   "metadata": {
    "ExecuteTime": {
     "end_time": "2024-10-13T22:05:07.879011Z",
     "start_time": "2024-10-13T22:04:52.072103Z"
    },
    "collapsed": false,
    "jupyter": {
     "outputs_hidden": false
    }
   },
   "outputs": [],
   "source": [
    "#SOLUTION_START\n",
    "# Import necessary libraries\n",
    "\n",
    "\n",
    "# Features (input) and target variable\n",
    "\n",
    "\n",
    "# Split the data into training and testing sets (80% train, 20% test)\n",
    "\n",
    "# Define the RandomForestRegressor model\n",
    "\n",
    "# Define the grid of parameters to search (different numbers of trees)\n",
    "\n",
    "\n",
    "# Set up the GridSearchCV with cross-validation\n",
    "\n",
    "\n",
    "# Fit GridSearchCV to the training data\n",
    "\n",
    "\n",
    "# Get the best parameters and best score\n",
    "\n",
    "\n",
    "\n",
    "# Train the RandomForestRegressor using the optimal number of trees\n",
    "\n",
    "\n",
    "# Make predictions on the test set\n",
    "\n",
    "\n",
    "# Evaluate the model\n",
    "\n",
    "\n",
    "\n",
    "\n",
    "# Visualize actual vs predicted\n",
    "\n",
    "\n",
    "#SOLUTION_END"
   ]
  },
  {
   "cell_type": "markdown",
   "metadata": {
    "collapsed": false,
    "jupyter": {
     "outputs_hidden": false
    }
   },
   "source": [
    "5. Go to the scikit-learn documentation and look for RandomizedSearchCV. Apply it for 10 different guesses between 10 and 500. What is the result for R-squared?"
   ]
  },
  {
   "cell_type": "markdown",
   "metadata": {
    "collapsed": false,
    "jupyter": {
     "outputs_hidden": false
    }
   },
   "source": []
  },
  {
   "cell_type": "code",
   "execution_count": null,
   "metadata": {
    "ExecuteTime": {
     "end_time": "2024-10-13T22:15:15.333187Z",
     "start_time": "2024-10-13T22:15:01.345555Z"
    },
    "collapsed": false,
    "jupyter": {
     "outputs_hidden": false
    }
   },
   "outputs": [],
   "source": [
    "#SOLUTION_START\n",
    "# Import necessary libraries\n",
    "\n",
    "\n",
    "\n",
    "# Features (input) and target variable\n",
    "\n",
    "\n",
    "# Split the data into training and testing sets (80% train, 20% test)\n",
    "\n",
    "\n",
    "\n",
    "# Define the RandomForestRegressor model\n",
    "\n",
    "\n",
    "# Define the grid of parameters to search (different numbers of trees)\n",
    "\n",
    "\n",
    "\n",
    "# Set up the GridSearchCV with cross-validation\n",
    "\n",
    "\n",
    "# Fit GridSearchCV to the training data\n",
    "\n",
    "\n",
    "# Get the best parameters and best score\n",
    "\n",
    "\n",
    "\n",
    "# Train the RandomForestRegressor using the optimal number of trees\n",
    "\n",
    "\n",
    "# Make predictions on the test set\n",
    "\n",
    "\n",
    "# Evaluate the model\n",
    "\n",
    "\n",
    "\n",
    "\n",
    "\n",
    "# Visualize actual vs predicted\n",
    "\n",
    "\n",
    "#SOLUTION_END"
   ]
  },
  {
   "cell_type": "markdown",
   "metadata": {
    "collapsed": false,
    "jupyter": {
     "outputs_hidden": false
    }
   },
   "source": [
    "6. Finally apply a K-means clustering on the concrete dataset.\n",
    "   a.What is the influence of a standard scaler on the clustering?\n",
    "   b.What is the optimal number of clusters (elbow method, mean silhouette score)?\n",
    "   c.Show for the cement and water features how the clusters are scattered."
   ]
  },
  {
   "cell_type": "code",
   "execution_count": null,
   "metadata": {
    "ExecuteTime": {
     "end_time": "2024-10-13T22:29:01.220342Z",
     "start_time": "2024-10-13T22:28:58.247065Z"
    },
    "collapsed": false,
    "jupyter": {
     "outputs_hidden": false
    }
   },
   "outputs": [],
   "source": [
    "# Import necessary libraries\n",
    "\n",
    "\n",
    "\n",
    "\n",
    "\n",
    "# Features for clustering\n",
    "\n",
    "\n",
    "# Standardize the features\n",
    "\n",
    "\n",
    "\n",
    "# Determine the optimal number of clusters using the elbow method\n",
    "\n",
    "\n",
    "\n",
    "\n",
    "\n",
    "# Plot the elbow method\n",
    "\n",
    "\n",
    "# Elbow method plot\n",
    "\n",
    "\n",
    "\n",
    "# Silhouette score plot\n",
    "\n",
    "\n",
    "#b probably 6 will be the optimal if we view the graphs\n",
    "# Choose the optimal number of clusters (you can choose based on the plots)\n",
    "\n",
    "\n",
    "# Fit the KMeans model with the optimal number of clusters\n",
    "\n",
    "\n",
    "\n",
    "# Assign cluster labels to the original DataFrame\n",
    "\n",
    "\n",
    "#c Visualize the clustering result (plotting two features:cement and water)\n",
    "\n",
    "\n",
    "\n",
    "# Display the DataFrame with cluster labels\n",
    "\n",
    "\n"
   ]
  },
  {
   "cell_type": "code",
   "execution_count": null,
   "metadata": {
    "collapsed": false,
    "jupyter": {
     "outputs_hidden": false
    }
   },
   "outputs": [],
   "source": []
  }
 ],
 "metadata": {
  "kernelspec": {
   "display_name": "Python 3 (ipykernel)",
   "language": "python",
   "name": "python3"
  },
  "language_info": {
   "codemirror_mode": {
    "name": "ipython",
    "version": 3
   },
   "file_extension": ".py",
   "mimetype": "text/x-python",
   "name": "python",
   "nbconvert_exporter": "python",
   "pygments_lexer": "ipython3",
   "version": "3.12.4"
  }
 },
 "nbformat": 4,
 "nbformat_minor": 4
}
