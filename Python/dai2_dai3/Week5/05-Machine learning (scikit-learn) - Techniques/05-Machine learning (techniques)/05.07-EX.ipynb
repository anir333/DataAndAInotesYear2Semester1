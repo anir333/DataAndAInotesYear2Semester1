{
 "cells": [
  {
   "cell_type": "markdown",
   "metadata": {
    "collapsed": false,
    "id": "o5IXxxDJpF4t",
    "jupyter": {
     "outputs_hidden": false
    }
   },
   "source": [
    "## Exercises Hyperparameter tuning and model validation\n"
   ]
  },
  {
   "cell_type": "code",
   "metadata": {
    "id": "WlVApf6xpF4u",
    "ExecuteTime": {
     "end_time": "2024-11-04T12:07:53.083941Z",
     "start_time": "2024-11-04T12:07:53.075882Z"
    }
   },
   "source": [
    "import pandas as pd\n",
    "import numpy as np\n",
    "from sklearn.pipeline import make_pipeline"
   ],
   "outputs": [],
   "execution_count": 4
  },
  {
   "cell_type": "markdown",
   "metadata": {
    "collapsed": false,
    "id": "24i-D07hpF4v",
    "jupyter": {
     "outputs_hidden": false
    }
   },
   "source": [
    "![Predictions on training set](https://drive.google.com/file/d/1-WkGT0GDrel7-QWpotn7xNicpg0wOD1U/view?usp=sharing)\n",
    "\n",
    "1. Above you see three predictions on training sets. We have only one feature x and a target variable Y.\n",
    "What can you say about the data in situation A, B and C?\n"
   ]
  },
  {
   "cell_type": "code",
   "metadata": {
    "id": "cQWs7v-ApF4w",
    "ExecuteTime": {
     "end_time": "2024-11-04T12:17:55.866540Z",
     "start_time": "2024-11-04T12:17:55.852910Z"
    }
   },
   "source": [
    "#SOLUTION_START\n",
    "\n",
    "print(\"\"\"\n",
    "A: Underfitting - (High Bias): A model that’s too simple (like a straight line for complex data) won’t capture the patterns in the data, leading to high bias\n",
    "B: It's a great balance between umderfitting and overfitting. \n",
    "C: Overfitting - (High Variance): A model that’s too complex (like a high-degree curve for simpler data) fits the training data too closely, capturing noise instead of meaningful patterns.\n",
    "\"\"\")\n",
    "#SOLUTION_END"
   ],
   "outputs": [
    {
     "name": "stdout",
     "output_type": "stream",
     "text": [
      "\n",
      "A: Underfitting - (High Bias): A model that’s too simple (like a straight line for complex data) won’t capture the patterns in the data, leading to high bias\n",
      "B: It's a great balance between umderfitting and overfitting. \n",
      "C: Overfitting - (High Variance): A model that’s too complex (like a high-degree curve for simpler data) fits the training data too closely, capturing noise instead of meaningful patterns.\n",
      "\n"
     ]
    }
   ],
   "execution_count": 5
  },
  {
   "cell_type": "markdown",
   "metadata": {
    "collapsed": false,
    "id": "PluKmu2_pF4x",
    "jupyter": {
     "outputs_hidden": false
    }
   },
   "source": [
    "2. My data is underfitted. What are 3 possible ways to solve this?"
   ]
  },
  {
   "cell_type": "code",
   "metadata": {
    "id": "l1oTTO8upF4x",
    "ExecuteTime": {
     "end_time": "2024-11-04T12:18:32.350723Z",
     "start_time": "2024-11-04T12:18:32.335749Z"
    }
   },
   "source": [
    "#SOLUTION_START\n",
    "print(\"\"\"A: try a more complex model or another kind of model at all\"\n",
    "B: decrease the regularization\")\n",
    "C: increase the amount of training data\"\"\")\n",
    "#SOLUTION_END"
   ],
   "outputs": [
    {
     "name": "stdout",
     "output_type": "stream",
     "text": [
      "A: try a more complex model or another kind of model at all\"\n",
      "         B: decrease the regularization\")\n",
      "         C: increase the amount of training data\n"
     ]
    }
   ],
   "execution_count": 6
  },
  {
   "cell_type": "markdown",
   "metadata": {
    "collapsed": false,
    "id": "iHsnZI0tpF6q",
    "jupyter": {
     "outputs_hidden": false
    }
   },
   "source": [
    "3. My data is overfitted. Provide 3 possible ways to solve this?"
   ]
  },
  {
   "cell_type": "code",
   "execution_count": null,
   "metadata": {
    "ExecuteTime": {
     "end_time": "2024-10-13T15:53:21.063780Z",
     "start_time": "2024-10-13T15:53:20.859881Z"
    },
    "id": "0f6m_4LfpF6q"
   },
   "outputs": [],
   "source": [
    "#SOLUTION_START\n",
    "print(\"A: try a more simple model\")\n",
    "print(\"B: increase the regularization and reduce the number of features\")\n",
    "print(\"C: increase the amount of training data\")\n",
    "print(\"Tip: use cross-validation to detect possible overfitting\")\n",
    "#SOLUTION_END"
   ]
  },
  {
   "cell_type": "markdown",
   "metadata": {
    "collapsed": false,
    "id": "xJqqzvwhpF6r",
    "jupyter": {
     "outputs_hidden": false
    }
   },
   "source": [
    " We load the data again from the Concrete Compressive Strength Dataset Regression Notebook\n",
    " Import the necessary libraries (Import pandas, numpy, matplotlib, seaborn, and sklearn libraries)"
   ]
  },
  {
   "cell_type": "code",
   "metadata": {
    "id": "SLQ9qVqZpF6s",
    "ExecuteTime": {
     "end_time": "2024-11-04T12:24:20.876326Z",
     "start_time": "2024-11-04T12:24:20.857307Z"
    }
   },
   "source": [
    "import pandas as pd\n",
    "import numpy as np\n",
    "import matplotlib.pyplot as plt\n",
    "import seaborn as sns\n",
    "from sklearn.pipeline import make_pipeline\n",
    "from sklearn.model_selection import train_test_split\n",
    "from sklearn.linear_model import LinearRegression, Ridge, Lasso\n",
    "from sklearn.preprocessing import PolynomialFeatures\n",
    "from sklearn.metrics import mean_squared_error, r2_score\n"
   ],
   "outputs": [],
   "execution_count": 12
  },
  {
   "cell_type": "code",
   "metadata": {
    "id": "RtAVIAsLpF6s",
    "ExecuteTime": {
     "end_time": "2024-11-04T12:24:22.162214Z",
     "start_time": "2024-11-04T12:24:22.132014Z"
    }
   },
   "source": [
    "\n",
    "df = pd.read_csv('data/Concrete_Data.csv')\n",
    "# Display the first few rows to understand the structure of the dataset\n",
    "df.head()\n"
   ],
   "outputs": [
    {
     "data": {
      "text/plain": [
       "   cement   slag  flyash  water  superplasticizer  coarseaggregate  \\\n",
       "0   540.0    0.0     0.0  162.0               2.5           1040.0   \n",
       "1   540.0    0.0     0.0  162.0               2.5           1055.0   \n",
       "2   332.5  142.5     0.0  228.0               0.0            932.0   \n",
       "3   332.5  142.5     0.0  228.0               0.0            932.0   \n",
       "4   198.6  132.4     0.0  192.0               0.0            978.4   \n",
       "\n",
       "   fineaggregate  age  csMPa  \n",
       "0          676.0   28  79.99  \n",
       "1          676.0   28  61.89  \n",
       "2          594.0  270  40.27  \n",
       "3          594.0  365  41.05  \n",
       "4          825.5  360  44.30  "
      ],
      "text/html": [
       "<div>\n",
       "<style scoped>\n",
       "    .dataframe tbody tr th:only-of-type {\n",
       "        vertical-align: middle;\n",
       "    }\n",
       "\n",
       "    .dataframe tbody tr th {\n",
       "        vertical-align: top;\n",
       "    }\n",
       "\n",
       "    .dataframe thead th {\n",
       "        text-align: right;\n",
       "    }\n",
       "</style>\n",
       "<table border=\"1\" class=\"dataframe\">\n",
       "  <thead>\n",
       "    <tr style=\"text-align: right;\">\n",
       "      <th></th>\n",
       "      <th>cement</th>\n",
       "      <th>slag</th>\n",
       "      <th>flyash</th>\n",
       "      <th>water</th>\n",
       "      <th>superplasticizer</th>\n",
       "      <th>coarseaggregate</th>\n",
       "      <th>fineaggregate</th>\n",
       "      <th>age</th>\n",
       "      <th>csMPa</th>\n",
       "    </tr>\n",
       "  </thead>\n",
       "  <tbody>\n",
       "    <tr>\n",
       "      <th>0</th>\n",
       "      <td>540.0</td>\n",
       "      <td>0.0</td>\n",
       "      <td>0.0</td>\n",
       "      <td>162.0</td>\n",
       "      <td>2.5</td>\n",
       "      <td>1040.0</td>\n",
       "      <td>676.0</td>\n",
       "      <td>28</td>\n",
       "      <td>79.99</td>\n",
       "    </tr>\n",
       "    <tr>\n",
       "      <th>1</th>\n",
       "      <td>540.0</td>\n",
       "      <td>0.0</td>\n",
       "      <td>0.0</td>\n",
       "      <td>162.0</td>\n",
       "      <td>2.5</td>\n",
       "      <td>1055.0</td>\n",
       "      <td>676.0</td>\n",
       "      <td>28</td>\n",
       "      <td>61.89</td>\n",
       "    </tr>\n",
       "    <tr>\n",
       "      <th>2</th>\n",
       "      <td>332.5</td>\n",
       "      <td>142.5</td>\n",
       "      <td>0.0</td>\n",
       "      <td>228.0</td>\n",
       "      <td>0.0</td>\n",
       "      <td>932.0</td>\n",
       "      <td>594.0</td>\n",
       "      <td>270</td>\n",
       "      <td>40.27</td>\n",
       "    </tr>\n",
       "    <tr>\n",
       "      <th>3</th>\n",
       "      <td>332.5</td>\n",
       "      <td>142.5</td>\n",
       "      <td>0.0</td>\n",
       "      <td>228.0</td>\n",
       "      <td>0.0</td>\n",
       "      <td>932.0</td>\n",
       "      <td>594.0</td>\n",
       "      <td>365</td>\n",
       "      <td>41.05</td>\n",
       "    </tr>\n",
       "    <tr>\n",
       "      <th>4</th>\n",
       "      <td>198.6</td>\n",
       "      <td>132.4</td>\n",
       "      <td>0.0</td>\n",
       "      <td>192.0</td>\n",
       "      <td>0.0</td>\n",
       "      <td>978.4</td>\n",
       "      <td>825.5</td>\n",
       "      <td>360</td>\n",
       "      <td>44.30</td>\n",
       "    </tr>\n",
       "  </tbody>\n",
       "</table>\n",
       "</div>"
      ]
     },
     "execution_count": 13,
     "metadata": {},
     "output_type": "execute_result"
    }
   ],
   "execution_count": 13
  },
  {
   "cell_type": "markdown",
   "metadata": {
    "collapsed": false,
    "id": "Eb6-96GRpF6t",
    "jupyter": {
     "outputs_hidden": false
    }
   },
   "source": [
    "4. Construct a pipeline PolynomialRegression. First you create the variables with PolynomialFeatures and you feed this data to the linear regression."
   ]
  },
  {
   "cell_type": "code",
   "metadata": {
    "id": "NCo39aidpF6u",
    "ExecuteTime": {
     "end_time": "2024-11-04T12:28:11.342525Z",
     "start_time": "2024-11-04T12:28:11.327537Z"
    }
   },
   "source": [
    "#SOLUTION_START\n",
    "from sklearn.pipeline import make_pipeline\n",
    "poly = PolynomialFeatures(degree=2)\n",
    "X_poly = poly.fit_transform(df) #features must be transformed but not target -> applying transform to input not output\n",
    "# Applying transformations to y would be counterproductive in this context because the purpose of PolynomialFeatures is to adjust the inputs, not the output.\n",
    "\n",
    "from sklearn.linear_model import LinearRegression\n",
    "model = LinearRegression()\n",
    "target = df['csMPa']\n",
    "model.fit(X_poly, target)\n",
    "#SOLUTION_END"
   ],
   "outputs": [],
   "execution_count": 18
  },
  {
   "cell_type": "markdown",
   "metadata": {
    "collapsed": false,
    "id": "uUUI7UxppF6u",
    "jupyter": {
     "outputs_hidden": false
    }
   },
   "source": [
    "5. From the concrete dataset you predict the strength csMPa by the cement feature.First select the cement feature and transform the series into a numpy array. To plot the regression you need to know the min and max vaules of cement."
   ]
  },
  {
   "cell_type": "code",
   "metadata": {
    "id": "Jq3pvajppF6u",
    "ExecuteTime": {
     "end_time": "2024-11-04T12:36:12.342574Z",
     "start_time": "2024-11-04T12:36:12.321022Z"
    }
   },
   "source": [
    "#SOLUTION_START\n",
    "cement = np.array(df['cement'])\n",
    "min_cement = cement.min()\n",
    "max_cement = cement.max()\n",
    "# max_cement\n",
    "target = df['csMPa']\n",
    "#SOLUTION_END"
   ],
   "outputs": [
    {
     "data": {
      "text/plain": [
       "540.0"
      ]
     },
     "execution_count": 20,
     "metadata": {},
     "output_type": "execute_result"
    }
   ],
   "execution_count": 20
  },
  {
   "cell_type": "markdown",
   "metadata": {
    "collapsed": false,
    "id": "oxCb5g23pF6v",
    "jupyter": {
     "outputs_hidden": false
    }
   },
   "source": [
    "6. Plot the data for different polyniomial models ( degrees are different). Is the data underfitted or overfitted?"
   ]
  },
  {
   "cell_type": "code",
   "execution_count": null,
   "metadata": {
    "ExecuteTime": {
     "end_time": "2024-10-13T18:51:28.584325Z",
     "start_time": "2024-10-13T18:51:27.833295Z"
    },
    "id": "ovBR-A3EpF6v"
   },
   "outputs": [],
   "source": [
    "#SOLUTION_START\n",
    "\n",
    "#we see all models perform poorly on the training set --> underfitting\n",
    "#SOLUTION_END"
   ]
  },
  {
   "cell_type": "markdown",
   "metadata": {
    "collapsed": false,
    "id": "jQE9VvUspF6w",
    "jupyter": {
     "outputs_hidden": false
    }
   },
   "source": [
    "7. Plot the result on the training set and the validation set. Use a cross-validation value of 7. Do the graph confirm what you think about (underfitting/overfitting)? Is it useful to use a more complex model?"
   ]
  },
  {
   "cell_type": "code",
   "execution_count": null,
   "metadata": {
    "ExecuteTime": {
     "end_time": "2024-10-13T18:51:29.346076Z",
     "start_time": "2024-10-13T18:51:29.332652Z"
    },
    "id": "PQWMDaAVpF6w"
   },
   "outputs": [],
   "source": [
    "import sklearn"
   ]
  },
  {
   "cell_type": "code",
   "execution_count": null,
   "metadata": {
    "ExecuteTime": {
     "end_time": "2024-10-13T18:51:30.740793Z",
     "start_time": "2024-10-13T18:51:30.173887Z"
    },
    "id": "Of-SWsvNpF6w"
   },
   "outputs": [],
   "source": [
    "#SOLUTION_START\n",
    "\n",
    "\n",
    "\n",
    "# Define the pipeline for Polynomial Regression\n",
    "\n",
    "\n",
    "# Define the range of degrees for the polynomial features\n",
    "\n",
    "# Get validation curve scores\n",
    "\n",
    "\n",
    "# Plot the learning curves\n",
    "\n",
    "# no the results are overall poor even for the training set. We see that the validation set have the best results for degree 1.\n",
    "# But the model is not useful\n",
    "#SOLUTION_END"
   ]
  },
  {
   "cell_type": "markdown",
   "metadata": {
    "collapsed": false,
    "id": "uL-cqNtcpF6x",
    "jupyter": {
     "outputs_hidden": false
    }
   },
   "source": [
    "8. To improve the results we include more features: include also water and age in X"
   ]
  },
  {
   "cell_type": "code",
   "execution_count": null,
   "metadata": {
    "ExecuteTime": {
     "end_time": "2024-10-13T18:51:31.660752Z",
     "start_time": "2024-10-13T18:51:31.651311Z"
    },
    "id": "GqJwTT2VpF6x"
   },
   "outputs": [],
   "source": [
    "#SOLUTION_START\n",
    "\n",
    "#SOLUTION_END"
   ]
  },
  {
   "cell_type": "markdown",
   "metadata": {
    "collapsed": false,
    "id": "ztyAj1NTpF6y",
    "jupyter": {
     "outputs_hidden": false
    }
   },
   "source": [
    "9. Plot the validation_curve for these features, optionally you even can add a standardscaler to your pipeline. Be aware that the cross validation score uses the negative mean square error (see documentation). Investigate for degrees 1 up to 10. Use the median value or the mean for the training scores and the validation scores. You see a sligth difference."
   ]
  },
  {
   "cell_type": "code",
   "execution_count": null,
   "metadata": {
    "ExecuteTime": {
     "end_time": "2024-10-13T18:51:37.246963Z",
     "start_time": "2024-10-13T18:51:32.923964Z"
    },
    "id": "VHyvGpzmpF6y"
   },
   "outputs": [],
   "source": [
    "#SOLUTION_START\n",
    "\n",
    "\n",
    "\n",
    "\n",
    "# Create a pipeline that includes polynomial features and linear regression\n",
    "\n",
    "# Initialize a PolynomialRegression pipeline for a specific degree (start with 2 for demonstration)\n",
    "\n",
    "\n",
    "# Perform cross-validation to evaluate the model\n",
    "\n",
    "# Use cross-validation with 5 folds\n",
    "\n",
    "# Display cross-validation results\n",
    "\n",
    "\n",
    "# Validation curve to check for overfitting/underfitting at different degrees\n",
    "\n",
    "\n",
    "# Plot the validation curve for median\n",
    "\n",
    "\n",
    "# Plot the validation curve for median\n",
    "\n",
    "#SOLUTION_END\n",
    "#we see that degree 3 (2(median) or 4(mean)) are the best choice in this case"
   ]
  },
  {
   "cell_type": "markdown",
   "metadata": {
    "collapsed": false,
    "id": "BEdUxRuNpF6z",
    "jupyter": {
     "outputs_hidden": false
    }
   },
   "source": [
    "10. Let's use gridsearch to find the optimum degree"
   ]
  },
  {
   "cell_type": "code",
   "execution_count": null,
   "metadata": {
    "ExecuteTime": {
     "end_time": "2024-10-13T18:51:37.796285Z",
     "start_time": "2024-10-13T18:51:37.257847Z"
    },
    "id": "KdHdsszdpF6z"
   },
   "outputs": [],
   "source": [
    "#SOLUTION_START\n",
    "\n",
    "\n",
    "# Select features (cement, water, age) and target (csMPa)\n",
    "\n",
    "\n",
    "# Create a pipeline that includes scaling, polynomial features, and linear regression\n",
    "\n",
    "\n",
    "# Define the grid of parameters to search\n",
    "\n",
    "# Setup the GridSearchCV\n",
    "\n",
    "# Fit the model\n",
    "\n",
    "# Get the best degree and corresponding score\n",
    "\n",
    "\n",
    "# Optional: Visualize the results\n",
    "\n",
    "#SOLUTION_END"
   ]
  },
  {
   "cell_type": "markdown",
   "metadata": {
    "collapsed": false,
    "id": "n0xOwqiypF6z",
    "jupyter": {
     "outputs_hidden": false
    }
   },
   "source": [
    "11. Extend the model with the same gridsearch but now for a ridge regression and try different ridge factors 1 0.5 and 0.1"
   ]
  },
  {
   "cell_type": "code",
   "execution_count": null,
   "metadata": {
    "ExecuteTime": {
     "end_time": "2024-10-13T18:51:41.252917Z",
     "start_time": "2024-10-13T18:51:40.140941Z"
    },
    "id": "LqZgb5HrpF6z"
   },
   "outputs": [],
   "source": [
    "#SOLUTION_START\n",
    "\n",
    "\n",
    "\n",
    "# Select features (cement, water, age) and target (csMPa)\n",
    "\n",
    "\n",
    "# Create a pipeline that includes scaling, polynomial features, and Ridge regression\n",
    "\n",
    "\n",
    "# Define the grid of parameters to search\n",
    "\n",
    "\n",
    "# Setup the GridSearchCV\n",
    "\n",
    "# Fit the model\n",
    "\n",
    "# Get the best parameters and corresponding score\n",
    "\n",
    "\n",
    "\n",
    "# Optional: Visualize the results\n",
    "\n",
    "#SOLUTION_END"
   ]
  },
  {
   "cell_type": "code",
   "execution_count": null,
   "metadata": {
    "id": "ZoYU2kWipF93"
   },
   "outputs": [],
   "source": []
  }
 ],
 "metadata": {
  "colab": {
   "provenance": []
  },
  "kernelspec": {
   "display_name": "Python 3 (ipykernel)",
   "language": "python",
   "name": "python3"
  },
  "language_info": {
   "codemirror_mode": {
    "name": "ipython",
    "version": 3
   },
   "file_extension": ".py",
   "mimetype": "text/x-python",
   "name": "python",
   "nbconvert_exporter": "python",
   "pygments_lexer": "ipython3",
   "version": "3.12.4"
  }
 },
 "nbformat": 4,
 "nbformat_minor": 0
}
