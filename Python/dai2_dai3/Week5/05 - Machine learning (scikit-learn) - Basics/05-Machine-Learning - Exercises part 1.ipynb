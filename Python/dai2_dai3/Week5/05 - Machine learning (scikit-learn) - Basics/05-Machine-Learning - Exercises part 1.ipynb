{
 "cells": [
  {
   "metadata": {},
   "cell_type": "markdown",
   "source": "# EXERCISES MACHINE LEARNING"
  },
  {
   "metadata": {},
   "cell_type": "markdown",
   "source": [
    "---\n",
    "\n",
    "## scikit-learn machine learning pipeline with validation\n",
    "\n",
    "---"
   ]
  },
  {
   "metadata": {},
   "cell_type": "markdown",
   "source": "(concrete compressive strength dataset)"
  },
  {
   "metadata": {},
   "cell_type": "markdown",
   "source": "### Task 1 : Import libraries"
  },
  {
   "metadata": {},
   "cell_type": "markdown",
   "source": "Import the necessary libraries (pandas, Numpy, Matplotlib, Seaborn and scikit-learn libraries)"
  },
  {
   "metadata": {
    "ExecuteTime": {
     "end_time": "2024-10-11T09:27:44.919038Z",
     "start_time": "2024-10-11T09:27:44.913789Z"
    }
   },
   "cell_type": "code",
   "source": "",
   "outputs": [],
   "execution_count": 3
  },
  {
   "cell_type": "markdown",
   "source": "### Task 2 : Set Seaborn style",
   "metadata": {
    "collapsed": false
   }
  },
  {
   "metadata": {},
   "cell_type": "markdown",
   "source": "Choose a seaborn style for plots."
  },
  {
   "cell_type": "code",
   "source": "",
   "metadata": {
    "collapsed": false,
    "ExecuteTime": {
     "end_time": "2024-10-11T09:27:45.026589Z",
     "start_time": "2024-10-11T09:27:45.021832Z"
    }
   },
   "outputs": [],
   "execution_count": 3
  },
  {
   "cell_type": "markdown",
   "source": "### Task 3 : Load the data",
   "metadata": {
    "collapsed": false
   }
  },
  {
   "metadata": {},
   "cell_type": "markdown",
   "source": "Load the 'Concrete_Data.csv' from the data directory and display the first rows."
  },
  {
   "cell_type": "code",
   "source": "",
   "metadata": {
    "collapsed": false,
    "ExecuteTime": {
     "end_time": "2024-10-11T09:27:45.043732Z",
     "start_time": "2024-10-11T09:27:45.035275Z"
    }
   },
   "outputs": [],
   "execution_count": 3
  },
  {
   "cell_type": "markdown",
   "source": "### Task 4 : Key statistics and missing values",
   "metadata": {
    "collapsed": false
   }
  },
  {
   "metadata": {},
   "cell_type": "markdown",
   "source": "Understand the dataset by displaying key statistics and check for missing values"
  },
  {
   "cell_type": "code",
   "source": "",
   "metadata": {
    "collapsed": false,
    "ExecuteTime": {
     "end_time": "2024-10-11T09:27:45.067255Z",
     "start_time": "2024-10-11T09:27:45.061799Z"
    }
   },
   "outputs": [],
   "execution_count": 3
  },
  {
   "cell_type": "markdown",
   "source": "### Task 5 : Heatmap with correlations",
   "metadata": {
    "collapsed": false
   }
  },
  {
   "metadata": {},
   "cell_type": "markdown",
   "source": "Plot a heatmap of the correlation matrix to understand the relationships between the target variable 'csMPa' and all other variables (predictors)."
  },
  {
   "cell_type": "code",
   "source": "",
   "metadata": {
    "collapsed": false,
    "ExecuteTime": {
     "end_time": "2024-10-11T09:27:45.125610Z",
     "start_time": "2024-10-11T09:27:45.121664Z"
    }
   },
   "outputs": [],
   "execution_count": 3
  },
  {
   "cell_type": "markdown",
   "source": "### Task 6 : Simple linear regression",
   "metadata": {
    "collapsed": false
   }
  },
  {
   "metadata": {},
   "cell_type": "markdown",
   "source": [
    "Perform a simple linear regression with 'csMPa' as target and one feature.\n",
    "\n",
    "What feature seems to be the best candidate for the job?\n",
    "\n",
    "Use a standard test setup (training set and test set) and make the predictions \n",
    "for the observations in the test set."
   ]
  },
  {
   "cell_type": "code",
   "source": "",
   "metadata": {
    "collapsed": false,
    "ExecuteTime": {
     "end_time": "2024-10-11T09:27:45.143336Z",
     "start_time": "2024-10-11T09:27:45.128852Z"
    }
   },
   "outputs": [],
   "execution_count": 3
  },
  {
   "cell_type": "markdown",
   "source": "### Task 7 : Validation",
   "metadata": {
    "collapsed": false
   }
  },
  {
   "metadata": {},
   "cell_type": "markdown",
   "source": "Calculate and display the R-squared and Mean Squared Error (MSE) for the simple linear regression."
  },
  {
   "cell_type": "code",
   "source": "",
   "metadata": {
    "collapsed": false,
    "ExecuteTime": {
     "end_time": "2024-10-11T09:27:45.161717Z",
     "start_time": "2024-10-11T09:27:45.154794Z"
    }
   },
   "outputs": [],
   "execution_count": 3
  },
  {
   "cell_type": "markdown",
   "source": "### Task 8 : Regression line",
   "metadata": {
    "collapsed": false
   }
  },
  {
   "metadata": {},
   "cell_type": "markdown",
   "source": "Plot the regression line along with the test data points and print the intercept and coefficients."
  },
  {
   "cell_type": "code",
   "source": "",
   "metadata": {
    "collapsed": false,
    "ExecuteTime": {
     "end_time": "2024-10-11T09:27:45.218064Z",
     "start_time": "2024-10-11T09:27:45.212370Z"
    }
   },
   "outputs": [],
   "execution_count": 3
  },
  {
   "cell_type": "markdown",
   "source": "### Task 9 : Linear regression with more predictors",
   "metadata": {
    "collapsed": false
   }
  },
  {
   "metadata": {},
   "cell_type": "markdown",
   "source": [
    "As we see the single feature explains the compressive strength not to well. We continue our search for a better model:\n",
    "include more than one variable in our regression model. What other 2 features are potential good candidates?\n",
    "Make predictions for the test set and calculate the Mean Squared Error and R-squared. Print the coefficients and the intercept."
   ]
  },
  {
   "cell_type": "code",
   "source": "",
   "metadata": {
    "collapsed": false,
    "ExecuteTime": {
     "end_time": "2024-10-11T09:27:45.236468Z",
     "start_time": "2024-10-11T09:27:45.224135Z"
    }
   },
   "outputs": [],
   "execution_count": 3
  },
  {
   "metadata": {},
   "cell_type": "markdown",
   "source": [
    "---\n",
    "\n",
    "## scikit-learn machine learning pipeline with model selection and hyperparameter tuning using cross-validation\n",
    "\n",
    "---"
   ]
  },
  {
   "metadata": {},
   "cell_type": "markdown",
   "source": "### 1. PREDICT PENGUIN SPECIES WITH HYPERPARAMETER TUNING USING CROSS-VALIDATION"
  },
  {
   "metadata": {},
   "cell_type": "markdown",
   "source": "We want to build a model to predict the penguin species based on some penguin characteristics we can observe. We have a labeled dataset <strong>'penguin'</strong> that is part of the Seaborn built-in datasets. We want to use a decision tree and want to experiment with following hyperparameters to find the best solution: maximum tree depth ranging from 3 tot 10, and split criterion equal to 'gini' or 'entropy'. Derive the best model, using a decision tree with the given set of hyperparameter values, using 3-fold cross validation with recall as validation measure for the hyperparameter tuning. Use <strong>species</strong> as the target variable and all other variables except <strong>island</strong> and <strong>sex</strong> as predictors."
  },
  {
   "metadata": {
    "ExecuteTime": {
     "end_time": "2024-10-11T09:27:45.285223Z",
     "start_time": "2024-10-11T09:27:45.278694Z"
    }
   },
   "cell_type": "code",
   "source": "",
   "outputs": [],
   "execution_count": 3
  },
  {
   "metadata": {},
   "cell_type": "markdown",
   "source": "### 2. PREDICT PENGUIN SPECIES WITH HYPERPARAMETER TUNING USING CROSS-VALIDATION (MANUALLY)"
  },
  {
   "metadata": {},
   "cell_type": "markdown",
   "source": [
    "If everything went well, you used specific scikit-learn features for the cross validation and grid search (GridSearchCV) that do all the work (as seen in the lecture). \n",
    "\n",
    "In this exercise, we want you to program the procedure for the hyperparameter tuning with cross-validation yourself. So program the steps of hyperparameter tuning and cross-validation yourself, without using the cross-validation and grid search functions of scikit-learn (so do not use functions like GridSearchCV). \n",
    "\n",
    "Use the same data (target variable and predictors) as in the previous exercise. Find the best model using 3-fold cross validation. To make it simpler, limit the hyperparameters to be checked to split criterion equal to 'entropy' and maximum tree depth equal to 3,5,8 and 10.\n",
    "\n",
    "The only scikit-learn functions you can use are train_test_split, the functions to derive, plot and apply a decision tree (DecisionTreeClassifier and it's methods - fit, predict - plot_tree) and the functions for the calculation of validation metrics (confusion_matrix, ConfusionMatrixDisplay, accuracy_score, precision_score, recall_score, f1_score, precision_recall_fscore_support, classification_report).\n",
    "\n",
    "So be sure to understand the procedure for hyperparameter tuning with cross-validation (how is the data split, which iterations are needed, how are decisions on the best model taken, ...) and develop a Python program accordingly."
   ]
  },
  {
   "metadata": {
    "ExecuteTime": {
     "end_time": "2024-10-11T09:27:45.307442Z",
     "start_time": "2024-10-11T09:27:45.300126Z"
    }
   },
   "cell_type": "code",
   "source": "",
   "outputs": [],
   "execution_count": 3
  }
 ],
 "metadata": {
  "kernelspec": {
   "display_name": "Python 3",
   "language": "python",
   "name": "python3"
  },
  "language_info": {
   "codemirror_mode": {
    "name": "ipython",
    "version": 2
   },
   "file_extension": ".py",
   "mimetype": "text/x-python",
   "name": "python",
   "nbconvert_exporter": "python",
   "pygments_lexer": "ipython2",
   "version": "2.7.6"
  }
 },
 "nbformat": 4,
 "nbformat_minor": 0
}
