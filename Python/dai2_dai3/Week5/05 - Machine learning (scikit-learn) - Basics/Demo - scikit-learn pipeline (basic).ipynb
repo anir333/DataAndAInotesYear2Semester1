{
 "cells": [
  {
   "metadata": {},
   "cell_type": "markdown",
   "source": [
    "# DEMO MACHINE LEARNING PIPELINE WITH SCIKIT-LEARN\n",
    "# (BASIC PIPELINE)"
   ]
  },
  {
   "metadata": {},
   "cell_type": "code",
   "source": [
    "myRandomState=0\n",
    "mySampleSize=10"
   ],
   "outputs": [],
   "execution_count": null
  },
  {
   "metadata": {},
   "cell_type": "markdown",
   "source": "### DATA PREPARATION"
  },
  {
   "metadata": {},
   "cell_type": "code",
   "source": [
    "# DATA PREPARATION\n",
    "\n",
    "import pandas as pd\n",
    "pd.options.display.max_rows = None\n",
    "import seaborn as sns \n",
    "iris = sns.load_dataset('iris')\n",
    "X = iris[['sepal_width', 'sepal_length', 'petal_width']] # Predictors\n",
    "y = iris['petal_length'] # Target feature to predict\n",
    "\n",
    "print(type(iris), iris.shape)\n",
    "print(type(X), X.shape)\n",
    "print(type(y), y.shape)\n",
    "\n",
    "display(X.head(5))\n",
    "display(y.head(5))"
   ],
   "outputs": [],
   "execution_count": null
  },
  {
   "metadata": {},
   "cell_type": "code",
   "source": [
    "# Explore data\n",
    "display(X.sample(mySampleSize, random_state=myRandomState))\n",
    "display(y.sample(mySampleSize, random_state=myRandomState))\n",
    "# Mind that the indexes of the sample of y might be different of the indexes\n",
    "# of the sample of X because of the random selection.\n",
    "# When using random_state with the same state, you should get the same \n",
    "# indexes.\n",
    "display(X.describe())"
   ],
   "outputs": [],
   "execution_count": null
  },
  {
   "metadata": {},
   "cell_type": "code",
   "source": [
    "# If you want to be sure to get the same indexes, e.g. when you do not use\n",
    "# random_state, extract the selected indexes from the sample of X and use\n",
    "# those indexes to slice y, but this requires you to store the sample of\n",
    "# X \n",
    "X_smpl = X.sample(mySampleSize)\n",
    "display(X_smpl)\n",
    "display(X_smpl.index)\n",
    "y_smpl = y[X_smpl.index]\n",
    "display(y_smpl)"
   ],
   "outputs": [],
   "execution_count": null
  },
  {
   "metadata": {},
   "cell_type": "markdown",
   "source": "### MODEL SELECTION AND HYPERPARAMETER SELECTION (MODEL SPECIFIC)"
  },
  {
   "metadata": {},
   "cell_type": "code",
   "source": [
    "# MODEL SELECTION AND HYPERPARAMETER SELECTION (MODEL SPECIFIC)\n",
    "\n",
    "from sklearn.linear_model import LinearRegression\n",
    "model = LinearRegression(fit_intercept=True)\n",
    "print(model)\n",
    "# List all selected hyperparameters\n",
    "print(model.get_params(deep=True))"
   ],
   "outputs": [],
   "execution_count": null
  },
  {
   "metadata": {},
   "cell_type": "markdown",
   "source": "### DERIVE MODEL (TRAIN MODEL/FIT MODEL)"
  },
  {
   "metadata": {},
   "cell_type": "code",
   "source": [
    "# DERIVE MODEL (TRAIN MODEL/FIT MODEL)\n",
    "\n",
    "model.fit(X,y)"
   ],
   "outputs": [],
   "execution_count": null
  },
  {
   "metadata": {},
   "cell_type": "markdown",
   "source": "### DISPLAY MODEL (MODEL SPECIFIC))"
  },
  {
   "metadata": {},
   "cell_type": "code",
   "source": [
    "# DISPLAY MODEL\n",
    "\n",
    "print(model.intercept_, model.coef_)"
   ],
   "outputs": [],
   "execution_count": null
  },
  {
   "metadata": {},
   "cell_type": "markdown",
   "source": "# APPLY MODEL ON NEW DATA"
  },
  {
   "metadata": {},
   "cell_type": "code",
   "source": [
    "# APPLY MODEL ON NEW DATA\n",
    "\n",
    "X_pred = pd.DataFrame([[10,10,10],[5,5,5]], columns=(X.columns))\n",
    "y_pred = model.predict(X_pred)\n",
    "print(y_pred)"
   ],
   "outputs": [],
   "execution_count": null
  }
 ],
 "metadata": {
  "anaconda-cloud": {},
  "jupytext": {
   "formats": "ipynb,md"
  },
  "kernelspec": {
   "display_name": "Python 3 (ipykernel)",
   "language": "python",
   "name": "python3"
  },
  "language_info": {
   "codemirror_mode": {
    "name": "ipython",
    "version": 3
   },
   "file_extension": ".py",
   "mimetype": "text/x-python",
   "name": "python",
   "nbconvert_exporter": "python",
   "pygments_lexer": "ipython3",
   "version": "3.9.2"
  }
 },
 "nbformat": 4,
 "nbformat_minor": 4
}
