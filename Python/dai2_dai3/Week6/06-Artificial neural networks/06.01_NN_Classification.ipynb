{
 "cells": [
  {
   "cell_type": "markdown",
   "id": "484216da-282d-461c-9078-c4d557cf67c7",
   "metadata": {},
   "source": [
    "# Neural Networks - Classification"
   ]
  },
  {
   "cell_type": "markdown",
   "id": "581cbdef-b701-479e-87f6-66699e8f078f",
   "metadata": {},
   "source": [
    "In this tutorial, we will create a classification model, that predicts the value (0 to 9) from a picture with a handwritten digit."
   ]
  },
  {
   "cell_type": "markdown",
   "id": "4786d414-cdcb-427a-8a36-fc58f9d64980",
   "metadata": {},
   "source": [
    "## 0. Import python modules"
   ]
  },
  {
   "cell_type": "markdown",
   "id": "7ec66edb-1466-44f5-9e37-478155c6db5d",
   "metadata": {},
   "source": [
    "We will use the Tensoflow/Keras framework for neural network machine learning."
   ]
  },
  {
   "cell_type": "code",
   "id": "890c2b95-d7d0-4718-821e-7cf4949b5dd6",
   "metadata": {
    "ExecuteTime": {
     "end_time": "2024-11-06T19:04:44.843058Z",
     "start_time": "2024-11-06T19:04:44.831533Z"
    }
   },
   "source": [
    "import matplotlib.pyplot as plt\n",
    "from sklearn.preprocessing import MinMaxScaler\n",
    "from tensorflow.keras.datasets import mnist\n",
    "from tensorflow.keras import Model\n",
    "from tensorflow.keras.layers import Input, Dense\n",
    "from tensorflow.keras.utils import to_categorical\n",
    "from tensorflow.keras.optimizers import Adam\n",
    "from plot_loss import plot_loss # own function in plot_loss.py"
   ],
   "outputs": [],
   "execution_count": 11
  },
  {
   "cell_type": "markdown",
   "id": "22b80276-a1f4-4ea9-96e1-f3abde11206a",
   "metadata": {
    "tags": []
   },
   "source": [
    "## 1. Load the dataset"
   ]
  },
  {
   "cell_type": "markdown",
   "id": "105aea76-8652-4490-a9fd-a412bdc07b9b",
   "metadata": {},
   "source": [
    "The goal is to make a model that can recognize handwritten digits. We make use of the MNIST dataset, which is a well-known dataset of handwritten digits: https://www.tensorflow.org/datasets/catalog/mnist. The training dataset has 60000 images, the test dataset 10000. Images are grayscale and have a size of 28x28 pixels. Each pixel has a value between 0 (black) and 255 (white). The dataset is already split into train and test, so we do not have to do this ourselves. In case this is not yet done, the `train_test_split` function of `sklearn.model_selection` can be used (`from sklearn.model_selection import train_test_split`)."
   ]
  },
  {
   "cell_type": "code",
   "id": "352d967d",
   "metadata": {
    "collapsed": false,
    "jupyter": {
     "outputs_hidden": false
    },
    "ExecuteTime": {
     "end_time": "2024-11-06T19:04:49.045588Z",
     "start_time": "2024-11-06T19:04:48.457409Z"
    }
   },
   "source": [
    "# Load the training and test dataset\n",
    "(x_train, y_train), (x_test, y_test) = mnist.load_data()\n",
    "# 60000 training images with 28x28 pixels\n",
    "print(x_train.shape)\n",
    "print(y_train.shape)\n",
    "# print(x_train[0])"
   ],
   "outputs": [
    {
     "name": "stdout",
     "output_type": "stream",
     "text": [
      "(60000, 28, 28)\n",
      "(60000,)\n"
     ]
    }
   ],
   "execution_count": 12
  },
  {
   "cell_type": "markdown",
   "id": "109b693b-823b-4cd4-8ab3-0df66ef26c5e",
   "metadata": {},
   "source": [
    "x_train and x_test are 3-dimensional arrays used as input for the model. We can look at the first training image. This is a 2-dimensional array of 28 by 28. The y-values are the class the model should predict, it is a 1-dimensional array with a number 0 to 9."
   ]
  },
  {
   "cell_type": "code",
   "id": "b6e91eef-7efa-4352-9146-6651579b5749",
   "metadata": {
    "ExecuteTime": {
     "end_time": "2024-11-06T19:04:50.625228Z",
     "start_time": "2024-11-06T19:04:50.242512Z"
    }
   },
   "source": [
    "# y value of the first image (= class the model should predict)\n",
    "print(y_train[0])\n",
    "# x value (= input for the model)\n",
    "print(x_train[0])\n",
    "plt.imshow(x_train[0], cmap='gray', vmin=0, vmax=255)"
   ],
   "outputs": [
    {
     "name": "stdout",
     "output_type": "stream",
     "text": [
      "5\n",
      "[[  0   0   0   0   0   0   0   0   0   0   0   0   0   0   0   0   0   0\n",
      "    0   0   0   0   0   0   0   0   0   0]\n",
      " [  0   0   0   0   0   0   0   0   0   0   0   0   0   0   0   0   0   0\n",
      "    0   0   0   0   0   0   0   0   0   0]\n",
      " [  0   0   0   0   0   0   0   0   0   0   0   0   0   0   0   0   0   0\n",
      "    0   0   0   0   0   0   0   0   0   0]\n",
      " [  0   0   0   0   0   0   0   0   0   0   0   0   0   0   0   0   0   0\n",
      "    0   0   0   0   0   0   0   0   0   0]\n",
      " [  0   0   0   0   0   0   0   0   0   0   0   0   0   0   0   0   0   0\n",
      "    0   0   0   0   0   0   0   0   0   0]\n",
      " [  0   0   0   0   0   0   0   0   0   0   0   0   3  18  18  18 126 136\n",
      "  175  26 166 255 247 127   0   0   0   0]\n",
      " [  0   0   0   0   0   0   0   0  30  36  94 154 170 253 253 253 253 253\n",
      "  225 172 253 242 195  64   0   0   0   0]\n",
      " [  0   0   0   0   0   0   0  49 238 253 253 253 253 253 253 253 253 251\n",
      "   93  82  82  56  39   0   0   0   0   0]\n",
      " [  0   0   0   0   0   0   0  18 219 253 253 253 253 253 198 182 247 241\n",
      "    0   0   0   0   0   0   0   0   0   0]\n",
      " [  0   0   0   0   0   0   0   0  80 156 107 253 253 205  11   0  43 154\n",
      "    0   0   0   0   0   0   0   0   0   0]\n",
      " [  0   0   0   0   0   0   0   0   0  14   1 154 253  90   0   0   0   0\n",
      "    0   0   0   0   0   0   0   0   0   0]\n",
      " [  0   0   0   0   0   0   0   0   0   0   0 139 253 190   2   0   0   0\n",
      "    0   0   0   0   0   0   0   0   0   0]\n",
      " [  0   0   0   0   0   0   0   0   0   0   0  11 190 253  70   0   0   0\n",
      "    0   0   0   0   0   0   0   0   0   0]\n",
      " [  0   0   0   0   0   0   0   0   0   0   0   0  35 241 225 160 108   1\n",
      "    0   0   0   0   0   0   0   0   0   0]\n",
      " [  0   0   0   0   0   0   0   0   0   0   0   0   0  81 240 253 253 119\n",
      "   25   0   0   0   0   0   0   0   0   0]\n",
      " [  0   0   0   0   0   0   0   0   0   0   0   0   0   0  45 186 253 253\n",
      "  150  27   0   0   0   0   0   0   0   0]\n",
      " [  0   0   0   0   0   0   0   0   0   0   0   0   0   0   0  16  93 252\n",
      "  253 187   0   0   0   0   0   0   0   0]\n",
      " [  0   0   0   0   0   0   0   0   0   0   0   0   0   0   0   0   0 249\n",
      "  253 249  64   0   0   0   0   0   0   0]\n",
      " [  0   0   0   0   0   0   0   0   0   0   0   0   0   0  46 130 183 253\n",
      "  253 207   2   0   0   0   0   0   0   0]\n",
      " [  0   0   0   0   0   0   0   0   0   0   0   0  39 148 229 253 253 253\n",
      "  250 182   0   0   0   0   0   0   0   0]\n",
      " [  0   0   0   0   0   0   0   0   0   0  24 114 221 253 253 253 253 201\n",
      "   78   0   0   0   0   0   0   0   0   0]\n",
      " [  0   0   0   0   0   0   0   0  23  66 213 253 253 253 253 198  81   2\n",
      "    0   0   0   0   0   0   0   0   0   0]\n",
      " [  0   0   0   0   0   0  18 171 219 253 253 253 253 195  80   9   0   0\n",
      "    0   0   0   0   0   0   0   0   0   0]\n",
      " [  0   0   0   0  55 172 226 253 253 253 253 244 133  11   0   0   0   0\n",
      "    0   0   0   0   0   0   0   0   0   0]\n",
      " [  0   0   0   0 136 253 253 253 212 135 132  16   0   0   0   0   0   0\n",
      "    0   0   0   0   0   0   0   0   0   0]\n",
      " [  0   0   0   0   0   0   0   0   0   0   0   0   0   0   0   0   0   0\n",
      "    0   0   0   0   0   0   0   0   0   0]\n",
      " [  0   0   0   0   0   0   0   0   0   0   0   0   0   0   0   0   0   0\n",
      "    0   0   0   0   0   0   0   0   0   0]\n",
      " [  0   0   0   0   0   0   0   0   0   0   0   0   0   0   0   0   0   0\n",
      "    0   0   0   0   0   0   0   0   0   0]]\n"
     ]
    },
    {
     "data": {
      "text/plain": [
       "<matplotlib.image.AxesImage at 0x75e754196c00>"
      ]
     },
     "execution_count": 13,
     "metadata": {},
     "output_type": "execute_result"
    },
    {
     "data": {
      "text/plain": [
       "<Figure size 640x480 with 1 Axes>"
      ],
      "image/png": "[encoded data removed]"
     },
     "metadata": {},
     "output_type": "display_data"
    }
   ],
   "execution_count": 13
  },
  {
   "cell_type": "markdown",
   "id": "ea372295-6e64-4146-8d94-3a5c9e7f5aff",
   "metadata": {},
   "source": [
    "## 2. Data transformation and normalisation"
   ]
  },
  {
   "cell_type": "markdown",
   "id": "517cdb10-5430-465e-8d08-d83a986d3968",
   "metadata": {},
   "source": [
    "The input for our neural network with dense layers is a 2-dimensional array. The first dimension is the number of the sample. The second dimension is the number of the input node. So the 2-dimensional images need to be converted to a 1-dimensional array fitting the input layer of our model."
   ]
  },
  {
   "cell_type": "code",
   "id": "655fd9b2-b467-4f1d-86c2-e3a609d81f15",
   "metadata": {
    "ExecuteTime": {
     "end_time": "2024-11-06T19:04:54.337223Z",
     "start_time": "2024-11-06T19:04:54.324385Z"
    }
   },
   "source": [
    "# transform the 2D-images to 1D-arrays (28 x 28 = 784)\n",
    "x_train = x_train.reshape((-1, 784))   # or x_train.reshape((60000, 784))\n",
    "x_test = x_test.reshape((-1, 784))\n",
    "print(x_train.shape)"
   ],
   "outputs": [
    {
     "name": "stdout",
     "output_type": "stream",
     "text": [
      "(60000, 784)\n"
     ]
    }
   ],
   "execution_count": 14
  },
  {
   "cell_type": "markdown",
   "id": "d1bc4f11-7910-4b85-b653-e116188ad186",
   "metadata": {},
   "source": [
    "Now we normalize the input samples using min-max normalisation to get values between 0 and 1. We use the `MinMaxScaler` from `sklearn.preprocessing`. As we know the maximum value is 255, we could also just divide by 255."
   ]
  },
  {
   "cell_type": "code",
   "id": "9407e513-27d4-42d3-b4aa-5cfc036cdf02",
   "metadata": {
    "ExecuteTime": {
     "end_time": "2024-11-06T21:14:10.002272Z",
     "start_time": "2024-11-06T21:14:08.773910Z"
    }
   },
   "source": [
    "# scale input\n",
    "import pandas as pd\n",
    "scaler = MinMaxScaler()\n",
    "x_train_norm = scaler.fit_transform(x_train) # makes values between 0 and 1 to normalize them\n",
    "x_test_norm = scaler.transform(x_test)    # no fit, so that same scaling is used\n",
    "# x_test\n",
    "\n",
    "# x_test_norm\n",
    "df = pd.DataFrame(x_test_norm[0])\n",
    "df = df[df[:] > 0].dropna()\n",
    "df\n",
    "# print(x_train_norm[0])\n",
    "# print(x_train[0])"
   ],
   "outputs": [
    {
     "data": {
      "text/plain": [
       "            0\n",
       "202  0.329412\n",
       "203  0.725490\n",
       "204  0.623529\n",
       "205  0.592157\n",
       "206  0.235294\n",
       "..        ...\n",
       "714  0.156863\n",
       "738  0.474510\n",
       "739  0.996078\n",
       "740  0.811765\n",
       "741  0.070588\n",
       "\n",
       "[116 rows x 1 columns]"
      ],
      "text/html": [
       "<div>\n",
       "<style scoped>\n",
       "    .dataframe tbody tr th:only-of-type {\n",
       "        vertical-align: middle;\n",
       "    }\n",
       "\n",
       "    .dataframe tbody tr th {\n",
       "        vertical-align: top;\n",
       "    }\n",
       "\n",
       "    .dataframe thead th {\n",
       "        text-align: right;\n",
       "    }\n",
       "</style>\n",
       "<table border=\"1\" class=\"dataframe\">\n",
       "  <thead>\n",
       "    <tr style=\"text-align: right;\">\n",
       "      <th></th>\n",
       "      <th>0</th>\n",
       "    </tr>\n",
       "  </thead>\n",
       "  <tbody>\n",
       "    <tr>\n",
       "      <th>202</th>\n",
       "      <td>0.329412</td>\n",
       "    </tr>\n",
       "    <tr>\n",
       "      <th>203</th>\n",
       "      <td>0.725490</td>\n",
       "    </tr>\n",
       "    <tr>\n",
       "      <th>204</th>\n",
       "      <td>0.623529</td>\n",
       "    </tr>\n",
       "    <tr>\n",
       "      <th>205</th>\n",
       "      <td>0.592157</td>\n",
       "    </tr>\n",
       "    <tr>\n",
       "      <th>206</th>\n",
       "      <td>0.235294</td>\n",
       "    </tr>\n",
       "    <tr>\n",
       "      <th>...</th>\n",
       "      <td>...</td>\n",
       "    </tr>\n",
       "    <tr>\n",
       "      <th>714</th>\n",
       "      <td>0.156863</td>\n",
       "    </tr>\n",
       "    <tr>\n",
       "      <th>738</th>\n",
       "      <td>0.474510</td>\n",
       "    </tr>\n",
       "    <tr>\n",
       "      <th>739</th>\n",
       "      <td>0.996078</td>\n",
       "    </tr>\n",
       "    <tr>\n",
       "      <th>740</th>\n",
       "      <td>0.811765</td>\n",
       "    </tr>\n",
       "    <tr>\n",
       "      <th>741</th>\n",
       "      <td>0.070588</td>\n",
       "    </tr>\n",
       "  </tbody>\n",
       "</table>\n",
       "<p>116 rows × 1 columns</p>\n",
       "</div>"
      ]
     },
     "execution_count": 29,
     "metadata": {},
     "output_type": "execute_result"
    }
   ],
   "execution_count": 29
  },
  {
   "cell_type": "markdown",
   "id": "af8b98f5-2808-44b8-af08-2da4d92a5bdd",
   "metadata": {},
   "source": [
    "Now we use one-hot encoding for the output. This means that the model will output 10 probabilities (probability that digit is 0, ..., probability that digit is 9). We use the `to_categorical` function from `tensorflow.keras.utils`. In case the dataset is a pandas dateframe, the `pd.get_dummies` function can be used."
   ]
  },
  {
   "cell_type": "code",
   "id": "cef2a63d-fd10-4249-8bf3-cf75cafb0bde",
   "metadata": {
    "ExecuteTime": {
     "end_time": "2024-11-06T02:18:47.684554Z",
     "start_time": "2024-11-06T02:18:47.656127Z"
    }
   },
   "source": [
    "# one-hot encoding for output\n",
    "print(y_train[0])\n",
    "y_train_onehot = to_categorical(y_train)\n",
    "y_test_onehot = to_categorical(y_test)\n",
    "print(y_train_onehot.shape)\n",
    "print(y_train_onehot[0])"
   ],
   "outputs": [
    {
     "name": "stdout",
     "output_type": "stream",
     "text": [
      "5\n",
      "(60000, 10)\n",
      "[0. 0. 0. 0. 0. 1. 0. 0. 0. 0.]\n"
     ]
    }
   ],
   "execution_count": 7
  },
  {
   "cell_type": "markdown",
   "id": "81c1b2e8-6b3f-4d84-b4cc-29f1bf777fee",
   "metadata": {},
   "source": [
    "## 3. Define the model"
   ]
  },
  {
   "cell_type": "markdown",
   "id": "5391978a-997a-4a61-9625-dd6ada2cef62",
   "metadata": {},
   "source": [
    "##### The input layer has 784 nodes (28 x 28). We choose 2 hidden layers with 128 and 64 nodes and a `relu` activation function (feel free to try other values/functions). The output layer has 10 nodes corresponding to the one-hot encoding vector size. The activation function of the output layer is important. As the output are 10 probabilities, the sum of them must be 1. The `softmax` activation function is enforcing this. We choose Adam as optimizer with a learning rate of `0.001`. The loss is the `categorical_crossentropy` loss which is used for classification models using one-hot encoding as output (and so used together with the `softmax` activation function). We also define a `accuracy` metric."
   ]
  },
  {
   "cell_type": "code",
   "id": "22c9d78c-aeeb-4cd7-9592-761f9d5e1e3b",
   "metadata": {
    "ExecuteTime": {
     "end_time": "2024-11-06T02:18:51.588669Z",
     "start_time": "2024-11-06T02:18:51.253503Z"
    }
   },
   "source": [
    "# input layer 784 nodes\n",
    "inputs = Input(shape=(784,))\n",
    "# 2 hidden layers\n",
    "x = Dense(128, activation='relu')(inputs)\n",
    "x = Dense(64, activation='relu')(x)\n",
    "# output layer\n",
    "outputs = Dense(10, activation='softmax')(x)\n",
    "# construct the model\n",
    "model = Model(inputs, outputs, name='MNIST')\n",
    "# print a summary\n",
    "model.summary()\n",
    "# compile the model\n",
    "model.compile(\n",
    "    optimizer=Adam(learning_rate=0.001),\n",
    "    loss='categorical_crossentropy',\n",
    "    metrics=['accuracy']\n",
    ")\n",
    "# \"\"\"\n",
    "# WARNING:tensorflow:From C:\\Users\\depaepeg\\OneDrive - KdG\\Cursussen\\04. Data Science 2\\Py\\pyvenv\\Lib\\site-packages\\keras\\src\\backend.py:1398: The name tf.executing_eagerly_outside_functions is deprecated. Please use tf.compat.v1.executing_eagerly_outside_functions instead.\n",
    "# \n",
    "# Model: \"MNIST\"\n",
    "# _________________________________________________________________\n",
    "#  Layer (type)                Output Shape              Param #   \n",
    "# =================================================================\n",
    "#  input_1 (InputLayer)        [(None, 784)]             0         \n",
    "#                                                                  \n",
    "#  dense (Dense)               (None, 128)               100480    \n",
    "#                                                                  \n",
    "#  dense_1 (Dense)             (None, 64)                8256      \n",
    "#                                                                  \n",
    "#  dense_2 (Dense)             (None, 10)                650       \n",
    "#                                                                  \n",
    "# =================================================================\n",
    "# Total params: 109386 (427.29 KB)\n",
    "# Trainable params: 109386 (427.29 KB)\n",
    "# Non-trainable params: 0 (0.00 Byte)\n",
    "# _________________________________________________________________\n",
    "# \"\"\""
   ],
   "outputs": [
    {
     "data": {
      "text/plain": [
       "\u001B[1mModel: \"MNIST\"\u001B[0m\n"
      ],
      "text/html": [
       "<pre style=\"white-space:pre;overflow-x:auto;line-height:normal;font-family:Menlo,'DejaVu Sans Mono',consolas,'Courier New',monospace\"><span style=\"font-weight: bold\">Model: \"MNIST\"</span>\n",
       "</pre>\n"
      ]
     },
     "metadata": {},
     "output_type": "display_data"
    },
    {
     "data": {
      "text/plain": [
       "┏━━━━━━━━━━━━━━━━━━━━━━━━━━━━━━━━━┳━━━━━━━━━━━━━━━━━━━━━━━━┳━━━━━━━━━━━━━━━┓\n",
       "┃\u001B[1m \u001B[0m\u001B[1mLayer (type)                   \u001B[0m\u001B[1m \u001B[0m┃\u001B[1m \u001B[0m\u001B[1mOutput Shape          \u001B[0m\u001B[1m \u001B[0m┃\u001B[1m \u001B[0m\u001B[1m      Param #\u001B[0m\u001B[1m \u001B[0m┃\n",
       "┡━━━━━━━━━━━━━━━━━━━━━━━━━━━━━━━━━╇━━━━━━━━━━━━━━━━━━━━━━━━╇━━━━━━━━━━━━━━━┩\n",
       "│ input_layer (\u001B[38;5;33mInputLayer\u001B[0m)        │ (\u001B[38;5;45mNone\u001B[0m, \u001B[38;5;34m784\u001B[0m)            │             \u001B[38;5;34m0\u001B[0m │\n",
       "├─────────────────────────────────┼────────────────────────┼───────────────┤\n",
       "│ dense (\u001B[38;5;33mDense\u001B[0m)                   │ (\u001B[38;5;45mNone\u001B[0m, \u001B[38;5;34m128\u001B[0m)            │       \u001B[38;5;34m100,480\u001B[0m │\n",
       "├─────────────────────────────────┼────────────────────────┼───────────────┤\n",
       "│ dense_1 (\u001B[38;5;33mDense\u001B[0m)                 │ (\u001B[38;5;45mNone\u001B[0m, \u001B[38;5;34m64\u001B[0m)             │         \u001B[38;5;34m8,256\u001B[0m │\n",
       "├─────────────────────────────────┼────────────────────────┼───────────────┤\n",
       "│ dense_2 (\u001B[38;5;33mDense\u001B[0m)                 │ (\u001B[38;5;45mNone\u001B[0m, \u001B[38;5;34m10\u001B[0m)             │           \u001B[38;5;34m650\u001B[0m │\n",
       "└─────────────────────────────────┴────────────────────────┴───────────────┘\n"
      ],
      "text/html": [
       "<pre style=\"white-space:pre;overflow-x:auto;line-height:normal;font-family:Menlo,'DejaVu Sans Mono',consolas,'Courier New',monospace\">┏━━━━━━━━━━━━━━━━━━━━━━━━━━━━━━━━━┳━━━━━━━━━━━━━━━━━━━━━━━━┳━━━━━━━━━━━━━━━┓\n",
       "┃<span style=\"font-weight: bold\"> Layer (type)                    </span>┃<span style=\"font-weight: bold\"> Output Shape           </span>┃<span style=\"font-weight: bold\">       Param # </span>┃\n",
       "┡━━━━━━━━━━━━━━━━━━━━━━━━━━━━━━━━━╇━━━━━━━━━━━━━━━━━━━━━━━━╇━━━━━━━━━━━━━━━┩\n",
       "│ input_layer (<span style=\"color: #0087ff; text-decoration-color: #0087ff\">InputLayer</span>)        │ (<span style=\"color: #00d7ff; text-decoration-color: #00d7ff\">None</span>, <span style=\"color: #00af00; text-decoration-color: #00af00\">784</span>)            │             <span style=\"color: #00af00; text-decoration-color: #00af00\">0</span> │\n",
       "├─────────────────────────────────┼────────────────────────┼───────────────┤\n",
       "│ dense (<span style=\"color: #0087ff; text-decoration-color: #0087ff\">Dense</span>)                   │ (<span style=\"color: #00d7ff; text-decoration-color: #00d7ff\">None</span>, <span style=\"color: #00af00; text-decoration-color: #00af00\">128</span>)            │       <span style=\"color: #00af00; text-decoration-color: #00af00\">100,480</span> │\n",
       "├─────────────────────────────────┼────────────────────────┼───────────────┤\n",
       "│ dense_1 (<span style=\"color: #0087ff; text-decoration-color: #0087ff\">Dense</span>)                 │ (<span style=\"color: #00d7ff; text-decoration-color: #00d7ff\">None</span>, <span style=\"color: #00af00; text-decoration-color: #00af00\">64</span>)             │         <span style=\"color: #00af00; text-decoration-color: #00af00\">8,256</span> │\n",
       "├─────────────────────────────────┼────────────────────────┼───────────────┤\n",
       "│ dense_2 (<span style=\"color: #0087ff; text-decoration-color: #0087ff\">Dense</span>)                 │ (<span style=\"color: #00d7ff; text-decoration-color: #00d7ff\">None</span>, <span style=\"color: #00af00; text-decoration-color: #00af00\">10</span>)             │           <span style=\"color: #00af00; text-decoration-color: #00af00\">650</span> │\n",
       "└─────────────────────────────────┴────────────────────────┴───────────────┘\n",
       "</pre>\n"
      ]
     },
     "metadata": {},
     "output_type": "display_data"
    },
    {
     "data": {
      "text/plain": [
       "\u001B[1m Total params: \u001B[0m\u001B[38;5;34m109,386\u001B[0m (427.29 KB)\n"
      ],
      "text/html": [
       "<pre style=\"white-space:pre;overflow-x:auto;line-height:normal;font-family:Menlo,'DejaVu Sans Mono',consolas,'Courier New',monospace\"><span style=\"font-weight: bold\"> Total params: </span><span style=\"color: #00af00; text-decoration-color: #00af00\">109,386</span> (427.29 KB)\n",
       "</pre>\n"
      ]
     },
     "metadata": {},
     "output_type": "display_data"
    },
    {
     "data": {
      "text/plain": [
       "\u001B[1m Trainable params: \u001B[0m\u001B[38;5;34m109,386\u001B[0m (427.29 KB)\n"
      ],
      "text/html": [
       "<pre style=\"white-space:pre;overflow-x:auto;line-height:normal;font-family:Menlo,'DejaVu Sans Mono',consolas,'Courier New',monospace\"><span style=\"font-weight: bold\"> Trainable params: </span><span style=\"color: #00af00; text-decoration-color: #00af00\">109,386</span> (427.29 KB)\n",
       "</pre>\n"
      ]
     },
     "metadata": {},
     "output_type": "display_data"
    },
    {
     "data": {
      "text/plain": [
       "\u001B[1m Non-trainable params: \u001B[0m\u001B[38;5;34m0\u001B[0m (0.00 B)\n"
      ],
      "text/html": [
       "<pre style=\"white-space:pre;overflow-x:auto;line-height:normal;font-family:Menlo,'DejaVu Sans Mono',consolas,'Courier New',monospace\"><span style=\"font-weight: bold\"> Non-trainable params: </span><span style=\"color: #00af00; text-decoration-color: #00af00\">0</span> (0.00 B)\n",
       "</pre>\n"
      ]
     },
     "metadata": {},
     "output_type": "display_data"
    }
   ],
   "execution_count": 8
  },
  {
   "metadata": {},
   "cell_type": "markdown",
   "source": "",
   "id": "86eae00897232ccc"
  },
  {
   "metadata": {},
   "cell_type": "markdown",
   "source": "",
   "id": "286baf0f3f764d02"
  },
  {
   "cell_type": "markdown",
   "id": "142bc8b2-960a-416b-a572-a23e1fc185e0",
   "metadata": {},
   "source": [
    "## 4. Train the model"
   ]
  },
  {
   "cell_type": "markdown",
   "id": "e24f3bc6-1b42-40f7-9c16-8ac2d1ae7267",
   "metadata": {},
   "source": [
    "We train the model for 5 epochs, with a batch size of 32 (feel free to try other values). We take 10% of the training dataset for validation data."
   ]
  },
  {
   "metadata": {},
   "cell_type": "markdown",
   "source": [
    "In neural networks, a **batch** is a subset of the training data processed at once during each step of model training. Batches allow us to train the model incrementally rather than processing the entire dataset in memory, which would be slow and potentially impractical for large datasets.\n",
    "\n",
    "Here's a breakdown of why **batches** are used and why setting `batch_size=32` is common:\n",
    "\n",
    "### What is a Batch?\n",
    "- When training, we often can't load all the data at once, especially for large datasets. Instead, we split the data into batches.\n",
    "- Each **batch** is used to compute a single update to the model's weights.\n",
    "- For example, if you have 10,000 training samples and a `batch_size` of 32, the model will train on 32 samples at a time, resulting in 313 steps (10,000 / 32) per epoch.\n",
    "\n",
    "### Why Use Batches?\n",
    "1. **Efficiency**: Processing a batch is faster than processing all data in memory.\n",
    "2. **Memory Limitations**: It allows training on large datasets without needing to load all data into memory.\n",
    "3. **Gradient Estimation**: Batches provide a more stable and smooth gradient update than single-sample updates, leading to faster convergence.\n",
    "\n",
    "### Why `batch_size=32`?\n",
    "Setting a `batch_size` to 32 is a popular choice because it provides a good balance between:\n",
    "1. **Convergence Speed**: Smaller batches provide more frequent updates but increase computational overhead; larger batches make updates less frequent but can slow down convergence.\n",
    "2. **Memory Efficiency**: 32 is often small enough to fit comfortably into memory (especially GPU memory) without slowing down computation too much.\n",
    "3. **Empirical Success**: Many experiments show that batch sizes around 32–64 give good generalization and stability in training across various types of neural networks.\n",
    "\n",
    "### How `batch_size` Affects Training\n",
    "- **Small Batch Sizes** (e.g., 1-16): More frequent updates; can improve convergence but might be noisier.\n",
    "- **Larger Batch Sizes** (e.g., 64-512): Smoother updates and often faster per-batch processing but can require more memory and may reduce model generalization if too large.\n",
    "\n",
    "In practice, `batch_size=32` often balances these trade-offs well, but you can experiment with batch sizes depending on your hardware and dataset size.\n",
    "\n",
    "To calculate the number of batches, you can use the formula:\n",
    "\n",
    "\\[\n",
    "\\text{Number of Batches} = \\frac{\\text{Total Samples}}{\\text{Batch Size}}\n",
    "\\]\n",
    "\n",
    "For example, if you have 100,000 test samples and you're using a batch size of 32, the number of batches would be:\n",
    "\n",
    "\\[\n",
    "\\text{Number of Batches} = \\frac{100,000}{32} \\approx 3125 \\text{ batches}\n",
    "\\]\n",
    "\n",
    "This means that the model will process 32 test samples at a time in 3125 steps to complete the evaluation on the entire test set. \n",
    "\n",
    "If the total number of samples isn't a perfect multiple of the batch size (for instance, if you have 100,000 samples but use a batch size of 33), there will be one last batch with fewer than 33 samples, so the model might process slightly fewer samples in the last batch."
   ],
   "id": "c6383e3ed65fd27e"
  },
  {
   "cell_type": "code",
   "id": "c8dc4fe6-ba7b-4428-a8df-11abf2724b58",
   "metadata": {
    "ExecuteTime": {
     "end_time": "2024-11-06T02:19:18.993999Z",
     "start_time": "2024-11-06T02:18:57.092891Z"
    }
   },
   "source": [
    "\"\"\"\n",
    "\n",
    "\"\"\"\n",
    "# train the model\n",
    "history = model.fit(\n",
    "    x_train_norm, # training input\n",
    "    y_train_onehot, # training targets\n",
    "    epochs=5,\n",
    "    batch_size=32,\n",
    "    validation_split=0.1,\n",
    ")\n",
    "# plot loss function\n",
    "plot_loss(history)"
   ],
   "outputs": [
    {
     "name": "stdout",
     "output_type": "stream",
     "text": [
      "Epoch 1/5\n"
     ]
    },
    {
     "name": "stderr",
     "output_type": "stream",
     "text": [
      "2024-11-06 03:18:57.660964: W external/local_tsl/tsl/framework/cpu_allocator_impl.cc:83] Allocation of 169344000 exceeds 10% of free system memory.\n"
     ]
    },
    {
     "name": "stdout",
     "output_type": "stream",
     "text": [
      "\u001B[1m1688/1688\u001B[0m \u001B[32m━━━━━━━━━━━━━━━━━━━━\u001B[0m\u001B[37m\u001B[0m \u001B[1m6s\u001B[0m 2ms/step - accuracy: 0.8693 - loss: 0.4492 - val_accuracy: 0.9700 - val_loss: 0.1110\n",
      "Epoch 2/5\n",
      "\u001B[1m1688/1688\u001B[0m \u001B[32m━━━━━━━━━━━━━━━━━━━━\u001B[0m\u001B[37m\u001B[0m \u001B[1m4s\u001B[0m 2ms/step - accuracy: 0.9678 - loss: 0.1059 - val_accuracy: 0.9742 - val_loss: 0.0820\n",
      "Epoch 3/5\n",
      "\u001B[1m1688/1688\u001B[0m \u001B[32m━━━━━━━━━━━━━━━━━━━━\u001B[0m\u001B[37m\u001B[0m \u001B[1m4s\u001B[0m 2ms/step - accuracy: 0.9783 - loss: 0.0692 - val_accuracy: 0.9735 - val_loss: 0.0873\n",
      "Epoch 4/5\n",
      "\u001B[1m1688/1688\u001B[0m \u001B[32m━━━━━━━━━━━━━━━━━━━━\u001B[0m\u001B[37m\u001B[0m \u001B[1m4s\u001B[0m 2ms/step - accuracy: 0.9839 - loss: 0.0499 - val_accuracy: 0.9770 - val_loss: 0.0894\n",
      "Epoch 5/5\n",
      "\u001B[1m1688/1688\u001B[0m \u001B[32m━━━━━━━━━━━━━━━━━━━━\u001B[0m\u001B[37m\u001B[0m \u001B[1m4s\u001B[0m 2ms/step - accuracy: 0.9871 - loss: 0.0389 - val_accuracy: 0.9763 - val_loss: 0.0871\n",
      "\n",
      "\n",
      "History.history:\n",
      " {'accuracy': [0.924740731716156, 0.9685925841331482, 0.9770185351371765, 0.9825555682182312, 0.9861111044883728], 'loss': [0.25576499104499817, 0.10339012742042542, 0.07337991148233414, 0.053427789360284805, 0.04289006441831589], 'val_accuracy': [0.9700000286102295, 0.9741666913032532, 0.9735000133514404, 0.9769999980926514, 0.9763333201408386], 'val_loss': [0.11100468039512634, 0.081981360912323, 0.08726620674133301, 0.0893658921122551, 0.08714385330677032]}\n"
     ]
    },
    {
     "data": {
      "text/plain": [
       "<Figure size 640x480 with 1 Axes>"
      ],
      "image/png": "[encoded data removed]"
     },
     "metadata": {},
     "output_type": "display_data"
    }
   ],
   "execution_count": 9
  },
  {
   "cell_type": "markdown",
   "id": "c6aebe62-636c-4d78-9da8-7ab2f95bfec2",
   "metadata": {},
   "source": [
    "## 5. Evaluate the model"
   ]
  },
  {
   "cell_type": "markdown",
   "id": "3f01b41e-f5a7-40ce-8b11-0b4d91c8677b",
   "metadata": {},
   "source": [
    "Now we evaluate our model with the test data, which has not been used during training. Have a look at the accuracy score."
   ]
  },
  {
   "cell_type": "code",
   "id": "5e725d5a-386d-41a7-ae2e-a80456d0288a",
   "metadata": {
    "ExecuteTime": {
     "end_time": "2024-11-06T02:19:36.794145Z",
     "start_time": "2024-11-06T02:19:36.208594Z"
    }
   },
   "source": [
    "# evaluate\n",
    "model.evaluate(x_test_norm,y_test_onehot)\n",
    "\n",
    "\"\"\"\n",
    "The difference between the array `[0.0802, 0.9758]` and the progress data (`accuracy: 0.9735 - loss: 0.0912`) is due to the way **evaluation is reported** at different stages:\n",
    "\n",
    "1. **Array Output `[0.0802, 0.9758]`**:\n",
    "   - This is the final evaluation result output by `model.evaluate()` after running the evaluation on the entire test set.\n",
    "   - It calculates the cumulative loss and accuracy over all test batches and provides a single summary result.\n",
    "\n",
    "2. **Progress Data `accuracy: 0.9735 - loss: 0.0912`**:\n",
    "   - This is shown during the evaluation, as batches are processed one at a time.\n",
    "   - The accuracy and loss values reported at this stage may vary slightly because they are estimates based on the average performance over batches processed up to that point.\n",
    "   - These values can change slightly at each batch, especially with very large datasets or small batch sizes, which means they might differ from the final values.\n",
    "\n",
    "The final summary values may vary slightly from the progress report because of these minor batch-by-batch fluctuations. However, with larger datasets and smaller batch sizes, these differences usually become smaller.\"\"\""
   ],
   "outputs": [
    {
     "name": "stdout",
     "output_type": "stream",
     "text": [
      "\u001B[1m313/313\u001B[0m \u001B[32m━━━━━━━━━━━━━━━━━━━━\u001B[0m\u001B[37m\u001B[0m \u001B[1m0s\u001B[0m 1ms/step - accuracy: 0.9735 - loss: 0.0912\n"
     ]
    },
    {
     "data": {
      "text/plain": [
       "[0.08020340651273727, 0.9757999777793884]"
      ]
     },
     "execution_count": 10,
     "metadata": {},
     "output_type": "execute_result"
    }
   ],
   "execution_count": 10
  },
  {
   "cell_type": "markdown",
   "id": "649fd2ac-2e1f-4509-9823-cbf0b8b8f9fa",
   "metadata": {},
   "source": [
    "## 6. Use the model to predict"
   ]
  },
  {
   "cell_type": "markdown",
   "id": "bb90d31c-faff-4aed-8629-122bf1a0dda7",
   "metadata": {},
   "source": [
    "We can start using the model to predict hand written digits. Here we predict the first 2 digits of the test dataset. The output of the model are probabilities. Look at the probabilities that the first digit is 7 and the second is a 2."
   ]
  },
  {
   "cell_type": "code",
   "id": "5c76d361-deb4-45b5-a90a-a949e234659f",
   "metadata": {
    "ExecuteTime": {
     "end_time": "2024-11-05T23:36:08.632772Z",
     "start_time": "2024-11-05T23:36:08.324786Z"
    }
   },
   "source": [
    "# predict \n",
    "predicted = model.predict(x_test_norm[:2])\n",
    "print(predicted)\n",
    "# what it should be\n",
    "print(y_test[:2])"
   ],
   "outputs": [
    {
     "name": "stdout",
     "output_type": "stream",
     "text": [
      "\u001B[1m1/1\u001B[0m \u001B[32m━━━━━━━━━━━━━━━━━━━━\u001B[0m\u001B[37m\u001B[0m \u001B[1m0s\u001B[0m 85ms/step\n",
      "[[2.1493253e-07 6.3981761e-06 1.8519706e-05 3.9097731e-04 2.7486275e-11\n",
      "  9.8001607e-08 6.1098121e-10 9.9957937e-01 9.6807821e-07 3.4237041e-06]\n",
      " [2.1877415e-12 1.4366253e-04 9.9985588e-01 3.6585291e-07 8.6217757e-13\n",
      "  2.5770968e-08 8.8129974e-09 3.7152982e-11 2.9960489e-08 5.5585733e-13]]\n",
      "[7 2]\n"
     ]
    }
   ],
   "execution_count": 44
  }
 ],
 "metadata": {
  "kernelspec": {
   "display_name": "Python 3 (ipykernel)",
   "language": "python",
   "name": "python3"
  },
  "language_info": {
   "codemirror_mode": {
    "name": "ipython",
    "version": 3
   },
   "file_extension": ".py",
   "mimetype": "text/x-python",
   "name": "python",
   "nbconvert_exporter": "python",
   "pygments_lexer": "ipython3",
   "version": "3.11.7"
  }
 },
 "nbformat": 4,
 "nbformat_minor": 5
}
