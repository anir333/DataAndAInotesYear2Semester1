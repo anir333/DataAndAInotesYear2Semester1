{
 "cells": [
  {
   "cell_type": "markdown",
   "id": "484216da-282d-461c-9078-c4d557cf67c7",
   "metadata": {},
   "source": [
    "# Neural Networks - Classification"
   ]
  },
  {
   "cell_type": "markdown",
   "id": "581cbdef-b701-479e-87f6-66699e8f078f",
   "metadata": {},
   "source": [
    "In this tutorial, we will create a classification model, that predicts the value (0 to 9) from a picture with a handwritten digit."
   ]
  },
  {
   "cell_type": "markdown",
   "id": "4786d414-cdcb-427a-8a36-fc58f9d64980",
   "metadata": {},
   "source": [
    "## 0. Import python modules"
   ]
  },
  {
   "cell_type": "markdown",
   "id": "7ec66edb-1466-44f5-9e37-478155c6db5d",
   "metadata": {},
   "source": [
    "We will use the Tensoflow/Keras framework for neural network machine learning."
   ]
  },
  {
   "cell_type": "code",
   "execution_count": 11,
   "id": "890c2b95-d7d0-4718-821e-7cf4949b5dd6",
   "metadata": {},
   "outputs": [],
   "source": [
    "import matplotlib.pyplot as plt\n",
    "from sklearn.preprocessing import MinMaxScaler\n",
    "from tensorflow.keras.datasets import mnist\n",
    "from tensorflow.keras import Model\n",
    "from tensorflow.keras.layers import Input, Dense\n",
    "from tensorflow.keras.utils import to_categorical\n",
    "from tensorflow.keras.optimizers import Adam\n",
    "from plot_loss import plot_loss # own function in plot_loss.py"
   ]
  },
  {
   "cell_type": "markdown",
   "id": "22b80276-a1f4-4ea9-96e1-f3abde11206a",
   "metadata": {
    "tags": []
   },
   "source": [
    "## 1. Load the dataset"
   ]
  },
  {
   "cell_type": "markdown",
   "id": "105aea76-8652-4490-a9fd-a412bdc07b9b",
   "metadata": {},
   "source": [
    "The goal is to make a model that can recognize handwritten digits. We make use of the MNIST dataset, which is a well-known dataset of handwritten digits: https://www.tensorflow.org/datasets/catalog/mnist. The training dataset has 60000 images, the test dataset 10000. Images are grayscale and have a size of 28x28 pixels. Each pixel has a value between 0 (black) and 255 (white). The dataset is already split into train and test, so we do not have to do this ourselves. In case this is not yet done, the `train_test_split` function of `sklearn.model_selection` can be used (`from sklearn.model_selection import train_test_split`)."
   ]
  },
  {
   "cell_type": "code",
   "execution_count": 2,
   "id": "352d967d",
   "metadata": {
    "collapsed": false,
    "jupyter": {
     "outputs_hidden": false
    }
   },
   "outputs": [
    {
     "name": "stdout",
     "output_type": "stream",
     "text": [
      "(60000, 28, 28)\n",
      "(60000,)\n"
     ]
    }
   ],
   "source": [
    "# Load the training and test dataset\n",
    "(x_train, y_train), (x_test, y_test) = mnist.load_data()\n",
    "# 60000 training images with 28x28 pixels\n",
    "print(x_train.shape)\n",
    "print(y_train.shape)"
   ]
  },
  {
   "cell_type": "markdown",
   "id": "109b693b-823b-4cd4-8ab3-0df66ef26c5e",
   "metadata": {},
   "source": [
    "x_train and x_test are 3-dimensional arrays used as input for the model. We can look at the first training image. This is a 2-dimensional array of 28 by 28. The y-values are the class the model should predict, it is a 1-dimensional array with a number 0 to 9."
   ]
  },
  {
   "cell_type": "code",
   "execution_count": 3,
   "id": "b6e91eef-7efa-4352-9146-6651579b5749",
   "metadata": {},
   "outputs": [
    {
     "name": "stdout",
     "output_type": "stream",
     "text": [
      "5\n",
      "[[  0   0   0   0   0   0   0   0   0   0   0   0   0   0   0   0   0   0\n",
      "    0   0   0   0   0   0   0   0   0   0]\n",
      " [  0   0   0   0   0   0   0   0   0   0   0   0   0   0   0   0   0   0\n",
      "    0   0   0   0   0   0   0   0   0   0]\n",
      " [  0   0   0   0   0   0   0   0   0   0   0   0   0   0   0   0   0   0\n",
      "    0   0   0   0   0   0   0   0   0   0]\n",
      " [  0   0   0   0   0   0   0   0   0   0   0   0   0   0   0   0   0   0\n",
      "    0   0   0   0   0   0   0   0   0   0]\n",
      " [  0   0   0   0   0   0   0   0   0   0   0   0   0   0   0   0   0   0\n",
      "    0   0   0   0   0   0   0   0   0   0]\n",
      " [  0   0   0   0   0   0   0   0   0   0   0   0   3  18  18  18 126 136\n",
      "  175  26 166 255 247 127   0   0   0   0]\n",
      " [  0   0   0   0   0   0   0   0  30  36  94 154 170 253 253 253 253 253\n",
      "  225 172 253 242 195  64   0   0   0   0]\n",
      " [  0   0   0   0   0   0   0  49 238 253 253 253 253 253 253 253 253 251\n",
      "   93  82  82  56  39   0   0   0   0   0]\n",
      " [  0   0   0   0   0   0   0  18 219 253 253 253 253 253 198 182 247 241\n",
      "    0   0   0   0   0   0   0   0   0   0]\n",
      " [  0   0   0   0   0   0   0   0  80 156 107 253 253 205  11   0  43 154\n",
      "    0   0   0   0   0   0   0   0   0   0]\n",
      " [  0   0   0   0   0   0   0   0   0  14   1 154 253  90   0   0   0   0\n",
      "    0   0   0   0   0   0   0   0   0   0]\n",
      " [  0   0   0   0   0   0   0   0   0   0   0 139 253 190   2   0   0   0\n",
      "    0   0   0   0   0   0   0   0   0   0]\n",
      " [  0   0   0   0   0   0   0   0   0   0   0  11 190 253  70   0   0   0\n",
      "    0   0   0   0   0   0   0   0   0   0]\n",
      " [  0   0   0   0   0   0   0   0   0   0   0   0  35 241 225 160 108   1\n",
      "    0   0   0   0   0   0   0   0   0   0]\n",
      " [  0   0   0   0   0   0   0   0   0   0   0   0   0  81 240 253 253 119\n",
      "   25   0   0   0   0   0   0   0   0   0]\n",
      " [  0   0   0   0   0   0   0   0   0   0   0   0   0   0  45 186 253 253\n",
      "  150  27   0   0   0   0   0   0   0   0]\n",
      " [  0   0   0   0   0   0   0   0   0   0   0   0   0   0   0  16  93 252\n",
      "  253 187   0   0   0   0   0   0   0   0]\n",
      " [  0   0   0   0   0   0   0   0   0   0   0   0   0   0   0   0   0 249\n",
      "  253 249  64   0   0   0   0   0   0   0]\n",
      " [  0   0   0   0   0   0   0   0   0   0   0   0   0   0  46 130 183 253\n",
      "  253 207   2   0   0   0   0   0   0   0]\n",
      " [  0   0   0   0   0   0   0   0   0   0   0   0  39 148 229 253 253 253\n",
      "  250 182   0   0   0   0   0   0   0   0]\n",
      " [  0   0   0   0   0   0   0   0   0   0  24 114 221 253 253 253 253 201\n",
      "   78   0   0   0   0   0   0   0   0   0]\n",
      " [  0   0   0   0   0   0   0   0  23  66 213 253 253 253 253 198  81   2\n",
      "    0   0   0   0   0   0   0   0   0   0]\n",
      " [  0   0   0   0   0   0  18 171 219 253 253 253 253 195  80   9   0   0\n",
      "    0   0   0   0   0   0   0   0   0   0]\n",
      " [  0   0   0   0  55 172 226 253 253 253 253 244 133  11   0   0   0   0\n",
      "    0   0   0   0   0   0   0   0   0   0]\n",
      " [  0   0   0   0 136 253 253 253 212 135 132  16   0   0   0   0   0   0\n",
      "    0   0   0   0   0   0   0   0   0   0]\n",
      " [  0   0   0   0   0   0   0   0   0   0   0   0   0   0   0   0   0   0\n",
      "    0   0   0   0   0   0   0   0   0   0]\n",
      " [  0   0   0   0   0   0   0   0   0   0   0   0   0   0   0   0   0   0\n",
      "    0   0   0   0   0   0   0   0   0   0]\n",
      " [  0   0   0   0   0   0   0   0   0   0   0   0   0   0   0   0   0   0\n",
      "    0   0   0   0   0   0   0   0   0   0]]\n"
     ]
    },
    {
     "data": {
      "text/plain": [
       "<matplotlib.image.AxesImage at 0x28fb48f60d0>"
      ]
     },
     "execution_count": 3,
     "metadata": {},
     "output_type": "execute_result"
    },
    {
     "data": {
      "image/png": "[encoded data removed]",
      "text/plain": [
       "<Figure size 640x480 with 1 Axes>"
      ]
     },
     "metadata": {},
     "output_type": "display_data"
    }
   ],
   "source": [
    "# y value of the first image (= class the model should predict)\n",
    "print(y_train[0])\n",
    "# x value (= input for the model)\n",
    "print(x_train[0])\n",
    "plt.imshow(x_train[0], cmap='gray', vmin=0, vmax=255)"
   ]
  },
  {
   "cell_type": "markdown",
   "id": "ea372295-6e64-4146-8d94-3a5c9e7f5aff",
   "metadata": {},
   "source": [
    "## 2. Data transformation and normalisation"
   ]
  },
  {
   "cell_type": "markdown",
   "id": "517cdb10-5430-465e-8d08-d83a986d3968",
   "metadata": {},
   "source": [
    "The input for our neural network with dense layers is a 2-dimensional array. The first dimension is the number of the sample. The second dimension is the number of the input node. So the 2-dimensional images need to be converted to a 1-dimensional array fitting the input layer of our model."
   ]
  },
  {
   "cell_type": "code",
   "execution_count": 4,
   "id": "655fd9b2-b467-4f1d-86c2-e3a609d81f15",
   "metadata": {},
   "outputs": [
    {
     "name": "stdout",
     "output_type": "stream",
     "text": [
      "(60000, 784)\n"
     ]
    }
   ],
   "source": [
    "# transform the 2D-images to 1D-arrays (28 x 28 = 784)\n",
    "x_train = x_train.reshape((-1, 784))   # or x_train.reshape((60000, 784))\n",
    "x_test = x_test.reshape((-1, 784))\n",
    "print(x_train.shape)"
   ]
  },
  {
   "cell_type": "markdown",
   "id": "d1bc4f11-7910-4b85-b653-e116188ad186",
   "metadata": {},
   "source": [
    "Now we normalize the input samples using min-max normalisation to get values between 0 and 1. We use the `MinMaxScaler` from `sklearn.preprocessing`. As we know the maximum value is 255, we could also just divide by 255."
   ]
  },
  {
   "cell_type": "code",
   "execution_count": 5,
   "id": "9407e513-27d4-42d3-b4aa-5cfc036cdf02",
   "metadata": {},
   "outputs": [],
   "source": [
    "# scale input\n",
    "scaler = MinMaxScaler()\n",
    "x_train_norm = scaler.fit_transform(x_train)\n",
    "x_test_norm = scaler.transform(x_test)    # no fit, so that same scaling is used"
   ]
  },
  {
   "cell_type": "markdown",
   "id": "af8b98f5-2808-44b8-af08-2da4d92a5bdd",
   "metadata": {},
   "source": [
    "Now we use one-hot encoding for the output. This means that the model will output 10 probabilities (probability that digit is 0, ..., probability that digit is 9). We use the `to_categorical` function from `tensorflow.keras.utils`. In case the dataset is a pandas dateframe, the `pd.get_dummies` function can be used."
   ]
  },
  {
   "cell_type": "code",
   "execution_count": 6,
   "id": "cef2a63d-fd10-4249-8bf3-cf75cafb0bde",
   "metadata": {},
   "outputs": [
    {
     "name": "stdout",
     "output_type": "stream",
     "text": [
      "(60000, 10)\n",
      "[0. 0. 0. 0. 0. 1. 0. 0. 0. 0.]\n"
     ]
    }
   ],
   "source": [
    "# one-hot encoding for output\n",
    "y_train_onehot = to_categorical(y_train)\n",
    "y_test_onehot = to_categorical(y_test)\n",
    "print(y_train_onehot.shape)\n",
    "print(y_train_onehot[0])"
   ]
  },
  {
   "cell_type": "markdown",
   "id": "81c1b2e8-6b3f-4d84-b4cc-29f1bf777fee",
   "metadata": {},
   "source": [
    "## 3. Define the model"
   ]
  },
  {
   "cell_type": "markdown",
   "id": "5391978a-997a-4a61-9625-dd6ada2cef62",
   "metadata": {},
   "source": [
    "##### The input layer has 784 nodes (28 x 28). We choose 2 hidden layers with 128 and 64 nodes and a `relu` activation function (feel free to try other values/functions). The output layer has 10 nodes corresponding to the one-hot encoding vector size. The activation function of the output layer is important. As the output are 10 probabilities, the sum of them must be 1. The `softmax` activation function is enforcing this. We choose Adam as optimizer with a learning rate of `0.001`. The loss is the `categorical_crossentropy` loss which is used for classification models using one-hot encoding as output (and so used together with the `softmax` activation function). We also define a `accuracy` metric."
   ]
  },
  {
   "cell_type": "code",
   "execution_count": 7,
   "id": "22c9d78c-aeeb-4cd7-9592-761f9d5e1e3b",
   "metadata": {},
   "outputs": [
    {
     "name": "stdout",
     "output_type": "stream",
     "text": [
      "WARNING:tensorflow:From C:\\Users\\depaepeg\\OneDrive - KdG\\Cursussen\\04. Data Science 2\\Py\\pyvenv\\Lib\\site-packages\\keras\\src\\backend.py:1398: The name tf.executing_eagerly_outside_functions is deprecated. Please use tf.compat.v1.executing_eagerly_outside_functions instead.\n",
      "\n",
      "Model: \"MNIST\"\n",
      "_________________________________________________________________\n",
      " Layer (type)                Output Shape              Param #   \n",
      "=================================================================\n",
      " input_1 (InputLayer)        [(None, 784)]             0         \n",
      "                                                                 \n",
      " dense (Dense)               (None, 128)               100480    \n",
      "                                                                 \n",
      " dense_1 (Dense)             (None, 64)                8256      \n",
      "                                                                 \n",
      " dense_2 (Dense)             (None, 10)                650       \n",
      "                                                                 \n",
      "=================================================================\n",
      "Total params: 109386 (427.29 KB)\n",
      "Trainable params: 109386 (427.29 KB)\n",
      "Non-trainable params: 0 (0.00 Byte)\n",
      "_________________________________________________________________\n"
     ]
    }
   ],
   "source": [
    "# input layer 784 nodes\n",
    "inputs = Input(shape=(784,))\n",
    "# 2 hidden layers\n",
    "x = Dense(128, activation='relu')(inputs)\n",
    "x = Dense(64, activation='relu')(x)\n",
    "# output layer\n",
    "outputs = Dense(10, activation='softmax')(x)\n",
    "# construct the model\n",
    "model = Model(inputs, outputs, name='MNIST')\n",
    "# print a summary\n",
    "model.summary()\n",
    "# compile the model\n",
    "model.compile(\n",
    "    optimizer=Adam(learning_rate=0.001),\n",
    "    loss='categorical_crossentropy',\n",
    "    metrics=['accuracy']\n",
    ")"
   ]
  },
  {
   "cell_type": "markdown",
   "id": "142bc8b2-960a-416b-a572-a23e1fc185e0",
   "metadata": {},
   "source": [
    "## 4. Train the model"
   ]
  },
  {
   "cell_type": "markdown",
   "id": "e24f3bc6-1b42-40f7-9c16-8ac2d1ae7267",
   "metadata": {},
   "source": [
    "We train the model for 5 epochs, with a batch size of 32 (feel free to try other values). We take 10% of the training dataset for validation data."
   ]
  },
  {
   "cell_type": "code",
   "execution_count": 8,
   "id": "c8dc4fe6-ba7b-4428-a8df-11abf2724b58",
   "metadata": {},
   "outputs": [
    {
     "name": "stdout",
     "output_type": "stream",
     "text": [
      "Epoch 1/5\n",
      "WARNING:tensorflow:From C:\\Users\\depaepeg\\OneDrive - KdG\\Cursussen\\04. Data Science 2\\Py\\pyvenv\\Lib\\site-packages\\keras\\src\\utils\\tf_utils.py:492: The name tf.ragged.RaggedTensorValue is deprecated. Please use tf.compat.v1.ragged.RaggedTensorValue instead.\n",
      "\n",
      "WARNING:tensorflow:From C:\\Users\\depaepeg\\OneDrive - KdG\\Cursussen\\04. Data Science 2\\Py\\pyvenv\\Lib\\site-packages\\keras\\src\\engine\\base_layer_utils.py:384: The name tf.executing_eagerly_outside_functions is deprecated. Please use tf.compat.v1.executing_eagerly_outside_functions instead.\n",
      "\n",
      "1688/1688 [==============================] - 7s 4ms/step - loss: 0.2506 - accuracy: 0.9265 - val_loss: 0.1068 - val_accuracy: 0.9698\n",
      "Epoch 2/5\n",
      "1688/1688 [==============================] - 6s 3ms/step - loss: 0.1080 - accuracy: 0.9675 - val_loss: 0.0894 - val_accuracy: 0.9730\n",
      "Epoch 3/5\n",
      "1688/1688 [==============================] - 6s 4ms/step - loss: 0.0738 - accuracy: 0.9773 - val_loss: 0.0872 - val_accuracy: 0.9738\n",
      "Epoch 4/5\n",
      "1688/1688 [==============================] - 6s 4ms/step - loss: 0.0569 - accuracy: 0.9824 - val_loss: 0.0840 - val_accuracy: 0.9762\n",
      "Epoch 5/5\n",
      "1688/1688 [==============================] - 6s 4ms/step - loss: 0.0442 - accuracy: 0.9859 - val_loss: 0.0788 - val_accuracy: 0.9798\n"
     ]
    },
    {
     "data": {
      "image/png": "[encoded data removed]",
      "text/plain": [
       "<Figure size 640x480 with 1 Axes>"
      ]
     },
     "metadata": {},
     "output_type": "display_data"
    }
   ],
   "source": [
    "# train the model\n",
    "history = model.fit(\n",
    "    x_train_norm, # training input\n",
    "    y_train_onehot, # training targets\n",
    "    epochs=5,\n",
    "    batch_size=32,\n",
    "    validation_split=0.1,\n",
    ")\n",
    "# plot loss function\n",
    "plot_loss(history)"
   ]
  },
  {
   "cell_type": "markdown",
   "id": "c6aebe62-636c-4d78-9da8-7ab2f95bfec2",
   "metadata": {},
   "source": [
    "## 5. Evaluate the model"
   ]
  },
  {
   "cell_type": "markdown",
   "id": "3f01b41e-f5a7-40ce-8b11-0b4d91c8677b",
   "metadata": {},
   "source": [
    "Now we evaluate our model with the test data, which has not been used during training. Have a look at the accuracy score."
   ]
  },
  {
   "cell_type": "code",
   "execution_count": 9,
   "id": "5e725d5a-386d-41a7-ae2e-a80456d0288a",
   "metadata": {},
   "outputs": [
    {
     "name": "stdout",
     "output_type": "stream",
     "text": [
      "313/313 [==============================] - 1s 2ms/step - loss: 0.0870 - accuracy: 0.9754\n"
     ]
    },
    {
     "data": {
      "text/plain": [
       "[0.0870032012462616, 0.9753999710083008]"
      ]
     },
     "execution_count": 9,
     "metadata": {},
     "output_type": "execute_result"
    }
   ],
   "source": [
    "# evaluate\n",
    "model.evaluate(x_test_norm,y_test_onehot)"
   ]
  },
  {
   "cell_type": "markdown",
   "id": "649fd2ac-2e1f-4509-9823-cbf0b8b8f9fa",
   "metadata": {},
   "source": [
    "## 6. Use the model to predict"
   ]
  },
  {
   "cell_type": "markdown",
   "id": "bb90d31c-faff-4aed-8629-122bf1a0dda7",
   "metadata": {},
   "source": [
    "We can start using the model to predict hand written digits. Here we predict the first 2 digits of the test dataset. The output of the model are probabilities. Look at the probabilities that the first digit is 7 and the second is a 2."
   ]
  },
  {
   "cell_type": "code",
   "execution_count": 10,
   "id": "5c76d361-deb4-45b5-a90a-a949e234659f",
   "metadata": {},
   "outputs": [
    {
     "name": "stdout",
     "output_type": "stream",
     "text": [
      "1/1 [==============================] - 0s 112ms/step\n",
      "[[1.4550492e-09 4.5116542e-09 5.3633535e-06 3.8536659e-06 7.4372534e-13\n",
      "  2.0282801e-11 6.5702803e-13 9.9999082e-01 6.1451426e-09 8.1225187e-09]\n",
      " [1.7954777e-11 6.6611432e-07 9.9999917e-01 1.5489714e-07 4.9530676e-19\n",
      "  4.7079601e-11 2.5922183e-11 4.3653835e-12 1.3727417e-11 4.6882582e-17]]\n",
      "[7 2]\n"
     ]
    }
   ],
   "source": [
    "# predict \n",
    "predicted = model.predict(x_test_norm[:2])\n",
    "print(predicted)\n",
    "# what it should be\n",
    "print(y_test[:2])"
   ]
  }
 ],
 "metadata": {
  "kernelspec": {
   "display_name": "Python 3 (ipykernel)",
   "language": "python",
   "name": "python3"
  },
  "language_info": {
   "codemirror_mode": {
    "name": "ipython",
    "version": 3
   },
   "file_extension": ".py",
   "mimetype": "text/x-python",
   "name": "python",
   "nbconvert_exporter": "python",
   "pygments_lexer": "ipython3",
   "version": "3.11.7"
  }
 },
 "nbformat": 4,
 "nbformat_minor": 5
}
