{
 "cells": [
  {
   "cell_type": "markdown",
   "id": "484216da-282d-461c-9078-c4d557cf67c7",
   "metadata": {},
   "source": [
    "# Neural Networks - Classification"
   ]
  },
  {
   "cell_type": "markdown",
   "id": "581cbdef-b701-479e-87f6-66699e8f078f",
   "metadata": {},
   "source": [
    "In this tutorial, we will create a classification model, that predicts the value (0 to 9) from a picture with a handwritten digit."
   ]
  },
  {
   "cell_type": "markdown",
   "id": "4786d414-cdcb-427a-8a36-fc58f9d64980",
   "metadata": {},
   "source": [
    "## 0. Import python modules"
   ]
  },
  {
   "cell_type": "markdown",
   "id": "7ec66edb-1466-44f5-9e37-478155c6db5d",
   "metadata": {},
   "source": [
    "We will use the Tensoflow/Keras framework for neural network machine learning."
   ]
  },
  {
   "cell_type": "code",
   "id": "890c2b95-d7d0-4718-821e-7cf4949b5dd6",
   "metadata": {
    "ExecuteTime": {
     "end_time": "2024-11-05T16:18:51.941934Z",
     "start_time": "2024-11-05T16:18:51.918709Z"
    }
   },
   "source": [
    "import matplotlib.pyplot as plt\n",
    "from sklearn.preprocessing import MinMaxScaler\n",
    "from tensorflow.keras.datasets import mnist\n",
    "from tensorflow.keras import Model\n",
    "from tensorflow.keras.layers import Input, Dense\n",
    "from tensorflow.keras.utils import to_categorical\n",
    "from tensorflow.keras.optimizers import Adam\n",
    "from plot_loss import plot_loss # own function in plot_loss.py"
   ],
   "outputs": [],
   "execution_count": 8
  },
  {
   "cell_type": "markdown",
   "id": "22b80276-a1f4-4ea9-96e1-f3abde11206a",
   "metadata": {
    "tags": []
   },
   "source": [
    "## 1. Load the dataset"
   ]
  },
  {
   "cell_type": "markdown",
   "id": "105aea76-8652-4490-a9fd-a412bdc07b9b",
   "metadata": {},
   "source": [
    "The goal is to make a model that can recognize handwritten digits. We make use of the MNIST dataset, which is a well-known dataset of handwritten digits: https://www.tensorflow.org/datasets/catalog/mnist. The training dataset has 60000 images, the test dataset 10000. Images are grayscale and have a size of 28x28 pixels. Each pixel has a value between 0 (black) and 255 (white). The dataset is already split into train and test, so we do not have to do this ourselves. In case this is not yet done, the `train_test_split` function of `sklearn.model_selection` can be used (`from sklearn.model_selection import train_test_split`)."
   ]
  },
  {
   "cell_type": "code",
   "id": "352d967d",
   "metadata": {
    "collapsed": false,
    "jupyter": {
     "outputs_hidden": false
    },
    "ExecuteTime": {
     "end_time": "2024-11-05T16:19:02.301443Z",
     "start_time": "2024-11-05T16:19:01.895880Z"
    }
   },
   "source": [
    "# Load the training and test dataset\n",
    "(x_train, y_train), (x_test, y_test) = mnist.load_data()\n",
    "# 60000 training images with 28x28 pixels\n",
    "print(x_train.shape)\n",
    "print(y_train.shape)"
   ],
   "outputs": [
    {
     "name": "stdout",
     "output_type": "stream",
     "text": [
      "(60000, 28, 28)\n",
      "(60000,)\n"
     ]
    }
   ],
   "execution_count": 9
  },
  {
   "cell_type": "markdown",
   "id": "109b693b-823b-4cd4-8ab3-0df66ef26c5e",
   "metadata": {},
   "source": [
    "x_train and x_test are 3-dimensional arrays used as input for the model. We can look at the first training image. This is a 2-dimensional array of 28 by 28. The y-values are the class the model should predict, it is a 1-dimensional array with a number 0 to 9."
   ]
  },
  {
   "cell_type": "code",
   "id": "b6e91eef-7efa-4352-9146-6651579b5749",
   "metadata": {
    "ExecuteTime": {
     "end_time": "2024-11-05T16:19:03.663746Z",
     "start_time": "2024-11-05T16:19:03.422831Z"
    }
   },
   "source": [
    "# y value of the first image (= class the model should predict)\n",
    "print(y_train[0])\n",
    "# x value (= input for the model)\n",
    "print(x_train[0])\n",
    "plt.imshow(x_train[0], cmap='gray', vmin=0, vmax=255)"
   ],
   "outputs": [
    {
     "name": "stdout",
     "output_type": "stream",
     "text": [
      "5\n",
      "[[  0   0   0   0   0   0   0   0   0   0   0   0   0   0   0   0   0   0\n",
      "    0   0   0   0   0   0   0   0   0   0]\n",
      " [  0   0   0   0   0   0   0   0   0   0   0   0   0   0   0   0   0   0\n",
      "    0   0   0   0   0   0   0   0   0   0]\n",
      " [  0   0   0   0   0   0   0   0   0   0   0   0   0   0   0   0   0   0\n",
      "    0   0   0   0   0   0   0   0   0   0]\n",
      " [  0   0   0   0   0   0   0   0   0   0   0   0   0   0   0   0   0   0\n",
      "    0   0   0   0   0   0   0   0   0   0]\n",
      " [  0   0   0   0   0   0   0   0   0   0   0   0   0   0   0   0   0   0\n",
      "    0   0   0   0   0   0   0   0   0   0]\n",
      " [  0   0   0   0   0   0   0   0   0   0   0   0   3  18  18  18 126 136\n",
      "  175  26 166 255 247 127   0   0   0   0]\n",
      " [  0   0   0   0   0   0   0   0  30  36  94 154 170 253 253 253 253 253\n",
      "  225 172 253 242 195  64   0   0   0   0]\n",
      " [  0   0   0   0   0   0   0  49 238 253 253 253 253 253 253 253 253 251\n",
      "   93  82  82  56  39   0   0   0   0   0]\n",
      " [  0   0   0   0   0   0   0  18 219 253 253 253 253 253 198 182 247 241\n",
      "    0   0   0   0   0   0   0   0   0   0]\n",
      " [  0   0   0   0   0   0   0   0  80 156 107 253 253 205  11   0  43 154\n",
      "    0   0   0   0   0   0   0   0   0   0]\n",
      " [  0   0   0   0   0   0   0   0   0  14   1 154 253  90   0   0   0   0\n",
      "    0   0   0   0   0   0   0   0   0   0]\n",
      " [  0   0   0   0   0   0   0   0   0   0   0 139 253 190   2   0   0   0\n",
      "    0   0   0   0   0   0   0   0   0   0]\n",
      " [  0   0   0   0   0   0   0   0   0   0   0  11 190 253  70   0   0   0\n",
      "    0   0   0   0   0   0   0   0   0   0]\n",
      " [  0   0   0   0   0   0   0   0   0   0   0   0  35 241 225 160 108   1\n",
      "    0   0   0   0   0   0   0   0   0   0]\n",
      " [  0   0   0   0   0   0   0   0   0   0   0   0   0  81 240 253 253 119\n",
      "   25   0   0   0   0   0   0   0   0   0]\n",
      " [  0   0   0   0   0   0   0   0   0   0   0   0   0   0  45 186 253 253\n",
      "  150  27   0   0   0   0   0   0   0   0]\n",
      " [  0   0   0   0   0   0   0   0   0   0   0   0   0   0   0  16  93 252\n",
      "  253 187   0   0   0   0   0   0   0   0]\n",
      " [  0   0   0   0   0   0   0   0   0   0   0   0   0   0   0   0   0 249\n",
      "  253 249  64   0   0   0   0   0   0   0]\n",
      " [  0   0   0   0   0   0   0   0   0   0   0   0   0   0  46 130 183 253\n",
      "  253 207   2   0   0   0   0   0   0   0]\n",
      " [  0   0   0   0   0   0   0   0   0   0   0   0  39 148 229 253 253 253\n",
      "  250 182   0   0   0   0   0   0   0   0]\n",
      " [  0   0   0   0   0   0   0   0   0   0  24 114 221 253 253 253 253 201\n",
      "   78   0   0   0   0   0   0   0   0   0]\n",
      " [  0   0   0   0   0   0   0   0  23  66 213 253 253 253 253 198  81   2\n",
      "    0   0   0   0   0   0   0   0   0   0]\n",
      " [  0   0   0   0   0   0  18 171 219 253 253 253 253 195  80   9   0   0\n",
      "    0   0   0   0   0   0   0   0   0   0]\n",
      " [  0   0   0   0  55 172 226 253 253 253 253 244 133  11   0   0   0   0\n",
      "    0   0   0   0   0   0   0   0   0   0]\n",
      " [  0   0   0   0 136 253 253 253 212 135 132  16   0   0   0   0   0   0\n",
      "    0   0   0   0   0   0   0   0   0   0]\n",
      " [  0   0   0   0   0   0   0   0   0   0   0   0   0   0   0   0   0   0\n",
      "    0   0   0   0   0   0   0   0   0   0]\n",
      " [  0   0   0   0   0   0   0   0   0   0   0   0   0   0   0   0   0   0\n",
      "    0   0   0   0   0   0   0   0   0   0]\n",
      " [  0   0   0   0   0   0   0   0   0   0   0   0   0   0   0   0   0   0\n",
      "    0   0   0   0   0   0   0   0   0   0]]\n"
     ]
    },
    {
     "data": {
      "text/plain": [
       "<matplotlib.image.AxesImage at 0x703209c385f0>"
      ]
     },
     "execution_count": 10,
     "metadata": {},
     "output_type": "execute_result"
    },
    {
     "data": {
      "text/plain": [
       "<Figure size 640x480 with 1 Axes>"
      ],
      "image/png": "[encoded data removed]"
     },
     "metadata": {},
     "output_type": "display_data"
    }
   ],
   "execution_count": 10
  },
  {
   "cell_type": "markdown",
   "id": "ea372295-6e64-4146-8d94-3a5c9e7f5aff",
   "metadata": {},
   "source": [
    "## 2. Data transformation and normalisation"
   ]
  },
  {
   "cell_type": "markdown",
   "id": "517cdb10-5430-465e-8d08-d83a986d3968",
   "metadata": {},
   "source": [
    "The input for our neural network with dense layers is a 2-dimensional array. The first dimension is the number of the sample. The second dimension is the number of the input node. So the 2-dimensional images need to be converted to a 1-dimensional array fitting the input layer of our model."
   ]
  },
  {
   "cell_type": "code",
   "id": "655fd9b2-b467-4f1d-86c2-e3a609d81f15",
   "metadata": {
    "ExecuteTime": {
     "end_time": "2024-11-05T16:19:06.619605Z",
     "start_time": "2024-11-05T16:19:06.602660Z"
    }
   },
   "source": [
    "# transform the 2D-images to 1D-arrays (28 x 28 = 784)\n",
    "x_train = x_train.reshape((-1, 784))   # or x_train.reshape((60000, 784))\n",
    "x_test = x_test.reshape((-1, 784))\n",
    "print(x_train.shape)"
   ],
   "outputs": [
    {
     "name": "stdout",
     "output_type": "stream",
     "text": [
      "(60000, 784)\n"
     ]
    }
   ],
   "execution_count": 11
  },
  {
   "cell_type": "markdown",
   "id": "d1bc4f11-7910-4b85-b653-e116188ad186",
   "metadata": {},
   "source": [
    "Now we normalize the input samples using min-max normalisation to get values between 0 and 1. We use the `MinMaxScaler` from `sklearn.preprocessing`. As we know the maximum value is 255, we could also just divide by 255."
   ]
  },
  {
   "cell_type": "code",
   "id": "9407e513-27d4-42d3-b4aa-5cfc036cdf02",
   "metadata": {
    "ExecuteTime": {
     "end_time": "2024-11-05T16:19:09.409978Z",
     "start_time": "2024-11-05T16:19:08.478396Z"
    }
   },
   "source": [
    "# scale input\n",
    "scaler = MinMaxScaler()\n",
    "x_train_norm = scaler.fit_transform(x_train)\n",
    "x_test_norm = scaler.transform(x_test)    # no fit, so that same scaling is used"
   ],
   "outputs": [],
   "execution_count": 12
  },
  {
   "cell_type": "markdown",
   "id": "af8b98f5-2808-44b8-af08-2da4d92a5bdd",
   "metadata": {},
   "source": [
    "Now we use one-hot encoding for the output. This means that the model will output 10 probabilities (probability that digit is 0, ..., probability that digit is 9). We use the `to_categorical` function from `tensorflow.keras.utils`. In case the dataset is a pandas dateframe, the `pd.get_dummies` function can be used."
   ]
  },
  {
   "cell_type": "code",
   "id": "cef2a63d-fd10-4249-8bf3-cf75cafb0bde",
   "metadata": {
    "ExecuteTime": {
     "end_time": "2024-11-05T16:19:11.508367Z",
     "start_time": "2024-11-05T16:19:11.483501Z"
    }
   },
   "source": [
    "# one-hot encoding for output\n",
    "y_train_onehot = to_categorical(y_train)\n",
    "y_test_onehot = to_categorical(y_test)\n",
    "print(y_train_onehot.shape)\n",
    "print(y_train_onehot[0])"
   ],
   "outputs": [
    {
     "name": "stdout",
     "output_type": "stream",
     "text": [
      "(60000, 10)\n",
      "[0. 0. 0. 0. 0. 1. 0. 0. 0. 0.]\n"
     ]
    }
   ],
   "execution_count": 13
  },
  {
   "cell_type": "markdown",
   "id": "81c1b2e8-6b3f-4d84-b4cc-29f1bf777fee",
   "metadata": {},
   "source": [
    "## 3. Define the model"
   ]
  },
  {
   "cell_type": "markdown",
   "id": "5391978a-997a-4a61-9625-dd6ada2cef62",
   "metadata": {},
   "source": [
    "##### The input layer has 784 nodes (28 x 28). We choose 2 hidden layers with 128 and 64 nodes and a `relu` activation function (feel free to try other values/functions). The output layer has 10 nodes corresponding to the one-hot encoding vector size. The activation function of the output layer is important. As the output are 10 probabilities, the sum of them must be 1. The `softmax` activation function is enforcing this. We choose Adam as optimizer with a learning rate of `0.001`. The loss is the `categorical_crossentropy` loss which is used for classification models using one-hot encoding as output (and so used together with the `softmax` activation function). We also define a `accuracy` metric."
   ]
  },
  {
   "cell_type": "code",
   "id": "22c9d78c-aeeb-4cd7-9592-761f9d5e1e3b",
   "metadata": {
    "ExecuteTime": {
     "end_time": "2024-11-05T16:19:15.602650Z",
     "start_time": "2024-11-05T16:19:15.246484Z"
    }
   },
   "source": [
    "# input layer 784 nodes\n",
    "inputs = Input(shape=(784,))\n",
    "# 2 hidden layers\n",
    "x = Dense(128, activation='relu')(inputs)\n",
    "x = Dense(64, activation='relu')(x)\n",
    "# output layer\n",
    "outputs = Dense(10, activation='softmax')(x)\n",
    "# construct the model\n",
    "model = Model(inputs, outputs, name='MNIST')\n",
    "# print a summary\n",
    "model.summary()\n",
    "# compile the model\n",
    "model.compile(\n",
    "    optimizer=Adam(learning_rate=0.001),\n",
    "    loss='categorical_crossentropy',\n",
    "    metrics=['accuracy']\n",
    ")"
   ],
   "outputs": [
    {
     "data": {
      "text/plain": [
       "\u001B[1mModel: \"MNIST\"\u001B[0m\n"
      ],
      "text/html": [
       "<pre style=\"white-space:pre;overflow-x:auto;line-height:normal;font-family:Menlo,'DejaVu Sans Mono',consolas,'Courier New',monospace\"><span style=\"font-weight: bold\">Model: \"MNIST\"</span>\n",
       "</pre>\n"
      ]
     },
     "metadata": {},
     "output_type": "display_data"
    },
    {
     "data": {
      "text/plain": [
       "┏━━━━━━━━━━━━━━━━━━━━━━━━━━━━━━━━━┳━━━━━━━━━━━━━━━━━━━━━━━━┳━━━━━━━━━━━━━━━┓\n",
       "┃\u001B[1m \u001B[0m\u001B[1mLayer (type)                   \u001B[0m\u001B[1m \u001B[0m┃\u001B[1m \u001B[0m\u001B[1mOutput Shape          \u001B[0m\u001B[1m \u001B[0m┃\u001B[1m \u001B[0m\u001B[1m      Param #\u001B[0m\u001B[1m \u001B[0m┃\n",
       "┡━━━━━━━━━━━━━━━━━━━━━━━━━━━━━━━━━╇━━━━━━━━━━━━━━━━━━━━━━━━╇━━━━━━━━━━━━━━━┩\n",
       "│ input_layer (\u001B[38;5;33mInputLayer\u001B[0m)        │ (\u001B[38;5;45mNone\u001B[0m, \u001B[38;5;34m784\u001B[0m)            │             \u001B[38;5;34m0\u001B[0m │\n",
       "├─────────────────────────────────┼────────────────────────┼───────────────┤\n",
       "│ dense (\u001B[38;5;33mDense\u001B[0m)                   │ (\u001B[38;5;45mNone\u001B[0m, \u001B[38;5;34m128\u001B[0m)            │       \u001B[38;5;34m100,480\u001B[0m │\n",
       "├─────────────────────────────────┼────────────────────────┼───────────────┤\n",
       "│ dense_1 (\u001B[38;5;33mDense\u001B[0m)                 │ (\u001B[38;5;45mNone\u001B[0m, \u001B[38;5;34m64\u001B[0m)             │         \u001B[38;5;34m8,256\u001B[0m │\n",
       "├─────────────────────────────────┼────────────────────────┼───────────────┤\n",
       "│ dense_2 (\u001B[38;5;33mDense\u001B[0m)                 │ (\u001B[38;5;45mNone\u001B[0m, \u001B[38;5;34m10\u001B[0m)             │           \u001B[38;5;34m650\u001B[0m │\n",
       "└─────────────────────────────────┴────────────────────────┴───────────────┘\n"
      ],
      "text/html": [
       "<pre style=\"white-space:pre;overflow-x:auto;line-height:normal;font-family:Menlo,'DejaVu Sans Mono',consolas,'Courier New',monospace\">┏━━━━━━━━━━━━━━━━━━━━━━━━━━━━━━━━━┳━━━━━━━━━━━━━━━━━━━━━━━━┳━━━━━━━━━━━━━━━┓\n",
       "┃<span style=\"font-weight: bold\"> Layer (type)                    </span>┃<span style=\"font-weight: bold\"> Output Shape           </span>┃<span style=\"font-weight: bold\">       Param # </span>┃\n",
       "┡━━━━━━━━━━━━━━━━━━━━━━━━━━━━━━━━━╇━━━━━━━━━━━━━━━━━━━━━━━━╇━━━━━━━━━━━━━━━┩\n",
       "│ input_layer (<span style=\"color: #0087ff; text-decoration-color: #0087ff\">InputLayer</span>)        │ (<span style=\"color: #00d7ff; text-decoration-color: #00d7ff\">None</span>, <span style=\"color: #00af00; text-decoration-color: #00af00\">784</span>)            │             <span style=\"color: #00af00; text-decoration-color: #00af00\">0</span> │\n",
       "├─────────────────────────────────┼────────────────────────┼───────────────┤\n",
       "│ dense (<span style=\"color: #0087ff; text-decoration-color: #0087ff\">Dense</span>)                   │ (<span style=\"color: #00d7ff; text-decoration-color: #00d7ff\">None</span>, <span style=\"color: #00af00; text-decoration-color: #00af00\">128</span>)            │       <span style=\"color: #00af00; text-decoration-color: #00af00\">100,480</span> │\n",
       "├─────────────────────────────────┼────────────────────────┼───────────────┤\n",
       "│ dense_1 (<span style=\"color: #0087ff; text-decoration-color: #0087ff\">Dense</span>)                 │ (<span style=\"color: #00d7ff; text-decoration-color: #00d7ff\">None</span>, <span style=\"color: #00af00; text-decoration-color: #00af00\">64</span>)             │         <span style=\"color: #00af00; text-decoration-color: #00af00\">8,256</span> │\n",
       "├─────────────────────────────────┼────────────────────────┼───────────────┤\n",
       "│ dense_2 (<span style=\"color: #0087ff; text-decoration-color: #0087ff\">Dense</span>)                 │ (<span style=\"color: #00d7ff; text-decoration-color: #00d7ff\">None</span>, <span style=\"color: #00af00; text-decoration-color: #00af00\">10</span>)             │           <span style=\"color: #00af00; text-decoration-color: #00af00\">650</span> │\n",
       "└─────────────────────────────────┴────────────────────────┴───────────────┘\n",
       "</pre>\n"
      ]
     },
     "metadata": {},
     "output_type": "display_data"
    },
    {
     "data": {
      "text/plain": [
       "\u001B[1m Total params: \u001B[0m\u001B[38;5;34m109,386\u001B[0m (427.29 KB)\n"
      ],
      "text/html": [
       "<pre style=\"white-space:pre;overflow-x:auto;line-height:normal;font-family:Menlo,'DejaVu Sans Mono',consolas,'Courier New',monospace\"><span style=\"font-weight: bold\"> Total params: </span><span style=\"color: #00af00; text-decoration-color: #00af00\">109,386</span> (427.29 KB)\n",
       "</pre>\n"
      ]
     },
     "metadata": {},
     "output_type": "display_data"
    },
    {
     "data": {
      "text/plain": [
       "\u001B[1m Trainable params: \u001B[0m\u001B[38;5;34m109,386\u001B[0m (427.29 KB)\n"
      ],
      "text/html": [
       "<pre style=\"white-space:pre;overflow-x:auto;line-height:normal;font-family:Menlo,'DejaVu Sans Mono',consolas,'Courier New',monospace\"><span style=\"font-weight: bold\"> Trainable params: </span><span style=\"color: #00af00; text-decoration-color: #00af00\">109,386</span> (427.29 KB)\n",
       "</pre>\n"
      ]
     },
     "metadata": {},
     "output_type": "display_data"
    },
    {
     "data": {
      "text/plain": [
       "\u001B[1m Non-trainable params: \u001B[0m\u001B[38;5;34m0\u001B[0m (0.00 B)\n"
      ],
      "text/html": [
       "<pre style=\"white-space:pre;overflow-x:auto;line-height:normal;font-family:Menlo,'DejaVu Sans Mono',consolas,'Courier New',monospace\"><span style=\"font-weight: bold\"> Non-trainable params: </span><span style=\"color: #00af00; text-decoration-color: #00af00\">0</span> (0.00 B)\n",
       "</pre>\n"
      ]
     },
     "metadata": {},
     "output_type": "display_data"
    }
   ],
   "execution_count": 14
  },
  {
   "cell_type": "markdown",
   "id": "142bc8b2-960a-416b-a572-a23e1fc185e0",
   "metadata": {},
   "source": [
    "## 4. Train the model"
   ]
  },
  {
   "cell_type": "markdown",
   "id": "e24f3bc6-1b42-40f7-9c16-8ac2d1ae7267",
   "metadata": {},
   "source": [
    "We train the model for 5 epochs, with a batch size of 32 (feel free to try other values). We take 10% of the training dataset for validation data."
   ]
  },
  {
   "cell_type": "code",
   "id": "c8dc4fe6-ba7b-4428-a8df-11abf2724b58",
   "metadata": {
    "ExecuteTime": {
     "end_time": "2024-11-05T16:19:39.221672Z",
     "start_time": "2024-11-05T16:19:19.479827Z"
    }
   },
   "source": [
    "# train the model\n",
    "history = model.fit(\n",
    "    x_train_norm, # training input\n",
    "    y_train_onehot, # training targets\n",
    "    epochs=5,\n",
    "    batch_size=32,\n",
    "    validation_split=0.1,\n",
    ")\n",
    "# plot loss function\n",
    "plot_loss(history)"
   ],
   "outputs": [
    {
     "name": "stdout",
     "output_type": "stream",
     "text": [
      "Epoch 1/5\n"
     ]
    },
    {
     "name": "stderr",
     "output_type": "stream",
     "text": [
      "2024-11-05 17:19:20.081311: W external/local_tsl/tsl/framework/cpu_allocator_impl.cc:83] Allocation of 169344000 exceeds 10% of free system memory.\n"
     ]
    },
    {
     "name": "stdout",
     "output_type": "stream",
     "text": [
      "\u001B[1m1688/1688\u001B[0m \u001B[32m━━━━━━━━━━━━━━━━━━━━\u001B[0m\u001B[37m\u001B[0m \u001B[1m5s\u001B[0m 2ms/step - accuracy: 0.8653 - loss: 0.4596 - val_accuracy: 0.9653 - val_loss: 0.1157\n",
      "Epoch 2/5\n",
      "\u001B[1m1688/1688\u001B[0m \u001B[32m━━━━━━━━━━━━━━━━━━━━\u001B[0m\u001B[37m\u001B[0m \u001B[1m3s\u001B[0m 2ms/step - accuracy: 0.9659 - loss: 0.1099 - val_accuracy: 0.9718 - val_loss: 0.0901\n",
      "Epoch 3/5\n",
      "\u001B[1m1688/1688\u001B[0m \u001B[32m━━━━━━━━━━━━━━━━━━━━\u001B[0m\u001B[37m\u001B[0m \u001B[1m3s\u001B[0m 2ms/step - accuracy: 0.9771 - loss: 0.0723 - val_accuracy: 0.9732 - val_loss: 0.0955\n",
      "Epoch 4/5\n",
      "\u001B[1m1688/1688\u001B[0m \u001B[32m━━━━━━━━━━━━━━━━━━━━\u001B[0m\u001B[37m\u001B[0m \u001B[1m3s\u001B[0m 2ms/step - accuracy: 0.9842 - loss: 0.0499 - val_accuracy: 0.9737 - val_loss: 0.0936\n",
      "Epoch 5/5\n",
      "\u001B[1m1688/1688\u001B[0m \u001B[32m━━━━━━━━━━━━━━━━━━━━\u001B[0m\u001B[37m\u001B[0m \u001B[1m4s\u001B[0m 2ms/step - accuracy: 0.9872 - loss: 0.0408 - val_accuracy: 0.9745 - val_loss: 0.0847\n"
     ]
    },
    {
     "data": {
      "text/plain": [
       "<Figure size 640x480 with 1 Axes>"
      ],
      "image/png": "[encoded data removed]"
     },
     "metadata": {},
     "output_type": "display_data"
    }
   ],
   "execution_count": 15
  },
  {
   "cell_type": "markdown",
   "id": "c6aebe62-636c-4d78-9da8-7ab2f95bfec2",
   "metadata": {},
   "source": [
    "## 5. Evaluate the model"
   ]
  },
  {
   "cell_type": "markdown",
   "id": "3f01b41e-f5a7-40ce-8b11-0b4d91c8677b",
   "metadata": {},
   "source": [
    "Now we evaluate our model with the test data, which has not been used during training. Have a look at the accuracy score."
   ]
  },
  {
   "cell_type": "code",
   "id": "5e725d5a-386d-41a7-ae2e-a80456d0288a",
   "metadata": {
    "ExecuteTime": {
     "end_time": "2024-11-05T16:19:43.353659Z",
     "start_time": "2024-11-05T16:19:42.285546Z"
    }
   },
   "source": [
    "# evaluate\n",
    "model.evaluate(x_test_norm,y_test_onehot)"
   ],
   "outputs": [
    {
     "name": "stdout",
     "output_type": "stream",
     "text": [
      "\u001B[1m313/313\u001B[0m \u001B[32m━━━━━━━━━━━━━━━━━━━━\u001B[0m\u001B[37m\u001B[0m \u001B[1m1s\u001B[0m 2ms/step - accuracy: 0.9703 - loss: 0.0955\n"
     ]
    },
    {
     "data": {
      "text/plain": [
       "[0.08277615904808044, 0.9754999876022339]"
      ]
     },
     "execution_count": 16,
     "metadata": {},
     "output_type": "execute_result"
    }
   ],
   "execution_count": 16
  },
  {
   "cell_type": "markdown",
   "id": "649fd2ac-2e1f-4509-9823-cbf0b8b8f9fa",
   "metadata": {},
   "source": [
    "## 6. Use the model to predict"
   ]
  },
  {
   "cell_type": "markdown",
   "id": "bb90d31c-faff-4aed-8629-122bf1a0dda7",
   "metadata": {},
   "source": [
    "We can start using the model to predict hand written digits. Here we predict the first 2 digits of the test dataset. The output of the model are probabilities. Look at the probabilities that the first digit is 7 and the second is a 2."
   ]
  },
  {
   "cell_type": "code",
   "id": "5c76d361-deb4-45b5-a90a-a949e234659f",
   "metadata": {
    "ExecuteTime": {
     "end_time": "2024-11-05T16:19:45.208799Z",
     "start_time": "2024-11-05T16:19:44.953686Z"
    }
   },
   "source": [
    "# predict \n",
    "predicted = model.predict(x_test_norm[:2])\n",
    "print(predicted)\n",
    "# what it should be\n",
    "print(y_test[:2])"
   ],
   "outputs": [
    {
     "name": "stdout",
     "output_type": "stream",
     "text": [
      "\u001B[1m1/1\u001B[0m \u001B[32m━━━━━━━━━━━━━━━━━━━━\u001B[0m\u001B[37m\u001B[0m \u001B[1m0s\u001B[0m 106ms/step\n",
      "[[3.1279640e-10 1.9516396e-07 2.0996556e-06 7.1233711e-03 5.8465984e-12\n",
      "  2.4645735e-07 2.0916698e-13 9.9286240e-01 4.1941135e-08 1.1528871e-05]\n",
      " [3.4984526e-10 8.3946989e-06 9.9999130e-01 1.9329407e-07 7.2068088e-11\n",
      "  3.3139069e-09 4.5310080e-09 2.2759526e-10 1.3798621e-07 3.2053340e-12]]\n",
      "[7 2]\n"
     ]
    }
   ],
   "execution_count": 17
  }
 ],
 "metadata": {
  "kernelspec": {
   "display_name": "Python 3 (ipykernel)",
   "language": "python",
   "name": "python3"
  },
  "language_info": {
   "codemirror_mode": {
    "name": "ipython",
    "version": 3
   },
   "file_extension": ".py",
   "mimetype": "text/x-python",
   "name": "python",
   "nbconvert_exporter": "python",
   "pygments_lexer": "ipython3",
   "version": "3.11.7"
  }
 },
 "nbformat": 4,
 "nbformat_minor": 5
}
