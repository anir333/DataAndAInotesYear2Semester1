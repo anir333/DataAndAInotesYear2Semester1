{
 "cells": [
  {
   "cell_type": "markdown",
   "metadata": {
    "id": "EIdT9iu_Z4Rb"
   },
   "source": [
    "# Neural Networks - Regression"
   ]
  },
  {
   "cell_type": "markdown",
   "metadata": {},
   "source": [
    "In this tutorial, we will create a regression model, that predicts the fuel efficiency in miles per gallon (MPG). This is a continuous value, in contrast with a classification model where a class is predicted."
   ]
  },
  {
   "cell_type": "markdown",
   "metadata": {},
   "source": [
    "## 0. Import python modules"
   ]
  },
  {
   "cell_type": "markdown",
   "metadata": {
    "id": "AHp3M9ZmrIxj"
   },
   "source": [
    "We will use the Tensoflow/Keras framework for neural network machine learning."
   ]
  },
  {
   "cell_type": "code",
   "execution_count": 1,
   "metadata": {
    "id": "1rRo8oNqZ-Rj"
   },
   "outputs": [
    {
     "name": "stdout",
     "output_type": "stream",
     "text": [
      "WARNING:tensorflow:From C:\\Users\\depaepeg\\OneDrive - KdG\\Cursussen\\04. Data Science 2\\Py\\pyvenv\\Lib\\site-packages\\keras\\src\\losses.py:2976: The name tf.losses.sparse_softmax_cross_entropy is deprecated. Please use tf.compat.v1.losses.sparse_softmax_cross_entropy instead.\n",
      "\n"
     ]
    }
   ],
   "source": [
    "import matplotlib.pyplot as plt\n",
    "import numpy as np\n",
    "import pandas as pd\n",
    "import seaborn as sns\n",
    "from sklearn.model_selection import train_test_split\n",
    "from sklearn.preprocessing import MinMaxScaler\n",
    "from tensorflow.keras import Model\n",
    "from tensorflow.keras.layers import Input, Dense\n",
    "from tensorflow.keras.optimizers import Adam\n",
    "from plot_loss import plot_loss # own function in plot_loss.py"
   ]
  },
  {
   "cell_type": "markdown",
   "metadata": {
    "tags": []
   },
   "source": [
    "## 1. Load the dataset"
   ]
  },
  {
   "cell_type": "markdown",
   "metadata": {},
   "source": [
    "We read the dataset using pandas. The dataset is available from the [UCI Machine Learning Repository](https://archive.ics.uci.edu/ml/)."
   ]
  },
  {
   "cell_type": "code",
   "execution_count": 2,
   "metadata": {
    "id": "CiX2FI4gZtTt"
   },
   "outputs": [],
   "source": [
    "column_names = ['MPG', 'Cylinders', 'Displacement', 'Horsepower', 'Weight', 'Acceleration', 'Model Year', 'Origin']\n",
    "dataset = pd.read_csv(\"../datasets/auto-mpg.csv\", names=column_names, na_values='?', sep=' ', comment='\\t', skipinitialspace=True)"
   ]
  },
  {
   "cell_type": "code",
   "execution_count": 3,
   "metadata": {
    "id": "2oY3pMPagJrO"
   },
   "outputs": [
    {
     "data": {
      "text/html": [
       "<div>\n",
       "<style scoped>\n",
       "    .dataframe tbody tr th:only-of-type {\n",
       "        vertical-align: middle;\n",
       "    }\n",
       "\n",
       "    .dataframe tbody tr th {\n",
       "        vertical-align: top;\n",
       "    }\n",
       "\n",
       "    .dataframe thead th {\n",
       "        text-align: right;\n",
       "    }\n",
       "</style>\n",
       "<table border=\"1\" class=\"dataframe\">\n",
       "  <thead>\n",
       "    <tr style=\"text-align: right;\">\n",
       "      <th></th>\n",
       "      <th>MPG</th>\n",
       "      <th>Cylinders</th>\n",
       "      <th>Displacement</th>\n",
       "      <th>Horsepower</th>\n",
       "      <th>Weight</th>\n",
       "      <th>Acceleration</th>\n",
       "      <th>Model Year</th>\n",
       "      <th>Origin</th>\n",
       "    </tr>\n",
       "  </thead>\n",
       "  <tbody>\n",
       "    <tr>\n",
       "      <th>393</th>\n",
       "      <td>27.0</td>\n",
       "      <td>4</td>\n",
       "      <td>140.0</td>\n",
       "      <td>86.0</td>\n",
       "      <td>2790.0</td>\n",
       "      <td>15.6</td>\n",
       "      <td>82</td>\n",
       "      <td>1</td>\n",
       "    </tr>\n",
       "    <tr>\n",
       "      <th>394</th>\n",
       "      <td>44.0</td>\n",
       "      <td>4</td>\n",
       "      <td>97.0</td>\n",
       "      <td>52.0</td>\n",
       "      <td>2130.0</td>\n",
       "      <td>24.6</td>\n",
       "      <td>82</td>\n",
       "      <td>2</td>\n",
       "    </tr>\n",
       "    <tr>\n",
       "      <th>395</th>\n",
       "      <td>32.0</td>\n",
       "      <td>4</td>\n",
       "      <td>135.0</td>\n",
       "      <td>84.0</td>\n",
       "      <td>2295.0</td>\n",
       "      <td>11.6</td>\n",
       "      <td>82</td>\n",
       "      <td>1</td>\n",
       "    </tr>\n",
       "    <tr>\n",
       "      <th>396</th>\n",
       "      <td>28.0</td>\n",
       "      <td>4</td>\n",
       "      <td>120.0</td>\n",
       "      <td>79.0</td>\n",
       "      <td>2625.0</td>\n",
       "      <td>18.6</td>\n",
       "      <td>82</td>\n",
       "      <td>1</td>\n",
       "    </tr>\n",
       "    <tr>\n",
       "      <th>397</th>\n",
       "      <td>31.0</td>\n",
       "      <td>4</td>\n",
       "      <td>119.0</td>\n",
       "      <td>82.0</td>\n",
       "      <td>2720.0</td>\n",
       "      <td>19.4</td>\n",
       "      <td>82</td>\n",
       "      <td>1</td>\n",
       "    </tr>\n",
       "  </tbody>\n",
       "</table>\n",
       "</div>"
      ],
      "text/plain": [
       "      MPG  Cylinders  Displacement  Horsepower  Weight  Acceleration  \\\n",
       "393  27.0          4         140.0        86.0  2790.0          15.6   \n",
       "394  44.0          4          97.0        52.0  2130.0          24.6   \n",
       "395  32.0          4         135.0        84.0  2295.0          11.6   \n",
       "396  28.0          4         120.0        79.0  2625.0          18.6   \n",
       "397  31.0          4         119.0        82.0  2720.0          19.4   \n",
       "\n",
       "     Model Year  Origin  \n",
       "393          82       1  \n",
       "394          82       2  \n",
       "395          82       1  \n",
       "396          82       1  \n",
       "397          82       1  "
      ]
     },
     "execution_count": 3,
     "metadata": {},
     "output_type": "execute_result"
    }
   ],
   "source": [
    "dataset.tail()"
   ]
  },
  {
   "cell_type": "markdown",
   "metadata": {
    "id": "3MWuJTKEDM-f"
   },
   "source": [
    "## 2. Data cleaning and normalisation"
   ]
  },
  {
   "cell_type": "markdown",
   "metadata": {},
   "source": [
    "The dataset contains a few unknown values which we will drop."
   ]
  },
  {
   "cell_type": "code",
   "execution_count": 4,
   "metadata": {
    "id": "JEJHhN65a2VV"
   },
   "outputs": [
    {
     "data": {
      "text/plain": [
       "MPG             0\n",
       "Cylinders       0\n",
       "Displacement    0\n",
       "Horsepower      6\n",
       "Weight          0\n",
       "Acceleration    0\n",
       "Model Year      0\n",
       "Origin          0\n",
       "dtype: int64"
      ]
     },
     "execution_count": 4,
     "metadata": {},
     "output_type": "execute_result"
    }
   ],
   "source": [
    "dataset.isna().sum()"
   ]
  },
  {
   "cell_type": "code",
   "execution_count": 5,
   "metadata": {
    "id": "4ZUDosChC1UN"
   },
   "outputs": [],
   "source": [
    "dataset = dataset.dropna()"
   ]
  },
  {
   "cell_type": "markdown",
   "metadata": {},
   "source": [
    "We separate the input features `x` from the target values `y`."
   ]
  },
  {
   "cell_type": "code",
   "execution_count": 6,
   "metadata": {
    "id": "qn-IGhUE7_1H"
   },
   "outputs": [],
   "source": [
    "x = dataset[[\"Cylinders\",\"Displacement\", \"Horsepower\", \"Weight\", \"Acceleration\", \"Model Year\"]]\n",
    "y = dataset[['MPG']]"
   ]
  },
  {
   "cell_type": "markdown",
   "metadata": {},
   "source": [
    "We now normalize the inputs using the `MinMaxScaler.` It is good practice always to do this so that all the features get the same scale and range (which is not the case in this dataset)."
   ]
  },
  {
   "cell_type": "code",
   "execution_count": 7,
   "metadata": {},
   "outputs": [
    {
     "data": {
      "text/html": [
       "<div>\n",
       "<style scoped>\n",
       "    .dataframe tbody tr th:only-of-type {\n",
       "        vertical-align: middle;\n",
       "    }\n",
       "\n",
       "    .dataframe tbody tr th {\n",
       "        vertical-align: top;\n",
       "    }\n",
       "\n",
       "    .dataframe thead th {\n",
       "        text-align: right;\n",
       "    }\n",
       "</style>\n",
       "<table border=\"1\" class=\"dataframe\">\n",
       "  <thead>\n",
       "    <tr style=\"text-align: right;\">\n",
       "      <th></th>\n",
       "      <th>Cylinders</th>\n",
       "      <th>Displacement</th>\n",
       "      <th>Horsepower</th>\n",
       "      <th>Weight</th>\n",
       "      <th>Acceleration</th>\n",
       "      <th>Model Year</th>\n",
       "    </tr>\n",
       "  </thead>\n",
       "  <tbody>\n",
       "    <tr>\n",
       "      <th>count</th>\n",
       "      <td>392.000000</td>\n",
       "      <td>392.000000</td>\n",
       "      <td>392.000000</td>\n",
       "      <td>392.000000</td>\n",
       "      <td>392.000000</td>\n",
       "      <td>392.000000</td>\n",
       "    </tr>\n",
       "    <tr>\n",
       "      <th>mean</th>\n",
       "      <td>5.471939</td>\n",
       "      <td>194.411990</td>\n",
       "      <td>104.469388</td>\n",
       "      <td>2977.584184</td>\n",
       "      <td>15.541327</td>\n",
       "      <td>75.979592</td>\n",
       "    </tr>\n",
       "    <tr>\n",
       "      <th>std</th>\n",
       "      <td>1.705783</td>\n",
       "      <td>104.644004</td>\n",
       "      <td>38.491160</td>\n",
       "      <td>849.402560</td>\n",
       "      <td>2.758864</td>\n",
       "      <td>3.683737</td>\n",
       "    </tr>\n",
       "    <tr>\n",
       "      <th>min</th>\n",
       "      <td>3.000000</td>\n",
       "      <td>68.000000</td>\n",
       "      <td>46.000000</td>\n",
       "      <td>1613.000000</td>\n",
       "      <td>8.000000</td>\n",
       "      <td>70.000000</td>\n",
       "    </tr>\n",
       "    <tr>\n",
       "      <th>25%</th>\n",
       "      <td>4.000000</td>\n",
       "      <td>105.000000</td>\n",
       "      <td>75.000000</td>\n",
       "      <td>2225.250000</td>\n",
       "      <td>13.775000</td>\n",
       "      <td>73.000000</td>\n",
       "    </tr>\n",
       "    <tr>\n",
       "      <th>50%</th>\n",
       "      <td>4.000000</td>\n",
       "      <td>151.000000</td>\n",
       "      <td>93.500000</td>\n",
       "      <td>2803.500000</td>\n",
       "      <td>15.500000</td>\n",
       "      <td>76.000000</td>\n",
       "    </tr>\n",
       "    <tr>\n",
       "      <th>75%</th>\n",
       "      <td>8.000000</td>\n",
       "      <td>275.750000</td>\n",
       "      <td>126.000000</td>\n",
       "      <td>3614.750000</td>\n",
       "      <td>17.025000</td>\n",
       "      <td>79.000000</td>\n",
       "    </tr>\n",
       "    <tr>\n",
       "      <th>max</th>\n",
       "      <td>8.000000</td>\n",
       "      <td>455.000000</td>\n",
       "      <td>230.000000</td>\n",
       "      <td>5140.000000</td>\n",
       "      <td>24.800000</td>\n",
       "      <td>82.000000</td>\n",
       "    </tr>\n",
       "  </tbody>\n",
       "</table>\n",
       "</div>"
      ],
      "text/plain": [
       "        Cylinders  Displacement  Horsepower       Weight  Acceleration  \\\n",
       "count  392.000000    392.000000  392.000000   392.000000    392.000000   \n",
       "mean     5.471939    194.411990  104.469388  2977.584184     15.541327   \n",
       "std      1.705783    104.644004   38.491160   849.402560      2.758864   \n",
       "min      3.000000     68.000000   46.000000  1613.000000      8.000000   \n",
       "25%      4.000000    105.000000   75.000000  2225.250000     13.775000   \n",
       "50%      4.000000    151.000000   93.500000  2803.500000     15.500000   \n",
       "75%      8.000000    275.750000  126.000000  3614.750000     17.025000   \n",
       "max      8.000000    455.000000  230.000000  5140.000000     24.800000   \n",
       "\n",
       "       Model Year  \n",
       "count  392.000000  \n",
       "mean    75.979592  \n",
       "std      3.683737  \n",
       "min     70.000000  \n",
       "25%     73.000000  \n",
       "50%     76.000000  \n",
       "75%     79.000000  \n",
       "max     82.000000  "
      ]
     },
     "execution_count": 7,
     "metadata": {},
     "output_type": "execute_result"
    }
   ],
   "source": [
    "x.describe()"
   ]
  },
  {
   "cell_type": "code",
   "execution_count": 8,
   "metadata": {},
   "outputs": [],
   "source": [
    "scaler = MinMaxScaler()\n",
    "x_norm = scaler.fit_transform(x)"
   ]
  },
  {
   "cell_type": "markdown",
   "metadata": {
    "id": "Cuym4yvk76vU"
   },
   "source": [
    "Next, we will split the data into a training and a test dataset."
   ]
  },
  {
   "cell_type": "code",
   "execution_count": 9,
   "metadata": {},
   "outputs": [],
   "source": [
    "x_train,x_test,y_train,y_test = train_test_split(x_norm,y,test_size=0.1) "
   ]
  },
  {
   "cell_type": "markdown",
   "metadata": {},
   "source": [
    "## 3. Define the model"
   ]
  },
  {
   "cell_type": "markdown",
   "metadata": {
    "id": "CSkanJlmmFBX"
   },
   "source": [
    "The input layer has 6 nodes, corresponding to the number of input features. We choose 2 hidden layers with 64 nodes and a `relu` activation function (feel free to try other values/functions). The output layer has 1 node corresponding to the one MPG value to predict. For regression models, a `linear` activation function is often used in the output layer. We choose Adam as optimizer with a learning rate of `0.001`. The loss is the `MSE` loss which is often used for regression models. We also define a `mean_absolute_percentage_error` metric."
   ]
  },
  {
   "cell_type": "code",
   "execution_count": 20,
   "metadata": {
    "id": "c26juK7ZG8j-"
   },
   "outputs": [
    {
     "name": "stdout",
     "output_type": "stream",
     "text": [
      "Model: \"auto-mpg\"\n",
      "_________________________________________________________________\n",
      " Layer (type)                Output Shape              Param #   \n",
      "=================================================================\n",
      " input_4 (InputLayer)        [(None, 6)]               0         \n",
      "                                                                 \n",
      " dense_9 (Dense)             (None, 64)                448       \n",
      "                                                                 \n",
      " dense_10 (Dense)            (None, 64)                4160      \n",
      "                                                                 \n",
      " dense_11 (Dense)            (None, 1)                 65        \n",
      "                                                                 \n",
      "=================================================================\n",
      "Total params: 4673 (18.25 KB)\n",
      "Trainable params: 4673 (18.25 KB)\n",
      "Non-trainable params: 0 (0.00 Byte)\n",
      "_________________________________________________________________\n"
     ]
    }
   ],
   "source": [
    "# input layer 6 nodes\n",
    "inputs = Input(shape=(6,))\n",
    "# 2 hidden layer\n",
    "x = Dense(64, activation='relu')(inputs)\n",
    "x = Dense(64, activation='relu')(x)\n",
    "# output layer\n",
    "outputs = Dense(1, activation='linear')(x)\n",
    "# construct the model\n",
    "model = Model(inputs, outputs, name='auto-mpg')\n",
    "# print a summary\n",
    "model.summary()\n",
    "# compile the model\n",
    "model.compile(\n",
    "    optimizer=Adam(learning_rate=0.001),\n",
    "    loss='mean_squared_error',\n",
    "    metrics=['mean_absolute_percentage_error']\n",
    ")"
   ]
  },
  {
   "cell_type": "markdown",
   "metadata": {},
   "source": [
    "## 4. Train the model"
   ]
  },
  {
   "cell_type": "markdown",
   "metadata": {},
   "source": [
    "We train the model for 100 epochs, with a batch size of 32 (feel free to try other values). We take 10% of the training dataset for validation data."
   ]
  },
  {
   "cell_type": "code",
   "execution_count": 21,
   "metadata": {
    "scrolled": true
   },
   "outputs": [
    {
     "name": "stdout",
     "output_type": "stream",
     "text": [
      "Epoch 1/100\n",
      "10/10 [==============================] - 1s 20ms/step - loss: 587.1245 - mean_absolute_percentage_error: 99.2447 - val_loss: 799.3571 - val_mean_absolute_percentage_error: 98.2653\n",
      "Epoch 2/100\n",
      "10/10 [==============================] - 0s 5ms/step - loss: 571.3129 - mean_absolute_percentage_error: 97.3583 - val_loss: 780.0871 - val_mean_absolute_percentage_error: 96.3290\n",
      "Epoch 3/100\n",
      "10/10 [==============================] - 0s 5ms/step - loss: 552.5280 - mean_absolute_percentage_error: 95.0070 - val_loss: 755.0974 - val_mean_absolute_percentage_error: 93.6562\n",
      "Epoch 4/100\n",
      "10/10 [==============================] - 0s 5ms/step - loss: 526.5543 - mean_absolute_percentage_error: 91.6338 - val_loss: 719.7535 - val_mean_absolute_percentage_error: 89.6901\n",
      "Epoch 5/100\n",
      "10/10 [==============================] - 0s 5ms/step - loss: 489.6801 - mean_absolute_percentage_error: 86.5930 - val_loss: 668.6818 - val_mean_absolute_percentage_error: 83.7180\n",
      "Epoch 6/100\n",
      "10/10 [==============================] - 0s 5ms/step - loss: 437.3959 - mean_absolute_percentage_error: 79.1936 - val_loss: 598.9197 - val_mean_absolute_percentage_error: 74.9274\n",
      "Epoch 7/100\n",
      "10/10 [==============================] - 0s 9ms/step - loss: 369.8891 - mean_absolute_percentage_error: 68.5294 - val_loss: 512.9092 - val_mean_absolute_percentage_error: 62.7569\n",
      "Epoch 8/100\n",
      "10/10 [==============================] - 0s 5ms/step - loss: 295.5248 - mean_absolute_percentage_error: 55.2245 - val_loss: 418.4417 - val_mean_absolute_percentage_error: 54.3140\n",
      "Epoch 9/100\n",
      "10/10 [==============================] - 0s 5ms/step - loss: 223.5831 - mean_absolute_percentage_error: 47.0037 - val_loss: 333.4633 - val_mean_absolute_percentage_error: 55.1622\n",
      "Epoch 10/100\n",
      "10/10 [==============================] - 0s 6ms/step - loss: 171.3047 - mean_absolute_percentage_error: 45.2620 - val_loss: 275.0495 - val_mean_absolute_percentage_error: 57.9861\n",
      "Epoch 11/100\n",
      "10/10 [==============================] - 0s 5ms/step - loss: 144.7087 - mean_absolute_percentage_error: 46.6926 - val_loss: 239.2448 - val_mean_absolute_percentage_error: 59.1836\n",
      "Epoch 12/100\n",
      "10/10 [==============================] - 0s 5ms/step - loss: 129.4833 - mean_absolute_percentage_error: 46.7730 - val_loss: 212.8296 - val_mean_absolute_percentage_error: 56.7453\n",
      "Epoch 13/100\n",
      "10/10 [==============================] - 0s 5ms/step - loss: 114.5503 - mean_absolute_percentage_error: 44.0763 - val_loss: 189.8699 - val_mean_absolute_percentage_error: 52.6615\n",
      "Epoch 14/100\n",
      "10/10 [==============================] - 0s 5ms/step - loss: 100.0622 - mean_absolute_percentage_error: 40.7185 - val_loss: 165.8679 - val_mean_absolute_percentage_error: 48.7958\n",
      "Epoch 15/100\n",
      "10/10 [==============================] - 0s 5ms/step - loss: 85.8708 - mean_absolute_percentage_error: 37.6387 - val_loss: 144.1727 - val_mean_absolute_percentage_error: 45.3986\n",
      "Epoch 16/100\n",
      "10/10 [==============================] - 0s 7ms/step - loss: 73.0754 - mean_absolute_percentage_error: 34.2922 - val_loss: 125.6902 - val_mean_absolute_percentage_error: 41.6126\n",
      "Epoch 17/100\n",
      "10/10 [==============================] - 0s 7ms/step - loss: 62.4305 - mean_absolute_percentage_error: 31.2595 - val_loss: 108.1115 - val_mean_absolute_percentage_error: 37.7936\n",
      "Epoch 18/100\n",
      "10/10 [==============================] - 0s 5ms/step - loss: 52.8503 - mean_absolute_percentage_error: 28.6818 - val_loss: 90.6270 - val_mean_absolute_percentage_error: 34.7135\n",
      "Epoch 19/100\n",
      "10/10 [==============================] - 0s 7ms/step - loss: 44.5637 - mean_absolute_percentage_error: 26.1902 - val_loss: 77.9367 - val_mean_absolute_percentage_error: 31.0982\n",
      "Epoch 20/100\n",
      "10/10 [==============================] - 0s 7ms/step - loss: 37.7137 - mean_absolute_percentage_error: 23.6468 - val_loss: 67.5678 - val_mean_absolute_percentage_error: 27.8984\n",
      "Epoch 21/100\n",
      "10/10 [==============================] - 0s 5ms/step - loss: 32.5231 - mean_absolute_percentage_error: 21.5778 - val_loss: 59.1430 - val_mean_absolute_percentage_error: 24.9455\n",
      "Epoch 22/100\n",
      "10/10 [==============================] - 0s 5ms/step - loss: 28.5815 - mean_absolute_percentage_error: 19.8634 - val_loss: 51.8471 - val_mean_absolute_percentage_error: 22.4257\n",
      "Epoch 23/100\n",
      "10/10 [==============================] - 0s 5ms/step - loss: 25.5724 - mean_absolute_percentage_error: 18.6938 - val_loss: 46.0711 - val_mean_absolute_percentage_error: 20.4816\n",
      "Epoch 24/100\n",
      "10/10 [==============================] - 0s 7ms/step - loss: 23.3809 - mean_absolute_percentage_error: 17.5895 - val_loss: 42.0743 - val_mean_absolute_percentage_error: 18.7603\n",
      "Epoch 25/100\n",
      "10/10 [==============================] - 0s 7ms/step - loss: 21.8393 - mean_absolute_percentage_error: 16.7917 - val_loss: 38.9269 - val_mean_absolute_percentage_error: 17.4446\n",
      "Epoch 26/100\n",
      "10/10 [==============================] - 0s 7ms/step - loss: 20.7272 - mean_absolute_percentage_error: 16.2872 - val_loss: 36.8202 - val_mean_absolute_percentage_error: 16.4130\n",
      "Epoch 27/100\n",
      "10/10 [==============================] - 0s 8ms/step - loss: 19.8264 - mean_absolute_percentage_error: 15.8151 - val_loss: 35.3159 - val_mean_absolute_percentage_error: 15.8701\n",
      "Epoch 28/100\n",
      "10/10 [==============================] - 0s 6ms/step - loss: 19.1478 - mean_absolute_percentage_error: 15.5236 - val_loss: 33.5727 - val_mean_absolute_percentage_error: 15.4287\n",
      "Epoch 29/100\n",
      "10/10 [==============================] - 0s 5ms/step - loss: 18.6299 - mean_absolute_percentage_error: 15.3570 - val_loss: 32.1337 - val_mean_absolute_percentage_error: 15.0636\n",
      "Epoch 30/100\n",
      "10/10 [==============================] - 0s 5ms/step - loss: 18.1478 - mean_absolute_percentage_error: 15.1112 - val_loss: 31.6212 - val_mean_absolute_percentage_error: 14.8033\n",
      "Epoch 31/100\n",
      "10/10 [==============================] - 0s 5ms/step - loss: 17.7391 - mean_absolute_percentage_error: 14.9579 - val_loss: 30.5017 - val_mean_absolute_percentage_error: 14.5110\n",
      "Epoch 32/100\n",
      "10/10 [==============================] - 0s 5ms/step - loss: 17.2918 - mean_absolute_percentage_error: 14.7218 - val_loss: 30.7514 - val_mean_absolute_percentage_error: 14.3302\n",
      "Epoch 33/100\n",
      "10/10 [==============================] - 0s 5ms/step - loss: 16.9272 - mean_absolute_percentage_error: 14.4378 - val_loss: 30.2816 - val_mean_absolute_percentage_error: 14.1367\n",
      "Epoch 34/100\n",
      "10/10 [==============================] - 0s 5ms/step - loss: 16.6350 - mean_absolute_percentage_error: 14.4078 - val_loss: 28.8196 - val_mean_absolute_percentage_error: 13.9516\n",
      "Epoch 35/100\n",
      "10/10 [==============================] - 0s 7ms/step - loss: 16.2814 - mean_absolute_percentage_error: 14.2483 - val_loss: 28.7451 - val_mean_absolute_percentage_error: 13.7874\n",
      "Epoch 36/100\n",
      "10/10 [==============================] - 0s 5ms/step - loss: 15.9781 - mean_absolute_percentage_error: 14.0374 - val_loss: 28.8294 - val_mean_absolute_percentage_error: 13.6622\n",
      "Epoch 37/100\n",
      "10/10 [==============================] - 0s 5ms/step - loss: 15.6682 - mean_absolute_percentage_error: 13.8626 - val_loss: 28.6584 - val_mean_absolute_percentage_error: 13.5602\n",
      "Epoch 38/100\n",
      "10/10 [==============================] - 0s 5ms/step - loss: 15.3624 - mean_absolute_percentage_error: 13.7571 - val_loss: 27.6192 - val_mean_absolute_percentage_error: 13.3861\n",
      "Epoch 39/100\n",
      "10/10 [==============================] - 0s 5ms/step - loss: 15.1140 - mean_absolute_percentage_error: 13.6811 - val_loss: 27.2552 - val_mean_absolute_percentage_error: 13.2869\n",
      "Epoch 40/100\n",
      "10/10 [==============================] - 0s 5ms/step - loss: 14.8525 - mean_absolute_percentage_error: 13.5748 - val_loss: 26.9011 - val_mean_absolute_percentage_error: 13.1778\n",
      "Epoch 41/100\n",
      "10/10 [==============================] - 0s 5ms/step - loss: 14.6210 - mean_absolute_percentage_error: 13.4655 - val_loss: 26.8096 - val_mean_absolute_percentage_error: 13.0627\n",
      "Epoch 42/100\n",
      "10/10 [==============================] - 0s 4ms/step - loss: 14.3852 - mean_absolute_percentage_error: 13.3006 - val_loss: 27.5505 - val_mean_absolute_percentage_error: 13.0283\n",
      "Epoch 43/100\n",
      "10/10 [==============================] - 0s 5ms/step - loss: 14.1443 - mean_absolute_percentage_error: 13.1888 - val_loss: 26.6173 - val_mean_absolute_percentage_error: 12.9358\n",
      "Epoch 44/100\n",
      "10/10 [==============================] - 0s 7ms/step - loss: 13.8871 - mean_absolute_percentage_error: 13.1256 - val_loss: 26.5170 - val_mean_absolute_percentage_error: 12.9152\n",
      "Epoch 45/100\n",
      "10/10 [==============================] - 0s 5ms/step - loss: 13.6654 - mean_absolute_percentage_error: 13.0042 - val_loss: 26.4699 - val_mean_absolute_percentage_error: 13.0026\n",
      "Epoch 46/100\n",
      "10/10 [==============================] - 0s 5ms/step - loss: 13.4297 - mean_absolute_percentage_error: 12.9825 - val_loss: 25.7158 - val_mean_absolute_percentage_error: 13.0959\n",
      "Epoch 47/100\n",
      "10/10 [==============================] - 0s 9ms/step - loss: 13.1660 - mean_absolute_percentage_error: 12.9031 - val_loss: 26.4926 - val_mean_absolute_percentage_error: 13.0904\n",
      "Epoch 48/100\n",
      "10/10 [==============================] - 0s 5ms/step - loss: 12.9046 - mean_absolute_percentage_error: 12.6977 - val_loss: 26.5387 - val_mean_absolute_percentage_error: 13.0902\n",
      "Epoch 49/100\n",
      "10/10 [==============================] - 0s 5ms/step - loss: 12.6766 - mean_absolute_percentage_error: 12.5684 - val_loss: 26.1496 - val_mean_absolute_percentage_error: 12.8551\n",
      "Epoch 50/100\n",
      "10/10 [==============================] - 0s 7ms/step - loss: 12.5075 - mean_absolute_percentage_error: 12.4173 - val_loss: 26.4454 - val_mean_absolute_percentage_error: 12.8001\n",
      "Epoch 51/100\n",
      "10/10 [==============================] - 0s 9ms/step - loss: 12.2674 - mean_absolute_percentage_error: 12.3683 - val_loss: 25.2004 - val_mean_absolute_percentage_error: 12.7197\n",
      "Epoch 52/100\n",
      "10/10 [==============================] - 0s 6ms/step - loss: 12.0980 - mean_absolute_percentage_error: 12.3791 - val_loss: 24.9676 - val_mean_absolute_percentage_error: 12.6675\n",
      "Epoch 53/100\n",
      "10/10 [==============================] - 0s 7ms/step - loss: 11.8168 - mean_absolute_percentage_error: 12.1307 - val_loss: 25.6341 - val_mean_absolute_percentage_error: 12.4490\n",
      "Epoch 54/100\n",
      "10/10 [==============================] - 0s 5ms/step - loss: 11.6721 - mean_absolute_percentage_error: 12.0133 - val_loss: 25.6141 - val_mean_absolute_percentage_error: 12.4177\n",
      "Epoch 55/100\n",
      "10/10 [==============================] - 0s 5ms/step - loss: 11.5000 - mean_absolute_percentage_error: 11.9269 - val_loss: 24.8638 - val_mean_absolute_percentage_error: 12.3916\n",
      "Epoch 56/100\n",
      "10/10 [==============================] - 0s 5ms/step - loss: 11.3089 - mean_absolute_percentage_error: 11.8537 - val_loss: 24.9995 - val_mean_absolute_percentage_error: 12.2779\n",
      "Epoch 57/100\n",
      "10/10 [==============================] - 0s 7ms/step - loss: 11.1374 - mean_absolute_percentage_error: 11.7418 - val_loss: 24.8840 - val_mean_absolute_percentage_error: 12.1798\n",
      "Epoch 58/100\n",
      "10/10 [==============================] - 0s 5ms/step - loss: 10.9700 - mean_absolute_percentage_error: 11.6521 - val_loss: 24.8883 - val_mean_absolute_percentage_error: 12.1339\n",
      "Epoch 59/100\n",
      "10/10 [==============================] - 0s 7ms/step - loss: 10.8361 - mean_absolute_percentage_error: 11.5932 - val_loss: 24.2554 - val_mean_absolute_percentage_error: 12.1646\n",
      "Epoch 60/100\n",
      "10/10 [==============================] - 0s 6ms/step - loss: 10.6577 - mean_absolute_percentage_error: 11.5353 - val_loss: 24.5021 - val_mean_absolute_percentage_error: 11.9678\n",
      "Epoch 61/100\n",
      "10/10 [==============================] - 0s 5ms/step - loss: 10.5134 - mean_absolute_percentage_error: 11.3907 - val_loss: 24.6867 - val_mean_absolute_percentage_error: 11.9327\n",
      "Epoch 62/100\n",
      "10/10 [==============================] - 0s 7ms/step - loss: 10.3695 - mean_absolute_percentage_error: 11.3179 - val_loss: 24.4204 - val_mean_absolute_percentage_error: 11.9445\n",
      "Epoch 63/100\n",
      "10/10 [==============================] - 0s 7ms/step - loss: 10.2769 - mean_absolute_percentage_error: 11.2651 - val_loss: 24.1660 - val_mean_absolute_percentage_error: 11.8731\n",
      "Epoch 64/100\n",
      "10/10 [==============================] - 0s 7ms/step - loss: 10.0834 - mean_absolute_percentage_error: 11.1425 - val_loss: 24.3318 - val_mean_absolute_percentage_error: 11.6481\n",
      "Epoch 65/100\n",
      "10/10 [==============================] - 0s 5ms/step - loss: 10.0184 - mean_absolute_percentage_error: 11.0293 - val_loss: 24.6652 - val_mean_absolute_percentage_error: 11.6168\n",
      "Epoch 66/100\n",
      "10/10 [==============================] - 0s 5ms/step - loss: 9.8359 - mean_absolute_percentage_error: 10.9792 - val_loss: 23.4805 - val_mean_absolute_percentage_error: 11.6942\n",
      "Epoch 67/100\n",
      "10/10 [==============================] - 0s 5ms/step - loss: 9.7333 - mean_absolute_percentage_error: 10.9340 - val_loss: 24.0942 - val_mean_absolute_percentage_error: 11.6003\n",
      "Epoch 68/100\n",
      "10/10 [==============================] - 0s 9ms/step - loss: 9.5953 - mean_absolute_percentage_error: 10.8346 - val_loss: 23.8344 - val_mean_absolute_percentage_error: 11.3792\n",
      "Epoch 69/100\n",
      "10/10 [==============================] - 0s 5ms/step - loss: 9.4988 - mean_absolute_percentage_error: 10.8115 - val_loss: 23.5230 - val_mean_absolute_percentage_error: 11.5221\n",
      "Epoch 70/100\n",
      "10/10 [==============================] - 0s 7ms/step - loss: 9.3360 - mean_absolute_percentage_error: 10.6637 - val_loss: 24.0833 - val_mean_absolute_percentage_error: 11.3335\n",
      "Epoch 71/100\n",
      "10/10 [==============================] - 0s 5ms/step - loss: 9.2474 - mean_absolute_percentage_error: 10.5687 - val_loss: 23.9486 - val_mean_absolute_percentage_error: 11.2367\n",
      "Epoch 72/100\n",
      "10/10 [==============================] - 0s 7ms/step - loss: 9.1518 - mean_absolute_percentage_error: 10.5151 - val_loss: 23.2627 - val_mean_absolute_percentage_error: 11.2002\n",
      "Epoch 73/100\n",
      "10/10 [==============================] - 0s 5ms/step - loss: 9.0549 - mean_absolute_percentage_error: 10.4952 - val_loss: 23.5176 - val_mean_absolute_percentage_error: 11.1471\n",
      "Epoch 74/100\n",
      "10/10 [==============================] - 0s 7ms/step - loss: 9.0045 - mean_absolute_percentage_error: 10.2985 - val_loss: 24.5358 - val_mean_absolute_percentage_error: 11.2036\n",
      "Epoch 75/100\n",
      "10/10 [==============================] - 0s 9ms/step - loss: 8.8385 - mean_absolute_percentage_error: 10.3036 - val_loss: 22.9136 - val_mean_absolute_percentage_error: 11.2815\n",
      "Epoch 76/100\n",
      "10/10 [==============================] - 0s 5ms/step - loss: 8.7998 - mean_absolute_percentage_error: 10.3977 - val_loss: 22.7479 - val_mean_absolute_percentage_error: 11.1362\n",
      "Epoch 77/100\n",
      "10/10 [==============================] - 0s 7ms/step - loss: 8.6595 - mean_absolute_percentage_error: 10.1580 - val_loss: 24.2945 - val_mean_absolute_percentage_error: 11.0372\n",
      "Epoch 78/100\n",
      "10/10 [==============================] - 0s 7ms/step - loss: 8.5668 - mean_absolute_percentage_error: 10.0106 - val_loss: 23.3292 - val_mean_absolute_percentage_error: 11.0902\n",
      "Epoch 79/100\n",
      "10/10 [==============================] - 0s 6ms/step - loss: 8.4724 - mean_absolute_percentage_error: 10.1038 - val_loss: 22.7705 - val_mean_absolute_percentage_error: 11.1539\n",
      "Epoch 80/100\n",
      "10/10 [==============================] - 0s 7ms/step - loss: 8.3984 - mean_absolute_percentage_error: 10.0541 - val_loss: 23.2934 - val_mean_absolute_percentage_error: 10.9918\n",
      "Epoch 81/100\n",
      "10/10 [==============================] - 0s 9ms/step - loss: 8.3265 - mean_absolute_percentage_error: 9.8848 - val_loss: 23.3455 - val_mean_absolute_percentage_error: 10.9655\n",
      "Epoch 82/100\n",
      "10/10 [==============================] - 0s 6ms/step - loss: 8.3135 - mean_absolute_percentage_error: 9.9906 - val_loss: 22.3123 - val_mean_absolute_percentage_error: 11.1410\n",
      "Epoch 83/100\n",
      "10/10 [==============================] - 0s 5ms/step - loss: 8.1438 - mean_absolute_percentage_error: 9.8253 - val_loss: 23.6071 - val_mean_absolute_percentage_error: 11.0024\n",
      "Epoch 84/100\n",
      "10/10 [==============================] - 0s 9ms/step - loss: 8.1209 - mean_absolute_percentage_error: 9.6762 - val_loss: 23.4093 - val_mean_absolute_percentage_error: 11.0442\n",
      "Epoch 85/100\n",
      "10/10 [==============================] - 0s 7ms/step - loss: 8.0725 - mean_absolute_percentage_error: 9.8030 - val_loss: 22.1444 - val_mean_absolute_percentage_error: 11.0033\n",
      "Epoch 86/100\n",
      "10/10 [==============================] - 0s 5ms/step - loss: 7.9836 - mean_absolute_percentage_error: 9.7114 - val_loss: 23.3669 - val_mean_absolute_percentage_error: 10.9846\n",
      "Epoch 87/100\n",
      "10/10 [==============================] - 0s 5ms/step - loss: 7.8919 - mean_absolute_percentage_error: 9.6039 - val_loss: 22.7986 - val_mean_absolute_percentage_error: 10.9909\n",
      "Epoch 88/100\n",
      "10/10 [==============================] - 0s 7ms/step - loss: 7.8491 - mean_absolute_percentage_error: 9.5525 - val_loss: 23.3070 - val_mean_absolute_percentage_error: 11.0196\n",
      "Epoch 89/100\n",
      "10/10 [==============================] - 0s 5ms/step - loss: 8.0242 - mean_absolute_percentage_error: 9.7509 - val_loss: 22.0894 - val_mean_absolute_percentage_error: 10.9829\n",
      "Epoch 90/100\n",
      "10/10 [==============================] - 0s 5ms/step - loss: 7.6972 - mean_absolute_percentage_error: 9.4380 - val_loss: 23.8563 - val_mean_absolute_percentage_error: 10.9975\n",
      "Epoch 91/100\n",
      "10/10 [==============================] - 0s 5ms/step - loss: 7.7025 - mean_absolute_percentage_error: 9.4862 - val_loss: 22.9474 - val_mean_absolute_percentage_error: 11.0619\n",
      "Epoch 92/100\n",
      "10/10 [==============================] - 0s 5ms/step - loss: 7.5938 - mean_absolute_percentage_error: 9.3979 - val_loss: 22.6969 - val_mean_absolute_percentage_error: 10.9747\n",
      "Epoch 93/100\n",
      "10/10 [==============================] - 0s 5ms/step - loss: 7.5535 - mean_absolute_percentage_error: 9.3490 - val_loss: 22.4878 - val_mean_absolute_percentage_error: 10.9293\n",
      "Epoch 94/100\n",
      "10/10 [==============================] - 0s 5ms/step - loss: 7.5094 - mean_absolute_percentage_error: 9.3683 - val_loss: 22.5752 - val_mean_absolute_percentage_error: 10.9827\n",
      "Epoch 95/100\n",
      "10/10 [==============================] - 0s 5ms/step - loss: 7.4597 - mean_absolute_percentage_error: 9.2696 - val_loss: 23.0978 - val_mean_absolute_percentage_error: 10.9851\n",
      "Epoch 96/100\n",
      "10/10 [==============================] - 0s 5ms/step - loss: 7.4084 - mean_absolute_percentage_error: 9.2409 - val_loss: 22.2716 - val_mean_absolute_percentage_error: 10.9375\n",
      "Epoch 97/100\n",
      "10/10 [==============================] - 0s 7ms/step - loss: 7.3663 - mean_absolute_percentage_error: 9.2251 - val_loss: 22.6380 - val_mean_absolute_percentage_error: 10.9604\n",
      "Epoch 98/100\n",
      "10/10 [==============================] - 0s 7ms/step - loss: 7.3437 - mean_absolute_percentage_error: 9.1654 - val_loss: 22.5184 - val_mean_absolute_percentage_error: 10.9807\n",
      "Epoch 99/100\n",
      "10/10 [==============================] - 0s 5ms/step - loss: 7.2862 - mean_absolute_percentage_error: 9.1610 - val_loss: 22.7234 - val_mean_absolute_percentage_error: 11.0591\n",
      "Epoch 100/100\n",
      "10/10 [==============================] - 0s 5ms/step - loss: 7.2591 - mean_absolute_percentage_error: 9.2058 - val_loss: 22.5455 - val_mean_absolute_percentage_error: 10.9925\n"
     ]
    },
    {
     "data": {
      "image/png": "[encoded data removed]",
      "text/plain": [
       "<Figure size 640x480 with 1 Axes>"
      ]
     },
     "metadata": {},
     "output_type": "display_data"
    }
   ],
   "source": [
    "# train the model\n",
    "history = model.fit(\n",
    "    x_train, # training input\n",
    "    y_train, # training targets\n",
    "    epochs=100,\n",
    "    batch_size=32,\n",
    "    validation_split=0.1,\n",
    ")\n",
    "# plot loss function\n",
    "plot_loss(history)"
   ]
  },
  {
   "cell_type": "markdown",
   "metadata": {},
   "source": [
    "## 5. Evaluate the model"
   ]
  },
  {
   "cell_type": "markdown",
   "metadata": {},
   "source": [
    "Now we evaluate our model with the test data, which has not been used during training. Have a look at the MAE."
   ]
  },
  {
   "cell_type": "code",
   "execution_count": 22,
   "metadata": {},
   "outputs": [
    {
     "name": "stdout",
     "output_type": "stream",
     "text": [
      "2/2 [==============================] - 0s 16ms/step - loss: 5.0650 - mean_absolute_percentage_error: 7.5573\n"
     ]
    },
    {
     "data": {
      "text/plain": [
       "[5.064994812011719, 7.557276248931885]"
      ]
     },
     "execution_count": 22,
     "metadata": {},
     "output_type": "execute_result"
    }
   ],
   "source": [
    "# evaluate\n",
    "model.evaluate(x_test,y_test)"
   ]
  },
  {
   "cell_type": "markdown",
   "metadata": {},
   "source": [
    "## 6. Use the model to predict"
   ]
  },
  {
   "cell_type": "markdown",
   "metadata": {
    "id": "ft603OzXuEZC"
   },
   "source": [
    "We can start using the model to predict the MPG. Here we predict the complte test dataset. "
   ]
  },
  {
   "cell_type": "code",
   "execution_count": 23,
   "metadata": {},
   "outputs": [
    {
     "name": "stdout",
     "output_type": "stream",
     "text": [
      "2/2 [==============================] - 0s 0s/step\n"
     ]
    }
   ],
   "source": [
    "# predict \n",
    "y_predicted = model.predict(x_test)"
   ]
  },
  {
   "cell_type": "markdown",
   "metadata": {},
   "source": [
    "We plot the predicted values against the true value."
   ]
  },
  {
   "cell_type": "code",
   "execution_count": 24,
   "metadata": {
    "id": "Xe7RXH3N3CWU"
   },
   "outputs": [
    {
     "data": {
      "text/plain": [
       "[<matplotlib.lines.Line2D at 0x22fe1c477d0>]"
      ]
     },
     "execution_count": 24,
     "metadata": {},
     "output_type": "execute_result"
    },
    {
     "data": {
      "image/png": "[encoded data removed]",
      "text/plain": [
       "<Figure size 640x480 with 1 Axes>"
      ]
     },
     "metadata": {},
     "output_type": "display_data"
    }
   ],
   "source": [
    "a = plt.axes(aspect='equal')\n",
    "plt.scatter(y_test, y_predicted)\n",
    "plt.xlabel('True Values [MPG]')\n",
    "plt.ylabel('Predictions [MPG]')\n",
    "lims = [0, 50]\n",
    "plt.xlim(lims)\n",
    "plt.ylim(lims)\n",
    "plt.plot(lims, lims)"
   ]
  },
  {
   "cell_type": "markdown",
   "metadata": {
    "id": "19wyogbOSU5t"
   },
   "source": [
    "We plot the error distribution."
   ]
  },
  {
   "cell_type": "code",
   "execution_count": 25,
   "metadata": {
    "id": "f-OHX4DiXd8x"
   },
   "outputs": [
    {
     "data": {
      "text/plain": [
       "Text(0, 0.5, 'Count')"
      ]
     },
     "execution_count": 25,
     "metadata": {},
     "output_type": "execute_result"
    },
    {
     "data": {
      "image/png": "[encoded data removed]",
      "text/plain": [
       "<Figure size 640x480 with 1 Axes>"
      ]
     },
     "metadata": {},
     "output_type": "display_data"
    }
   ],
   "source": [
    "error = y_predicted - y_test\n",
    "plt.hist(error, bins=25)\n",
    "plt.xlabel('Prediction Error [MPG]')\n",
    "plt.ylabel('Count')"
   ]
  }
 ],
 "metadata": {
  "colab": {
   "collapsed_sections": [],
   "name": "regression.ipynb",
   "toc_visible": true
  },
  "kernelspec": {
   "display_name": "Python 3 (ipykernel)",
   "language": "python",
   "name": "python3"
  },
  "language_info": {
   "codemirror_mode": {
    "name": "ipython",
    "version": 3
   },
   "file_extension": ".py",
   "mimetype": "text/x-python",
   "name": "python",
   "nbconvert_exporter": "python",
   "pygments_lexer": "ipython3",
   "version": "3.11.7"
  }
 },
 "nbformat": 4,
 "nbformat_minor": 4
}
