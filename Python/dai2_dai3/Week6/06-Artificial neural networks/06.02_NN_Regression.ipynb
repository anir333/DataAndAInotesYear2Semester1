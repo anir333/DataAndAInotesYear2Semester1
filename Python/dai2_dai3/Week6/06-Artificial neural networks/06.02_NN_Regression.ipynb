{
 "cells": [
  {
   "cell_type": "markdown",
   "metadata": {
    "id": "EIdT9iu_Z4Rb"
   },
   "source": [
    "# Neural Networks - Regression"
   ]
  },
  {
   "cell_type": "markdown",
   "metadata": {},
   "source": [
    "In this tutorial, we will create a regression model, that predicts the fuel efficiency in miles per gallon (MPG). This is a continuous value, in contrast with a classification model where a class is predicted."
   ]
  },
  {
   "cell_type": "markdown",
   "metadata": {},
   "source": [
    "## 0. Import python modules"
   ]
  },
  {
   "cell_type": "markdown",
   "metadata": {
    "id": "AHp3M9ZmrIxj"
   },
   "source": [
    "We will use the Tensoflow/Keras framework for neural network machine learning."
   ]
  },
  {
   "cell_type": "code",
   "metadata": {
    "id": "1rRo8oNqZ-Rj",
    "ExecuteTime": {
     "end_time": "2024-11-06T22:02:26.202039Z",
     "start_time": "2024-11-06T22:02:26.188421Z"
    }
   },
   "source": [
    "import matplotlib.pyplot as plt\n",
    "import numpy as np\n",
    "import pandas as pd\n",
    "import seaborn as sns\n",
    "from sklearn.model_selection import train_test_split\n",
    "from sklearn.preprocessing import MinMaxScaler\n",
    "from tensorflow.keras import Model\n",
    "from tensorflow.keras.layers import Input, Dense\n",
    "from tensorflow.keras.optimizers import Adam\n",
    "from plot_loss import plot_loss # own function in plot_loss.py"
   ],
   "outputs": [],
   "execution_count": 64
  },
  {
   "cell_type": "markdown",
   "metadata": {
    "tags": []
   },
   "source": [
    "## 1. Load the dataset"
   ]
  },
  {
   "cell_type": "markdown",
   "metadata": {},
   "source": [
    "We read the dataset using pandas. The dataset is available from the [UCI Machine Learning Repository](https://archive.ics.uci.edu/ml/)."
   ]
  },
  {
   "cell_type": "code",
   "metadata": {
    "id": "CiX2FI4gZtTt",
    "ExecuteTime": {
     "end_time": "2024-11-06T22:02:28.471471Z",
     "start_time": "2024-11-06T22:02:28.458118Z"
    }
   },
   "source": [
    "column_names = ['MPG', 'Cylinders', 'Displacement', 'Horsepower', 'Weight', 'Acceleration', 'Model Year', 'Origin']\n",
    "dataset = pd.read_csv(\"/home/anir333/Desktop/KDG/Subjects/Year_2/Semester_1/DataAndAI/Python/dai2_dai3/Week6/06-Artificial neural networks/ dataset/auto-mpg.data\", names=column_names, na_values='?', sep=' ', comment='\\t', skipinitialspace=True)"
   ],
   "outputs": [],
   "execution_count": 65
  },
  {
   "cell_type": "code",
   "metadata": {
    "id": "2oY3pMPagJrO",
    "ExecuteTime": {
     "end_time": "2024-11-06T22:02:30.193487Z",
     "start_time": "2024-11-06T22:02:30.186973Z"
    }
   },
   "source": [
    "# dataset.loc[dataset['Horsepower'].isnull(), 'Horsepower']#.isnull() # to see which values are null\n",
    "# dataset.loc[dataset['Horsepower'].isnull()]#.isnull() # to see which values are null\n",
    "dataset.tail()\n",
    "dataset.shape"
   ],
   "outputs": [
    {
     "data": {
      "text/plain": [
       "(398, 8)"
      ]
     },
     "execution_count": 66,
     "metadata": {},
     "output_type": "execute_result"
    }
   ],
   "execution_count": 66
  },
  {
   "cell_type": "markdown",
   "metadata": {
    "id": "3MWuJTKEDM-f"
   },
   "source": [
    "## 2. Data cleaning and normalisation"
   ]
  },
  {
   "cell_type": "markdown",
   "metadata": {},
   "source": [
    "The dataset contains a few unknown values which we will drop."
   ]
  },
  {
   "cell_type": "code",
   "metadata": {
    "id": "JEJHhN65a2VV",
    "ExecuteTime": {
     "end_time": "2024-11-06T22:02:31.828336Z",
     "start_time": "2024-11-06T22:02:31.819674Z"
    }
   },
   "source": [
    "dataset.isna().sum()"
   ],
   "outputs": [
    {
     "data": {
      "text/plain": [
       "MPG             0\n",
       "Cylinders       0\n",
       "Displacement    0\n",
       "Horsepower      6\n",
       "Weight          0\n",
       "Acceleration    0\n",
       "Model Year      0\n",
       "Origin          0\n",
       "dtype: int64"
      ]
     },
     "execution_count": 67,
     "metadata": {},
     "output_type": "execute_result"
    }
   ],
   "execution_count": 67
  },
  {
   "cell_type": "code",
   "metadata": {
    "id": "4ZUDosChC1UN",
    "ExecuteTime": {
     "end_time": "2024-11-06T22:02:33.348701Z",
     "start_time": "2024-11-06T22:02:33.320496Z"
    }
   },
   "source": [
    "dataset = dataset.dropna()\n",
    "dataset.isna().sum()\n",
    "dataset.head()"
   ],
   "outputs": [
    {
     "data": {
      "text/plain": [
       "    MPG  Cylinders  Displacement  Horsepower  Weight  Acceleration  \\\n",
       "0  18.0          8         307.0       130.0  3504.0          12.0   \n",
       "1  15.0          8         350.0       165.0  3693.0          11.5   \n",
       "2  18.0          8         318.0       150.0  3436.0          11.0   \n",
       "3  16.0          8         304.0       150.0  3433.0          12.0   \n",
       "4  17.0          8         302.0       140.0  3449.0          10.5   \n",
       "\n",
       "   Model Year  Origin  \n",
       "0          70       1  \n",
       "1          70       1  \n",
       "2          70       1  \n",
       "3          70       1  \n",
       "4          70       1  "
      ],
      "text/html": [
       "<div>\n",
       "<style scoped>\n",
       "    .dataframe tbody tr th:only-of-type {\n",
       "        vertical-align: middle;\n",
       "    }\n",
       "\n",
       "    .dataframe tbody tr th {\n",
       "        vertical-align: top;\n",
       "    }\n",
       "\n",
       "    .dataframe thead th {\n",
       "        text-align: right;\n",
       "    }\n",
       "</style>\n",
       "<table border=\"1\" class=\"dataframe\">\n",
       "  <thead>\n",
       "    <tr style=\"text-align: right;\">\n",
       "      <th></th>\n",
       "      <th>MPG</th>\n",
       "      <th>Cylinders</th>\n",
       "      <th>Displacement</th>\n",
       "      <th>Horsepower</th>\n",
       "      <th>Weight</th>\n",
       "      <th>Acceleration</th>\n",
       "      <th>Model Year</th>\n",
       "      <th>Origin</th>\n",
       "    </tr>\n",
       "  </thead>\n",
       "  <tbody>\n",
       "    <tr>\n",
       "      <th>0</th>\n",
       "      <td>18.0</td>\n",
       "      <td>8</td>\n",
       "      <td>307.0</td>\n",
       "      <td>130.0</td>\n",
       "      <td>3504.0</td>\n",
       "      <td>12.0</td>\n",
       "      <td>70</td>\n",
       "      <td>1</td>\n",
       "    </tr>\n",
       "    <tr>\n",
       "      <th>1</th>\n",
       "      <td>15.0</td>\n",
       "      <td>8</td>\n",
       "      <td>350.0</td>\n",
       "      <td>165.0</td>\n",
       "      <td>3693.0</td>\n",
       "      <td>11.5</td>\n",
       "      <td>70</td>\n",
       "      <td>1</td>\n",
       "    </tr>\n",
       "    <tr>\n",
       "      <th>2</th>\n",
       "      <td>18.0</td>\n",
       "      <td>8</td>\n",
       "      <td>318.0</td>\n",
       "      <td>150.0</td>\n",
       "      <td>3436.0</td>\n",
       "      <td>11.0</td>\n",
       "      <td>70</td>\n",
       "      <td>1</td>\n",
       "    </tr>\n",
       "    <tr>\n",
       "      <th>3</th>\n",
       "      <td>16.0</td>\n",
       "      <td>8</td>\n",
       "      <td>304.0</td>\n",
       "      <td>150.0</td>\n",
       "      <td>3433.0</td>\n",
       "      <td>12.0</td>\n",
       "      <td>70</td>\n",
       "      <td>1</td>\n",
       "    </tr>\n",
       "    <tr>\n",
       "      <th>4</th>\n",
       "      <td>17.0</td>\n",
       "      <td>8</td>\n",
       "      <td>302.0</td>\n",
       "      <td>140.0</td>\n",
       "      <td>3449.0</td>\n",
       "      <td>10.5</td>\n",
       "      <td>70</td>\n",
       "      <td>1</td>\n",
       "    </tr>\n",
       "  </tbody>\n",
       "</table>\n",
       "</div>"
      ]
     },
     "execution_count": 68,
     "metadata": {},
     "output_type": "execute_result"
    }
   ],
   "execution_count": 68
  },
  {
   "cell_type": "markdown",
   "metadata": {},
   "source": [
    "We separate the input features `x` from the target values `y`."
   ]
  },
  {
   "cell_type": "code",
   "metadata": {
    "id": "qn-IGhUE7_1H",
    "ExecuteTime": {
     "end_time": "2024-11-06T22:02:35.031611Z",
     "start_time": "2024-11-06T22:02:35.006099Z"
    }
   },
   "source": [
    "x = dataset[[\"Cylinders\",\"Displacement\", \"Horsepower\", \"Weight\", \"Acceleration\", \"Model Year\"]]\n",
    "y = dataset[['MPG']]"
   ],
   "outputs": [],
   "execution_count": 69
  },
  {
   "cell_type": "markdown",
   "metadata": {},
   "source": [
    "We now normalize the inputs using the `MinMaxScaler.` It is good practice always to do this so that all the features get the same scale and range (which is not the case in this dataset)."
   ]
  },
  {
   "cell_type": "code",
   "metadata": {
    "ExecuteTime": {
     "end_time": "2024-11-06T22:02:36.728483Z",
     "start_time": "2024-11-06T22:02:36.637642Z"
    }
   },
   "source": [
    "x.describe()"
   ],
   "outputs": [
    {
     "data": {
      "text/plain": [
       "        Cylinders  Displacement  Horsepower       Weight  Acceleration  \\\n",
       "count  392.000000    392.000000  392.000000   392.000000    392.000000   \n",
       "mean     5.471939    194.411990  104.469388  2977.584184     15.541327   \n",
       "std      1.705783    104.644004   38.491160   849.402560      2.758864   \n",
       "min      3.000000     68.000000   46.000000  1613.000000      8.000000   \n",
       "25%      4.000000    105.000000   75.000000  2225.250000     13.775000   \n",
       "50%      4.000000    151.000000   93.500000  2803.500000     15.500000   \n",
       "75%      8.000000    275.750000  126.000000  3614.750000     17.025000   \n",
       "max      8.000000    455.000000  230.000000  5140.000000     24.800000   \n",
       "\n",
       "       Model Year  \n",
       "count  392.000000  \n",
       "mean    75.979592  \n",
       "std      3.683737  \n",
       "min     70.000000  \n",
       "25%     73.000000  \n",
       "50%     76.000000  \n",
       "75%     79.000000  \n",
       "max     82.000000  "
      ],
      "text/html": [
       "<div>\n",
       "<style scoped>\n",
       "    .dataframe tbody tr th:only-of-type {\n",
       "        vertical-align: middle;\n",
       "    }\n",
       "\n",
       "    .dataframe tbody tr th {\n",
       "        vertical-align: top;\n",
       "    }\n",
       "\n",
       "    .dataframe thead th {\n",
       "        text-align: right;\n",
       "    }\n",
       "</style>\n",
       "<table border=\"1\" class=\"dataframe\">\n",
       "  <thead>\n",
       "    <tr style=\"text-align: right;\">\n",
       "      <th></th>\n",
       "      <th>Cylinders</th>\n",
       "      <th>Displacement</th>\n",
       "      <th>Horsepower</th>\n",
       "      <th>Weight</th>\n",
       "      <th>Acceleration</th>\n",
       "      <th>Model Year</th>\n",
       "    </tr>\n",
       "  </thead>\n",
       "  <tbody>\n",
       "    <tr>\n",
       "      <th>count</th>\n",
       "      <td>392.000000</td>\n",
       "      <td>392.000000</td>\n",
       "      <td>392.000000</td>\n",
       "      <td>392.000000</td>\n",
       "      <td>392.000000</td>\n",
       "      <td>392.000000</td>\n",
       "    </tr>\n",
       "    <tr>\n",
       "      <th>mean</th>\n",
       "      <td>5.471939</td>\n",
       "      <td>194.411990</td>\n",
       "      <td>104.469388</td>\n",
       "      <td>2977.584184</td>\n",
       "      <td>15.541327</td>\n",
       "      <td>75.979592</td>\n",
       "    </tr>\n",
       "    <tr>\n",
       "      <th>std</th>\n",
       "      <td>1.705783</td>\n",
       "      <td>104.644004</td>\n",
       "      <td>38.491160</td>\n",
       "      <td>849.402560</td>\n",
       "      <td>2.758864</td>\n",
       "      <td>3.683737</td>\n",
       "    </tr>\n",
       "    <tr>\n",
       "      <th>min</th>\n",
       "      <td>3.000000</td>\n",
       "      <td>68.000000</td>\n",
       "      <td>46.000000</td>\n",
       "      <td>1613.000000</td>\n",
       "      <td>8.000000</td>\n",
       "      <td>70.000000</td>\n",
       "    </tr>\n",
       "    <tr>\n",
       "      <th>25%</th>\n",
       "      <td>4.000000</td>\n",
       "      <td>105.000000</td>\n",
       "      <td>75.000000</td>\n",
       "      <td>2225.250000</td>\n",
       "      <td>13.775000</td>\n",
       "      <td>73.000000</td>\n",
       "    </tr>\n",
       "    <tr>\n",
       "      <th>50%</th>\n",
       "      <td>4.000000</td>\n",
       "      <td>151.000000</td>\n",
       "      <td>93.500000</td>\n",
       "      <td>2803.500000</td>\n",
       "      <td>15.500000</td>\n",
       "      <td>76.000000</td>\n",
       "    </tr>\n",
       "    <tr>\n",
       "      <th>75%</th>\n",
       "      <td>8.000000</td>\n",
       "      <td>275.750000</td>\n",
       "      <td>126.000000</td>\n",
       "      <td>3614.750000</td>\n",
       "      <td>17.025000</td>\n",
       "      <td>79.000000</td>\n",
       "    </tr>\n",
       "    <tr>\n",
       "      <th>max</th>\n",
       "      <td>8.000000</td>\n",
       "      <td>455.000000</td>\n",
       "      <td>230.000000</td>\n",
       "      <td>5140.000000</td>\n",
       "      <td>24.800000</td>\n",
       "      <td>82.000000</td>\n",
       "    </tr>\n",
       "  </tbody>\n",
       "</table>\n",
       "</div>"
      ]
     },
     "execution_count": 70,
     "metadata": {},
     "output_type": "execute_result"
    }
   ],
   "execution_count": 70
  },
  {
   "cell_type": "code",
   "metadata": {
    "ExecuteTime": {
     "end_time": "2024-11-06T22:02:38.538562Z",
     "start_time": "2024-11-06T22:02:38.530627Z"
    }
   },
   "source": [
    "scaler = MinMaxScaler()\n",
    "x_norm = scaler.fit_transform(x)"
   ],
   "outputs": [],
   "execution_count": 71
  },
  {
   "cell_type": "markdown",
   "metadata": {
    "id": "Cuym4yvk76vU"
   },
   "source": [
    "Next, we will split the data into a training and a test dataset."
   ]
  },
  {
   "cell_type": "code",
   "metadata": {
    "ExecuteTime": {
     "end_time": "2024-11-06T22:02:40.109122Z",
     "start_time": "2024-11-06T22:02:40.092671Z"
    }
   },
   "source": [
    "x_train,x_test,y_train,y_test = train_test_split(x_norm,y,test_size=0.1) \n",
    "x_train.shape"
   ],
   "outputs": [
    {
     "data": {
      "text/plain": [
       "(352, 6)"
      ]
     },
     "execution_count": 72,
     "metadata": {},
     "output_type": "execute_result"
    }
   ],
   "execution_count": 72
  },
  {
   "cell_type": "markdown",
   "metadata": {},
   "source": [
    "## 3. Define the model"
   ]
  },
  {
   "cell_type": "markdown",
   "metadata": {
    "id": "CSkanJlmmFBX"
   },
   "source": [
    "The input layer has 6 nodes, corresponding to the number of input features. We choose 2 hidden layers with 64 nodes and a `relu` activation function (feel free to try other values/functions). The output layer has 1 node corresponding to the one MPG value to predict. For regression models, a `linear` activation function is often used in the output layer. We choose Adam as optimizer with a learning rate of `0.001`. The loss is the `MSE` loss which is often used for regression models. We also define a `mean_absolute_percentage_error` metric."
   ]
  },
  {
   "cell_type": "code",
   "metadata": {
    "id": "c26juK7ZG8j-",
    "ExecuteTime": {
     "end_time": "2024-11-06T22:02:42.103327Z",
     "start_time": "2024-11-06T22:02:41.977191Z"
    }
   },
   "source": [
    "# input layer 6 nodes\n",
    "inputs = Input(shape=(6,))\n",
    "# 2 hidden layer\n",
    "x = Dense(64, activation='relu')(inputs)\n",
    "x = Dense(64, activation='relu')(x)\n",
    "# output layer\n",
    "outputs = Dense(1, activation='linear')(x)\n",
    "# construct the model\n",
    "model = Model(inputs, outputs, name='auto-mpg')\n",
    "# print a summary\n",
    "model.summary()\n",
    "# compile the model\n",
    "model.compile(\n",
    "    optimizer=Adam(learning_rate=0.001),\n",
    "    loss='mean_squared_error',\n",
    "    metrics=['mean_absolute_percentage_error']\n",
    ")"
   ],
   "outputs": [
    {
     "data": {
      "text/plain": [
       "\u001B[1mModel: \"auto-mpg\"\u001B[0m\n"
      ],
      "text/html": [
       "<pre style=\"white-space:pre;overflow-x:auto;line-height:normal;font-family:Menlo,'DejaVu Sans Mono',consolas,'Courier New',monospace\"><span style=\"font-weight: bold\">Model: \"auto-mpg\"</span>\n",
       "</pre>\n"
      ]
     },
     "metadata": {},
     "output_type": "display_data"
    },
    {
     "data": {
      "text/plain": [
       "┏━━━━━━━━━━━━━━━━━━━━━━━━━━━━━━━━━┳━━━━━━━━━━━━━━━━━━━━━━━━┳━━━━━━━━━━━━━━━┓\n",
       "┃\u001B[1m \u001B[0m\u001B[1mLayer (type)                   \u001B[0m\u001B[1m \u001B[0m┃\u001B[1m \u001B[0m\u001B[1mOutput Shape          \u001B[0m\u001B[1m \u001B[0m┃\u001B[1m \u001B[0m\u001B[1m      Param #\u001B[0m\u001B[1m \u001B[0m┃\n",
       "┡━━━━━━━━━━━━━━━━━━━━━━━━━━━━━━━━━╇━━━━━━━━━━━━━━━━━━━━━━━━╇━━━━━━━━━━━━━━━┩\n",
       "│ input_layer (\u001B[38;5;33mInputLayer\u001B[0m)        │ (\u001B[38;5;45mNone\u001B[0m, \u001B[38;5;34m6\u001B[0m)              │             \u001B[38;5;34m0\u001B[0m │\n",
       "├─────────────────────────────────┼────────────────────────┼───────────────┤\n",
       "│ dense (\u001B[38;5;33mDense\u001B[0m)                   │ (\u001B[38;5;45mNone\u001B[0m, \u001B[38;5;34m64\u001B[0m)             │           \u001B[38;5;34m448\u001B[0m │\n",
       "├─────────────────────────────────┼────────────────────────┼───────────────┤\n",
       "│ dense_1 (\u001B[38;5;33mDense\u001B[0m)                 │ (\u001B[38;5;45mNone\u001B[0m, \u001B[38;5;34m64\u001B[0m)             │         \u001B[38;5;34m4,160\u001B[0m │\n",
       "├─────────────────────────────────┼────────────────────────┼───────────────┤\n",
       "│ dense_2 (\u001B[38;5;33mDense\u001B[0m)                 │ (\u001B[38;5;45mNone\u001B[0m, \u001B[38;5;34m1\u001B[0m)              │            \u001B[38;5;34m65\u001B[0m │\n",
       "└─────────────────────────────────┴────────────────────────┴───────────────┘\n"
      ],
      "text/html": [
       "<pre style=\"white-space:pre;overflow-x:auto;line-height:normal;font-family:Menlo,'DejaVu Sans Mono',consolas,'Courier New',monospace\">┏━━━━━━━━━━━━━━━━━━━━━━━━━━━━━━━━━┳━━━━━━━━━━━━━━━━━━━━━━━━┳━━━━━━━━━━━━━━━┓\n",
       "┃<span style=\"font-weight: bold\"> Layer (type)                    </span>┃<span style=\"font-weight: bold\"> Output Shape           </span>┃<span style=\"font-weight: bold\">       Param # </span>┃\n",
       "┡━━━━━━━━━━━━━━━━━━━━━━━━━━━━━━━━━╇━━━━━━━━━━━━━━━━━━━━━━━━╇━━━━━━━━━━━━━━━┩\n",
       "│ input_layer (<span style=\"color: #0087ff; text-decoration-color: #0087ff\">InputLayer</span>)        │ (<span style=\"color: #00d7ff; text-decoration-color: #00d7ff\">None</span>, <span style=\"color: #00af00; text-decoration-color: #00af00\">6</span>)              │             <span style=\"color: #00af00; text-decoration-color: #00af00\">0</span> │\n",
       "├─────────────────────────────────┼────────────────────────┼───────────────┤\n",
       "│ dense (<span style=\"color: #0087ff; text-decoration-color: #0087ff\">Dense</span>)                   │ (<span style=\"color: #00d7ff; text-decoration-color: #00d7ff\">None</span>, <span style=\"color: #00af00; text-decoration-color: #00af00\">64</span>)             │           <span style=\"color: #00af00; text-decoration-color: #00af00\">448</span> │\n",
       "├─────────────────────────────────┼────────────────────────┼───────────────┤\n",
       "│ dense_1 (<span style=\"color: #0087ff; text-decoration-color: #0087ff\">Dense</span>)                 │ (<span style=\"color: #00d7ff; text-decoration-color: #00d7ff\">None</span>, <span style=\"color: #00af00; text-decoration-color: #00af00\">64</span>)             │         <span style=\"color: #00af00; text-decoration-color: #00af00\">4,160</span> │\n",
       "├─────────────────────────────────┼────────────────────────┼───────────────┤\n",
       "│ dense_2 (<span style=\"color: #0087ff; text-decoration-color: #0087ff\">Dense</span>)                 │ (<span style=\"color: #00d7ff; text-decoration-color: #00d7ff\">None</span>, <span style=\"color: #00af00; text-decoration-color: #00af00\">1</span>)              │            <span style=\"color: #00af00; text-decoration-color: #00af00\">65</span> │\n",
       "└─────────────────────────────────┴────────────────────────┴───────────────┘\n",
       "</pre>\n"
      ]
     },
     "metadata": {},
     "output_type": "display_data"
    },
    {
     "data": {
      "text/plain": [
       "\u001B[1m Total params: \u001B[0m\u001B[38;5;34m4,673\u001B[0m (18.25 KB)\n"
      ],
      "text/html": [
       "<pre style=\"white-space:pre;overflow-x:auto;line-height:normal;font-family:Menlo,'DejaVu Sans Mono',consolas,'Courier New',monospace\"><span style=\"font-weight: bold\"> Total params: </span><span style=\"color: #00af00; text-decoration-color: #00af00\">4,673</span> (18.25 KB)\n",
       "</pre>\n"
      ]
     },
     "metadata": {},
     "output_type": "display_data"
    },
    {
     "data": {
      "text/plain": [
       "\u001B[1m Trainable params: \u001B[0m\u001B[38;5;34m4,673\u001B[0m (18.25 KB)\n"
      ],
      "text/html": [
       "<pre style=\"white-space:pre;overflow-x:auto;line-height:normal;font-family:Menlo,'DejaVu Sans Mono',consolas,'Courier New',monospace\"><span style=\"font-weight: bold\"> Trainable params: </span><span style=\"color: #00af00; text-decoration-color: #00af00\">4,673</span> (18.25 KB)\n",
       "</pre>\n"
      ]
     },
     "metadata": {},
     "output_type": "display_data"
    },
    {
     "data": {
      "text/plain": [
       "\u001B[1m Non-trainable params: \u001B[0m\u001B[38;5;34m0\u001B[0m (0.00 B)\n"
      ],
      "text/html": [
       "<pre style=\"white-space:pre;overflow-x:auto;line-height:normal;font-family:Menlo,'DejaVu Sans Mono',consolas,'Courier New',monospace\"><span style=\"font-weight: bold\"> Non-trainable params: </span><span style=\"color: #00af00; text-decoration-color: #00af00\">0</span> (0.00 B)\n",
       "</pre>\n"
      ]
     },
     "metadata": {},
     "output_type": "display_data"
    }
   ],
   "execution_count": 73
  },
  {
   "cell_type": "markdown",
   "metadata": {},
   "source": [
    "## 4. Train the model"
   ]
  },
  {
   "cell_type": "markdown",
   "metadata": {},
   "source": [
    "We train the model for 100 epochs, with a batch size of 32 (feel free to try other values). We take 10% of the training dataset for validation data."
   ]
  },
  {
   "cell_type": "code",
   "metadata": {
    "scrolled": true,
    "ExecuteTime": {
     "end_time": "2024-11-06T22:02:55.116967Z",
     "start_time": "2024-11-06T22:02:44.897881Z"
    }
   },
   "source": [
    "# train the model\n",
    "history = model.fit(\n",
    "    x_train, # training input\n",
    "    y_train, # training targets\n",
    "    epochs=100,\n",
    "    batch_size=32,\n",
    "    validation_split=0.1,\n",
    ")\n",
    "# plot loss function\n",
    "plot_loss(history)"
   ],
   "outputs": [
    {
     "name": "stdout",
     "output_type": "stream",
     "text": [
      "Epoch 1/100\n",
      "\u001B[1m10/10\u001B[0m \u001B[32m━━━━━━━━━━━━━━━━━━━━\u001B[0m\u001B[37m\u001B[0m \u001B[1m2s\u001B[0m 52ms/step - loss: 596.3845 - mean_absolute_percentage_error: 99.5234 - val_loss: 540.8978 - val_mean_absolute_percentage_error: 97.6430\n",
      "Epoch 2/100\n",
      "\u001B[1m10/10\u001B[0m \u001B[32m━━━━━━━━━━━━━━━━━━━━\u001B[0m\u001B[37m\u001B[0m \u001B[1m0s\u001B[0m 5ms/step - loss: 577.7209 - mean_absolute_percentage_error: 97.4629 - val_loss: 521.6678 - val_mean_absolute_percentage_error: 94.9205\n",
      "Epoch 3/100\n",
      "\u001B[1m10/10\u001B[0m \u001B[32m━━━━━━━━━━━━━━━━━━━━\u001B[0m\u001B[37m\u001B[0m \u001B[1m0s\u001B[0m 5ms/step - loss: 561.9062 - mean_absolute_percentage_error: 94.7663 - val_loss: 494.7806 - val_mean_absolute_percentage_error: 91.1416\n",
      "Epoch 4/100\n",
      "\u001B[1m10/10\u001B[0m \u001B[32m━━━━━━━━━━━━━━━━━━━━\u001B[0m\u001B[37m\u001B[0m \u001B[1m0s\u001B[0m 5ms/step - loss: 537.4812 - mean_absolute_percentage_error: 91.2218 - val_loss: 455.8028 - val_mean_absolute_percentage_error: 85.4623\n",
      "Epoch 5/100\n",
      "\u001B[1m10/10\u001B[0m \u001B[32m━━━━━━━━━━━━━━━━━━━━\u001B[0m\u001B[37m\u001B[0m \u001B[1m0s\u001B[0m 5ms/step - loss: 515.5345 - mean_absolute_percentage_error: 85.3922 - val_loss: 402.0460 - val_mean_absolute_percentage_error: 76.9431\n",
      "Epoch 6/100\n",
      "\u001B[1m10/10\u001B[0m \u001B[32m━━━━━━━━━━━━━━━━━━━━\u001B[0m\u001B[37m\u001B[0m \u001B[1m0s\u001B[0m 4ms/step - loss: 444.0965 - mean_absolute_percentage_error: 77.7393 - val_loss: 333.6231 - val_mean_absolute_percentage_error: 64.6280\n",
      "Epoch 7/100\n",
      "\u001B[1m10/10\u001B[0m \u001B[32m━━━━━━━━━━━━━━━━━━━━\u001B[0m\u001B[37m\u001B[0m \u001B[1m0s\u001B[0m 5ms/step - loss: 385.2370 - mean_absolute_percentage_error: 65.5163 - val_loss: 256.7203 - val_mean_absolute_percentage_error: 47.9797\n",
      "Epoch 8/100\n",
      "\u001B[1m10/10\u001B[0m \u001B[32m━━━━━━━━━━━━━━━━━━━━\u001B[0m\u001B[37m\u001B[0m \u001B[1m0s\u001B[0m 5ms/step - loss: 260.9631 - mean_absolute_percentage_error: 50.2670 - val_loss: 188.6003 - val_mean_absolute_percentage_error: 41.6959\n",
      "Epoch 9/100\n",
      "\u001B[1m10/10\u001B[0m \u001B[32m━━━━━━━━━━━━━━━━━━━━\u001B[0m\u001B[37m\u001B[0m \u001B[1m0s\u001B[0m 5ms/step - loss: 189.9809 - mean_absolute_percentage_error: 43.7471 - val_loss: 147.8454 - val_mean_absolute_percentage_error: 44.6109\n",
      "Epoch 10/100\n",
      "\u001B[1m10/10\u001B[0m \u001B[32m━━━━━━━━━━━━━━━━━━━━\u001B[0m\u001B[37m\u001B[0m \u001B[1m0s\u001B[0m 5ms/step - loss: 164.2829 - mean_absolute_percentage_error: 45.8636 - val_loss: 132.6920 - val_mean_absolute_percentage_error: 50.1486\n",
      "Epoch 11/100\n",
      "\u001B[1m10/10\u001B[0m \u001B[32m━━━━━━━━━━━━━━━━━━━━\u001B[0m\u001B[37m\u001B[0m \u001B[1m0s\u001B[0m 4ms/step - loss: 142.0111 - mean_absolute_percentage_error: 45.7551 - val_loss: 121.9087 - val_mean_absolute_percentage_error: 50.6002\n",
      "Epoch 12/100\n",
      "\u001B[1m10/10\u001B[0m \u001B[32m━━━━━━━━━━━━━━━━━━━━\u001B[0m\u001B[37m\u001B[0m \u001B[1m0s\u001B[0m 5ms/step - loss: 110.5399 - mean_absolute_percentage_error: 44.2911 - val_loss: 103.9787 - val_mean_absolute_percentage_error: 45.8692\n",
      "Epoch 13/100\n",
      "\u001B[1m10/10\u001B[0m \u001B[32m━━━━━━━━━━━━━━━━━━━━\u001B[0m\u001B[37m\u001B[0m \u001B[1m0s\u001B[0m 5ms/step - loss: 106.3662 - mean_absolute_percentage_error: 43.3856 - val_loss: 88.2352 - val_mean_absolute_percentage_error: 41.5220\n",
      "Epoch 14/100\n",
      "\u001B[1m10/10\u001B[0m \u001B[32m━━━━━━━━━━━━━━━━━━━━\u001B[0m\u001B[37m\u001B[0m \u001B[1m0s\u001B[0m 4ms/step - loss: 89.6407 - mean_absolute_percentage_error: 37.2325 - val_loss: 74.7393 - val_mean_absolute_percentage_error: 37.5071\n",
      "Epoch 15/100\n",
      "\u001B[1m10/10\u001B[0m \u001B[32m━━━━━━━━━━━━━━━━━━━━\u001B[0m\u001B[37m\u001B[0m \u001B[1m0s\u001B[0m 5ms/step - loss: 75.0732 - mean_absolute_percentage_error: 35.5373 - val_loss: 62.5214 - val_mean_absolute_percentage_error: 33.3957\n",
      "Epoch 16/100\n",
      "\u001B[1m10/10\u001B[0m \u001B[32m━━━━━━━━━━━━━━━━━━━━\u001B[0m\u001B[37m\u001B[0m \u001B[1m0s\u001B[0m 4ms/step - loss: 64.7296 - mean_absolute_percentage_error: 31.5015 - val_loss: 52.1094 - val_mean_absolute_percentage_error: 30.1491\n",
      "Epoch 17/100\n",
      "\u001B[1m10/10\u001B[0m \u001B[32m━━━━━━━━━━━━━━━━━━━━\u001B[0m\u001B[37m\u001B[0m \u001B[1m0s\u001B[0m 5ms/step - loss: 55.9503 - mean_absolute_percentage_error: 29.6589 - val_loss: 43.2072 - val_mean_absolute_percentage_error: 26.8150\n",
      "Epoch 18/100\n",
      "\u001B[1m10/10\u001B[0m \u001B[32m━━━━━━━━━━━━━━━━━━━━\u001B[0m\u001B[37m\u001B[0m \u001B[1m0s\u001B[0m 4ms/step - loss: 45.1956 - mean_absolute_percentage_error: 27.2689 - val_loss: 35.8526 - val_mean_absolute_percentage_error: 23.9221\n",
      "Epoch 19/100\n",
      "\u001B[1m10/10\u001B[0m \u001B[32m━━━━━━━━━━━━━━━━━━━━\u001B[0m\u001B[37m\u001B[0m \u001B[1m0s\u001B[0m 4ms/step - loss: 39.5194 - mean_absolute_percentage_error: 23.8029 - val_loss: 29.9850 - val_mean_absolute_percentage_error: 22.1065\n",
      "Epoch 20/100\n",
      "\u001B[1m10/10\u001B[0m \u001B[32m━━━━━━━━━━━━━━━━━━━━\u001B[0m\u001B[37m\u001B[0m \u001B[1m0s\u001B[0m 4ms/step - loss: 34.4104 - mean_absolute_percentage_error: 21.6946 - val_loss: 25.5110 - val_mean_absolute_percentage_error: 20.5265\n",
      "Epoch 21/100\n",
      "\u001B[1m10/10\u001B[0m \u001B[32m━━━━━━━━━━━━━━━━━━━━\u001B[0m\u001B[37m\u001B[0m \u001B[1m0s\u001B[0m 4ms/step - loss: 28.9197 - mean_absolute_percentage_error: 20.3934 - val_loss: 22.1560 - val_mean_absolute_percentage_error: 19.1736\n",
      "Epoch 22/100\n",
      "\u001B[1m10/10\u001B[0m \u001B[32m━━━━━━━━━━━━━━━━━━━━\u001B[0m\u001B[37m\u001B[0m \u001B[1m0s\u001B[0m 4ms/step - loss: 29.4292 - mean_absolute_percentage_error: 19.6488 - val_loss: 19.8244 - val_mean_absolute_percentage_error: 18.1905\n",
      "Epoch 23/100\n",
      "\u001B[1m10/10\u001B[0m \u001B[32m━━━━━━━━━━━━━━━━━━━━\u001B[0m\u001B[37m\u001B[0m \u001B[1m0s\u001B[0m 5ms/step - loss: 24.6790 - mean_absolute_percentage_error: 18.7176 - val_loss: 18.2111 - val_mean_absolute_percentage_error: 17.3453\n",
      "Epoch 24/100\n",
      "\u001B[1m10/10\u001B[0m \u001B[32m━━━━━━━━━━━━━━━━━━━━\u001B[0m\u001B[37m\u001B[0m \u001B[1m0s\u001B[0m 5ms/step - loss: 21.4873 - mean_absolute_percentage_error: 16.7816 - val_loss: 17.1432 - val_mean_absolute_percentage_error: 16.7619\n",
      "Epoch 25/100\n",
      "\u001B[1m10/10\u001B[0m \u001B[32m━━━━━━━━━━━━━━━━━━━━\u001B[0m\u001B[37m\u001B[0m \u001B[1m0s\u001B[0m 5ms/step - loss: 22.7527 - mean_absolute_percentage_error: 16.9191 - val_loss: 16.3525 - val_mean_absolute_percentage_error: 16.2895\n",
      "Epoch 26/100\n",
      "\u001B[1m10/10\u001B[0m \u001B[32m━━━━━━━━━━━━━━━━━━━━\u001B[0m\u001B[37m\u001B[0m \u001B[1m0s\u001B[0m 4ms/step - loss: 19.0658 - mean_absolute_percentage_error: 15.3430 - val_loss: 15.8241 - val_mean_absolute_percentage_error: 15.8423\n",
      "Epoch 27/100\n",
      "\u001B[1m10/10\u001B[0m \u001B[32m━━━━━━━━━━━━━━━━━━━━\u001B[0m\u001B[37m\u001B[0m \u001B[1m0s\u001B[0m 5ms/step - loss: 19.1720 - mean_absolute_percentage_error: 15.5728 - val_loss: 15.4461 - val_mean_absolute_percentage_error: 15.4338\n",
      "Epoch 28/100\n",
      "\u001B[1m10/10\u001B[0m \u001B[32m━━━━━━━━━━━━━━━━━━━━\u001B[0m\u001B[37m\u001B[0m \u001B[1m0s\u001B[0m 4ms/step - loss: 19.4930 - mean_absolute_percentage_error: 15.6514 - val_loss: 15.0060 - val_mean_absolute_percentage_error: 15.2987\n",
      "Epoch 29/100\n",
      "\u001B[1m10/10\u001B[0m \u001B[32m━━━━━━━━━━━━━━━━━━━━\u001B[0m\u001B[37m\u001B[0m \u001B[1m0s\u001B[0m 5ms/step - loss: 21.0146 - mean_absolute_percentage_error: 15.4231 - val_loss: 14.6337 - val_mean_absolute_percentage_error: 15.1473\n",
      "Epoch 30/100\n",
      "\u001B[1m10/10\u001B[0m \u001B[32m━━━━━━━━━━━━━━━━━━━━\u001B[0m\u001B[37m\u001B[0m \u001B[1m0s\u001B[0m 5ms/step - loss: 16.3384 - mean_absolute_percentage_error: 14.2294 - val_loss: 14.3826 - val_mean_absolute_percentage_error: 14.8358\n",
      "Epoch 31/100\n",
      "\u001B[1m10/10\u001B[0m \u001B[32m━━━━━━━━━━━━━━━━━━━━\u001B[0m\u001B[37m\u001B[0m \u001B[1m0s\u001B[0m 5ms/step - loss: 18.0246 - mean_absolute_percentage_error: 15.0191 - val_loss: 13.9936 - val_mean_absolute_percentage_error: 14.7231\n",
      "Epoch 32/100\n",
      "\u001B[1m10/10\u001B[0m \u001B[32m━━━━━━━━━━━━━━━━━━━━\u001B[0m\u001B[37m\u001B[0m \u001B[1m0s\u001B[0m 5ms/step - loss: 15.5555 - mean_absolute_percentage_error: 13.8874 - val_loss: 13.7097 - val_mean_absolute_percentage_error: 14.5839\n",
      "Epoch 33/100\n",
      "\u001B[1m10/10\u001B[0m \u001B[32m━━━━━━━━━━━━━━━━━━━━\u001B[0m\u001B[37m\u001B[0m \u001B[1m0s\u001B[0m 5ms/step - loss: 19.5545 - mean_absolute_percentage_error: 14.7187 - val_loss: 13.4140 - val_mean_absolute_percentage_error: 14.4186\n",
      "Epoch 34/100\n",
      "\u001B[1m10/10\u001B[0m \u001B[32m━━━━━━━━━━━━━━━━━━━━\u001B[0m\u001B[37m\u001B[0m \u001B[1m0s\u001B[0m 5ms/step - loss: 18.3736 - mean_absolute_percentage_error: 13.8737 - val_loss: 13.1769 - val_mean_absolute_percentage_error: 14.1540\n",
      "Epoch 35/100\n",
      "\u001B[1m10/10\u001B[0m \u001B[32m━━━━━━━━━━━━━━━━━━━━\u001B[0m\u001B[37m\u001B[0m \u001B[1m0s\u001B[0m 6ms/step - loss: 17.1067 - mean_absolute_percentage_error: 13.6799 - val_loss: 12.9182 - val_mean_absolute_percentage_error: 13.9789\n",
      "Epoch 36/100\n",
      "\u001B[1m10/10\u001B[0m \u001B[32m━━━━━━━━━━━━━━━━━━━━\u001B[0m\u001B[37m\u001B[0m \u001B[1m0s\u001B[0m 6ms/step - loss: 15.4363 - mean_absolute_percentage_error: 13.8380 - val_loss: 12.6245 - val_mean_absolute_percentage_error: 13.8282\n",
      "Epoch 37/100\n",
      "\u001B[1m10/10\u001B[0m \u001B[32m━━━━━━━━━━━━━━━━━━━━\u001B[0m\u001B[37m\u001B[0m \u001B[1m0s\u001B[0m 5ms/step - loss: 15.4156 - mean_absolute_percentage_error: 13.5262 - val_loss: 12.3746 - val_mean_absolute_percentage_error: 13.7600\n",
      "Epoch 38/100\n",
      "\u001B[1m10/10\u001B[0m \u001B[32m━━━━━━━━━━━━━━━━━━━━\u001B[0m\u001B[37m\u001B[0m \u001B[1m0s\u001B[0m 5ms/step - loss: 14.3381 - mean_absolute_percentage_error: 13.4752 - val_loss: 12.2049 - val_mean_absolute_percentage_error: 13.5048\n",
      "Epoch 39/100\n",
      "\u001B[1m10/10\u001B[0m \u001B[32m━━━━━━━━━━━━━━━━━━━━\u001B[0m\u001B[37m\u001B[0m \u001B[1m0s\u001B[0m 5ms/step - loss: 16.9567 - mean_absolute_percentage_error: 14.2374 - val_loss: 11.9505 - val_mean_absolute_percentage_error: 13.5161\n",
      "Epoch 40/100\n",
      "\u001B[1m10/10\u001B[0m \u001B[32m━━━━━━━━━━━━━━━━━━━━\u001B[0m\u001B[37m\u001B[0m \u001B[1m0s\u001B[0m 10ms/step - loss: 15.3176 - mean_absolute_percentage_error: 13.1343 - val_loss: 11.7681 - val_mean_absolute_percentage_error: 13.3329\n",
      "Epoch 41/100\n",
      "\u001B[1m10/10\u001B[0m \u001B[32m━━━━━━━━━━━━━━━━━━━━\u001B[0m\u001B[37m\u001B[0m \u001B[1m0s\u001B[0m 10ms/step - loss: 14.4727 - mean_absolute_percentage_error: 12.7937 - val_loss: 11.6011 - val_mean_absolute_percentage_error: 13.2626\n",
      "Epoch 42/100\n",
      "\u001B[1m10/10\u001B[0m \u001B[32m━━━━━━━━━━━━━━━━━━━━\u001B[0m\u001B[37m\u001B[0m \u001B[1m0s\u001B[0m 10ms/step - loss: 13.6127 - mean_absolute_percentage_error: 12.5786 - val_loss: 11.4154 - val_mean_absolute_percentage_error: 13.3398\n",
      "Epoch 43/100\n",
      "\u001B[1m10/10\u001B[0m \u001B[32m━━━━━━━━━━━━━━━━━━━━\u001B[0m\u001B[37m\u001B[0m \u001B[1m0s\u001B[0m 10ms/step - loss: 14.9414 - mean_absolute_percentage_error: 13.1334 - val_loss: 11.2545 - val_mean_absolute_percentage_error: 13.2016\n",
      "Epoch 44/100\n",
      "\u001B[1m10/10\u001B[0m \u001B[32m━━━━━━━━━━━━━━━━━━━━\u001B[0m\u001B[37m\u001B[0m \u001B[1m0s\u001B[0m 11ms/step - loss: 14.9031 - mean_absolute_percentage_error: 12.6227 - val_loss: 11.1216 - val_mean_absolute_percentage_error: 13.0304\n",
      "Epoch 45/100\n",
      "\u001B[1m10/10\u001B[0m \u001B[32m━━━━━━━━━━━━━━━━━━━━\u001B[0m\u001B[37m\u001B[0m \u001B[1m0s\u001B[0m 5ms/step - loss: 14.3244 - mean_absolute_percentage_error: 12.9861 - val_loss: 10.9858 - val_mean_absolute_percentage_error: 12.9672\n",
      "Epoch 46/100\n",
      "\u001B[1m10/10\u001B[0m \u001B[32m━━━━━━━━━━━━━━━━━━━━\u001B[0m\u001B[37m\u001B[0m \u001B[1m0s\u001B[0m 5ms/step - loss: 14.7256 - mean_absolute_percentage_error: 13.3349 - val_loss: 10.8443 - val_mean_absolute_percentage_error: 13.0483\n",
      "Epoch 47/100\n",
      "\u001B[1m10/10\u001B[0m \u001B[32m━━━━━━━━━━━━━━━━━━━━\u001B[0m\u001B[37m\u001B[0m \u001B[1m0s\u001B[0m 5ms/step - loss: 14.8020 - mean_absolute_percentage_error: 13.3784 - val_loss: 10.7349 - val_mean_absolute_percentage_error: 12.8276\n",
      "Epoch 48/100\n",
      "\u001B[1m10/10\u001B[0m \u001B[32m━━━━━━━━━━━━━━━━━━━━\u001B[0m\u001B[37m\u001B[0m \u001B[1m0s\u001B[0m 8ms/step - loss: 14.8206 - mean_absolute_percentage_error: 12.1902 - val_loss: 10.6191 - val_mean_absolute_percentage_error: 12.7799\n",
      "Epoch 49/100\n",
      "\u001B[1m10/10\u001B[0m \u001B[32m━━━━━━━━━━━━━━━━━━━━\u001B[0m\u001B[37m\u001B[0m \u001B[1m0s\u001B[0m 8ms/step - loss: 13.7617 - mean_absolute_percentage_error: 12.3599 - val_loss: 10.5239 - val_mean_absolute_percentage_error: 12.6169\n",
      "Epoch 50/100\n",
      "\u001B[1m10/10\u001B[0m \u001B[32m━━━━━━━━━━━━━━━━━━━━\u001B[0m\u001B[37m\u001B[0m \u001B[1m0s\u001B[0m 9ms/step - loss: 13.0469 - mean_absolute_percentage_error: 12.0896 - val_loss: 10.3938 - val_mean_absolute_percentage_error: 12.7568\n",
      "Epoch 51/100\n",
      "\u001B[1m10/10\u001B[0m \u001B[32m━━━━━━━━━━━━━━━━━━━━\u001B[0m\u001B[37m\u001B[0m \u001B[1m0s\u001B[0m 7ms/step - loss: 12.9272 - mean_absolute_percentage_error: 11.6392 - val_loss: 10.2886 - val_mean_absolute_percentage_error: 12.5932\n",
      "Epoch 52/100\n",
      "\u001B[1m10/10\u001B[0m \u001B[32m━━━━━━━━━━━━━━━━━━━━\u001B[0m\u001B[37m\u001B[0m \u001B[1m0s\u001B[0m 5ms/step - loss: 14.2991 - mean_absolute_percentage_error: 11.9295 - val_loss: 10.2144 - val_mean_absolute_percentage_error: 12.5554\n",
      "Epoch 53/100\n",
      "\u001B[1m10/10\u001B[0m \u001B[32m━━━━━━━━━━━━━━━━━━━━\u001B[0m\u001B[37m\u001B[0m \u001B[1m0s\u001B[0m 5ms/step - loss: 9.5972 - mean_absolute_percentage_error: 10.4728 - val_loss: 10.1281 - val_mean_absolute_percentage_error: 12.4559\n",
      "Epoch 54/100\n",
      "\u001B[1m10/10\u001B[0m \u001B[32m━━━━━━━━━━━━━━━━━━━━\u001B[0m\u001B[37m\u001B[0m \u001B[1m0s\u001B[0m 4ms/step - loss: 12.1582 - mean_absolute_percentage_error: 11.5836 - val_loss: 10.0743 - val_mean_absolute_percentage_error: 12.2439\n",
      "Epoch 55/100\n",
      "\u001B[1m10/10\u001B[0m \u001B[32m━━━━━━━━━━━━━━━━━━━━\u001B[0m\u001B[37m\u001B[0m \u001B[1m0s\u001B[0m 4ms/step - loss: 11.9298 - mean_absolute_percentage_error: 11.7788 - val_loss: 10.0079 - val_mean_absolute_percentage_error: 12.4896\n",
      "Epoch 56/100\n",
      "\u001B[1m10/10\u001B[0m \u001B[32m━━━━━━━━━━━━━━━━━━━━\u001B[0m\u001B[37m\u001B[0m \u001B[1m0s\u001B[0m 4ms/step - loss: 11.4981 - mean_absolute_percentage_error: 11.5531 - val_loss: 9.9112 - val_mean_absolute_percentage_error: 12.3161\n",
      "Epoch 57/100\n",
      "\u001B[1m10/10\u001B[0m \u001B[32m━━━━━━━━━━━━━━━━━━━━\u001B[0m\u001B[37m\u001B[0m \u001B[1m0s\u001B[0m 4ms/step - loss: 11.6539 - mean_absolute_percentage_error: 11.1832 - val_loss: 9.8582 - val_mean_absolute_percentage_error: 12.2958\n",
      "Epoch 58/100\n",
      "\u001B[1m10/10\u001B[0m \u001B[32m━━━━━━━━━━━━━━━━━━━━\u001B[0m\u001B[37m\u001B[0m \u001B[1m0s\u001B[0m 4ms/step - loss: 12.3450 - mean_absolute_percentage_error: 12.1443 - val_loss: 9.7831 - val_mean_absolute_percentage_error: 12.1453\n",
      "Epoch 59/100\n",
      "\u001B[1m10/10\u001B[0m \u001B[32m━━━━━━━━━━━━━━━━━━━━\u001B[0m\u001B[37m\u001B[0m \u001B[1m0s\u001B[0m 4ms/step - loss: 12.1093 - mean_absolute_percentage_error: 11.4932 - val_loss: 9.7279 - val_mean_absolute_percentage_error: 12.1251\n",
      "Epoch 60/100\n",
      "\u001B[1m10/10\u001B[0m \u001B[32m━━━━━━━━━━━━━━━━━━━━\u001B[0m\u001B[37m\u001B[0m \u001B[1m0s\u001B[0m 4ms/step - loss: 13.0480 - mean_absolute_percentage_error: 11.6117 - val_loss: 9.6681 - val_mean_absolute_percentage_error: 12.0167\n",
      "Epoch 61/100\n",
      "\u001B[1m10/10\u001B[0m \u001B[32m━━━━━━━━━━━━━━━━━━━━\u001B[0m\u001B[37m\u001B[0m \u001B[1m0s\u001B[0m 5ms/step - loss: 13.4485 - mean_absolute_percentage_error: 12.3643 - val_loss: 9.6370 - val_mean_absolute_percentage_error: 12.0862\n",
      "Epoch 62/100\n",
      "\u001B[1m10/10\u001B[0m \u001B[32m━━━━━━━━━━━━━━━━━━━━\u001B[0m\u001B[37m\u001B[0m \u001B[1m0s\u001B[0m 4ms/step - loss: 13.0005 - mean_absolute_percentage_error: 11.2137 - val_loss: 9.6053 - val_mean_absolute_percentage_error: 12.0549\n",
      "Epoch 63/100\n",
      "\u001B[1m10/10\u001B[0m \u001B[32m━━━━━━━━━━━━━━━━━━━━\u001B[0m\u001B[37m\u001B[0m \u001B[1m0s\u001B[0m 4ms/step - loss: 11.2355 - mean_absolute_percentage_error: 11.3191 - val_loss: 9.5434 - val_mean_absolute_percentage_error: 11.7978\n",
      "Epoch 64/100\n",
      "\u001B[1m10/10\u001B[0m \u001B[32m━━━━━━━━━━━━━━━━━━━━\u001B[0m\u001B[37m\u001B[0m \u001B[1m0s\u001B[0m 4ms/step - loss: 12.9163 - mean_absolute_percentage_error: 11.5127 - val_loss: 9.5025 - val_mean_absolute_percentage_error: 11.8472\n",
      "Epoch 65/100\n",
      "\u001B[1m10/10\u001B[0m \u001B[32m━━━━━━━━━━━━━━━━━━━━\u001B[0m\u001B[37m\u001B[0m \u001B[1m0s\u001B[0m 4ms/step - loss: 11.1063 - mean_absolute_percentage_error: 10.8441 - val_loss: 9.4723 - val_mean_absolute_percentage_error: 11.8456\n",
      "Epoch 66/100\n",
      "\u001B[1m10/10\u001B[0m \u001B[32m━━━━━━━━━━━━━━━━━━━━\u001B[0m\u001B[37m\u001B[0m \u001B[1m0s\u001B[0m 4ms/step - loss: 10.1618 - mean_absolute_percentage_error: 10.5577 - val_loss: 9.4121 - val_mean_absolute_percentage_error: 11.7336\n",
      "Epoch 67/100\n",
      "\u001B[1m10/10\u001B[0m \u001B[32m━━━━━━━━━━━━━━━━━━━━\u001B[0m\u001B[37m\u001B[0m \u001B[1m0s\u001B[0m 4ms/step - loss: 9.7616 - mean_absolute_percentage_error: 10.3001 - val_loss: 9.3805 - val_mean_absolute_percentage_error: 11.6876\n",
      "Epoch 68/100\n",
      "\u001B[1m10/10\u001B[0m \u001B[32m━━━━━━━━━━━━━━━━━━━━\u001B[0m\u001B[37m\u001B[0m \u001B[1m0s\u001B[0m 4ms/step - loss: 9.7664 - mean_absolute_percentage_error: 10.4863 - val_loss: 9.3374 - val_mean_absolute_percentage_error: 11.5991\n",
      "Epoch 69/100\n",
      "\u001B[1m10/10\u001B[0m \u001B[32m━━━━━━━━━━━━━━━━━━━━\u001B[0m\u001B[37m\u001B[0m \u001B[1m0s\u001B[0m 4ms/step - loss: 9.9337 - mean_absolute_percentage_error: 10.7276 - val_loss: 9.3091 - val_mean_absolute_percentage_error: 11.6136\n",
      "Epoch 70/100\n",
      "\u001B[1m10/10\u001B[0m \u001B[32m━━━━━━━━━━━━━━━━━━━━\u001B[0m\u001B[37m\u001B[0m \u001B[1m0s\u001B[0m 4ms/step - loss: 9.5832 - mean_absolute_percentage_error: 9.9422 - val_loss: 9.3191 - val_mean_absolute_percentage_error: 11.7019\n",
      "Epoch 71/100\n",
      "\u001B[1m10/10\u001B[0m \u001B[32m━━━━━━━━━━━━━━━━━━━━\u001B[0m\u001B[37m\u001B[0m \u001B[1m0s\u001B[0m 4ms/step - loss: 9.8487 - mean_absolute_percentage_error: 10.7253 - val_loss: 9.2696 - val_mean_absolute_percentage_error: 11.2843\n",
      "Epoch 72/100\n",
      "\u001B[1m10/10\u001B[0m \u001B[32m━━━━━━━━━━━━━━━━━━━━\u001B[0m\u001B[37m\u001B[0m \u001B[1m0s\u001B[0m 4ms/step - loss: 10.4993 - mean_absolute_percentage_error: 10.2524 - val_loss: 9.2410 - val_mean_absolute_percentage_error: 11.5637\n",
      "Epoch 73/100\n",
      "\u001B[1m10/10\u001B[0m \u001B[32m━━━━━━━━━━━━━━━━━━━━\u001B[0m\u001B[37m\u001B[0m \u001B[1m0s\u001B[0m 5ms/step - loss: 10.0333 - mean_absolute_percentage_error: 10.4242 - val_loss: 9.1847 - val_mean_absolute_percentage_error: 11.4316\n",
      "Epoch 74/100\n",
      "\u001B[1m10/10\u001B[0m \u001B[32m━━━━━━━━━━━━━━━━━━━━\u001B[0m\u001B[37m\u001B[0m \u001B[1m0s\u001B[0m 4ms/step - loss: 10.6581 - mean_absolute_percentage_error: 10.4830 - val_loss: 9.1391 - val_mean_absolute_percentage_error: 11.2764\n",
      "Epoch 75/100\n",
      "\u001B[1m10/10\u001B[0m \u001B[32m━━━━━━━━━━━━━━━━━━━━\u001B[0m\u001B[37m\u001B[0m \u001B[1m0s\u001B[0m 4ms/step - loss: 11.2172 - mean_absolute_percentage_error: 10.1482 - val_loss: 9.1284 - val_mean_absolute_percentage_error: 11.3416\n",
      "Epoch 76/100\n",
      "\u001B[1m10/10\u001B[0m \u001B[32m━━━━━━━━━━━━━━━━━━━━\u001B[0m\u001B[37m\u001B[0m \u001B[1m0s\u001B[0m 4ms/step - loss: 8.8870 - mean_absolute_percentage_error: 9.8502 - val_loss: 9.1028 - val_mean_absolute_percentage_error: 11.0793\n",
      "Epoch 77/100\n",
      "\u001B[1m10/10\u001B[0m \u001B[32m━━━━━━━━━━━━━━━━━━━━\u001B[0m\u001B[37m\u001B[0m \u001B[1m0s\u001B[0m 4ms/step - loss: 10.2390 - mean_absolute_percentage_error: 10.1418 - val_loss: 9.0962 - val_mean_absolute_percentage_error: 11.2529\n",
      "Epoch 78/100\n",
      "\u001B[1m10/10\u001B[0m \u001B[32m━━━━━━━━━━━━━━━━━━━━\u001B[0m\u001B[37m\u001B[0m \u001B[1m0s\u001B[0m 4ms/step - loss: 9.9156 - mean_absolute_percentage_error: 9.9229 - val_loss: 9.0774 - val_mean_absolute_percentage_error: 11.2149\n",
      "Epoch 79/100\n",
      "\u001B[1m10/10\u001B[0m \u001B[32m━━━━━━━━━━━━━━━━━━━━\u001B[0m\u001B[37m\u001B[0m \u001B[1m0s\u001B[0m 4ms/step - loss: 11.2785 - mean_absolute_percentage_error: 10.5294 - val_loss: 9.0509 - val_mean_absolute_percentage_error: 10.9246\n",
      "Epoch 80/100\n",
      "\u001B[1m10/10\u001B[0m \u001B[32m━━━━━━━━━━━━━━━━━━━━\u001B[0m\u001B[37m\u001B[0m \u001B[1m0s\u001B[0m 4ms/step - loss: 10.6784 - mean_absolute_percentage_error: 10.2293 - val_loss: 9.0237 - val_mean_absolute_percentage_error: 11.0700\n",
      "Epoch 81/100\n",
      "\u001B[1m10/10\u001B[0m \u001B[32m━━━━━━━━━━━━━━━━━━━━\u001B[0m\u001B[37m\u001B[0m \u001B[1m0s\u001B[0m 4ms/step - loss: 9.5697 - mean_absolute_percentage_error: 10.1881 - val_loss: 9.0002 - val_mean_absolute_percentage_error: 10.9745\n",
      "Epoch 82/100\n",
      "\u001B[1m10/10\u001B[0m \u001B[32m━━━━━━━━━━━━━━━━━━━━\u001B[0m\u001B[37m\u001B[0m \u001B[1m0s\u001B[0m 4ms/step - loss: 10.0428 - mean_absolute_percentage_error: 10.0016 - val_loss: 9.0120 - val_mean_absolute_percentage_error: 11.0381\n",
      "Epoch 83/100\n",
      "\u001B[1m10/10\u001B[0m \u001B[32m━━━━━━━━━━━━━━━━━━━━\u001B[0m\u001B[37m\u001B[0m \u001B[1m0s\u001B[0m 4ms/step - loss: 9.1479 - mean_absolute_percentage_error: 9.4521 - val_loss: 8.9845 - val_mean_absolute_percentage_error: 10.9304\n",
      "Epoch 84/100\n",
      "\u001B[1m10/10\u001B[0m \u001B[32m━━━━━━━━━━━━━━━━━━━━\u001B[0m\u001B[37m\u001B[0m \u001B[1m0s\u001B[0m 5ms/step - loss: 9.1326 - mean_absolute_percentage_error: 9.6766 - val_loss: 8.9669 - val_mean_absolute_percentage_error: 10.6808\n",
      "Epoch 85/100\n",
      "\u001B[1m10/10\u001B[0m \u001B[32m━━━━━━━━━━━━━━━━━━━━\u001B[0m\u001B[37m\u001B[0m \u001B[1m0s\u001B[0m 4ms/step - loss: 9.7483 - mean_absolute_percentage_error: 9.5547 - val_loss: 8.9454 - val_mean_absolute_percentage_error: 10.7712\n",
      "Epoch 86/100\n",
      "\u001B[1m10/10\u001B[0m \u001B[32m━━━━━━━━━━━━━━━━━━━━\u001B[0m\u001B[37m\u001B[0m \u001B[1m0s\u001B[0m 4ms/step - loss: 9.3646 - mean_absolute_percentage_error: 9.6443 - val_loss: 8.9518 - val_mean_absolute_percentage_error: 10.8166\n",
      "Epoch 87/100\n",
      "\u001B[1m10/10\u001B[0m \u001B[32m━━━━━━━━━━━━━━━━━━━━\u001B[0m\u001B[37m\u001B[0m \u001B[1m0s\u001B[0m 4ms/step - loss: 9.1147 - mean_absolute_percentage_error: 9.4156 - val_loss: 8.9457 - val_mean_absolute_percentage_error: 10.5465\n",
      "Epoch 88/100\n",
      "\u001B[1m10/10\u001B[0m \u001B[32m━━━━━━━━━━━━━━━━━━━━\u001B[0m\u001B[37m\u001B[0m \u001B[1m0s\u001B[0m 4ms/step - loss: 9.6284 - mean_absolute_percentage_error: 9.6738 - val_loss: 8.9397 - val_mean_absolute_percentage_error: 10.7180\n",
      "Epoch 89/100\n",
      "\u001B[1m10/10\u001B[0m \u001B[32m━━━━━━━━━━━━━━━━━━━━\u001B[0m\u001B[37m\u001B[0m \u001B[1m0s\u001B[0m 4ms/step - loss: 8.2557 - mean_absolute_percentage_error: 9.1923 - val_loss: 8.9240 - val_mean_absolute_percentage_error: 10.5820\n",
      "Epoch 90/100\n",
      "\u001B[1m10/10\u001B[0m \u001B[32m━━━━━━━━━━━━━━━━━━━━\u001B[0m\u001B[37m\u001B[0m \u001B[1m0s\u001B[0m 4ms/step - loss: 9.5025 - mean_absolute_percentage_error: 9.6569 - val_loss: 8.9277 - val_mean_absolute_percentage_error: 10.6546\n",
      "Epoch 91/100\n",
      "\u001B[1m10/10\u001B[0m \u001B[32m━━━━━━━━━━━━━━━━━━━━\u001B[0m\u001B[37m\u001B[0m \u001B[1m0s\u001B[0m 4ms/step - loss: 8.7248 - mean_absolute_percentage_error: 9.1992 - val_loss: 8.9074 - val_mean_absolute_percentage_error: 10.4378\n",
      "Epoch 92/100\n",
      "\u001B[1m10/10\u001B[0m \u001B[32m━━━━━━━━━━━━━━━━━━━━\u001B[0m\u001B[37m\u001B[0m \u001B[1m0s\u001B[0m 4ms/step - loss: 7.4600 - mean_absolute_percentage_error: 9.2050 - val_loss: 8.9097 - val_mean_absolute_percentage_error: 10.5337\n",
      "Epoch 93/100\n",
      "\u001B[1m10/10\u001B[0m \u001B[32m━━━━━━━━━━━━━━━━━━━━\u001B[0m\u001B[37m\u001B[0m \u001B[1m0s\u001B[0m 4ms/step - loss: 8.4339 - mean_absolute_percentage_error: 9.3280 - val_loss: 8.9098 - val_mean_absolute_percentage_error: 10.5084\n",
      "Epoch 94/100\n",
      "\u001B[1m10/10\u001B[0m \u001B[32m━━━━━━━━━━━━━━━━━━━━\u001B[0m\u001B[37m\u001B[0m \u001B[1m0s\u001B[0m 4ms/step - loss: 10.6594 - mean_absolute_percentage_error: 9.9031 - val_loss: 8.8963 - val_mean_absolute_percentage_error: 10.4217\n",
      "Epoch 95/100\n",
      "\u001B[1m10/10\u001B[0m \u001B[32m━━━━━━━━━━━━━━━━━━━━\u001B[0m\u001B[37m\u001B[0m \u001B[1m0s\u001B[0m 4ms/step - loss: 8.9361 - mean_absolute_percentage_error: 9.2171 - val_loss: 8.9157 - val_mean_absolute_percentage_error: 10.2295\n",
      "Epoch 96/100\n",
      "\u001B[1m10/10\u001B[0m \u001B[32m━━━━━━━━━━━━━━━━━━━━\u001B[0m\u001B[37m\u001B[0m \u001B[1m0s\u001B[0m 4ms/step - loss: 7.9059 - mean_absolute_percentage_error: 8.9663 - val_loss: 8.9177 - val_mean_absolute_percentage_error: 10.4226\n",
      "Epoch 97/100\n",
      "\u001B[1m10/10\u001B[0m \u001B[32m━━━━━━━━━━━━━━━━━━━━\u001B[0m\u001B[37m\u001B[0m \u001B[1m0s\u001B[0m 4ms/step - loss: 7.6281 - mean_absolute_percentage_error: 8.9598 - val_loss: 8.8955 - val_mean_absolute_percentage_error: 10.2470\n",
      "Epoch 98/100\n",
      "\u001B[1m10/10\u001B[0m \u001B[32m━━━━━━━━━━━━━━━━━━━━\u001B[0m\u001B[37m\u001B[0m \u001B[1m0s\u001B[0m 4ms/step - loss: 8.7841 - mean_absolute_percentage_error: 9.0924 - val_loss: 8.9140 - val_mean_absolute_percentage_error: 10.3472\n",
      "Epoch 99/100\n",
      "\u001B[1m10/10\u001B[0m \u001B[32m━━━━━━━━━━━━━━━━━━━━\u001B[0m\u001B[37m\u001B[0m \u001B[1m0s\u001B[0m 4ms/step - loss: 8.2752 - mean_absolute_percentage_error: 9.5294 - val_loss: 8.9019 - val_mean_absolute_percentage_error: 10.1770\n",
      "Epoch 100/100\n",
      "\u001B[1m10/10\u001B[0m \u001B[32m━━━━━━━━━━━━━━━━━━━━\u001B[0m\u001B[37m\u001B[0m \u001B[1m0s\u001B[0m 4ms/step - loss: 8.1856 - mean_absolute_percentage_error: 8.6638 - val_loss: 8.9073 - val_mean_absolute_percentage_error: 10.2457\n",
      "\n",
      "\n",
      "History.history:\n",
      " {'loss': [617.269287109375, 599.1736450195312, 575.545166015625, 541.4229736328125, 492.88287353515625, 426.714111328125, 346.33807373046875, 259.8913269042969, 187.1919403076172, 147.75250244140625, 130.6554412841797, 114.10034942626953, 99.81522369384766, 86.44940185546875, 74.74578094482422, 64.150634765625, 54.57122802734375, 46.476646423339844, 39.880340576171875, 34.50331115722656, 30.457664489746094, 27.245176315307617, 24.982337951660156, 23.151382446289062, 21.988805770874023, 20.958276748657227, 20.29660415649414, 19.640888214111328, 19.186384201049805, 18.740753173828125, 18.312536239624023, 17.82954216003418, 17.51490592956543, 17.109134674072266, 16.796375274658203, 16.49053955078125, 16.178333282470703, 15.904999732971191, 15.637665748596191, 15.335929870605469, 15.071700096130371, 14.819221496582031, 14.597636222839355, 14.354731559753418, 14.133096694946289, 13.97472858428955, 13.721388816833496, 13.524803161621094, 13.409102439880371, 13.160313606262207, 13.012758255004883, 12.862346649169922, 12.645485877990723, 12.654901504516602, 12.37863540649414, 12.248766899108887, 12.078241348266602, 12.029121398925781, 11.803322792053223, 11.681049346923828, 11.560440063476562, 11.473396301269531, 11.35585880279541, 11.217207908630371, 11.067569732666016, 10.973323822021484, 10.835766792297363, 10.732189178466797, 10.620843887329102, 10.54584789276123, 10.530244827270508, 10.340731620788574, 10.264449119567871, 10.16806697845459, 10.14367961883545, 10.035050392150879, 9.892821311950684, 9.865267753601074, 9.764093399047852, 9.683964729309082, 9.578965187072754, 9.581870079040527, 9.494159698486328, 9.405985832214355, 9.324318885803223, 9.23283863067627, 9.210124969482422, 9.175856590270996, 9.079827308654785, 9.021747589111328, 8.954864501953125, 8.905937194824219, 8.825122833251953, 8.843896865844727, 8.778874397277832, 8.702569007873535, 8.671106338500977, 8.61777114868164, 8.559356689453125, 8.541004180908203], 'mean_absolute_percentage_error': [99.13407135009766, 97.01118469238281, 94.26136016845703, 90.13780212402344, 84.05667877197266, 74.75165557861328, 62.134117126464844, 49.93630599975586, 43.93022537231445, 44.50465393066406, 46.25700378417969, 43.684791564941406, 40.131649017333984, 36.91132354736328, 34.03789520263672, 31.304723739624023, 28.810657501220703, 26.511863708496094, 24.424470901489258, 22.43085479736328, 20.85298728942871, 19.228153228759766, 18.04098129272461, 17.17243194580078, 16.5889949798584, 16.065296173095703, 15.731752395629883, 15.406566619873047, 15.282209396362305, 14.998028755187988, 14.785219192504883, 14.641374588012695, 14.485859870910645, 14.252458572387695, 14.043486595153809, 13.892515182495117, 13.783028602600098, 13.589016914367676, 13.430838584899902, 13.287996292114258, 13.111893653869629, 13.01164436340332, 12.928525924682617, 12.734769821166992, 12.555718421936035, 12.557706832885742, 12.417245864868164, 12.25096321105957, 12.132464408874512, 12.043389320373535, 12.017045021057129, 11.928384780883789, 11.770833015441895, 11.66518783569336, 11.625443458557129, 11.572534561157227, 11.451748847961426, 11.35910415649414, 11.290748596191406, 11.203182220458984, 11.118573188781738, 11.172310829162598, 10.936260223388672, 10.917593955993652, 10.841373443603516, 10.828425407409668, 10.688347816467285, 10.613816261291504, 10.54646110534668, 10.605010032653809, 10.447136878967285, 10.314820289611816, 10.393519401550293, 10.259912490844727, 10.381381034851074, 10.112322807312012, 10.147126197814941, 10.208148002624512, 9.950800895690918, 9.963715553283691, 9.934375762939453, 9.881821632385254, 9.925780296325684, 9.70751953125, 9.655316352844238, 9.7167329788208, 9.614182472229004, 9.657790184020996, 9.549660682678223, 9.552151679992676, 9.477487564086914, 9.407612800598145, 9.43464183807373, 9.452322959899902, 9.297506332397461, 9.29178237915039, 9.320283889770508, 9.278711318969727, 9.208842277526855, 9.216473579406738], 'val_loss': [540.8978271484375, 521.6678466796875, 494.7806396484375, 455.80279541015625, 402.04595947265625, 333.6230773925781, 256.7203063964844, 188.60032653808594, 147.84536743164062, 132.69198608398438, 121.90865325927734, 103.97872161865234, 88.23519897460938, 74.73932647705078, 62.52140426635742, 52.109413146972656, 43.20716094970703, 35.852561950683594, 29.98502540588379, 25.510967254638672, 22.15602684020996, 19.82442283630371, 18.21114158630371, 17.143239974975586, 16.352476119995117, 15.824116706848145, 15.446121215820312, 15.005986213684082, 14.633748054504395, 14.38261890411377, 13.993634223937988, 13.709739685058594, 13.41396713256836, 13.176857948303223, 12.918218612670898, 12.62446403503418, 12.374584197998047, 12.204852104187012, 11.95051383972168, 11.768085479736328, 11.601078033447266, 11.415355682373047, 11.254475593566895, 11.121587753295898, 10.985809326171875, 10.84429931640625, 10.734946250915527, 10.619096755981445, 10.523857116699219, 10.39380168914795, 10.288567543029785, 10.214350700378418, 10.128135681152344, 10.07430648803711, 10.007923126220703, 9.911163330078125, 9.858233451843262, 9.783063888549805, 9.727928161621094, 9.668085098266602, 9.63701057434082, 9.605317115783691, 9.543444633483887, 9.50252914428711, 9.472297668457031, 9.412050247192383, 9.380536079406738, 9.33736515045166, 9.309147834777832, 9.319132804870605, 9.269634246826172, 9.241046905517578, 9.18466854095459, 9.139107704162598, 9.128414154052734, 9.102827072143555, 9.09621524810791, 9.07742691040039, 9.050875663757324, 9.023652076721191, 9.000248908996582, 9.011967658996582, 8.984548568725586, 8.966907501220703, 8.945365905761719, 8.951767921447754, 8.9457368850708, 8.939682960510254, 8.923951148986816, 8.927729606628418, 8.907367706298828, 8.909735679626465, 8.909770965576172, 8.896251678466797, 8.91574764251709, 8.91772174835205, 8.89551830291748, 8.913960456848145, 8.90194320678711, 8.907271385192871], 'val_mean_absolute_percentage_error': [97.64295196533203, 94.92047882080078, 91.14164733886719, 85.4622802734375, 76.94308471679688, 64.62802124023438, 47.97971725463867, 41.69590759277344, 44.61091232299805, 50.148624420166016, 50.60020446777344, 45.86920928955078, 41.521995544433594, 37.507080078125, 33.395729064941406, 30.149065017700195, 26.81499481201172, 23.922122955322266, 22.10654067993164, 20.526464462280273, 19.173587799072266, 18.190549850463867, 17.34534454345703, 16.76188850402832, 16.28947639465332, 15.842289924621582, 15.43382453918457, 15.298736572265625, 15.14725399017334, 14.835765838623047, 14.72309398651123, 14.583864212036133, 14.418553352355957, 14.153993606567383, 13.978882789611816, 13.828194618225098, 13.759998321533203, 13.504844665527344, 13.516063690185547, 13.332927703857422, 13.262566566467285, 13.339776039123535, 13.201552391052246, 13.03042221069336, 12.967206001281738, 13.048300743103027, 12.827607154846191, 12.779903411865234, 12.6168794631958, 12.756837844848633, 12.593213081359863, 12.555439949035645, 12.455942153930664, 12.24392318725586, 12.489620208740234, 12.316104888916016, 12.295754432678223, 12.14533519744873, 12.12510871887207, 12.016735076904297, 12.086196899414062, 12.054887771606445, 11.797804832458496, 11.847185134887695, 11.84557819366455, 11.733613014221191, 11.687602996826172, 11.599053382873535, 11.613574981689453, 11.701874732971191, 11.284337997436523, 11.563692092895508, 11.431560516357422, 11.276432037353516, 11.341581344604492, 11.079269409179688, 11.252899169921875, 11.214900970458984, 10.924583435058594, 11.069958686828613, 10.974546432495117, 11.038143157958984, 10.930351257324219, 10.680750846862793, 10.771191596984863, 10.816583633422852, 10.546534538269043, 10.717957496643066, 10.581958770751953, 10.654619216918945, 10.437788963317871, 10.533699989318848, 10.508352279663086, 10.421690940856934, 10.229488372802734, 10.422551155090332, 10.246969223022461, 10.347153663635254, 10.17696762084961, 10.245742797851562]}\n"
     ]
    },
    {
     "data": {
      "text/plain": [
       "<Figure size 640x480 with 1 Axes>"
      ],
      "image/png": "[encoded data removed]"
     },
     "metadata": {},
     "output_type": "display_data"
    }
   ],
   "execution_count": 74
  },
  {
   "cell_type": "markdown",
   "metadata": {},
   "source": [
    "## 5. Evaluate the model"
   ]
  },
  {
   "cell_type": "markdown",
   "metadata": {},
   "source": [
    "Now we evaluate our model with the test data, which has not been used during training. Have a look at the MAE."
   ]
  },
  {
   "cell_type": "code",
   "metadata": {
    "ExecuteTime": {
     "end_time": "2024-11-06T22:02:59.908380Z",
     "start_time": "2024-11-06T22:02:59.723743Z"
    }
   },
   "source": [
    "# evaluate\n",
    "model.evaluate(x_test,y_test)"
   ],
   "outputs": [
    {
     "name": "stdout",
     "output_type": "stream",
     "text": [
      "\u001B[1m2/2\u001B[0m \u001B[32m━━━━━━━━━━━━━━━━━━━━\u001B[0m\u001B[37m\u001B[0m \u001B[1m0s\u001B[0m 5ms/step - loss: 10.8239 - mean_absolute_percentage_error: 12.9620 \n"
     ]
    },
    {
     "data": {
      "text/plain": [
       "[10.665262222290039, 12.753549575805664]"
      ]
     },
     "execution_count": 75,
     "metadata": {},
     "output_type": "execute_result"
    }
   ],
   "execution_count": 75
  },
  {
   "cell_type": "markdown",
   "metadata": {},
   "source": [
    "## 6. Use the model to predict"
   ]
  },
  {
   "cell_type": "markdown",
   "metadata": {
    "id": "ft603OzXuEZC"
   },
   "source": [
    "We can start using the model to predict the MPG. Here we predict the complte test dataset. "
   ]
  },
  {
   "cell_type": "code",
   "metadata": {
    "ExecuteTime": {
     "end_time": "2024-11-06T22:03:54.818037Z",
     "start_time": "2024-11-06T22:03:54.549007Z"
    }
   },
   "source": [
    "# predict \n",
    "y_predicted = model.predict(x_test)\n",
    "print(y_predicted[:3])\n",
    "print(y_test[:3])"
   ],
   "outputs": [
    {
     "name": "stdout",
     "output_type": "stream",
     "text": [
      "\u001B[1m2/2\u001B[0m \u001B[32m━━━━━━━━━━━━━━━━━━━━\u001B[0m\u001B[37m\u001B[0m \u001B[1m0s\u001B[0m 4ms/step \n",
      "[[19.8558  ]\n",
      " [14.082404]\n",
      " [28.590918]]\n",
      "      MPG\n",
      "155  15.0\n",
      "26   10.0\n",
      "268  27.2\n"
     ]
    }
   ],
   "execution_count": 78
  },
  {
   "cell_type": "markdown",
   "metadata": {},
   "source": [
    "We plot the predicted values against the true value."
   ]
  },
  {
   "cell_type": "code",
   "execution_count": 24,
   "metadata": {
    "id": "Xe7RXH3N3CWU"
   },
   "outputs": [
    {
     "data": {
      "text/plain": [
       "[<matplotlib.lines.Line2D at 0x22fe1c477d0>]"
      ]
     },
     "execution_count": 24,
     "metadata": {},
     "output_type": "execute_result"
    },
    {
     "data": {
      "image/png": "[encoded data removed]",
      "text/plain": [
       "<Figure size 640x480 with 1 Axes>"
      ]
     },
     "metadata": {},
     "output_type": "display_data"
    }
   ],
   "source": [
    "a = plt.axes(aspect='equal')\n",
    "plt.scatter(y_test, y_predicted)\n",
    "plt.xlabel('True Values [MPG]')\n",
    "plt.ylabel('Predictions [MPG]')\n",
    "lims = [0, 50]\n",
    "plt.xlim(lims)\n",
    "plt.ylim(lims)\n",
    "plt.plot(lims, lims)"
   ]
  },
  {
   "cell_type": "markdown",
   "metadata": {
    "id": "19wyogbOSU5t"
   },
   "source": [
    "We plot the error distribution."
   ]
  },
  {
   "cell_type": "code",
   "execution_count": 25,
   "metadata": {
    "id": "f-OHX4DiXd8x"
   },
   "outputs": [
    {
     "data": {
      "text/plain": [
       "Text(0, 0.5, 'Count')"
      ]
     },
     "execution_count": 25,
     "metadata": {},
     "output_type": "execute_result"
    },
    {
     "data": {
      "image/png": "[encoded data removed]",
      "text/plain": [
       "<Figure size 640x480 with 1 Axes>"
      ]
     },
     "metadata": {},
     "output_type": "display_data"
    }
   ],
   "source": [
    "error = y_predicted - y_test\n",
    "plt.hist(error, bins=25)\n",
    "plt.xlabel('Prediction Error [MPG]')\n",
    "plt.ylabel('Count')"
   ]
  }
 ],
 "metadata": {
  "colab": {
   "collapsed_sections": [],
   "name": "regression.ipynb",
   "toc_visible": true
  },
  "kernelspec": {
   "display_name": "Python 3 (ipykernel)",
   "language": "python",
   "name": "python3"
  },
  "language_info": {
   "codemirror_mode": {
    "name": "ipython",
    "version": 3
   },
   "file_extension": ".py",
   "mimetype": "text/x-python",
   "name": "python",
   "nbconvert_exporter": "python",
   "pygments_lexer": "ipython3",
   "version": "3.11.7"
  }
 },
 "nbformat": 4,
 "nbformat_minor": 4
}
