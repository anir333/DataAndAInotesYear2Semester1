{
 "cells": [
  {
   "cell_type": "markdown",
   "id": "01488c7d-3df5-48cc-b1d2-a429a28445b1",
   "metadata": {},
   "source": [
    "# Neural Networks - Exercises"
   ]
  },
  {
   "cell_type": "markdown",
   "id": "08a7d0d5-49ff-4da9-95ad-18ecab7d6c29",
   "metadata": {},
   "source": [
    "## EXERCISE 1\n",
    "\n",
    "A very small NN has an input layer with 2 nodes and an output layer with 1 node. The are no hidden nodes. Calculate the feedforward pass if the input is [1, 1] the weights are [0.3, -0.1] and the bias is -0.7. The activation function used by the output layer is `sigmoid`. Use numpy arrays and the python `math` module to calculate the output the integration and activation function of the output node. Which of the 2 inputs has the biggest influence one the output?"
   ]
  },
  {
   "cell_type": "code",
   "id": "61fbc82b-fc6f-4186-94ce-12eb76c8f955",
   "metadata": {
    "ExecuteTime": {
     "end_time": "2024-11-06T21:22:17.315871Z",
     "start_time": "2024-11-06T21:22:17.309097Z"
    }
   },
   "source": [
    "import numpy as np\n",
    "import math\n",
    "\n",
    "input = np.array([1, 1])\n",
    "weights = np.array([0.3, -0.1])\n",
    "bias = -0.7\n",
    "\n",
    "#integration = 1 * 0.3 + 1 * (-0.1) - 0.7\n",
    "integration = np.sum(input * weights) + bias\n",
    "\n",
    "# Biggest influence: 1st\n",
    "\n",
    "# activation = sigmoid\n",
    "activation = 1 / (1 + math.exp(-integration))\n",
    "\n",
    "print(integration, activation)"
   ],
   "outputs": [
    {
     "name": "stdout",
     "output_type": "stream",
     "text": [
      "-0.5 0.3775406687981454\n"
     ]
    }
   ],
   "execution_count": 10
  },
  {
   "cell_type": "markdown",
   "id": "f7e03e78-0a81-4089-a355-64d6e4150e1b",
   "metadata": {},
   "source": [
    "## EXERCISE 2\n",
    "\n",
    "The goal is to predict the quality class of wine, based on features that come from a chemical analysis of the wine."
   ]
  },
  {
   "cell_type": "code",
   "id": "56f8914c-cfd4-411c-8bce-c9005d3cbee2",
   "metadata": {
    "ExecuteTime": {
     "end_time": "2024-11-06T21:22:19.600199Z",
     "start_time": "2024-11-06T21:22:19.568833Z"
    }
   },
   "source": [
    "import numpy as np\n",
    "from sklearn.datasets import load_wine\n",
    "wine_x = load_wine().data\n",
    "wine_y = load_wine().target\n",
    "load_wine().DESCR"
   ],
   "outputs": [
    {
     "data": {
      "text/plain": [
       "'.. _wine_dataset:\\n\\nWine recognition dataset\\n------------------------\\n\\n**Data Set Characteristics:**\\n\\n:Number of Instances: 178\\n:Number of Attributes: 13 numeric, predictive attributes and the class\\n:Attribute Information:\\n    - Alcohol\\n    - Malic acid\\n    - Ash\\n    - Alcalinity of ash\\n    - Magnesium\\n    - Total phenols\\n    - Flavanoids\\n    - Nonflavanoid phenols\\n    - Proanthocyanins\\n    - Color intensity\\n    - Hue\\n    - OD280/OD315 of diluted wines\\n    - Proline\\n    - class:\\n        - class_0\\n        - class_1\\n        - class_2\\n\\n:Summary Statistics:\\n\\n============================= ==== ===== ======= =====\\n                                Min   Max   Mean     SD\\n============================= ==== ===== ======= =====\\nAlcohol:                      11.0  14.8    13.0   0.8\\nMalic Acid:                   0.74  5.80    2.34  1.12\\nAsh:                          1.36  3.23    2.36  0.27\\nAlcalinity of Ash:            10.6  30.0    19.5   3.3\\nMagnesium:                    70.0 162.0    99.7  14.3\\nTotal Phenols:                0.98  3.88    2.29  0.63\\nFlavanoids:                   0.34  5.08    2.03  1.00\\nNonflavanoid Phenols:         0.13  0.66    0.36  0.12\\nProanthocyanins:              0.41  3.58    1.59  0.57\\nColour Intensity:              1.3  13.0     5.1   2.3\\nHue:                          0.48  1.71    0.96  0.23\\nOD280/OD315 of diluted wines: 1.27  4.00    2.61  0.71\\nProline:                       278  1680     746   315\\n============================= ==== ===== ======= =====\\n\\n:Missing Attribute Values: None\\n:Class Distribution: class_0 (59), class_1 (71), class_2 (48)\\n:Creator: R.A. Fisher\\n:Donor: Michael Marshall (MARSHALL%PLU@io.arc.nasa.gov)\\n:Date: July, 1988\\n\\nThis is a copy of UCI ML Wine recognition datasets.\\nhttps://archive.ics.uci.edu/ml/machine-learning-databases/wine/wine.data\\n\\nThe data is the results of a chemical analysis of wines grown in the same\\nregion in Italy by three different cultivators. There are thirteen different\\nmeasurements taken for different constituents found in the three types of\\nwine.\\n\\nOriginal Owners:\\n\\nForina, M. et al, PARVUS -\\nAn Extendible Package for Data Exploration, Classification and Correlation.\\nInstitute of Pharmaceutical and Food Analysis and Technologies,\\nVia Brigata Salerno, 16147 Genoa, Italy.\\n\\nCitation:\\n\\nLichman, M. (2013). UCI Machine Learning Repository\\n[https://archive.ics.uci.edu/ml]. Irvine, CA: University of California,\\nSchool of Information and Computer Science.\\n\\n.. dropdown:: References\\n\\n    (1) S. Aeberhard, D. Coomans and O. de Vel,\\n    Comparison of Classifiers in High Dimensional Settings,\\n    Tech. Rep. no. 92-02, (1992), Dept. of Computer Science and Dept. of\\n    Mathematics and Statistics, James Cook University of North Queensland.\\n    (Also submitted to Technometrics).\\n\\n    The data was used with many others for comparing various\\n    classifiers. The classes are separable, though only RDA\\n    has achieved 100% correct classification.\\n    (RDA : 100%, QDA 99.4%, LDA 98.9%, 1NN 96.1% (z-transformed data))\\n    (All results using the leave-one-out technique)\\n\\n    (2) S. Aeberhard, D. Coomans and O. de Vel,\\n    \"THE CLASSIFICATION PERFORMANCE OF RDA\"\\n    Tech. Rep. no. 92-01, (1992), Dept. of Computer Science and Dept. of\\n    Mathematics and Statistics, James Cook University of North Queensland.\\n    (Also submitted to Journal of Chemometrics).\\n'"
      ]
     },
     "execution_count": 11,
     "metadata": {},
     "output_type": "execute_result"
    }
   ],
   "execution_count": 11
  },
  {
   "cell_type": "markdown",
   "id": "06e6bb88-14ad-4bf9-abd8-b87c2a089b67",
   "metadata": {},
   "source": [
    "### 1. Data preparation"
   ]
  },
  {
   "cell_type": "markdown",
   "id": "efea3d3c-059a-406c-a6fb-b36b0efd59f3",
   "metadata": {},
   "source": [
    "a. Print the shapes of wine_x and wine_y. How many wines do we have? How many featues do we have? Check whether there NaN values. How many quality classes do we have?"
   ]
  },
  {
   "cell_type": "code",
   "id": "4c96a982-6572-4f87-aa80-56d5b5c70006",
   "metadata": {
    "ExecuteTime": {
     "end_time": "2024-11-06T21:22:21.933408Z",
     "start_time": "2024-11-06T21:22:21.928072Z"
    }
   },
   "source": [
    "print(wine_x.shape)\n",
    "print(wine_y.shape)"
   ],
   "outputs": [
    {
     "name": "stdout",
     "output_type": "stream",
     "text": [
      "(178, 13)\n",
      "(178,)\n"
     ]
    }
   ],
   "execution_count": 12
  },
  {
   "cell_type": "code",
   "id": "01b5168f-7ddc-47d8-b71e-d9e8d535080e",
   "metadata": {
    "ExecuteTime": {
     "end_time": "2024-11-06T21:22:23.415335Z",
     "start_time": "2024-11-06T21:22:23.400496Z"
    }
   },
   "source": [
    "np.isnan(wine_x).sum()"
   ],
   "outputs": [
    {
     "data": {
      "text/plain": [
       "0"
      ]
     },
     "execution_count": 13,
     "metadata": {},
     "output_type": "execute_result"
    }
   ],
   "execution_count": 13
  },
  {
   "cell_type": "code",
   "id": "30816d2f-8605-4974-8376-f442500bffb9",
   "metadata": {
    "ExecuteTime": {
     "end_time": "2024-11-06T21:22:24.612506Z",
     "start_time": "2024-11-06T21:22:24.596412Z"
    }
   },
   "source": [
    "np.unique(wine_y)"
   ],
   "outputs": [
    {
     "data": {
      "text/plain": [
       "array([0, 1, 2])"
      ]
     },
     "execution_count": 14,
     "metadata": {},
     "output_type": "execute_result"
    }
   ],
   "execution_count": 14
  },
  {
   "cell_type": "markdown",
   "id": "b58cf035-e1c3-4c0c-ad79-4cf81f30acb4",
   "metadata": {},
   "source": [
    "b. Scale the input using min_max scaling (why do we do this?). Split the data in a train (85%) and test dataset (15%) (why do we do this?). Put the output in the right format. What is the name of the format?"
   ]
  },
  {
   "cell_type": "code",
   "id": "ea587909-74b9-4a21-8fcd-b3f56abb7ab5",
   "metadata": {
    "ExecuteTime": {
     "end_time": "2024-11-06T21:22:26.538396Z",
     "start_time": "2024-11-06T21:22:26.528721Z"
    }
   },
   "source": [
    "from sklearn.preprocessing import MinMaxScaler\n",
    "scaler = MinMaxScaler()\n",
    "wine_x_norm = scaler.fit_transform(wine_x)\n",
    "wine_y"
   ],
   "outputs": [
    {
     "data": {
      "text/plain": [
       "array([0, 0, 0, 0, 0, 0, 0, 0, 0, 0, 0, 0, 0, 0, 0, 0, 0, 0, 0, 0, 0, 0,\n",
       "       0, 0, 0, 0, 0, 0, 0, 0, 0, 0, 0, 0, 0, 0, 0, 0, 0, 0, 0, 0, 0, 0,\n",
       "       0, 0, 0, 0, 0, 0, 0, 0, 0, 0, 0, 0, 0, 0, 0, 1, 1, 1, 1, 1, 1, 1,\n",
       "       1, 1, 1, 1, 1, 1, 1, 1, 1, 1, 1, 1, 1, 1, 1, 1, 1, 1, 1, 1, 1, 1,\n",
       "       1, 1, 1, 1, 1, 1, 1, 1, 1, 1, 1, 1, 1, 1, 1, 1, 1, 1, 1, 1, 1, 1,\n",
       "       1, 1, 1, 1, 1, 1, 1, 1, 1, 1, 1, 1, 1, 1, 1, 1, 1, 1, 1, 1, 2, 2,\n",
       "       2, 2, 2, 2, 2, 2, 2, 2, 2, 2, 2, 2, 2, 2, 2, 2, 2, 2, 2, 2, 2, 2,\n",
       "       2, 2, 2, 2, 2, 2, 2, 2, 2, 2, 2, 2, 2, 2, 2, 2, 2, 2, 2, 2, 2, 2,\n",
       "       2, 2])"
      ]
     },
     "execution_count": 15,
     "metadata": {},
     "output_type": "execute_result"
    }
   ],
   "execution_count": 15
  },
  {
   "cell_type": "code",
   "id": "1749cda5-b078-4cc5-9085-27e762f9c7cd",
   "metadata": {
    "ExecuteTime": {
     "end_time": "2024-11-06T21:23:21.262356Z",
     "start_time": "2024-11-06T21:23:21.243192Z"
    }
   },
   "source": [
    "from sklearn.model_selection import train_test_split\n",
    "x_train,x_test,y_train,y_test = train_test_split(wine_x_norm,wine_y,test_size=0.15) \n",
    "x_train.shape"
   ],
   "outputs": [
    {
     "data": {
      "text/plain": [
       "(151, 13)"
      ]
     },
     "execution_count": 20,
     "metadata": {},
     "output_type": "execute_result"
    }
   ],
   "execution_count": 20
  },
  {
   "cell_type": "code",
   "id": "147552cc-42e0-4e76-8e9c-ee491f903cb6",
   "metadata": {
    "ExecuteTime": {
     "end_time": "2024-11-06T21:23:32.127916Z",
     "start_time": "2024-11-06T21:23:32.111712Z"
    }
   },
   "source": [
    "from tensorflow.keras.utils import to_categorical\n",
    "# one-hot encoding for output\n",
    "y_train_onehot = to_categorical(y_train)\n",
    "y_test_onehot = to_categorical(y_test)\n",
    "print(y_train_onehot.shape)"
   ],
   "outputs": [
    {
     "name": "stdout",
     "output_type": "stream",
     "text": [
      "(151, 3)\n"
     ]
    }
   ],
   "execution_count": 22
  },
  {
   "cell_type": "markdown",
   "id": "725e94a3-9828-4e15-bd3c-caf98f3e1f1c",
   "metadata": {},
   "source": [
    "### 2. Define the model\n",
    "\n",
    "Define the input layer with the right number of nodes. For the hidden layers, try out several options yourself. Define the output layer with the right number of nodes and a correct activation function. Print a model summary and compile the model with the Adam optimizer (choose the learning rate yourself), the correct loss function and a well choosen metric."
   ]
  },
  {
   "cell_type": "code",
   "id": "f94e67e6-6399-4e5a-b14b-8f497d427b86",
   "metadata": {
    "ExecuteTime": {
     "end_time": "2024-11-06T21:23:34.292760Z",
     "start_time": "2024-11-06T21:23:34.008683Z"
    }
   },
   "source": [
    "from tensorflow.keras import Model\n",
    "from tensorflow.keras.layers import Input, Dense\n",
    "from tensorflow.keras.optimizers import Adam\n",
    "# input layer 784 nodes\n",
    "inputs = Input(shape=(13,))\n",
    "# 2 hidden layer\n",
    "x = Dense(128, activation='relu')(inputs)\n",
    "x = Dense(64, activation='relu')(x)\n",
    "# output layer\n",
    "outputs = Dense(3, activation='softmax')(x)\n",
    "# construct the model\n",
    "model = Model(inputs, outputs, name='WINE')\n",
    "# print a summary\n",
    "model.summary()\n",
    "# compile the model\n",
    "model.compile(\n",
    "    optimizer=Adam(learning_rate=0.001),\n",
    "    loss='categorical_crossentropy',\n",
    "    metrics=['accuracy']\n",
    ")"
   ],
   "outputs": [
    {
     "data": {
      "text/plain": [
       "\u001B[1mModel: \"WINE\"\u001B[0m\n"
      ],
      "text/html": [
       "<pre style=\"white-space:pre;overflow-x:auto;line-height:normal;font-family:Menlo,'DejaVu Sans Mono',consolas,'Courier New',monospace\"><span style=\"font-weight: bold\">Model: \"WINE\"</span>\n",
       "</pre>\n"
      ]
     },
     "metadata": {},
     "output_type": "display_data"
    },
    {
     "data": {
      "text/plain": [
       "┏━━━━━━━━━━━━━━━━━━━━━━━━━━━━━━━━━┳━━━━━━━━━━━━━━━━━━━━━━━━┳━━━━━━━━━━━━━━━┓\n",
       "┃\u001B[1m \u001B[0m\u001B[1mLayer (type)                   \u001B[0m\u001B[1m \u001B[0m┃\u001B[1m \u001B[0m\u001B[1mOutput Shape          \u001B[0m\u001B[1m \u001B[0m┃\u001B[1m \u001B[0m\u001B[1m      Param #\u001B[0m\u001B[1m \u001B[0m┃\n",
       "┡━━━━━━━━━━━━━━━━━━━━━━━━━━━━━━━━━╇━━━━━━━━━━━━━━━━━━━━━━━━╇━━━━━━━━━━━━━━━┩\n",
       "│ input_layer (\u001B[38;5;33mInputLayer\u001B[0m)        │ (\u001B[38;5;45mNone\u001B[0m, \u001B[38;5;34m13\u001B[0m)             │             \u001B[38;5;34m0\u001B[0m │\n",
       "├─────────────────────────────────┼────────────────────────┼───────────────┤\n",
       "│ dense (\u001B[38;5;33mDense\u001B[0m)                   │ (\u001B[38;5;45mNone\u001B[0m, \u001B[38;5;34m128\u001B[0m)            │         \u001B[38;5;34m1,792\u001B[0m │\n",
       "├─────────────────────────────────┼────────────────────────┼───────────────┤\n",
       "│ dense_1 (\u001B[38;5;33mDense\u001B[0m)                 │ (\u001B[38;5;45mNone\u001B[0m, \u001B[38;5;34m64\u001B[0m)             │         \u001B[38;5;34m8,256\u001B[0m │\n",
       "├─────────────────────────────────┼────────────────────────┼───────────────┤\n",
       "│ dense_2 (\u001B[38;5;33mDense\u001B[0m)                 │ (\u001B[38;5;45mNone\u001B[0m, \u001B[38;5;34m3\u001B[0m)              │           \u001B[38;5;34m195\u001B[0m │\n",
       "└─────────────────────────────────┴────────────────────────┴───────────────┘\n"
      ],
      "text/html": [
       "<pre style=\"white-space:pre;overflow-x:auto;line-height:normal;font-family:Menlo,'DejaVu Sans Mono',consolas,'Courier New',monospace\">┏━━━━━━━━━━━━━━━━━━━━━━━━━━━━━━━━━┳━━━━━━━━━━━━━━━━━━━━━━━━┳━━━━━━━━━━━━━━━┓\n",
       "┃<span style=\"font-weight: bold\"> Layer (type)                    </span>┃<span style=\"font-weight: bold\"> Output Shape           </span>┃<span style=\"font-weight: bold\">       Param # </span>┃\n",
       "┡━━━━━━━━━━━━━━━━━━━━━━━━━━━━━━━━━╇━━━━━━━━━━━━━━━━━━━━━━━━╇━━━━━━━━━━━━━━━┩\n",
       "│ input_layer (<span style=\"color: #0087ff; text-decoration-color: #0087ff\">InputLayer</span>)        │ (<span style=\"color: #00d7ff; text-decoration-color: #00d7ff\">None</span>, <span style=\"color: #00af00; text-decoration-color: #00af00\">13</span>)             │             <span style=\"color: #00af00; text-decoration-color: #00af00\">0</span> │\n",
       "├─────────────────────────────────┼────────────────────────┼───────────────┤\n",
       "│ dense (<span style=\"color: #0087ff; text-decoration-color: #0087ff\">Dense</span>)                   │ (<span style=\"color: #00d7ff; text-decoration-color: #00d7ff\">None</span>, <span style=\"color: #00af00; text-decoration-color: #00af00\">128</span>)            │         <span style=\"color: #00af00; text-decoration-color: #00af00\">1,792</span> │\n",
       "├─────────────────────────────────┼────────────────────────┼───────────────┤\n",
       "│ dense_1 (<span style=\"color: #0087ff; text-decoration-color: #0087ff\">Dense</span>)                 │ (<span style=\"color: #00d7ff; text-decoration-color: #00d7ff\">None</span>, <span style=\"color: #00af00; text-decoration-color: #00af00\">64</span>)             │         <span style=\"color: #00af00; text-decoration-color: #00af00\">8,256</span> │\n",
       "├─────────────────────────────────┼────────────────────────┼───────────────┤\n",
       "│ dense_2 (<span style=\"color: #0087ff; text-decoration-color: #0087ff\">Dense</span>)                 │ (<span style=\"color: #00d7ff; text-decoration-color: #00d7ff\">None</span>, <span style=\"color: #00af00; text-decoration-color: #00af00\">3</span>)              │           <span style=\"color: #00af00; text-decoration-color: #00af00\">195</span> │\n",
       "└─────────────────────────────────┴────────────────────────┴───────────────┘\n",
       "</pre>\n"
      ]
     },
     "metadata": {},
     "output_type": "display_data"
    },
    {
     "data": {
      "text/plain": [
       "\u001B[1m Total params: \u001B[0m\u001B[38;5;34m10,243\u001B[0m (40.01 KB)\n"
      ],
      "text/html": [
       "<pre style=\"white-space:pre;overflow-x:auto;line-height:normal;font-family:Menlo,'DejaVu Sans Mono',consolas,'Courier New',monospace\"><span style=\"font-weight: bold\"> Total params: </span><span style=\"color: #00af00; text-decoration-color: #00af00\">10,243</span> (40.01 KB)\n",
       "</pre>\n"
      ]
     },
     "metadata": {},
     "output_type": "display_data"
    },
    {
     "data": {
      "text/plain": [
       "\u001B[1m Trainable params: \u001B[0m\u001B[38;5;34m10,243\u001B[0m (40.01 KB)\n"
      ],
      "text/html": [
       "<pre style=\"white-space:pre;overflow-x:auto;line-height:normal;font-family:Menlo,'DejaVu Sans Mono',consolas,'Courier New',monospace\"><span style=\"font-weight: bold\"> Trainable params: </span><span style=\"color: #00af00; text-decoration-color: #00af00\">10,243</span> (40.01 KB)\n",
       "</pre>\n"
      ]
     },
     "metadata": {},
     "output_type": "display_data"
    },
    {
     "data": {
      "text/plain": [
       "\u001B[1m Non-trainable params: \u001B[0m\u001B[38;5;34m0\u001B[0m (0.00 B)\n"
      ],
      "text/html": [
       "<pre style=\"white-space:pre;overflow-x:auto;line-height:normal;font-family:Menlo,'DejaVu Sans Mono',consolas,'Courier New',monospace\"><span style=\"font-weight: bold\"> Non-trainable params: </span><span style=\"color: #00af00; text-decoration-color: #00af00\">0</span> (0.00 B)\n",
       "</pre>\n"
      ]
     },
     "metadata": {},
     "output_type": "display_data"
    }
   ],
   "execution_count": 23
  },
  {
   "cell_type": "markdown",
   "id": "9f705e7f-2dae-4cb0-819f-65e612aedea8",
   "metadata": {},
   "source": [
    "### 3. Train the model\n",
    "\n",
    "Train the model with 10% of the training data taken for validation. Choose the number of epochs and the batch_size. Plot the loss function. Do we have overfitting?"
   ]
  },
  {
   "cell_type": "code",
   "id": "de076a77-26e5-41a8-83ac-4f64ae1f79aa",
   "metadata": {
    "scrolled": true,
    "ExecuteTime": {
     "end_time": "2024-11-06T21:24:40.939891Z",
     "start_time": "2024-11-06T21:24:33.810844Z"
    }
   },
   "source": [
    "from plot_loss import plot_loss\n",
    "# train the model\n",
    "history = model.fit(\n",
    "    x_train, # training input (normalized btw)\n",
    "    y_train_onehot, # training targets\n",
    "    epochs=100,\n",
    "    batch_size=32,\n",
    "    validation_split=0.1,\n",
    ")\n",
    "# plot loss function\n",
    "plot_loss(history)"
   ],
   "outputs": [
    {
     "name": "stdout",
     "output_type": "stream",
     "text": [
      "Epoch 1/100\n",
      "\u001B[1m5/5\u001B[0m \u001B[32m━━━━━━━━━━━━━━━━━━━━\u001B[0m\u001B[37m\u001B[0m \u001B[1m0s\u001B[0m 22ms/step - accuracy: 1.0000 - loss: 0.0021 - val_accuracy: 0.9375 - val_loss: 0.1106\n",
      "Epoch 2/100\n",
      "\u001B[1m5/5\u001B[0m \u001B[32m━━━━━━━━━━━━━━━━━━━━\u001B[0m\u001B[37m\u001B[0m \u001B[1m0s\u001B[0m 10ms/step - accuracy: 1.0000 - loss: 0.0016 - val_accuracy: 0.9375 - val_loss: 0.1084\n",
      "Epoch 3/100\n",
      "\u001B[1m5/5\u001B[0m \u001B[32m━━━━━━━━━━━━━━━━━━━━\u001B[0m\u001B[37m\u001B[0m \u001B[1m0s\u001B[0m 11ms/step - accuracy: 1.0000 - loss: 0.0022 - val_accuracy: 0.9375 - val_loss: 0.1069\n",
      "Epoch 4/100\n",
      "\u001B[1m5/5\u001B[0m \u001B[32m━━━━━━━━━━━━━━━━━━━━\u001B[0m\u001B[37m\u001B[0m \u001B[1m0s\u001B[0m 9ms/step - accuracy: 1.0000 - loss: 0.0018 - val_accuracy: 0.9375 - val_loss: 0.1040\n",
      "Epoch 5/100\n",
      "\u001B[1m5/5\u001B[0m \u001B[32m━━━━━━━━━━━━━━━━━━━━\u001B[0m\u001B[37m\u001B[0m \u001B[1m0s\u001B[0m 10ms/step - accuracy: 1.0000 - loss: 0.0017 - val_accuracy: 0.9375 - val_loss: 0.1027\n",
      "Epoch 6/100\n",
      "\u001B[1m5/5\u001B[0m \u001B[32m━━━━━━━━━━━━━━━━━━━━\u001B[0m\u001B[37m\u001B[0m \u001B[1m0s\u001B[0m 8ms/step - accuracy: 1.0000 - loss: 0.0017 - val_accuracy: 0.9375 - val_loss: 0.1027\n",
      "Epoch 7/100\n",
      "\u001B[1m5/5\u001B[0m \u001B[32m━━━━━━━━━━━━━━━━━━━━\u001B[0m\u001B[37m\u001B[0m \u001B[1m0s\u001B[0m 11ms/step - accuracy: 1.0000 - loss: 0.0015 - val_accuracy: 0.9375 - val_loss: 0.1028\n",
      "Epoch 8/100\n",
      "\u001B[1m5/5\u001B[0m \u001B[32m━━━━━━━━━━━━━━━━━━━━\u001B[0m\u001B[37m\u001B[0m \u001B[1m0s\u001B[0m 9ms/step - accuracy: 1.0000 - loss: 0.0017 - val_accuracy: 0.9375 - val_loss: 0.1061\n",
      "Epoch 9/100\n",
      "\u001B[1m5/5\u001B[0m \u001B[32m━━━━━━━━━━━━━━━━━━━━\u001B[0m\u001B[37m\u001B[0m \u001B[1m0s\u001B[0m 9ms/step - accuracy: 1.0000 - loss: 0.0013 - val_accuracy: 0.9375 - val_loss: 0.1058\n",
      "Epoch 10/100\n",
      "\u001B[1m5/5\u001B[0m \u001B[32m━━━━━━━━━━━━━━━━━━━━\u001B[0m\u001B[37m\u001B[0m \u001B[1m0s\u001B[0m 11ms/step - accuracy: 1.0000 - loss: 0.0019 - val_accuracy: 0.9375 - val_loss: 0.1034\n",
      "Epoch 11/100\n",
      "\u001B[1m5/5\u001B[0m \u001B[32m━━━━━━━━━━━━━━━━━━━━\u001B[0m\u001B[37m\u001B[0m \u001B[1m0s\u001B[0m 9ms/step - accuracy: 1.0000 - loss: 0.0014 - val_accuracy: 0.9375 - val_loss: 0.1032\n",
      "Epoch 12/100\n",
      "\u001B[1m5/5\u001B[0m \u001B[32m━━━━━━━━━━━━━━━━━━━━\u001B[0m\u001B[37m\u001B[0m \u001B[1m0s\u001B[0m 8ms/step - accuracy: 1.0000 - loss: 0.0014 - val_accuracy: 0.9375 - val_loss: 0.1049\n",
      "Epoch 13/100\n",
      "\u001B[1m5/5\u001B[0m \u001B[32m━━━━━━━━━━━━━━━━━━━━\u001B[0m\u001B[37m\u001B[0m \u001B[1m0s\u001B[0m 9ms/step - accuracy: 1.0000 - loss: 0.0015 - val_accuracy: 0.9375 - val_loss: 0.1049\n",
      "Epoch 14/100\n",
      "\u001B[1m5/5\u001B[0m \u001B[32m━━━━━━━━━━━━━━━━━━━━\u001B[0m\u001B[37m\u001B[0m \u001B[1m0s\u001B[0m 8ms/step - accuracy: 1.0000 - loss: 0.0019 - val_accuracy: 0.9375 - val_loss: 0.1057\n",
      "Epoch 15/100\n",
      "\u001B[1m5/5\u001B[0m \u001B[32m━━━━━━━━━━━━━━━━━━━━\u001B[0m\u001B[37m\u001B[0m \u001B[1m0s\u001B[0m 9ms/step - accuracy: 1.0000 - loss: 0.0016 - val_accuracy: 0.9375 - val_loss: 0.1073\n",
      "Epoch 16/100\n",
      "\u001B[1m5/5\u001B[0m \u001B[32m━━━━━━━━━━━━━━━━━━━━\u001B[0m\u001B[37m\u001B[0m \u001B[1m0s\u001B[0m 10ms/step - accuracy: 1.0000 - loss: 0.0018 - val_accuracy: 0.9375 - val_loss: 0.0971\n",
      "Epoch 17/100\n",
      "\u001B[1m5/5\u001B[0m \u001B[32m━━━━━━━━━━━━━━━━━━━━\u001B[0m\u001B[37m\u001B[0m \u001B[1m0s\u001B[0m 9ms/step - accuracy: 1.0000 - loss: 0.0018 - val_accuracy: 0.9375 - val_loss: 0.0924\n",
      "Epoch 18/100\n",
      "\u001B[1m5/5\u001B[0m \u001B[32m━━━━━━━━━━━━━━━━━━━━\u001B[0m\u001B[37m\u001B[0m \u001B[1m0s\u001B[0m 9ms/step - accuracy: 1.0000 - loss: 0.0012 - val_accuracy: 0.9375 - val_loss: 0.0914\n",
      "Epoch 19/100\n",
      "\u001B[1m5/5\u001B[0m \u001B[32m━━━━━━━━━━━━━━━━━━━━\u001B[0m\u001B[37m\u001B[0m \u001B[1m0s\u001B[0m 9ms/step - accuracy: 1.0000 - loss: 0.0017 - val_accuracy: 0.9375 - val_loss: 0.0981\n",
      "Epoch 20/100\n",
      "\u001B[1m5/5\u001B[0m \u001B[32m━━━━━━━━━━━━━━━━━━━━\u001B[0m\u001B[37m\u001B[0m \u001B[1m0s\u001B[0m 8ms/step - accuracy: 1.0000 - loss: 0.0016 - val_accuracy: 0.9375 - val_loss: 0.1050\n",
      "Epoch 21/100\n",
      "\u001B[1m5/5\u001B[0m \u001B[32m━━━━━━━━━━━━━━━━━━━━\u001B[0m\u001B[37m\u001B[0m \u001B[1m0s\u001B[0m 9ms/step - accuracy: 1.0000 - loss: 0.0014 - val_accuracy: 0.9375 - val_loss: 0.1066\n",
      "Epoch 22/100\n",
      "\u001B[1m5/5\u001B[0m \u001B[32m━━━━━━━━━━━━━━━━━━━━\u001B[0m\u001B[37m\u001B[0m \u001B[1m0s\u001B[0m 9ms/step - accuracy: 1.0000 - loss: 0.0013 - val_accuracy: 0.9375 - val_loss: 0.1066\n",
      "Epoch 23/100\n",
      "\u001B[1m5/5\u001B[0m \u001B[32m━━━━━━━━━━━━━━━━━━━━\u001B[0m\u001B[37m\u001B[0m \u001B[1m0s\u001B[0m 9ms/step - accuracy: 1.0000 - loss: 0.0017 - val_accuracy: 0.9375 - val_loss: 0.1053\n",
      "Epoch 24/100\n",
      "\u001B[1m5/5\u001B[0m \u001B[32m━━━━━━━━━━━━━━━━━━━━\u001B[0m\u001B[37m\u001B[0m \u001B[1m0s\u001B[0m 14ms/step - accuracy: 1.0000 - loss: 0.0015 - val_accuracy: 0.9375 - val_loss: 0.1085\n",
      "Epoch 25/100\n",
      "\u001B[1m5/5\u001B[0m \u001B[32m━━━━━━━━━━━━━━━━━━━━\u001B[0m\u001B[37m\u001B[0m \u001B[1m0s\u001B[0m 9ms/step - accuracy: 1.0000 - loss: 0.0015 - val_accuracy: 0.9375 - val_loss: 0.1116\n",
      "Epoch 26/100\n",
      "\u001B[1m5/5\u001B[0m \u001B[32m━━━━━━━━━━━━━━━━━━━━\u001B[0m\u001B[37m\u001B[0m \u001B[1m0s\u001B[0m 9ms/step - accuracy: 1.0000 - loss: 9.9659e-04 - val_accuracy: 0.9375 - val_loss: 0.1079\n",
      "Epoch 27/100\n",
      "\u001B[1m5/5\u001B[0m \u001B[32m━━━━━━━━━━━━━━━━━━━━\u001B[0m\u001B[37m\u001B[0m \u001B[1m0s\u001B[0m 10ms/step - accuracy: 1.0000 - loss: 0.0015 - val_accuracy: 0.9375 - val_loss: 0.1110\n",
      "Epoch 28/100\n",
      "\u001B[1m5/5\u001B[0m \u001B[32m━━━━━━━━━━━━━━━━━━━━\u001B[0m\u001B[37m\u001B[0m \u001B[1m0s\u001B[0m 8ms/step - accuracy: 1.0000 - loss: 0.0012 - val_accuracy: 0.9375 - val_loss: 0.1222\n",
      "Epoch 29/100\n",
      "\u001B[1m5/5\u001B[0m \u001B[32m━━━━━━━━━━━━━━━━━━━━\u001B[0m\u001B[37m\u001B[0m \u001B[1m0s\u001B[0m 9ms/step - accuracy: 1.0000 - loss: 0.0013 - val_accuracy: 0.9375 - val_loss: 0.1216\n",
      "Epoch 30/100\n",
      "\u001B[1m5/5\u001B[0m \u001B[32m━━━━━━━━━━━━━━━━━━━━\u001B[0m\u001B[37m\u001B[0m \u001B[1m0s\u001B[0m 9ms/step - accuracy: 1.0000 - loss: 0.0014 - val_accuracy: 0.9375 - val_loss: 0.1241\n",
      "Epoch 31/100\n",
      "\u001B[1m5/5\u001B[0m \u001B[32m━━━━━━━━━━━━━━━━━━━━\u001B[0m\u001B[37m\u001B[0m \u001B[1m0s\u001B[0m 8ms/step - accuracy: 1.0000 - loss: 0.0015 - val_accuracy: 0.9375 - val_loss: 0.1208\n",
      "Epoch 32/100\n",
      "\u001B[1m5/5\u001B[0m \u001B[32m━━━━━━━━━━━━━━━━━━━━\u001B[0m\u001B[37m\u001B[0m \u001B[1m0s\u001B[0m 8ms/step - accuracy: 1.0000 - loss: 0.0012 - val_accuracy: 0.9375 - val_loss: 0.1150\n",
      "Epoch 33/100\n",
      "\u001B[1m5/5\u001B[0m \u001B[32m━━━━━━━━━━━━━━━━━━━━\u001B[0m\u001B[37m\u001B[0m \u001B[1m0s\u001B[0m 9ms/step - accuracy: 1.0000 - loss: 0.0014 - val_accuracy: 0.9375 - val_loss: 0.1119\n",
      "Epoch 34/100\n",
      "\u001B[1m5/5\u001B[0m \u001B[32m━━━━━━━━━━━━━━━━━━━━\u001B[0m\u001B[37m\u001B[0m \u001B[1m0s\u001B[0m 9ms/step - accuracy: 1.0000 - loss: 0.0013 - val_accuracy: 0.9375 - val_loss: 0.1087\n",
      "Epoch 35/100\n",
      "\u001B[1m5/5\u001B[0m \u001B[32m━━━━━━━━━━━━━━━━━━━━\u001B[0m\u001B[37m\u001B[0m \u001B[1m0s\u001B[0m 10ms/step - accuracy: 1.0000 - loss: 0.0012 - val_accuracy: 0.9375 - val_loss: 0.1146\n",
      "Epoch 36/100\n",
      "\u001B[1m5/5\u001B[0m \u001B[32m━━━━━━━━━━━━━━━━━━━━\u001B[0m\u001B[37m\u001B[0m \u001B[1m0s\u001B[0m 10ms/step - accuracy: 1.0000 - loss: 0.0013 - val_accuracy: 0.9375 - val_loss: 0.1174\n",
      "Epoch 37/100\n",
      "\u001B[1m5/5\u001B[0m \u001B[32m━━━━━━━━━━━━━━━━━━━━\u001B[0m\u001B[37m\u001B[0m \u001B[1m0s\u001B[0m 10ms/step - accuracy: 1.0000 - loss: 0.0011 - val_accuracy: 0.9375 - val_loss: 0.1163\n",
      "Epoch 38/100\n",
      "\u001B[1m5/5\u001B[0m \u001B[32m━━━━━━━━━━━━━━━━━━━━\u001B[0m\u001B[37m\u001B[0m \u001B[1m0s\u001B[0m 10ms/step - accuracy: 1.0000 - loss: 0.0014 - val_accuracy: 0.9375 - val_loss: 0.1123\n",
      "Epoch 39/100\n",
      "\u001B[1m5/5\u001B[0m \u001B[32m━━━━━━━━━━━━━━━━━━━━\u001B[0m\u001B[37m\u001B[0m \u001B[1m0s\u001B[0m 9ms/step - accuracy: 1.0000 - loss: 0.0013 - val_accuracy: 0.9375 - val_loss: 0.1090\n",
      "Epoch 40/100\n",
      "\u001B[1m5/5\u001B[0m \u001B[32m━━━━━━━━━━━━━━━━━━━━\u001B[0m\u001B[37m\u001B[0m \u001B[1m0s\u001B[0m 8ms/step - accuracy: 1.0000 - loss: 0.0012 - val_accuracy: 0.9375 - val_loss: 0.1177\n",
      "Epoch 41/100\n",
      "\u001B[1m5/5\u001B[0m \u001B[32m━━━━━━━━━━━━━━━━━━━━\u001B[0m\u001B[37m\u001B[0m \u001B[1m0s\u001B[0m 8ms/step - accuracy: 1.0000 - loss: 0.0013 - val_accuracy: 0.9375 - val_loss: 0.1255\n",
      "Epoch 42/100\n",
      "\u001B[1m5/5\u001B[0m \u001B[32m━━━━━━━━━━━━━━━━━━━━\u001B[0m\u001B[37m\u001B[0m \u001B[1m0s\u001B[0m 8ms/step - accuracy: 1.0000 - loss: 0.0012 - val_accuracy: 0.9375 - val_loss: 0.1268\n",
      "Epoch 43/100\n",
      "\u001B[1m5/5\u001B[0m \u001B[32m━━━━━━━━━━━━━━━━━━━━\u001B[0m\u001B[37m\u001B[0m \u001B[1m0s\u001B[0m 8ms/step - accuracy: 1.0000 - loss: 0.0014 - val_accuracy: 0.9375 - val_loss: 0.1200\n",
      "Epoch 44/100\n",
      "\u001B[1m5/5\u001B[0m \u001B[32m━━━━━━━━━━━━━━━━━━━━\u001B[0m\u001B[37m\u001B[0m \u001B[1m0s\u001B[0m 9ms/step - accuracy: 1.0000 - loss: 0.0013 - val_accuracy: 0.9375 - val_loss: 0.1114\n",
      "Epoch 45/100\n",
      "\u001B[1m5/5\u001B[0m \u001B[32m━━━━━━━━━━━━━━━━━━━━\u001B[0m\u001B[37m\u001B[0m \u001B[1m0s\u001B[0m 8ms/step - accuracy: 1.0000 - loss: 0.0011 - val_accuracy: 0.9375 - val_loss: 0.1081\n",
      "Epoch 46/100\n",
      "\u001B[1m5/5\u001B[0m \u001B[32m━━━━━━━━━━━━━━━━━━━━\u001B[0m\u001B[37m\u001B[0m \u001B[1m0s\u001B[0m 9ms/step - accuracy: 1.0000 - loss: 9.7589e-04 - val_accuracy: 0.9375 - val_loss: 0.1065\n",
      "Epoch 47/100\n",
      "\u001B[1m5/5\u001B[0m \u001B[32m━━━━━━━━━━━━━━━━━━━━\u001B[0m\u001B[37m\u001B[0m \u001B[1m0s\u001B[0m 9ms/step - accuracy: 1.0000 - loss: 0.0011 - val_accuracy: 0.9375 - val_loss: 0.1040\n",
      "Epoch 48/100\n",
      "\u001B[1m5/5\u001B[0m \u001B[32m━━━━━━━━━━━━━━━━━━━━\u001B[0m\u001B[37m\u001B[0m \u001B[1m0s\u001B[0m 9ms/step - accuracy: 1.0000 - loss: 0.0011 - val_accuracy: 0.9375 - val_loss: 0.0987\n",
      "Epoch 49/100\n",
      "\u001B[1m5/5\u001B[0m \u001B[32m━━━━━━━━━━━━━━━━━━━━\u001B[0m\u001B[37m\u001B[0m \u001B[1m0s\u001B[0m 11ms/step - accuracy: 1.0000 - loss: 0.0010 - val_accuracy: 0.9375 - val_loss: 0.1054\n",
      "Epoch 50/100\n",
      "\u001B[1m5/5\u001B[0m \u001B[32m━━━━━━━━━━━━━━━━━━━━\u001B[0m\u001B[37m\u001B[0m \u001B[1m0s\u001B[0m 9ms/step - accuracy: 1.0000 - loss: 0.0012 - val_accuracy: 0.9375 - val_loss: 0.1168\n",
      "Epoch 51/100\n",
      "\u001B[1m5/5\u001B[0m \u001B[32m━━━━━━━━━━━━━━━━━━━━\u001B[0m\u001B[37m\u001B[0m \u001B[1m0s\u001B[0m 9ms/step - accuracy: 1.0000 - loss: 0.0012 - val_accuracy: 0.9375 - val_loss: 0.1219\n",
      "Epoch 52/100\n",
      "\u001B[1m5/5\u001B[0m \u001B[32m━━━━━━━━━━━━━━━━━━━━\u001B[0m\u001B[37m\u001B[0m \u001B[1m0s\u001B[0m 9ms/step - accuracy: 1.0000 - loss: 9.0340e-04 - val_accuracy: 0.9375 - val_loss: 0.1186\n",
      "Epoch 53/100\n",
      "\u001B[1m5/5\u001B[0m \u001B[32m━━━━━━━━━━━━━━━━━━━━\u001B[0m\u001B[37m\u001B[0m \u001B[1m0s\u001B[0m 8ms/step - accuracy: 1.0000 - loss: 0.0011 - val_accuracy: 0.9375 - val_loss: 0.1242\n",
      "Epoch 54/100\n",
      "\u001B[1m5/5\u001B[0m \u001B[32m━━━━━━━━━━━━━━━━━━━━\u001B[0m\u001B[37m\u001B[0m \u001B[1m0s\u001B[0m 8ms/step - accuracy: 1.0000 - loss: 0.0011 - val_accuracy: 0.9375 - val_loss: 0.1219\n",
      "Epoch 55/100\n",
      "\u001B[1m5/5\u001B[0m \u001B[32m━━━━━━━━━━━━━━━━━━━━\u001B[0m\u001B[37m\u001B[0m \u001B[1m0s\u001B[0m 10ms/step - accuracy: 1.0000 - loss: 9.5139e-04 - val_accuracy: 0.9375 - val_loss: 0.1191\n",
      "Epoch 56/100\n",
      "\u001B[1m5/5\u001B[0m \u001B[32m━━━━━━━━━━━━━━━━━━━━\u001B[0m\u001B[37m\u001B[0m \u001B[1m0s\u001B[0m 10ms/step - accuracy: 1.0000 - loss: 8.6941e-04 - val_accuracy: 0.9375 - val_loss: 0.1207\n",
      "Epoch 57/100\n",
      "\u001B[1m5/5\u001B[0m \u001B[32m━━━━━━━━━━━━━━━━━━━━\u001B[0m\u001B[37m\u001B[0m \u001B[1m0s\u001B[0m 9ms/step - accuracy: 1.0000 - loss: 9.2382e-04 - val_accuracy: 0.9375 - val_loss: 0.1189\n",
      "Epoch 58/100\n",
      "\u001B[1m5/5\u001B[0m \u001B[32m━━━━━━━━━━━━━━━━━━━━\u001B[0m\u001B[37m\u001B[0m \u001B[1m0s\u001B[0m 9ms/step - accuracy: 1.0000 - loss: 7.9257e-04 - val_accuracy: 0.9375 - val_loss: 0.1150\n",
      "Epoch 59/100\n",
      "\u001B[1m5/5\u001B[0m \u001B[32m━━━━━━━━━━━━━━━━━━━━\u001B[0m\u001B[37m\u001B[0m \u001B[1m0s\u001B[0m 8ms/step - accuracy: 1.0000 - loss: 9.4814e-04 - val_accuracy: 0.9375 - val_loss: 0.1085\n",
      "Epoch 60/100\n",
      "\u001B[1m5/5\u001B[0m \u001B[32m━━━━━━━━━━━━━━━━━━━━\u001B[0m\u001B[37m\u001B[0m \u001B[1m0s\u001B[0m 9ms/step - accuracy: 1.0000 - loss: 0.0013 - val_accuracy: 0.9375 - val_loss: 0.0967\n",
      "Epoch 61/100\n",
      "\u001B[1m5/5\u001B[0m \u001B[32m━━━━━━━━━━━━━━━━━━━━\u001B[0m\u001B[37m\u001B[0m \u001B[1m0s\u001B[0m 8ms/step - accuracy: 1.0000 - loss: 0.0013 - val_accuracy: 0.9375 - val_loss: 0.0941\n",
      "Epoch 62/100\n",
      "\u001B[1m5/5\u001B[0m \u001B[32m━━━━━━━━━━━━━━━━━━━━\u001B[0m\u001B[37m\u001B[0m \u001B[1m0s\u001B[0m 9ms/step - accuracy: 1.0000 - loss: 9.1903e-04 - val_accuracy: 0.9375 - val_loss: 0.0967\n",
      "Epoch 63/100\n",
      "\u001B[1m5/5\u001B[0m \u001B[32m━━━━━━━━━━━━━━━━━━━━\u001B[0m\u001B[37m\u001B[0m \u001B[1m0s\u001B[0m 9ms/step - accuracy: 1.0000 - loss: 0.0011 - val_accuracy: 0.9375 - val_loss: 0.1053\n",
      "Epoch 64/100\n",
      "\u001B[1m5/5\u001B[0m \u001B[32m━━━━━━━━━━━━━━━━━━━━\u001B[0m\u001B[37m\u001B[0m \u001B[1m0s\u001B[0m 8ms/step - accuracy: 1.0000 - loss: 8.8029e-04 - val_accuracy: 0.9375 - val_loss: 0.1135\n",
      "Epoch 65/100\n",
      "\u001B[1m5/5\u001B[0m \u001B[32m━━━━━━━━━━━━━━━━━━━━\u001B[0m\u001B[37m\u001B[0m \u001B[1m0s\u001B[0m 9ms/step - accuracy: 1.0000 - loss: 9.7594e-04 - val_accuracy: 0.9375 - val_loss: 0.1249\n",
      "Epoch 66/100\n",
      "\u001B[1m5/5\u001B[0m \u001B[32m━━━━━━━━━━━━━━━━━━━━\u001B[0m\u001B[37m\u001B[0m \u001B[1m0s\u001B[0m 8ms/step - accuracy: 1.0000 - loss: 8.7386e-04 - val_accuracy: 0.9375 - val_loss: 0.1240\n",
      "Epoch 67/100\n",
      "\u001B[1m5/5\u001B[0m \u001B[32m━━━━━━━━━━━━━━━━━━━━\u001B[0m\u001B[37m\u001B[0m \u001B[1m0s\u001B[0m 9ms/step - accuracy: 1.0000 - loss: 7.3040e-04 - val_accuracy: 0.9375 - val_loss: 0.1296\n",
      "Epoch 68/100\n",
      "\u001B[1m5/5\u001B[0m \u001B[32m━━━━━━━━━━━━━━━━━━━━\u001B[0m\u001B[37m\u001B[0m \u001B[1m0s\u001B[0m 9ms/step - accuracy: 1.0000 - loss: 0.0011 - val_accuracy: 0.9375 - val_loss: 0.1306\n",
      "Epoch 69/100\n",
      "\u001B[1m5/5\u001B[0m \u001B[32m━━━━━━━━━━━━━━━━━━━━\u001B[0m\u001B[37m\u001B[0m \u001B[1m0s\u001B[0m 8ms/step - accuracy: 1.0000 - loss: 0.0010 - val_accuracy: 0.9375 - val_loss: 0.1285\n",
      "Epoch 70/100\n",
      "\u001B[1m5/5\u001B[0m \u001B[32m━━━━━━━━━━━━━━━━━━━━\u001B[0m\u001B[37m\u001B[0m \u001B[1m0s\u001B[0m 8ms/step - accuracy: 1.0000 - loss: 8.0698e-04 - val_accuracy: 0.9375 - val_loss: 0.1239\n",
      "Epoch 71/100\n",
      "\u001B[1m5/5\u001B[0m \u001B[32m━━━━━━━━━━━━━━━━━━━━\u001B[0m\u001B[37m\u001B[0m \u001B[1m0s\u001B[0m 9ms/step - accuracy: 1.0000 - loss: 8.8467e-04 - val_accuracy: 0.9375 - val_loss: 0.1250\n",
      "Epoch 72/100\n",
      "\u001B[1m5/5\u001B[0m \u001B[32m━━━━━━━━━━━━━━━━━━━━\u001B[0m\u001B[37m\u001B[0m \u001B[1m0s\u001B[0m 10ms/step - accuracy: 1.0000 - loss: 8.1206e-04 - val_accuracy: 0.9375 - val_loss: 0.1274\n",
      "Epoch 73/100\n",
      "\u001B[1m5/5\u001B[0m \u001B[32m━━━━━━━━━━━━━━━━━━━━\u001B[0m\u001B[37m\u001B[0m \u001B[1m0s\u001B[0m 9ms/step - accuracy: 1.0000 - loss: 8.7718e-04 - val_accuracy: 0.9375 - val_loss: 0.1244\n",
      "Epoch 74/100\n",
      "\u001B[1m5/5\u001B[0m \u001B[32m━━━━━━━━━━━━━━━━━━━━\u001B[0m\u001B[37m\u001B[0m \u001B[1m0s\u001B[0m 8ms/step - accuracy: 1.0000 - loss: 0.0011 - val_accuracy: 0.9375 - val_loss: 0.1245\n",
      "Epoch 75/100\n",
      "\u001B[1m5/5\u001B[0m \u001B[32m━━━━━━━━━━━━━━━━━━━━\u001B[0m\u001B[37m\u001B[0m \u001B[1m0s\u001B[0m 9ms/step - accuracy: 1.0000 - loss: 0.0011 - val_accuracy: 0.9375 - val_loss: 0.1262\n",
      "Epoch 76/100\n",
      "\u001B[1m5/5\u001B[0m \u001B[32m━━━━━━━━━━━━━━━━━━━━\u001B[0m\u001B[37m\u001B[0m \u001B[1m0s\u001B[0m 9ms/step - accuracy: 1.0000 - loss: 7.7431e-04 - val_accuracy: 0.9375 - val_loss: 0.1240\n",
      "Epoch 77/100\n",
      "\u001B[1m5/5\u001B[0m \u001B[32m━━━━━━━━━━━━━━━━━━━━\u001B[0m\u001B[37m\u001B[0m \u001B[1m0s\u001B[0m 12ms/step - accuracy: 1.0000 - loss: 8.0566e-04 - val_accuracy: 0.9375 - val_loss: 0.1121\n",
      "Epoch 78/100\n",
      "\u001B[1m5/5\u001B[0m \u001B[32m━━━━━━━━━━━━━━━━━━━━\u001B[0m\u001B[37m\u001B[0m \u001B[1m0s\u001B[0m 11ms/step - accuracy: 1.0000 - loss: 9.8002e-04 - val_accuracy: 0.9375 - val_loss: 0.1060\n",
      "Epoch 79/100\n",
      "\u001B[1m5/5\u001B[0m \u001B[32m━━━━━━━━━━━━━━━━━━━━\u001B[0m\u001B[37m\u001B[0m \u001B[1m0s\u001B[0m 10ms/step - accuracy: 1.0000 - loss: 8.0958e-04 - val_accuracy: 0.9375 - val_loss: 0.1068\n",
      "Epoch 80/100\n",
      "\u001B[1m5/5\u001B[0m \u001B[32m━━━━━━━━━━━━━━━━━━━━\u001B[0m\u001B[37m\u001B[0m \u001B[1m0s\u001B[0m 8ms/step - accuracy: 1.0000 - loss: 6.3557e-04 - val_accuracy: 0.9375 - val_loss: 0.1173\n",
      "Epoch 81/100\n",
      "\u001B[1m5/5\u001B[0m \u001B[32m━━━━━━━━━━━━━━━━━━━━\u001B[0m\u001B[37m\u001B[0m \u001B[1m0s\u001B[0m 9ms/step - accuracy: 1.0000 - loss: 8.4590e-04 - val_accuracy: 0.9375 - val_loss: 0.1231\n",
      "Epoch 82/100\n",
      "\u001B[1m5/5\u001B[0m \u001B[32m━━━━━━━━━━━━━━━━━━━━\u001B[0m\u001B[37m\u001B[0m \u001B[1m0s\u001B[0m 7ms/step - accuracy: 1.0000 - loss: 9.7645e-04 - val_accuracy: 0.9375 - val_loss: 0.1220\n",
      "Epoch 83/100\n",
      "\u001B[1m5/5\u001B[0m \u001B[32m━━━━━━━━━━━━━━━━━━━━\u001B[0m\u001B[37m\u001B[0m \u001B[1m0s\u001B[0m 22ms/step - accuracy: 1.0000 - loss: 7.9836e-04 - val_accuracy: 0.9375 - val_loss: 0.1213\n",
      "Epoch 84/100\n",
      "\u001B[1m5/5\u001B[0m \u001B[32m━━━━━━━━━━━━━━━━━━━━\u001B[0m\u001B[37m\u001B[0m \u001B[1m0s\u001B[0m 7ms/step - accuracy: 1.0000 - loss: 8.9060e-04 - val_accuracy: 0.9375 - val_loss: 0.1339\n",
      "Epoch 85/100\n",
      "\u001B[1m5/5\u001B[0m \u001B[32m━━━━━━━━━━━━━━━━━━━━\u001B[0m\u001B[37m\u001B[0m \u001B[1m0s\u001B[0m 8ms/step - accuracy: 1.0000 - loss: 8.1719e-04 - val_accuracy: 0.9375 - val_loss: 0.1368\n",
      "Epoch 86/100\n",
      "\u001B[1m5/5\u001B[0m \u001B[32m━━━━━━━━━━━━━━━━━━━━\u001B[0m\u001B[37m\u001B[0m \u001B[1m0s\u001B[0m 8ms/step - accuracy: 1.0000 - loss: 5.7880e-04 - val_accuracy: 0.9375 - val_loss: 0.1314\n",
      "Epoch 87/100\n",
      "\u001B[1m5/5\u001B[0m \u001B[32m━━━━━━━━━━━━━━━━━━━━\u001B[0m\u001B[37m\u001B[0m \u001B[1m0s\u001B[0m 8ms/step - accuracy: 1.0000 - loss: 8.5903e-04 - val_accuracy: 0.9375 - val_loss: 0.1246\n",
      "Epoch 88/100\n",
      "\u001B[1m5/5\u001B[0m \u001B[32m━━━━━━━━━━━━━━━━━━━━\u001B[0m\u001B[37m\u001B[0m \u001B[1m0s\u001B[0m 10ms/step - accuracy: 1.0000 - loss: 7.9616e-04 - val_accuracy: 0.9375 - val_loss: 0.1247\n",
      "Epoch 89/100\n",
      "\u001B[1m5/5\u001B[0m \u001B[32m━━━━━━━━━━━━━━━━━━━━\u001B[0m\u001B[37m\u001B[0m \u001B[1m0s\u001B[0m 8ms/step - accuracy: 1.0000 - loss: 8.5122e-04 - val_accuracy: 0.9375 - val_loss: 0.1250\n",
      "Epoch 90/100\n",
      "\u001B[1m5/5\u001B[0m \u001B[32m━━━━━━━━━━━━━━━━━━━━\u001B[0m\u001B[37m\u001B[0m \u001B[1m0s\u001B[0m 8ms/step - accuracy: 1.0000 - loss: 7.6688e-04 - val_accuracy: 0.9375 - val_loss: 0.1229\n",
      "Epoch 91/100\n",
      "\u001B[1m5/5\u001B[0m \u001B[32m━━━━━━━━━━━━━━━━━━━━\u001B[0m\u001B[37m\u001B[0m \u001B[1m0s\u001B[0m 8ms/step - accuracy: 1.0000 - loss: 8.0698e-04 - val_accuracy: 0.9375 - val_loss: 0.1194\n",
      "Epoch 92/100\n",
      "\u001B[1m5/5\u001B[0m \u001B[32m━━━━━━━━━━━━━━━━━━━━\u001B[0m\u001B[37m\u001B[0m \u001B[1m0s\u001B[0m 8ms/step - accuracy: 1.0000 - loss: 8.6449e-04 - val_accuracy: 0.9375 - val_loss: 0.1155\n",
      "Epoch 93/100\n",
      "\u001B[1m5/5\u001B[0m \u001B[32m━━━━━━━━━━━━━━━━━━━━\u001B[0m\u001B[37m\u001B[0m \u001B[1m0s\u001B[0m 8ms/step - accuracy: 1.0000 - loss: 6.9956e-04 - val_accuracy: 0.9375 - val_loss: 0.1162\n",
      "Epoch 94/100\n",
      "\u001B[1m5/5\u001B[0m \u001B[32m━━━━━━━━━━━━━━━━━━━━\u001B[0m\u001B[37m\u001B[0m \u001B[1m0s\u001B[0m 7ms/step - accuracy: 1.0000 - loss: 6.5790e-04 - val_accuracy: 0.9375 - val_loss: 0.1288\n",
      "Epoch 95/100\n",
      "\u001B[1m5/5\u001B[0m \u001B[32m━━━━━━━━━━━━━━━━━━━━\u001B[0m\u001B[37m\u001B[0m \u001B[1m0s\u001B[0m 7ms/step - accuracy: 1.0000 - loss: 9.4828e-04 - val_accuracy: 0.9375 - val_loss: 0.1322\n",
      "Epoch 96/100\n",
      "\u001B[1m5/5\u001B[0m \u001B[32m━━━━━━━━━━━━━━━━━━━━\u001B[0m\u001B[37m\u001B[0m \u001B[1m0s\u001B[0m 8ms/step - accuracy: 1.0000 - loss: 9.6870e-04 - val_accuracy: 0.9375 - val_loss: 0.1325\n",
      "Epoch 97/100\n",
      "\u001B[1m5/5\u001B[0m \u001B[32m━━━━━━━━━━━━━━━━━━━━\u001B[0m\u001B[37m\u001B[0m \u001B[1m0s\u001B[0m 7ms/step - accuracy: 1.0000 - loss: 8.6756e-04 - val_accuracy: 0.9375 - val_loss: 0.1278\n",
      "Epoch 98/100\n",
      "\u001B[1m5/5\u001B[0m \u001B[32m━━━━━━━━━━━━━━━━━━━━\u001B[0m\u001B[37m\u001B[0m \u001B[1m0s\u001B[0m 8ms/step - accuracy: 1.0000 - loss: 7.6615e-04 - val_accuracy: 0.9375 - val_loss: 0.1287\n",
      "Epoch 99/100\n",
      "\u001B[1m5/5\u001B[0m \u001B[32m━━━━━━━━━━━━━━━━━━━━\u001B[0m\u001B[37m\u001B[0m \u001B[1m0s\u001B[0m 8ms/step - accuracy: 1.0000 - loss: 7.2664e-04 - val_accuracy: 0.9375 - val_loss: 0.1263\n",
      "Epoch 100/100\n",
      "\u001B[1m5/5\u001B[0m \u001B[32m━━━━━━━━━━━━━━━━━━━━\u001B[0m\u001B[37m\u001B[0m \u001B[1m0s\u001B[0m 8ms/step - accuracy: 1.0000 - loss: 6.8655e-04 - val_accuracy: 0.9375 - val_loss: 0.1248\n",
      "\n",
      "\n",
      "History.history:\n",
      " {'accuracy': [1.0, 1.0, 1.0, 1.0, 1.0, 1.0, 1.0, 1.0, 1.0, 1.0, 1.0, 1.0, 1.0, 1.0, 1.0, 1.0, 1.0, 1.0, 1.0, 1.0, 1.0, 1.0, 1.0, 1.0, 1.0, 1.0, 1.0, 1.0, 1.0, 1.0, 1.0, 1.0, 1.0, 1.0, 1.0, 1.0, 1.0, 1.0, 1.0, 1.0, 1.0, 1.0, 1.0, 1.0, 1.0, 1.0, 1.0, 1.0, 1.0, 1.0, 1.0, 1.0, 1.0, 1.0, 1.0, 1.0, 1.0, 1.0, 1.0, 1.0, 1.0, 1.0, 1.0, 1.0, 1.0, 1.0, 1.0, 1.0, 1.0, 1.0, 1.0, 1.0, 1.0, 1.0, 1.0, 1.0, 1.0, 1.0, 1.0, 1.0, 1.0, 1.0, 1.0, 1.0, 1.0, 1.0, 1.0, 1.0, 1.0, 1.0, 1.0, 1.0, 1.0, 1.0, 1.0, 1.0, 1.0, 1.0, 1.0, 1.0], 'loss': [0.0017952112248167396, 0.0017865702975541353, 0.0017926894361153245, 0.0017243889160454273, 0.0017084155697375536, 0.0016900567570701241, 0.001670556841418147, 0.0016934729646891356, 0.0016463813371956348, 0.0016333000967279077, 0.0016038825269788504, 0.001592247630469501, 0.0015765995485708117, 0.0015595168806612492, 0.0015612224815413356, 0.001515038893558085, 0.0015377170639112592, 0.00156917714048177, 0.0015404274454340339, 0.0014894293854013085, 0.001455566380172968, 0.0014447439461946487, 0.0014720215694978833, 0.001420081709511578, 0.001449824427254498, 0.0014056935906410217, 0.0013769554207101464, 0.0014105368172749877, 0.0014085727743804455, 0.0013819579035043716, 0.0013657965464517474, 0.0013242821441963315, 0.001299133407883346, 0.0013012489071115851, 0.0012804201105609536, 0.0012655981117859483, 0.0012533121043816209, 0.001235351781360805, 0.0012411933857947588, 0.0012104036286473274, 0.0012165105435997248, 0.0012553263222798705, 0.0012368898605927825, 0.001178830279968679, 0.0011391006410121918, 0.0011465855641290545, 0.0011443250114098191, 0.0011754216393455863, 0.0011386398691684008, 0.001111802994273603, 0.001117016188800335, 0.0011121322168037295, 0.0010957876220345497, 0.0010933922603726387, 0.0010822470067068934, 0.001059320755302906, 0.0010331746889278293, 0.0010171461617574096, 0.0010005624499171972, 0.0010199627140536904, 0.0010506559628993273, 0.0010499267373234034, 0.000998900388367474, 0.0009681298979558051, 0.0010074976598843932, 0.000992707908153534, 0.0009652671869844198, 0.0009589535184204578, 0.000954946968704462, 0.0009149588877335191, 0.00091302435612306, 0.0009088681545108557, 0.0009241907973773777, 0.0009145383373834193, 0.0008943801512941718, 0.0008807561825960875, 0.0008457142394036055, 0.0008664201013743877, 0.0008808512939140201, 0.0008376207551918924, 0.0008352663717232645, 0.000825991912279278, 0.0008164533646777272, 0.0008348916890099645, 0.0008530299528501928, 0.0008043654961511493, 0.0008183749159798026, 0.00080500403419137, 0.0007940279319882393, 0.0007729713106527925, 0.0007565718842670321, 0.0007545879925601184, 0.000752250081859529, 0.0007555026677437127, 0.0007585571147501469, 0.0007771730306558311, 0.0007725647883489728, 0.0007375905988737941, 0.0007252319483086467, 0.0007047284743748605], 'val_accuracy': [0.9375, 0.9375, 0.9375, 0.9375, 0.9375, 0.9375, 0.9375, 0.9375, 0.9375, 0.9375, 0.9375, 0.9375, 0.9375, 0.9375, 0.9375, 0.9375, 0.9375, 0.9375, 0.9375, 0.9375, 0.9375, 0.9375, 0.9375, 0.9375, 0.9375, 0.9375, 0.9375, 0.9375, 0.9375, 0.9375, 0.9375, 0.9375, 0.9375, 0.9375, 0.9375, 0.9375, 0.9375, 0.9375, 0.9375, 0.9375, 0.9375, 0.9375, 0.9375, 0.9375, 0.9375, 0.9375, 0.9375, 0.9375, 0.9375, 0.9375, 0.9375, 0.9375, 0.9375, 0.9375, 0.9375, 0.9375, 0.9375, 0.9375, 0.9375, 0.9375, 0.9375, 0.9375, 0.9375, 0.9375, 0.9375, 0.9375, 0.9375, 0.9375, 0.9375, 0.9375, 0.9375, 0.9375, 0.9375, 0.9375, 0.9375, 0.9375, 0.9375, 0.9375, 0.9375, 0.9375, 0.9375, 0.9375, 0.9375, 0.9375, 0.9375, 0.9375, 0.9375, 0.9375, 0.9375, 0.9375, 0.9375, 0.9375, 0.9375, 0.9375, 0.9375, 0.9375, 0.9375, 0.9375, 0.9375, 0.9375], 'val_loss': [0.11058386415243149, 0.1083904355764389, 0.10690885782241821, 0.10404491424560547, 0.10267356038093567, 0.10271406173706055, 0.10283969342708588, 0.10606266558170319, 0.1058427169919014, 0.10337098687887192, 0.1032346859574318, 0.10492289811372757, 0.10486800968647003, 0.1056518405675888, 0.10734502971172333, 0.09714625030755997, 0.09244616329669952, 0.09136568754911423, 0.09811264276504517, 0.105008065700531, 0.10663169622421265, 0.10657691210508347, 0.10530455410480499, 0.10849638283252716, 0.11164368689060211, 0.10792180895805359, 0.11104217171669006, 0.12220122665166855, 0.12155607342720032, 0.12414036691188812, 0.12083391100168228, 0.11499470472335815, 0.11192943900823593, 0.10873598605394363, 0.1146264597773552, 0.11735216528177261, 0.11628196388483047, 0.11234689503908157, 0.10899212956428528, 0.11769134551286697, 0.12551751732826233, 0.126764714717865, 0.1199803575873375, 0.11138558387756348, 0.10813050717115402, 0.10650429129600525, 0.10404983907938004, 0.09866113215684891, 0.10541430115699768, 0.11675676703453064, 0.12185102701187134, 0.11862726509571075, 0.12421412765979767, 0.12193934619426727, 0.11913706362247467, 0.12073546648025513, 0.11893175542354584, 0.11496590822935104, 0.10852077603340149, 0.09672620892524719, 0.09405072778463364, 0.09673067182302475, 0.10532160103321075, 0.11350207030773163, 0.12493497878313065, 0.1239960640668869, 0.1295759379863739, 0.13062196969985962, 0.1285281926393509, 0.12386415153741837, 0.12495260685682297, 0.1273774802684784, 0.1243688315153122, 0.12450236082077026, 0.12619231641292572, 0.12398738414049149, 0.11213629692792892, 0.10597224533557892, 0.10680533200502396, 0.1173282042145729, 0.12306157499551773, 0.1219516322016716, 0.1212739646434784, 0.13391871750354767, 0.1367858350276947, 0.1314331591129303, 0.12463598698377609, 0.12473458051681519, 0.1250259429216385, 0.12293342500925064, 0.1193624883890152, 0.11551348865032196, 0.11617494374513626, 0.12878790497779846, 0.1322103589773178, 0.13250628113746643, 0.12778520584106445, 0.1287025660276413, 0.12631291151046753, 0.12484975159168243]}\n"
     ]
    },
    {
     "data": {
      "text/plain": [
       "<Figure size 640x480 with 1 Axes>"
      ],
      "image/png": "[encoded data removed]"
     },
     "metadata": {},
     "output_type": "display_data"
    }
   ],
   "execution_count": 26
  },
  {
   "cell_type": "markdown",
   "id": "20968514-22ec-495c-a89e-fcddb3641dfa",
   "metadata": {},
   "source": [
    "### 4. Evaluate the model\n",
    "\n",
    "Evaluate the model with the test dataset (why thisone?). What is the accuracy of the model?"
   ]
  },
  {
   "cell_type": "code",
   "execution_count": 11,
   "id": "643bde3c-055b-4606-9a11-e1d430315e42",
   "metadata": {},
   "outputs": [
    {
     "name": "stdout",
     "output_type": "stream",
     "text": [
      "1/1 [==============================] - 0s 47ms/step - loss: 0.0867 - accuracy: 0.9630\n"
     ]
    },
    {
     "data": {
      "text/plain": [
       "[0.08674301952123642, 0.9629629850387573]"
      ]
     },
     "execution_count": 11,
     "metadata": {},
     "output_type": "execute_result"
    }
   ],
   "source": [
    "model.evaluate(x_test,y_test_onehot)"
   ]
  },
  {
   "cell_type": "markdown",
   "id": "0c8acb73-43fa-42e1-a1b2-d856a6a21ddd",
   "metadata": {},
   "source": [
    "### 5. Use the model to predict\n",
    "\n",
    "There is a new wine with the following characteristics for the features: 12, 6.5, 3, 25, 100, 2.5, 4, 0.5, 2, 8, 1, 3, 500. Predict the quality for this wine. What should be the shape of the predict parameter? Can we feed in the feature values right away? Which quality class is predicted? How sure is the prediction?"
   ]
  },
  {
   "cell_type": "code",
   "execution_count": 12,
   "id": "e4198864-9231-4947-86c7-acb52376a34f",
   "metadata": {
    "jupyter": {
     "source_hidden": true
    }
   },
   "outputs": [
    {
     "name": "stdout",
     "output_type": "stream",
     "text": [
      "1/1 [==============================] - 0s 110ms/step\n",
      "[[3.140069e-02 9.677797e-01 8.196560e-04]]\n"
     ]
    }
   ],
   "source": [
    "new_wine = [[12, 6.5, 3, 25, 100, 2.5, 4, 0.5, 2, 8, 1, 3, 500]]  # 2-dimensional!\n",
    "new_wine_norm = scaler.transform(new_wine)  # no fit!\n",
    "predicted_class = model.predict(new_wine_norm)\n",
    "print(predicted_class)"
   ]
  },
  {
   "cell_type": "markdown",
   "id": "49ee0f00-7911-4489-946e-c288f00d9f57",
   "metadata": {},
   "source": [
    "## EXERCISE 3\n",
    "\n",
    "In this exercise we will predict the house price, based on some characteristics of the house."
   ]
  },
  {
   "cell_type": "code",
   "execution_count": 13,
   "id": "2b7866a5-5f48-465a-8064-8ecff70bbf57",
   "metadata": {},
   "outputs": [
    {
     "data": {
      "text/plain": [
       "'.. _california_housing_dataset:\\n\\nCalifornia Housing dataset\\n--------------------------\\n\\n**Data Set Characteristics:**\\n\\n:Number of Instances: 20640\\n\\n:Number of Attributes: 8 numeric, predictive attributes and the target\\n\\n:Attribute Information:\\n    - MedInc        median income in block group\\n    - HouseAge      median house age in block group\\n    - AveRooms      average number of rooms per household\\n    - AveBedrms     average number of bedrooms per household\\n    - Population    block group population\\n    - AveOccup      average number of household members\\n    - Latitude      block group latitude\\n    - Longitude     block group longitude\\n\\n:Missing Attribute Values: None\\n\\nThis dataset was obtained from the StatLib repository.\\nhttps://www.dcc.fc.up.pt/~ltorgo/Regression/cal_housing.html\\n\\nThe target variable is the median house value for California districts,\\nexpressed in hundreds of thousands of dollars ($100,000).\\n\\nThis dataset was derived from the 1990 U.S. census, using one row per census\\nblock group. A block group is the smallest geographical unit for which the U.S.\\nCensus Bureau publishes sample data (a block group typically has a population\\nof 600 to 3,000 people).\\n\\nA household is a group of people residing within a home. Since the average\\nnumber of rooms and bedrooms in this dataset are provided per household, these\\ncolumns may take surprisingly large values for block groups with few households\\nand many empty houses, such as vacation resorts.\\n\\nIt can be downloaded/loaded using the\\n:func:`sklearn.datasets.fetch_california_housing` function.\\n\\n.. topic:: References\\n\\n    - Pace, R. Kelley and Ronald Barry, Sparse Spatial Autoregressions,\\n      Statistics and Probability Letters, 33 (1997) 291-297\\n'"
      ]
     },
     "execution_count": 13,
     "metadata": {},
     "output_type": "execute_result"
    }
   ],
   "source": [
    "from sklearn.datasets import fetch_california_housing\n",
    "houses_x = fetch_california_housing().data\n",
    "houses_y = fetch_california_housing().target\n",
    "fetch_california_housing().DESCR"
   ]
  },
  {
   "cell_type": "markdown",
   "id": "66a6aac8-8b04-4b7a-b6bc-5694a181d652",
   "metadata": {},
   "source": [
    "### 1. Data preparation"
   ]
  },
  {
   "cell_type": "markdown",
   "id": "32de87a5-6806-4d35-8bd3-7a52869cd471",
   "metadata": {},
   "source": [
    "a. Print the shapes of houses_x and houses_y. How many houses do we have? How many featues do we have? Check whether there NaN values."
   ]
  },
  {
   "cell_type": "code",
   "execution_count": 14,
   "id": "30d6f234-7cd0-4f6b-9d8d-658f242d7f0f",
   "metadata": {},
   "outputs": [
    {
     "name": "stdout",
     "output_type": "stream",
     "text": [
      "(20640, 8)\n",
      "(20640,)\n"
     ]
    }
   ],
   "source": [
    "print(houses_x.shape)\n",
    "print(houses_y.shape)"
   ]
  },
  {
   "cell_type": "code",
   "execution_count": 15,
   "id": "463d5eb4-3095-4c64-95c4-1f47ae7eba39",
   "metadata": {},
   "outputs": [
    {
     "data": {
      "text/plain": [
       "0"
      ]
     },
     "execution_count": 15,
     "metadata": {},
     "output_type": "execute_result"
    }
   ],
   "source": [
    "np.isnan(houses_x).sum()"
   ]
  },
  {
   "cell_type": "markdown",
   "id": "b4285cd4-a3e3-420c-806c-7bc14983c770",
   "metadata": {},
   "source": [
    "b. Scale the input using min_max scaling (why do we do this?). Split the data in a train (90%) and test dataset (10%) (why do we do this?)."
   ]
  },
  {
   "cell_type": "code",
   "execution_count": 16,
   "id": "54387d9e-7c82-4772-ba2f-d7aedddf33d5",
   "metadata": {},
   "outputs": [],
   "source": [
    "from sklearn.preprocessing import MinMaxScaler\n",
    "scaler = MinMaxScaler()\n",
    "houses_x_norm = scaler.fit_transform(houses_x)"
   ]
  },
  {
   "cell_type": "code",
   "execution_count": 17,
   "id": "ba5b686e-dc9d-438a-9c76-55b205361e33",
   "metadata": {},
   "outputs": [],
   "source": [
    "from sklearn.model_selection import train_test_split\n",
    "x_train,x_test,y_train,y_test = train_test_split(houses_x_norm,houses_y,test_size=0.1) "
   ]
  },
  {
   "cell_type": "markdown",
   "id": "f907fb3c-ea7e-4661-b89d-78970b482e64",
   "metadata": {},
   "source": [
    "### 2. Define the model\n",
    "\n",
    "Define the input layer with the right number of nodes. For the hidden layers, try out several options yourself. Define the output layer with the right number of nodes and a correct activation function. Print a model summary and compile the model with the Adam optimizer (choose the learning rate yourself), the correct loss function and a well choosen metric. How many parameters (weights and biases) does your model have?"
   ]
  },
  {
   "cell_type": "code",
   "execution_count": 18,
   "id": "2298432a-1143-46ee-99f6-ce3fbb9ca939",
   "metadata": {},
   "outputs": [
    {
     "name": "stdout",
     "output_type": "stream",
     "text": [
      "Model: \"HOUSE\"\n",
      "_________________________________________________________________\n",
      " Layer (type)                Output Shape              Param #   \n",
      "=================================================================\n",
      " input_2 (InputLayer)        [(None, 8)]               0         \n",
      "                                                                 \n",
      " dense_3 (Dense)             (None, 128)               1152      \n",
      "                                                                 \n",
      " dense_4 (Dense)             (None, 64)                8256      \n",
      "                                                                 \n",
      " dense_5 (Dense)             (None, 1)                 65        \n",
      "                                                                 \n",
      "=================================================================\n",
      "Total params: 9473 (37.00 KB)\n",
      "Trainable params: 9473 (37.00 KB)\n",
      "Non-trainable params: 0 (0.00 Byte)\n",
      "_________________________________________________________________\n"
     ]
    }
   ],
   "source": [
    "from tensorflow.keras import Model\n",
    "from tensorflow.keras.layers import Input, Dense\n",
    "from tensorflow.keras.optimizers import Adam\n",
    "# input layer 784 nodes\n",
    "inputs = Input(shape=(8,))\n",
    "# 2 hidden layer\n",
    "x = Dense(128, activation='relu')(inputs)\n",
    "x = Dense(64, activation='relu')(x)\n",
    "# output layer\n",
    "outputs = Dense(1, activation='linear')(x)\n",
    "# construct the model\n",
    "model = Model(inputs, outputs, name='HOUSE')\n",
    "# print a summary\n",
    "model.summary()\n",
    "# compile the model\n",
    "model.compile(\n",
    "    optimizer=Adam(learning_rate=0.001),\n",
    "    loss='mean_squared_error',\n",
    "    metrics=['mean_absolute_percentage_error']\n",
    ")"
   ]
  },
  {
   "cell_type": "markdown",
   "id": "ece99a86-2c7f-498c-abbb-980da1e3f451",
   "metadata": {},
   "source": [
    "### 3. Train the model\n",
    "\n",
    "Train the model with 10% of the training data taken for validation. Choose the number of epochs and the batch_size. Plot the loss function. Do we have overfitting?"
   ]
  },
  {
   "cell_type": "code",
   "execution_count": 19,
   "id": "ac3d34e0-98dd-463b-9890-ab501336f1ba",
   "metadata": {
    "scrolled": true
   },
   "outputs": [
    {
     "name": "stdout",
     "output_type": "stream",
     "text": [
      "Epoch 1/50\n",
      "523/523 [==============================] - 2s 2ms/step - loss: 0.9373 - mean_absolute_percentage_error: 43.0562 - val_loss: 0.6046 - val_mean_absolute_percentage_error: 34.8849\n",
      "Epoch 2/50\n",
      "523/523 [==============================] - 1s 2ms/step - loss: 0.5543 - mean_absolute_percentage_error: 31.8319 - val_loss: 0.5572 - val_mean_absolute_percentage_error: 31.6377\n",
      "Epoch 3/50\n",
      "523/523 [==============================] - 1s 2ms/step - loss: 0.5117 - mean_absolute_percentage_error: 30.0719 - val_loss: 0.5306 - val_mean_absolute_percentage_error: 28.9583\n",
      "Epoch 4/50\n",
      "523/523 [==============================] - 1s 2ms/step - loss: 0.4866 - mean_absolute_percentage_error: 28.9238 - val_loss: 0.5133 - val_mean_absolute_percentage_error: 27.9096\n",
      "Epoch 5/50\n",
      "523/523 [==============================] - 1s 3ms/step - loss: 0.4644 - mean_absolute_percentage_error: 27.9072 - val_loss: 0.4920 - val_mean_absolute_percentage_error: 30.3533\n",
      "Epoch 6/50\n",
      "523/523 [==============================] - 1s 2ms/step - loss: 0.4503 - mean_absolute_percentage_error: 27.1412 - val_loss: 0.4786 - val_mean_absolute_percentage_error: 26.1068\n",
      "Epoch 7/50\n",
      "523/523 [==============================] - 1s 2ms/step - loss: 0.4392 - mean_absolute_percentage_error: 26.4671 - val_loss: 0.4716 - val_mean_absolute_percentage_error: 25.7601\n",
      "Epoch 8/50\n",
      "523/523 [==============================] - 1s 2ms/step - loss: 0.4297 - mean_absolute_percentage_error: 26.0616 - val_loss: 0.4793 - val_mean_absolute_percentage_error: 31.3613\n",
      "Epoch 9/50\n",
      "523/523 [==============================] - 1s 2ms/step - loss: 0.4242 - mean_absolute_percentage_error: 25.7424 - val_loss: 0.4542 - val_mean_absolute_percentage_error: 25.5670\n",
      "Epoch 10/50\n",
      "523/523 [==============================] - 1s 3ms/step - loss: 0.4229 - mean_absolute_percentage_error: 25.6683 - val_loss: 0.4805 - val_mean_absolute_percentage_error: 23.0696\n",
      "Epoch 11/50\n",
      "523/523 [==============================] - 1s 3ms/step - loss: 0.4168 - mean_absolute_percentage_error: 25.3465 - val_loss: 0.4968 - val_mean_absolute_percentage_error: 34.3332\n",
      "Epoch 12/50\n",
      "523/523 [==============================] - 1s 2ms/step - loss: 0.4083 - mean_absolute_percentage_error: 25.0232 - val_loss: 0.4575 - val_mean_absolute_percentage_error: 23.2592\n",
      "Epoch 13/50\n",
      "523/523 [==============================] - 1s 2ms/step - loss: 0.4026 - mean_absolute_percentage_error: 24.8232 - val_loss: 0.4504 - val_mean_absolute_percentage_error: 24.1516\n",
      "Epoch 14/50\n",
      "523/523 [==============================] - 1s 2ms/step - loss: 0.3976 - mean_absolute_percentage_error: 24.4614 - val_loss: 0.4292 - val_mean_absolute_percentage_error: 24.6141\n",
      "Epoch 15/50\n",
      "523/523 [==============================] - 1s 2ms/step - loss: 0.3946 - mean_absolute_percentage_error: 24.4046 - val_loss: 0.4330 - val_mean_absolute_percentage_error: 22.8963\n",
      "Epoch 16/50\n",
      "523/523 [==============================] - 1s 3ms/step - loss: 0.3898 - mean_absolute_percentage_error: 24.2458 - val_loss: 0.4183 - val_mean_absolute_percentage_error: 22.8595\n",
      "Epoch 17/50\n",
      "523/523 [==============================] - 1s 3ms/step - loss: 0.3850 - mean_absolute_percentage_error: 24.0371 - val_loss: 0.4231 - val_mean_absolute_percentage_error: 28.4665\n",
      "Epoch 18/50\n",
      "523/523 [==============================] - 1s 2ms/step - loss: 0.3803 - mean_absolute_percentage_error: 23.8536 - val_loss: 0.4144 - val_mean_absolute_percentage_error: 28.6597\n",
      "Epoch 19/50\n",
      "523/523 [==============================] - 1s 2ms/step - loss: 0.3780 - mean_absolute_percentage_error: 23.7683 - val_loss: 0.4201 - val_mean_absolute_percentage_error: 22.2940\n",
      "Epoch 20/50\n",
      "523/523 [==============================] - 1s 2ms/step - loss: 0.3767 - mean_absolute_percentage_error: 23.6726 - val_loss: 0.4716 - val_mean_absolute_percentage_error: 21.5208\n",
      "Epoch 21/50\n",
      "523/523 [==============================] - 2s 3ms/step - loss: 0.3716 - mean_absolute_percentage_error: 23.4795 - val_loss: 0.4130 - val_mean_absolute_percentage_error: 21.7747\n",
      "Epoch 22/50\n",
      "523/523 [==============================] - 1s 2ms/step - loss: 0.3677 - mean_absolute_percentage_error: 23.3977 - val_loss: 0.3796 - val_mean_absolute_percentage_error: 24.1047\n",
      "Epoch 23/50\n",
      "523/523 [==============================] - 1s 3ms/step - loss: 0.3631 - mean_absolute_percentage_error: 23.2218 - val_loss: 0.3781 - val_mean_absolute_percentage_error: 22.3063\n",
      "Epoch 24/50\n",
      "523/523 [==============================] - 1s 2ms/step - loss: 0.3578 - mean_absolute_percentage_error: 23.0016 - val_loss: 0.3847 - val_mean_absolute_percentage_error: 22.2318\n",
      "Epoch 25/50\n",
      "523/523 [==============================] - 1s 3ms/step - loss: 0.3598 - mean_absolute_percentage_error: 23.0772 - val_loss: 0.3763 - val_mean_absolute_percentage_error: 22.4587\n",
      "Epoch 26/50\n",
      "523/523 [==============================] - 1s 3ms/step - loss: 0.3551 - mean_absolute_percentage_error: 22.9379 - val_loss: 0.3880 - val_mean_absolute_percentage_error: 20.7936\n",
      "Epoch 27/50\n",
      "523/523 [==============================] - 2s 3ms/step - loss: 0.3475 - mean_absolute_percentage_error: 22.6219 - val_loss: 0.3594 - val_mean_absolute_percentage_error: 24.8630\n",
      "Epoch 28/50\n",
      "523/523 [==============================] - 1s 3ms/step - loss: 0.3474 - mean_absolute_percentage_error: 22.6375 - val_loss: 0.3605 - val_mean_absolute_percentage_error: 23.3852\n",
      "Epoch 29/50\n",
      "523/523 [==============================] - 1s 2ms/step - loss: 0.3489 - mean_absolute_percentage_error: 22.8108 - val_loss: 0.3541 - val_mean_absolute_percentage_error: 21.1461\n",
      "Epoch 30/50\n",
      "523/523 [==============================] - 1s 2ms/step - loss: 0.3411 - mean_absolute_percentage_error: 22.3796 - val_loss: 0.3511 - val_mean_absolute_percentage_error: 23.2911\n",
      "Epoch 31/50\n",
      "523/523 [==============================] - 1s 3ms/step - loss: 0.3364 - mean_absolute_percentage_error: 22.2805 - val_loss: 0.3418 - val_mean_absolute_percentage_error: 22.5175\n",
      "Epoch 32/50\n",
      "523/523 [==============================] - 1s 2ms/step - loss: 0.3373 - mean_absolute_percentage_error: 22.1878 - val_loss: 0.3410 - val_mean_absolute_percentage_error: 22.4663\n",
      "Epoch 33/50\n",
      "523/523 [==============================] - 1s 3ms/step - loss: 0.3360 - mean_absolute_percentage_error: 22.1090 - val_loss: 0.3501 - val_mean_absolute_percentage_error: 22.9743\n",
      "Epoch 34/50\n",
      "523/523 [==============================] - 1s 2ms/step - loss: 0.3330 - mean_absolute_percentage_error: 22.0823 - val_loss: 0.3564 - val_mean_absolute_percentage_error: 26.8409\n",
      "Epoch 35/50\n",
      "523/523 [==============================] - 1s 2ms/step - loss: 0.3350 - mean_absolute_percentage_error: 22.2327 - val_loss: 0.3397 - val_mean_absolute_percentage_error: 23.7833\n",
      "Epoch 36/50\n",
      "523/523 [==============================] - 1s 2ms/step - loss: 0.3268 - mean_absolute_percentage_error: 21.8694 - val_loss: 0.3331 - val_mean_absolute_percentage_error: 21.8098\n",
      "Epoch 37/50\n",
      "523/523 [==============================] - 1s 2ms/step - loss: 0.3274 - mean_absolute_percentage_error: 21.8023 - val_loss: 0.3302 - val_mean_absolute_percentage_error: 22.4177\n",
      "Epoch 38/50\n",
      "523/523 [==============================] - 1s 2ms/step - loss: 0.3292 - mean_absolute_percentage_error: 21.9083 - val_loss: 0.3471 - val_mean_absolute_percentage_error: 22.0518\n",
      "Epoch 39/50\n",
      "523/523 [==============================] - 1s 2ms/step - loss: 0.3234 - mean_absolute_percentage_error: 21.7941 - val_loss: 0.3382 - val_mean_absolute_percentage_error: 20.8456\n",
      "Epoch 40/50\n",
      "523/523 [==============================] - 1s 2ms/step - loss: 0.3214 - mean_absolute_percentage_error: 21.6216 - val_loss: 0.3356 - val_mean_absolute_percentage_error: 20.5823\n",
      "Epoch 41/50\n",
      "523/523 [==============================] - 1s 3ms/step - loss: 0.3250 - mean_absolute_percentage_error: 21.7892 - val_loss: 0.3312 - val_mean_absolute_percentage_error: 23.7499\n",
      "Epoch 42/50\n",
      "523/523 [==============================] - 1s 2ms/step - loss: 0.3183 - mean_absolute_percentage_error: 21.5139 - val_loss: 0.3265 - val_mean_absolute_percentage_error: 22.3409\n",
      "Epoch 43/50\n",
      "523/523 [==============================] - 1s 2ms/step - loss: 0.3154 - mean_absolute_percentage_error: 21.4492 - val_loss: 0.3346 - val_mean_absolute_percentage_error: 24.3937\n",
      "Epoch 44/50\n",
      "523/523 [==============================] - 1s 3ms/step - loss: 0.3156 - mean_absolute_percentage_error: 21.4187 - val_loss: 0.3134 - val_mean_absolute_percentage_error: 22.8584\n",
      "Epoch 45/50\n",
      "523/523 [==============================] - 1s 2ms/step - loss: 0.3132 - mean_absolute_percentage_error: 21.3318 - val_loss: 0.3182 - val_mean_absolute_percentage_error: 22.1477\n",
      "Epoch 46/50\n",
      "523/523 [==============================] - 1s 2ms/step - loss: 0.3148 - mean_absolute_percentage_error: 21.4633 - val_loss: 0.3821 - val_mean_absolute_percentage_error: 20.0765\n",
      "Epoch 47/50\n",
      "523/523 [==============================] - 1s 2ms/step - loss: 0.3123 - mean_absolute_percentage_error: 21.2664 - val_loss: 0.3143 - val_mean_absolute_percentage_error: 21.5670\n",
      "Epoch 48/50\n",
      "523/523 [==============================] - 1s 3ms/step - loss: 0.3146 - mean_absolute_percentage_error: 21.3960 - val_loss: 0.3194 - val_mean_absolute_percentage_error: 20.0668\n",
      "Epoch 49/50\n",
      "523/523 [==============================] - 1s 3ms/step - loss: 0.3092 - mean_absolute_percentage_error: 21.1377 - val_loss: 0.3412 - val_mean_absolute_percentage_error: 20.4792\n",
      "Epoch 50/50\n",
      "523/523 [==============================] - 1s 3ms/step - loss: 0.3076 - mean_absolute_percentage_error: 21.1164 - val_loss: 0.3177 - val_mean_absolute_percentage_error: 22.4006\n"
     ]
    },
    {
     "data": {
      "image/png": "[encoded data removed]",
      "text/plain": [
       "<Figure size 640x480 with 1 Axes>"
      ]
     },
     "metadata": {},
     "output_type": "display_data"
    }
   ],
   "source": [
    "from plot_loss import plot_loss\n",
    "# train the model\n",
    "history = model.fit(\n",
    "    x_train, # training input\n",
    "    y_train, # training targets\n",
    "    epochs=50,\n",
    "    batch_size=32,\n",
    "    validation_split=0.1,\n",
    ")\n",
    "# plot loss function\n",
    "plot_loss(history)"
   ]
  },
  {
   "cell_type": "markdown",
   "id": "304e1c08-d354-42b0-8aeb-1d0848234bcc",
   "metadata": {},
   "source": [
    "### 4. Evaluate the model\n",
    "\n",
    "Evaluate the model with the test dataset (why thisone?). What is the accuracy of the model?"
   ]
  },
  {
   "cell_type": "code",
   "execution_count": 20,
   "id": "0dbbb68d-508a-488e-b7cc-a37f6077879f",
   "metadata": {},
   "outputs": [
    {
     "name": "stdout",
     "output_type": "stream",
     "text": [
      "65/65 [==============================] - 0s 1ms/step - loss: 0.3082 - mean_absolute_percentage_error: 21.5524\n"
     ]
    },
    {
     "data": {
      "text/plain": [
       "[0.3082394599914551, 21.552396774291992]"
      ]
     },
     "execution_count": 20,
     "metadata": {},
     "output_type": "execute_result"
    }
   ],
   "source": [
    "model.evaluate(x_test,y_test)"
   ]
  },
  {
   "cell_type": "markdown",
   "id": "8aa472d8-6b6b-4d16-89a3-0629114d902d",
   "metadata": {},
   "source": [
    "### 5. Use the model to predict\n",
    "\n",
    "There is a house on the market with the following values for the features: 3,30,5,1,1500,4,38,-125. Predict the price for this housee. What should be the shape of the predict parameter? Can we feed in the feature values right away? "
   ]
  },
  {
   "cell_type": "code",
   "execution_count": 21,
   "id": "40799e95-6d63-4d35-9aae-589a6f4bf35d",
   "metadata": {},
   "outputs": [
    {
     "name": "stdout",
     "output_type": "stream",
     "text": [
      "1/1 [==============================] - 0s 62ms/step\n",
      "[[5.015411]]\n"
     ]
    }
   ],
   "source": [
    "new_house = [[3,30,5,1,1500,4,38,-125]]  # 2-dimensional!\n",
    "new_house_norm = scaler.transform(new_house)  # no fit!\n",
    "predicted_price = model.predict(new_house_norm)\n",
    "print(predicted_price)"
   ]
  }
 ],
 "metadata": {
  "kernelspec": {
   "display_name": "Python 3 (ipykernel)",
   "language": "python",
   "name": "python3"
  },
  "language_info": {
   "codemirror_mode": {
    "name": "ipython",
    "version": 3
   },
   "file_extension": ".py",
   "mimetype": "text/x-python",
   "name": "python",
   "nbconvert_exporter": "python",
   "pygments_lexer": "ipython3",
   "version": "3.11.7"
  }
 },
 "nbformat": 4,
 "nbformat_minor": 5
}
