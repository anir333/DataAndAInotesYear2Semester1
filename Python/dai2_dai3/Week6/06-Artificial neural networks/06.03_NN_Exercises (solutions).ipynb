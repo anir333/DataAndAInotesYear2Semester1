{
 "cells": [
  {
   "cell_type": "markdown",
   "id": "01488c7d-3df5-48cc-b1d2-a429a28445b1",
   "metadata": {},
   "source": [
    "# Neural Networks - Exercises"
   ]
  },
  {
   "cell_type": "markdown",
   "id": "08a7d0d5-49ff-4da9-95ad-18ecab7d6c29",
   "metadata": {},
   "source": [
    "## EXERCISE 1\n",
    "\n",
    "A very small NN has an input layer with 2 nodes and an output layer with 1 node. The are no hidden nodes. Calculate the feedforward pass if the input is [1, 1] the weights are [0.3, -0.1] and the bias is -0.7. The activation function used by the output layer is `sigmoid`. Use numpy arrays and the python `math` module to calculate the output the integration and activation function of the output node. Which of the 2 inputs has the biggest influence one the output?"
   ]
  },
  {
   "cell_type": "code",
   "execution_count": 1,
   "id": "61fbc82b-fc6f-4186-94ce-12eb76c8f955",
   "metadata": {},
   "outputs": [
    {
     "name": "stdout",
     "output_type": "stream",
     "text": [
      "-0.5 0.3775406687981454\n"
     ]
    }
   ],
   "source": [
    "import numpy as np\n",
    "import math\n",
    "\n",
    "input = np.array([1, 1])\n",
    "weights = np.array([0.3, -0.1])\n",
    "bias = -0.7\n",
    "\n",
    "#integration = 1 * 0.3 + 1 * (-0.1) - 0.7\n",
    "integration = np.sum(input * weights) + bias\n",
    "\n",
    "# Biggest influence: 1st\n",
    "\n",
    "# activation = sigmoid\n",
    "activation = 1 / (1 + math.exp(-integration))\n",
    "\n",
    "print(integration, activation)"
   ]
  },
  {
   "cell_type": "markdown",
   "id": "f7e03e78-0a81-4089-a355-64d6e4150e1b",
   "metadata": {},
   "source": [
    "## EXERCISE 2\n",
    "\n",
    "The goal is to predict the quality class of wine, based on features that come from a chemical analysis of the wine."
   ]
  },
  {
   "cell_type": "code",
   "execution_count": 2,
   "id": "56f8914c-cfd4-411c-8bce-c9005d3cbee2",
   "metadata": {},
   "outputs": [
    {
     "data": {
      "text/plain": [
       "'.. _wine_dataset:\\n\\nWine recognition dataset\\n------------------------\\n\\n**Data Set Characteristics:**\\n\\n:Number of Instances: 178\\n:Number of Attributes: 13 numeric, predictive attributes and the class\\n:Attribute Information:\\n    - Alcohol\\n    - Malic acid\\n    - Ash\\n    - Alcalinity of ash\\n    - Magnesium\\n    - Total phenols\\n    - Flavanoids\\n    - Nonflavanoid phenols\\n    - Proanthocyanins\\n    - Color intensity\\n    - Hue\\n    - OD280/OD315 of diluted wines\\n    - Proline\\n    - class:\\n        - class_0\\n        - class_1\\n        - class_2\\n\\n:Summary Statistics:\\n\\n============================= ==== ===== ======= =====\\n                                Min   Max   Mean     SD\\n============================= ==== ===== ======= =====\\nAlcohol:                      11.0  14.8    13.0   0.8\\nMalic Acid:                   0.74  5.80    2.34  1.12\\nAsh:                          1.36  3.23    2.36  0.27\\nAlcalinity of Ash:            10.6  30.0    19.5   3.3\\nMagnesium:                    70.0 162.0    99.7  14.3\\nTotal Phenols:                0.98  3.88    2.29  0.63\\nFlavanoids:                   0.34  5.08    2.03  1.00\\nNonflavanoid Phenols:         0.13  0.66    0.36  0.12\\nProanthocyanins:              0.41  3.58    1.59  0.57\\nColour Intensity:              1.3  13.0     5.1   2.3\\nHue:                          0.48  1.71    0.96  0.23\\nOD280/OD315 of diluted wines: 1.27  4.00    2.61  0.71\\nProline:                       278  1680     746   315\\n============================= ==== ===== ======= =====\\n\\n:Missing Attribute Values: None\\n:Class Distribution: class_0 (59), class_1 (71), class_2 (48)\\n:Creator: R.A. Fisher\\n:Donor: Michael Marshall (MARSHALL%PLU@io.arc.nasa.gov)\\n:Date: July, 1988\\n\\nThis is a copy of UCI ML Wine recognition datasets.\\nhttps://archive.ics.uci.edu/ml/machine-learning-databases/wine/wine.data\\n\\nThe data is the results of a chemical analysis of wines grown in the same\\nregion in Italy by three different cultivators. There are thirteen different\\nmeasurements taken for different constituents found in the three types of\\nwine.\\n\\nOriginal Owners:\\n\\nForina, M. et al, PARVUS -\\nAn Extendible Package for Data Exploration, Classification and Correlation.\\nInstitute of Pharmaceutical and Food Analysis and Technologies,\\nVia Brigata Salerno, 16147 Genoa, Italy.\\n\\nCitation:\\n\\nLichman, M. (2013). UCI Machine Learning Repository\\n[https://archive.ics.uci.edu/ml]. Irvine, CA: University of California,\\nSchool of Information and Computer Science.\\n\\n|details-start|\\n**References**\\n|details-split|\\n\\n(1) S. Aeberhard, D. Coomans and O. de Vel,\\nComparison of Classifiers in High Dimensional Settings,\\nTech. Rep. no. 92-02, (1992), Dept. of Computer Science and Dept. of\\nMathematics and Statistics, James Cook University of North Queensland.\\n(Also submitted to Technometrics).\\n\\nThe data was used with many others for comparing various\\nclassifiers. The classes are separable, though only RDA\\nhas achieved 100% correct classification.\\n(RDA : 100%, QDA 99.4%, LDA 98.9%, 1NN 96.1% (z-transformed data))\\n(All results using the leave-one-out technique)\\n\\n(2) S. Aeberhard, D. Coomans and O. de Vel,\\n\"THE CLASSIFICATION PERFORMANCE OF RDA\"\\nTech. Rep. no. 92-01, (1992), Dept. of Computer Science and Dept. of\\nMathematics and Statistics, James Cook University of North Queensland.\\n(Also submitted to Journal of Chemometrics).\\n\\n|details-end|\\n'"
      ]
     },
     "execution_count": 2,
     "metadata": {},
     "output_type": "execute_result"
    }
   ],
   "source": [
    "import numpy as np\n",
    "from sklearn.datasets import load_wine\n",
    "wine_x = load_wine().data\n",
    "wine_y = load_wine().target\n",
    "load_wine().DESCR"
   ]
  },
  {
   "cell_type": "markdown",
   "id": "06e6bb88-14ad-4bf9-abd8-b87c2a089b67",
   "metadata": {},
   "source": [
    "### 1. Data preparation"
   ]
  },
  {
   "cell_type": "markdown",
   "id": "efea3d3c-059a-406c-a6fb-b36b0efd59f3",
   "metadata": {},
   "source": [
    "a. Print the shapes of wine_x and wine_y. How many wines do we have? How many featues do we have? Check whether there NaN values. How many quality classes do we have?"
   ]
  },
  {
   "cell_type": "code",
   "execution_count": 3,
   "id": "4c96a982-6572-4f87-aa80-56d5b5c70006",
   "metadata": {},
   "outputs": [
    {
     "name": "stdout",
     "output_type": "stream",
     "text": [
      "(178, 13)\n",
      "(178,)\n"
     ]
    }
   ],
   "source": [
    "print(wine_x.shape)\n",
    "print(wine_y.shape)"
   ]
  },
  {
   "cell_type": "code",
   "execution_count": 4,
   "id": "01b5168f-7ddc-47d8-b71e-d9e8d535080e",
   "metadata": {},
   "outputs": [
    {
     "data": {
      "text/plain": [
       "0"
      ]
     },
     "execution_count": 4,
     "metadata": {},
     "output_type": "execute_result"
    }
   ],
   "source": [
    "np.isnan(wine_x).sum()"
   ]
  },
  {
   "cell_type": "code",
   "execution_count": 5,
   "id": "30816d2f-8605-4974-8376-f442500bffb9",
   "metadata": {},
   "outputs": [
    {
     "data": {
      "text/plain": [
       "array([0, 1, 2])"
      ]
     },
     "execution_count": 5,
     "metadata": {},
     "output_type": "execute_result"
    }
   ],
   "source": [
    "np.unique(wine_y)"
   ]
  },
  {
   "cell_type": "markdown",
   "id": "b58cf035-e1c3-4c0c-ad79-4cf81f30acb4",
   "metadata": {},
   "source": [
    "b. Scale the input using min_max scaling (why do we do this?). Split the data in a train (85%) and test dataset (15%) (why do we do this?). Put the output in the right format. What is the name of the format?"
   ]
  },
  {
   "cell_type": "code",
   "execution_count": 6,
   "id": "ea587909-74b9-4a21-8fcd-b3f56abb7ab5",
   "metadata": {},
   "outputs": [],
   "source": [
    "from sklearn.preprocessing import MinMaxScaler\n",
    "scaler = MinMaxScaler()\n",
    "wine_x_norm = scaler.fit_transform(wine_x)"
   ]
  },
  {
   "cell_type": "code",
   "execution_count": 7,
   "id": "1749cda5-b078-4cc5-9085-27e762f9c7cd",
   "metadata": {},
   "outputs": [],
   "source": [
    "from sklearn.model_selection import train_test_split\n",
    "x_train,x_test,y_train,y_test = train_test_split(wine_x_norm,wine_y,test_size=0.15) "
   ]
  },
  {
   "cell_type": "code",
   "execution_count": 8,
   "id": "147552cc-42e0-4e76-8e9c-ee491f903cb6",
   "metadata": {},
   "outputs": [
    {
     "name": "stdout",
     "output_type": "stream",
     "text": [
      "WARNING:tensorflow:From C:\\Users\\depaepeg\\OneDrive - KdG\\Cursussen\\04. Data Science 2\\Py\\pyvenv\\Lib\\site-packages\\keras\\src\\losses.py:2976: The name tf.losses.sparse_softmax_cross_entropy is deprecated. Please use tf.compat.v1.losses.sparse_softmax_cross_entropy instead.\n",
      "\n",
      "(151, 3)\n"
     ]
    }
   ],
   "source": [
    "from tensorflow.keras.utils import to_categorical\n",
    "# one-hot encoding for output\n",
    "y_train_onehot = to_categorical(y_train)\n",
    "y_test_onehot = to_categorical(y_test)\n",
    "print(y_train_onehot.shape)"
   ]
  },
  {
   "cell_type": "markdown",
   "id": "725e94a3-9828-4e15-bd3c-caf98f3e1f1c",
   "metadata": {},
   "source": [
    "### 2. Define the model\n",
    "\n",
    "Define the input layer with the right number of nodes. For the hidden layers, try out several options yourself. Define the output layer with the right number of nodes and a correct activation function. Print a model summary and compile the model with the Adam optimizer (choose the learning rate yourself), the correct loss function and a well choosen metric."
   ]
  },
  {
   "cell_type": "code",
   "execution_count": 9,
   "id": "f94e67e6-6399-4e5a-b14b-8f497d427b86",
   "metadata": {},
   "outputs": [
    {
     "name": "stdout",
     "output_type": "stream",
     "text": [
      "WARNING:tensorflow:From C:\\Users\\depaepeg\\OneDrive - KdG\\Cursussen\\04. Data Science 2\\Py\\pyvenv\\Lib\\site-packages\\keras\\src\\backend.py:1398: The name tf.executing_eagerly_outside_functions is deprecated. Please use tf.compat.v1.executing_eagerly_outside_functions instead.\n",
      "\n",
      "Model: \"WINE\"\n",
      "_________________________________________________________________\n",
      " Layer (type)                Output Shape              Param #   \n",
      "=================================================================\n",
      " input_1 (InputLayer)        [(None, 13)]              0         \n",
      "                                                                 \n",
      " dense (Dense)               (None, 128)               1792      \n",
      "                                                                 \n",
      " dense_1 (Dense)             (None, 64)                8256      \n",
      "                                                                 \n",
      " dense_2 (Dense)             (None, 3)                 195       \n",
      "                                                                 \n",
      "=================================================================\n",
      "Total params: 10243 (40.01 KB)\n",
      "Trainable params: 10243 (40.01 KB)\n",
      "Non-trainable params: 0 (0.00 Byte)\n",
      "_________________________________________________________________\n"
     ]
    }
   ],
   "source": [
    "from tensorflow.keras import Model\n",
    "from tensorflow.keras.layers import Input, Dense\n",
    "from tensorflow.keras.optimizers import Adam\n",
    "# input layer 784 nodes\n",
    "inputs = Input(shape=(13,))\n",
    "# 2 hidden layer\n",
    "x = Dense(128, activation='relu')(inputs)\n",
    "x = Dense(64, activation='relu')(x)\n",
    "# output layer\n",
    "outputs = Dense(3, activation='softmax')(x)\n",
    "# construct the model\n",
    "model = Model(inputs, outputs, name='WINE')\n",
    "# print a summary\n",
    "model.summary()\n",
    "# compile the model\n",
    "model.compile(\n",
    "    optimizer=Adam(learning_rate=0.001),\n",
    "    loss='categorical_crossentropy',\n",
    "    metrics=['accuracy']\n",
    ")"
   ]
  },
  {
   "cell_type": "markdown",
   "id": "9f705e7f-2dae-4cb0-819f-65e612aedea8",
   "metadata": {},
   "source": [
    "### 3. Train the model\n",
    "\n",
    "Train the model with 10% of the training data taken for validation. Choose the number of epochs and the batch_size. Plot the loss function. Do we have overfitting?"
   ]
  },
  {
   "cell_type": "code",
   "execution_count": 10,
   "id": "de076a77-26e5-41a8-83ac-4f64ae1f79aa",
   "metadata": {
    "scrolled": true
   },
   "outputs": [
    {
     "name": "stdout",
     "output_type": "stream",
     "text": [
      "Epoch 1/100\n",
      "WARNING:tensorflow:From C:\\Users\\depaepeg\\OneDrive - KdG\\Cursussen\\04. Data Science 2\\Py\\pyvenv\\Lib\\site-packages\\keras\\src\\utils\\tf_utils.py:492: The name tf.ragged.RaggedTensorValue is deprecated. Please use tf.compat.v1.ragged.RaggedTensorValue instead.\n",
      "\n",
      "WARNING:tensorflow:From C:\\Users\\depaepeg\\OneDrive - KdG\\Cursussen\\04. Data Science 2\\Py\\pyvenv\\Lib\\site-packages\\keras\\src\\engine\\base_layer_utils.py:384: The name tf.executing_eagerly_outside_functions is deprecated. Please use tf.compat.v1.executing_eagerly_outside_functions instead.\n",
      "\n",
      "5/5 [==============================] - 1s 59ms/step - loss: 1.0235 - accuracy: 0.4000 - val_loss: 0.9579 - val_accuracy: 0.5000\n",
      "Epoch 2/100\n",
      "5/5 [==============================] - 0s 11ms/step - loss: 0.9336 - accuracy: 0.7630 - val_loss: 0.9017 - val_accuracy: 0.9375\n",
      "Epoch 3/100\n",
      "5/5 [==============================] - 0s 8ms/step - loss: 0.8645 - accuracy: 0.9185 - val_loss: 0.8405 - val_accuracy: 1.0000\n",
      "Epoch 4/100\n",
      "5/5 [==============================] - 0s 8ms/step - loss: 0.7982 - accuracy: 0.9333 - val_loss: 0.7745 - val_accuracy: 1.0000\n",
      "Epoch 5/100\n",
      "5/5 [==============================] - 0s 12ms/step - loss: 0.7274 - accuracy: 0.9481 - val_loss: 0.7076 - val_accuracy: 0.9375\n",
      "Epoch 6/100\n",
      "5/5 [==============================] - 0s 12ms/step - loss: 0.6603 - accuracy: 0.9407 - val_loss: 0.6399 - val_accuracy: 0.9375\n",
      "Epoch 7/100\n",
      "5/5 [==============================] - 0s 16ms/step - loss: 0.5979 - accuracy: 0.9185 - val_loss: 0.5735 - val_accuracy: 0.9375\n",
      "Epoch 8/100\n",
      "5/5 [==============================] - 0s 16ms/step - loss: 0.5315 - accuracy: 0.9481 - val_loss: 0.5214 - val_accuracy: 0.9375\n",
      "Epoch 9/100\n",
      "5/5 [==============================] - 0s 16ms/step - loss: 0.4818 - accuracy: 0.9333 - val_loss: 0.4743 - val_accuracy: 0.9375\n",
      "Epoch 10/100\n",
      "5/5 [==============================] - 0s 16ms/step - loss: 0.4248 - accuracy: 0.9481 - val_loss: 0.4073 - val_accuracy: 0.9375\n",
      "Epoch 11/100\n",
      "5/5 [==============================] - 0s 12ms/step - loss: 0.3750 - accuracy: 0.9630 - val_loss: 0.3532 - val_accuracy: 1.0000\n",
      "Epoch 12/100\n",
      "5/5 [==============================] - 0s 9ms/step - loss: 0.3398 - accuracy: 0.9481 - val_loss: 0.3053 - val_accuracy: 1.0000\n",
      "Epoch 13/100\n",
      "5/5 [==============================] - 0s 8ms/step - loss: 0.2950 - accuracy: 0.9556 - val_loss: 0.2711 - val_accuracy: 0.9375\n",
      "Epoch 14/100\n",
      "5/5 [==============================] - 0s 16ms/step - loss: 0.2604 - accuracy: 0.9630 - val_loss: 0.2372 - val_accuracy: 1.0000\n",
      "Epoch 15/100\n",
      "5/5 [==============================] - 0s 12ms/step - loss: 0.2341 - accuracy: 0.9778 - val_loss: 0.2052 - val_accuracy: 1.0000\n",
      "Epoch 16/100\n",
      "5/5 [==============================] - 0s 16ms/step - loss: 0.2070 - accuracy: 0.9704 - val_loss: 0.1884 - val_accuracy: 0.9375\n",
      "Epoch 17/100\n",
      "5/5 [==============================] - 0s 16ms/step - loss: 0.1880 - accuracy: 0.9704 - val_loss: 0.1859 - val_accuracy: 0.9375\n",
      "Epoch 18/100\n",
      "5/5 [==============================] - 0s 20ms/step - loss: 0.1797 - accuracy: 0.9556 - val_loss: 0.1637 - val_accuracy: 0.9375\n",
      "Epoch 19/100\n",
      "5/5 [==============================] - 0s 16ms/step - loss: 0.1599 - accuracy: 0.9778 - val_loss: 0.1455 - val_accuracy: 0.9375\n",
      "Epoch 20/100\n",
      "5/5 [==============================] - 0s 13ms/step - loss: 0.1462 - accuracy: 0.9778 - val_loss: 0.1314 - val_accuracy: 1.0000\n",
      "Epoch 21/100\n",
      "5/5 [==============================] - 0s 15ms/step - loss: 0.1327 - accuracy: 0.9852 - val_loss: 0.1239 - val_accuracy: 1.0000\n",
      "Epoch 22/100\n",
      "5/5 [==============================] - 0s 8ms/step - loss: 0.1235 - accuracy: 0.9852 - val_loss: 0.1173 - val_accuracy: 1.0000\n",
      "Epoch 23/100\n",
      "5/5 [==============================] - 0s 16ms/step - loss: 0.1138 - accuracy: 0.9926 - val_loss: 0.1080 - val_accuracy: 1.0000\n",
      "Epoch 24/100\n",
      "5/5 [==============================] - 0s 16ms/step - loss: 0.1051 - accuracy: 0.9926 - val_loss: 0.1053 - val_accuracy: 1.0000\n",
      "Epoch 25/100\n",
      "5/5 [==============================] - 0s 16ms/step - loss: 0.0983 - accuracy: 0.9852 - val_loss: 0.1056 - val_accuracy: 0.9375\n",
      "Epoch 26/100\n",
      "5/5 [==============================] - 0s 16ms/step - loss: 0.0940 - accuracy: 0.9778 - val_loss: 0.1047 - val_accuracy: 0.9375\n",
      "Epoch 27/100\n",
      "5/5 [==============================] - 0s 12ms/step - loss: 0.0864 - accuracy: 0.9852 - val_loss: 0.0896 - val_accuracy: 1.0000\n",
      "Epoch 28/100\n",
      "5/5 [==============================] - 0s 12ms/step - loss: 0.0821 - accuracy: 0.9926 - val_loss: 0.0840 - val_accuracy: 1.0000\n",
      "Epoch 29/100\n",
      "5/5 [==============================] - 0s 12ms/step - loss: 0.0774 - accuracy: 0.9926 - val_loss: 0.0868 - val_accuracy: 1.0000\n",
      "Epoch 30/100\n",
      "5/5 [==============================] - 0s 12ms/step - loss: 0.0752 - accuracy: 0.9778 - val_loss: 0.1060 - val_accuracy: 0.9375\n",
      "Epoch 31/100\n",
      "5/5 [==============================] - 0s 20ms/step - loss: 0.0719 - accuracy: 0.9926 - val_loss: 0.0841 - val_accuracy: 1.0000\n",
      "Epoch 32/100\n",
      "5/5 [==============================] - 0s 12ms/step - loss: 0.0650 - accuracy: 0.9926 - val_loss: 0.0736 - val_accuracy: 1.0000\n",
      "Epoch 33/100\n",
      "5/5 [==============================] - 0s 7ms/step - loss: 0.0628 - accuracy: 0.9926 - val_loss: 0.0804 - val_accuracy: 1.0000\n",
      "Epoch 34/100\n",
      "5/5 [==============================] - 0s 16ms/step - loss: 0.0612 - accuracy: 0.9926 - val_loss: 0.1123 - val_accuracy: 0.9375\n",
      "Epoch 35/100\n",
      "5/5 [==============================] - 0s 16ms/step - loss: 0.0706 - accuracy: 0.9852 - val_loss: 0.0867 - val_accuracy: 0.9375\n",
      "Epoch 36/100\n",
      "5/5 [==============================] - 0s 17ms/step - loss: 0.0541 - accuracy: 0.9926 - val_loss: 0.0658 - val_accuracy: 1.0000\n",
      "Epoch 37/100\n",
      "5/5 [==============================] - 0s 20ms/step - loss: 0.0569 - accuracy: 0.9926 - val_loss: 0.0675 - val_accuracy: 1.0000\n",
      "Epoch 38/100\n",
      "5/5 [==============================] - 0s 16ms/step - loss: 0.0476 - accuracy: 0.9926 - val_loss: 0.0855 - val_accuracy: 0.9375\n",
      "Epoch 39/100\n",
      "5/5 [==============================] - 0s 12ms/step - loss: 0.0506 - accuracy: 1.0000 - val_loss: 0.0833 - val_accuracy: 0.9375\n",
      "Epoch 40/100\n",
      "5/5 [==============================] - 0s 12ms/step - loss: 0.0420 - accuracy: 1.0000 - val_loss: 0.0641 - val_accuracy: 1.0000\n",
      "Epoch 41/100\n",
      "5/5 [==============================] - 0s 12ms/step - loss: 0.0441 - accuracy: 0.9926 - val_loss: 0.0625 - val_accuracy: 1.0000\n",
      "Epoch 42/100\n",
      "5/5 [==============================] - 0s 16ms/step - loss: 0.0412 - accuracy: 0.9926 - val_loss: 0.0678 - val_accuracy: 1.0000\n",
      "Epoch 43/100\n",
      "5/5 [==============================] - 0s 16ms/step - loss: 0.0374 - accuracy: 1.0000 - val_loss: 0.0761 - val_accuracy: 0.9375\n",
      "Epoch 44/100\n",
      "5/5 [==============================] - 0s 12ms/step - loss: 0.0380 - accuracy: 1.0000 - val_loss: 0.0758 - val_accuracy: 0.9375\n",
      "Epoch 45/100\n",
      "5/5 [==============================] - 0s 16ms/step - loss: 0.0365 - accuracy: 0.9926 - val_loss: 0.0651 - val_accuracy: 1.0000\n",
      "Epoch 46/100\n",
      "5/5 [==============================] - 0s 12ms/step - loss: 0.0367 - accuracy: 0.9926 - val_loss: 0.0688 - val_accuracy: 0.9375\n",
      "Epoch 47/100\n",
      "5/5 [==============================] - 0s 16ms/step - loss: 0.0324 - accuracy: 1.0000 - val_loss: 0.0766 - val_accuracy: 0.9375\n",
      "Epoch 48/100\n",
      "5/5 [==============================] - 0s 23ms/step - loss: 0.0328 - accuracy: 1.0000 - val_loss: 0.0898 - val_accuracy: 0.9375\n",
      "Epoch 49/100\n",
      "5/5 [==============================] - 0s 14ms/step - loss: 0.0317 - accuracy: 1.0000 - val_loss: 0.0735 - val_accuracy: 0.9375\n",
      "Epoch 50/100\n",
      "5/5 [==============================] - 0s 16ms/step - loss: 0.0285 - accuracy: 1.0000 - val_loss: 0.0668 - val_accuracy: 0.9375\n",
      "Epoch 51/100\n",
      "5/5 [==============================] - 0s 17ms/step - loss: 0.0285 - accuracy: 1.0000 - val_loss: 0.0659 - val_accuracy: 0.9375\n",
      "Epoch 52/100\n",
      "5/5 [==============================] - 0s 15ms/step - loss: 0.0269 - accuracy: 1.0000 - val_loss: 0.0732 - val_accuracy: 0.9375\n",
      "Epoch 53/100\n",
      "5/5 [==============================] - 0s 16ms/step - loss: 0.0266 - accuracy: 1.0000 - val_loss: 0.0929 - val_accuracy: 0.9375\n",
      "Epoch 54/100\n",
      "5/5 [==============================] - 0s 16ms/step - loss: 0.0282 - accuracy: 1.0000 - val_loss: 0.0786 - val_accuracy: 0.9375\n",
      "Epoch 55/100\n",
      "5/5 [==============================] - 0s 15ms/step - loss: 0.0242 - accuracy: 1.0000 - val_loss: 0.0654 - val_accuracy: 1.0000\n",
      "Epoch 56/100\n",
      "5/5 [==============================] - 0s 12ms/step - loss: 0.0232 - accuracy: 1.0000 - val_loss: 0.0652 - val_accuracy: 0.9375\n",
      "Epoch 57/100\n",
      "5/5 [==============================] - 0s 19ms/step - loss: 0.0222 - accuracy: 1.0000 - val_loss: 0.0692 - val_accuracy: 0.9375\n",
      "Epoch 58/100\n",
      "5/5 [==============================] - 0s 16ms/step - loss: 0.0216 - accuracy: 1.0000 - val_loss: 0.0768 - val_accuracy: 0.9375\n",
      "Epoch 59/100\n",
      "5/5 [==============================] - 0s 12ms/step - loss: 0.0211 - accuracy: 1.0000 - val_loss: 0.0792 - val_accuracy: 0.9375\n",
      "Epoch 60/100\n",
      "5/5 [==============================] - 0s 16ms/step - loss: 0.0200 - accuracy: 1.0000 - val_loss: 0.0770 - val_accuracy: 0.9375\n",
      "Epoch 61/100\n",
      "5/5 [==============================] - 0s 16ms/step - loss: 0.0197 - accuracy: 1.0000 - val_loss: 0.0719 - val_accuracy: 0.9375\n",
      "Epoch 62/100\n",
      "5/5 [==============================] - 0s 8ms/step - loss: 0.0189 - accuracy: 1.0000 - val_loss: 0.0731 - val_accuracy: 0.9375\n",
      "Epoch 63/100\n",
      "5/5 [==============================] - 0s 12ms/step - loss: 0.0181 - accuracy: 1.0000 - val_loss: 0.0788 - val_accuracy: 0.9375\n",
      "Epoch 64/100\n",
      "5/5 [==============================] - 0s 9ms/step - loss: 0.0179 - accuracy: 1.0000 - val_loss: 0.0733 - val_accuracy: 0.9375\n",
      "Epoch 65/100\n",
      "5/5 [==============================] - 0s 8ms/step - loss: 0.0173 - accuracy: 1.0000 - val_loss: 0.0629 - val_accuracy: 0.9375\n",
      "Epoch 66/100\n",
      "5/5 [==============================] - 0s 12ms/step - loss: 0.0172 - accuracy: 1.0000 - val_loss: 0.0684 - val_accuracy: 0.9375\n",
      "Epoch 67/100\n",
      "5/5 [==============================] - 0s 9ms/step - loss: 0.0160 - accuracy: 1.0000 - val_loss: 0.0718 - val_accuracy: 0.9375\n",
      "Epoch 68/100\n",
      "5/5 [==============================] - 0s 12ms/step - loss: 0.0156 - accuracy: 1.0000 - val_loss: 0.0755 - val_accuracy: 0.9375\n",
      "Epoch 69/100\n",
      "5/5 [==============================] - 0s 12ms/step - loss: 0.0157 - accuracy: 1.0000 - val_loss: 0.0668 - val_accuracy: 0.9375\n",
      "Epoch 70/100\n",
      "5/5 [==============================] - 0s 12ms/step - loss: 0.0144 - accuracy: 1.0000 - val_loss: 0.0760 - val_accuracy: 0.9375\n",
      "Epoch 71/100\n",
      "5/5 [==============================] - 0s 12ms/step - loss: 0.0151 - accuracy: 1.0000 - val_loss: 0.0755 - val_accuracy: 0.9375\n",
      "Epoch 72/100\n",
      "5/5 [==============================] - 0s 12ms/step - loss: 0.0145 - accuracy: 1.0000 - val_loss: 0.0607 - val_accuracy: 0.9375\n",
      "Epoch 73/100\n",
      "5/5 [==============================] - 0s 16ms/step - loss: 0.0142 - accuracy: 1.0000 - val_loss: 0.0570 - val_accuracy: 1.0000\n",
      "Epoch 74/100\n",
      "5/5 [==============================] - 0s 16ms/step - loss: 0.0138 - accuracy: 1.0000 - val_loss: 0.0639 - val_accuracy: 0.9375\n",
      "Epoch 75/100\n",
      "5/5 [==============================] - 0s 12ms/step - loss: 0.0127 - accuracy: 1.0000 - val_loss: 0.0753 - val_accuracy: 0.9375\n",
      "Epoch 76/100\n",
      "5/5 [==============================] - 0s 12ms/step - loss: 0.0123 - accuracy: 1.0000 - val_loss: 0.0745 - val_accuracy: 0.9375\n",
      "Epoch 77/100\n",
      "5/5 [==============================] - 0s 8ms/step - loss: 0.0116 - accuracy: 1.0000 - val_loss: 0.0566 - val_accuracy: 1.0000\n",
      "Epoch 78/100\n",
      "5/5 [==============================] - 0s 15ms/step - loss: 0.0133 - accuracy: 1.0000 - val_loss: 0.0573 - val_accuracy: 0.9375\n",
      "Epoch 79/100\n",
      "5/5 [==============================] - 0s 17ms/step - loss: 0.0124 - accuracy: 1.0000 - val_loss: 0.0656 - val_accuracy: 0.9375\n",
      "Epoch 80/100\n",
      "5/5 [==============================] - 0s 16ms/step - loss: 0.0112 - accuracy: 1.0000 - val_loss: 0.0662 - val_accuracy: 0.9375\n",
      "Epoch 81/100\n",
      "5/5 [==============================] - 0s 16ms/step - loss: 0.0109 - accuracy: 1.0000 - val_loss: 0.0740 - val_accuracy: 0.9375\n",
      "Epoch 82/100\n",
      "5/5 [==============================] - 0s 12ms/step - loss: 0.0103 - accuracy: 1.0000 - val_loss: 0.0775 - val_accuracy: 0.9375\n",
      "Epoch 83/100\n",
      "5/5 [==============================] - 0s 12ms/step - loss: 0.0099 - accuracy: 1.0000 - val_loss: 0.0773 - val_accuracy: 0.9375\n",
      "Epoch 84/100\n",
      "5/5 [==============================] - 0s 16ms/step - loss: 0.0097 - accuracy: 1.0000 - val_loss: 0.0783 - val_accuracy: 0.9375\n",
      "Epoch 85/100\n",
      "5/5 [==============================] - 0s 12ms/step - loss: 0.0095 - accuracy: 1.0000 - val_loss: 0.0797 - val_accuracy: 0.9375\n",
      "Epoch 86/100\n",
      "5/5 [==============================] - 0s 12ms/step - loss: 0.0092 - accuracy: 1.0000 - val_loss: 0.0761 - val_accuracy: 0.9375\n",
      "Epoch 87/100\n",
      "5/5 [==============================] - 0s 12ms/step - loss: 0.0095 - accuracy: 1.0000 - val_loss: 0.0713 - val_accuracy: 0.9375\n",
      "Epoch 88/100\n",
      "5/5 [==============================] - 0s 12ms/step - loss: 0.0087 - accuracy: 1.0000 - val_loss: 0.0872 - val_accuracy: 0.9375\n",
      "Epoch 89/100\n",
      "5/5 [==============================] - 0s 12ms/step - loss: 0.0092 - accuracy: 1.0000 - val_loss: 0.1060 - val_accuracy: 0.9375\n",
      "Epoch 90/100\n",
      "5/5 [==============================] - 0s 12ms/step - loss: 0.0095 - accuracy: 1.0000 - val_loss: 0.1046 - val_accuracy: 0.9375\n",
      "Epoch 91/100\n",
      "5/5 [==============================] - 0s 12ms/step - loss: 0.0087 - accuracy: 1.0000 - val_loss: 0.0905 - val_accuracy: 0.9375\n",
      "Epoch 92/100\n",
      "5/5 [==============================] - 0s 16ms/step - loss: 0.0081 - accuracy: 1.0000 - val_loss: 0.0747 - val_accuracy: 0.9375\n",
      "Epoch 93/100\n",
      "5/5 [==============================] - 0s 12ms/step - loss: 0.0081 - accuracy: 1.0000 - val_loss: 0.0757 - val_accuracy: 0.9375\n",
      "Epoch 94/100\n",
      "5/5 [==============================] - 0s 12ms/step - loss: 0.0077 - accuracy: 1.0000 - val_loss: 0.0810 - val_accuracy: 0.9375\n",
      "Epoch 95/100\n",
      "5/5 [==============================] - 0s 12ms/step - loss: 0.0073 - accuracy: 1.0000 - val_loss: 0.0769 - val_accuracy: 0.9375\n",
      "Epoch 96/100\n",
      "5/5 [==============================] - 0s 13ms/step - loss: 0.0076 - accuracy: 1.0000 - val_loss: 0.0817 - val_accuracy: 0.9375\n",
      "Epoch 97/100\n",
      "5/5 [==============================] - 0s 14ms/step - loss: 0.0073 - accuracy: 1.0000 - val_loss: 0.0700 - val_accuracy: 0.9375\n",
      "Epoch 98/100\n",
      "5/5 [==============================] - 0s 8ms/step - loss: 0.0074 - accuracy: 1.0000 - val_loss: 0.0621 - val_accuracy: 0.9375\n",
      "Epoch 99/100\n",
      "5/5 [==============================] - 0s 15ms/step - loss: 0.0078 - accuracy: 1.0000 - val_loss: 0.0692 - val_accuracy: 0.9375\n",
      "Epoch 100/100\n",
      "5/5 [==============================] - 0s 11ms/step - loss: 0.0067 - accuracy: 1.0000 - val_loss: 0.0851 - val_accuracy: 0.9375\n"
     ]
    },
    {
     "data": {
      "image/png": "[encoded data removed]",
      "text/plain": [
       "<Figure size 640x480 with 1 Axes>"
      ]
     },
     "metadata": {},
     "output_type": "display_data"
    }
   ],
   "source": [
    "from plot_loss import plot_loss\n",
    "# train the model\n",
    "history = model.fit(\n",
    "    x_train, # training input\n",
    "    y_train_onehot, # training targets\n",
    "    epochs=100,\n",
    "    batch_size=32,\n",
    "    validation_split=0.1,\n",
    ")\n",
    "# plot loss function\n",
    "plot_loss(history)"
   ]
  },
  {
   "cell_type": "markdown",
   "id": "20968514-22ec-495c-a89e-fcddb3641dfa",
   "metadata": {},
   "source": [
    "### 4. Evaluate the model\n",
    "\n",
    "Evaluate the model with the test dataset (why thisone?). What is the accuracy of the model?"
   ]
  },
  {
   "cell_type": "code",
   "execution_count": 11,
   "id": "643bde3c-055b-4606-9a11-e1d430315e42",
   "metadata": {},
   "outputs": [
    {
     "name": "stdout",
     "output_type": "stream",
     "text": [
      "1/1 [==============================] - 0s 47ms/step - loss: 0.0867 - accuracy: 0.9630\n"
     ]
    },
    {
     "data": {
      "text/plain": [
       "[0.08674301952123642, 0.9629629850387573]"
      ]
     },
     "execution_count": 11,
     "metadata": {},
     "output_type": "execute_result"
    }
   ],
   "source": [
    "model.evaluate(x_test,y_test_onehot)"
   ]
  },
  {
   "cell_type": "markdown",
   "id": "0c8acb73-43fa-42e1-a1b2-d856a6a21ddd",
   "metadata": {},
   "source": [
    "### 5. Use the model to predict\n",
    "\n",
    "There is a new wine with the following characteristics for the features: 12, 6.5, 3, 25, 100, 2.5, 4, 0.5, 2, 8, 1, 3, 500. Predict the quality for this wine. What should be the shape of the predict parameter? Can we feed in the feature values right away? Which quality class is predicted? How sure is the prediction?"
   ]
  },
  {
   "cell_type": "code",
   "execution_count": 12,
   "id": "e4198864-9231-4947-86c7-acb52376a34f",
   "metadata": {
    "jupyter": {
     "source_hidden": true
    }
   },
   "outputs": [
    {
     "name": "stdout",
     "output_type": "stream",
     "text": [
      "1/1 [==============================] - 0s 110ms/step\n",
      "[[3.140069e-02 9.677797e-01 8.196560e-04]]\n"
     ]
    }
   ],
   "source": [
    "new_wine = [[12, 6.5, 3, 25, 100, 2.5, 4, 0.5, 2, 8, 1, 3, 500]]  # 2-dimensional!\n",
    "new_wine_norm = scaler.transform(new_wine)  # no fit!\n",
    "predicted_class = model.predict(new_wine_norm)\n",
    "print(predicted_class)"
   ]
  },
  {
   "cell_type": "markdown",
   "id": "49ee0f00-7911-4489-946e-c288f00d9f57",
   "metadata": {},
   "source": [
    "## EXERCISE 3\n",
    "\n",
    "In this exercise we will predict the house price, based on some characteristics of the house."
   ]
  },
  {
   "cell_type": "code",
   "execution_count": 13,
   "id": "2b7866a5-5f48-465a-8064-8ecff70bbf57",
   "metadata": {},
   "outputs": [
    {
     "data": {
      "text/plain": [
       "'.. _california_housing_dataset:\\n\\nCalifornia Housing dataset\\n--------------------------\\n\\n**Data Set Characteristics:**\\n\\n:Number of Instances: 20640\\n\\n:Number of Attributes: 8 numeric, predictive attributes and the target\\n\\n:Attribute Information:\\n    - MedInc        median income in block group\\n    - HouseAge      median house age in block group\\n    - AveRooms      average number of rooms per household\\n    - AveBedrms     average number of bedrooms per household\\n    - Population    block group population\\n    - AveOccup      average number of household members\\n    - Latitude      block group latitude\\n    - Longitude     block group longitude\\n\\n:Missing Attribute Values: None\\n\\nThis dataset was obtained from the StatLib repository.\\nhttps://www.dcc.fc.up.pt/~ltorgo/Regression/cal_housing.html\\n\\nThe target variable is the median house value for California districts,\\nexpressed in hundreds of thousands of dollars ($100,000).\\n\\nThis dataset was derived from the 1990 U.S. census, using one row per census\\nblock group. A block group is the smallest geographical unit for which the U.S.\\nCensus Bureau publishes sample data (a block group typically has a population\\nof 600 to 3,000 people).\\n\\nA household is a group of people residing within a home. Since the average\\nnumber of rooms and bedrooms in this dataset are provided per household, these\\ncolumns may take surprisingly large values for block groups with few households\\nand many empty houses, such as vacation resorts.\\n\\nIt can be downloaded/loaded using the\\n:func:`sklearn.datasets.fetch_california_housing` function.\\n\\n.. topic:: References\\n\\n    - Pace, R. Kelley and Ronald Barry, Sparse Spatial Autoregressions,\\n      Statistics and Probability Letters, 33 (1997) 291-297\\n'"
      ]
     },
     "execution_count": 13,
     "metadata": {},
     "output_type": "execute_result"
    }
   ],
   "source": [
    "from sklearn.datasets import fetch_california_housing\n",
    "houses_x = fetch_california_housing().data\n",
    "houses_y = fetch_california_housing().target\n",
    "fetch_california_housing().DESCR"
   ]
  },
  {
   "cell_type": "markdown",
   "id": "66a6aac8-8b04-4b7a-b6bc-5694a181d652",
   "metadata": {},
   "source": [
    "### 1. Data preparation"
   ]
  },
  {
   "cell_type": "markdown",
   "id": "32de87a5-6806-4d35-8bd3-7a52869cd471",
   "metadata": {},
   "source": [
    "a. Print the shapes of houses_x and houses_y. How many houses do we have? How many featues do we have? Check whether there NaN values."
   ]
  },
  {
   "cell_type": "code",
   "execution_count": 14,
   "id": "30d6f234-7cd0-4f6b-9d8d-658f242d7f0f",
   "metadata": {},
   "outputs": [
    {
     "name": "stdout",
     "output_type": "stream",
     "text": [
      "(20640, 8)\n",
      "(20640,)\n"
     ]
    }
   ],
   "source": [
    "print(houses_x.shape)\n",
    "print(houses_y.shape)"
   ]
  },
  {
   "cell_type": "code",
   "execution_count": 15,
   "id": "463d5eb4-3095-4c64-95c4-1f47ae7eba39",
   "metadata": {},
   "outputs": [
    {
     "data": {
      "text/plain": [
       "0"
      ]
     },
     "execution_count": 15,
     "metadata": {},
     "output_type": "execute_result"
    }
   ],
   "source": [
    "np.isnan(houses_x).sum()"
   ]
  },
  {
   "cell_type": "markdown",
   "id": "b4285cd4-a3e3-420c-806c-7bc14983c770",
   "metadata": {},
   "source": [
    "b. Scale the input using min_max scaling (why do we do this?). Split the data in a train (90%) and test dataset (10%) (why do we do this?)."
   ]
  },
  {
   "cell_type": "code",
   "execution_count": 16,
   "id": "54387d9e-7c82-4772-ba2f-d7aedddf33d5",
   "metadata": {},
   "outputs": [],
   "source": [
    "from sklearn.preprocessing import MinMaxScaler\n",
    "scaler = MinMaxScaler()\n",
    "houses_x_norm = scaler.fit_transform(houses_x)"
   ]
  },
  {
   "cell_type": "code",
   "execution_count": 17,
   "id": "ba5b686e-dc9d-438a-9c76-55b205361e33",
   "metadata": {},
   "outputs": [],
   "source": [
    "from sklearn.model_selection import train_test_split\n",
    "x_train,x_test,y_train,y_test = train_test_split(houses_x_norm,houses_y,test_size=0.1) "
   ]
  },
  {
   "cell_type": "markdown",
   "id": "f907fb3c-ea7e-4661-b89d-78970b482e64",
   "metadata": {},
   "source": [
    "### 2. Define the model\n",
    "\n",
    "Define the input layer with the right number of nodes. For the hidden layers, try out several options yourself. Define the output layer with the right number of nodes and a correct activation function. Print a model summary and compile the model with the Adam optimizer (choose the learning rate yourself), the correct loss function and a well choosen metric. How many parameters (weights and biases) does your model have?"
   ]
  },
  {
   "cell_type": "code",
   "execution_count": 18,
   "id": "2298432a-1143-46ee-99f6-ce3fbb9ca939",
   "metadata": {},
   "outputs": [
    {
     "name": "stdout",
     "output_type": "stream",
     "text": [
      "Model: \"HOUSE\"\n",
      "_________________________________________________________________\n",
      " Layer (type)                Output Shape              Param #   \n",
      "=================================================================\n",
      " input_2 (InputLayer)        [(None, 8)]               0         \n",
      "                                                                 \n",
      " dense_3 (Dense)             (None, 128)               1152      \n",
      "                                                                 \n",
      " dense_4 (Dense)             (None, 64)                8256      \n",
      "                                                                 \n",
      " dense_5 (Dense)             (None, 1)                 65        \n",
      "                                                                 \n",
      "=================================================================\n",
      "Total params: 9473 (37.00 KB)\n",
      "Trainable params: 9473 (37.00 KB)\n",
      "Non-trainable params: 0 (0.00 Byte)\n",
      "_________________________________________________________________\n"
     ]
    }
   ],
   "source": [
    "from tensorflow.keras import Model\n",
    "from tensorflow.keras.layers import Input, Dense\n",
    "from tensorflow.keras.optimizers import Adam\n",
    "# input layer 784 nodes\n",
    "inputs = Input(shape=(8,))\n",
    "# 2 hidden layer\n",
    "x = Dense(128, activation='relu')(inputs)\n",
    "x = Dense(64, activation='relu')(x)\n",
    "# output layer\n",
    "outputs = Dense(1, activation='linear')(x)\n",
    "# construct the model\n",
    "model = Model(inputs, outputs, name='HOUSE')\n",
    "# print a summary\n",
    "model.summary()\n",
    "# compile the model\n",
    "model.compile(\n",
    "    optimizer=Adam(learning_rate=0.001),\n",
    "    loss='mean_squared_error',\n",
    "    metrics=['mean_absolute_percentage_error']\n",
    ")"
   ]
  },
  {
   "cell_type": "markdown",
   "id": "ece99a86-2c7f-498c-abbb-980da1e3f451",
   "metadata": {},
   "source": [
    "### 3. Train the model\n",
    "\n",
    "Train the model with 10% of the training data taken for validation. Choose the number of epochs and the batch_size. Plot the loss function. Do we have overfitting?"
   ]
  },
  {
   "cell_type": "code",
   "execution_count": 19,
   "id": "ac3d34e0-98dd-463b-9890-ab501336f1ba",
   "metadata": {
    "scrolled": true
   },
   "outputs": [
    {
     "name": "stdout",
     "output_type": "stream",
     "text": [
      "Epoch 1/50\n",
      "523/523 [==============================] - 2s 2ms/step - loss: 0.9373 - mean_absolute_percentage_error: 43.0562 - val_loss: 0.6046 - val_mean_absolute_percentage_error: 34.8849\n",
      "Epoch 2/50\n",
      "523/523 [==============================] - 1s 2ms/step - loss: 0.5543 - mean_absolute_percentage_error: 31.8319 - val_loss: 0.5572 - val_mean_absolute_percentage_error: 31.6377\n",
      "Epoch 3/50\n",
      "523/523 [==============================] - 1s 2ms/step - loss: 0.5117 - mean_absolute_percentage_error: 30.0719 - val_loss: 0.5306 - val_mean_absolute_percentage_error: 28.9583\n",
      "Epoch 4/50\n",
      "523/523 [==============================] - 1s 2ms/step - loss: 0.4866 - mean_absolute_percentage_error: 28.9238 - val_loss: 0.5133 - val_mean_absolute_percentage_error: 27.9096\n",
      "Epoch 5/50\n",
      "523/523 [==============================] - 1s 3ms/step - loss: 0.4644 - mean_absolute_percentage_error: 27.9072 - val_loss: 0.4920 - val_mean_absolute_percentage_error: 30.3533\n",
      "Epoch 6/50\n",
      "523/523 [==============================] - 1s 2ms/step - loss: 0.4503 - mean_absolute_percentage_error: 27.1412 - val_loss: 0.4786 - val_mean_absolute_percentage_error: 26.1068\n",
      "Epoch 7/50\n",
      "523/523 [==============================] - 1s 2ms/step - loss: 0.4392 - mean_absolute_percentage_error: 26.4671 - val_loss: 0.4716 - val_mean_absolute_percentage_error: 25.7601\n",
      "Epoch 8/50\n",
      "523/523 [==============================] - 1s 2ms/step - loss: 0.4297 - mean_absolute_percentage_error: 26.0616 - val_loss: 0.4793 - val_mean_absolute_percentage_error: 31.3613\n",
      "Epoch 9/50\n",
      "523/523 [==============================] - 1s 2ms/step - loss: 0.4242 - mean_absolute_percentage_error: 25.7424 - val_loss: 0.4542 - val_mean_absolute_percentage_error: 25.5670\n",
      "Epoch 10/50\n",
      "523/523 [==============================] - 1s 3ms/step - loss: 0.4229 - mean_absolute_percentage_error: 25.6683 - val_loss: 0.4805 - val_mean_absolute_percentage_error: 23.0696\n",
      "Epoch 11/50\n",
      "523/523 [==============================] - 1s 3ms/step - loss: 0.4168 - mean_absolute_percentage_error: 25.3465 - val_loss: 0.4968 - val_mean_absolute_percentage_error: 34.3332\n",
      "Epoch 12/50\n",
      "523/523 [==============================] - 1s 2ms/step - loss: 0.4083 - mean_absolute_percentage_error: 25.0232 - val_loss: 0.4575 - val_mean_absolute_percentage_error: 23.2592\n",
      "Epoch 13/50\n",
      "523/523 [==============================] - 1s 2ms/step - loss: 0.4026 - mean_absolute_percentage_error: 24.8232 - val_loss: 0.4504 - val_mean_absolute_percentage_error: 24.1516\n",
      "Epoch 14/50\n",
      "523/523 [==============================] - 1s 2ms/step - loss: 0.3976 - mean_absolute_percentage_error: 24.4614 - val_loss: 0.4292 - val_mean_absolute_percentage_error: 24.6141\n",
      "Epoch 15/50\n",
      "523/523 [==============================] - 1s 2ms/step - loss: 0.3946 - mean_absolute_percentage_error: 24.4046 - val_loss: 0.4330 - val_mean_absolute_percentage_error: 22.8963\n",
      "Epoch 16/50\n",
      "523/523 [==============================] - 1s 3ms/step - loss: 0.3898 - mean_absolute_percentage_error: 24.2458 - val_loss: 0.4183 - val_mean_absolute_percentage_error: 22.8595\n",
      "Epoch 17/50\n",
      "523/523 [==============================] - 1s 3ms/step - loss: 0.3850 - mean_absolute_percentage_error: 24.0371 - val_loss: 0.4231 - val_mean_absolute_percentage_error: 28.4665\n",
      "Epoch 18/50\n",
      "523/523 [==============================] - 1s 2ms/step - loss: 0.3803 - mean_absolute_percentage_error: 23.8536 - val_loss: 0.4144 - val_mean_absolute_percentage_error: 28.6597\n",
      "Epoch 19/50\n",
      "523/523 [==============================] - 1s 2ms/step - loss: 0.3780 - mean_absolute_percentage_error: 23.7683 - val_loss: 0.4201 - val_mean_absolute_percentage_error: 22.2940\n",
      "Epoch 20/50\n",
      "523/523 [==============================] - 1s 2ms/step - loss: 0.3767 - mean_absolute_percentage_error: 23.6726 - val_loss: 0.4716 - val_mean_absolute_percentage_error: 21.5208\n",
      "Epoch 21/50\n",
      "523/523 [==============================] - 2s 3ms/step - loss: 0.3716 - mean_absolute_percentage_error: 23.4795 - val_loss: 0.4130 - val_mean_absolute_percentage_error: 21.7747\n",
      "Epoch 22/50\n",
      "523/523 [==============================] - 1s 2ms/step - loss: 0.3677 - mean_absolute_percentage_error: 23.3977 - val_loss: 0.3796 - val_mean_absolute_percentage_error: 24.1047\n",
      "Epoch 23/50\n",
      "523/523 [==============================] - 1s 3ms/step - loss: 0.3631 - mean_absolute_percentage_error: 23.2218 - val_loss: 0.3781 - val_mean_absolute_percentage_error: 22.3063\n",
      "Epoch 24/50\n",
      "523/523 [==============================] - 1s 2ms/step - loss: 0.3578 - mean_absolute_percentage_error: 23.0016 - val_loss: 0.3847 - val_mean_absolute_percentage_error: 22.2318\n",
      "Epoch 25/50\n",
      "523/523 [==============================] - 1s 3ms/step - loss: 0.3598 - mean_absolute_percentage_error: 23.0772 - val_loss: 0.3763 - val_mean_absolute_percentage_error: 22.4587\n",
      "Epoch 26/50\n",
      "523/523 [==============================] - 1s 3ms/step - loss: 0.3551 - mean_absolute_percentage_error: 22.9379 - val_loss: 0.3880 - val_mean_absolute_percentage_error: 20.7936\n",
      "Epoch 27/50\n",
      "523/523 [==============================] - 2s 3ms/step - loss: 0.3475 - mean_absolute_percentage_error: 22.6219 - val_loss: 0.3594 - val_mean_absolute_percentage_error: 24.8630\n",
      "Epoch 28/50\n",
      "523/523 [==============================] - 1s 3ms/step - loss: 0.3474 - mean_absolute_percentage_error: 22.6375 - val_loss: 0.3605 - val_mean_absolute_percentage_error: 23.3852\n",
      "Epoch 29/50\n",
      "523/523 [==============================] - 1s 2ms/step - loss: 0.3489 - mean_absolute_percentage_error: 22.8108 - val_loss: 0.3541 - val_mean_absolute_percentage_error: 21.1461\n",
      "Epoch 30/50\n",
      "523/523 [==============================] - 1s 2ms/step - loss: 0.3411 - mean_absolute_percentage_error: 22.3796 - val_loss: 0.3511 - val_mean_absolute_percentage_error: 23.2911\n",
      "Epoch 31/50\n",
      "523/523 [==============================] - 1s 3ms/step - loss: 0.3364 - mean_absolute_percentage_error: 22.2805 - val_loss: 0.3418 - val_mean_absolute_percentage_error: 22.5175\n",
      "Epoch 32/50\n",
      "523/523 [==============================] - 1s 2ms/step - loss: 0.3373 - mean_absolute_percentage_error: 22.1878 - val_loss: 0.3410 - val_mean_absolute_percentage_error: 22.4663\n",
      "Epoch 33/50\n",
      "523/523 [==============================] - 1s 3ms/step - loss: 0.3360 - mean_absolute_percentage_error: 22.1090 - val_loss: 0.3501 - val_mean_absolute_percentage_error: 22.9743\n",
      "Epoch 34/50\n",
      "523/523 [==============================] - 1s 2ms/step - loss: 0.3330 - mean_absolute_percentage_error: 22.0823 - val_loss: 0.3564 - val_mean_absolute_percentage_error: 26.8409\n",
      "Epoch 35/50\n",
      "523/523 [==============================] - 1s 2ms/step - loss: 0.3350 - mean_absolute_percentage_error: 22.2327 - val_loss: 0.3397 - val_mean_absolute_percentage_error: 23.7833\n",
      "Epoch 36/50\n",
      "523/523 [==============================] - 1s 2ms/step - loss: 0.3268 - mean_absolute_percentage_error: 21.8694 - val_loss: 0.3331 - val_mean_absolute_percentage_error: 21.8098\n",
      "Epoch 37/50\n",
      "523/523 [==============================] - 1s 2ms/step - loss: 0.3274 - mean_absolute_percentage_error: 21.8023 - val_loss: 0.3302 - val_mean_absolute_percentage_error: 22.4177\n",
      "Epoch 38/50\n",
      "523/523 [==============================] - 1s 2ms/step - loss: 0.3292 - mean_absolute_percentage_error: 21.9083 - val_loss: 0.3471 - val_mean_absolute_percentage_error: 22.0518\n",
      "Epoch 39/50\n",
      "523/523 [==============================] - 1s 2ms/step - loss: 0.3234 - mean_absolute_percentage_error: 21.7941 - val_loss: 0.3382 - val_mean_absolute_percentage_error: 20.8456\n",
      "Epoch 40/50\n",
      "523/523 [==============================] - 1s 2ms/step - loss: 0.3214 - mean_absolute_percentage_error: 21.6216 - val_loss: 0.3356 - val_mean_absolute_percentage_error: 20.5823\n",
      "Epoch 41/50\n",
      "523/523 [==============================] - 1s 3ms/step - loss: 0.3250 - mean_absolute_percentage_error: 21.7892 - val_loss: 0.3312 - val_mean_absolute_percentage_error: 23.7499\n",
      "Epoch 42/50\n",
      "523/523 [==============================] - 1s 2ms/step - loss: 0.3183 - mean_absolute_percentage_error: 21.5139 - val_loss: 0.3265 - val_mean_absolute_percentage_error: 22.3409\n",
      "Epoch 43/50\n",
      "523/523 [==============================] - 1s 2ms/step - loss: 0.3154 - mean_absolute_percentage_error: 21.4492 - val_loss: 0.3346 - val_mean_absolute_percentage_error: 24.3937\n",
      "Epoch 44/50\n",
      "523/523 [==============================] - 1s 3ms/step - loss: 0.3156 - mean_absolute_percentage_error: 21.4187 - val_loss: 0.3134 - val_mean_absolute_percentage_error: 22.8584\n",
      "Epoch 45/50\n",
      "523/523 [==============================] - 1s 2ms/step - loss: 0.3132 - mean_absolute_percentage_error: 21.3318 - val_loss: 0.3182 - val_mean_absolute_percentage_error: 22.1477\n",
      "Epoch 46/50\n",
      "523/523 [==============================] - 1s 2ms/step - loss: 0.3148 - mean_absolute_percentage_error: 21.4633 - val_loss: 0.3821 - val_mean_absolute_percentage_error: 20.0765\n",
      "Epoch 47/50\n",
      "523/523 [==============================] - 1s 2ms/step - loss: 0.3123 - mean_absolute_percentage_error: 21.2664 - val_loss: 0.3143 - val_mean_absolute_percentage_error: 21.5670\n",
      "Epoch 48/50\n",
      "523/523 [==============================] - 1s 3ms/step - loss: 0.3146 - mean_absolute_percentage_error: 21.3960 - val_loss: 0.3194 - val_mean_absolute_percentage_error: 20.0668\n",
      "Epoch 49/50\n",
      "523/523 [==============================] - 1s 3ms/step - loss: 0.3092 - mean_absolute_percentage_error: 21.1377 - val_loss: 0.3412 - val_mean_absolute_percentage_error: 20.4792\n",
      "Epoch 50/50\n",
      "523/523 [==============================] - 1s 3ms/step - loss: 0.3076 - mean_absolute_percentage_error: 21.1164 - val_loss: 0.3177 - val_mean_absolute_percentage_error: 22.4006\n"
     ]
    },
    {
     "data": {
      "image/png": "[encoded data removed]",
      "text/plain": [
       "<Figure size 640x480 with 1 Axes>"
      ]
     },
     "metadata": {},
     "output_type": "display_data"
    }
   ],
   "source": [
    "from plot_loss import plot_loss\n",
    "# train the model\n",
    "history = model.fit(\n",
    "    x_train, # training input\n",
    "    y_train, # training targets\n",
    "    epochs=50,\n",
    "    batch_size=32,\n",
    "    validation_split=0.1,\n",
    ")\n",
    "# plot loss function\n",
    "plot_loss(history)"
   ]
  },
  {
   "cell_type": "markdown",
   "id": "304e1c08-d354-42b0-8aeb-1d0848234bcc",
   "metadata": {},
   "source": [
    "### 4. Evaluate the model\n",
    "\n",
    "Evaluate the model with the test dataset (why thisone?). What is the accuracy of the model?"
   ]
  },
  {
   "cell_type": "code",
   "execution_count": 20,
   "id": "0dbbb68d-508a-488e-b7cc-a37f6077879f",
   "metadata": {},
   "outputs": [
    {
     "name": "stdout",
     "output_type": "stream",
     "text": [
      "65/65 [==============================] - 0s 1ms/step - loss: 0.3082 - mean_absolute_percentage_error: 21.5524\n"
     ]
    },
    {
     "data": {
      "text/plain": [
       "[0.3082394599914551, 21.552396774291992]"
      ]
     },
     "execution_count": 20,
     "metadata": {},
     "output_type": "execute_result"
    }
   ],
   "source": [
    "model.evaluate(x_test,y_test)"
   ]
  },
  {
   "cell_type": "markdown",
   "id": "8aa472d8-6b6b-4d16-89a3-0629114d902d",
   "metadata": {},
   "source": [
    "### 5. Use the model to predict\n",
    "\n",
    "There is a house on the market with the following values for the features: 3,30,5,1,1500,4,38,-125. Predict the price for this housee. What should be the shape of the predict parameter? Can we feed in the feature values right away? "
   ]
  },
  {
   "cell_type": "code",
   "execution_count": 21,
   "id": "40799e95-6d63-4d35-9aae-589a6f4bf35d",
   "metadata": {},
   "outputs": [
    {
     "name": "stdout",
     "output_type": "stream",
     "text": [
      "1/1 [==============================] - 0s 62ms/step\n",
      "[[5.015411]]\n"
     ]
    }
   ],
   "source": [
    "new_house = [[3,30,5,1,1500,4,38,-125]]  # 2-dimensional!\n",
    "new_house_norm = scaler.transform(new_house)  # no fit!\n",
    "predicted_price = model.predict(new_house_norm)\n",
    "print(predicted_price)"
   ]
  }
 ],
 "metadata": {
  "kernelspec": {
   "display_name": "Python 3 (ipykernel)",
   "language": "python",
   "name": "python3"
  },
  "language_info": {
   "codemirror_mode": {
    "name": "ipython",
    "version": 3
   },
   "file_extension": ".py",
   "mimetype": "text/x-python",
   "name": "python",
   "nbconvert_exporter": "python",
   "pygments_lexer": "ipython3",
   "version": "3.11.7"
  }
 },
 "nbformat": 4,
 "nbformat_minor": 5
}
